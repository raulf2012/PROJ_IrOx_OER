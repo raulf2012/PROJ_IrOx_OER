{
 "cells": [
  {
   "cell_type": "markdown",
   "metadata": {},
   "source": [
    "# Overview of jupyter notebooks in project\n",
    "---\n",
    "I will compile list of notebooks and check against the script that runs all notebooks. I want to make sure that everything is being run and no notebook is being neglected."
   ]
  },
  {
   "cell_type": "markdown",
   "metadata": {},
   "source": [
    "### Import Modules"
   ]
  },
  {
   "cell_type": "code",
   "execution_count": 1,
   "metadata": {
    "jupyter": {
     "source_hidden": true
    }
   },
   "outputs": [
    {
     "name": "stdout",
     "output_type": "stream",
     "text": [
      "/mnt/f/Dropbox/01_norskov/00_git_repos/PROJ_IrOx_OER/scripts/repo_file_operations\n"
     ]
    }
   ],
   "source": [
    "import os\n",
    "print(os.getcwd())\n",
    "import sys\n",
    "\n",
    "\n",
    "from IPython.display import display\n",
    "\n",
    "import pandas as  pd\n",
    "pd.set_option(\"display.max_columns\", None)\n",
    "pd.set_option('display.max_rows', None)\n",
    "pd.options.display.max_colwidth = 100\n",
    "\n",
    "# #########################################################\n",
    "from jupyter_modules.jupyter_methods import get_df_jupyter_notebooks\n",
    "\n",
    "# #########################################################\n",
    "from local_methods import get_notebooks_run_in__jobs_update\n",
    "from local_methods import get_files_exec_in_run_all\n"
   ]
  },
  {
   "cell_type": "markdown",
   "metadata": {},
   "source": [
    "### Script Inputs"
   ]
  },
  {
   "cell_type": "code",
   "execution_count": 2,
   "metadata": {
    "lines_to_next_cell": 2
   },
   "outputs": [],
   "source": [
    "black_listed_dirs = [\n",
    "    \"sandbox\",\n",
    "    \".virtual_documents\",\n",
    "    ]\n",
    "\n",
    "\n",
    "# These notebooks are not intended to be run periodically, they are one-time use\n",
    "notebooks_to_ignore = [\n",
    "\n",
    "    # Trivial model copies\n",
    "    \"workflow/model_building/predict_mean_of_pop/trivial_models-Copy1.ipynb\",\n",
    "    \"workflow/model_building/predict_mean_of_pop/trivial_models-Copy2.ipynb\",\n",
    "    \"workflow/model_building/predict_mean_of_pop/trivial_models-Copy3.ipynb\",\n",
    "\n",
    "    \"workflow/seoin_irox_data/analyze_dataset/trivial_eff_ox_state_model.ipynb\",\n",
    "    \"workflow/seoin_irox_data/compare_mine_seoin_oer/compare_mine_seoin.ipynb\",\n",
    "    \"workflow/seoin_irox_data/featurize_data/featurize_data.ipynb\",\n",
    "    \"workflow/seoin_irox_data/match_si_and_seoin_data.ipynb\",\n",
    "    \"workflow/seoin_irox_data/plot_data/eff_ox_vs_oer.ipynb\",\n",
    "    \"workflow/seoin_irox_data/process_SI_oer_table.ipynb\",\n",
    "    \"workflow/seoin_irox_data/process_bulk_data/process_bulk.ipynb\",\n",
    "    \"workflow/seoin_irox_data/process_init_final_slabs/process_init_final.ipynb\",\n",
    "    \"workflow/seoin_irox_data/read_seoin_irox_data.ipynb\",\n",
    "\n",
    "    # Only needs to be run manually, will set in motion many downstream jobs\n",
    "    \"dft_workflow/run_slabs/run_o_covered/setup_dft.ipynb\",\n",
    "\n",
    "    # #####################################################\n",
    "    # Slab creation notebooks\n",
    "    \"workflow/creating_slabs/create_slabs.ipynb\",\n",
    "    \"workflow/creating_slabs/creating_symm_slabs/creat_symm_slabs.ipynb\",\n",
    "    \"workflow/creating_slabs/modify_df_slab.ipynb\",\n",
    "    \"workflow/creating_slabs/process_slabs.ipynb\",\n",
    "    \"workflow/creating_slabs/quality_control/slab_size_xy_rep.ipynb\",\n",
    "    \"workflow/creating_slabs/selecting_bulks/select_bulks.ipynb\",\n",
    "    \"workflow/creating_slabs/slab_similarity/slab_similarity.ipynb\",\n",
    "    \"workflow/enumerate_adsorption/get_all_active_sites.ipynb\",\n",
    "    \"workflow/enumerate_adsorption/modify_df_active_sites.ipynb\",\n",
    "    \"workflow/enumerate_adsorption/test_dev_rdf_comp/opt_rdf_comp.ipynb\",\n",
    "    \"workflow/enumerate_adsorption/test_dev_rdf_comp/subtract_rdf_dfs.ipynb\",\n",
    "\n",
    "\n",
    "    # #####################################################\n",
    "    # Some notebooks in job_analysis\n",
    "    \"dft_workflow/job_analysis/id_resource_waste/id_resource_waste.ipynb\",\n",
    "    \"dft_workflow/job_analysis/measure_comp_resources/measure_cpu_hours.ipynb\",\n",
    "    \"dft_workflow/job_analysis/prepare_oer_sets/prepare_oer_sets.ipynb\",\n",
    "\n",
    "\n",
    "    # #####################################################\n",
    "    # Some notebooks in `compare_magmoms` aren't that useful anymore\n",
    "    \"dft_workflow/job_analysis/compare_magmoms/anal_magmoms.ipynb\",\n",
    "    \"dft_workflow/job_analysis/compare_magmoms/new_O_bare_magmom_comp/comp_new_O_bare_magmoms.ipynb\",\n",
    "\n",
    "\n",
    "    # #####################################################\n",
    "    # DFT workflow bin scripts that are 'on occasion' use  only\n",
    "    \"dft_workflow/bin/anal_job_out.ipynb\",\n",
    "    \"dft_workflow/bin/delete_unsub_jobs.ipynb\",\n",
    "    \"dft_workflow/bin/run_unsub_jobs.ipynb\",\n",
    "\n",
    "\n",
    "    # #####################################################\n",
    "    # One-time bulk processing scripts\n",
    "    \"workflow/process_bulk_dft/create_final_df_dft.ipynb\",\n",
    "    \"workflow/process_bulk_dft/get_bulk_coor_env.ipynb\",\n",
    "    \"workflow/process_bulk_dft/manually_classify_bulks/classify_bulks.ipynb\",\n",
    "    \"workflow/process_bulk_dft/read_json_to_new_ase.ipynb\",\n",
    "    \"workflow/process_bulk_dft/standardize_bulks/stan_bulks.ipynb\",\n",
    "    \"workflow/process_bulk_dft/write_atoms_json.ipynb\",\n",
    "\n",
    "    \"workflow/xrd_bulks/plot_xrd_patterns/plot_xrd_patterns.ipynb\",\n",
    "    \"workflow/xrd_bulks/xrd_bulks.ipynb\",\n",
    "\n",
    "\n",
    "    # #####################################################\n",
    "    # These weren't too fruitful so no need to rerun\n",
    "    \"workflow/oer_vs_features/bivariate_combs_feat/bivariate_combs.ipynb\",\n",
    "    \"workflow/oer_vs_features/feature_covariance/feat_covar.ipynb\",\n",
    "\n",
    "\n",
    "    # #####################################################\n",
    "    # Most scripts in scripts/ are meant to be run on a one-off basis\n",
    "    \"scripts/git_scripts/get_modified_py_files.ipynb\",\n",
    "    \"scripts/git_scripts/git_check_size.ipynb\",\n",
    "    \"scripts/repo_file_operations/clean_jup.ipynb\",\n",
    "    \"scripts/repo_file_operations/jup_notebook_overview.ipynb\",\n",
    "    \"scripts/repo_file_operations/find_files.ipynb\",\n",
    "\n",
    "\n",
    "    # #####################################################\n",
    "    # Don't run these things\n",
    "    \"workflow/__misc__/analysis_for_jens/analysis.ipynb\",\n",
    "    \"workflow/feature_engineering/generate_features/catkit_form_oxid/catkit_form_oxid.ipynb\",\n",
    "\n",
    "\n",
    "    # #####################################################\n",
    "    # MISC\n",
    "    \"__misc__/00_group_meeting/group_meeting.ipynb\",\n",
    "    \"collated_plots.ipynb\",\n",
    "    \"dft_workflow/run_slabs/setup_jobs_from_oh/id_new_O_with_orig_OH/new_O_orig_OH.ipynb\",\n",
    "\n",
    "\n",
    "    ]"
   ]
  },
  {
   "cell_type": "code",
   "execution_count": 3,
   "metadata": {},
   "outputs": [],
   "source": [
    "TEMP_FILES_TO_IGNORE = [\n",
    "    \"dft_workflow/__misc__/finding_nonconstrained_mistakes/find_unconstr_slabs.ipynb\",\n",
    "    \"dft_workflow/job_analysis/slab_struct_drift/slab_struct_drift.ipynb\",\n",
    "    \"dft_workflow/job_analysis/systems_fully_ready/sys_fully_ready.ipynb\",\n",
    "    \"dft_workflow/job_processing/clean_dft_dirs.ipynb\",\n",
    "\n",
    "    # \"workflow/oer_analysis/oer_scaling/oer_scaling.ipynb\",\n",
    "    ]\n",
    "\n",
    "notebooks_to_ignore.extend(TEMP_FILES_TO_IGNORE)"
   ]
  },
  {
   "cell_type": "markdown",
   "metadata": {},
   "source": [
    "### Read Data"
   ]
  },
  {
   "cell_type": "code",
   "execution_count": 4,
   "metadata": {},
   "outputs": [],
   "source": [
    "# Read jupyter notebook dataframe\n",
    "PROJ_irox_path = os.environ[\"PROJ_irox_oer\"]\n",
    "\n",
    "# Get datafame of all jupyter notebooks in project\n",
    "df_ipynb = get_df_jupyter_notebooks(path=PROJ_irox_path)\n",
    "df_ipynb_i = df_ipynb\n",
    "\n",
    "# Read bash update method (calls all notebooks)\n",
    "df_ipynb_update = get_notebooks_run_in__jobs_update()\n",
    "\n",
    "df_run_all = get_files_exec_in_run_all()"
   ]
  },
  {
   "cell_type": "raw",
   "metadata": {},
   "source": [
    "\n"
   ]
  },
  {
   "cell_type": "markdown",
   "metadata": {},
   "source": [
    "## Printing notebooks that aren't being run in: `PROJ_irox_oer__comm_overnight`"
   ]
  },
  {
   "cell_type": "code",
   "execution_count": 5,
   "metadata": {},
   "outputs": [
    {
     "name": "stdout",
     "output_type": "stream",
     "text": [
      "\n",
      "Notebooks that aren't being run in PROJ_irox_oer__comm_overnight:\n",
      "-----------------------------------------------------------------\n",
      "dft_workflow/cluster_scripts/get_jobs_running.ipynb\n",
      "dft_workflow/job_analysis/collect_collate_dft_data/anal_oer_set_heuristics.ipynb\n",
      "dft_workflow/job_analysis/collect_collate_dft_data/collect_collate_dft-Copy1.ipynb\n",
      "dft_workflow/job_analysis/collect_collate_dft_data/test_models_on_diff_oer_sets/test_models_on_diff_oer_sets.ipynb\n",
      "dft_workflow/job_analysis/slab_struct_drift/slab_struct_drift_2.ipynb\n",
      "dft_workflow/run_slabs/rerun_magmoms/rerun_magmoms.ipynb\n",
      "dft_workflow/run_slabs/rerun_unfinished_slabs/rerun_unfinished_slabs.ipynb\n",
      "dft_workflow/run_slabs/setup_dos_bader/setup_dos_bader.ipynb\n",
      "manuscript/small_calcs_for_paper.ipynb\n",
      "workflow/feature_engineering/generate_features/SOAP_QUIP/SOAP_features.ipynb\n",
      "workflow/feature_engineering/analyse_features/vis_features/vis_features.ipynb\n",
      "workflow/model_building/SVR/SVR.ipynb\n",
      "workflow/model_building/dev_model_wf_TEMP.ipynb\n",
      "workflow/model_building/gaussian_process/SOAP_models/gaussian_proc.ipynb\n",
      "workflow/model_building/gaussian_process/gaussian_proc-Copy1.ipynb\n",
      "workflow/model_building/predict_mean_of_pop/trivial_models.ipynb\n",
      "workflow/octahedra_info/get_octahedra_atoms-Copy1.ipynb\n",
      "workflow/octahedra_info/get_octahedra_atoms.ipynb\n",
      "workflow/oer_vs_features/misc_oer_vs_feat_plots.ipynb\n",
      "workflow/pdos_bader_analysis/pdos_anal.ipynb\n",
      "workflow/pdos_bader_analysis/troubleshoot_dos/process_colin_pdos.ipynb\n",
      "workflow/surface_energy/surface_energy.ipynb\n"
     ]
    }
   ],
   "source": [
    "print(\n",
    "    \"\\n\",\n",
    "    \"Notebooks that aren't being run in PROJ_irox_oer__comm_overnight:\",\n",
    "\n",
    "    \"\\n\",\n",
    "    65 * \"-\",\n",
    "    sep=\"\")\n",
    "# #########################################################\n",
    "for index_i, row_i in df_ipynb_i.iterrows():\n",
    "    # #####################################################\n",
    "    file_path_short_i = row_i.file_path_short\n",
    "    file_name_i = row_i.file_name\n",
    "    # #####################################################\n",
    "\n",
    "    # Skipping certain rows\n",
    "    # if \"sandbox\" in file_name_i:\n",
    "    if \"sandbox\" in file_path_short_i:\n",
    "        continue\n",
    "    if \"old.\" in file_path_short_i:\n",
    "        continue\n",
    "    if file_path_short_i in notebooks_to_ignore:\n",
    "        continue\n",
    "\n",
    "    black_listed = False\n",
    "    for dir_i in black_listed_dirs:\n",
    "        if file_path_short_i.find(dir_i) == 0:\n",
    "            black_listed = True\n",
    "    if black_listed:\n",
    "        continue\n",
    "\n",
    "\n",
    "    # #####################################################\n",
    "    df_i = df_run_all[df_run_all.path_short == file_path_short_i]\n",
    "    if df_i.shape[0] == 0:\n",
    "        print(file_path_short_i)"
   ]
  },
  {
   "cell_type": "raw",
   "metadata": {},
   "source": [
    "dft_workflow/job_analysis/prepare_oer_sets/write_oer_sets.ipynb\n"
   ]
  },
  {
   "cell_type": "code",
   "execution_count": 6,
   "metadata": {},
   "outputs": [
    {
     "data": {
      "text/html": [
       "<div>\n",
       "<style scoped>\n",
       "    .dataframe tbody tr th:only-of-type {\n",
       "        vertical-align: middle;\n",
       "    }\n",
       "\n",
       "    .dataframe tbody tr th {\n",
       "        vertical-align: top;\n",
       "    }\n",
       "\n",
       "    .dataframe thead th {\n",
       "        text-align: right;\n",
       "    }\n",
       "</style>\n",
       "<table border=\"1\" class=\"dataframe\">\n",
       "  <thead>\n",
       "    <tr style=\"text-align: right;\">\n",
       "      <th></th>\n",
       "      <th>file_path</th>\n",
       "      <th>file_path_short</th>\n",
       "      <th>file_name</th>\n",
       "      <th>file_ext</th>\n",
       "      <th>file_size__b</th>\n",
       "      <th>file_size__mb</th>\n",
       "      <th>in_bad_place</th>\n",
       "      <th>py_file_present</th>\n",
       "      <th>file_path_short_no_ext</th>\n",
       "    </tr>\n",
       "  </thead>\n",
       "  <tbody>\n",
       "    <tr>\n",
       "      <th>0</th>\n",
       "      <td>/mnt/f/Dropbox/01_norskov/00_git_repos/PROJ_IrOx_OER/__misc__/00_group_meeting/group_meeting.ipynb</td>\n",
       "      <td>__misc__/00_group_meeting/group_meeting.ipynb</td>\n",
       "      <td>group_meeting.ipynb</td>\n",
       "      <td>ipynb</td>\n",
       "      <td>7525</td>\n",
       "      <td>0.007525</td>\n",
       "      <td>False</td>\n",
       "      <td>True</td>\n",
       "      <td>__misc__/00_group_meeting/group_meeting</td>\n",
       "    </tr>\n",
       "    <tr>\n",
       "      <th>1</th>\n",
       "      <td>/mnt/f/Dropbox/01_norskov/00_git_repos/PROJ_IrOx_OER/collated_plots.ipynb</td>\n",
       "      <td>collated_plots.ipynb</td>\n",
       "      <td>collated_plots.ipynb</td>\n",
       "      <td>ipynb</td>\n",
       "      <td>7711</td>\n",
       "      <td>0.007711</td>\n",
       "      <td>False</td>\n",
       "      <td>False</td>\n",
       "      <td>collated_plots</td>\n",
       "    </tr>\n",
       "    <tr>\n",
       "      <th>2</th>\n",
       "      <td>/mnt/f/Dropbox/01_norskov/00_git_repos/PROJ_IrOx_OER/dft_workflow/__misc__/finding_nonconstraine...</td>\n",
       "      <td>dft_workflow/__misc__/finding_nonconstrained_mistakes/find_unconstr_slabs.ipynb</td>\n",
       "      <td>find_unconstr_slabs.ipynb</td>\n",
       "      <td>ipynb</td>\n",
       "      <td>3239</td>\n",
       "      <td>0.003239</td>\n",
       "      <td>False</td>\n",
       "      <td>True</td>\n",
       "      <td>dft_workflow/__misc__/finding_nonconstrained_mistakes/find_unconstr_slabs</td>\n",
       "    </tr>\n",
       "    <tr>\n",
       "      <th>3</th>\n",
       "      <td>/mnt/f/Dropbox/01_norskov/00_git_repos/PROJ_IrOx_OER/dft_workflow/bin/anal_job_out.ipynb</td>\n",
       "      <td>dft_workflow/bin/anal_job_out.ipynb</td>\n",
       "      <td>anal_job_out.ipynb</td>\n",
       "      <td>ipynb</td>\n",
       "      <td>11843</td>\n",
       "      <td>0.011843</td>\n",
       "      <td>False</td>\n",
       "      <td>True</td>\n",
       "      <td>dft_workflow/bin/anal_job_out</td>\n",
       "    </tr>\n",
       "    <tr>\n",
       "      <th>4</th>\n",
       "      <td>/mnt/f/Dropbox/01_norskov/00_git_repos/PROJ_IrOx_OER/dft_workflow/bin/delete_unsub_jobs.ipynb</td>\n",
       "      <td>dft_workflow/bin/delete_unsub_jobs.ipynb</td>\n",
       "      <td>delete_unsub_jobs.ipynb</td>\n",
       "      <td>ipynb</td>\n",
       "      <td>32869</td>\n",
       "      <td>0.032869</td>\n",
       "      <td>False</td>\n",
       "      <td>True</td>\n",
       "      <td>dft_workflow/bin/delete_unsub_jobs</td>\n",
       "    </tr>\n",
       "  </tbody>\n",
       "</table>\n",
       "</div>"
      ],
      "text/plain": [
       "                                                                                             file_path  \\\n",
       "0   /mnt/f/Dropbox/01_norskov/00_git_repos/PROJ_IrOx_OER/__misc__/00_group_meeting/group_meeting.ipynb   \n",
       "1                            /mnt/f/Dropbox/01_norskov/00_git_repos/PROJ_IrOx_OER/collated_plots.ipynb   \n",
       "2  /mnt/f/Dropbox/01_norskov/00_git_repos/PROJ_IrOx_OER/dft_workflow/__misc__/finding_nonconstraine...   \n",
       "3             /mnt/f/Dropbox/01_norskov/00_git_repos/PROJ_IrOx_OER/dft_workflow/bin/anal_job_out.ipynb   \n",
       "4        /mnt/f/Dropbox/01_norskov/00_git_repos/PROJ_IrOx_OER/dft_workflow/bin/delete_unsub_jobs.ipynb   \n",
       "\n",
       "                                                                   file_path_short  \\\n",
       "0                                    __misc__/00_group_meeting/group_meeting.ipynb   \n",
       "1                                                             collated_plots.ipynb   \n",
       "2  dft_workflow/__misc__/finding_nonconstrained_mistakes/find_unconstr_slabs.ipynb   \n",
       "3                                              dft_workflow/bin/anal_job_out.ipynb   \n",
       "4                                         dft_workflow/bin/delete_unsub_jobs.ipynb   \n",
       "\n",
       "                   file_name file_ext  file_size__b  file_size__mb  \\\n",
       "0        group_meeting.ipynb    ipynb          7525       0.007525   \n",
       "1       collated_plots.ipynb    ipynb          7711       0.007711   \n",
       "2  find_unconstr_slabs.ipynb    ipynb          3239       0.003239   \n",
       "3         anal_job_out.ipynb    ipynb         11843       0.011843   \n",
       "4    delete_unsub_jobs.ipynb    ipynb         32869       0.032869   \n",
       "\n",
       "   in_bad_place  py_file_present  \\\n",
       "0         False             True   \n",
       "1         False            False   \n",
       "2         False             True   \n",
       "3         False             True   \n",
       "4         False             True   \n",
       "\n",
       "                                                      file_path_short_no_ext  \n",
       "0                                    __misc__/00_group_meeting/group_meeting  \n",
       "1                                                             collated_plots  \n",
       "2  dft_workflow/__misc__/finding_nonconstrained_mistakes/find_unconstr_slabs  \n",
       "3                                              dft_workflow/bin/anal_job_out  \n",
       "4                                         dft_workflow/bin/delete_unsub_jobs  "
      ]
     },
     "execution_count": 6,
     "metadata": {},
     "output_type": "execute_result"
    }
   ],
   "source": [
    "df_ipynb_i.head()"
   ]
  },
  {
   "cell_type": "raw",
   "metadata": {},
   "source": [
    "\n",
    "\n"
   ]
  }
 ],
 "metadata": {
  "jupytext": {
   "formats": "ipynb,py:light"
  },
  "kernelspec": {
   "display_name": "Python [conda env:PROJ_irox_oer] *",
   "language": "python",
   "name": "conda-env-PROJ_irox_oer-py"
  },
  "language_info": {
   "codemirror_mode": {
    "name": "ipython",
    "version": 3
   },
   "file_extension": ".py",
   "mimetype": "text/x-python",
   "name": "python",
   "nbconvert_exporter": "python",
   "pygments_lexer": "ipython3",
   "version": "3.6.10"
  }
 },
 "nbformat": 4,
 "nbformat_minor": 4
}
