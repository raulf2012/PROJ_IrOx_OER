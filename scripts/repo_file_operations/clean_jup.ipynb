{
 "cells": [
  {
   "cell_type": "markdown",
   "metadata": {},
   "source": [
    "# Clean jupyter notebooks (remove output)\n",
    "---"
   ]
  },
  {
   "cell_type": "markdown",
   "metadata": {},
   "source": [
    "### Import Modules"
   ]
  },
  {
   "cell_type": "code",
   "execution_count": null,
   "metadata": {},
   "outputs": [],
   "source": [
    "import os\n",
    "print(os.getcwd())\n",
    "import sys\n",
    "\n",
    "from pathlib import Path\n",
    "from json import dump, load\n",
    "from shutil import copyfile\n",
    "\n",
    "import plotly.graph_objs as go\n",
    "import pandas as pd\n",
    "\n",
    "# #########################################################\n",
    "from jupyter_modules.jupyter_methods import (\n",
    "    clean_ipynb,\n",
    "    get_ipynb_notebook_paths,\n",
    "    )\n",
    "\n",
    "from jupyter_modules.jupyter_methods import get_df_jupyter_notebooks"
   ]
  },
  {
   "cell_type": "markdown",
   "metadata": {},
   "source": [
    "### Script Inputs"
   ]
  },
  {
   "cell_type": "code",
   "execution_count": null,
   "metadata": {},
   "outputs": [],
   "source": [
    "# dry_run = True\n",
    "dry_run = False"
   ]
  },
  {
   "cell_type": "code",
   "execution_count": null,
   "metadata": {},
   "outputs": [],
   "source": [
    "PROJ_irox_path = os.environ[\"PROJ_irox_oer\"]\n",
    "df = get_df_jupyter_notebooks(path=PROJ_irox_path)\n",
    "\n",
    "# Removing this notebook from dataframe\n",
    "df = df[df.file_name != \"clean_jup.ipynb\"]\n",
    "\n",
    "# Removing notebooks that are in not relevent places\n",
    "df = df[df.in_bad_place == False]"
   ]
  },
  {
   "cell_type": "code",
   "execution_count": null,
   "metadata": {},
   "outputs": [],
   "source": [
    "df.head()"
   ]
  },
  {
   "cell_type": "markdown",
   "metadata": {},
   "source": [
    "# Listing notebooks without paired python script"
   ]
  },
  {
   "cell_type": "code",
   "execution_count": null,
   "metadata": {},
   "outputs": [],
   "source": [
    "df_tmp = df.sort_values(\"file_path\")\n",
    "df_tmp[df_tmp.py_file_present == False].style.set_properties(**{\"text-align\": \"left\"})\n",
    "\n",
    "df_i = df_tmp[df_tmp.py_file_present == False]\n",
    "\n",
    "print(\n",
    "    \"Number of jupyter notebooks without paired .py file:\",\n",
    "    \"\\n\",\n",
    "    df_i.shape[0],\n",
    "    \"\\n\",\n",
    "    sep=\"\")\n",
    "\n",
    "tmp = df_i.file_path_short.tolist()\n",
    "# tmp1 = [print(i) for i in tmp]\n",
    "\n",
    "print(40 * \"-\")\n",
    "for i in tmp:\n",
    "    if \"old\" in i:\n",
    "        continue\n",
    "\n",
    "    print(i)"
   ]
  },
  {
   "cell_type": "markdown",
   "metadata": {},
   "source": [
    "# Cleaning notebooks larger than 0.1 MB in size"
   ]
  },
  {
   "cell_type": "code",
   "execution_count": null,
   "metadata": {},
   "outputs": [],
   "source": [
    "df_big = df[df.file_size__mb > 0.04]\n",
    "\n",
    "print(\n",
    "    \"Number of notebooks to clean:\", df_big.shape[0],\n",
    "    \"\\n\",\n",
    "    sep=\"\")\n",
    "\n",
    "\n",
    "# for ind_i, row_i in df_big.iloc[0:1].iterrows():\n",
    "for ind_i, row_i in df_big.iterrows():\n",
    "    file_path_i = row_i.file_path\n",
    " \n",
    "    print(\"file_path_i:\", file_path_i)\n",
    "    if not dry_run:\n",
    "        clean_ipynb(file_path_i, True)"
   ]
  },
  {
   "cell_type": "markdown",
   "metadata": {},
   "source": [
    "# Plotting file size, ordered high to low"
   ]
  },
  {
   "cell_type": "code",
   "execution_count": null,
   "metadata": {},
   "outputs": [],
   "source": [
    "df = df.sort_values(\"file_size__mb\", ascending=False)\n",
    "\n",
    "# #########################################################\n",
    "layout = go.Layout(\n",
    "    xaxis=go.layout.XAxis(\n",
    "        title=go.layout.xaxis.Title(text=\"NaN\"),\n",
    "        ),\n",
    "    yaxis=go.layout.YAxis(\n",
    "        title=go.layout.yaxis.Title(text=\"File Size (MB)\"),\n",
    "        ),\n",
    "    )\n",
    "\n",
    "# #########################################################\n",
    "trace = go.Scatter(\n",
    "    # x=df.index.tolist(),\n",
    "    y=df.file_size__mb.tolist(),\n",
    "    mode=\"markers\",\n",
    "    )\n",
    "data = [trace]\n",
    "\n",
    "fig = go.Figure(data=data, layout=layout)\n",
    "fig.show()"
   ]
  },
  {
   "cell_type": "raw",
   "metadata": {},
   "source": [
    "\n",
    "\n"
   ]
  },
  {
   "cell_type": "code",
   "execution_count": null,
   "metadata": {
    "jupyter": {
     "source_hidden": true
    }
   },
   "outputs": [],
   "source": [
    "# import chart_studio.plotly as py\n",
    "# import plotly.graph_objs as go\n",
    "\n",
    "# import os\n",
    "\n",
    "# x_array = [0, 1, 2, 3]\n",
    "# y_array = [0, 1, 2, 3]\n",
    "\n",
    "\n",
    "# trace = go.Scatter(\n",
    "#     x=x_array,\n",
    "#     y=y_array,\n",
    "#     mode=\"markers\",\n",
    "#     opacity=0.8,\n",
    "#     marker=dict(\n",
    "\n",
    "#         symbol=\"circle\",\n",
    "#         color='LightSkyBlue',\n",
    "\n",
    "#         opacity=0.8,\n",
    "\n",
    "#         # color=z,\n",
    "#         colorscale='Viridis',\n",
    "#         colorbar=dict(thickness=20),\n",
    "\n",
    "#         size=20,\n",
    "#         line=dict(\n",
    "#             color='MediumPurple',\n",
    "#             width=2\n",
    "#             )\n",
    "#         ),\n",
    "\n",
    "#     line=dict(\n",
    "#         color=\"firebrick\",\n",
    "#         width=2,\n",
    "#         dash=\"dot\",\n",
    "#         ),\n",
    "\n",
    "#     error_y={\n",
    "#         \"type\": 'data',\n",
    "#         \"array\": [0.4, 0.9, 0.3, 1.1],\n",
    "#         \"visible\": True,\n",
    "#         },\n",
    "\n",
    "#     )\n",
    "\n",
    "# data = [trace]\n",
    "\n",
    "# fig = go.Figure(data=data)\n",
    "# fig.show()"
   ]
  },
  {
   "cell_type": "code",
   "execution_count": null,
   "metadata": {
    "jupyter": {
     "source_hidden": true
    }
   },
   "outputs": [],
   "source": [
    "# # #########################################################\n",
    "# data_dict_list = []\n",
    "# # #########################################################\n",
    "# dirs_list = get_ipynb_notebook_paths(PROJ_irox_path=PROJ_irox)\n",
    "# for file_i in dirs_list:\n",
    "#     data_dict_i = dict()\n",
    "\n",
    "#     file_size_i = Path(file_i).stat().st_size\n",
    "#     file_size_mb_i =  file_size_i / 1000 / 1000\n",
    "#     file_name_i = file_i.split(\"/\")[-1]\n",
    "#     file_path_short_i = file_i[len(PROJ_irox) + 1:]\n",
    "\n",
    "#     # #####################################################\n",
    "#     in_bad_place = False\n",
    "#     if \".virtual_documents\" in file_i:\n",
    "#         in_bad_place = True\n",
    "\n",
    "#     # #####################################################\n",
    "#     if \".\" in file_name_i:\n",
    "#         ext_i = file_name_i.split(\".\")[-1]\n",
    "#     else:\n",
    "#         ext_i = \"NaN\"\n",
    "\n",
    "#     # #####################################################\n",
    "#     py_file_i = os.path.join(\n",
    "#         \"/\".join(file_i.split(\"/\")[0:-1]),\n",
    "#         file_name_i.split(\".\")[0] + \".py\"\n",
    "#         )\n",
    "\n",
    "#     my_file = Path(py_file_i)\n",
    "#     if my_file.is_file():\n",
    "#         py_file_present_i = True\n",
    "#     else:\n",
    "#         py_file_present_i = False\n",
    "\n",
    "\n",
    "#     # #####################################################\n",
    "#     data_dict_i[\"file_path\"] = file_i\n",
    "#     data_dict_i[\"file_path_short\"] = file_path_short_i\n",
    "#     data_dict_i[\"file_name\"] = file_name_i\n",
    "#     data_dict_i[\"file_ext\"] = ext_i\n",
    "#     data_dict_i[\"file_size__b\"] = file_size_i\n",
    "#     data_dict_i[\"file_size__mb\"] = file_size_mb_i\n",
    "#     data_dict_i[\"in_bad_place\"] = in_bad_place\n",
    "#     data_dict_i[\"py_file_present\"] = py_file_present_i\n",
    "#     # data_dict_i[\"\"] = \n",
    "#     # #####################################################\n",
    "#     data_dict_list.append(data_dict_i)\n",
    "#     # #####################################################\n",
    "\n",
    "# # #########################################################\n",
    "# df = pd.DataFrame(data_dict_list)\n",
    "# df = df.sort_values(\"file_size__b\", ascending=False)\n",
    "# df = df.reset_index(drop=True)\n",
    "\n",
    "# # Removing this notebook from dataframe\n",
    "# df = df[df.file_name != \"clean_jup.ipynb\"]\n",
    "\n",
    "# # Removing notebooks that are in not relevent places\n",
    "# df = df[df.in_bad_place == False]\n",
    "# # #########################################################"
   ]
  }
 ],
 "metadata": {
  "kernelspec": {
   "display_name": "Python [conda env:PROJ_irox]",
   "language": "python",
   "name": "conda-env-PROJ_irox-py"
  },
  "language_info": {
   "codemirror_mode": {
    "name": "ipython",
    "version": 3
   },
   "file_extension": ".py",
   "mimetype": "text/x-python",
   "name": "python",
   "nbconvert_exporter": "python",
   "pygments_lexer": "ipython3",
   "version": "3.6.10"
  }
 },
 "nbformat": 4,
 "nbformat_minor": 4
}
