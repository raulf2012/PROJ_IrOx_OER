{
 "cells": [
  {
   "cell_type": "markdown",
   "metadata": {},
   "source": [
    "# Find files within project directories\n",
    "---"
   ],
   "execution_count": null,
   "outputs": []
  },
  {
   "cell_type": "markdown",
   "metadata": {},
   "source": [
    "### Import Modules"
   ],
   "execution_count": null,
   "outputs": []
  },
  {
   "cell_type": "code",
   "execution_count": null,
   "metadata": {},
   "outputs": [],
   "source": [
    "import os\n",
    "print(os.getcwd())\n",
    "import sys\n",
    "\n",
    "import pandas as pd\n",
    "\n",
    "# #########################################################"
   ]
  },
  {
   "cell_type": "code",
   "execution_count": null,
   "metadata": {},
   "outputs": [],
   "source": [
    "# #########################################################\n",
    "data_dict_list = []\n",
    "# #########################################################\n",
    "root_dir = os.path.join(os.environ[\"PROJ_irox_oer\"])\n",
    "for subdir, dirs, files in os.walk(root_dir):\n",
    "    find_ind = subdir.find(root_dir)\n",
    "    for file in files:\n",
    "\n",
    "        # Getting file extension\n",
    "        ext_i = None\n",
    "        if \".\" in file:\n",
    "            ext_i = file.split(\".\")[-1]\n",
    "\n",
    "        # Get relative path\n",
    "        subdir_rel = None\n",
    "        if find_ind != -1:\n",
    "            subdir_rel = subdir[\n",
    "                find_ind + len(root_dir) + 1:]\n",
    "        path_rel_i = os.path.join(subdir_rel, file)\n",
    "\n",
    "\n",
    "\n",
    "        # #################################################\n",
    "        data_dict_i = dict()\n",
    "        # #################################################\n",
    "        data_dict_i[\"file_ext\"] = ext_i\n",
    "        data_dict_i[\"file_name\"] = file\n",
    "        data_dict_i[\"path_rel\"] = subdir_rel\n",
    "        data_dict_i[\"file_path_rel\"] = path_rel_i\n",
    "        # #################################################\n",
    "        data_dict_list.append(data_dict_i)\n",
    "        # #################################################\n",
    "\n",
    "# #########################################################\n",
    "df_files = pd.DataFrame(data_dict_list)\n",
    "# #########################################################"
   ]
  },
  {
   "cell_type": "code",
   "execution_count": null,
   "metadata": {},
   "outputs": [],
   "source": [
    "df_i = df_files[df_files.file_ext == \"pickle\"]\n",
    "\n",
    "df_i = df_i[df_i.file_name.str.contains(\"df_\")]\n",
    "\n",
    "df_i = df_i[~df_i.file_name.str.contains(\"old\")]\n",
    "df_i = df_i[~df_i.path_rel.str.contains(\"old\")]\n",
    "\n",
    "df_i = df_i.sort_values([\"path_rel\", \"file_name\"])"
   ]
  },
  {
   "cell_type": "code",
   "execution_count": null,
   "metadata": {},
   "outputs": [],
   "source": [
    "dfStyler = df_i.style.set_properties(**{'text-align': 'left'})\n",
    "dfStyler.set_table_styles([dict(selector='th', props=[('text-align', 'left')])])"
   ]
  },
  {
   "cell_type": "code",
   "execution_count": null,
   "metadata": {},
   "outputs": [],
   "source": [
    "df_i[df_i.file_name.duplicated(keep=False)]"
   ]
  },
  {
   "cell_type": "code",
   "execution_count": null,
   "metadata": {},
   "outputs": [],
   "source": [
    "# df_i.to_string()\n",
    "df_i.file_path_rel.tolist()"
   ]
  },
  {
   "cell_type": "code",
   "execution_count": null,
   "metadata": {},
   "outputs": [],
   "source": [
    "assert False"
   ]
  },
  {
   "cell_type": "raw",
   "metadata": {},
   "source": [
    "\n",
    "\n"
   ],
   "execution_count": null,
   "outputs": []
  },
  {
   "cell_type": "code",
   "execution_count": null,
   "metadata": {
    "jupyter": {}
   },
   "outputs": [],
   "source": [
    "# # os.environ[]\n",
    "\n",
    "# root_dir"
   ]
  },
  {
   "cell_type": "code",
   "execution_count": null,
   "metadata": {
    "jupyter": {}
   },
   "outputs": [],
   "source": [
    "# find_ind = subdir.find(root_dir)\n",
    "\n",
    "# subdir_rel = None\n",
    "# if find_ind != -1:\n",
    "#     tmp = 42\n",
    "\n",
    "#     subdir_rel = subdir[\n",
    "#         find_ind + len(root_dir) + 1:\n",
    "#         ]"
   ]
  },
  {
   "cell_type": "code",
   "execution_count": null,
   "metadata": {
    "jupyter": {}
   },
   "outputs": [],
   "source": [
    "\n",
    "# subdir.find(\"isdjfisd\")"
   ]
  },
  {
   "cell_type": "code",
   "execution_count": null,
   "metadata": {
    "jupyter": {}
   },
   "outputs": [],
   "source": [
    "# for ind_i, row_i in df_i.iterrows():\n",
    "#     tmp = 42\n",
    "# df_i['Names'].str.contains('Mel')\n",
    "# row_i.path_rel"
   ]
  },
  {
   "cell_type": "code",
   "execution_count": null,
   "metadata": {
    "jupyter": {}
   },
   "outputs": [],
   "source": [
    "# # Test data\n",
    "# df = pd.DataFrame(\n",
    "#     {\n",
    "#         'text': ['fooooooooooo', 'bar'],\n",
    "#         'number': [1, 2],\n",
    "#         }\n",
    "#     )\n",
    "\n",
    "# dfStyler = df.style.set_properties(**{'text-align': 'left'})\n",
    "# dfStyler.set_table_styles([dict(selector='th', props=[('text-align', 'left')])])"
   ]
  }
 ],
 "metadata": {
  "jupytext": {
   "formats": "ipynb,py:light"
  },
  "kernelspec": {
   "display_name": "Python [conda env:PROJ_irox_oer] *",
   "language": "python",
   "name": "conda-env-PROJ_irox_oer-py"
  },
  "language_info": {
   "codemirror_mode": {
    "name": "ipython",
    "version": 3
   },
   "file_extension": ".py",
   "mimetype": "text/x-python",
   "name": "python",
   "nbconvert_exporter": "python",
   "pygments_lexer": "ipython3",
   "version": "3.6.11"
  }
 },
 "nbformat": 4,
 "nbformat_minor": 4
}
