{
 "cells": [
  {
   "cell_type": "code",
   "execution_count": 1,
   "metadata": {
    "jupyter": {
     "source_hidden": true
    },
    "tags": []
   },
   "outputs": [],
   "source": [
    "import os\n",
    "import sys\n",
    "\n",
    "import copy\n",
    "import shutil\n",
    "from pathlib import Path\n",
    "from contextlib import contextmanager\n",
    "\n",
    "# import pickle; import os\n",
    "\n",
    "import pickle\n",
    "import  json\n",
    "\n",
    "import pandas as pd\n",
    "import numpy as np\n",
    "\n",
    "from ase import io\n",
    "from ase.visualize import view\n",
    "\n",
    "import plotly.graph_objects as go\n",
    "\n",
    "from pymatgen.io.ase import AseAtomsAdaptor\n",
    "from pymatgen.analysis import local_env\n",
    "\n",
    "# #########################################################\n",
    "from misc_modules.pandas_methods import drop_columns\n",
    "\n",
    "from methods import read_magmom_comp_data\n",
    "\n",
    "import os\n",
    "import sys\n",
    "\n",
    "from IPython.display import display\n",
    "\n",
    "import pandas as pd\n",
    "pd.set_option(\"display.max_columns\", None)\n",
    "pd.options.display.max_colwidth = 20\n",
    "# pd.set_option('display.max_rows', None)\n",
    "\n",
    "# #########################################################\n",
    "from methods import (\n",
    "    get_df_jobs_paths,\n",
    "    get_df_dft,\n",
    "    get_df_job_ids,\n",
    "    get_df_jobs,\n",
    "    get_df_jobs_data,\n",
    "    get_df_slab,\n",
    "    get_df_slab_ids,\n",
    "    get_df_jobs_data_clusters,\n",
    "    get_df_jobs_anal,\n",
    "    get_df_slabs_oh,\n",
    "    get_df_init_slabs,\n",
    "    get_df_magmoms,\n",
    "    get_df_ads,\n",
    "    get_df_atoms_sorted_ind,\n",
    "    get_df_rerun_from_oh,\n",
    "    get_df_slab_simil,\n",
    "    get_df_active_sites,\n",
    "    get_df_features_targets,\n",
    "    get_other_job_ids_in_set,\n",
    "    read_magmom_comp_data,\n",
    "    get_df_coord,\n",
    "    get_df_slabs_to_run,\n",
    "    get_df_features,\n",
    "    get_df_jobs_on_clus__all,\n",
    "    get_df_octa_info,\n",
    "    get_df_features_targets_seoin,\n",
    "    )\n",
    "from methods import get_df_bader_feat\n",
    "from methods import get_df_struct_drift\n",
    "\n",
    "from misc_modules.pandas_methods import reorder_df_columns"
   ]
  },
  {
   "cell_type": "code",
   "execution_count": 2,
   "metadata": {
    "jupyter": {
     "source_hidden": true
    },
    "tags": []
   },
   "outputs": [],
   "source": [
    "df_dft = get_df_dft()\n",
    "df_job_ids = get_df_job_ids()\n",
    "df_jobs = get_df_jobs(exclude_wsl_paths=True)\n",
    "df_jobs_data = get_df_jobs_data(exclude_wsl_paths=True)\n",
    "df_jobs_data_clusters = get_df_jobs_data_clusters()\n",
    "df_slab = get_df_slab()\n",
    "df_slab_ids = get_df_slab_ids()\n",
    "df_jobs_anal = get_df_jobs_anal()\n",
    "df_jobs_paths = get_df_jobs_paths()\n",
    "df_slabs_oh = get_df_slabs_oh()\n",
    "df_init_slabs = get_df_init_slabs()\n",
    "df_magmoms = get_df_magmoms()\n",
    "df_ads = get_df_ads()\n",
    "df_atoms_sorted_ind = get_df_atoms_sorted_ind()\n",
    "df_rerun_from_oh = get_df_rerun_from_oh()\n",
    "magmom_data_dict = read_magmom_comp_data()\n",
    "df_slab_simil = get_df_slab_simil()\n",
    "df_active_sites = get_df_active_sites()\n",
    "df_features_targets = get_df_features_targets()\n",
    "df_slabs_to_run = get_df_slabs_to_run()\n",
    "df_features = get_df_features()\n",
    "df_jobs_max = get_df_jobs(return_max_only=True)\n",
    "df_jobs_on_clus = get_df_jobs_on_clus__all()\n",
    "df_bader_feat = get_df_bader_feat()\n",
    "df_struct_drift = get_df_struct_drift()\n",
    "df_octa_info = get_df_octa_info()\n",
    "df_seoin = get_df_features_targets_seoin()"
   ]
  },
  {
   "cell_type": "code",
   "execution_count": 3,
   "metadata": {
    "jupyter": {
     "source_hidden": true
    },
    "lines_to_next_cell": 0,
    "tags": []
   },
   "outputs": [],
   "source": [
    "def display_df(df, df_name, display_head=True, num_spaces=3):\n",
    "    print(40 * \"*\")\n",
    "    print(df_name)\n",
    "    print(\"df_i.shape:\", df_i.shape)\n",
    "    print(40 * \"*\")\n",
    "\n",
    "    if display_head:\n",
    "        display(df.head())\n",
    "\n",
    "    print(num_spaces * \"\\n\")\n",
    "\n",
    "df_list = [\n",
    "    (\"df_dft\", df_dft),\n",
    "    (\"df_job_ids\", df_job_ids),\n",
    "    (\"df_jobs\", df_jobs),\n",
    "    (\"df_jobs_data\", df_jobs_data),\n",
    "    (\"df_jobs_data_clusters\", df_jobs_data_clusters),\n",
    "    (\"df_slab\", df_slab),\n",
    "    (\"df_slab_ids\", df_slab_ids),\n",
    "    (\"df_jobs_anal\", df_jobs_anal),\n",
    "    (\"df_jobs_paths\", df_jobs_paths),\n",
    "    (\"df_slabs_oh\", df_slabs_oh),\n",
    "    (\"df_magmoms\", df_magmoms),\n",
    "    (\"df_ads\", df_ads),\n",
    "    (\"df_atoms_sorted_ind\", df_atoms_sorted_ind),\n",
    "    (\"df_rerun_from_oh\", df_rerun_from_oh),\n",
    "    (\"df_slab_simil\", df_slab_simil),\n",
    "    (\"df_active_sites\", df_active_sites),\n",
    "    ]\n",
    "\n",
    "# for name_i, df_i in df_list:\n",
    "#     display_df(df_i, name_i)\n",
    "\n",
    "# print(\"\")\n",
    "# print(\"\")\n",
    "\n",
    "# for name_i, df_i in df_list:\n",
    "#     display_df(\n",
    "#         df_i,\n",
    "#         name_i,\n",
    "#         display_head=False,\n",
    "#         num_spaces=0)"
   ]
  },
  {
   "cell_type": "raw",
   "metadata": {
    "lines_to_next_cell": 0
   },
   "source": [
    "\n",
    "\n",
    "\n"
   ]
  },
  {
   "cell_type": "code",
   "execution_count": 8,
   "metadata": {},
   "outputs": [
    {
     "data": {
      "text/plain": [
       "[('oh', 'O_magmom'),\n",
       " ('oh', 'Ir_magmom'),\n",
       " ('oh', 'active_o_metal_dist'),\n",
       " ('oh', 'angle_O_Ir_surf_norm'),\n",
       " ('oh', 'closest_Ir_dist'),\n",
       " ('oh', 'closest_O_dist'),\n",
       " ('oh', 'ir_o_mean'),\n",
       " ('oh', 'ir_o_std'),\n",
       " ('oh', 'octa_vol'),\n",
       " ('oh', 'oxy_opp_as_bl'),\n",
       " ('oh', 'degrees_off_of_straight__as_opp'),\n",
       " ('oh', 'as_ir_opp_bl_ratio'),\n",
       " ('o', 'O_magmom'),\n",
       " ('o', 'Ir_magmom'),\n",
       " ('o', 'Ir*O_bader'),\n",
       " ('o', 'Ir_bader'),\n",
       " ('o', 'O_bader'),\n",
       " ('o', 'active_o_metal_dist'),\n",
       " ('o', 'angle_O_Ir_surf_norm'),\n",
       " ('o', 'closest_Ir_dist'),\n",
       " ('o', 'closest_O_dist'),\n",
       " ('o', 'ir_o_mean'),\n",
       " ('o', 'ir_o_std'),\n",
       " ('o', 'octa_vol'),\n",
       " ('o', 'p_band_center'),\n",
       " ('o', 'oxy_opp_as_bl'),\n",
       " ('o', 'degrees_off_of_straight__as_opp'),\n",
       " ('o', 'as_ir_opp_bl_ratio'),\n",
       " ('dH_bulk', ''),\n",
       " ('volume_pa', ''),\n",
       " ('bulk_oxid_state', ''),\n",
       " ('effective_ox_state', ''),\n",
       " ('surf_area', ''),\n",
       " ('o', 'Ir*O_bader/ir_o_mean')]"
      ]
     },
     "execution_count": 8,
     "metadata": {},
     "output_type": "execute_result"
    }
   ],
   "source": [
    "df_features_targets.features.columns.tolist()"
   ]
  },
  {
   "cell_type": "code",
   "execution_count": 5,
   "metadata": {},
   "outputs": [
    {
     "ename": "AssertionError",
     "evalue": "",
     "output_type": "error",
     "traceback": [
      "\u001b[0;31m---------------------------------------------------------------------------\u001b[0m",
      "\u001b[0;31mAssertionError\u001b[0m                            Traceback (most recent call last)",
      "\u001b[0;32m<ipython-input-5-a871fdc9ebee>\u001b[0m in \u001b[0;36m<module>\u001b[0;34m\u001b[0m\n\u001b[0;32m----> 1\u001b[0;31m \u001b[0;32massert\u001b[0m \u001b[0;32mFalse\u001b[0m\u001b[0;34m\u001b[0m\u001b[0;34m\u001b[0m\u001b[0m\n\u001b[0m",
      "\u001b[0;31mAssertionError\u001b[0m: "
     ]
    }
   ],
   "source": [
    "assert False"
   ]
  },
  {
   "cell_type": "code",
   "execution_count": null,
   "metadata": {},
   "outputs": [],
   "source": [
    "df_features_targets\n",
    "\n",
    "df = df_features_targets\n",
    "df = df[\n",
    "    (df.targets.g_o_m_oh > 0.8) &\n",
    "    (df.targets.g_o_m_oh < 0.9) &\n",
    "    [True for i in range(len(df))]\n",
    "    ]\n",
    "    # (df[\"\"] == \"\") &\n",
    "    # (df[\"\"] == \"\") &\n",
    "\n",
    "df"
   ]
  },
  {
   "cell_type": "code",
   "execution_count": null,
   "metadata": {},
   "outputs": [],
   "source": [
    "assert False"
   ]
  },
  {
   "cell_type": "code",
   "execution_count": null,
   "metadata": {},
   "outputs": [],
   "source": [
    "df_features_targets[\n",
    "    df_features_targets.data.from_oh__o == False\n",
    "    ]\n",
    "    # ].index.tolist()"
   ]
  },
  {
   "cell_type": "code",
   "execution_count": null,
   "metadata": {},
   "outputs": [],
   "source": [
    "assert False"
   ]
  },
  {
   "cell_type": "code",
   "execution_count": null,
   "metadata": {
    "lines_to_next_cell": 0
   },
   "outputs": [],
   "source": [
    "# df_features_targets.format.color.norm_sum_norm_abs_magmom_diff.max()\n",
    "\n",
    "\n",
    "import plotly.graph_objs as go\n",
    "\n",
    "trace = go.Scatter(\n",
    "    mode=\"markers\",\n",
    "    # x=x_array,\n",
    "    y=np.sort(df_features_targets.format.color.norm_sum_norm_abs_magmom_diff),\n",
    "    )\n",
    "data = [trace]\n",
    "\n",
    "fig = go.Figure(data=data)\n",
    "fig.show()"
   ]
  },
  {
   "cell_type": "code",
   "execution_count": null,
   "metadata": {
    "lines_to_next_cell": 2
   },
   "outputs": [],
   "source": []
  },
  {
   "cell_type": "code",
   "execution_count": null,
   "metadata": {},
   "outputs": [],
   "source": [
    "df_features_targets.shape"
   ]
  },
  {
   "cell_type": "code",
   "execution_count": null,
   "metadata": {},
   "outputs": [],
   "source": [
    "df_features_targets[df_features_targets.format.color.norm_sum_norm_abs_magmom_diff > 0.148725].shape"
   ]
  },
  {
   "cell_type": "code",
   "execution_count": null,
   "metadata": {},
   "outputs": [],
   "source": [
    "1 - 15/368"
   ]
  },
  {
   "cell_type": "code",
   "execution_count": null,
   "metadata": {},
   "outputs": [],
   "source": [
    "k = 0.94\n",
    "n = df_features_targets.shape[0]\n",
    "\n",
    "index = int(np.round(k * n))\n",
    "\n",
    "np.mean(\n",
    "    df_features_targets.format.color.norm_sum_norm_abs_magmom_diff.sort_values()[index:index+2]\n",
    "    )"
   ]
  },
  {
   "cell_type": "code",
   "execution_count": null,
   "metadata": {},
   "outputs": [],
   "source": [
    "df_features_targets.format.color.norm_sum_norm_abs_magmom_diff.min()\n",
    "df_features_targets.format.color.norm_sum_norm_abs_magmom_diff.max()"
   ]
  },
  {
   "cell_type": "code",
   "execution_count": null,
   "metadata": {},
   "outputs": [],
   "source": [
    "df_features_targets[\n",
    "    df_features_targets.data.from_oh__o == False\n",
    "    ]\n",
    "    # ].index.tolist()"
   ]
  },
  {
   "cell_type": "code",
   "execution_count": null,
   "metadata": {},
   "outputs": [],
   "source": [
    "job_id_x = \"labavobe_95\"\n",
    "get_other_job_ids_in_set(\n",
    "    job_id_x,\n",
    "    df_jobs=df_jobs,\n",
    "    oer_set=True,\n",
    "    only_last_rev=True,\n",
    "    )"
   ]
  },
  {
   "cell_type": "code",
   "execution_count": null,
   "metadata": {
    "lines_to_next_cell": 0
   },
   "outputs": [],
   "source": [
    "df_features_targets\n",
    "\n",
    "df = df_features_targets\n",
    "df = df[\n",
    "    (df.targets.g_o_m_oh > 2.9) &\n",
    "    (df.targets.g_o_m_oh < 3.1) &\n",
    "    [True for i in range(len(df))]\n",
    "    ]\n",
    "    # (df[\"\"] == \"\") &\n",
    "    # (df[\"\"] == \"\") &\n",
    "\n",
    "df"
   ]
  },
  {
   "cell_type": "code",
   "execution_count": null,
   "metadata": {
    "lines_to_next_cell": 2
   },
   "outputs": [],
   "source": []
  },
  {
   "cell_type": "code",
   "execution_count": null,
   "metadata": {},
   "outputs": [],
   "source": [
    "df.index.tolist()"
   ]
  },
  {
   "cell_type": "code",
   "execution_count": null,
   "metadata": {},
   "outputs": [],
   "source": [
    "df.targets.g_o_m_oh"
   ]
  },
  {
   "cell_type": "code",
   "execution_count": null,
   "metadata": {},
   "outputs": [],
   "source": [
    "assert False"
   ]
  },
  {
   "cell_type": "code",
   "execution_count": null,
   "metadata": {},
   "outputs": [],
   "source": [
    "cols_A = [\n",
    "\n",
    "    ('targets', 'g_o', ''),\n",
    "    ('data', 'stoich', ''),\n",
    "    ('features', 'bulk_oxid_state', ''),\n",
    "    ('features', 'dH_bulk', ''),\n",
    "    ('features', 'effective_ox_state', ''),\n",
    "    ('features', 'volume_pa', ''),\n",
    "    ('features', 'o', 'active_o_metal_dist'),\n",
    "    ('features', 'o', 'angle_O_Ir_surf_norm'),\n",
    "    ('features', 'o', 'ir_o_mean'),\n",
    "    ('features', 'o', 'ir_o_std'),\n",
    "    ('features', 'o', 'octa_vol'),\n",
    "    ('features', 'o', 'degrees_off_of_straight__as_opp'),\n",
    "    ('features', 'o', 'oxy_opp_as_bl'),\n",
    "\n",
    "    ]"
   ]
  },
  {
   "cell_type": "code",
   "execution_count": null,
   "metadata": {},
   "outputs": [],
   "source": [
    "cols_B = [\n",
    "\n",
    "    ('targets', 'g_o', ''),\n",
    "    # ('data', 'job_id_o', ''),\n",
    "    # ('data', 'job_id_oh', ''),\n",
    "    # ('data', 'job_id_bare', ''),\n",
    "    ('data', 'stoich', ''),\n",
    "    ('features', 'o', 'active_o_metal_dist'),\n",
    "    ('features', 'o', 'ir_o_mean'),\n",
    "    ('features', 'o', 'octa_vol'),\n",
    "    ('features', 'o', 'oxy_opp_as_bl'),\n",
    "    ('features', 'o', 'degrees_off_of_straight__as_opp'),\n",
    "    ('features', 'dH_bulk', ''),\n",
    "    ('features', 'bulk_oxid_state', ''),\n",
    "    ('features', 'effective_ox_state', ''),\n",
    "    ('features_pre_dft', 'active_o_metal_dist__pre', ''),\n",
    "    ('features_pre_dft', 'ir_o_mean__pre', ''),\n",
    "    ('features_pre_dft', 'ir_o_std__pre', ''),\n",
    "    ('features_pre_dft', 'octa_vol__pre', ''),\n",
    "\n",
    "    ]"
   ]
  },
  {
   "cell_type": "code",
   "execution_count": null,
   "metadata": {},
   "outputs": [],
   "source": [
    "print(\"Shared columns\")\n",
    "print(\"-------------------\")\n",
    "\n",
    "for col_i in cols_A:\n",
    "    if col_i in cols_B:\n",
    "        print(col_i)"
   ]
  },
  {
   "cell_type": "code",
   "execution_count": null,
   "metadata": {},
   "outputs": [],
   "source": [
    "print(\"Cols in A not in B\")\n",
    "print(\"-------------------\")\n",
    "\n",
    "for col_i in cols_A:\n",
    "    if col_i not in cols_B:\n",
    "        print(col_i)"
   ]
  },
  {
   "cell_type": "code",
   "execution_count": null,
   "metadata": {},
   "outputs": [],
   "source": [
    "print(\"Cols in B not in A\")\n",
    "print(\"-------------------\")\n",
    "\n",
    "for col_i in cols_B:\n",
    "    if col_i not in cols_A:\n",
    "        print(col_i)"
   ]
  },
  {
   "cell_type": "code",
   "execution_count": null,
   "metadata": {},
   "outputs": [],
   "source": [
    "assert False"
   ]
  },
  {
   "cell_type": "code",
   "execution_count": null,
   "metadata": {},
   "outputs": [],
   "source": [
    "df_jobs[df_jobs.bulk_id == \"926dnunrxf\"]\n",
    "\n",
    "df = df_jobs\n",
    "df = df[\n",
    "    (df[\"bulk_id\"] == \"926dnunrxf\") &\n",
    "    (df[\"facet\"] == \"010\") &\n",
    "    # (df[\"\"] == \"\") &\n",
    "    [True for i in range(len(df))]\n",
    "    ]\n",
    "df"
   ]
  },
  {
   "cell_type": "code",
   "execution_count": null,
   "metadata": {},
   "outputs": [],
   "source": [
    "df_ind = df_features_targets.index.to_frame()\n",
    "\n",
    "df = df_ind\n",
    "df = df[\n",
    "    (df[\"slab_id\"] == \"tesameli_14\") &\n",
    "    # (df[\"\"] == \"\") &\n",
    "    # (df[\"\"] == \"\") &\n",
    "    [True for i in range(len(df))]\n",
    "    ]\n",
    "df.index.tolist()"
   ]
  },
  {
   "cell_type": "code",
   "execution_count": null,
   "metadata": {},
   "outputs": [],
   "source": [
    "df_features_targets.loc[[\n",
    "    ('sherlock', 'tesameli_14', 50.0)\n",
    "    ]]"
   ]
  },
  {
   "cell_type": "code",
   "execution_count": null,
   "metadata": {},
   "outputs": [],
   "source": [
    "cols_0"
   ]
  },
  {
   "cell_type": "code",
   "execution_count": null,
   "metadata": {},
   "outputs": [],
   "source": [
    "df_features_targets"
   ]
  },
  {
   "cell_type": "code",
   "execution_count": null,
   "metadata": {},
   "outputs": [],
   "source": [
    "assert False"
   ]
  },
  {
   "cell_type": "code",
   "execution_count": null,
   "metadata": {},
   "outputs": [],
   "source": [
    "# import plotly.io as pio\n",
    "# scope = pio.kaleido.scope"
   ]
  },
  {
   "cell_type": "code",
   "execution_count": null,
   "metadata": {},
   "outputs": [],
   "source": [
    "# scope\n",
    "# scope._shutdown_kaleido()"
   ]
  },
  {
   "cell_type": "code",
   "execution_count": null,
   "metadata": {},
   "outputs": [],
   "source": [
    "# ('sherlock', 'kagekiha_49', 'o', 96.0, 1, False)"
   ]
  },
  {
   "cell_type": "code",
   "execution_count": null,
   "metadata": {},
   "outputs": [],
   "source": [
    "df_jobs_paths.loc[\"lebuvana_28\"].gdrive_path"
   ]
  },
  {
   "cell_type": "code",
   "execution_count": null,
   "metadata": {},
   "outputs": [],
   "source": [
    "df = df_jobs\n",
    "df = df[\n",
    "    (df[\"compenv\"] == \"sherlock\") &\n",
    "    (df[\"slab_id\"] == \"kagekiha_49\") &\n",
    "    # (df[\"\"] == \"\") &\n",
    "    [True for i in range(len(df))]\n",
    "    ]\n",
    "df"
   ]
  },
  {
   "cell_type": "code",
   "execution_count": null,
   "metadata": {},
   "outputs": [],
   "source": [
    "df_jobs_paths.loc[\"businipu_97\"].gdrive_path"
   ]
  },
  {
   "cell_type": "code",
   "execution_count": null,
   "metadata": {},
   "outputs": [],
   "source": [
    "df_ind = df_features_targets.index.to_frame()\n",
    "\n",
    "df = df_ind\n",
    "df = df[\n",
    "    (df[\"compenv\"] == \"sherlock\") &\n",
    "    # (df[\"slab_id\"] == \"kagekiha_49\") &\n",
    "    # (df[\"\"] == \"\") &\n",
    "    [True for i in range(len(df))]\n",
    "    ]\n",
    "df"
   ]
  },
  {
   "cell_type": "code",
   "execution_count": null,
   "metadata": {},
   "outputs": [],
   "source": [
    "assert False"
   ]
  },
  {
   "cell_type": "code",
   "execution_count": null,
   "metadata": {},
   "outputs": [],
   "source": [
    "\n",
    "\n",
    "for i in df_seoin.columns.to_list():\n",
    "    print(i)"
   ]
  },
  {
   "cell_type": "code",
   "execution_count": null,
   "metadata": {},
   "outputs": [],
   "source": [
    "df_octa_info"
   ]
  },
  {
   "cell_type": "code",
   "execution_count": null,
   "metadata": {},
   "outputs": [],
   "source": [
    "df_features_targets.features.o"
   ]
  },
  {
   "cell_type": "code",
   "execution_count": null,
   "metadata": {},
   "outputs": [],
   "source": [
    "name_i = ('sherlock', 'kamevuse_75', 49.0)\n",
    "\n",
    "row = df_features_targets.loc[name_i]\n",
    "\n",
    "row.data"
   ]
  }
 ],
 "metadata": {
  "jupytext": {
   "formats": "ipynb,py:light"
  },
  "kernelspec": {
   "display_name": "Python [conda env:PROJ_irox_oer] *",
   "language": "python",
   "name": "conda-env-PROJ_irox_oer-py"
  },
  "language_info": {
   "codemirror_mode": {
    "name": "ipython",
    "version": 3
   },
   "file_extension": ".py",
   "mimetype": "text/x-python",
   "name": "python",
   "nbconvert_exporter": "python",
   "pygments_lexer": "ipython3",
   "version": "3.6.13"
  }
 },
 "nbformat": 4,
 "nbformat_minor": 4
}
