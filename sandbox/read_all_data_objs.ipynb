{
 "cells": [
  {
   "cell_type": "code",
   "execution_count": null,
   "metadata": {
    "jupyter": {}
   },
   "outputs": [],
   "source": [
    "import os\n",
    "import sys\n",
    "\n",
    "import copy\n",
    "import shutil\n",
    "from pathlib import Path\n",
    "from contextlib import contextmanager\n",
    "\n",
    "# import pickle; import os\n",
    "\n",
    "import pickle\n",
    "import  json\n",
    "\n",
    "import pandas as pd\n",
    "import numpy as np\n",
    "\n",
    "from ase import io\n",
    "from ase.visualize import view\n",
    "\n",
    "import plotly.graph_objects as go\n",
    "\n",
    "from pymatgen.io.ase import AseAtomsAdaptor\n",
    "from pymatgen.analysis import local_env\n",
    "\n",
    "# #########################################################\n",
    "from misc_modules.pandas_methods import drop_columns\n",
    "\n",
    "from methods import read_magmom_comp_data\n",
    "\n",
    "import os\n",
    "import sys\n",
    "\n",
    "from IPython.display import display\n",
    "\n",
    "import pandas as pd\n",
    "pd.set_option(\"display.max_columns\", None)\n",
    "pd.options.display.max_colwidth = 20\n",
    "# pd.set_option('display.max_rows', None)\n",
    "\n",
    "# #########################################################\n",
    "from methods import (\n",
    "    get_df_jobs_paths,\n",
    "    get_df_dft,\n",
    "    get_df_job_ids,\n",
    "    get_df_jobs,\n",
    "    get_df_jobs_data,\n",
    "    get_df_slab,\n",
    "    get_df_slab_ids,\n",
    "    get_df_jobs_data_clusters,\n",
    "    get_df_jobs_anal,\n",
    "    get_df_slabs_oh,\n",
    "    get_df_init_slabs,\n",
    "    get_df_magmoms,\n",
    "    get_df_ads,\n",
    "    get_df_atoms_sorted_ind,\n",
    "    get_df_rerun_from_oh,\n",
    "    get_df_slab_simil,\n",
    "    get_df_active_sites,\n",
    "    get_df_features_targets,\n",
    "    get_other_job_ids_in_set,\n",
    "    read_magmom_comp_data,\n",
    "    get_df_coord,\n",
    "    get_df_slabs_to_run,\n",
    "    get_df_features,\n",
    "    get_df_jobs_on_clus__all,\n",
    "    get_df_octa_info,\n",
    "    )\n",
    "from methods import get_df_bader_feat\n",
    "from methods import get_df_struct_drift\n",
    "\n",
    "from misc_modules.pandas_methods import reorder_df_columns"
   ]
  },
  {
   "cell_type": "code",
   "execution_count": null,
   "metadata": {
    "jupyter": {}
   },
   "outputs": [],
   "source": [
    "df_dft = get_df_dft()\n",
    "df_job_ids = get_df_job_ids()\n",
    "df_jobs = get_df_jobs(exclude_wsl_paths=True)\n",
    "df_jobs_data = get_df_jobs_data(exclude_wsl_paths=True)\n",
    "df_jobs_data_clusters = get_df_jobs_data_clusters()\n",
    "df_slab = get_df_slab()\n",
    "df_slab_ids = get_df_slab_ids()\n",
    "df_jobs_anal = get_df_jobs_anal()\n",
    "df_jobs_paths = get_df_jobs_paths()\n",
    "df_slabs_oh = get_df_slabs_oh()\n",
    "df_init_slabs = get_df_init_slabs()\n",
    "df_magmoms = get_df_magmoms()\n",
    "df_ads = get_df_ads()\n",
    "df_atoms_sorted_ind = get_df_atoms_sorted_ind()\n",
    "df_rerun_from_oh = get_df_rerun_from_oh()\n",
    "magmom_data_dict = read_magmom_comp_data()\n",
    "df_slab_simil = get_df_slab_simil()\n",
    "df_active_sites = get_df_active_sites()\n",
    "df_features_targets = get_df_features_targets()\n",
    "df_slabs_to_run = get_df_slabs_to_run()\n",
    "df_features = get_df_features()\n",
    "df_jobs_max = get_df_jobs(return_max_only=True)\n",
    "df_jobs_on_clus = get_df_jobs_on_clus__all()\n",
    "df_bader_feat = get_df_bader_feat()\n",
    "df_struct_drift = get_df_struct_drift()\n",
    "df_octa_info = get_df_octa_info()"
   ]
  },
  {
   "cell_type": "code",
   "execution_count": null,
   "metadata": {
    "jupyter": {},
    "lines_to_next_cell": 0
   },
   "outputs": [],
   "source": [
    "def display_df(df, df_name, display_head=True, num_spaces=3):\n",
    "    print(40 * \"*\")\n",
    "    print(df_name)\n",
    "    print(\"df_i.shape:\", df_i.shape)\n",
    "    print(40 * \"*\")\n",
    "\n",
    "    if display_head:\n",
    "        display(df.head())\n",
    "\n",
    "    print(num_spaces * \"\\n\")\n",
    "\n",
    "df_list = [\n",
    "    (\"df_dft\", df_dft),\n",
    "    (\"df_job_ids\", df_job_ids),\n",
    "    (\"df_jobs\", df_jobs),\n",
    "    (\"df_jobs_data\", df_jobs_data),\n",
    "    (\"df_jobs_data_clusters\", df_jobs_data_clusters),\n",
    "    (\"df_slab\", df_slab),\n",
    "    (\"df_slab_ids\", df_slab_ids),\n",
    "    (\"df_jobs_anal\", df_jobs_anal),\n",
    "    (\"df_jobs_paths\", df_jobs_paths),\n",
    "    (\"df_slabs_oh\", df_slabs_oh),\n",
    "    (\"df_magmoms\", df_magmoms),\n",
    "    (\"df_ads\", df_ads),\n",
    "    (\"df_atoms_sorted_ind\", df_atoms_sorted_ind),\n",
    "    (\"df_rerun_from_oh\", df_rerun_from_oh),\n",
    "    (\"df_slab_simil\", df_slab_simil),\n",
    "    (\"df_active_sites\", df_active_sites),\n",
    "    ]\n",
    "\n",
    "# for name_i, df_i in df_list:\n",
    "#     display_df(df_i, name_i)\n",
    "\n",
    "# print(\"\")\n",
    "# print(\"\")\n",
    "\n",
    "# for name_i, df_i in df_list:\n",
    "#     display_df(\n",
    "#         df_i,\n",
    "#         name_i,\n",
    "#         display_head=False,\n",
    "#         num_spaces=0)"
   ]
  },
  {
   "cell_type": "raw",
   "metadata": {
    "lines_to_next_cell": 0
   },
   "source": [
    "\n",
    "\n",
    "\n",
    "\n",
    "\n",
    "\n"
   ],
   "execution_count": null,
   "outputs": []
  },
  {
   "cell_type": "code",
   "execution_count": null,
   "metadata": {},
   "outputs": [],
   "source": [
    "# slac\tdotivela_46\t26.0"
   ]
  },
  {
   "cell_type": "code",
   "execution_count": null,
   "metadata": {},
   "outputs": [],
   "source": [
    "df_jobs.loc[\"henasifu_78\"]"
   ]
  },
  {
   "cell_type": "code",
   "execution_count": null,
   "metadata": {},
   "outputs": [],
   "source": [
    "index_i = (\"slac\", \"dotivela_46\", 26.0)\n",
    "row_i = df_features_targets.loc[[index_i]]\n",
    "\n",
    "row_i"
   ]
  },
  {
   "cell_type": "code",
   "execution_count": null,
   "metadata": {},
   "outputs": [],
   "source": [
    "index_i = (\"sherlock\", \"vipikema_98\", 47.0)\n",
    "row_i = df_features_targets.loc[[index_i]]\n",
    "\n",
    "\n",
    "row_i"
   ]
  },
  {
   "cell_type": "code",
   "execution_count": null,
   "metadata": {},
   "outputs": [],
   "source": [
    "df_jobs.loc[\"pekukele_64\"]"
   ]
  },
  {
   "cell_type": "code",
   "execution_count": null,
   "metadata": {},
   "outputs": [],
   "source": [
    "for index_i, row_i in df_features_targets.iterrows():\n",
    "    slab_id_i = index_i[1]\n",
    "\n",
    "    job_id_o = row_i[(\"data\", \"job_id_o\", \"\", )]\n",
    "\n",
    "    row_jobs_i = df_jobs.loc[job_id_o]\n",
    "    bulk_id_i = row_jobs_i[\"bulk_id\"]\n",
    "\n",
    "    if bulk_id_i == \"cqbrnhbacg\":\n",
    "        tmp = 42\n",
    "        print(index_i)"
   ]
  },
  {
   "cell_type": "code",
   "execution_count": null,
   "metadata": {},
   "outputs": [],
   "source": [
    "df_features_targets.loc[[\n",
    "    ('sherlock', 'kobehubu_94', 52.0),\n",
    "    ('sherlock', 'kobehubu_94', 60.0),\n",
    "    ('sherlock', 'vipikema_98', 47.0),\n",
    "    ('sherlock', 'vipikema_98', 53.0),\n",
    "    ('sherlock', 'vipikema_98', 60.0),\n",
    "    ('slac', 'dotivela_46', 26.0),\n",
    "    ('slac', 'dotivela_46', 32.0),\n",
    "    ('slac', 'ladarane_77', 15.0),\n",
    "    ]]"
   ]
  },
  {
   "cell_type": "code",
   "execution_count": null,
   "metadata": {},
   "outputs": [],
   "source": []
  },
  {
   "cell_type": "code",
   "execution_count": null,
   "metadata": {},
   "outputs": [],
   "source": [
    "df_features_targets[(\"data\", \"norm_sum_norm_abs_magmom_diff\", \"\", )].sort_values(ascending=False).iloc[0:10].index.tolist()"
   ]
  },
  {
   "cell_type": "code",
   "execution_count": null,
   "metadata": {},
   "outputs": [],
   "source": [
    "# df_features_targets.describe()\n",
    "\n",
    "import plotly.graph_objs as go\n",
    "\n",
    "data = []\n",
    "trace = go.Scatter(\n",
    "    mode=\"markers\",\n",
    "    y=df_features_targets[(\"data\", \"norm_sum_norm_abs_magmom_diff\", \"\", )].sort_values(ascending=False),\n",
    "    # x=np.abs(df_target_pred_i[\"err_pred\"]),\n",
    "    )\n",
    "data.append(trace)\n",
    "# trace = go.Scatter(\n",
    "#     # mode=\"markers\",\n",
    "#     y=np.arange(0, 2, 0.1),\n",
    "#     x=np.arange(0, 2, 0.1),\n",
    "#     )\n",
    "# data.append(trace)\n",
    "\n",
    "# data = [trace]\n",
    "\n",
    "fig = go.Figure(data=data)\n",
    "fig.show()"
   ]
  },
  {
   "cell_type": "code",
   "execution_count": null,
   "metadata": {},
   "outputs": [],
   "source": [
    "assert False"
   ]
  },
  {
   "cell_type": "code",
   "execution_count": null,
   "metadata": {},
   "outputs": [],
   "source": [
    "df_octa_info"
   ]
  },
  {
   "cell_type": "code",
   "execution_count": null,
   "metadata": {},
   "outputs": [],
   "source": [
    "assert False"
   ]
  },
  {
   "cell_type": "code",
   "execution_count": null,
   "metadata": {},
   "outputs": [],
   "source": [
    "# df_features_targets"
   ]
  },
  {
   "cell_type": "code",
   "execution_count": null,
   "metadata": {},
   "outputs": [],
   "source": [
    "# df_features_targets[(\"data\", \"job_id_o\", \"\", )]\n",
    "\n",
    "df_features_targets_i = df_features_targets.loc[[\n",
    "    ('sherlock', 'kamevuse_75', 49.0)\n",
    "    ]]\n",
    "\n",
    "for name_i, row_i in df_features_targets_i.iterrows():\n",
    "    job_id_o_i = row_i[(\"data\", \"job_id_o\", \"\", )]\n",
    "\n",
    "    df_octa_info_i = df_octa_info[df_octa_info.job_id_max == job_id_o_i]\n",
    "    row_octa_i = df_octa_info_i.iloc[0]\n",
    "\n",
    "    if row_octa_i.error:\n",
    "        print(name_i)"
   ]
  },
  {
   "cell_type": "code",
   "execution_count": null,
   "metadata": {},
   "outputs": [],
   "source": [
    "df_octa_info_i"
   ]
  },
  {
   "cell_type": "code",
   "execution_count": null,
   "metadata": {},
   "outputs": [],
   "source": [
    "df_features_targets.loc[\n",
    "    ('sherlock', 'momaposi_60', 50.0)\n",
    "    ]"
   ]
  },
  {
   "cell_type": "code",
   "execution_count": null,
   "metadata": {},
   "outputs": [],
   "source": [
    "# (df[(\"data\", \"found_active_Ir__oh\", \"\", )] == True) &\n",
    "\n",
    "# df_features_targets[\"data\"]\n",
    "# df_features_targets.columns.tolist()\n",
    "\n",
    "df_features_targets[\n",
    "    ('data', 'found_active_Ir', '')\n",
    "    ].unique()"
   ]
  },
  {
   "cell_type": "code",
   "execution_count": null,
   "metadata": {},
   "outputs": [],
   "source": [
    "assert False"
   ]
  },
  {
   "cell_type": "code",
   "execution_count": null,
   "metadata": {},
   "outputs": [],
   "source": [
    "job_ids = ['novofide_69', 'solalenu_64', 'huriwara_92', 'bevadofo_80']\n",
    "\n",
    "df_jobs_paths.loc[\n",
    "    job_ids\n",
    "    ]\n",
    "\n",
    "\n",
    "df_tmp = df_atoms_sorted_ind[df_atoms_sorted_ind.job_id.isin(job_ids)]\n",
    "\n",
    "for name_i, row_i in df_tmp.iterrows():\n",
    "    atoms_i = row_i.atoms_sorted_good\n",
    "    job_id_i = row_i.job_id\n",
    "\n",
    "    file_path_no_ext_i = os.path.join(\n",
    "        os.environ[\"PROJ_irox_oer\"],\n",
    "        \"sandbox\",\n",
    "        \"__temp__/20210530_atoms_write_temp\",\n",
    "        job_id_i)\n",
    "\n",
    "        # job_id_i + \".traj\")\n",
    "    # atoms_i.write(file_path_i)\n",
    "\n",
    "    atoms_i.write(file_path_no_ext_i + \".traj\")\n",
    "\n",
    "    atoms_i.write(file_path_no_ext_i + \".cif\")"
   ]
  },
  {
   "cell_type": "code",
   "execution_count": null,
   "metadata": {},
   "outputs": [],
   "source": [
    "assert False"
   ]
  },
  {
   "cell_type": "code",
   "execution_count": null,
   "metadata": {
    "jupyter": {}
   },
   "outputs": [],
   "source": [
    "df_octa_info[df_octa_info.missing_oxy_neigh == True]\n",
    "\n",
    "# df_octa_info.index.tolist()"
   ]
  },
  {
   "cell_type": "code",
   "execution_count": null,
   "metadata": {
    "jupyter": {}
   },
   "outputs": [],
   "source": [
    "assert False"
   ]
  },
  {
   "cell_type": "code",
   "execution_count": null,
   "metadata": {
    "jupyter": {}
   },
   "outputs": [],
   "source": [
    "from proj_data import sys_to_ignore__df_features_targets\n",
    "\n",
    "sys_to_ignore__df_features_targets\n",
    "\n",
    "df_features_targets = df_features_targets.drop(\n",
    "    index=sys_to_ignore__df_features_targets)"
   ]
  },
  {
   "cell_type": "code",
   "execution_count": null,
   "metadata": {
    "jupyter": {}
   },
   "outputs": [],
   "source": [
    "# df_features_targets\n",
    "# df_features_targets[\"features\"][\"o\"][\"active_o_metal_dist\"].sort_values(ascending=False).iloc[0:6].index.tolist()\n",
    "\n",
    "# df_features_targets[\"features\"][\"o\"][\"p_band_center\"].sort_values(ascending=False).iloc[0:6].index.tolist()\n",
    "df_features_targets[\"features\"][\"o\"][\"p_band_center\"].sort_values(ascending=True).iloc[0:12].index.tolist()"
   ]
  }
 ],
 "metadata": {
  "jupytext": {
   "formats": "ipynb,py:light"
  },
  "kernelspec": {
   "display_name": "Python [conda env:PROJ_irox_oer] *",
   "language": "python",
   "name": "conda-env-PROJ_irox_oer-py"
  },
  "language_info": {
   "codemirror_mode": {
    "name": "ipython",
    "version": 3
   },
   "file_extension": ".py",
   "mimetype": "text/x-python",
   "name": "python",
   "nbconvert_exporter": "python",
   "pygments_lexer": "ipython3",
   "version": "3.6.10"
  }
 },
 "nbformat": 4,
 "nbformat_minor": 4
}
