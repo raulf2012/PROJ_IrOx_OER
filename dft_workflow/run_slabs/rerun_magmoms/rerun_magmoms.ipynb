{
 "cells": [
  {
   "cell_type": "markdown",
   "metadata": {},
   "source": [
    "# Rerun jobs to achieve better magmom matching\n",
    "---\n",
    "\n",
    "Will take most magnetic slab of OER set and apply those magmoms to the other slabs"
   ]
  },
  {
   "cell_type": "markdown",
   "metadata": {},
   "source": [
    "### Import Modules"
   ]
  },
  {
   "cell_type": "code",
   "execution_count": 1,
   "metadata": {},
   "outputs": [
    {
     "name": "stdout",
     "output_type": "stream",
     "text": [
      "/mnt/f/Dropbox/01_norskov/00_git_repos/PROJ_IrOx_OER/dft_workflow/run_slabs/rerun_magmoms\n"
     ]
    }
   ],
   "source": [
    "import os\n",
    "print(os.getcwd())\n",
    "import sys\n",
    "\n",
    "# #########################################################\n",
    "from methods import get_df_features_targets\n",
    "from methods import get_df_magmoms"
   ]
  },
  {
   "cell_type": "markdown",
   "metadata": {},
   "source": [
    "### Read Data"
   ]
  },
  {
   "cell_type": "code",
   "execution_count": 2,
   "metadata": {},
   "outputs": [],
   "source": [
    "df_features_targets = get_df_features_targets()\n",
    "\n",
    "df_magmoms = get_df_magmoms()\n",
    "df_magmoms = df_magmoms.set_index(\"job_id\")"
   ]
  },
  {
   "cell_type": "code",
   "execution_count": 3,
   "metadata": {},
   "outputs": [],
   "source": [
    "for name_i, row_i in df_features_targets.iterrows():\n",
    "    tmp = 42\n",
    "\n",
    "# #####################################################\n",
    "job_id_o_i = row_i[(\"data\", \"job_id_o\", \"\", )]\n",
    "job_id_oh_i = row_i[(\"data\", \"job_id_oh\", \"\", )]\n",
    "job_id_bare_i = row_i[(\"data\", \"job_id_bare\", \"\", )]\n",
    "# #####################################################\n",
    "\n",
    "job_ids = [job_id_o_i, job_id_oh_i, job_id_bare_i]"
   ]
  },
  {
   "cell_type": "code",
   "execution_count": 4,
   "metadata": {},
   "outputs": [
    {
     "data": {
      "text/html": [
       "<div>\n",
       "<style scoped>\n",
       "    .dataframe tbody tr th:only-of-type {\n",
       "        vertical-align: middle;\n",
       "    }\n",
       "\n",
       "    .dataframe tbody tr th {\n",
       "        vertical-align: top;\n",
       "    }\n",
       "\n",
       "    .dataframe thead th {\n",
       "        text-align: right;\n",
       "    }\n",
       "</style>\n",
       "<table border=\"1\" class=\"dataframe\">\n",
       "  <thead>\n",
       "    <tr style=\"text-align: right;\">\n",
       "      <th></th>\n",
       "      <th>compenv</th>\n",
       "      <th>slab_id</th>\n",
       "      <th>ads</th>\n",
       "      <th>active_site</th>\n",
       "      <th>att_num</th>\n",
       "      <th>sum_magmoms</th>\n",
       "      <th>sum_abs_magmoms</th>\n",
       "      <th>sum_magmoms_pa</th>\n",
       "      <th>sum_abs_magmoms_pa</th>\n",
       "    </tr>\n",
       "    <tr>\n",
       "      <th>job_id</th>\n",
       "      <th></th>\n",
       "      <th></th>\n",
       "      <th></th>\n",
       "      <th></th>\n",
       "      <th></th>\n",
       "      <th></th>\n",
       "      <th></th>\n",
       "      <th></th>\n",
       "      <th></th>\n",
       "    </tr>\n",
       "  </thead>\n",
       "  <tbody>\n",
       "    <tr>\n",
       "      <th>menamaka_12</th>\n",
       "      <td>slac</td>\n",
       "      <td>wufulafe_03</td>\n",
       "      <td>o</td>\n",
       "      <td>58</td>\n",
       "      <td>1</td>\n",
       "      <td>-0.396</td>\n",
       "      <td>9.634</td>\n",
       "      <td>-0.006712</td>\n",
       "      <td>0.163288</td>\n",
       "    </tr>\n",
       "    <tr>\n",
       "      <th>sudubuwe_77</th>\n",
       "      <td>slac</td>\n",
       "      <td>wufulafe_03</td>\n",
       "      <td>oh</td>\n",
       "      <td>58</td>\n",
       "      <td>0</td>\n",
       "      <td>-2.028</td>\n",
       "      <td>8.764</td>\n",
       "      <td>-0.033800</td>\n",
       "      <td>0.146067</td>\n",
       "    </tr>\n",
       "    <tr>\n",
       "      <th>vunosepi_77</th>\n",
       "      <td>slac</td>\n",
       "      <td>wufulafe_03</td>\n",
       "      <td>bare</td>\n",
       "      <td>58</td>\n",
       "      <td>2</td>\n",
       "      <td>-1.994</td>\n",
       "      <td>8.442</td>\n",
       "      <td>-0.034379</td>\n",
       "      <td>0.145552</td>\n",
       "    </tr>\n",
       "  </tbody>\n",
       "</table>\n",
       "</div>"
      ],
      "text/plain": [
       "            compenv      slab_id   ads active_site  att_num  sum_magmoms  \\\n",
       "job_id                                                                     \n",
       "menamaka_12    slac  wufulafe_03     o          58        1       -0.396   \n",
       "sudubuwe_77    slac  wufulafe_03    oh          58        0       -2.028   \n",
       "vunosepi_77    slac  wufulafe_03  bare          58        2       -1.994   \n",
       "\n",
       "             sum_abs_magmoms  sum_magmoms_pa  sum_abs_magmoms_pa  \n",
       "job_id                                                            \n",
       "menamaka_12            9.634       -0.006712            0.163288  \n",
       "sudubuwe_77            8.764       -0.033800            0.146067  \n",
       "vunosepi_77            8.442       -0.034379            0.145552  "
      ]
     },
     "execution_count": 4,
     "metadata": {},
     "output_type": "execute_result"
    }
   ],
   "source": [
    "df_magmoms.loc[job_ids]"
   ]
  }
 ],
 "metadata": {
  "jupytext": {
   "formats": "ipynb,py"
  },
  "kernelspec": {
   "display_name": "Python [conda env:PROJ_irox_oer] *",
   "language": "python",
   "name": "conda-env-PROJ_irox_oer-py"
  },
  "language_info": {
   "codemirror_mode": {
    "name": "ipython",
    "version": 3
   },
   "file_extension": ".py",
   "mimetype": "text/x-python",
   "name": "python",
   "nbconvert_exporter": "python",
   "pygments_lexer": "ipython3",
   "version": "3.6.10"
  }
 },
 "nbformat": 4,
 "nbformat_minor": 4
}
