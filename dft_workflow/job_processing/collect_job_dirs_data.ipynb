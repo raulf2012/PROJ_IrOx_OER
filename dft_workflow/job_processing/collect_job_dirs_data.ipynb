{
 "cells": [
  {
   "cell_type": "markdown",
   "metadata": {},
   "source": [
    "# Collect/Collate Job Directory Data\n",
    "---\n",
    "\n",
    "Collect all DFT slab data dataframes from the clusters and collates them together"
   ]
  },
  {
   "cell_type": "markdown",
   "metadata": {},
   "source": [
    "# Import Modules"
   ]
  },
  {
   "cell_type": "code",
   "execution_count": 1,
   "metadata": {},
   "outputs": [
    {
     "name": "stdout",
     "output_type": "stream",
     "text": [
      "/mnt/f/Dropbox/01_norskov/00_git_repos/PROJ_IrOx_OER/dft_workflow/job_processing\n",
      "The history saving thread hit an unexpected error (DatabaseError('database disk image is malformed',)).History will not be written to the database.\n"
     ]
    }
   ],
   "source": [
    "import os\n",
    "print(os.getcwd())\n",
    "import sys\n",
    "import time; ti = time.time()\n",
    "\n",
    "import csv\n",
    "import pickle\n",
    "from pathlib import Path\n",
    "\n",
    "import numpy as np\n",
    "import pandas as pd\n",
    "pd.options.mode.chained_assignment = None  # default='warn'\n",
    "\n",
    "# #########################################################\n",
    "from misc_modules.misc_methods import GetUniqueFriendlyID\n",
    "\n",
    "# #########################################################\n",
    "from methods import (\n",
    "    get_df_slab_ids,\n",
    "    get_slab_id,\n",
    "    get_df_job_ids,\n",
    "    get_job_id,\n",
    "    )\n",
    "\n",
    "# #########################################################\n",
    "from local_methods import get_num_revs_for_group"
   ]
  },
  {
   "cell_type": "code",
   "execution_count": 2,
   "metadata": {},
   "outputs": [],
   "source": [
    "from methods import isnotebook    \n",
    "isnotebook_i = isnotebook()\n",
    "if isnotebook_i:\n",
    "    from tqdm.notebook import tqdm\n",
    "    verbose = True\n",
    "else:\n",
    "    from tqdm import tqdm\n",
    "    verbose = False"
   ]
  },
  {
   "cell_type": "markdown",
   "metadata": {},
   "source": [
    "# Read Data"
   ]
  },
  {
   "cell_type": "code",
   "execution_count": 3,
   "metadata": {
    "lines_to_next_cell": 2
   },
   "outputs": [],
   "source": [
    "df_job_ids = get_df_job_ids()\n",
    "\n",
    "compenv_local = os.environ[\"COMPENV\"]"
   ]
  },
  {
   "cell_type": "markdown",
   "metadata": {},
   "source": [
    "# Parse `df_jobs_base` files"
   ]
  },
  {
   "cell_type": "code",
   "execution_count": 4,
   "metadata": {},
   "outputs": [],
   "source": [
    "root_dir = os.path.join(\n",
    "    os.environ[\"PROJ_irox_oer\"],\n",
    "    \"dft_workflow/job_processing\",\n",
    "    \"out_data\")\n",
    "\n",
    "compenvs = [\n",
    "    \"nersc\",\n",
    "    \"sherlock\",\n",
    "    \"slac\",\n",
    "    \"wsl\",\n",
    "    ]\n",
    "\n",
    "df_dict = dict()\n",
    "# df_list = []\n",
    "for compenv_i in compenvs:\n",
    "    file_i = \"df_jobs_base_\" + compenv_i + \".pickle\"\n",
    "    my_file = Path(os.path.join(root_dir, file_i))\n",
    "    if my_file.is_file():\n",
    "\n",
    "        # #################################################\n",
    "        path_i = os.path.join(\n",
    "            my_file._str)\n",
    "        with open(path_i, \"rb\") as fle:\n",
    "            df_i = pickle.load(fle)\n",
    "        # #################################################\n",
    "\n",
    "        df_i[\"compenv_origin\"] = compenv_i\n",
    "\n",
    "        df_dict[compenv_i] = df_i\n",
    "        # df_list.append(df_i)\n",
    "\n",
    "# df_comb = pd.concat(df_list, axis=0)\n",
    "df_comb = pd.concat(list(df_dict.values()), axis=0)\n",
    "df_comb = df_comb.reset_index(drop=True)\n",
    "\n",
    "# Change type of `num_revs` to int\n",
    "# df_comb.num_revs = df_comb.num_revs.astype(\"int\")\n",
    "\n",
    "df_jobs = df_comb"
   ]
  },
  {
   "cell_type": "code",
   "execution_count": 7,
   "metadata": {},
   "outputs": [],
   "source": [
    "from misc_modules.pandas_methods import reorder_df_columns\n",
    "\n",
    "df_jobs = reorder_df_columns([\"compenv\", \"compenv_origin\"], df_jobs)"
   ]
  },
  {
   "cell_type": "code",
   "execution_count": 8,
   "metadata": {
    "lines_to_next_cell": 0
   },
   "outputs": [],
   "source": [
    "df_slab_ids = get_df_slab_ids()\n",
    "\n",
    "slab_ids = []\n",
    "for bulk_id_i, facet_i in zip(df_jobs.bulk_id.tolist(), df_jobs.facet.tolist()):\n",
    "    slab_id_i = get_slab_id(bulk_id_i, facet_i, df_slab_ids)\n",
    "    slab_ids.append(slab_id_i)\n",
    "df_jobs[\"slab_id\"] = slab_ids\n",
    "\n",
    "#| - Reorder DataFrame columns\n",
    "from misc_modules.pandas_methods import reorder_df_columns\n",
    "\n",
    "df_cols = [\n",
    "    \"job_type\",\n",
    "    \"compenv\",\n",
    "    \"bulk_id\",\n",
    "    \"slab_id\",\n",
    "    \"facet\",\n",
    "    \"ads\",\n",
    "    \"active_site\",\n",
    "\n",
    "    \"num_revs\",\n",
    "    \"att_num\",\n",
    "    \"rev_num\",\n",
    "    \"is_rev_dir\",\n",
    "    \"is_attempt_dir\",\n",
    "\n",
    "    # Paths\n",
    "    \"path_job_root\",\n",
    "    \"path_job_root_w_att_rev\",\n",
    "    \"path_full\",\n",
    "    \"path_rel_to_proj\",\n",
    "    \"path_job_root_w_att\",\n",
    "    \"gdrive_path\",\n",
    "    ]\n",
    "\n",
    "df_jobs = reorder_df_columns(df_cols, df_jobs)\n",
    "#__|"
   ]
  },
  {
   "cell_type": "markdown",
   "metadata": {},
   "source": [
    "### Remove duplicates introduced by gathering from local and cluster systems"
   ]
  },
  {
   "cell_type": "code",
   "execution_count": 9,
   "metadata": {},
   "outputs": [],
   "source": [
    "df_jobs[\"active_site\"] = df_jobs.active_site.fillna(\"NaN\")\n",
    "\n",
    "series_list = []\n",
    "\n",
    "grouped = df_jobs.groupby([\n",
    "    \"compenv\", \"bulk_id\", \"slab_id\", \"facet\",\n",
    "    \"ads\", \"active_site\", \"att_num\", \"rev_num\", \"job_type\", ])\n",
    "for name, group in grouped:\n",
    "\n",
    "    df_i = group\n",
    "    if df_i.shape[0] > 1:\n",
    "        df_i_2 = df_i[df_i.compenv == df_i.compenv_origin]\n",
    "\n",
    "        mess_i = \"Hopefully this parses it down to one row\"\n",
    "        assert df_i_2.shape[0] == 1, mess_i\n",
    "\n",
    "        series_i = df_i_2.iloc[0]\n",
    "    elif df_i.shape[0] == 1:\n",
    "        series_i = df_i.iloc[0]\n",
    "    else:\n",
    "        print(\"Not good\")\n",
    "\n",
    "    series_list.append(series_i)\n",
    "\n",
    "df_jobs = pd.DataFrame(series_list)"
   ]
  },
  {
   "cell_type": "markdown",
   "metadata": {},
   "source": [
    "### Creating job ids data"
   ]
  },
  {
   "cell_type": "code",
   "execution_count": 10,
   "metadata": {},
   "outputs": [
    {
     "data": {
      "application/vnd.jupyter.widget-view+json": {
       "model_id": "e08247fb3efe4438853585b0e2a537f5",
       "version_major": 2,
       "version_minor": 0
      },
      "text/plain": [
       "HBox(children=(FloatProgress(value=0.0, description='1st loop', max=5607.0, style=ProgressStyle(description_wi…"
      ]
     },
     "metadata": {},
     "output_type": "display_data"
    },
    {
     "name": "stdout",
     "output_type": "stream",
     "text": [
      "\n"
     ]
    }
   ],
   "source": [
    "used_ids = set(df_job_ids.job_id.tolist())\n",
    "\n",
    "# #########################################################\n",
    "job_ids_list = []\n",
    "data_dict_list = []\n",
    "# #########################################################\n",
    "df_i = df_jobs[[\n",
    "    \"job_type\", \"compenv\", \"bulk_id\", \"slab_id\",\n",
    "    \"facet\", \"att_num\", \"rev_num\", \"ads\", \"active_site\", ]]\n",
    "# #########################################################\n",
    "iterator = tqdm(df_i.index, desc=\"1st loop\")\n",
    "for i_cnt, index_i in enumerate(iterator):\n",
    "    # #####################################################\n",
    "    row_i = df_i.loc[index_i]\n",
    "    # #####################################################\n",
    "    job_type = row_i.job_type\n",
    "    compenv = row_i.compenv\n",
    "    bulk_id = row_i.bulk_id\n",
    "    slab_id = row_i.slab_id\n",
    "    facet = row_i.facet\n",
    "    att_num = row_i.att_num\n",
    "    rev_num = row_i.rev_num\n",
    "    ads = row_i.ads\n",
    "    active_site = row_i.active_site\n",
    "    # #####################################################\n",
    "\n",
    "\n",
    "    job_id_i = get_job_id(\n",
    "        job_type,\n",
    "\n",
    "        compenv, bulk_id, slab_id, facet, att_num,\n",
    "        rev_num, ads, active_site,\n",
    "\n",
    "        df_job_ids=df_job_ids)\n",
    "\n",
    "    if job_id_i is None:\n",
    "        # print(index_i)\n",
    "        job_id_i = GetUniqueFriendlyID(used_ids)\n",
    "        used_ids.add(job_id_i)\n",
    "\n",
    "    job_ids_list.append(job_id_i)\n",
    "\n",
    "    # #####################################################\n",
    "    data_dict_i = dict()\n",
    "    # #####################################################\n",
    "    data_dict_i[\"job_id\"] = job_id_i\n",
    "    # #####################################################\n",
    "    data_dict_i.update(row_i.to_dict())\n",
    "    # #####################################################\n",
    "    data_dict_list.append(data_dict_i)\n",
    "    # #####################################################\n",
    "\n",
    "\n",
    "\n",
    "# #########################################################\n",
    "df_job_ids_new = pd.DataFrame(data_dict_list)\n",
    "# #########################################################"
   ]
  },
  {
   "cell_type": "markdown",
   "metadata": {},
   "source": [
    "### Checking for duplicate job_ids"
   ]
  },
  {
   "cell_type": "code",
   "execution_count": 11,
   "metadata": {},
   "outputs": [],
   "source": [
    "df_job_ids_duplicates = df_job_ids_new[df_job_ids_new.job_id.duplicated(keep=False)]\n",
    "\n",
    "assert df_job_ids_duplicates.shape[0] == 0, \"There are duplicate rows with the same job_id | NOT GOOD FIGURE IT OUT!\""
   ]
  },
  {
   "cell_type": "code",
   "execution_count": 12,
   "metadata": {},
   "outputs": [],
   "source": [
    "path_i = os.path.join(\n",
    "    os.environ[\"PROJ_irox_oer\"],\n",
    "    \"dft_workflow/job_processing\",\n",
    "    \"out_data/job_id_mapping.csv\")\n",
    "\n",
    "from pathlib import Path\n",
    "my_file = Path(os.environ[\"PROJ_irox_oer_gdrive\"])\n",
    "if my_file.is_dir():\n",
    "\n",
    "\n",
    "    from methods import get_df_job_ids\n",
    "    df_job_ids_old = get_df_job_ids()\n",
    "    df_job_ids_old = df_job_ids_old.drop_duplicates()\n",
    "\n",
    "    # #########################################################\n",
    "    df_job_ids_old = df_job_ids_old.set_index([\n",
    "        \"job_type\",\n",
    "        \"compenv\", \"bulk_id\", \"slab_id\",\n",
    "        \"facet\", \"att_num\", \"rev_num\",\n",
    "        \"ads\", \"active_site\"], drop=False)\n",
    "\n",
    "    df_job_ids_new = df_job_ids_new.set_index([\n",
    "        \"job_type\",\n",
    "        \"compenv\", \"bulk_id\", \"slab_id\",\n",
    "        \"facet\", \"att_num\", \"rev_num\",\n",
    "        \"ads\", \"active_site\"], drop=False)\n",
    "\n",
    "\n",
    "    # #########################################################\n",
    "    drop_from_new_job_ids = []\n",
    "    for index_i in df_job_ids_new.index:\n",
    "        already_present = index_i in df_job_ids_old.index\n",
    "\n",
    "        if already_present:\n",
    "\n",
    "            row_old_i = df_job_ids_old.loc[index_i]\n",
    "            job_id_old_i = row_old_i.job_id\n",
    "\n",
    "            row_new_i = df_job_ids_new.loc[index_i]\n",
    "            job_id_new_i = row_new_i.job_id\n",
    "\n",
    "            job_ids_match = job_id_new_i == job_id_old_i\n",
    "\n",
    "        if already_present and job_ids_match:\n",
    "            drop_from_new_job_ids.append(index_i)\n",
    "\n",
    "    df_job_ids_new = df_job_ids_new.drop(labels=drop_from_new_job_ids)\n",
    "\n",
    "\n",
    "    # #########################################################\n",
    "    df_job_ids_comb = pd.concat([\n",
    "        df_job_ids_old,\n",
    "        df_job_ids_new,\n",
    "        ], axis=0)\n",
    "\n",
    "    df_job_ids_comb = df_job_ids_comb.reset_index(drop=True)\n",
    "\n",
    "    df_job_ids_comb = df_job_ids_comb.drop_duplicates()\n",
    "\n",
    "    df_job_ids_comb.to_csv(\n",
    "        path_i,\n",
    "        index=False,\n",
    "        quoting=csv.QUOTE_NONNUMERIC,\n",
    "        na_rep=\"NULL\",\n",
    "        )\n",
    "\n",
    "else:\n",
    "    if compenv_local == \"wsl\":\n",
    "        for i in range(50): print(\n",
    "            \"The PROJ_irox_oer_gdrive location is not here/accesible\",\n",
    "            \"\\n\",\n",
    "            \"os.environ['PROJ_irox_oer_gdrive']:\", os.environ[\"PROJ_irox_oer_gdrive\"],\n",
    "            \"\\n\",\n",
    "            \"This will mess things up royally I think\",\n",
    "            \"\\n\",\n",
    "            sep=\"\")\n",
    "\n",
    "df_jobs[\"job_id\"] = job_ids_list"
   ]
  },
  {
   "cell_type": "code",
   "execution_count": 13,
   "metadata": {},
   "outputs": [],
   "source": [
    "from misc_modules.pandas_methods import reorder_df_columns\n",
    "\n",
    "df_jobs = reorder_df_columns([\"bulk_id\", \"slab_id\", \"job_id\", \"facet\", \"compenv\", ], df_jobs)\n",
    "\n",
    "# Set index to `job_id`\n",
    "df_jobs = df_jobs.set_index(\"job_id\", drop=False)"
   ]
  },
  {
   "cell_type": "code",
   "execution_count": 14,
   "metadata": {},
   "outputs": [],
   "source": [
    "group_cols = [\n",
    "    \"job_type\",\n",
    "    \"bulk_id\", \"slab_id\", \"facet\", \"compenv\",\n",
    "    \"ads\", \"active_site\", \"att_num\",\n",
    "    ]\n",
    "groups = []\n",
    "grouped = df_jobs.groupby(group_cols)\n",
    "for name_i, group_i in grouped:\n",
    "    num_revs_i = get_num_revs_for_group(group=group_i)\n",
    "    group_i[\"num_revs\"] = num_revs_i\n",
    "    groups.append(group_i)\n",
    "\n",
    "if len(groups) == 0:\n",
    "    pass\n",
    "else:\n",
    "    df_jobs = pd.concat(groups, axis=0)"
   ]
  },
  {
   "cell_type": "markdown",
   "metadata": {},
   "source": [
    "### Create `path_short` variable"
   ]
  },
  {
   "cell_type": "code",
   "execution_count": 15,
   "metadata": {},
   "outputs": [],
   "source": [
    "def method(row_i):\n",
    "    \"\"\"\n",
    "    \"\"\"\n",
    "    path_job_root_w_att_rev = row_i.path_job_root_w_att_rev\n",
    "\n",
    "    new_path_list = []\n",
    "    start_adding = False; start_adding_ind = None\n",
    "    for i_cnt, i in enumerate(path_job_root_w_att_rev.split(\"/\")):\n",
    "        if i == \"dft_jobs\":\n",
    "            start_adding = True\n",
    "            start_adding_ind = i_cnt\n",
    "        if start_adding and i_cnt > start_adding_ind:\n",
    "            new_path_list.append(i)\n",
    "\n",
    "    path_short_i = \"/\".join(new_path_list)\n",
    "\n",
    "    return(path_short_i)\n",
    "\n",
    "df_i = df_jobs\n",
    "df_i[\"path_short\"] = df_i.apply(method, axis=1)\n",
    "df_jobs = df_i"
   ]
  },
  {
   "cell_type": "markdown",
   "metadata": {},
   "source": [
    "### Create `df_jobs_paths`"
   ]
  },
  {
   "cell_type": "code",
   "execution_count": 16,
   "metadata": {},
   "outputs": [],
   "source": [
    "path_cols = [i for i in df_jobs.columns.tolist() if \"path\" in i]\n",
    "\n",
    "cols = [\"compenv\", \"compenv_origin\", ] + path_cols\n",
    "df_jobs_paths = df_jobs[cols]"
   ]
  },
  {
   "cell_type": "code",
   "execution_count": 17,
   "metadata": {},
   "outputs": [],
   "source": [
    "new_col = []\n",
    "for job_id_i, row_paths_i in df_jobs_paths.iterrows():\n",
    "    path_rel_to_proj_i = row_paths_i.path_rel_to_proj\n",
    "\n",
    "\n",
    "    # compenvs = [\"nersc\", \"slac\", \"sherlock\", ]\n",
    "\n",
    "    new_path_list = []\n",
    "    for i in path_rel_to_proj_i.split(\"/\"):\n",
    "        if i not in compenvs:\n",
    "            new_path_list.append(i)\n",
    "\n",
    "    new_path_i = \"/\".join(new_path_list)\n",
    "    new_col.append(new_path_i)\n",
    "\n",
    "df_jobs_paths[\"path_rel_to_proj__no_compenv\"] = new_col"
   ]
  },
  {
   "cell_type": "markdown",
   "metadata": {},
   "source": [
    "### Misc final cleanup"
   ]
  },
  {
   "cell_type": "code",
   "execution_count": 24,
   "metadata": {},
   "outputs": [],
   "source": [
    "# #########################################################\n",
    "df_jobs = df_jobs.drop(\n",
    "    columns=path_cols,\n",
    "    )\n",
    "\n",
    "# #########################################################\n",
    "cols_to_drop = [\n",
    "    \"is_rev_dir\",\n",
    "    \"is_attempt_dir\",\n",
    "    ]\n",
    "\n",
    "# #########################################################\n",
    "df_jobs = df_jobs.drop(columns=cols_to_drop)\n",
    "\n",
    "# #########################################################\n",
    "# Sorting dataframe\n",
    "sort_list = [\"compenv\", \"bulk_id\", \"slab_id\",\n",
    "    \"att_num\", \"rev_num\", \"ads\", \"active_site\"]\n",
    "df_jobs = df_jobs.sort_values(sort_list)"
   ]
  },
  {
   "cell_type": "markdown",
   "metadata": {},
   "source": [
    "### Saving `df_jobs` and `df_jobs_paths` to file"
   ]
  },
  {
   "cell_type": "code",
   "execution_count": 26,
   "metadata": {},
   "outputs": [],
   "source": [
    "root_dir = os.path.join(\n",
    "    os.environ[\"PROJ_irox_oer\"],\n",
    "    \"dft_workflow/job_processing\")\n",
    "\n",
    "directory = os.path.join(\n",
    "    root_dir,\n",
    "    \"out_data\")\n",
    "\n",
    "if not os.path.exists(directory):\n",
    "    os.makedirs(directory)"
   ]
  },
  {
   "cell_type": "code",
   "execution_count": 27,
   "metadata": {},
   "outputs": [],
   "source": [
    "# #########################################################\n",
    "with open(os.path.join(directory, \"df_jobs_combined.pickle\"), \"wb\") as fle:\n",
    "    pickle.dump(df_jobs, fle)\n",
    "\n",
    "# #########################################################\n",
    "with open(os.path.join(directory, \"df_jobs_paths.pickle\"), \"wb\") as fle:\n",
    "    pickle.dump(df_jobs_paths, fle)"
   ]
  },
  {
   "cell_type": "code",
   "execution_count": 28,
   "metadata": {},
   "outputs": [
    {
     "name": "stdout",
     "output_type": "stream",
     "text": [
      "# # # # # # # # # # # # # # # # # # # # # # # # # # # # # # # # # # # # # # # # \n",
      "All done!\n",
      "Run time: 2.488 min\n",
      "collect_job_dirs_data.ipynb\n",
      "# # # # # # # # # # # # # # # # # # # # # # # # # # # # # # # # # # # # # # # # \n"
     ]
    }
   ],
   "source": [
    "# #########################################################\n",
    "print(20 * \"# # \")\n",
    "print(\"All done!\")\n",
    "print(\"Run time:\", np.round((time.time() - ti) / 60, 3), \"min\")\n",
    "print(\"collect_job_dirs_data.ipynb\")\n",
    "print(20 * \"# # \")\n",
    "# #########################################################"
   ]
  },
  {
   "cell_type": "raw",
   "metadata": {},
   "source": [
    "\n",
    "\n"
   ]
  }
 ],
 "metadata": {
  "jupytext": {
   "formats": "ipynb,py:light"
  },
  "kernelspec": {
   "display_name": "Python [conda env:PROJ_irox_oer] *",
   "language": "python",
   "name": "conda-env-PROJ_irox_oer-py"
  },
  "language_info": {
   "codemirror_mode": {
    "name": "ipython",
    "version": 3
   },
   "file_extension": ".py",
   "mimetype": "text/x-python",
   "name": "python",
   "nbconvert_exporter": "python",
   "pygments_lexer": "ipython3",
   "version": "3.6.10"
  }
 },
 "nbformat": 4,
 "nbformat_minor": 4
}
