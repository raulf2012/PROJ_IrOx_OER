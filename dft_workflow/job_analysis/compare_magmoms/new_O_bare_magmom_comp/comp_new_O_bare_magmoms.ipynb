{
 "cells": [
  {
   "cell_type": "markdown",
   "metadata": {},
   "source": [
    "# Measuring how much better the magmom matching is before and after running additionnal *O and * slabs from *OH\n",
    "---"
   ]
  },
  {
   "cell_type": "markdown",
   "metadata": {},
   "source": [
    "# Import Modules"
   ]
  },
  {
   "cell_type": "code",
   "execution_count": 1,
   "metadata": {},
   "outputs": [
    {
     "name": "stdout",
     "output_type": "stream",
     "text": [
      "/home/raulf2012/Dropbox/01_norskov/00_git_repos/PROJ_IrOx_OER/dft_workflow/job_analysis/compare_magmoms/new_O_bare_magmom_comp\n"
     ]
    }
   ],
   "source": [
    "import os\n",
    "print(os.getcwd())\n",
    "import sys\n",
    "\n",
    "# #########################################################\n",
    "from methods import get_df_magmoms\n",
    "from methods import read_magmom_comp_data\n",
    "\n",
    "from methods import get_df_jobs_anal, get_df_jobs_data, get_df_jobs"
   ]
  },
  {
   "cell_type": "markdown",
   "metadata": {},
   "source": [
    "# Read Data"
   ]
  },
  {
   "cell_type": "code",
   "execution_count": 2,
   "metadata": {},
   "outputs": [],
   "source": [
    "df_magmoms = get_df_magmoms()\n",
    "magmom_data_dict = read_magmom_comp_data()\n",
    "df_jobs = get_df_jobs()\n",
    "df_jobs_anal = get_df_jobs_anal()\n",
    "df_jobs_data = get_df_jobs_data()"
   ]
  },
  {
   "cell_type": "code",
   "execution_count": 6,
   "metadata": {},
   "outputs": [],
   "source": [
    "# TODO | Don't use df_oer_groups, not needed anymore\n",
    "\n",
    "from methods import get_df_oer_groups\n",
    "\n",
    "df_oer_groups = get_df_oer_groups()"
   ]
  },
  {
   "cell_type": "code",
   "execution_count": 17,
   "metadata": {},
   "outputs": [],
   "source": [
    "# df_oer_groups"
   ]
  },
  {
   "cell_type": "code",
   "execution_count": 19,
   "metadata": {},
   "outputs": [],
   "source": [
    "for name_i, row_i in df_oer_groups.iterrows():\n",
    "    tmp = 42\n",
    "\n",
    "# #########################################################\n",
    "compenv_i = name_i[0]\n",
    "slab_id_i = name_i[1]\n",
    "active_site_i = name_i[2]\n",
    "# #########################################################"
   ]
  },
  {
   "cell_type": "code",
   "execution_count": 20,
   "metadata": {},
   "outputs": [
    {
     "data": {
      "text/plain": [
       "compenv                                                            slac\n",
       "slab_id                                                     vuraruna_65\n",
       "active_site                                                          50\n",
       "df_jobs_anal_index    [(slac, vuraruna_65, o, NaN, 1), (slac, vuraru...\n",
       "ads_list                                                    [o, oh, oh]\n",
       "ads_list_unique                                                 [o, oh]\n",
       "all_ads_present                                                   False\n",
       "num_oh_completed                                                      2\n",
       "Name: (slac, vuraruna_65, 50.0), dtype: object"
      ]
     },
     "execution_count": 20,
     "metadata": {},
     "output_type": "execute_result"
    }
   ],
   "source": [
    "row_i"
   ]
  },
  {
   "cell_type": "code",
   "execution_count": 4,
   "metadata": {},
   "outputs": [],
   "source": [
    "# # df_jobs\n",
    "\n",
    "# group_cols = [\"compenv\", \"bulk_id\", \"slab_id\", \"\", ]\n",
    "# grouped = df_jobs.groupby(group_cols)\n",
    "# for name, group in grouped:\n",
    "#     tmp = 42"
   ]
  },
  {
   "cell_type": "code",
   "execution_count": 5,
   "metadata": {},
   "outputs": [],
   "source": [
    "# df_magmoms"
   ]
  }
 ],
 "metadata": {
  "jupytext": {
   "formats": "ipynb,py:light"
  },
  "kernelspec": {
   "display_name": "Python [conda env:PROJ_irox_oer] *",
   "language": "python",
   "name": "conda-env-PROJ_irox_oer-py"
  },
  "language_info": {
   "codemirror_mode": {
    "name": "ipython",
    "version": 3
   },
   "file_extension": ".py",
   "mimetype": "text/x-python",
   "name": "python",
   "nbconvert_exporter": "python",
   "pygments_lexer": "ipython3",
   "version": "3.6.10"
  }
 },
 "nbformat": 4,
 "nbformat_minor": 4
}
