{
 "cells": [
  {
   "cell_type": "markdown",
   "metadata": {},
   "source": [
    "# Analyse magmoms of converged slabs for the purpose of setting initial magmoms in the future\n",
    "---"
   ],
   "execution_count": null,
   "outputs": []
  },
  {
   "cell_type": "markdown",
   "metadata": {},
   "source": [
    "# Import Modules"
   ],
   "execution_count": null,
   "outputs": []
  },
  {
   "cell_type": "code",
   "execution_count": null,
   "metadata": {},
   "outputs": [],
   "source": [
    "import os\n",
    "print(os.getcwd())\n",
    "import sys\n",
    "\n",
    "import numpy as np\n",
    "import pandas as pd\n",
    "\n",
    "# #########################################################\n",
    "from methods import get_df_atoms_sorted_ind\n",
    "from methods import get_df_jobs\n",
    "from methods import get_df_jobs_anal"
   ]
  },
  {
   "cell_type": "markdown",
   "metadata": {},
   "source": [
    "# Read Data"
   ],
   "execution_count": null,
   "outputs": []
  },
  {
   "cell_type": "code",
   "execution_count": null,
   "metadata": {},
   "outputs": [],
   "source": [
    "df_atoms_sorted_ind = get_df_atoms_sorted_ind()\n",
    "\n",
    "df_jobs = get_df_jobs()\n",
    "\n",
    "df_jobs_anal = get_df_jobs_anal()"
   ]
  },
  {
   "cell_type": "raw",
   "metadata": {},
   "source": [
    "\n"
   ],
   "execution_count": null,
   "outputs": []
  },
  {
   "cell_type": "code",
   "execution_count": null,
   "metadata": {},
   "outputs": [],
   "source": [
    "df_jobs_anal_i = df_jobs_anal[df_jobs_anal.job_completely_done == True]"
   ]
  },
  {
   "cell_type": "code",
   "execution_count": null,
   "metadata": {},
   "outputs": [],
   "source": [
    "df_index_i = df_jobs_anal_i.index.to_frame()\n",
    "df_index_i = df_index_i[df_index_i.ads == \"oh\"]\n",
    "\n",
    "df_index_i.index"
   ]
  },
  {
   "cell_type": "code",
   "execution_count": null,
   "metadata": {},
   "outputs": [],
   "source": [
    "df_atoms_sorted_ind_i = df_atoms_sorted_ind.loc[\n",
    "    df_index_i.index\n",
    "    ]\n",
    "\n",
    "# print(10 * \"TEMP | \")\n",
    "# df_atoms_sorted_ind_i = df_atoms_sorted_ind_i.iloc[[0]]\n",
    "\n",
    "# #########################################################\n",
    "data_dict_list = []\n",
    "# #########################################################\n",
    "for name_i, row_i in df_atoms_sorted_ind_i.iterrows():\n",
    "    # #####################################################\n",
    "    was_sorted_i = row_i.was_sorted\n",
    "    magmoms_sorted_good_i = row_i.magmoms_sorted_good\n",
    "    atoms_sorted_good_i = row_i.atoms_sorted_good\n",
    "    # #####################################################\n",
    "\n",
    "    if atoms_sorted_good_i is not None:\n",
    "        # print(name_i)\n",
    "\n",
    "\n",
    "        if magmoms_sorted_good_i is None:\n",
    "            magmoms_i = atoms_sorted_good_i.get_magnetic_moments()\n",
    "        else:\n",
    "            magmoms_i = magmoms_sorted_good_i\n",
    "\n",
    "        atoms = atoms_sorted_good_i\n",
    "\n",
    "        # Positions\n",
    "        z_positions = atoms.positions[:, 2]\n",
    "        z_max = z_positions.max()\n",
    "\n",
    "\n",
    "        for atom_j in atoms:\n",
    "            # #################################################\n",
    "            data_dict_j = dict()\n",
    "            # #################################################\n",
    "            atom_index_j = atom_j.index\n",
    "            symbol_j = atom_j.symbol\n",
    "            # #################################################\n",
    "\n",
    "            magmom_j = magmoms_i[atom_index_j]\n",
    "\n",
    "            z_pos_j = atom_j.position[2]\n",
    "            dist_from_top = z_max - z_pos_j\n",
    "\n",
    "            # #################################################\n",
    "            data_dict_j[\"symbol\"] = symbol_j\n",
    "            data_dict_j[\"magmom\"] = magmom_j\n",
    "            data_dict_j[\"dist_from_top\"] = dist_from_top\n",
    "            # data_dict_j[\"\"] = \n",
    "            # #################################################\n",
    "            data_dict_list.append(data_dict_j)\n",
    "            # #################################################\n",
    "\n",
    "\n",
    "# #########################################################\n",
    "df = pd.DataFrame(data_dict_list)\n",
    "df.head()"
   ]
  },
  {
   "cell_type": "code",
   "execution_count": null,
   "metadata": {},
   "outputs": [],
   "source": [
    "df[\"magmom_abs\"] = np.abs(df.magmom)"
   ]
  },
  {
   "cell_type": "code",
   "execution_count": null,
   "metadata": {},
   "outputs": [],
   "source": [
    "df = df[df.dist_from_top < 4]"
   ]
  },
  {
   "cell_type": "code",
   "execution_count": null,
   "metadata": {},
   "outputs": [],
   "source": [
    "# assert False"
   ]
  },
  {
   "cell_type": "code",
   "execution_count": null,
   "metadata": {},
   "outputs": [],
   "source": [
    "import plotly.express as px\n",
    "fig = px.histogram(\n",
    "    df,\n",
    "    x=\"magmom_abs\",\n",
    "    color=\"symbol\",\n",
    "    marginal=\"rug\", # can be `box`, `violin`\n",
    "    nbins=100,\n",
    "    )\n",
    "fig.show()"
   ]
  },
  {
   "cell_type": "code",
   "execution_count": null,
   "metadata": {},
   "outputs": [],
   "source": []
  }
 ],
 "metadata": {
  "jupytext": {
   "formats": "ipynb,py:light"
  },
  "kernelspec": {
   "display_name": "Python [conda env:PROJ_irox_oer] *",
   "language": "python",
   "name": "conda-env-PROJ_irox_oer-py"
  },
  "language_info": {
   "codemirror_mode": {
    "name": "ipython",
    "version": 3
   },
   "file_extension": ".py",
   "mimetype": "text/x-python",
   "name": "python",
   "nbconvert_exporter": "python",
   "pygments_lexer": "ipython3",
   "version": "3.6.10"
  }
 },
 "nbformat": 4,
 "nbformat_minor": 4
}
