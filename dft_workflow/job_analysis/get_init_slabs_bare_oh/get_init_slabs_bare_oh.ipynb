{
 "cells": [
  {
   "cell_type": "markdown",
   "metadata": {},
   "source": [
    "# Extract the initial atoms objects for the bare and *OH slabs\n",
    "---"
   ]
  },
  {
   "cell_type": "markdown",
   "metadata": {},
   "source": [
    "### Import Modules"
   ]
  },
  {
   "cell_type": "code",
   "execution_count": 1,
   "metadata": {},
   "outputs": [
    {
     "name": "stdout",
     "output_type": "stream",
     "text": [
      "/mnt/f/Dropbox/01_norskov/00_git_repos/PROJ_IrOx_OER/dft_workflow/job_analysis/get_init_slabs_bare_oh\n"
     ]
    }
   ],
   "source": [
    "import os\n",
    "print(os.getcwd())\n",
    "import sys\n",
    "import time; ti = time.time()\n",
    "\n",
    "import pickle\n",
    "\n",
    "from IPython.display import display\n",
    "\n",
    "import numpy as np\n",
    "import pandas as pd\n",
    "pd.set_option(\"display.max_columns\", None)\n",
    "pd.options.display.max_colwidth = 20\n",
    "# pd.set_option('display.max_rows', None)\n",
    "\n",
    "# #########################################################\n",
    "from methods import (\n",
    "    get_df_jobs,\n",
    "    get_df_jobs_data,\n",
    "    get_df_active_sites,\n",
    "    )"
   ]
  },
  {
   "cell_type": "code",
   "execution_count": 2,
   "metadata": {},
   "outputs": [],
   "source": [
    "from methods import isnotebook    \n",
    "isnotebook_i = isnotebook()\n",
    "if isnotebook_i:\n",
    "    from tqdm.notebook import tqdm\n",
    "    verbose = True\n",
    "else:\n",
    "    from tqdm import tqdm\n",
    "    verbose = False"
   ]
  },
  {
   "cell_type": "markdown",
   "metadata": {},
   "source": [
    "### Read Data"
   ]
  },
  {
   "cell_type": "code",
   "execution_count": 3,
   "metadata": {},
   "outputs": [],
   "source": [
    "df_jobs = get_df_jobs(exclude_wsl_paths=True)\n",
    "\n",
    "df_jobs_data = get_df_jobs_data(exclude_wsl_paths=True)"
   ]
  },
  {
   "cell_type": "markdown",
   "metadata": {},
   "source": [
    "### Filtering dataframes to only include `oer_adsorbate` job types"
   ]
  },
  {
   "cell_type": "code",
   "execution_count": 4,
   "metadata": {},
   "outputs": [],
   "source": [
    "df_jobs = df_jobs[df_jobs.job_type == \"oer_adsorbate\"]"
   ]
  },
  {
   "cell_type": "markdown",
   "metadata": {},
   "source": [
    "### Main loop"
   ]
  },
  {
   "cell_type": "code",
   "execution_count": 5,
   "metadata": {},
   "outputs": [
    {
     "name": "stdout",
     "output_type": "stream",
     "text": [
      "('sherlock', 'fogalonu_46', 'o', 16.0, 1)\n"
     ]
    }
   ],
   "source": [
    "# #########################################################\n",
    "data_dict_list = []\n",
    "# #########################################################\n",
    "group_cols = [\n",
    "    \"compenv\", \"slab_id\",\n",
    "    \"ads\", \"active_site\", \"att_num\"]\n",
    "grouped = df_jobs.groupby(group_cols)\n",
    "# #########################################################\n",
    "for name, group in grouped:\n",
    "\n",
    "# for i in range(1):\n",
    "#     name = ('sherlock', 'fogalonu_46', 'o', 16.0, 1)\n",
    "#     group = grouped.get_group(name)\n",
    "\n",
    "    # #####################################################\n",
    "    compenv_i = name[0]\n",
    "    slab_id_i = name[1]\n",
    "    ads_i = name[2]\n",
    "    active_site_i = name[3]\n",
    "    att_num_i = name[4]\n",
    "    # #####################################################\n",
    "\n",
    "    group = group.drop(\n",
    "        # cols_to_drop + [\"num_revs\", \"job_id\"],\n",
    "        group_cols + [\"num_revs\", \"job_id\"],\n",
    "        axis=1)\n",
    "\n",
    "    # #####################################################\n",
    "    row_i = group[group.rev_num == 1]\n",
    "    mess_i = \"Must only have one row in a group with rev_num=1\"\n",
    "    assert row_i.shape[0] == 1, mess_i\n",
    "    row_i = row_i.iloc[0]\n",
    "\n",
    "    job_id_min_i = row_i.name\n",
    "    # #####################################################\n",
    "\n",
    "    if job_id_min_i == \"ruhusunu_66\":\n",
    "        print(name)\n",
    "\n",
    "    # #####################################################\n",
    "    row_data_i = df_jobs_data.loc[job_id_min_i]\n",
    "    # #####################################################\n",
    "    init_atoms_i = row_data_i.init_atoms\n",
    "    # #####################################################\n",
    "\n",
    "\n",
    "    # #####################################################\n",
    "    data_dict_i = dict()\n",
    "    # #####################################################\n",
    "    data_dict_i[\"compenv\"] = compenv_i\n",
    "    data_dict_i[\"slab_id\"] = slab_id_i\n",
    "    data_dict_i[\"ads\"] = ads_i\n",
    "    data_dict_i[\"active_site\"] = active_site_i\n",
    "    data_dict_i[\"att_num\"] = att_num_i\n",
    "    data_dict_i[\"job_id_min\"] = job_id_min_i\n",
    "    data_dict_i[\"init_atoms\"] = init_atoms_i\n",
    "    # #####################################################\n",
    "    data_dict_list.append(data_dict_i)\n",
    "    # #####################################################\n",
    "\n",
    "\n",
    "# #########################################################\n",
    "df_init_slabs = pd.DataFrame(data_dict_list)\n",
    "df_init_slabs = df_init_slabs.set_index([\"compenv\", \"slab_id\", \"ads\", \"active_site\", \"att_num\", ])\n",
    "# #########################################################"
   ]
  },
  {
   "cell_type": "markdown",
   "metadata": {},
   "source": [
    "### Get number of atoms"
   ]
  },
  {
   "cell_type": "code",
   "execution_count": 6,
   "metadata": {},
   "outputs": [],
   "source": [
    "def method(row_i):\n",
    "    # #####################################################\n",
    "    init_atoms_i = row_i.init_atoms\n",
    "    job_id_min_i = row_i.job_id_min\n",
    "    # #####################################################\n",
    "\n",
    "    if init_atoms_i is None:\n",
    "        print(\"Couldn't find init_atoms for this job_id\")\n",
    "        print(\"job_id_min:\", job_id_min_i)\n",
    "\n",
    "    num_atoms_i = init_atoms_i.get_global_number_of_atoms()\n",
    "\n",
    "    return(num_atoms_i)\n",
    "\n",
    "df_init_slabs[\"num_atoms\"] = df_init_slabs.apply(\n",
    "    method,\n",
    "    axis=1)"
   ]
  },
  {
   "cell_type": "markdown",
   "metadata": {},
   "source": [
    "### Save data to pickle"
   ]
  },
  {
   "cell_type": "code",
   "execution_count": 7,
   "metadata": {},
   "outputs": [],
   "source": [
    "# Pickling data ###########################################\n",
    "directory = os.path.join(\n",
    "    os.environ[\"PROJ_irox_oer\"],\n",
    "    \"dft_workflow/job_analysis/get_init_slabs_bare_oh\",\n",
    "    \"out_data\")\n",
    "if not os.path.exists(directory): os.makedirs(directory)\n",
    "with open(os.path.join(directory, \"df_init_slabs.pickle\"), \"wb\") as fle:\n",
    "    pickle.dump(df_init_slabs, fle)\n",
    "# #########################################################"
   ]
  },
  {
   "cell_type": "code",
   "execution_count": 8,
   "metadata": {},
   "outputs": [
    {
     "data": {
      "text/html": [
       "<div>\n",
       "<style scoped>\n",
       "    .dataframe tbody tr th:only-of-type {\n",
       "        vertical-align: middle;\n",
       "    }\n",
       "\n",
       "    .dataframe tbody tr th {\n",
       "        vertical-align: top;\n",
       "    }\n",
       "\n",
       "    .dataframe thead th {\n",
       "        text-align: right;\n",
       "    }\n",
       "</style>\n",
       "<table border=\"1\" class=\"dataframe\">\n",
       "  <thead>\n",
       "    <tr style=\"text-align: right;\">\n",
       "      <th></th>\n",
       "      <th></th>\n",
       "      <th></th>\n",
       "      <th></th>\n",
       "      <th></th>\n",
       "      <th>job_id_min</th>\n",
       "      <th>init_atoms</th>\n",
       "      <th>num_atoms</th>\n",
       "    </tr>\n",
       "    <tr>\n",
       "      <th>compenv</th>\n",
       "      <th>slab_id</th>\n",
       "      <th>ads</th>\n",
       "      <th>active_site</th>\n",
       "      <th>att_num</th>\n",
       "      <th></th>\n",
       "      <th></th>\n",
       "      <th></th>\n",
       "    </tr>\n",
       "  </thead>\n",
       "  <tbody>\n",
       "    <tr>\n",
       "      <th rowspan=\"5\" valign=\"top\">nersc</th>\n",
       "      <th rowspan=\"5\" valign=\"top\">buvivore_13</th>\n",
       "      <th rowspan=\"2\" valign=\"top\">bare</th>\n",
       "      <th rowspan=\"2\" valign=\"top\">38.0</th>\n",
       "      <th>1</th>\n",
       "      <td>nobehepu_67</td>\n",
       "      <td>(Atom('O', [0.98...</td>\n",
       "      <td>79</td>\n",
       "    </tr>\n",
       "    <tr>\n",
       "      <th>2</th>\n",
       "      <td>sasowake_97</td>\n",
       "      <td>(Atom('O', [0.98...</td>\n",
       "      <td>79</td>\n",
       "    </tr>\n",
       "    <tr>\n",
       "      <th rowspan=\"2\" valign=\"top\">o</th>\n",
       "      <th>38.0</th>\n",
       "      <th>1</th>\n",
       "      <td>vuhavuwi_03</td>\n",
       "      <td>(Atom('O', [0.98...</td>\n",
       "      <td>80</td>\n",
       "    </tr>\n",
       "    <tr>\n",
       "      <th>NaN</th>\n",
       "      <th>1</th>\n",
       "      <td>tifekefo_26</td>\n",
       "      <td>(Atom('O', [0.98...</td>\n",
       "      <td>80</td>\n",
       "    </tr>\n",
       "    <tr>\n",
       "      <th>oh</th>\n",
       "      <th>38.0</th>\n",
       "      <th>0</th>\n",
       "      <td>nipidida_98</td>\n",
       "      <td>(Atom('O', [0.98...</td>\n",
       "      <td>81</td>\n",
       "    </tr>\n",
       "  </tbody>\n",
       "</table>\n",
       "</div>"
      ],
      "text/plain": [
       "                                               job_id_min  \\\n",
       "compenv slab_id     ads  active_site att_num                \n",
       "nersc   buvivore_13 bare 38.0        1        nobehepu_67   \n",
       "                                     2        sasowake_97   \n",
       "                    o    38.0        1        vuhavuwi_03   \n",
       "                         NaN         1        tifekefo_26   \n",
       "                    oh   38.0        0        nipidida_98   \n",
       "\n",
       "                                                       init_atoms  num_atoms  \n",
       "compenv slab_id     ads  active_site att_num                                  \n",
       "nersc   buvivore_13 bare 38.0        1        (Atom('O', [0.98...         79  \n",
       "                                     2        (Atom('O', [0.98...         79  \n",
       "                    o    38.0        1        (Atom('O', [0.98...         80  \n",
       "                         NaN         1        (Atom('O', [0.98...         80  \n",
       "                    oh   38.0        0        (Atom('O', [0.98...         81  "
      ]
     },
     "execution_count": 8,
     "metadata": {},
     "output_type": "execute_result"
    }
   ],
   "source": [
    "from methods import get_df_init_slabs\n",
    "\n",
    "df_init_slabs_tmp = get_df_init_slabs()\n",
    "df_init_slabs_tmp.head()"
   ]
  },
  {
   "cell_type": "code",
   "execution_count": 9,
   "metadata": {},
   "outputs": [
    {
     "name": "stdout",
     "output_type": "stream",
     "text": [
      "# # # # # # # # # # # # # # # # # # # # # # # # # # # # # # # # # # # # # # # # \n",
      "All done!\n",
      "Run time: 0.222 min\n",
      "get_init_slabs_bare_oh.ipynb\n",
      "# # # # # # # # # # # # # # # # # # # # # # # # # # # # # # # # # # # # # # # # \n"
     ]
    }
   ],
   "source": [
    "# #########################################################\n",
    "print(20 * \"# # \")\n",
    "print(\"All done!\")\n",
    "print(\"Run time:\", np.round((time.time() - ti) / 60, 3), \"min\")\n",
    "print(\"get_init_slabs_bare_oh.ipynb\")\n",
    "print(20 * \"# # \")\n",
    "# #########################################################"
   ]
  },
  {
   "cell_type": "raw",
   "metadata": {},
   "source": [
    "\n",
    "\n"
   ]
  },
  {
   "cell_type": "code",
   "execution_count": 10,
   "metadata": {
    "jupyter": {
     "source_hidden": true
    }
   },
   "outputs": [],
   "source": [
    "# df_dft = get_df_dft()\n",
    "\n",
    "# df_job_ids = get_df_job_ids()\n",
    "\n",
    "# df_jobs_data_clusters = get_df_jobs_data_clusters()\n",
    "\n",
    "# df_slab = get_df_slab()\n",
    "\n",
    "# df_slab_ids = get_df_slab_ids()\n",
    "\n",
    "# df_jobs_anal = get_df_jobs_anal()\n",
    "\n",
    "# df_active_sites = get_df_active_sites()\n",
    "\n",
    "# df_atoms_sorted_ind = get_df_atoms_sorted_ind()"
   ]
  },
  {
   "cell_type": "code",
   "execution_count": 11,
   "metadata": {
    "jupyter": {
     "source_hidden": true
    }
   },
   "outputs": [],
   "source": [
    "# df_job_ids\n",
    "# df_jobs\n",
    "# df_jobs_data\n",
    "# df_jobs_data_clusters\n",
    "# df_jobs_anal\n",
    "\n",
    "# df_atoms_sorted_in"
   ]
  },
  {
   "cell_type": "code",
   "execution_count": 12,
   "metadata": {
    "jupyter": {
     "source_hidden": true
    }
   },
   "outputs": [],
   "source": [
    "# assert False"
   ]
  },
  {
   "cell_type": "code",
   "execution_count": 13,
   "metadata": {
    "jupyter": {
     "source_hidden": true
    }
   },
   "outputs": [],
   "source": [
    "# init_atoms_i\n",
    "\n",
    "# #     row_data_i = \n",
    "# df_jobs_data.loc[job_id_min_i]"
   ]
  },
  {
   "cell_type": "code",
   "execution_count": 14,
   "metadata": {
    "jupyter": {
     "source_hidden": true
    }
   },
   "outputs": [],
   "source": [
    "# assert False"
   ]
  }
 ],
 "metadata": {
  "jupytext": {
   "formats": "ipynb,py:light"
  },
  "kernelspec": {
   "display_name": "Python [conda env:PROJ_irox_oer] *",
   "language": "python",
   "name": "conda-env-PROJ_irox_oer-py"
  },
  "language_info": {
   "codemirror_mode": {
    "name": "ipython",
    "version": 3
   },
   "file_extension": ".py",
   "mimetype": "text/x-python",
   "name": "python",
   "nbconvert_exporter": "python",
   "pygments_lexer": "ipython3",
   "version": "3.6.10"
  }
 },
 "nbformat": 4,
 "nbformat_minor": 4
}
