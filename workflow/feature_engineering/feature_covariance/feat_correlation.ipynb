{
 "cells": [
  {
   "cell_type": "markdown",
   "metadata": {},
   "source": [
    "# Computing covariance matrix for features\n",
    "---\n"
   ],
   "execution_count": null,
   "outputs": []
  },
  {
   "cell_type": "markdown",
   "metadata": {},
   "source": [
    "# Import Modules"
   ],
   "execution_count": null,
   "outputs": []
  },
  {
   "cell_type": "code",
   "execution_count": null,
   "metadata": {},
   "outputs": [],
   "source": [
    "import os\n",
    "print(os.getcwd())\n",
    "import sys\n",
    "import time; ti = time.time()\n",
    "\n",
    "import copy\n",
    "\n",
    "import numpy as np\n",
    "import pandas as pd\n",
    "\n",
    "from sklearn.linear_model import LinearRegression\n",
    "\n",
    "import plotly.express as px\n",
    "\n",
    "# #########################################################\n",
    "from proj_data import layout_shared as layout_shared_main\n",
    "from proj_data import scatter_shared_props as scatter_shared_props_main\n",
    "from proj_data import (\n",
    "    stoich_color_dict,\n",
    "    shared_axis_dict,\n",
    "    font_tick_labels_size,\n",
    "    font_axis_title_size__pub,\n",
    "    font_tick_labels_size__pub,\n",
    "    )"
   ]
  },
  {
   "cell_type": "code",
   "execution_count": null,
   "metadata": {},
   "outputs": [],
   "source": [
    "from methods import isnotebook    \n",
    "isnotebook_i = isnotebook()\n",
    "if isnotebook_i:\n",
    "    from tqdm.notebook import tqdm\n",
    "    verbose = True\n",
    "    show_plot = True\n",
    "else:\n",
    "    from tqdm import tqdm\n",
    "    verbose = False\n",
    "    show_plot = False"
   ]
  },
  {
   "cell_type": "code",
   "execution_count": null,
   "metadata": {},
   "outputs": [],
   "source": [
    "root_dir = os.path.join(\n",
    "    os.environ[\"PROJ_irox_oer\"],\n",
    "    \"workflow/feature_engineering/feature_covariance\")"
   ]
  },
  {
   "cell_type": "markdown",
   "metadata": {},
   "source": [
    "# Script Inputs"
   ],
   "execution_count": null,
   "outputs": []
  },
  {
   "cell_type": "code",
   "execution_count": null,
   "metadata": {},
   "outputs": [],
   "source": [
    "target_ads = \"o\"\n",
    "# target_ads = \"oh\"\n",
    "\n",
    "verbose = True\n",
    "# verbose = False"
   ]
  },
  {
   "cell_type": "markdown",
   "metadata": {},
   "source": [
    "# Read Data"
   ],
   "execution_count": null,
   "outputs": []
  },
  {
   "cell_type": "code",
   "execution_count": null,
   "metadata": {},
   "outputs": [],
   "source": [
    "from methods import get_df_features_targets\n",
    "df_features_targets = get_df_features_targets()\n",
    "df_i = df_features_targets\n",
    "\n",
    "from methods import get_df_slab\n",
    "df_slab = get_df_slab()\n",
    "\n",
    "# Getting phase > 1 slab ids\n",
    "df_slab_i = df_slab[df_slab.phase > 1]\n",
    "phase_2_slab_ids = df_slab_i.slab_id.tolist()"
   ]
  },
  {
   "cell_type": "markdown",
   "metadata": {},
   "source": [
    "### Processing dataframe"
   ],
   "execution_count": null,
   "outputs": []
  },
  {
   "cell_type": "code",
   "execution_count": null,
   "metadata": {},
   "outputs": [],
   "source": [
    "if target_ads == \"o\":\n",
    "    other_ads = \"oh\"\n",
    "elif target_ads == \"oh\":\n",
    "    other_ads = \"o\"\n",
    "\n",
    "# df_i = df_i.drop(\"features_stan\", axis=1, level=0)\n",
    "\n",
    "df_i = df_i.drop(other_ads, axis=1, level=1)"
   ]
  },
  {
   "cell_type": "markdown",
   "metadata": {},
   "source": [
    "### Dropping phase 1 slabs"
   ],
   "execution_count": null,
   "outputs": []
  },
  {
   "cell_type": "code",
   "execution_count": null,
   "metadata": {},
   "outputs": [],
   "source": [
    "df_index = df_i.index.to_frame()\n",
    "df_index_i = df_index[\n",
    "    df_index.slab_id.isin(phase_2_slab_ids)\n",
    "    ]\n",
    "\n",
    "print(\"Dropping phase 1 slabs\")\n",
    "df_i = df_i.loc[\n",
    "    df_index_i.index\n",
    "    ]"
   ]
  },
  {
   "cell_type": "code",
   "execution_count": null,
   "metadata": {},
   "outputs": [],
   "source": [
    "df_feat = df_i[\"features\"][target_ads]"
   ]
  },
  {
   "cell_type": "markdown",
   "metadata": {},
   "source": [
    "### Standardize columns"
   ],
   "execution_count": null,
   "outputs": []
  },
  {
   "cell_type": "code",
   "execution_count": null,
   "metadata": {},
   "outputs": [],
   "source": [
    "df_features = df_feat\n",
    "\n",
    "df_features_stan = copy.deepcopy(df_features)\n",
    "for col_i in df_features_stan.columns:\n",
    "    max_val = df_features_stan[col_i].max()\n",
    "    mean_val = df_features_stan[col_i].mean()\n",
    "    std_val = df_features_stan[col_i].std()\n",
    "    df_features_stan[col_i] = (df_features_stan[col_i]) / max_val\n",
    "df_feat_stan = df_features_stan"
   ]
  },
  {
   "cell_type": "raw",
   "metadata": {},
   "source": [
    "\n",
    "\n"
   ],
   "execution_count": null,
   "outputs": []
  },
  {
   "cell_type": "code",
   "execution_count": null,
   "metadata": {},
   "outputs": [],
   "source": [
    "list(df_feat_stan.columns)"
   ]
  },
  {
   "cell_type": "markdown",
   "metadata": {},
   "source": [
    "### Renaming feature columns to be more readable "
   ],
   "execution_count": null,
   "outputs": []
  },
  {
   "cell_type": "code",
   "execution_count": null,
   "metadata": {},
   "outputs": [],
   "source": [
    "#     \"bulk_oxid_state\":       \"F01\",\n",
    "#     \"volume_pa\":             \"F02\",\n",
    "#     \"dH_bulk\":               \"F03\",\n",
    "#     # e_2p  (bulk)\n",
    "#     \"magmom_active_site\":    \"F05\",\n",
    "#     # Bader\n",
    "#     \"effective_ox_state\":    \"F07\",\n",
    "#     \"octa_vol\":              \"F08\",\n",
    "#     \"angle_O_Ir_surf_norm\":  \"F09\",\n",
    "#     \"ir_o_mean\":             \"F10\",\n",
    "#     \"ir_o_std\":              \"F11\",\n",
    "#     \"active_o_metal_dist\":   \"F12\","
   ]
  },
  {
   "cell_type": "code",
   "execution_count": null,
   "metadata": {},
   "outputs": [],
   "source": [
    "# Sat Apr  3 14:06:38 PDT 2021\n",
    "\n",
    "#     \"bulk_oxid_state\":       \"F01\",\n",
    "#     \"volume_pa\":             \"F02\",\n",
    "#     \"dH_bulk\":               \"F03\",\n",
    "#     \"p_band_center\":         \"F04\",\n",
    "#     \"Ir_magmom\":             \"F05\",\n",
    "#     \"O_magmom\":              \"F06\",\n",
    "#     \"Ir_bader\":              \"F07\",\n",
    "#     \"O_bader\":               \"F08\",\n",
    "#     \"effective_ox_state\":    \"F09\",\n",
    "#     \"octa_vol\":              \"F10\",\n",
    "#     \"ir_o_mean\":             \"F11\",\n",
    "#     \"angle_O_Ir_surf_norm\":  \"F12\",\n",
    "#     \"ir_o_std\":              \"F13\",\n",
    "#     \"active_o_metal_dist\":   \"F14\","
   ]
  },
  {
   "cell_type": "code",
   "execution_count": null,
   "metadata": {},
   "outputs": [],
   "source": [
    "feature_rename_dict = {\n",
    "\n",
    "    # \"magmom_active_site\":  \"A.S. Magmom\",\n",
    "    # \"active_o_metal_dist\": \"O Metal Dist.\",\n",
    "    # \"effective_ox_state\":  \"Eff. Ox. State\",\n",
    "    # \"ir_o_mean\":           \"Ir-O Mean Dist.\",\n",
    "    # \"ir_o_std\":            \"Ir-O Dist \u03c3\",\n",
    "    # \"octa_vol\":            \"Octa. Vol.\",\n",
    "    # \"dH_bulk\":             \"\u0394H Bulk\",\n",
    "    # \"volume_pa\":           \"Vol. P.A.\",\n",
    "    # \"bulk_oxid_state\":     \"Ox. State Bulk\",\n",
    "\n",
    "\n",
    "    \"bulk_oxid_state\":       \"F01\",\n",
    "    \"volume_pa\":             \"F02\",\n",
    "    \"dH_bulk\":               \"F03\",\n",
    "    \"p_band_center\":         \"F04\",\n",
    "    \"O_magmom\":              \"F05\",\n",
    "    \"Ir_magmom\":             \"F06\",\n",
    "    \"O_bader\":               \"F07\",\n",
    "    \"Ir_bader\":              \"F08\",\n",
    "    \"effective_ox_state\":    \"F09\",\n",
    "    \"octa_vol\":              \"F10\",\n",
    "    \"ir_o_mean\":             \"F11\",\n",
    "    \"ir_o_std\":              \"F12\",\n",
    "    \"angle_O_Ir_surf_norm\":  \"F13\",\n",
    "    \"active_o_metal_dist\":   \"F14\",\n",
    "\n",
    "    }\n",
    "\n",
    "new_cols = []\n",
    "for col_i in df_feat_stan.columns:\n",
    "    new_col_i = feature_rename_dict.get(col_i, col_i)\n",
    "    new_cols.append(new_col_i)\n",
    "\n",
    "df_feat_stan.columns = new_cols\n",
    "\n",
    "from misc_modules.pandas_methods import reorder_df_columns\n",
    "df_feat_stan = reorder_df_columns(\n",
    "    sorted(list(df_feat_stan.columns)),\n",
    "    df_feat_stan)"
   ]
  },
  {
   "cell_type": "code",
   "execution_count": null,
   "metadata": {},
   "outputs": [],
   "source": [
    "df = df_feat_stan.corr()\n",
    "\n",
    "df = df.sort_index(\n",
    "    ascending=False,\n",
    "    )"
   ]
  },
  {
   "cell_type": "code",
   "execution_count": null,
   "metadata": {},
   "outputs": [],
   "source": [
    "cols_to_drop = []\n",
    "for col_i in df.columns:\n",
    "    if col_i not in list(feature_rename_dict.values()):\n",
    "        print(col_i)\n",
    "        cols_to_drop.append(col_i)\n",
    "\n",
    "df = df.drop(columns=cols_to_drop)\n",
    "df = df.drop(index=cols_to_drop)"
   ]
  },
  {
   "cell_type": "markdown",
   "metadata": {},
   "source": [
    "### Setting the diagonal and off-diagonal triangle to 0"
   ],
   "execution_count": null,
   "outputs": []
  },
  {
   "cell_type": "code",
   "execution_count": null,
   "metadata": {},
   "outputs": [],
   "source": [
    "# #########################################################\n",
    "for i in df.columns:\n",
    "    df.xs(i)[i] = 0\n",
    "\n",
    "# #########################################################\n",
    "for i_cnt, i in enumerate(df.columns):\n",
    "    for j_cnt, j in enumerate(df.columns):        \n",
    "        # if j_cnt > i_cnt:\n",
    "        if i_cnt > j_cnt:\n",
    "            df.xs(i)[j] = 0"
   ]
  },
  {
   "cell_type": "code",
   "execution_count": null,
   "metadata": {},
   "outputs": [],
   "source": [
    "max_abs_min_max = np.max(\n",
    "    [\n",
    "        np.abs(df.min().min()),\n",
    "        np.abs(df.max().max()),\n",
    "        ]\n",
    "    )"
   ]
  },
  {
   "cell_type": "markdown",
   "metadata": {},
   "source": [
    "### Renaming row, column names, remove the leading 0"
   ],
   "execution_count": null,
   "outputs": []
  },
  {
   "cell_type": "code",
   "execution_count": null,
   "metadata": {},
   "outputs": [],
   "source": [
    "feature_rename_dict = {\n",
    "    \"F01\": \"F1\",\n",
    "    \"F02\": \"F2\",\n",
    "    \"F03\": \"F3\",\n",
    "    \"F04\": \"F4\",\n",
    "    \"F05\": \"F5\",\n",
    "    \"F06\": \"F6\",\n",
    "    \"F07\": \"F7\",\n",
    "    \"F08\": \"F8\",\n",
    "    \"F09\": \"F9\",\n",
    "    # \"F10\": \"F10\",\n",
    "    # \"F11\": \"F11\",\n",
    "    # \"F12\": \"F12\",\n",
    "    }\n",
    "\n",
    "# Renaming columns\n",
    "new_cols = []\n",
    "for col_i in df.columns:\n",
    "    new_col_i = feature_rename_dict.get(col_i, col_i)\n",
    "    new_cols.append(new_col_i)\n",
    "df.columns = new_cols\n",
    "\n",
    "# Renaming indices\n",
    "new_inds = []\n",
    "for index_i in df.index:\n",
    "    new_ind_i = feature_rename_dict.get(index_i, index_i)\n",
    "    new_inds.append(new_ind_i)\n",
    "df.index = new_inds"
   ]
  },
  {
   "cell_type": "code",
   "execution_count": null,
   "metadata": {},
   "outputs": [],
   "source": [
    "fig = px.imshow(\n",
    "    df,\n",
    "    # x=df.columns, y=df.columns,\n",
    "    x=df.columns, y=list(reversed(df.columns)),\n",
    "    title=\"Feaeture Correlation Matrix\",\n",
    "\n",
    "    # color_continuous_scale=\"Picnic\",    # **\n",
    "    # color_continuous_scale=\"aggrnyL\",   # ***\n",
    "    # color_continuous_scale=\"agsunset\",  # ****\n",
    "    # color_continuous_scale=\"armyrose\",  # ****\n",
    "    # color_continuous_scale=\"geyser\",    # ********\n",
    "    # color_continuous_scale=\"portland\",  # ******\n",
    "\n",
    "    color_continuous_scale=\"spectral\",  # \n",
    "\n",
    "\n",
    "    # zmin=-1,\n",
    "    # zmax=+1,\n",
    "\n",
    "    zmin=-max_abs_min_max,\n",
    "    zmax=+max_abs_min_max,\n",
    "\n",
    "    )\n",
    "\n",
    "# Modifying layout\n",
    "fig.layout.title = None\n",
    "\n",
    "# fig.layout.height = 900\n",
    "fig.layout.height = 1100\n",
    "# fig.layout.width = 500\n",
    "\n",
    "fig.layout.update(dict1=dict(xaxis=shared_axis_dict))\n",
    "fig.layout.update(dict1=dict(yaxis=shared_axis_dict))\n",
    "\n",
    "# Color bar\n",
    "colorbar_dict = dict(\n",
    "    colorbar=dict(\n",
    "        outlinecolor=\"black\",\n",
    "        outlinewidth=1,\n",
    "        ticks=\"outside\",\n",
    "        tickvals=[-0.8, -0.4, 0, 0.4, 0.8],\n",
    "        ticklen=8,\n",
    "\n",
    "        tickfont=dict(\n",
    "            size=shared_axis_dict[\"tickfont\"][\"size\"],\n",
    "            color=\"black\",\n",
    "            ),\n",
    "        )\n",
    "    )\n",
    "\n",
    "fig.update_coloraxes(colorbar_dict, row=None, col=None)\n",
    "\n",
    "if show_plot:\n",
    "    fig.show()"
   ]
  },
  {
   "cell_type": "code",
   "execution_count": null,
   "metadata": {},
   "outputs": [],
   "source": [
    "fig.write_json(\n",
    "    os.path.join(\n",
    "        os.environ[\"PROJ_irox_oer\"],\n",
    "        \"workflow/feature_engineering/feature_covariance\",\n",
    "        \"out_plot/feature_correlation.json\"))"
   ]
  },
  {
   "cell_type": "markdown",
   "metadata": {},
   "source": [
    "### Creating publication version of figure"
   ],
   "execution_count": null,
   "outputs": []
  },
  {
   "cell_type": "code",
   "execution_count": null,
   "metadata": {},
   "outputs": [],
   "source": [
    "# import copy\n",
    "fig.update_layout(\n",
    "    dict(\n",
    "        height=450,\n",
    "        width=450,\n",
    "\n",
    "        xaxis=dict(tickfont=dict(size=font_tick_labels_size__pub)),\n",
    "        yaxis=dict(tickfont=dict(size=font_tick_labels_size__pub)),\n",
    "        )\n",
    "    )\n",
    "\n",
    "# Color bar\n",
    "colorbar_dict = dict(\n",
    "    colorbar=dict(\n",
    "        tickfont=dict(\n",
    "            size=font_tick_labels_size__pub,\n",
    "            ),\n",
    "        )\n",
    "    )\n",
    "\n",
    "fig.update_coloraxes(colorbar_dict, row=None, col=None)\n",
    "\n",
    "if show_plot:\n",
    "    fig.show()"
   ]
  },
  {
   "cell_type": "code",
   "execution_count": null,
   "metadata": {},
   "outputs": [],
   "source": [
    "from plotting.my_plotly import my_plotly_plot\n",
    "\n",
    "my_plotly_plot(\n",
    "    figure=fig,\n",
    "    save_dir=root_dir,\n",
    "    place_in_out_plot=True,\n",
    "    plot_name=\"corr_matrix__pub\",\n",
    "    write_html=True,\n",
    "    write_png=True,\n",
    "    png_scale=6.0,\n",
    "    write_pdf=True,\n",
    "    write_svg=False,\n",
    "    try_orca_write=True,\n",
    "    verbose=False,\n",
    "    )"
   ]
  },
  {
   "cell_type": "code",
   "execution_count": null,
   "metadata": {},
   "outputs": [],
   "source": [
    "# #########################################################\n",
    "print(20 * \"# # \")\n",
    "print(\"All done!\")\n",
    "print(\"Run time:\", np.round((time.time() - ti) / 60, 3), \"min\")\n",
    "print(\"feat_correlation.ipynb\")\n",
    "print(20 * \"# # \")\n",
    "# #########################################################"
   ]
  },
  {
   "cell_type": "raw",
   "metadata": {},
   "source": [
    "\n",
    "\n"
   ],
   "execution_count": null,
   "outputs": []
  },
  {
   "cell_type": "code",
   "execution_count": null,
   "metadata": {},
   "outputs": [],
   "source": [
    "# fig.write_image(\"corr_matrix__pub\" + \".png\", scale=6)"
   ]
  }
 ],
 "metadata": {
  "jupytext": {
   "encoding": "# -*- coding: utf-8 -*-",
   "formats": "ipynb,py:light"
  },
  "kernelspec": {
   "display_name": "Python [conda env:PROJ_irox_oer] *",
   "language": "python",
   "name": "conda-env-PROJ_irox_oer-py"
  },
  "language_info": {
   "codemirror_mode": {
    "name": "ipython",
    "version": 3
   },
   "file_extension": ".py",
   "mimetype": "text/x-python",
   "name": "python",
   "nbconvert_exporter": "python",
   "pygments_lexer": "ipython3",
   "version": "3.6.10"
  }
 },
 "nbformat": 4,
 "nbformat_minor": 4
}
