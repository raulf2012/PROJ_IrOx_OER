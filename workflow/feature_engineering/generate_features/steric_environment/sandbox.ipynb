{
 "cells": [
  {
   "cell_type": "code",
   "execution_count": 1,
   "metadata": {},
   "outputs": [],
   "source": [
    "import pickle; import os\n",
    "\n",
    "import pandas as pd\n",
    "\n",
    "from proj_data import metal_atom_symbol"
   ]
  },
  {
   "cell_type": "code",
   "execution_count": 2,
   "metadata": {},
   "outputs": [],
   "source": [
    "from methods import get_df_octa_info\n",
    "\n",
    "df_octa_info = get_df_octa_info()"
   ]
  },
  {
   "cell_type": "code",
   "execution_count": 3,
   "metadata": {},
   "outputs": [],
   "source": [
    "root_dir = os.path.join(\n",
    "    os.environ[\"PROJ_irox_oer\"],\n",
    "    \"workflow/feature_engineering/generate_features/steric_environment\",\n",
    "    )"
   ]
  },
  {
   "cell_type": "code",
   "execution_count": 4,
   "metadata": {},
   "outputs": [],
   "source": [
    "# #########################################################\n",
    "path_i = os.path.join(\n",
    "    root_dir,\n",
    "    \"__temp__\",\n",
    "    \"temp.pickle\")\n",
    "with open(path_i, \"rb\") as fle:\n",
    "    out_dict = pickle.load(fle)\n",
    "# #########################################################"
   ]
  },
  {
   "cell_type": "code",
   "execution_count": 5,
   "metadata": {},
   "outputs": [],
   "source": [
    "name = out_dict[\"name\"]\n",
    "active_site = out_dict[\"active_site\"]\n",
    "active_site_original = out_dict[\"active_site_original\"]\n",
    "atoms = out_dict[\"atoms\"]\n",
    "octahedra_atoms = out_dict[\"octahedra_atoms\"]\n",
    "df_coord = out_dict[\"df_coord\"]\n",
    "verbose = out_dict[\"verbose\"]\n",
    "metal_active_site = out_dict[\"metal_active_site\"]"
   ]
  },
  {
   "cell_type": "code",
   "execution_count": 6,
   "metadata": {},
   "outputs": [
    {
     "name": "stdout",
     "output_type": "stream",
     "text": [
      "name: ('sherlock', 'tinugono_42', 'o', 'NaN', 1)\n",
      "active_site: 42.0\n",
      "active_site_original: NaN\n",
      "octahedra_atoms: [41, 36, 32, 42, 35, 39, 37]\n",
      "verbose: True\n",
      "metal_active_site: 37.0\n"
     ]
    }
   ],
   "source": [
    "print(\"name:\", name)\n",
    "print(\"active_site:\", active_site)\n",
    "print(\"active_site_original:\", active_site_original)\n",
    "# print(\"atoms:\", atoms)\n",
    "print(\"octahedra_atoms:\", octahedra_atoms)\n",
    "# print(\"df_coord:\", df_coord)\n",
    "print(\"verbose:\", verbose)\n",
    "print(\"metal_active_site:\", metal_active_site)"
   ]
  },
  {
   "cell_type": "code",
   "execution_count": 7,
   "metadata": {},
   "outputs": [],
   "source": [
    "if active_site_original == \"NaN\":\n",
    "    from_oh = False\n",
    "else:\n",
    "    from_oh = True"
   ]
  },
  {
   "cell_type": "code",
   "execution_count": 8,
   "metadata": {},
   "outputs": [],
   "source": [
    "atoms.write(os.path.join(root_dir, \"__temp__/script_dev\", \"atoms_init.traj\"))\n",
    "atoms.write(os.path.join(root_dir, \"__temp__/script_dev\", \"atoms_init.cif\"))"
   ]
  },
  {
   "cell_type": "raw",
   "metadata": {},
   "source": [
    "\n",
    "\n",
    "\n",
    "\n",
    "\n",
    "\n",
    "\n",
    "\n",
    "\n",
    "\n",
    "\n",
    "\n",
    "\n",
    "\n",
    "\n",
    "\n",
    "\n",
    "\n",
    "\n",
    "\n",
    "\n",
    "\n",
    "\n"
   ]
  },
  {
   "cell_type": "code",
   "execution_count": 14,
   "metadata": {},
   "outputs": [],
   "source": [
    "from local_methods import get_dist_of_atom_in_octahedra, get_df_octa_env\n",
    "\n",
    "df = get_df_octa_env(\n",
    "    atoms=atoms,\n",
    "    octahedra_atoms=octahedra_atoms,\n",
    "    active_site=active_site,\n",
    "    metal_active_site=metal_active_site,\n",
    "    name=name,\n",
    "    active_site_original=active_site_original,\n",
    "\n",
    "    df_coord=df_coord,\n",
    "    df_octa_info=df_octa_info,\n",
    "    )\n",
    "\n",
    "closest_O_dist = df[df.atom_symbol == \"O\"].iloc[0].dist\n",
    "\n",
    "closest_Ir_dist = df[df.atom_symbol == metal_atom_symbol].iloc[0].dist"
   ]
  },
  {
   "cell_type": "code",
   "execution_count": 13,
   "metadata": {},
   "outputs": [],
   "source": [
    "# df"
   ]
  },
  {
   "cell_type": "raw",
   "metadata": {},
   "source": [
    "\n",
    "\n"
   ]
  }
 ],
 "metadata": {
  "kernelspec": {
   "display_name": "Python [conda env:PROJ_irox_oer] *",
   "language": "python",
   "name": "conda-env-PROJ_irox_oer-py"
  },
  "language_info": {
   "codemirror_mode": {
    "name": "ipython",
    "version": 3
   },
   "file_extension": ".py",
   "mimetype": "text/x-python",
   "name": "python",
   "nbconvert_exporter": "python",
   "pygments_lexer": "ipython3",
   "version": "3.6.10"
  }
 },
 "nbformat": 4,
 "nbformat_minor": 4
}
