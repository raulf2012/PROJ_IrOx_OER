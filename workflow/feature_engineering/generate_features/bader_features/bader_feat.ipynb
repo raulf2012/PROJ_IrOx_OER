{
 "cells": [
  {
   "cell_type": "markdown",
   "metadata": {},
   "source": [
    "# Collecting the Bader charge of the active O and Ir atom\n",
    "---"
   ]
  },
  {
   "cell_type": "markdown",
   "metadata": {},
   "source": [
    "### Import Modules"
   ]
  },
  {
   "cell_type": "code",
   "execution_count": 1,
   "metadata": {},
   "outputs": [
    {
     "name": "stdout",
     "output_type": "stream",
     "text": [
      "/mnt/f/Dropbox/01_norskov/00_git_repos/PROJ_IrOx_OER/workflow/feature_engineering/generate_features/bader_features\n"
     ]
    }
   ],
   "source": [
    "import os\n",
    "print(os.getcwd())\n",
    "import sys\n",
    "import time; ti = time.time()\n",
    "\n",
    "import copy\n",
    "import pickle\n",
    "from pathlib import Path\n",
    "\n",
    "import numpy as np\n",
    "import pandas as pd\n",
    "import math\n",
    "\n",
    "from ase import io\n",
    "\n",
    "# #########################################################\n",
    "from misc_modules.pandas_methods import reorder_df_columns\n",
    "\n",
    "# #########################################################\n",
    "from methods import (\n",
    "    get_df_jobs_anal,\n",
    "    get_df_atoms_sorted_ind,\n",
    "    get_df_active_sites,\n",
    "    get_df_jobs_data,\n",
    "    get_df_jobs,\n",
    "    read_pdos_data,\n",
    "    )\n",
    "from methods import get_df_coord\n",
    "\n",
    "# #########################################################\n",
    "from local_methods import get_active_Bader_charges_1, get_active_Bader_charges_2\n",
    "from local_methods import get_data_for_Bader_methods"
   ]
  },
  {
   "cell_type": "code",
   "execution_count": 2,
   "metadata": {},
   "outputs": [],
   "source": [
    "from methods import isnotebook    \n",
    "isnotebook_i = isnotebook()\n",
    "if isnotebook_i:\n",
    "    from tqdm.notebook import tqdm\n",
    "    verbose = True\n",
    "else:\n",
    "    from tqdm import tqdm\n",
    "    verbose = False"
   ]
  },
  {
   "cell_type": "markdown",
   "metadata": {},
   "source": [
    "### Read Data"
   ]
  },
  {
   "cell_type": "code",
   "execution_count": 3,
   "metadata": {},
   "outputs": [],
   "source": [
    "df_jobs = get_df_jobs()\n",
    "df_jobs_i = df_jobs\n",
    "\n",
    "df_jobs_anal = get_df_jobs_anal()\n",
    "df_jobs_anal_i = df_jobs_anal\n",
    "\n",
    "df_atoms_sorted_ind = get_df_atoms_sorted_ind()\n",
    "df_atoms_sorted_ind_i = df_atoms_sorted_ind\n",
    "\n",
    "df_active_sites = get_df_active_sites()\n",
    "\n",
    "from methods import get_df_jobs_paths\n",
    "df_jobs_paths = get_df_jobs_paths()"
   ]
  },
  {
   "cell_type": "markdown",
   "metadata": {},
   "source": [
    "### Filtering down `df_jobs_data`"
   ]
  },
  {
   "cell_type": "code",
   "execution_count": 4,
   "metadata": {},
   "outputs": [],
   "source": [
    "df_jobs_i = df_jobs_i[df_jobs_i.rev_num == df_jobs_i.num_revs]\n",
    "\n",
    "dos_bader_job_ids = df_jobs_i[df_jobs_i.job_type == \"dos_bader\"].index.tolist()\n",
    "\n",
    "df_jobs_data = get_df_jobs_data()\n",
    "\n",
    "df_jobs_data_i = df_jobs_data.loc[\n",
    "    dos_bader_job_ids\n",
    "    ]\n",
    "df_jobs_data_i = df_jobs_data_i.set_index(\"job_id_orig\")"
   ]
  },
  {
   "cell_type": "markdown",
   "metadata": {},
   "source": [
    "### Filtering down to `oer_adsorbate` jobs"
   ]
  },
  {
   "cell_type": "code",
   "execution_count": 5,
   "metadata": {},
   "outputs": [],
   "source": [
    "df_ind = df_jobs_anal.index.to_frame()\n",
    "df_jobs_anal = df_jobs_anal.loc[\n",
    "    df_ind[df_ind.job_type == \"oer_adsorbate\"].index\n",
    "    ]\n",
    "df_jobs_anal = df_jobs_anal.droplevel(level=0)\n",
    "\n",
    "\n",
    "df_ind = df_atoms_sorted_ind_i.index.to_frame()\n",
    "df_atoms_sorted_ind_i = df_atoms_sorted_ind_i.loc[\n",
    "    df_ind[df_ind.job_type == \"oer_adsorbate\"].index\n",
    "    ]\n",
    "df_atoms_sorted_ind_i = df_atoms_sorted_ind_i.droplevel(level=0)"
   ]
  },
  {
   "cell_type": "code",
   "execution_count": 6,
   "metadata": {},
   "outputs": [],
   "source": [
    "sys.path.insert(0,\n",
    "    os.path.join(\n",
    "        os.environ[\"PROJ_irox_oer\"],\n",
    "        \"workflow/feature_engineering\"))\n",
    "\n",
    "from feature_engineering_methods import get_df_feat_rows\n",
    "df_feat_rows = get_df_feat_rows(\n",
    "    df_jobs_anal=df_jobs_anal,\n",
    "    df_atoms_sorted_ind=df_atoms_sorted_ind_i,\n",
    "    df_active_sites=df_active_sites,\n",
    "    )"
   ]
  },
  {
   "cell_type": "raw",
   "metadata": {},
   "source": [
    "\n"
   ]
  },
  {
   "cell_type": "code",
   "execution_count": 7,
   "metadata": {},
   "outputs": [],
   "source": [
    "# df_feat_rows = df_feat_rows.loc[[1211, ]]\n",
    "\n",
    "# df_feat_rows"
   ]
  },
  {
   "cell_type": "code",
   "execution_count": 8,
   "metadata": {},
   "outputs": [
    {
     "data": {
      "application/vnd.jupyter.widget-view+json": {
       "model_id": "56ab3c15326f4db5a23dc5f0f11d282c",
       "version_major": 2,
       "version_minor": 0
      },
      "text/plain": [
       "HBox(children=(FloatProgress(value=0.0, description='1st loop', max=2818.0, style=ProgressStyle(description_wi…"
      ]
     },
     "metadata": {},
     "output_type": "display_data"
    },
    {
     "name": "stdout",
     "output_type": "stream",
     "text": [
      "\n"
     ]
    }
   ],
   "source": [
    "# #########################################################\n",
    "data_dict_list = []\n",
    "# #########################################################\n",
    "iterator = tqdm(df_feat_rows.index, desc=\"1st loop\")\n",
    "for i_cnt, index_i in enumerate(iterator):\n",
    "    # #####################################################\n",
    "    row_i = df_feat_rows.loc[index_i]\n",
    "    # #####################################################\n",
    "    compenv_i = row_i.compenv\n",
    "    slab_id_i = row_i.slab_id\n",
    "    ads_i = row_i.ads\n",
    "    active_site_orig_i = row_i.active_site_orig\n",
    "    att_num_i = row_i.att_num\n",
    "    job_id_max_i = row_i.job_id_max\n",
    "    active_site_i = row_i.active_site\n",
    "    # #####################################################\n",
    "\n",
    "    if job_id_max_i in df_jobs_data_i.index:\n",
    "\n",
    "        # #################################################\n",
    "        row_data_i = df_jobs_data_i.loc[job_id_max_i]\n",
    "        # #################################################\n",
    "        job_id_pdos_i = row_data_i.job_id\n",
    "        # #################################################\n",
    "\n",
    "        if active_site_orig_i == \"NaN\":\n",
    "            from_oh_i = False\n",
    "        else:\n",
    "            from_oh_i = True\n",
    "\n",
    "\n",
    "        df = df_jobs\n",
    "        df = df[\n",
    "            (df[\"job_type\"] == \"dos_bader\") &\n",
    "            (df[\"compenv\"] == compenv_i) &\n",
    "            (df[\"slab_id\"] == slab_id_i) &\n",
    "            (df[\"active_site\"] == active_site_i) &\n",
    "            [True for i in range(len(df))]\n",
    "            ]\n",
    "\n",
    "        assert df.shape[0] == df.rev_num.unique().shape[0], \"IDJSFIDS\"\n",
    "\n",
    "        if df.shape[0] > 0:\n",
    "            assert df.num_revs.unique().shape[0] == 1, \"JIJIi8ii\"\n",
    "\n",
    "            max_rev = df.num_revs.unique()[0]\n",
    "\n",
    "            df_2 = df[df.rev_num == max_rev]\n",
    "\n",
    "            assert df_2.shape[0] == 1, \"sijfids\"\n",
    "\n",
    "            # #############################################\n",
    "            row_job_bader_i = df_2.iloc[0]\n",
    "            # #############################################\n",
    "            job_id_bader_i = row_job_bader_i.job_id\n",
    "            att_num_bader_i = row_job_bader_i.att_num\n",
    "            # #############################################\n",
    "\n",
    "\n",
    "            row_paths_i = df_jobs_paths.loc[job_id_bader_i]\n",
    "            gdrive_path_i = row_paths_i.gdrive_path\n",
    "\n",
    "            dir_i = os.path.join(\n",
    "                os.environ[\"PROJ_irox_oer_gdrive\"],\n",
    "                gdrive_path_i\n",
    "                )\n",
    "\n",
    "            file_i = \"bader_charge.json\"\n",
    "            file_path_i = os.path.join(dir_i, file_i)\n",
    "\n",
    "\n",
    "            bader_files_exist = False\n",
    "            my_file = Path(file_path_i)\n",
    "            if my_file.is_file():\n",
    "                bader_files_exist = True\n",
    "            if bader_files_exist:\n",
    "                # indices_to_process.append(index_i)\n",
    "\n",
    "\n",
    "                # #############################################\n",
    "                row_atoms_i = df_atoms_sorted_ind.loc[\n",
    "                    (\"dos_bader\", compenv_i, slab_id_i, ads_i, active_site_i, att_num_bader_i, )]\n",
    "                # #############################################\n",
    "                atom_index_mapping_i = row_atoms_i.atom_index_mapping\n",
    "                # #############################################\n",
    "\n",
    "\n",
    "                # #############################################\n",
    "                data_dict_i = dict()\n",
    "                # #############################################\n",
    "                data_dict_i[\"index_i\"] = index_i\n",
    "                data_dict_i[\"dir_i\"] = dir_i\n",
    "                data_dict_i[\"file_path\"] = file_path_i\n",
    "                data_dict_i[\"job_id_bader\"] = job_id_bader_i\n",
    "                data_dict_i[\"att_num_bader\"] = att_num_bader_i\n",
    "                # #############################################\n",
    "                data_dict_list.append(data_dict_i)\n",
    "                # #############################################\n",
    "\n",
    "\n",
    "# #########################################################\n",
    "df_tmp = pd.DataFrame(data_dict_list)\n",
    "df_tmp = df_tmp.set_index(\"index_i\", drop=False)\n",
    "# #########################################################"
   ]
  },
  {
   "cell_type": "code",
   "execution_count": 9,
   "metadata": {},
   "outputs": [],
   "source": [
    "df_feat_rows_tmp = df_feat_rows.loc[\n",
    "    df_tmp.index_i.tolist()\n",
    "    ]\n",
    "\n",
    "df_feat_rows_2 = pd.concat([\n",
    "    df_feat_rows_tmp,\n",
    "    df_tmp,\n",
    "    ], axis=1)"
   ]
  },
  {
   "cell_type": "code",
   "execution_count": 10,
   "metadata": {},
   "outputs": [
    {
     "data": {
      "application/vnd.jupyter.widget-view+json": {
       "model_id": "0b3db628583c4f2f8dbcea3ecc09bfa1",
       "version_major": 2,
       "version_minor": 0
      },
      "text/plain": [
       "HBox(children=(FloatProgress(value=0.0, description='1st loop', max=354.0, style=ProgressStyle(description_wid…"
      ]
     },
     "metadata": {},
     "output_type": "display_data"
    },
    {
     "name": "stdout",
     "output_type": "stream",
     "text": [
      "\n"
     ]
    }
   ],
   "source": [
    "# #########################################################\n",
    "data_dict_list = []\n",
    "# #########################################################\n",
    "iterator = tqdm(df_feat_rows_2.index, desc=\"1st loop\")\n",
    "for i_cnt, index_i in enumerate(iterator):\n",
    "\n",
    "    # #####################################################\n",
    "    row_i = df_feat_rows_2.loc[index_i]\n",
    "    # #####################################################\n",
    "    # job_type_i = row_i.job_type\n",
    "    compenv_i = row_i.compenv\n",
    "    slab_id_i = row_i.slab_id\n",
    "    ads_i = row_i.ads\n",
    "    active_site_orig_i = row_i.active_site_orig\n",
    "    att_num_i = row_i.att_num\n",
    "    job_id_max_i = row_i.job_id_max\n",
    "    active_site_i = row_i.active_site\n",
    "    # #####################################################\n",
    "\n",
    "    file_path_i = row_i.file_path\n",
    "    path_i = row_i.dir_i\n",
    "    att_num_bader_i = row_i.att_num_bader\n",
    "    # job_id_bader_i = row_i.job_id_bader\n",
    "\n",
    "\n",
    "\n",
    "    # #####################################################\n",
    "    bader_out_dict = get_active_Bader_charges_1(\n",
    "        path=path_i,\n",
    "        df_atoms_sorted_ind=df_atoms_sorted_ind,\n",
    "        compenv=compenv_i,\n",
    "        slab_id=slab_id_i,\n",
    "        ads=ads_i,\n",
    "        active_site=active_site_i,\n",
    "        att_num_bader=att_num_bader_i,\n",
    "        verbose=verbose,\n",
    "        )\n",
    "    # #####################################################\n",
    "    active_O_bader_i = bader_out_dict[\"active_O_bader\"]\n",
    "    Ir_bader_i = bader_out_dict[\"Ir_bader\"]\n",
    "    # #####################################################\n",
    "\n",
    "    # #####################################################\n",
    "    bader_out_dict = get_active_Bader_charges_2(\n",
    "        path=path_i,\n",
    "        df_atoms_sorted_ind=df_atoms_sorted_ind,\n",
    "        compenv=compenv_i,\n",
    "        slab_id=slab_id_i,\n",
    "        ads=ads_i,\n",
    "        active_site=active_site_i,\n",
    "        att_num_bader=att_num_bader_i,\n",
    "        verbose=verbose,\n",
    "        )\n",
    "    # #####################################################\n",
    "    active_O_bader_i_2 = bader_out_dict[\"active_O_bader\"]\n",
    "    Ir_bader_i_2 = bader_out_dict[\"Ir_bader\"]\n",
    "    # #####################################################\n",
    "\n",
    "\n",
    "\n",
    "    # #############################################\n",
    "    data_dict_i = dict()\n",
    "    # #############################################\n",
    "    data_dict_i[\"job_id_max\"] = job_id_max_i\n",
    "    data_dict_i[\"from_oh\"] = from_oh_i\n",
    "    data_dict_i[\"active_site\"] = active_site_i\n",
    "    data_dict_i[\"compenv\"] = compenv_i\n",
    "    data_dict_i[\"slab_id\"] = slab_id_i\n",
    "    data_dict_i[\"ads\"] = ads_i\n",
    "    data_dict_i[\"active_site_orig\"] = active_site_orig_i\n",
    "    data_dict_i[\"att_num\"] = att_num_i\n",
    "    # #############################################\n",
    "    data_dict_i[\"O_bader\"] = active_O_bader_i\n",
    "    data_dict_i[\"Ir_bader\"] = Ir_bader_i\n",
    "    data_dict_i[\"O_bader_2\"] = active_O_bader_i_2\n",
    "    data_dict_i[\"Ir_bader_2\"] = Ir_bader_i_2\n",
    "    # #############################################\n",
    "    data_dict_list.append(data_dict_i)\n",
    "    # #############################################\n",
    "\n",
    "\n",
    "# #########################################################\n",
    "df_bader_feat = pd.DataFrame(data_dict_list)\n",
    "# #########################################################"
   ]
  },
  {
   "cell_type": "code",
   "execution_count": 11,
   "metadata": {},
   "outputs": [],
   "source": [
    "df_bader_feat[\"O_bader_diff\"] = df_bader_feat[\"O_bader\"] - df_bader_feat[\"O_bader_2\"]\n",
    "df_bader_feat[\"Ir_bader_diff\"] = df_bader_feat[\"Ir_bader\"] - df_bader_feat[\"Ir_bader_2\"]"
   ]
  },
  {
   "cell_type": "code",
   "execution_count": 12,
   "metadata": {},
   "outputs": [],
   "source": [
    "# THIS SETS THE NEW BADER METHOD AS PRIMARY\n",
    "\n",
    "df_bader_feat[\"Ir_bader\"] = df_bader_feat[\"Ir_bader_2\"]\n",
    "df_bader_feat[\"O_bader\"] = df_bader_feat[\"O_bader_2\"]"
   ]
  },
  {
   "cell_type": "markdown",
   "metadata": {},
   "source": [
    "### Adding column for product of Ir and O bader"
   ]
  },
  {
   "cell_type": "code",
   "execution_count": 14,
   "metadata": {},
   "outputs": [],
   "source": [
    "df_bader_feat[\"Ir*O_bader\"] = df_bader_feat[\"O_bader\"] * df_bader_feat[\"Ir_bader\"]"
   ]
  },
  {
   "cell_type": "code",
   "execution_count": 15,
   "metadata": {},
   "outputs": [
    {
     "data": {
      "text/html": [
       "<div>\n",
       "<style scoped>\n",
       "    .dataframe tbody tr th:only-of-type {\n",
       "        vertical-align: middle;\n",
       "    }\n",
       "\n",
       "    .dataframe tbody tr th {\n",
       "        vertical-align: top;\n",
       "    }\n",
       "\n",
       "    .dataframe thead th {\n",
       "        text-align: right;\n",
       "    }\n",
       "</style>\n",
       "<table border=\"1\" class=\"dataframe\">\n",
       "  <thead>\n",
       "    <tr style=\"text-align: right;\">\n",
       "      <th></th>\n",
       "      <th>job_id_max</th>\n",
       "      <th>from_oh</th>\n",
       "      <th>active_site</th>\n",
       "      <th>compenv</th>\n",
       "      <th>slab_id</th>\n",
       "      <th>ads</th>\n",
       "      <th>active_site_orig</th>\n",
       "      <th>att_num</th>\n",
       "      <th>O_bader</th>\n",
       "      <th>Ir_bader</th>\n",
       "      <th>O_bader_2</th>\n",
       "      <th>Ir_bader_2</th>\n",
       "      <th>O_bader_diff</th>\n",
       "      <th>Ir_bader_diff</th>\n",
       "      <th>Ir*O_bader</th>\n",
       "    </tr>\n",
       "  </thead>\n",
       "  <tbody>\n",
       "    <tr>\n",
       "      <th>0</th>\n",
       "      <td>habamehi_10</td>\n",
       "      <td>True</td>\n",
       "      <td>74.0</td>\n",
       "      <td>nersc</td>\n",
       "      <td>dakoputu_58</td>\n",
       "      <td>o</td>\n",
       "      <td>74.0</td>\n",
       "      <td>1</td>\n",
       "      <td>-0.694098</td>\n",
       "      <td>2.873393</td>\n",
       "      <td>-0.694098</td>\n",
       "      <td>2.873393</td>\n",
       "      <td>0.004098</td>\n",
       "      <td>-0.003393</td>\n",
       "      <td>-1.994416</td>\n",
       "    </tr>\n",
       "    <tr>\n",
       "      <th>1</th>\n",
       "      <td>hatabufi_70</td>\n",
       "      <td>True</td>\n",
       "      <td>75.0</td>\n",
       "      <td>nersc</td>\n",
       "      <td>dakoputu_58</td>\n",
       "      <td>o</td>\n",
       "      <td>75.0</td>\n",
       "      <td>1</td>\n",
       "      <td>-0.678024</td>\n",
       "      <td>2.506493</td>\n",
       "      <td>-0.678024</td>\n",
       "      <td>2.506493</td>\n",
       "      <td>-0.001976</td>\n",
       "      <td>0.003507</td>\n",
       "      <td>-1.699462</td>\n",
       "    </tr>\n",
       "    <tr>\n",
       "      <th>2</th>\n",
       "      <td>ditogotu_52</td>\n",
       "      <td>True</td>\n",
       "      <td>76.0</td>\n",
       "      <td>nersc</td>\n",
       "      <td>dakoputu_58</td>\n",
       "      <td>o</td>\n",
       "      <td>76.0</td>\n",
       "      <td>1</td>\n",
       "      <td>-0.717165</td>\n",
       "      <td>2.856678</td>\n",
       "      <td>-0.717165</td>\n",
       "      <td>2.856678</td>\n",
       "      <td>-0.002835</td>\n",
       "      <td>0.003322</td>\n",
       "      <td>-2.048709</td>\n",
       "    </tr>\n",
       "    <tr>\n",
       "      <th>3</th>\n",
       "      <td>timeviri_63</td>\n",
       "      <td>True</td>\n",
       "      <td>77.0</td>\n",
       "      <td>nersc</td>\n",
       "      <td>dakoputu_58</td>\n",
       "      <td>o</td>\n",
       "      <td>77.0</td>\n",
       "      <td>1</td>\n",
       "      <td>-0.631707</td>\n",
       "      <td>2.878498</td>\n",
       "      <td>-0.631707</td>\n",
       "      <td>2.878498</td>\n",
       "      <td>0.001707</td>\n",
       "      <td>0.001502</td>\n",
       "      <td>-1.818367</td>\n",
       "    </tr>\n",
       "    <tr>\n",
       "      <th>4</th>\n",
       "      <td>vuriteba_62</td>\n",
       "      <td>True</td>\n",
       "      <td>78.0</td>\n",
       "      <td>nersc</td>\n",
       "      <td>dakoputu_58</td>\n",
       "      <td>o</td>\n",
       "      <td>78.0</td>\n",
       "      <td>1</td>\n",
       "      <td>-0.664265</td>\n",
       "      <td>2.404327</td>\n",
       "      <td>-0.664265</td>\n",
       "      <td>2.404327</td>\n",
       "      <td>0.004265</td>\n",
       "      <td>-0.004327</td>\n",
       "      <td>-1.597110</td>\n",
       "    </tr>\n",
       "  </tbody>\n",
       "</table>\n",
       "</div>"
      ],
      "text/plain": [
       "    job_id_max  from_oh  active_site compenv      slab_id ads  \\\n",
       "0  habamehi_10     True         74.0   nersc  dakoputu_58   o   \n",
       "1  hatabufi_70     True         75.0   nersc  dakoputu_58   o   \n",
       "2  ditogotu_52     True         76.0   nersc  dakoputu_58   o   \n",
       "3  timeviri_63     True         77.0   nersc  dakoputu_58   o   \n",
       "4  vuriteba_62     True         78.0   nersc  dakoputu_58   o   \n",
       "\n",
       "   active_site_orig  att_num   O_bader  Ir_bader  O_bader_2  Ir_bader_2  \\\n",
       "0              74.0        1 -0.694098  2.873393  -0.694098    2.873393   \n",
       "1              75.0        1 -0.678024  2.506493  -0.678024    2.506493   \n",
       "2              76.0        1 -0.717165  2.856678  -0.717165    2.856678   \n",
       "3              77.0        1 -0.631707  2.878498  -0.631707    2.878498   \n",
       "4              78.0        1 -0.664265  2.404327  -0.664265    2.404327   \n",
       "\n",
       "   O_bader_diff  Ir_bader_diff  Ir*O_bader  \n",
       "0      0.004098      -0.003393   -1.994416  \n",
       "1     -0.001976       0.003507   -1.699462  \n",
       "2     -0.002835       0.003322   -2.048709  \n",
       "3      0.001707       0.001502   -1.818367  \n",
       "4      0.004265      -0.004327   -1.597110  "
      ]
     },
     "execution_count": 15,
     "metadata": {},
     "output_type": "execute_result"
    }
   ],
   "source": [
    "df_bader_feat.head()"
   ]
  },
  {
   "cell_type": "code",
   "execution_count": 16,
   "metadata": {},
   "outputs": [],
   "source": [
    "df_bader_feat = df_bader_feat.set_index(\n",
    "    [\"compenv\", \"slab_id\", \"ads\", \"active_site\", \"att_num\", \"from_oh\"],\n",
    "    drop=False)"
   ]
  },
  {
   "cell_type": "code",
   "execution_count": 17,
   "metadata": {},
   "outputs": [],
   "source": [
    "df = df_bader_feat\n",
    "\n",
    "multi_columns_dict = {\n",
    "    \"features\": [\"O_bader\", \"Ir_bader\", \"Ir*O_bader\"],\n",
    "    \"data\": [\"from_oh\", \"compenv\", \"slab_id\", \"ads\", \"att_num\", \"active_site\", \"job_id_max\", ],\n",
    "    }\n",
    "\n",
    "nested_columns = dict()\n",
    "for col_header, cols in multi_columns_dict.items():\n",
    "    for col_j in cols:\n",
    "        nested_columns[col_j] = (col_header, col_j)\n",
    "\n",
    "df = df.rename(columns=nested_columns)\n",
    "df.columns = [c if isinstance(c, tuple) else (\"\", c) for c in df.columns]\n",
    "df.columns = pd.MultiIndex.from_tuples(df.columns)\n",
    "\n",
    "df_bader_feat = df"
   ]
  },
  {
   "cell_type": "code",
   "execution_count": 18,
   "metadata": {},
   "outputs": [],
   "source": [
    "df_bader_feat = df_bader_feat.reindex(columns = [\"data\", \"features\", ], level=0)"
   ]
  },
  {
   "cell_type": "raw",
   "metadata": {},
   "source": [
    "\n",
    "\n",
    "\n",
    "\n",
    "\n",
    "\n"
   ]
  },
  {
   "cell_type": "code",
   "execution_count": 19,
   "metadata": {},
   "outputs": [],
   "source": [
    "# Pickling data ###########################################\n",
    "root_path_i = os.path.join(\n",
    "    os.environ[\"PROJ_irox_oer\"],\n",
    "    \"workflow/feature_engineering/generate_features/pdos_features\")\n",
    "\n",
    "directory = os.path.join(root_path_i, \"out_data\")\n",
    "if not os.path.exists(directory): os.makedirs(directory)\n",
    "path_i = os.path.join(root_path_i, \"out_data/df_bader_feat.pickle\")\n",
    "with open(path_i, \"wb\") as fle:\n",
    "    pickle.dump(df_bader_feat, fle)\n",
    "# #########################################################"
   ]
  },
  {
   "cell_type": "code",
   "execution_count": 20,
   "metadata": {},
   "outputs": [
    {
     "data": {
      "text/html": [
       "<div>\n",
       "<style scoped>\n",
       "    .dataframe tbody tr th:only-of-type {\n",
       "        vertical-align: middle;\n",
       "    }\n",
       "\n",
       "    .dataframe tbody tr th {\n",
       "        vertical-align: top;\n",
       "    }\n",
       "\n",
       "    .dataframe thead tr th {\n",
       "        text-align: left;\n",
       "    }\n",
       "</style>\n",
       "<table border=\"1\" class=\"dataframe\">\n",
       "  <thead>\n",
       "    <tr>\n",
       "      <th></th>\n",
       "      <th colspan=\"2\" halign=\"left\">data</th>\n",
       "      <th colspan=\"3\" halign=\"left\">features</th>\n",
       "    </tr>\n",
       "    <tr>\n",
       "      <th></th>\n",
       "      <th>active_site</th>\n",
       "      <th>att_num</th>\n",
       "      <th>O_bader</th>\n",
       "      <th>Ir_bader</th>\n",
       "      <th>Ir*O_bader</th>\n",
       "    </tr>\n",
       "  </thead>\n",
       "  <tbody>\n",
       "    <tr>\n",
       "      <th>count</th>\n",
       "      <td>354.000000</td>\n",
       "      <td>354.0</td>\n",
       "      <td>354.000000</td>\n",
       "      <td>354.000000</td>\n",
       "      <td>354.000000</td>\n",
       "    </tr>\n",
       "    <tr>\n",
       "      <th>mean</th>\n",
       "      <td>47.790960</td>\n",
       "      <td>1.0</td>\n",
       "      <td>-0.627256</td>\n",
       "      <td>2.578694</td>\n",
       "      <td>-1.621289</td>\n",
       "    </tr>\n",
       "    <tr>\n",
       "      <th>std</th>\n",
       "      <td>18.803029</td>\n",
       "      <td>0.0</td>\n",
       "      <td>0.071817</td>\n",
       "      <td>0.221636</td>\n",
       "      <td>0.251789</td>\n",
       "    </tr>\n",
       "    <tr>\n",
       "      <th>min</th>\n",
       "      <td>15.000000</td>\n",
       "      <td>1.0</td>\n",
       "      <td>-0.799137</td>\n",
       "      <td>2.099158</td>\n",
       "      <td>-2.437690</td>\n",
       "    </tr>\n",
       "    <tr>\n",
       "      <th>25%</th>\n",
       "      <td>32.250000</td>\n",
       "      <td>1.0</td>\n",
       "      <td>-0.663612</td>\n",
       "      <td>2.387407</td>\n",
       "      <td>-1.753947</td>\n",
       "    </tr>\n",
       "    <tr>\n",
       "      <th>50%</th>\n",
       "      <td>47.000000</td>\n",
       "      <td>1.0</td>\n",
       "      <td>-0.635062</td>\n",
       "      <td>2.586599</td>\n",
       "      <td>-1.644972</td>\n",
       "    </tr>\n",
       "    <tr>\n",
       "      <th>75%</th>\n",
       "      <td>62.000000</td>\n",
       "      <td>1.0</td>\n",
       "      <td>-0.607520</td>\n",
       "      <td>2.726687</td>\n",
       "      <td>-1.518714</td>\n",
       "    </tr>\n",
       "    <tr>\n",
       "      <th>max</th>\n",
       "      <td>96.000000</td>\n",
       "      <td>1.0</td>\n",
       "      <td>-0.213359</td>\n",
       "      <td>3.112593</td>\n",
       "      <td>-0.535551</td>\n",
       "    </tr>\n",
       "  </tbody>\n",
       "</table>\n",
       "</div>"
      ],
      "text/plain": [
       "             data            features                        \n",
       "      active_site att_num     O_bader    Ir_bader  Ir*O_bader\n",
       "count  354.000000   354.0  354.000000  354.000000  354.000000\n",
       "mean    47.790960     1.0   -0.627256    2.578694   -1.621289\n",
       "std     18.803029     0.0    0.071817    0.221636    0.251789\n",
       "min     15.000000     1.0   -0.799137    2.099158   -2.437690\n",
       "25%     32.250000     1.0   -0.663612    2.387407   -1.753947\n",
       "50%     47.000000     1.0   -0.635062    2.586599   -1.644972\n",
       "75%     62.000000     1.0   -0.607520    2.726687   -1.518714\n",
       "max     96.000000     1.0   -0.213359    3.112593   -0.535551"
      ]
     },
     "execution_count": 20,
     "metadata": {},
     "output_type": "execute_result"
    }
   ],
   "source": [
    "from methods import get_df_bader_feat\n",
    "\n",
    "df_bader_feat_tmp = get_df_bader_feat()\n",
    "df_bader_feat_tmp.describe()"
   ]
  },
  {
   "cell_type": "code",
   "execution_count": 21,
   "metadata": {},
   "outputs": [
    {
     "name": "stdout",
     "output_type": "stream",
     "text": [
      "# # # # # # # # # # # # # # # # # # # # # # # # # # # # # # # # # # # # # # # # \n",
      "All done!\n",
      "Run time: 0.307 min\n",
      "bader_feat.ipynb\n",
      "# # # # # # # # # # # # # # # # # # # # # # # # # # # # # # # # # # # # # # # # \n"
     ]
    }
   ],
   "source": [
    "# #########################################################\n",
    "print(20 * \"# # \")\n",
    "print(\"All done!\")\n",
    "print(\"Run time:\", np.round((time.time() - ti) / 60, 3), \"min\")\n",
    "print(\"bader_feat.ipynb\")\n",
    "print(20 * \"# # \")\n",
    "# #########################################################"
   ]
  },
  {
   "cell_type": "raw",
   "metadata": {},
   "source": [
    "\n",
    "\n"
   ]
  }
 ],
 "metadata": {
  "jupytext": {
   "formats": "ipynb,py:light"
  },
  "kernelspec": {
   "display_name": "Python [conda env:PROJ_irox_oer] *",
   "language": "python",
   "name": "conda-env-PROJ_irox_oer-py"
  },
  "language_info": {
   "codemirror_mode": {
    "name": "ipython",
    "version": 3
   },
   "file_extension": ".py",
   "mimetype": "text/x-python",
   "name": "python",
   "nbconvert_exporter": "python",
   "pygments_lexer": "ipython3",
   "version": "3.6.10"
  }
 },
 "nbformat": 4,
 "nbformat_minor": 4
}
