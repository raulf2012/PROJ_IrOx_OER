{
 "cells": [
  {
   "cell_type": "markdown",
   "metadata": {},
   "source": [
    "# Create SOAP features\n",
    "---"
   ],
   "execution_count": null,
   "outputs": []
  },
  {
   "cell_type": "markdown",
   "metadata": {},
   "source": [
    "### Import Modules"
   ],
   "execution_count": null,
   "outputs": []
  },
  {
   "cell_type": "code",
   "execution_count": null,
   "metadata": {},
   "outputs": [],
   "source": [
    "import os\n",
    "print(os.getcwd())\n",
    "import sys\n",
    "import time; ti = time.time()\n",
    "\n",
    "import pickle\n",
    "\n",
    "import numpy as np\n",
    "import pandas as pd\n",
    "\n",
    "from quippy.descriptors import Descriptor\n",
    "\n",
    "# #########################################################\n",
    "from methods import (\n",
    "    get_df_features_targets,\n",
    "    get_df_jobs_data,\n",
    "    get_df_atoms_sorted_ind,\n",
    "    get_df_coord,\n",
    "    get_df_jobs,\n",
    "    )"
   ]
  },
  {
   "cell_type": "markdown",
   "metadata": {},
   "source": [
    "### Read Data"
   ],
   "execution_count": null,
   "outputs": []
  },
  {
   "cell_type": "code",
   "execution_count": null,
   "metadata": {},
   "outputs": [],
   "source": [
    "df_features_targets = get_df_features_targets()\n",
    "\n",
    "df_jobs = get_df_jobs()\n",
    "\n",
    "df_jobs_data = get_df_jobs_data()\n",
    "\n",
    "df_atoms = get_df_atoms_sorted_ind()"
   ]
  },
  {
   "cell_type": "code",
   "execution_count": null,
   "metadata": {},
   "outputs": [],
   "source": [
    "# # TEMP\n",
    "# print(222 * \"TEMP\")\n",
    "\n",
    "# df_features_targets = df_features_targets.sample(n=100)\n",
    "\n",
    "# # df_features_targets = df_features_targets.loc[\n",
    "# #     [\n",
    "# #         ('sherlock', 'tanewani_59', 53.0),\n",
    "# #         ('slac', 'diwarise_06', 33.0),\n",
    "# #         ('sherlock', 'bidoripi_03', 37.0),\n",
    "# #         ('nersc', 'winomuvi_99', 83.0),\n",
    "# #         ('nersc', 'legofufi_61', 90.0),\n",
    "# #         ('sherlock', 'werabosi_10', 42.0),\n",
    "# #         ('slac', 'sunuheka_77', 51.0),\n",
    "# #         ('nersc', 'winomuvi_99', 96.0),\n",
    "# #         ('slac', 'kuwurupu_88', 26.0),\n",
    "# #         ('sherlock', 'sodakiva_90', 52.0),\n",
    "# #         ]\n",
    "# #     ]"
   ]
  },
  {
   "cell_type": "code",
   "execution_count": null,
   "metadata": {},
   "outputs": [],
   "source": [
    "# df_features_targets = df_features_targets.loc[[\n",
    "#     (\"sherlock\", \"momaposi_60\", 50., )\n",
    "#     ]]"
   ]
  },
  {
   "cell_type": "code",
   "execution_count": null,
   "metadata": {},
   "outputs": [],
   "source": [
    "# ('oer_adsorbate', 'sherlock', 'momaposi_60', 'o', 50.0, 1)"
   ]
  },
  {
   "cell_type": "markdown",
   "metadata": {},
   "source": [
    "### Filtering down to systems that won't crash script"
   ],
   "execution_count": null,
   "outputs": []
  },
  {
   "cell_type": "code",
   "execution_count": null,
   "metadata": {},
   "outputs": [],
   "source": [
    "# #########################################################\n",
    "rows_to_process = []\n",
    "# #########################################################\n",
    "for name_i, row_i in df_features_targets.iterrows():\n",
    "    # #####################################################\n",
    "    active_site_i = name_i[2]\n",
    "    # #####################################################\n",
    "    job_id_o_i = row_i[(\"data\", \"job_id_o\", \"\")]\n",
    "    # #####################################################\n",
    "\n",
    "    # #####################################################\n",
    "    row_jobs_o_i = df_jobs.loc['guhenihe_85']\n",
    "    # #####################################################\n",
    "    active_site_o_i = row_jobs_o_i.active_site\n",
    "    # #####################################################\n",
    "\n",
    "    # #####################################################\n",
    "    row_data_i = df_jobs_data.loc[job_id_o_i]\n",
    "    # #####################################################\n",
    "    att_num_i = row_data_i.att_num\n",
    "    # #####################################################\n",
    "\n",
    "    atoms_index_i = (\n",
    "        \"oer_adsorbate\",\n",
    "        name_i[0], name_i[1],\n",
    "        \"o\", active_site_o_i,\n",
    "        att_num_i,\n",
    "        )\n",
    "\n",
    "    if atoms_index_i in df_atoms.index:\n",
    "        rows_to_process.append(name_i)\n",
    "\n",
    "# #########################################################\n",
    "df_features_targets = df_features_targets.loc[rows_to_process]\n",
    "# #########################################################"
   ]
  },
  {
   "cell_type": "markdown",
   "metadata": {},
   "source": [
    "### Main loop, running SOAP descriptors"
   ],
   "execution_count": null,
   "outputs": []
  },
  {
   "cell_type": "code",
   "execution_count": null,
   "metadata": {},
   "outputs": [],
   "source": [
    "# #########################################################\n",
    "active_site_SOAP_list = []\n",
    "metal_site_SOAP_list = []\n",
    "ave_SOAP_list = []\n",
    "# #########################################################\n",
    "for name_i, row_i in df_features_targets.iterrows():\n",
    "    # #####################################################\n",
    "    active_site_i = name_i[2]\n",
    "    # #####################################################\n",
    "    job_id_o_i = row_i[(\"data\", \"job_id_o\", \"\")]\n",
    "    job_id_oh_i = row_i[(\"data\", \"job_id_oh\", \"\")]\n",
    "    job_id_bare_i = row_i[(\"data\", \"job_id_bare\", \"\")]\n",
    "    # #####################################################\n",
    "\n",
    "    # #####################################################\n",
    "    row_jobs_o_i = df_jobs.loc['guhenihe_85']\n",
    "    # #####################################################\n",
    "    active_site_o_i = row_jobs_o_i.active_site\n",
    "    # #####################################################\n",
    "\n",
    "    # #####################################################\n",
    "    row_data_i = df_jobs_data.loc[job_id_o_i]\n",
    "    # #####################################################\n",
    "    # atoms_i = row_data_i.final_atoms\n",
    "    att_num_i = row_data_i.att_num\n",
    "    # #####################################################\n",
    "\n",
    "    atoms_index_i = (\n",
    "        # \"dos_bader\",\n",
    "        \"oer_adsorbate\",\n",
    "        name_i[0],\n",
    "        name_i[1],\n",
    "        \"o\",\n",
    "        # name_i[2],\n",
    "        active_site_o_i,\n",
    "        att_num_i,\n",
    "        )\n",
    "\n",
    "    try:\n",
    "        # #####################################################\n",
    "        row_atoms_i = df_atoms.loc[atoms_index_i]\n",
    "        # #####################################################\n",
    "        atoms_i = row_atoms_i.atoms_sorted_good\n",
    "        # #####################################################\n",
    "\n",
    "    except:\n",
    "        print(name_i)\n",
    "\n",
    "    # print(\n",
    "    #     \"N_atoms: \",\n",
    "    #     atoms_i.get_global_number_of_atoms(),\n",
    "    #     sep=\"\")\n",
    "\n",
    "    # Original\n",
    "    # desc = Descriptor(\"soap cutoff=4 l_max=3 n_max=4 normalize=T atom_sigma=0.5 n_Z=1 Z={14} \")\n",
    "\n",
    "    # This one works\n",
    "    # desc = Descriptor(\"soap cutoff=4 l_max=10 n_max=10 normalize=T atom_sigma=0.5 n_Z=2 Z={8 77} \")\n",
    "\n",
    "    # THIS ONE IS GOOD ******************************\n",
    "    # desc = Descriptor(\"soap cutoff=4 l_max=3 n_max=4 normalize=F atom_sigma=0.2 n_Z=2 Z={8 77} \")\n",
    "\n",
    "    # Didn't work great\n",
    "    # desc = Descriptor(\"soap cutoff=8 l_max=6 n_max=6 normalize=F atom_sigma=0.1 n_Z=2 Z={8 77} \")\n",
    "\n",
    "    # desc = Descriptor(\"soap cutoff=4 l_max=6 n_max=6 normalize=F atom_sigma=0.1 n_Z=2 Z={8 77} \")\n",
    "    # desc = Descriptor(\"soap cutoff=4 l_max=6 n_max=6 normalize=F atom_sigma=0.5 n_Z=2 Z={8 77} \")\n",
    "\n",
    "    # desc = Descriptor(\"soap cutoff=4 l_max=6 n_max=6 normalize=T atom_sigma=0.5 n_Z=2 Z={8 77} \")\n",
    "\n",
    "    # desc = Descriptor(\"soap cutoff=4 l_max=3 n_max=4 normalize=T atom_sigma=0.2 n_Z=2 Z={8 77} \")\n",
    "    # desc = Descriptor(\"soap cutoff=4 l_max=3 n_max=4 normalize=T atom_sigma=0.4 n_Z=2 Z={8 77} \")\n",
    "    # desc = Descriptor(\"soap cutoff=4 l_max=3 n_max=4 normalize=T atom_sigma=0.6 n_Z=2 Z={8 77} \")\n",
    "    # desc = Descriptor(\"soap cutoff=4 l_max=3 n_max=4 normalize=T atom_sigma=0.3 n_Z=2 Z={8 77} \")\n",
    "    # desc = Descriptor(\"soap cutoff=4 l_max=3 n_max=4 normalize=T atom_sigma=0.2 n_Z=2 Z={8 77} \")\n",
    "    # desc = Descriptor(\"soap cutoff=4 l_max=3 n_max=4 normalize=T atom_sigma=0.25 n_Z=2 Z={8 77} \")\n",
    "\n",
    "    # desc = Descriptor(\"soap cutoff=4 l_max=3 n_max=4 normalize=T atom_sigma=0.3 n_Z=2 Z={8 77} \")\n",
    "    # desc = Descriptor(\"soap cutoff=2 l_max=3 n_max=4 normalize=T atom_sigma=0.3 n_Z=2 Z={8 77} \")\n",
    "    # desc = Descriptor(\"soap cutoff=6 l_max=3 n_max=4 normalize=T atom_sigma=0.3 n_Z=2 Z={8 77} \")\n",
    "    # desc = Descriptor(\"soap cutoff=5 l_max=3 n_max=4 normalize=T atom_sigma=0.3 n_Z=2 Z={8 77} \")\n",
    "    # desc = Descriptor(\"soap cutoff=3 l_max=3 n_max=4 normalize=T atom_sigma=0.3 n_Z=2 Z={8 77} \")\n",
    "    # desc = Descriptor(\"soap cutoff=6 l_max=3 n_max=4 normalize=T atom_sigma=0.1 n_Z=2 Z={8 77} \")\n",
    "    # desc = Descriptor(\"soap cutoff=6 l_max=3 n_max=4 normalize=T atom_sigma=0.05 n_Z=2 Z={8 77} \")\n",
    "    # desc = Descriptor(\"soap cutoff=6 l_max=3 n_max=4 normalize=T atom_sigma=0.2 n_Z=2 Z={8 77} \")\n",
    "    # desc = Descriptor(\"soap cutoff=6 l_max=3 n_max=4 normalize=T atom_sigma=0.4 n_Z=2 Z={8 77} \")\n",
    "    # desc = Descriptor(\"soap cutoff=6 l_max=3 n_max=4 normalize=T atom_sigma=0.5 n_Z=2 Z={8 77} \")\n",
    "\n",
    "    # desc = Descriptor(\"soap cutoff=4 l_max=3 n_max=4 normalize=T atom_sigma=0.3 n_Z=2 Z={8 77} \")\n",
    "    # desc = Descriptor(\"soap cutoff=3 l_max=3 n_max=4 normalize=T atom_sigma=0.3 n_Z=2 Z={8 77} \")\n",
    "    # desc = Descriptor(\"soap cutoff=3 l_max=3 n_max=4 normalize=T atom_sigma=0.2 n_Z=2 Z={8 77} \")\n",
    "    # desc = Descriptor(\"soap cutoff=3 l_max=3 n_max=4 normalize=T atom_sigma=0.5 n_Z=2 Z={8 77} \")\n",
    "    # desc = Descriptor(\"soap cutoff=3 l_max=3 n_max=4 normalize=T atom_sigma=0.1 n_Z=2 Z={8 77} \")\n",
    "    # desc = Descriptor(\"soap cutoff=3 l_max=3 n_max=4 normalize=T atom_sigma=0.6 n_Z=2 Z={8 77} \")\n",
    "\n",
    "    # desc = Descriptor(\"soap cutoff=4 l_max=4 n_max=4 normalize=T atom_sigma=0.3 n_Z=2 Z={8 77} \")\n",
    "    # desc = Descriptor(\"soap cutoff=4 l_max=5 n_max=4 normalize=T atom_sigma=0.3 n_Z=2 Z={8 77} \")\n",
    "    # desc = Descriptor(\"soap cutoff=4 l_max=6 n_max=4 normalize=T atom_sigma=0.3 n_Z=2 Z={8 77} \")\n",
    "    # desc = Descriptor(\"soap cutoff=4 l_max=7 n_max=4 normalize=T atom_sigma=0.3 n_Z=2 Z={8 77} \")\n",
    "\n",
    "    # desc = Descriptor(\"soap cutoff=4 l_max=6 n_max=4 normalize=T atom_sigma=0.3 n_Z=2 Z={8 77} \")\n",
    "    # desc = Descriptor(\"soap cutoff=4 l_max=6 n_max=6 normalize=T atom_sigma=0.3 n_Z=2 Z={8 77} \")\n",
    "    # desc = Descriptor(\"soap cutoff=4 l_max=6 n_max=3 normalize=T atom_sigma=0.3 n_Z=2 Z={8 77} \")\n",
    "\n",
    "    #  Optimizing the new SOAP_ave model\n",
    "    # desc = Descriptor(\"soap cutoff=4 l_max=6 n_max=4 normalize=T atom_sigma=0.3 n_Z=2 Z={8 77} \")\n",
    "    # desc = Descriptor(\"soap cutoff=4 l_max=6 n_max=4 normalize=T atom_sigma=0.2 n_Z=2 Z={8 77} \")\n",
    "    # desc = Descriptor(\"soap cutoff=4 l_max=6 n_max=4 normalize=T atom_sigma=0.4 n_Z=2 Z={8 77} \")\n",
    "\n",
    "    # desc = Descriptor(\"soap cutoff=5 l_max=6 n_max=4 normalize=T atom_sigma=0.3 n_Z=2 Z={8 77} \")\n",
    "    # desc = Descriptor(\"soap cutoff=3 l_max=6 n_max=4 normalize=T atom_sigma=0.3 n_Z=2 Z={8 77} \")\n",
    "\n",
    "    desc = Descriptor(\"soap cutoff=4 l_max=6 n_max=4 normalize=T atom_sigma=0.3 n_Z=2 Z={8 77} \")\n",
    "\n",
    "\n",
    "    # desc.sizes(atoms_i)\n",
    "\n",
    "    d = desc.calc(atoms_i)\n",
    "    SOAP_m_i = d[\"data\"]\n",
    "\n",
    "    active_site_SOAP_vector_i = SOAP_m_i[int(active_site_i)]\n",
    "\n",
    "    active_site_SOAP_list.append(\n",
    "        (name_i, active_site_SOAP_vector_i)\n",
    "        )\n",
    "\n",
    "    # print(\n",
    "    #     \"data shape: \",\n",
    "    #     d['data'].shape,\n",
    "    #     sep=\"\")\n",
    "\n",
    "    # #####################################################\n",
    "    # Get df_coord to find nearest neighbors\n",
    "    init_slab_name_tuple_i = (\n",
    "        name_i[0],\n",
    "        name_i[1],\n",
    "        \"o\",\n",
    "        # name_i[2],\n",
    "        active_site_o_i,\n",
    "        att_num_i\n",
    "        )\n",
    "\n",
    "    df_coord_i = get_df_coord(\n",
    "        mode=\"init-slab\",  # 'bulk', 'slab', 'post-dft', 'init-slab'\n",
    "        init_slab_name_tuple=init_slab_name_tuple_i,\n",
    "        verbose=False,\n",
    "        )\n",
    "\n",
    "    # #####################################################\n",
    "    row_coord_i = df_coord_i.loc[active_site_i]\n",
    "    # #####################################################\n",
    "    nn_info_i = row_coord_i.nn_info\n",
    "    # #####################################################\n",
    "\n",
    "\n",
    "    # assert len(nn_info_i) == 1, \"Only one bound Ir\"\n",
    "\n",
    "    ir_nn_present = False\n",
    "    for j_cnt, nn_j in enumerate(nn_info_i):\n",
    "        if nn_j[\"site\"].specie.symbol == \"Ir\":\n",
    "            ir_nn_present = True\n",
    "    assert ir_nn_present, \"Ir has to be in nn list\"\n",
    "\n",
    "    # assert nn_info_i[j_cnt][\"site\"].specie.symbol == \"Ir\", \"Has to be\"\n",
    "\n",
    "    metal_index_i = nn_info_i[0][\"site_index\"]\n",
    "\n",
    "    metal_site_SOAP_vector_i = SOAP_m_i[int(metal_index_i)]\n",
    "\n",
    "    metal_site_SOAP_list.append(\n",
    "        (name_i, metal_site_SOAP_vector_i)\n",
    "        )\n",
    "\n",
    "    # #####################################################\n",
    "    # Averaging SOAP vectors for Ir and 6 oxygens\n",
    "    row_coord_Ir_i = df_coord_i.loc[metal_index_i]\n",
    "\n",
    "    vectors_to_average = []\n",
    "    for nn_j in row_coord_Ir_i[\"nn_info\"]:\n",
    "        if nn_j[\"site\"].specie.symbol == \"O\":\n",
    "            O_SOAP_vect_i = SOAP_m_i[int(nn_j[\"site_index\"])]\n",
    "            vectors_to_average.append(O_SOAP_vect_i)\n",
    "\n",
    "    vectors_to_average.append(metal_site_SOAP_vector_i)\n",
    "\n",
    "    SOAP_vector_ave_i = np.mean(\n",
    "        vectors_to_average,\n",
    "        axis=0\n",
    "        )\n",
    "    ave_SOAP_list.append(\n",
    "        (name_i, SOAP_vector_ave_i)\n",
    "        )"
   ]
  },
  {
   "cell_type": "code",
   "execution_count": null,
   "metadata": {},
   "outputs": [],
   "source": [
    "# vectors_to_average = []\n",
    "# for nn_j in row_coord_Ir_i[\"nn_info\"]:\n",
    "#     if nn_j[\"site\"].specie.symbol == \"O\":\n",
    "#         O_SOAP_vect_i = SOAP_m_i[int(nn_j[\"site_index\"])]\n",
    "#         vectors_to_average.append(O_SOAP_vect_i)\n",
    "\n",
    "# vectors_to_average.append(metal_site_SOAP_vector_i)\n",
    "\n",
    "# SOAP_vector_ave_i = np.mean(\n",
    "#     vectors_to_average,\n",
    "#     axis=0\n",
    "#     )"
   ]
  },
  {
   "cell_type": "code",
   "execution_count": null,
   "metadata": {},
   "outputs": [],
   "source": [
    "# data = []\n",
    "# for i in vectors_to_average:\n",
    "#     trace = go.Scatter(\n",
    "#         y=i,\n",
    "#         )\n",
    "#     data.append(trace)"
   ]
  },
  {
   "cell_type": "code",
   "execution_count": null,
   "metadata": {},
   "outputs": [],
   "source": [
    "# tmp = np.mean(\n",
    "#     vectors_to_average,\n",
    "#     axis=0\n",
    "#     )\n",
    "\n",
    "# # import plotly.graph_objs as go\n",
    "\n",
    "# trace = go.Scatter(\n",
    "#     # x=x_array,\n",
    "#     y=tmp,\n",
    "#     )\n",
    "# # data = [trace]\n",
    "# data.append(trace)\n",
    "\n",
    "# fig = go.Figure(data=data)\n",
    "# fig.show()"
   ]
  },
  {
   "cell_type": "markdown",
   "metadata": {},
   "source": [
    "### Forming the SOAP vector dataframe about the active site atom"
   ],
   "execution_count": null,
   "outputs": []
  },
  {
   "cell_type": "code",
   "execution_count": null,
   "metadata": {},
   "outputs": [],
   "source": [
    "data_dict_list = []\n",
    "tmp_SOAP_vector_list = []\n",
    "tmp_name_list = []\n",
    "for name_i, SOAP_vect_i in active_site_SOAP_list:\n",
    "    # #####################################################\n",
    "    data_dict_i = dict()\n",
    "    # #####################################################\n",
    "    name_dict_i = dict(zip(\n",
    "        [\"compenv\", \"slab_id\", \"active_site\", ],\n",
    "        name_i, ))\n",
    "    # #####################################################\n",
    "\n",
    "    tmp_SOAP_vector_list.append(SOAP_vect_i)\n",
    "    tmp_name_list.append(name_i)\n",
    "\n",
    "    # #####################################################\n",
    "    data_dict_i.update(name_dict_i)\n",
    "    # #####################################################\n",
    "    # data_dict_i[\"\"] = \n",
    "    # #####################################################\n",
    "    data_dict_list.append(data_dict_i)\n",
    "    # #####################################################\n",
    "\n",
    "# #########################################################\n",
    "SOAP_vector_matrix_AS = np.array(tmp_SOAP_vector_list)\n",
    "df_SOAP_AS = pd.DataFrame(SOAP_vector_matrix_AS)\n",
    "df_SOAP_AS.index = pd.MultiIndex.from_tuples(tmp_name_list, names=[\"compenv\", \"slab_id\", \"active_site\"])\n",
    "# #########################################################"
   ]
  },
  {
   "cell_type": "code",
   "execution_count": null,
   "metadata": {},
   "outputs": [],
   "source": [
    "df_SOAP_AS.head()"
   ]
  },
  {
   "cell_type": "markdown",
   "metadata": {},
   "source": [
    "### Forming the SOAP vector dataframe about the active Ir atom"
   ],
   "execution_count": null,
   "outputs": []
  },
  {
   "cell_type": "code",
   "execution_count": null,
   "metadata": {},
   "outputs": [],
   "source": [
    "data_dict_list = []\n",
    "tmp_SOAP_vector_list = []\n",
    "tmp_name_list = []\n",
    "for name_i, SOAP_vect_i in metal_site_SOAP_list:\n",
    "    # #####################################################\n",
    "    data_dict_i = dict()\n",
    "    # #####################################################\n",
    "    name_dict_i = dict(zip(\n",
    "        [\"compenv\", \"slab_id\", \"active_site\", ],\n",
    "        name_i, ))\n",
    "    # #####################################################\n",
    "\n",
    "    tmp_SOAP_vector_list.append(SOAP_vect_i)\n",
    "    tmp_name_list.append(name_i)\n",
    "\n",
    "    # #####################################################\n",
    "    data_dict_i.update(name_dict_i)\n",
    "    # #####################################################\n",
    "    # data_dict_i[\"\"] = \n",
    "    # #####################################################\n",
    "    data_dict_list.append(data_dict_i)\n",
    "    # #####################################################\n",
    "\n",
    "# #########################################################\n",
    "SOAP_vector_matrix_MS = np.array(tmp_SOAP_vector_list)\n",
    "df_SOAP_MS = pd.DataFrame(SOAP_vector_matrix_MS)\n",
    "df_SOAP_MS.index = pd.MultiIndex.from_tuples(tmp_name_list, names=[\"compenv\", \"slab_id\", \"active_site\"])\n",
    "# #########################################################"
   ]
  },
  {
   "cell_type": "code",
   "execution_count": null,
   "metadata": {},
   "outputs": [],
   "source": [
    "df_SOAP_MS.head()"
   ]
  },
  {
   "cell_type": "markdown",
   "metadata": {},
   "source": [
    "### Forming the SOAP vector dataframe averaged from Ir + 6 O"
   ],
   "execution_count": null,
   "outputs": []
  },
  {
   "cell_type": "code",
   "execution_count": null,
   "metadata": {},
   "outputs": [],
   "source": [
    "data_dict_list = []\n",
    "tmp_SOAP_vector_list = []\n",
    "tmp_name_list = []\n",
    "for name_i, SOAP_vect_i in ave_SOAP_list:\n",
    "    # #####################################################\n",
    "    data_dict_i = dict()\n",
    "    # #####################################################\n",
    "    name_dict_i = dict(zip(\n",
    "        [\"compenv\", \"slab_id\", \"active_site\", ],\n",
    "        name_i, ))\n",
    "    # #####################################################\n",
    "\n",
    "    tmp_SOAP_vector_list.append(SOAP_vect_i)\n",
    "    tmp_name_list.append(name_i)\n",
    "\n",
    "    # #####################################################\n",
    "    data_dict_i.update(name_dict_i)\n",
    "    # #####################################################\n",
    "    # data_dict_i[\"\"] = \n",
    "    # #####################################################\n",
    "    data_dict_list.append(data_dict_i)\n",
    "    # #####################################################\n",
    "\n",
    "# #########################################################\n",
    "SOAP_vector_matrix_ave = np.array(tmp_SOAP_vector_list)\n",
    "df_SOAP_ave = pd.DataFrame(SOAP_vector_matrix_ave)\n",
    "df_SOAP_ave.index = pd.MultiIndex.from_tuples(tmp_name_list, names=[\"compenv\", \"slab_id\", \"active_site\"])\n",
    "# #########################################################"
   ]
  },
  {
   "cell_type": "markdown",
   "metadata": {},
   "source": [
    "### TEMP Plotting"
   ],
   "execution_count": null,
   "outputs": []
  },
  {
   "cell_type": "code",
   "execution_count": null,
   "metadata": {},
   "outputs": [],
   "source": [
    "import plotly.graph_objs as go\n",
    "\n",
    "from plotting.my_plotly import my_plotly_plot\n",
    "\n",
    "import plotly.express as px"
   ]
  },
  {
   "cell_type": "code",
   "execution_count": null,
   "metadata": {},
   "outputs": [],
   "source": [
    "y_array = SOAP_m_i[int(metal_index_i)]\n",
    "\n",
    "trace = go.Scatter(\n",
    "    y=y_array,\n",
    "    )\n",
    "data = [trace]\n",
    "\n",
    "fig = go.Figure(data=data)\n",
    "# fig.show()"
   ]
  },
  {
   "cell_type": "code",
   "execution_count": null,
   "metadata": {},
   "outputs": [],
   "source": [
    "fig = px.imshow(\n",
    "    df_SOAP_AS.to_numpy(),\n",
    "    aspect='auto',  # 'equal', 'auto', or None\n",
    "    )\n",
    "\n",
    "my_plotly_plot(\n",
    "    figure=fig,\n",
    "    plot_name=\"df_SOAP_AS\",\n",
    "    write_html=True,\n",
    "    )\n",
    "\n",
    "fig.show()"
   ]
  },
  {
   "cell_type": "code",
   "execution_count": null,
   "metadata": {},
   "outputs": [],
   "source": [
    "fig = px.imshow(\n",
    "    df_SOAP_MS.to_numpy(),\n",
    "    aspect='auto',  # 'equal', 'auto', or None\n",
    "    )\n",
    "\n",
    "my_plotly_plot(\n",
    "    figure=fig,\n",
    "    plot_name=\"df_SOAP_MS\",\n",
    "    write_html=True,\n",
    "    )\n",
    "\n",
    "fig.show()"
   ]
  },
  {
   "cell_type": "code",
   "execution_count": null,
   "metadata": {},
   "outputs": [],
   "source": [
    "fig = px.imshow(\n",
    "    df_SOAP_ave.to_numpy(),\n",
    "    aspect='auto',  # 'equal', 'auto', or None\n",
    "    )\n",
    "\n",
    "my_plotly_plot(\n",
    "    figure=fig,\n",
    "    plot_name=\"df_SOAP_MS\",\n",
    "    write_html=True,\n",
    "    )\n",
    "\n",
    "fig.show()"
   ]
  },
  {
   "cell_type": "markdown",
   "metadata": {},
   "source": [
    "### Save data to file"
   ],
   "execution_count": null,
   "outputs": []
  },
  {
   "cell_type": "code",
   "execution_count": null,
   "metadata": {},
   "outputs": [],
   "source": [
    "root_path_i = os.path.join(\n",
    "    os.environ[\"PROJ_irox_oer\"],\n",
    "    \"workflow/feature_engineering/generate_features/SOAP_QUIP\")\n",
    "\n",
    "directory = os.path.join(root_path_i, \"out_data\")\n",
    "if not os.path.exists(directory): os.makedirs(directory)\n",
    "\n",
    "# Pickling data ###########################################\n",
    "path_i = os.path.join(root_path_i, \"out_data/df_SOAP_AS.pickle\")\n",
    "with open(path_i, \"wb\") as fle:\n",
    "    pickle.dump(df_SOAP_AS, fle)\n",
    "# #########################################################\n",
    "\n",
    "# Pickling data ###########################################\n",
    "path_i = os.path.join(root_path_i, \"out_data/df_SOAP_MS.pickle\")\n",
    "with open(path_i, \"wb\") as fle:\n",
    "    pickle.dump(df_SOAP_MS, fle)\n",
    "# #########################################################\n",
    "\n",
    "# Pickling data ###########################################\n",
    "path_i = os.path.join(root_path_i, \"out_data/df_SOAP_ave.pickle\")\n",
    "with open(path_i, \"wb\") as fle:\n",
    "    pickle.dump(df_SOAP_ave, fle)\n",
    "# #########################################################\n",
    "\n",
    "\n",
    "\n",
    "# # #########################################################\n",
    "# import pickle; import os\n",
    "# with open(path_i, \"rb\") as fle:\n",
    "#     df_SOAP_AS = pickle.load(fle)\n",
    "# # #########################################################"
   ]
  },
  {
   "cell_type": "code",
   "execution_count": null,
   "metadata": {},
   "outputs": [],
   "source": [
    "from methods import get_df_SOAP_AS, get_df_SOAP_MS, get_df_SOAP_ave\n",
    "\n",
    "df_SOAP_AS_tmp = get_df_SOAP_AS()\n",
    "df_SOAP_AS_tmp\n",
    "\n",
    "df_SOAP_MS_tmp = get_df_SOAP_MS()\n",
    "df_SOAP_MS_tmp\n",
    "\n",
    "df_SOAP_ave_tmp = get_df_SOAP_ave()\n",
    "df_SOAP_ave_tmp"
   ]
  },
  {
   "cell_type": "code",
   "execution_count": null,
   "metadata": {},
   "outputs": [],
   "source": [
    "# #########################################################\n",
    "print(20 * \"# # \")\n",
    "print(\"All done!\")\n",
    "print(\"Run time:\", np.round((time.time() - ti) / 60, 3), \"min\")\n",
    "print(\"SOAP_features.ipynb\")\n",
    "print(20 * \"# # \")\n",
    "# #########################################################"
   ]
  },
  {
   "cell_type": "raw",
   "metadata": {},
   "source": [
    "\n",
    "\n"
   ],
   "execution_count": null,
   "outputs": []
  },
  {
   "cell_type": "code",
   "execution_count": null,
   "metadata": {
    "jupyter": {}
   },
   "outputs": [],
   "source": [
    "# SOAP_m_i.shape"
   ]
  },
  {
   "cell_type": "code",
   "execution_count": null,
   "metadata": {
    "jupyter": {}
   },
   "outputs": [],
   "source": [
    "# desc?"
   ]
  },
  {
   "cell_type": "code",
   "execution_count": null,
   "metadata": {
    "jupyter": {}
   },
   "outputs": [],
   "source": [
    "# assert False"
   ]
  },
  {
   "cell_type": "code",
   "execution_count": null,
   "metadata": {
    "jupyter": {}
   },
   "outputs": [],
   "source": [
    "# atoms_i"
   ]
  },
  {
   "cell_type": "code",
   "execution_count": null,
   "metadata": {
    "jupyter": {}
   },
   "outputs": [],
   "source": [
    "# atoms_i"
   ]
  },
  {
   "cell_type": "code",
   "execution_count": null,
   "metadata": {
    "jupyter": {}
   },
   "outputs": [],
   "source": [
    "# import\n",
    "\n",
    "# import quippy\n",
    "\n",
    "\n",
    "# quippy.descriptors."
   ]
  },
  {
   "cell_type": "code",
   "execution_count": null,
   "metadata": {
    "jupyter": {}
   },
   "outputs": [],
   "source": [
    "# SOAP_m_i.shape"
   ]
  },
  {
   "cell_type": "code",
   "execution_count": null,
   "metadata": {
    "jupyter": {}
   },
   "outputs": [],
   "source": [
    "# dir(plt.matshow(d['data']))\n",
    "\n",
    "# plt.matshow(d['data'])"
   ]
  },
  {
   "cell_type": "code",
   "execution_count": null,
   "metadata": {
    "jupyter": {}
   },
   "outputs": [],
   "source": [
    "# import os\n",
    "\n",
    "# import numpy as np\n",
    "# import matplotlib.pylab as plt\n",
    "\n",
    "# from quippy.potential import Potential\n",
    "\n",
    "\n",
    "# from ase import Atoms, units\n",
    "# from ase.build import add_vacuum\n",
    "# from ase.lattice.cubic import Diamond\n",
    "# from ase.io import write\n",
    "\n",
    "# from ase.constraints import FixAtoms\n",
    "\n",
    "# from ase.md.velocitydistribution import MaxwellBoltzmannDistribution\n",
    "# from ase.md.verlet import VelocityVerlet\n",
    "# from ase.md.langevin import Langevin\n",
    "\n",
    "# from ase.optimize.precon import PreconLBFGS, Exp\n",
    "\n",
    "# # from gap_si_surface import ViewStructure"
   ]
  },
  {
   "cell_type": "code",
   "execution_count": null,
   "metadata": {
    "jupyter": {}
   },
   "outputs": [],
   "source": [
    "\n",
    "# pd.MultiIndex.from_tuples?"
   ]
  },
  {
   "cell_type": "code",
   "execution_count": null,
   "metadata": {},
   "outputs": [],
   "source": []
  },
  {
   "cell_type": "code",
   "execution_count": null,
   "metadata": {
    "jupyter": {}
   },
   "outputs": [],
   "source": [
    "# assert False"
   ]
  },
  {
   "cell_type": "code",
   "execution_count": null,
   "metadata": {
    "jupyter": {}
   },
   "outputs": [],
   "source": [
    "# job_id_o_i"
   ]
  },
  {
   "cell_type": "code",
   "execution_count": null,
   "metadata": {
    "jupyter": {}
   },
   "outputs": [],
   "source": [
    "# dir(nn_info_i[0][\"site\"])\n",
    "\n",
    "# 'properties',\n",
    "# 'specie',\n",
    "# 'species',\n",
    "# 'species_and_occu',\n",
    "# 'species_string',"
   ]
  },
  {
   "cell_type": "code",
   "execution_count": null,
   "metadata": {
    "jupyter": {}
   },
   "outputs": [],
   "source": [
    "# metal_index_i"
   ]
  },
  {
   "cell_type": "code",
   "execution_count": null,
   "metadata": {
    "jupyter": {}
   },
   "outputs": [],
   "source": [
    "# assert False"
   ]
  },
  {
   "cell_type": "code",
   "execution_count": null,
   "metadata": {},
   "outputs": [],
   "source": [
    "# from plotting.my_plotly import my_plotly_plot\n",
    "\n"
   ]
  }
 ],
 "metadata": {
  "jupytext": {
   "formats": "ipynb,py"
  },
  "kernelspec": {
   "display_name": "Python [conda env:PROJ_irox_oer] *",
   "language": "python",
   "name": "conda-env-PROJ_irox_oer-py"
  },
  "language_info": {
   "codemirror_mode": {
    "name": "ipython",
    "version": 3
   },
   "file_extension": ".py",
   "mimetype": "text/x-python",
   "name": "python",
   "nbconvert_exporter": "python",
   "pygments_lexer": "ipython3",
   "version": "3.6.10"
  }
 },
 "nbformat": 4,
 "nbformat_minor": 4
}
