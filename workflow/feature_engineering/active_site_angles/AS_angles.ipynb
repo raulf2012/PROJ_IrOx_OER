{
 "cells": [
  {
   "cell_type": "markdown",
   "metadata": {},
   "source": [
    "# Calculating the octahedral volume and other geometric quantities\n",
    "---"
   ]
  },
  {
   "cell_type": "markdown",
   "metadata": {},
   "source": [
    "### Import Modules"
   ]
  },
  {
   "cell_type": "code",
   "execution_count": 1,
   "metadata": {},
   "outputs": [],
   "source": [
    "import os\n",
    "print(os.getcwd())\n",
    "import sys\n",
    "import time; ti = time.time()\n",
    "\n",
    "import copy\n",
    "\n",
    "import numpy as np\n",
    "import pandas as pd\n",
    "import math\n",
    "\n",
    "# #########################################################\n",
    "from misc_modules.pandas_methods import reorder_df_columns\n",
    "\n",
    "# #########################################################\n",
    "from proj_data import metal_atom_symbol\n",
    "metal_atom_symbol_i = metal_atom_symbol\n",
    "\n",
    "from methods import (\n",
    "    get_df_jobs_anal,\n",
    "    get_df_atoms_sorted_ind,\n",
    "    get_df_active_sites,\n",
    "    get_df_coord,\n",
    "    )\n",
    "from methods import unit_vector, angle_between\n",
    "from methods import get_df_coord, get_df_coord_wrap\n",
    "\n",
    "# #########################################################\n",
    "from local_methods import get_angle_between_surf_normal_and_O_Ir"
   ]
  },
  {
   "cell_type": "code",
   "execution_count": 4,
   "metadata": {},
   "outputs": [],
   "source": [
    "from methods import isnotebook    \n",
    "isnotebook_i = isnotebook()\n",
    "if isnotebook_i:\n",
    "    from tqdm.notebook import tqdm\n",
    "    verbose = True\n",
    "else:\n",
    "    from tqdm import tqdm\n",
    "    verbose = False"
   ]
  },
  {
   "cell_type": "markdown",
   "metadata": {},
   "source": [
    "### Read Data"
   ]
  },
  {
   "cell_type": "code",
   "execution_count": 5,
   "metadata": {},
   "outputs": [],
   "source": [
    "df_jobs_anal = get_df_jobs_anal()\n",
    "df_jobs_anal_i = df_jobs_anal\n",
    "\n",
    "df_atoms_sorted_ind = get_df_atoms_sorted_ind()\n",
    "\n",
    "df_active_sites = get_df_active_sites()"
   ]
  },
  {
   "cell_type": "markdown",
   "metadata": {},
   "source": [
    "### Filtering down to `oer_adsorbate` jobs"
   ]
  },
  {
   "cell_type": "code",
   "execution_count": 4,
   "metadata": {},
   "outputs": [],
   "source": [
    "df_ind = df_jobs_anal.index.to_frame()\n",
    "df_jobs_anal = df_jobs_anal.loc[\n",
    "    df_ind[df_ind.job_type == \"oer_adsorbate\"].index\n",
    "    ]\n",
    "df_jobs_anal = df_jobs_anal.droplevel(level=0)\n",
    "\n",
    "\n",
    "df_ind = df_atoms_sorted_ind.index.to_frame()\n",
    "df_atoms_sorted_ind = df_atoms_sorted_ind.loc[\n",
    "    df_ind[df_ind.job_type == \"oer_adsorbate\"].index\n",
    "    ]\n",
    "df_atoms_sorted_ind = df_atoms_sorted_ind.droplevel(level=0)"
   ]
  },
  {
   "cell_type": "code",
   "execution_count": 6,
   "metadata": {},
   "outputs": [],
   "source": [
    "sys.path.insert(0,\n",
    "    os.path.join(\n",
    "        os.environ[\"PROJ_irox_oer\"],\n",
    "        \"workflow/feature_engineering\"))\n",
    "\n",
    "from feature_engineering_methods import get_df_feat_rows\n",
    "df_feat_rows = get_df_feat_rows(\n",
    "    df_jobs_anal=df_jobs_anal,\n",
    "    df_atoms_sorted_ind=df_atoms_sorted_ind,\n",
    "    df_active_sites=df_active_sites,\n",
    "    )"
   ]
  },
  {
   "cell_type": "raw",
   "metadata": {},
   "source": [
    "\n"
   ]
  },
  {
   "cell_type": "code",
   "execution_count": 11,
   "metadata": {},
   "outputs": [
    {
     "data": {
      "application/vnd.jupyter.widget-view+json": {
       "model_id": "76392f8359054799b5093ed0abc054a7",
       "version_major": 2,
       "version_minor": 0
      },
      "text/plain": [
       "HBox(children=(FloatProgress(value=0.0, description='1st loop', max=2439.0, style=ProgressStyle(description_wi…"
      ]
     },
     "metadata": {},
     "output_type": "display_data"
    },
    {
     "name": "stdout",
     "output_type": "stream",
     "text": [
      "\n"
     ]
    }
   ],
   "source": [
    "# #########################################################\n",
    "data_dict_list = []\n",
    "# #########################################################\n",
    "iterator = tqdm(df_feat_rows.index, desc=\"1st loop\")\n",
    "for i_cnt, index_i in enumerate(iterator):\n",
    "    # #####################################################\n",
    "    row_i = df_feat_rows.loc[index_i]\n",
    "    # #####################################################\n",
    "    compenv_i = row_i.compenv\n",
    "    slab_id_i = row_i.slab_id\n",
    "    ads_i = row_i.ads\n",
    "    active_site_orig_i = row_i.active_site_orig\n",
    "    att_num_i = row_i.att_num\n",
    "    job_id_max_i = row_i.job_id_max\n",
    "    active_site_i = row_i.active_site\n",
    "    # #####################################################\n",
    "\n",
    "    if active_site_orig_i == \"NaN\":\n",
    "        from_oh_i = False\n",
    "    else:\n",
    "        from_oh_i = True\n",
    "\n",
    "    name_i = (\n",
    "        row_i.compenv, row_i.slab_id, row_i.ads,\n",
    "        row_i.active_site_orig, row_i.att_num,\n",
    "        )\n",
    "\n",
    "    # #####################################################\n",
    "    row_atoms_i = df_atoms_sorted_ind.loc[name_i]\n",
    "    # #####################################################\n",
    "    atoms_i = row_atoms_i.atoms_sorted_good\n",
    "    # #####################################################\n",
    "    # atoms_i.write(\"out_data/atoms.traj\")\n",
    "\n",
    "\n",
    "    df_coord_i = get_df_coord_wrap(name_i, active_site_i)\n",
    "\n",
    "    angle_i = get_angle_between_surf_normal_and_O_Ir(\n",
    "        atoms=atoms_i,\n",
    "        df_coord=df_coord_i,\n",
    "        active_site=active_site_i,\n",
    "        )\n",
    "\n",
    "    # #####################################################\n",
    "    data_dict_i = dict()\n",
    "    # #####################################################\n",
    "    data_dict_i[\"job_id_max\"] = job_id_max_i\n",
    "    data_dict_i[\"from_oh\"] = from_oh_i\n",
    "    data_dict_i[\"active_site\"] = active_site_i\n",
    "    data_dict_i[\"compenv\"] = compenv_i\n",
    "    data_dict_i[\"slab_id\"] = slab_id_i\n",
    "    data_dict_i[\"ads\"] = ads_i\n",
    "    data_dict_i[\"active_site_orig\"] = active_site_orig_i\n",
    "    data_dict_i[\"att_num\"] = att_num_i\n",
    "    data_dict_i[\"angle_O_Ir_surf_norm\"] = angle_i\n",
    "    # #####################################################\n",
    "    data_dict_list.append(data_dict_i)\n",
    "    # #####################################################\n",
    "\n",
    "\n",
    "# #########################################################\n",
    "df_angles = pd.DataFrame(data_dict_list)\n",
    "\n",
    "col_order_list = [\"compenv\", \"slab_id\", \"ads\", \"active_site\", \"att_num\"]\n",
    "df_angles = reorder_df_columns(col_order_list, df_angles)\n",
    "# #########################################################"
   ]
  },
  {
   "cell_type": "code",
   "execution_count": 12,
   "metadata": {},
   "outputs": [],
   "source": [
    "df_angles = df_angles.set_index(\n",
    "    # [\"compenv\", \"slab_id\", \"ads\", \"active_site\", \"att_num\", ],\n",
    "    [\"compenv\", \"slab_id\", \"ads\", \"active_site\", \"att_num\", \"from_oh\"],\n",
    "    drop=False)"
   ]
  },
  {
   "cell_type": "code",
   "execution_count": 13,
   "metadata": {},
   "outputs": [],
   "source": [
    "df = df_angles\n",
    "\n",
    "multi_columns_dict = {\n",
    "    \"features\": [\"angle_O_Ir_surf_norm\", ],\n",
    "    \"data\": [\"from_oh\", \"compenv\", \"slab_id\", \"ads\", \"att_num\", \"active_site\", \"job_id_max\", ],\n",
    "\n",
    "    # \"features\": [\"eff_oxid_state\", ],\n",
    "    # \"data\": [\"job_id_max\", \"from_oh\", \"compenv\", \"slab_id\", \"ads\", \"att_num\", ]\n",
    "    }\n",
    "\n",
    "nested_columns = dict()\n",
    "for col_header, cols in multi_columns_dict.items():\n",
    "    for col_j in cols:\n",
    "        nested_columns[col_j] = (col_header, col_j)\n",
    "\n",
    "df = df.rename(columns=nested_columns)\n",
    "df.columns = [c if isinstance(c, tuple) else (\"\", c) for c in df.columns]\n",
    "df.columns = pd.MultiIndex.from_tuples(df.columns)\n",
    "\n",
    "df_angles = df"
   ]
  },
  {
   "cell_type": "code",
   "execution_count": 14,
   "metadata": {},
   "outputs": [],
   "source": [
    "df_angles = df_angles.reindex(columns = [\"data\", \"features\", ], level=0)"
   ]
  },
  {
   "cell_type": "raw",
   "metadata": {},
   "source": [
    "\n",
    "\n",
    "\n",
    "\n",
    "\n",
    "\n"
   ]
  },
  {
   "cell_type": "code",
   "execution_count": 16,
   "metadata": {},
   "outputs": [],
   "source": [
    "root_path_i = os.path.join(\n",
    "    os.environ[\"PROJ_irox_oer\"],\n",
    "    \"workflow/feature_engineering/active_site_angles\")\n",
    "\n",
    "# Pickling data ###########################################\n",
    "import os; import pickle\n",
    "directory = os.path.join(root_path_i, \"out_data\")\n",
    "if not os.path.exists(directory): os.makedirs(directory)\n",
    "path_i = os.path.join(root_path_i, \"out_data/df_AS_angles.pickle\")\n",
    "with open(path_i, \"wb\") as fle:\n",
    "    pickle.dump(df_angles, fle)\n",
    "# #########################################################"
   ]
  },
  {
   "cell_type": "code",
   "execution_count": 17,
   "metadata": {},
   "outputs": [
    {
     "data": {
      "text/html": [
       "<div>\n",
       "<style scoped>\n",
       "    .dataframe tbody tr th:only-of-type {\n",
       "        vertical-align: middle;\n",
       "    }\n",
       "\n",
       "    .dataframe tbody tr th {\n",
       "        vertical-align: top;\n",
       "    }\n",
       "\n",
       "    .dataframe thead tr th {\n",
       "        text-align: left;\n",
       "    }\n",
       "\n",
       "    .dataframe thead tr:last-of-type th {\n",
       "        text-align: right;\n",
       "    }\n",
       "</style>\n",
       "<table border=\"1\" class=\"dataframe\">\n",
       "  <thead>\n",
       "    <tr>\n",
       "      <th></th>\n",
       "      <th></th>\n",
       "      <th></th>\n",
       "      <th></th>\n",
       "      <th></th>\n",
       "      <th></th>\n",
       "      <th colspan=\"7\" halign=\"left\">data</th>\n",
       "      <th>features</th>\n",
       "    </tr>\n",
       "    <tr>\n",
       "      <th></th>\n",
       "      <th></th>\n",
       "      <th></th>\n",
       "      <th></th>\n",
       "      <th></th>\n",
       "      <th></th>\n",
       "      <th>compenv</th>\n",
       "      <th>slab_id</th>\n",
       "      <th>ads</th>\n",
       "      <th>active_site</th>\n",
       "      <th>att_num</th>\n",
       "      <th>job_id_max</th>\n",
       "      <th>from_oh</th>\n",
       "      <th>angle_O_Ir_surf_norm</th>\n",
       "    </tr>\n",
       "    <tr>\n",
       "      <th>compenv</th>\n",
       "      <th>slab_id</th>\n",
       "      <th>ads</th>\n",
       "      <th>active_site</th>\n",
       "      <th>att_num</th>\n",
       "      <th>from_oh</th>\n",
       "      <th></th>\n",
       "      <th></th>\n",
       "      <th></th>\n",
       "      <th></th>\n",
       "      <th></th>\n",
       "      <th></th>\n",
       "      <th></th>\n",
       "      <th></th>\n",
       "    </tr>\n",
       "  </thead>\n",
       "  <tbody>\n",
       "    <tr>\n",
       "      <th rowspan=\"5\" valign=\"top\">nersc</th>\n",
       "      <th rowspan=\"5\" valign=\"top\">dakoputu_58</th>\n",
       "      <th rowspan=\"5\" valign=\"top\">o</th>\n",
       "      <th>74.0</th>\n",
       "      <th>1</th>\n",
       "      <th>False</th>\n",
       "      <td>nersc</td>\n",
       "      <td>dakoputu_58</td>\n",
       "      <td>o</td>\n",
       "      <td>74.0</td>\n",
       "      <td>1</td>\n",
       "      <td>kisegava_92</td>\n",
       "      <td>False</td>\n",
       "      <td>92.277859</td>\n",
       "    </tr>\n",
       "    <tr>\n",
       "      <th>75.0</th>\n",
       "      <th>1</th>\n",
       "      <th>False</th>\n",
       "      <td>nersc</td>\n",
       "      <td>dakoputu_58</td>\n",
       "      <td>o</td>\n",
       "      <td>75.0</td>\n",
       "      <td>1</td>\n",
       "      <td>kisegava_92</td>\n",
       "      <td>False</td>\n",
       "      <td>84.566054</td>\n",
       "    </tr>\n",
       "    <tr>\n",
       "      <th>76.0</th>\n",
       "      <th>1</th>\n",
       "      <th>False</th>\n",
       "      <td>nersc</td>\n",
       "      <td>dakoputu_58</td>\n",
       "      <td>o</td>\n",
       "      <td>76.0</td>\n",
       "      <td>1</td>\n",
       "      <td>kisegava_92</td>\n",
       "      <td>False</td>\n",
       "      <td>62.954075</td>\n",
       "    </tr>\n",
       "    <tr>\n",
       "      <th>77.0</th>\n",
       "      <th>1</th>\n",
       "      <th>False</th>\n",
       "      <td>nersc</td>\n",
       "      <td>dakoputu_58</td>\n",
       "      <td>o</td>\n",
       "      <td>77.0</td>\n",
       "      <td>1</td>\n",
       "      <td>kisegava_92</td>\n",
       "      <td>False</td>\n",
       "      <td>44.094194</td>\n",
       "    </tr>\n",
       "    <tr>\n",
       "      <th>78.0</th>\n",
       "      <th>1</th>\n",
       "      <th>False</th>\n",
       "      <td>nersc</td>\n",
       "      <td>dakoputu_58</td>\n",
       "      <td>o</td>\n",
       "      <td>78.0</td>\n",
       "      <td>1</td>\n",
       "      <td>kisegava_92</td>\n",
       "      <td>False</td>\n",
       "      <td>11.191008</td>\n",
       "    </tr>\n",
       "    <tr>\n",
       "      <th>...</th>\n",
       "      <th>...</th>\n",
       "      <th>...</th>\n",
       "      <th>...</th>\n",
       "      <th>...</th>\n",
       "      <th>...</th>\n",
       "      <td>...</td>\n",
       "      <td>...</td>\n",
       "      <td>...</td>\n",
       "      <td>...</td>\n",
       "      <td>...</td>\n",
       "      <td>...</td>\n",
       "      <td>...</td>\n",
       "      <td>...</td>\n",
       "    </tr>\n",
       "    <tr>\n",
       "      <th rowspan=\"5\" valign=\"top\">slac</th>\n",
       "      <th rowspan=\"5\" valign=\"top\">wufulafe_03</th>\n",
       "      <th rowspan=\"5\" valign=\"top\">oh</th>\n",
       "      <th>57.0</th>\n",
       "      <th>3</th>\n",
       "      <th>True</th>\n",
       "      <td>slac</td>\n",
       "      <td>wufulafe_03</td>\n",
       "      <td>oh</td>\n",
       "      <td>57.0</td>\n",
       "      <td>3</td>\n",
       "      <td>bureruba_01</td>\n",
       "      <td>True</td>\n",
       "      <td>32.710859</td>\n",
       "    </tr>\n",
       "    <tr>\n",
       "      <th rowspan=\"4\" valign=\"top\">58.0</th>\n",
       "      <th>0</th>\n",
       "      <th>True</th>\n",
       "      <td>slac</td>\n",
       "      <td>wufulafe_03</td>\n",
       "      <td>oh</td>\n",
       "      <td>58.0</td>\n",
       "      <td>0</td>\n",
       "      <td>sudubuwe_77</td>\n",
       "      <td>True</td>\n",
       "      <td>17.238952</td>\n",
       "    </tr>\n",
       "    <tr>\n",
       "      <th>1</th>\n",
       "      <th>True</th>\n",
       "      <td>slac</td>\n",
       "      <td>wufulafe_03</td>\n",
       "      <td>oh</td>\n",
       "      <td>58.0</td>\n",
       "      <td>1</td>\n",
       "      <td>gavenumu_58</td>\n",
       "      <td>True</td>\n",
       "      <td>14.452806</td>\n",
       "    </tr>\n",
       "    <tr>\n",
       "      <th>2</th>\n",
       "      <th>True</th>\n",
       "      <td>slac</td>\n",
       "      <td>wufulafe_03</td>\n",
       "      <td>oh</td>\n",
       "      <td>58.0</td>\n",
       "      <td>2</td>\n",
       "      <td>meweduse_57</td>\n",
       "      <td>True</td>\n",
       "      <td>13.779092</td>\n",
       "    </tr>\n",
       "    <tr>\n",
       "      <th>3</th>\n",
       "      <th>True</th>\n",
       "      <td>slac</td>\n",
       "      <td>wufulafe_03</td>\n",
       "      <td>oh</td>\n",
       "      <td>58.0</td>\n",
       "      <td>3</td>\n",
       "      <td>fukohesi_27</td>\n",
       "      <td>True</td>\n",
       "      <td>16.817487</td>\n",
       "    </tr>\n",
       "  </tbody>\n",
       "</table>\n",
       "<p>2439 rows × 8 columns</p>\n",
       "</div>"
      ],
      "text/plain": [
       "                                                       data                   \\\n",
       "                                                    compenv      slab_id ads   \n",
       "compenv slab_id     ads active_site att_num from_oh                            \n",
       "nersc   dakoputu_58 o   74.0        1       False     nersc  dakoputu_58   o   \n",
       "                        75.0        1       False     nersc  dakoputu_58   o   \n",
       "                        76.0        1       False     nersc  dakoputu_58   o   \n",
       "                        77.0        1       False     nersc  dakoputu_58   o   \n",
       "                        78.0        1       False     nersc  dakoputu_58   o   \n",
       "...                                                     ...          ...  ..   \n",
       "slac    wufulafe_03 oh  57.0        3       True       slac  wufulafe_03  oh   \n",
       "                        58.0        0       True       slac  wufulafe_03  oh   \n",
       "                                    1       True       slac  wufulafe_03  oh   \n",
       "                                    2       True       slac  wufulafe_03  oh   \n",
       "                                    3       True       slac  wufulafe_03  oh   \n",
       "\n",
       "                                                                         \\\n",
       "                                                    active_site att_num   \n",
       "compenv slab_id     ads active_site att_num from_oh                       \n",
       "nersc   dakoputu_58 o   74.0        1       False          74.0       1   \n",
       "                        75.0        1       False          75.0       1   \n",
       "                        76.0        1       False          76.0       1   \n",
       "                        77.0        1       False          77.0       1   \n",
       "                        78.0        1       False          78.0       1   \n",
       "...                                                         ...     ...   \n",
       "slac    wufulafe_03 oh  57.0        3       True           57.0       3   \n",
       "                        58.0        0       True           58.0       0   \n",
       "                                    1       True           58.0       1   \n",
       "                                    2       True           58.0       2   \n",
       "                                    3       True           58.0       3   \n",
       "\n",
       "                                                                          \\\n",
       "                                                      job_id_max from_oh   \n",
       "compenv slab_id     ads active_site att_num from_oh                        \n",
       "nersc   dakoputu_58 o   74.0        1       False    kisegava_92   False   \n",
       "                        75.0        1       False    kisegava_92   False   \n",
       "                        76.0        1       False    kisegava_92   False   \n",
       "                        77.0        1       False    kisegava_92   False   \n",
       "                        78.0        1       False    kisegava_92   False   \n",
       "...                                                          ...     ...   \n",
       "slac    wufulafe_03 oh  57.0        3       True     bureruba_01    True   \n",
       "                        58.0        0       True     sudubuwe_77    True   \n",
       "                                    1       True     gavenumu_58    True   \n",
       "                                    2       True     meweduse_57    True   \n",
       "                                    3       True     fukohesi_27    True   \n",
       "\n",
       "                                                                features  \n",
       "                                                    angle_O_Ir_surf_norm  \n",
       "compenv slab_id     ads active_site att_num from_oh                       \n",
       "nersc   dakoputu_58 o   74.0        1       False              92.277859  \n",
       "                        75.0        1       False              84.566054  \n",
       "                        76.0        1       False              62.954075  \n",
       "                        77.0        1       False              44.094194  \n",
       "                        78.0        1       False              11.191008  \n",
       "...                                                                  ...  \n",
       "slac    wufulafe_03 oh  57.0        3       True               32.710859  \n",
       "                        58.0        0       True               17.238952  \n",
       "                                    1       True               14.452806  \n",
       "                                    2       True               13.779092  \n",
       "                                    3       True               16.817487  \n",
       "\n",
       "[2439 rows x 8 columns]"
      ]
     },
     "execution_count": 17,
     "metadata": {},
     "output_type": "execute_result"
    }
   ],
   "source": [
    "from methods import get_df_angles\n",
    "\n",
    "df_angles_tmp = get_df_angles()\n",
    "df_angles_tmp"
   ]
  },
  {
   "cell_type": "code",
   "execution_count": 18,
   "metadata": {},
   "outputs": [
    {
     "name": "stdout",
     "output_type": "stream",
     "text": [
      "# # # # # # # # # # # # # # # # # # # # # # # # # # # # # # # # # # # # # # # # \n",
      "All done!\n",
      "Run time: 0.43 min\n",
      "AS_angles.ipynb\n",
      "# # # # # # # # # # # # # # # # # # # # # # # # # # # # # # # # # # # # # # # # \n"
     ]
    }
   ],
   "source": [
    "# #########################################################\n",
    "print(20 * \"# # \")\n",
    "print(\"All done!\")\n",
    "print(\"Run time:\", np.round((time.time() - ti) / 60, 3), \"min\")\n",
    "print(\"AS_angles.ipynb\")\n",
    "print(20 * \"# # \")\n",
    "# #########################################################"
   ]
  },
  {
   "cell_type": "raw",
   "metadata": {},
   "source": [
    "\n",
    "\n"
   ]
  },
  {
   "cell_type": "code",
   "execution_count": 7,
   "metadata": {
    "jupyter": {
     "source_hidden": true
    }
   },
   "outputs": [],
   "source": [
    "# df_feat_rows = df_feat_rows.sample(n=10)"
   ]
  },
  {
   "cell_type": "code",
   "execution_count": 8,
   "metadata": {
    "jupyter": {
     "source_hidden": true
    }
   },
   "outputs": [],
   "source": [
    "# df = df_feat_rows\n",
    "# df = df[\n",
    "#     (df[\"compenv\"] == \"sherlock\") &\n",
    "#     (df[\"slab_id\"] == \"lufinanu_76\") &\n",
    "#     (df[\"ads\"] == \"oh\") &\n",
    "#     (df[\"active_site\"] == 46.) &\n",
    "#     (df[\"att_num\"] == 0) &\n",
    "#     [True for i in range(len(df))]\n",
    "#     ]\n",
    "# df_feat_rows = df"
   ]
  },
  {
   "cell_type": "code",
   "execution_count": 9,
   "metadata": {
    "jupyter": {
     "source_hidden": true
    }
   },
   "outputs": [],
   "source": [
    "# df_feat_rows = df_feat_rows.loc[[574]]"
   ]
  },
  {
   "cell_type": "code",
   "execution_count": 10,
   "metadata": {
    "jupyter": {
     "source_hidden": true
    }
   },
   "outputs": [],
   "source": [
    "# False\t46.0\tsherlock\tlufinanu_76\to\t1\tbobatudi_54\t\n",
    "\n",
    "# df_feat_rows"
   ]
  },
  {
   "cell_type": "code",
   "execution_count": 15,
   "metadata": {
    "jupyter": {
     "source_hidden": true
    }
   },
   "outputs": [],
   "source": [
    "# df_angles.head()\n",
    "# df_angles"
   ]
  }
 ],
 "metadata": {
  "jupytext": {
   "formats": "ipynb,py:light"
  },
  "kernelspec": {
   "display_name": "Python [conda env:PROJ_irox_oer] *",
   "language": "python",
   "name": "conda-env-PROJ_irox_oer-py"
  },
  "language_info": {
   "codemirror_mode": {
    "name": "ipython",
    "version": 3
   },
   "file_extension": ".py",
   "mimetype": "text/x-python",
   "name": "python",
   "nbconvert_exporter": "python",
   "pygments_lexer": "ipython3",
   "version": "3.6.11"
  }
 },
 "nbformat": 4,
 "nbformat_minor": 4
}
