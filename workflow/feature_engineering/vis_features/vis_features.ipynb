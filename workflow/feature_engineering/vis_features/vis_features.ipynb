{
 "cells": [
  {
   "cell_type": "markdown",
   "metadata": {},
   "source": [
    "# Constructing linear model for OER adsorption energies\n",
    "---\n"
   ],
   "execution_count": null,
   "outputs": []
  },
  {
   "cell_type": "markdown",
   "metadata": {},
   "source": [
    "### Import Modules"
   ],
   "execution_count": null,
   "outputs": []
  },
  {
   "cell_type": "code",
   "execution_count": null,
   "metadata": {},
   "outputs": [],
   "source": [
    "import os\n",
    "print(os.getcwd())\n",
    "import sys\n",
    "import time; ti = time.time()\n",
    "\n",
    "# import copy\n",
    "\n",
    "import numpy as np\n",
    "import pandas as pd\n",
    "pd.set_option(\"display.max_columns\", None)\n",
    "\n",
    "import plotly.express as px\n",
    "import plotly.graph_objects as go\n",
    "\n",
    "from IPython.display import display\n",
    "\n",
    "# #########################################################\n",
    "# from proj_data import scatter_marker_props, layout_shared\n",
    "\n",
    "# #########################################################\n",
    "# from local_methods import run_gp_workflow"
   ]
  },
  {
   "cell_type": "code",
   "execution_count": null,
   "metadata": {},
   "outputs": [],
   "source": [
    "from methods import get_df_slab\n",
    "from methods import get_df_features_targets"
   ]
  },
  {
   "cell_type": "code",
   "execution_count": null,
   "metadata": {},
   "outputs": [],
   "source": [
    "sys.path.insert(0, \n",
    "    os.path.join(\n",
    "        os.environ[\"PROJ_irox_oer\"],\n",
    "        \"workflow/model_building\"\n",
    "        )\n",
    "    )\n",
    "\n",
    "from methods_model_building import (\n",
    "    simplify_df_features_targets,\n",
    "    run_kfold_cv_wf,\n",
    "    process_feature_targets_df,\n",
    "    process_pca_analysis,\n",
    "    pca_analysis,\n",
    "    run_regression_wf,\n",
    "    )"
   ]
  },
  {
   "cell_type": "code",
   "execution_count": null,
   "metadata": {},
   "outputs": [],
   "source": [
    "from methods import isnotebook    \n",
    "isnotebook_i = isnotebook()\n",
    "if isnotebook_i:\n",
    "    from tqdm.notebook import tqdm\n",
    "    verbose = True\n",
    "    show_plot = True\n",
    "else:\n",
    "    from tqdm import tqdm\n",
    "    verbose = False\n",
    "    show_plot = False"
   ]
  },
  {
   "cell_type": "markdown",
   "metadata": {},
   "source": [
    "### Read Data"
   ],
   "execution_count": null,
   "outputs": []
  },
  {
   "cell_type": "code",
   "execution_count": null,
   "metadata": {},
   "outputs": [],
   "source": [
    "df_features_targets = get_df_features_targets()\n",
    "\n",
    "df_slab = get_df_slab()\n",
    "\n",
    "# #########################################################\n",
    "df_i = df_features_targets\n",
    "\n",
    "# Getting phase > 1 slab ids\n",
    "df_slab_i = df_slab[df_slab.phase > 1]\n",
    "phase_2_slab_ids = df_slab_i.slab_id.tolist()"
   ]
  },
  {
   "cell_type": "markdown",
   "metadata": {},
   "source": [
    "### Dropping phase 1 slabs"
   ],
   "execution_count": null,
   "outputs": []
  },
  {
   "cell_type": "code",
   "execution_count": null,
   "metadata": {},
   "outputs": [],
   "source": [
    "df_index = df_i.index.to_frame()\n",
    "df_index_i = df_index[\n",
    "    df_index.slab_id.isin(phase_2_slab_ids)\n",
    "    ]\n",
    "\n",
    "print(\"Dropping phase 1 slabs\")\n",
    "df_i = df_i.loc[\n",
    "    df_index_i.index\n",
    "    ]"
   ]
  },
  {
   "cell_type": "raw",
   "metadata": {},
   "source": [
    "\n",
    "\n",
    "\n"
   ],
   "execution_count": null,
   "outputs": []
  },
  {
   "cell_type": "markdown",
   "metadata": {},
   "source": [
    "# -------------------------"
   ],
   "execution_count": null,
   "outputs": []
  },
  {
   "cell_type": "markdown",
   "metadata": {},
   "source": [
    "# G_O Model"
   ],
   "execution_count": null,
   "outputs": []
  },
  {
   "cell_type": "code",
   "execution_count": null,
   "metadata": {
    "lines_to_next_cell": 0
   },
   "outputs": [],
   "source": [
    "# target_ads_i = \"o\"\n",
    "\n",
    "target_ads_i = \"oh\"\n",
    "feature_ads_i = \"oh\""
   ]
  },
  {
   "cell_type": "raw",
   "metadata": {},
   "source": [
    "\n",
    "\n",
    "\n"
   ],
   "execution_count": null,
   "outputs": []
  },
  {
   "cell_type": "code",
   "execution_count": null,
   "metadata": {},
   "outputs": [],
   "source": [
    "df_j = simplify_df_features_targets(\n",
    "    df_i,\n",
    "    target_ads=\"o\",\n",
    "    feature_ads=\"oh\",\n",
    "    )\n",
    "\n",
    "# df_format = df_features_targets[(\"format\", \"color\", \"stoich\", )]"
   ]
  },
  {
   "cell_type": "code",
   "execution_count": null,
   "metadata": {},
   "outputs": [],
   "source": [
    "# print(\n",
    "#     \"cols_to_use:\"\n",
    "#     \"\\n\",\n",
    "#     20 * \"-\",\n",
    "#     sep=\"\")\n",
    "# tmp = [print(i) for i in list(df_j[\"features\"].columns)]\n",
    "\n",
    "cols_to_use = list(df_j[\"features\"].columns)"
   ]
  },
  {
   "cell_type": "code",
   "execution_count": null,
   "metadata": {},
   "outputs": [],
   "source": [
    "cols_to_use = [\n",
    "    'magmom_active_site',\n",
    "    'active_o_metal_dist',\n",
    "    'effective_ox_state',\n",
    "    'ir_o_mean',\n",
    "    'ir_o_std',\n",
    "    'octa_vol',\n",
    "    'dH_bulk',\n",
    "    'volume_pa',\n",
    "    'bulk_oxid_state',\n",
    "    ]"
   ]
  },
  {
   "cell_type": "code",
   "execution_count": null,
   "metadata": {},
   "outputs": [],
   "source": [
    "num_pca_comp = 3"
   ]
  },
  {
   "cell_type": "code",
   "execution_count": null,
   "metadata": {},
   "outputs": [],
   "source": [
    "df_j = process_feature_targets_df(\n",
    "    df_features_targets=df_j,\n",
    "    cols_to_use=cols_to_use,\n",
    "    )\n",
    "\n",
    "# #####################################################\n",
    "# df_pca = process_pca_analysis(\n",
    "out_dict = process_pca_analysis(\n",
    "    df_features_targets=df_j,\n",
    "    num_pca_comp=num_pca_comp,\n",
    "    )\n",
    "# #####################################################\n",
    "df_pca = out_dict[\"df_pca\"]\n",
    "pca = out_dict[\"pca\"]\n",
    "# #####################################################"
   ]
  },
  {
   "cell_type": "code",
   "execution_count": null,
   "metadata": {},
   "outputs": [],
   "source": [
    "df_pca = df_pca.droplevel(0, axis=1)"
   ]
  },
  {
   "cell_type": "code",
   "execution_count": null,
   "metadata": {},
   "outputs": [],
   "source": [
    "df_pca = pd.concat([\n",
    "    df_features_targets[\"data\"][\"overpot\"],\n",
    "    df_pca,\n",
    "    ], axis=1)\n",
    "\n",
    "df_pca = df_pca.dropna()"
   ]
  },
  {
   "cell_type": "code",
   "execution_count": null,
   "metadata": {},
   "outputs": [],
   "source": [
    "# assert False"
   ]
  },
  {
   "cell_type": "code",
   "execution_count": null,
   "metadata": {},
   "outputs": [],
   "source": [
    "fig = px.scatter_3d(\n",
    "    df_pca,\n",
    "\n",
    "    x='PCA0',\n",
    "    y='PCA1',\n",
    "    z='PCA2',\n",
    "\n",
    "    color='y',\n",
    "    )\n",
    "\n",
    "# fig.show()"
   ]
  },
  {
   "cell_type": "code",
   "execution_count": null,
   "metadata": {},
   "outputs": [],
   "source": [
    "# TOP SYSTEMS\n",
    "\n",
    "# df_features_targets = df_features_targets.loc[\n",
    "\n",
    "top_indices = [\n",
    "    ('slac', 'hobukuno_29', 16.0),\n",
    "    ('sherlock', 'ramufalu_44', 56.0),\n",
    "    ('slac', 'nifupidu_92', 32.0),\n",
    "    ('sherlock', 'bihetofu_24', 36.0),\n",
    "    ('slac', 'dotivela_46', 32.0),\n",
    "    ('slac', 'vovumota_03', 33.0),\n",
    "    ('slac', 'ralutiwa_59', 32.0),\n",
    "    ('sherlock', 'bebodira_65', 16.0),\n",
    "    ('sherlock', 'soregawu_05', 62.0),\n",
    "    ('slac', 'hivovaru_77', 26.0),\n",
    "    ('sherlock', 'vegarebo_06', 50.0),\n",
    "    ('slac', 'ralutiwa_59', 30.0),\n",
    "    ('sherlock', 'kamevuse_75', 49.0),\n",
    "    ('nersc', 'hesegula_40', 94.0),\n",
    "    ('slac', 'fewirefe_11', 39.0),\n",
    "    ('sherlock', 'vipikema_98', 60.0),\n",
    "    ('slac', 'gulipita_22', 48.0),\n",
    "    ('sherlock', 'rofetaso_24', 48.0),\n",
    "    ('slac', 'runopeno_56', 32.0),\n",
    "    ('slac', 'magiwuni_58', 26.0),\n",
    "    ]\n",
    "\n",
    "df_pca_2 = df_pca.loc[top_indices]\n",
    "df_pca_3 = df_pca.drop(labels=top_indices)"
   ]
  },
  {
   "cell_type": "code",
   "execution_count": null,
   "metadata": {},
   "outputs": [],
   "source": [
    "fig = px.scatter_3d(\n",
    "    df_pca_2,\n",
    "\n",
    "    x='PCA0',\n",
    "    y='PCA1',\n",
    "    z='PCA2',\n",
    "\n",
    "    color='y',\n",
    "    )\n",
    "\n",
    "fig.show()"
   ]
  },
  {
   "cell_type": "code",
   "execution_count": null,
   "metadata": {},
   "outputs": [],
   "source": [
    "trace_1 = go.Scatter3d(\n",
    "    x=df_pca_2[\"PCA0\"],\n",
    "    y=df_pca_2[\"PCA1\"],\n",
    "    z=df_pca_2[\"PCA2\"],\n",
    "    mode='markers',\n",
    "    marker_color=\"red\",\n",
    "    )\n",
    "trace_2 = go.Scatter3d(\n",
    "    x=df_pca_3[\"PCA0\"],\n",
    "    y=df_pca_3[\"PCA1\"],\n",
    "    z=df_pca_3[\"PCA2\"],\n",
    "    mode='markers',\n",
    "    marker_color=\"gray\",\n",
    "    )\n",
    "\n",
    "fig = go.Figure(\n",
    "    data=[trace_1, trace_2]\n",
    "    )\n",
    "\n",
    "fig.show()"
   ]
  },
  {
   "cell_type": "code",
   "execution_count": null,
   "metadata": {},
   "outputs": [],
   "source": [
    "trace_1 = go.Scatter3d(\n",
    "    x=df_pca_2[\"PCA0\"],\n",
    "    y=df_pca_2[\"PCA1\"],\n",
    "    z=df_pca_2[\"PCA2\"],\n",
    "    mode='markers',\n",
    "    marker_color=\"red\",\n",
    "    )\n",
    "trace_2 = go.Scatter3d(\n",
    "    x=df_pca_3[\"PCA0\"],\n",
    "    y=df_pca_3[\"PCA1\"],\n",
    "    z=df_pca_3[\"PCA2\"],\n",
    "    mode='markers',\n",
    "    \n",
    "    marker=go.scatter3d.Marker(\n",
    "        opacity=0.8,\n",
    "        colorbar=dict(thickness=20, ),\n",
    "        color=df_pca_3[\"overpot\"],\n",
    "\n",
    "        cmin=df_pca[\"overpot\"].min(),\n",
    "        cmax=0.5,\n",
    "        reversescale=True,\n",
    "\n",
    "        ),\n",
    "    )\n",
    "layout = go.Layout(\n",
    "    height=500,\n",
    "    scene=go.layout.Scene(\n",
    "        xaxis=go.layout.scene.XAxis(title=\"PCA0\"),\n",
    "        yaxis=go.layout.scene.YAxis(title=\"PCA1\"),\n",
    "        zaxis=go.layout.scene.ZAxis(title=\"PCA2\")\n",
    "        ),\n",
    "    )\n",
    "\n",
    "fig = go.Figure(\n",
    "    data=[\n",
    "        # trace_1,\n",
    "        trace_2,\n",
    "        ],\n",
    "    layout=layout,\n",
    "    )\n",
    "\n",
    "fig.show()"
   ]
  },
  {
   "cell_type": "code",
   "execution_count": null,
   "metadata": {},
   "outputs": [],
   "source": [
    "df_pca_4.loc[[(\"slac\", \"dotivela_46\", 26.0, )]]"
   ]
  },
  {
   "cell_type": "markdown",
   "metadata": {},
   "source": [
    "### Ranking systems by proximity to PCA feature space center"
   ],
   "execution_count": null,
   "outputs": []
  },
  {
   "cell_type": "code",
   "execution_count": null,
   "metadata": {},
   "outputs": [],
   "source": [
    "PCA0_mean = df_pca_3.PCA0.mean()\n",
    "PCA1_mean = df_pca_3.PCA1.mean()\n",
    "PCA2_mean = df_pca_3.PCA2.mean()\n",
    "\n",
    "PCA_mean = np.array([\n",
    "    PCA0_mean,\n",
    "    PCA1_mean,\n",
    "    PCA2_mean,\n",
    "    ])"
   ]
  },
  {
   "cell_type": "code",
   "execution_count": null,
   "metadata": {},
   "outputs": [],
   "source": [
    "data_dict_list = []\n",
    "for index_i, row_i in df_pca_3.iterrows():\n",
    "    # #####################################################\n",
    "    index_dict_i = dict(zip(df_pca_3.index.names, index_i,))\n",
    "    # #####################################################\n",
    "    PCA_i = row_i[[\"PCA0\", \"PCA1\", \"PCA2\", ]].to_numpy()\n",
    "    dist_from_mean = np.linalg.norm(PCA_mean - PCA_i)\n",
    "\n",
    "    data_dict_i = dict()\n",
    "    data_dict_i.update(index_dict_i)\n",
    "    data_dict_i[\"dist_from_mean\"] = dist_from_mean\n",
    "    data_dict_list.append(data_dict_i)\n",
    "\n",
    "df_dist = pd.DataFrame(data_dict_list)\n",
    "\n",
    "df_dist = df_dist.set_index([\"compenv\", \"slab_id\", \"active_site\", ])"
   ]
  },
  {
   "cell_type": "code",
   "execution_count": null,
   "metadata": {},
   "outputs": [],
   "source": [
    "df_pca_4 = pd.concat([\n",
    "    df_pca_3,\n",
    "    df_dist,\n",
    "    ], axis=1)"
   ]
  },
  {
   "cell_type": "code",
   "execution_count": null,
   "metadata": {},
   "outputs": [],
   "source": [
    "df_pca_4.sort_values(\"dist_from_mean\", ascending=False).iloc[0:15]"
   ]
  },
  {
   "cell_type": "code",
   "execution_count": null,
   "metadata": {},
   "outputs": [],
   "source": [
    "\n",
    "pd.concat([\n",
    "    df_features_targets.loc[[\n",
    "        (\"slac\", \"dotivela_46\", 26.0, )\n",
    "        ]],\n",
    "\n",
    "    df_features_targets.loc[\n",
    "        df_pca_4.sort_values(\"dist_from_mean\", ascending=False).iloc[0:2].index.tolist()\n",
    "        ],\n",
    "    df_features_targets.sample(n=10),\n",
    "\n",
    "\n",
    "    ], axis=0)"
   ]
  },
  {
   "cell_type": "code",
   "execution_count": null,
   "metadata": {},
   "outputs": [],
   "source": []
  },
  {
   "cell_type": "raw",
   "metadata": {},
   "source": [
    "\n",
    "\n"
   ],
   "execution_count": null,
   "outputs": []
  },
  {
   "cell_type": "code",
   "execution_count": null,
   "metadata": {
    "jupyter": {}
   },
   "outputs": [],
   "source": [
    "# df_dist = df_dist.sort_values(\"dist_from_mean\", ascending=False)\n",
    "\n",
    "# df_dist"
   ]
  }
 ],
 "metadata": {
  "jupytext": {
   "formats": "ipynb,py"
  },
  "kernelspec": {
   "display_name": "Python [conda env:PROJ_irox_oer] *",
   "language": "python",
   "name": "conda-env-PROJ_irox_oer-py"
  },
  "language_info": {
   "codemirror_mode": {
    "name": "ipython",
    "version": 3
   },
   "file_extension": ".py",
   "mimetype": "text/x-python",
   "name": "python",
   "nbconvert_exporter": "python",
   "pygments_lexer": "ipython3",
   "version": "3.6.10"
  }
 },
 "nbformat": 4,
 "nbformat_minor": 4
}
