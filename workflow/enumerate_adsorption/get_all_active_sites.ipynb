{
 "cells": [
  {
   "cell_type": "markdown",
   "metadata": {},
   "source": [
    "# Get all active sites for slabs\n",
    "---\n",
    "\n",
    "Analyze slabs for active sites"
   ],
   "execution_count": null,
   "outputs": []
  },
  {
   "cell_type": "markdown",
   "metadata": {},
   "source": [
    "# Import Modules"
   ],
   "execution_count": null,
   "outputs": []
  },
  {
   "cell_type": "code",
   "execution_count": null,
   "metadata": {
    "jupyter": {}
   },
   "outputs": [],
   "source": [
    "import os\n",
    "print(os.getcwd())\n",
    "import sys\n",
    "\n",
    "import pickle\n",
    "\n",
    "\n",
    "import numpy as np\n",
    "import pandas as pd\n",
    "\n",
    "from ase import io\n",
    "\n",
    "# # from tqdm import tqdm\n",
    "from tqdm.notebook import tqdm\n",
    "\n",
    "# # #########################################################\n",
    "from proj_data import metal_atom_symbol\n",
    "\n",
    "# #########################################################\n",
    "from methods import (\n",
    "    get_df_slab,\n",
    "    get_structure_coord_df,\n",
    "    get_df_coord,\n",
    "    get_df_active_sites,\n",
    "    )\n",
    "\n",
    "# #########################################################\n",
    "from local_methods import (\n",
    "    mean_O_metal_coord,\n",
    "    get_all_active_sites,\n",
    "    get_unique_active_sites,\n",
    "    get_unique_active_sites_temp,\n",
    "    )"
   ]
  },
  {
   "cell_type": "markdown",
   "metadata": {},
   "source": [
    "# Read Data"
   ],
   "execution_count": null,
   "outputs": []
  },
  {
   "cell_type": "code",
   "execution_count": null,
   "metadata": {},
   "outputs": [],
   "source": [
    "# #########################################################\n",
    "df_slab = get_df_slab()\n",
    "df_slab = df_slab.set_index(\"slab_id\")\n",
    "\n",
    "# #########################################################\n",
    "df_active_sites_prev = get_df_active_sites()\n",
    "\n",
    "if df_active_sites_prev is None:\n",
    "    df_active_sites_prev = pd.DataFrame()"
   ]
  },
  {
   "cell_type": "markdown",
   "metadata": {},
   "source": [
    "# Create Directories"
   ],
   "execution_count": null,
   "outputs": []
  },
  {
   "cell_type": "code",
   "execution_count": null,
   "metadata": {},
   "outputs": [],
   "source": [
    "# directory = \"out_data\"\n",
    "directory = os.path.join(\n",
    "    os.environ[\"PROJ_irox_oer\"],\n",
    "    \"workflow/enumerate_adsorption\",\n",
    "    \"out_data\")\n",
    "# assert False, \"Fix os.makedirs\"\n",
    "if not os.path.exists(directory):\n",
    "    os.makedirs(directory)"
   ]
  },
  {
   "cell_type": "code",
   "execution_count": null,
   "metadata": {},
   "outputs": [],
   "source": [
    "# # df_active_sites_prev.loc[[\n",
    "# df_active_sites_prev = df_active_sites_prev.drop([\n",
    "#     \"pumusuma_66\",\n",
    "#     \"fufalego_15\",\n",
    "#     \"tefenipa_47\",\n",
    "#     \"silovabu_91\",\n",
    "#     \"naronusu_67\",\n",
    "#     \"nofabigo_84\",\n",
    "#     \"kodefivo_37\",\n",
    "#     ])"
   ]
  },
  {
   "cell_type": "code",
   "execution_count": null,
   "metadata": {},
   "outputs": [],
   "source": [
    "# # df_slab_i = \n",
    "# df_slab.loc[[\n",
    "#     \"pumusuma_66\",\n",
    "#     \"fufalego_15\",\n",
    "#     \"tefenipa_47\",\n",
    "#     \"silovabu_91\",\n",
    "#     \"naronusu_67\",\n",
    "#     \"nofabigo_84\",\n",
    "#     \"kodefivo_37\",\n",
    "#     ]]"
   ]
  },
  {
   "cell_type": "code",
   "execution_count": null,
   "metadata": {},
   "outputs": [],
   "source": [
    "slab_ids_to_proc = []\n",
    "for slab_id_i, row_i in df_slab.iterrows():\n",
    "    if slab_id_i not in df_active_sites_prev.index:\n",
    "        slab_ids_to_proc.append(slab_id_i)\n",
    "\n",
    "df_slab_i = df_slab.loc[\n",
    "    slab_ids_to_proc\n",
    "    ]\n",
    "\n",
    "df_slab_i = df_slab_i[df_slab_i.phase == 2]"
   ]
  },
  {
   "cell_type": "code",
   "execution_count": null,
   "metadata": {},
   "outputs": [],
   "source": [
    "df_slab_i"
   ]
  },
  {
   "cell_type": "code",
   "execution_count": null,
   "metadata": {},
   "outputs": [],
   "source": []
  },
  {
   "cell_type": "code",
   "execution_count": null,
   "metadata": {},
   "outputs": [],
   "source": [
    "# df_slab_i = df_slab_i.loc[[\"pemupehe_18\"]]\n",
    "\n",
    "# df_slab_i"
   ]
  },
  {
   "cell_type": "code",
   "execution_count": null,
   "metadata": {},
   "outputs": [],
   "source": [
    "# assert False"
   ]
  },
  {
   "cell_type": "code",
   "execution_count": null,
   "metadata": {},
   "outputs": [],
   "source": [
    "# #########################################################\n",
    "data_dict_list = []\n",
    "# #########################################################\n",
    "iterator = tqdm(df_slab_i.index, desc=\"1st loop\")\n",
    "for i_cnt, slab_id in enumerate(iterator):\n",
    "    print(i_cnt, slab_id)\n",
    "    # #####################################################\n",
    "    data_dict_i = dict()\n",
    "    # #####################################################\n",
    "    row_i = df_slab.loc[slab_id]\n",
    "    # #####################################################\n",
    "    slab = row_i.slab_final\n",
    "    slab_id = row_i.name\n",
    "    bulk_id = row_i.bulk_id\n",
    "    facet = row_i.facet\n",
    "    num_atoms = row_i.num_atoms\n",
    "    # #####################################################\n",
    "\n",
    "    # #################################################\n",
    "    df_coord_slab_i = get_df_coord(\n",
    "        slab_id=slab_id,\n",
    "        mode=\"slab\",\n",
    "        slab=slab,\n",
    "        )\n",
    "\n",
    "    # #################################################\n",
    "    active_sites = get_all_active_sites(\n",
    "        slab=slab,\n",
    "        slab_id=slab_id,\n",
    "        bulk_id=bulk_id,\n",
    "        df_coord_slab_i=df_coord_slab_i,\n",
    "        )\n",
    "\n",
    "    # #################################################\n",
    "    # active_sites_unique = get_unique_active_sites(\n",
    "    active_sites_unique = get_unique_active_sites_temp(\n",
    "        slab=slab,\n",
    "        active_sites=active_sites,\n",
    "        bulk_id=bulk_id,\n",
    "        slab_id=slab_id,\n",
    "        facet=facet,\n",
    "        metal_atom_symbol=metal_atom_symbol,\n",
    "        df_coord_slab_i=df_coord_slab_i,\n",
    "        create_heatmap_plot=True,\n",
    "        )\n",
    "\n",
    "\n",
    "    # #################################################\n",
    "    data_dict_i[\"active_sites\"] = active_sites\n",
    "    data_dict_i[\"num_active_sites\"] = len(active_sites)\n",
    "    data_dict_i[\"active_sites_unique\"] = active_sites_unique\n",
    "    data_dict_i[\"num_active_sites_unique\"] = len(active_sites_unique)\n",
    "    data_dict_i[\"slab_id\"] = slab_id\n",
    "    data_dict_i[\"bulk_id\"] = bulk_id\n",
    "    data_dict_i[\"facet\"] = facet\n",
    "    data_dict_i[\"num_atoms\"] = num_atoms\n",
    "    # #####################################################\n",
    "    data_dict_list.append(data_dict_i)\n",
    "\n",
    "\n",
    "# #########################################################\n",
    "df_active_sites = pd.DataFrame(data_dict_list)\n",
    "df_active_sites = df_active_sites.set_index(\"slab_id\", drop=False)\n",
    "\n",
    "df_active_sites = df_active_sites = pd.concat([\n",
    "    df_active_sites,\n",
    "    df_active_sites_prev,\n",
    "    ])"
   ]
  },
  {
   "cell_type": "code",
   "execution_count": null,
   "metadata": {},
   "outputs": [],
   "source": [
    "# from plotting.my_plotly import my_plotly_plot\n",
    "\n",
    "# my_plotly_plot?"
   ]
  },
  {
   "cell_type": "code",
   "execution_count": null,
   "metadata": {},
   "outputs": [],
   "source": [
    "# assert False"
   ]
  },
  {
   "cell_type": "markdown",
   "metadata": {},
   "source": [
    "# Post-process active site dataframe"
   ],
   "execution_count": null,
   "outputs": []
  },
  {
   "cell_type": "code",
   "execution_count": null,
   "metadata": {},
   "outputs": [],
   "source": [
    "from misc_modules.pandas_methods import reorder_df_columns\n",
    "\n",
    "columns_list = [\n",
    "    'bulk_id',\n",
    "    'slab_id',\n",
    "    'facet',\n",
    "    'num_atoms',\n",
    "    'num_active_sites',\n",
    "    'active_sites',\n",
    "    ]\n",
    "\n",
    "df_active_sites = reorder_df_columns(columns_list, df_active_sites)"
   ]
  },
  {
   "cell_type": "markdown",
   "metadata": {},
   "source": [
    "# Summary of data objects"
   ],
   "execution_count": null,
   "outputs": []
  },
  {
   "cell_type": "code",
   "execution_count": null,
   "metadata": {},
   "outputs": [],
   "source": [
    "print(\n",
    "    \"Number of active sites:\",\n",
    "    df_active_sites.num_active_sites.sum())\n",
    "print(\n",
    "    \"Number of unique active sites\",\n",
    "    df_active_sites.num_active_sites_unique.sum())"
   ]
  },
  {
   "cell_type": "code",
   "execution_count": null,
   "metadata": {},
   "outputs": [],
   "source": [
    "# Pickling data ###########################################\n",
    "directory = os.path.join(\n",
    "    os.environ[\"PROJ_irox_oer\"],\n",
    "    \"workflow/enumerate_adsorption\",\n",
    "    \"out_data\")\n",
    "if not os.path.exists(directory): os.makedirs(directory)\n",
    "with open(os.path.join(directory, \"df_active_sites.pickle\"), \"wb\") as fle:\n",
    "    pickle.dump(df_active_sites, fle)\n",
    "    # pickle.dump(df_active_sites_prev, fle)\n",
    "# #########################################################"
   ]
  },
  {
   "cell_type": "code",
   "execution_count": null,
   "metadata": {},
   "outputs": [],
   "source": [
    "print(df_active_sites.shape)"
   ]
  },
  {
   "cell_type": "code",
   "execution_count": null,
   "metadata": {},
   "outputs": [],
   "source": [
    "assert False"
   ]
  },
  {
   "cell_type": "raw",
   "metadata": {},
   "source": [
    "\n",
    "\n",
    "\n",
    "\n"
   ],
   "execution_count": null,
   "outputs": []
  },
  {
   "cell_type": "code",
   "execution_count": null,
   "metadata": {},
   "outputs": [],
   "source": [
    "df_rdf_ij_dict = dict()\n",
    "for i_cnt, row_i in df_active_sites.iterrows():\n",
    "    file_name_i = row_i.bulk_id + \"__\" + row_i.facet + \\\n",
    "        \"__\" + row_i.slab_id + \".pickle\"\n",
    "    path_i = os.path.join(\n",
    "        \"out_data/df_rdf_ij\", file_name_i)\n",
    "\n",
    "    # #########################################################\n",
    "    import pickle; import os\n",
    "    with open(path_i, \"rb\") as fle:\n",
    "        df_rdf_ij_i = pickle.load(fle)\n",
    "    # #########################################################\n",
    "\n",
    "    df_rdf_ij_dict[row_i.slab_id] = df_rdf_ij_i"
   ]
  },
  {
   "cell_type": "code",
   "execution_count": null,
   "metadata": {},
   "outputs": [],
   "source": [
    "rdf_ij_list = [i for i in df_rdf_ij_i.values.flatten() if i != 0.]"
   ]
  },
  {
   "cell_type": "raw",
   "metadata": {},
   "source": [
    "\n",
    "\n"
   ],
   "execution_count": null,
   "outputs": []
  },
  {
   "cell_type": "code",
   "execution_count": null,
   "metadata": {
    "jupyter": {}
   },
   "outputs": [],
   "source": [
    "# Combining previous `df_active_sites` and the rows processed during current run\n",
    "\n",
    "# df_active_sites = df_active_sites = pd.concat([\n",
    "#     df_active_sites,\n",
    "#     df_active_sites_prev,\n",
    "#     ])"
   ]
  }
 ],
 "metadata": {
  "jupytext": {
   "formats": "ipynb,py:light"
  },
  "kernelspec": {
   "display_name": "Python [conda env:PROJ_irox_oer] *",
   "language": "python",
   "name": "conda-env-PROJ_irox_oer-py"
  },
  "language_info": {
   "codemirror_mode": {
    "name": "ipython",
    "version": 3
   },
   "file_extension": ".py",
   "mimetype": "text/x-python",
   "name": "python",
   "nbconvert_exporter": "python",
   "pygments_lexer": "ipython3",
   "version": "3.6.10"
  }
 },
 "nbformat": 4,
 "nbformat_minor": 4
}
