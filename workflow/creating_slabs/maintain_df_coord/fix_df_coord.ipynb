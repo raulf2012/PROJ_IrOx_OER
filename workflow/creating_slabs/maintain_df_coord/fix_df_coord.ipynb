{
 "cells": [
  {
   "cell_type": "markdown",
   "metadata": {},
   "source": [
    "# Create `df_coord` for all atoms objects in `df_init_slabs`\n",
    "\n",
    "# Fix `df_coord` for systems in `df_slab`\n",
    "---"
   ]
  },
  {
   "cell_type": "markdown",
   "metadata": {},
   "source": [
    "### Import Modules"
   ]
  },
  {
   "cell_type": "code",
   "execution_count": 1,
   "metadata": {},
   "outputs": [
    {
     "name": "stdout",
     "output_type": "stream",
     "text": [
      "/home/raulf2012/Dropbox/01_norskov/00_git_repos/PROJ_IrOx_OER/workflow/creating_slabs/maintain_df_coord\n"
     ]
    }
   ],
   "source": [
    "import os\n",
    "print(os.getcwd())\n",
    "import sys\n",
    "import time; ti = time.time()\n",
    "\n",
    "import pickle\n",
    "from pathlib import Path\n",
    "\n",
    "import numpy as np\n",
    "\n",
    "# # #########################################################\n",
    "from methods import (\n",
    "    get_df_slab,\n",
    "    get_structure_coord_df,\n",
    "    get_df_init_slabs,\n",
    "    get_structure_coord_df,\n",
    "    )\n",
    "\n",
    "# # #########################################################\n",
    "from local_methods import process_sys, df_matches_slab"
   ]
  },
  {
   "cell_type": "code",
   "execution_count": 2,
   "metadata": {},
   "outputs": [],
   "source": [
    "from methods import isnotebook    \n",
    "isnotebook_i = isnotebook()\n",
    "if isnotebook_i:\n",
    "    from tqdm.notebook import tqdm\n",
    "    verbose = True\n",
    "else:\n",
    "    from tqdm import tqdm\n",
    "    verbose = False"
   ]
  },
  {
   "cell_type": "markdown",
   "metadata": {},
   "source": [
    "# Read Data"
   ]
  },
  {
   "cell_type": "code",
   "execution_count": 3,
   "metadata": {},
   "outputs": [],
   "source": [
    "# #########################################################\n",
    "df_slab = get_df_slab()\n",
    "df_slab = df_slab.set_index(\"slab_id\")\n",
    "df_slab_i = df_slab\n",
    "\n",
    "# #########################################################\n",
    "df_init_slabs = get_df_init_slabs()"
   ]
  },
  {
   "cell_type": "markdown",
   "metadata": {},
   "source": [
    "### Creating `df_coord` for all init slabs"
   ]
  },
  {
   "cell_type": "code",
   "execution_count": 7,
   "metadata": {},
   "outputs": [
    {
     "data": {
      "application/vnd.jupyter.widget-view+json": {
       "model_id": "f515d9a248fe4fceb40c4792c16a932a",
       "version_major": 2,
       "version_minor": 0
      },
      "text/plain": [
       "HBox(children=(FloatProgress(value=0.0, description='Loop:', max=2953.0, style=ProgressStyle(description_width…"
      ]
     },
     "metadata": {},
     "output_type": "display_data"
    },
    {
     "name": "stdout",
     "output_type": "stream",
     "text": [
      "\n"
     ]
    }
   ],
   "source": [
    "# for name_i, row_i in df_init_slabs.iterrows():\n",
    "\n",
    "iterator = tqdm(df_init_slabs.index, desc=\"Loop:\")\n",
    "for i_cnt, index_i in enumerate(iterator):\n",
    "    # #####################################################\n",
    "    row_i = df_init_slabs.loc[index_i]\n",
    "    # #####################################################\n",
    "    compenv_i, slab_id_i, ads_i, active_site_i, att_num_i = index_i\n",
    "    # #####################################################\n",
    "    init_atoms_i = row_i.init_atoms\n",
    "    # #####################################################\n",
    "\n",
    "    if active_site_i == \"NaN\":\n",
    "        active_site_str_i = active_site_i\n",
    "    else:\n",
    "        active_site_str_i = str(int(active_site_i))\n",
    "\n",
    "    # #####################################################\n",
    "    file_name_i = \"\" + \\\n",
    "        compenv_i + \"__\" + \\\n",
    "        slab_id_i + \"__\" + \\\n",
    "        ads_i + \"__\" +  \\\n",
    "        active_site_str_i + \"__\" +  \\\n",
    "        str(att_num_i) + \\\n",
    "        \"\"\n",
    "        # str(int(active_site_i)) + \"__\" +  \\\n",
    "    file_name_i += \".pickle\"\n",
    "\n",
    "    directory = os.path.join(\n",
    "        os.environ[\"PROJ_irox_oer\"],\n",
    "        \"workflow/creating_slabs/maintain_df_coord\",\n",
    "        \"out_data/df_coord__init_slabs\")\n",
    "\n",
    "    path_i = os.path.join(directory, file_name_i)\n",
    "\n",
    "\n",
    "    # #####################################################\n",
    "    my_file = Path(path_i)\n",
    "    if not my_file.is_file():\n",
    "        df_coord_i = get_structure_coord_df(\n",
    "            init_atoms_i,\n",
    "            porous_adjustment=True,\n",
    "            )\n",
    "\n",
    "        if not os.path.exists(directory):\n",
    "            os.makedirs(directory)\n",
    "        with open(path_i, \"wb\") as fle:\n",
    "            pickle.dump(df_coord_i, fle)"
   ]
  },
  {
   "cell_type": "markdown",
   "metadata": {},
   "source": [
    "### Main Loop"
   ]
  },
  {
   "cell_type": "code",
   "execution_count": 8,
   "metadata": {},
   "outputs": [],
   "source": [
    "df_slab_i = df_slab_i[df_slab_i.phase > 1]"
   ]
  },
  {
   "cell_type": "code",
   "execution_count": 9,
   "metadata": {},
   "outputs": [],
   "source": [
    "if False:\n",
    "    iterator = tqdm(df_slab_i.index, desc=\"1st loop\")\n",
    "    for i_cnt, slab_id_i in enumerate(iterator):\n",
    "        print(\n",
    "            40 * \"*\",\n",
    "            \"\\n\",\n",
    "            \"slab_id: \", slab_id_i,\n",
    "            sep=\"\")\n",
    "\n",
    "        # #####################################################\n",
    "        row_i = df_slab.loc[slab_id_i]\n",
    "        # #####################################################\n",
    "        slab_new = row_i.slab_final\n",
    "        slab_old = row_i.slab_final_old\n",
    "        # #####################################################\n",
    "\n",
    "\n",
    "        # #####################################################\n",
    "        path_pre = os.path.join(\n",
    "            os.environ[\"PROJ_irox_oer\"],\n",
    "            \"workflow/creating_slabs/out_data/df_coord_files\")\n",
    "\n",
    "        # #####################################################\n",
    "        out_dict = process_sys(\n",
    "            slab_id=slab_id_i,\n",
    "            slab=slab_new,\n",
    "            path_pre=path_pre,\n",
    "            mode=\"new\",  # 'new' or 'old'\n",
    "            )\n",
    "        df_matches_slab = out_dict[\"df_matches_slab\"]\n",
    "        df_coord_redone = out_dict[\"df_coord_redone\"]\n",
    "\n",
    "        # #####################################################\n",
    "        out_dict = process_sys(\n",
    "            slab_id=slab_id_i,\n",
    "            slab=slab_old,\n",
    "            path_pre=path_pre,\n",
    "            mode=\"old\",  # 'new' or 'old'\n",
    "            )\n",
    "        df_matches_slab = out_dict[\"df_matches_slab\"]\n",
    "        df_coord_redone = out_dict[\"df_coord_redone\"]\n",
    "\n",
    "        print(\"\")"
   ]
  },
  {
   "cell_type": "code",
   "execution_count": 10,
   "metadata": {},
   "outputs": [
    {
     "name": "stdout",
     "output_type": "stream",
     "text": [
      "# # # # # # # # # # # # # # # # # # # # # # # # # # # # # # # # # # # # # # # # \n",
      "All done!\n",
      "Run time: 0.536 min\n",
      "fix_df_coord.ipynb\n",
      "# # # # # # # # # # # # # # # # # # # # # # # # # # # # # # # # # # # # # # # # \n"
     ]
    }
   ],
   "source": [
    "# #########################################################\n",
    "print(20 * \"# # \")\n",
    "print(\"All done!\")\n",
    "print(\"Run time:\", np.round((time.time() - ti) / 60, 3), \"min\")\n",
    "print(\"fix_df_coord.ipynb\")\n",
    "print(20 * \"# # \")\n",
    "# #########################################################"
   ]
  },
  {
   "cell_type": "raw",
   "metadata": {},
   "source": [
    "\n",
    "\n"
   ]
  }
 ],
 "metadata": {
  "jupytext": {
   "formats": "ipynb,py:light"
  },
  "kernelspec": {
   "display_name": "Python [conda env:PROJ_irox_oer] *",
   "language": "python",
   "name": "conda-env-PROJ_irox_oer-py"
  },
  "language_info": {
   "codemirror_mode": {
    "name": "ipython",
    "version": 3
   },
   "file_extension": ".py",
   "mimetype": "text/x-python",
   "name": "python",
   "nbconvert_exporter": "python",
   "pygments_lexer": "ipython3",
   "version": "3.6.10"
  }
 },
 "nbformat": 4,
 "nbformat_minor": 4
}
