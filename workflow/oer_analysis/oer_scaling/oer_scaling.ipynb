{
 "cells": [
  {
   "cell_type": "markdown",
   "metadata": {},
   "source": [
    "# Creating OER scaling plot from raw data, not my modules\n",
    "---"
   ],
   "execution_count": null,
   "outputs": []
  },
  {
   "cell_type": "markdown",
   "metadata": {},
   "source": [
    "### Import Modules"
   ],
   "execution_count": null,
   "outputs": []
  },
  {
   "cell_type": "code",
   "execution_count": null,
   "metadata": {},
   "outputs": [],
   "source": [
    "# ALL MODULES NEEDED\n",
    "\n",
    "import os\n",
    "print(os.getcwd())\n",
    "import sys\n",
    "import time; ti = time.time()\n",
    "\n",
    "import copy\n",
    "import pickle\n",
    "\n",
    "import numpy as np\n",
    "import pandas as pd\n",
    "\n",
    "from sklearn.metrics import mean_squared_error, r2_score\n",
    "import plotly.graph_objs as go\n",
    "import plotly.express as px\n",
    "from plotly.subplots import make_subplots\n",
    "\n",
    "\n",
    "# #########################################################\n",
    "from plotting.my_plotly import my_plotly_plot\n",
    "\n",
    "# #########################################################\n",
    "from proj_data import layout_shared as layout_shared_main\n",
    "from proj_data import scatter_shared_props as scatter_shared_props_main\n",
    "from proj_data import (\n",
    "    stoich_color_dict,\n",
    "    shared_axis_dict,\n",
    "    font_tick_labels_size,\n",
    "    )\n",
    "\n",
    "# #########################################################\n",
    "from methods import get_df_features_targets\n",
    "\n",
    "# #########################################################\n",
    "from layout import layout"
   ]
  },
  {
   "cell_type": "code",
   "execution_count": null,
   "metadata": {},
   "outputs": [],
   "source": [
    "root_dir = os.path.join(\n",
    "    os.environ[\"PROJ_irox_oer\"],\n",
    "    \"workflow/oer_analysis/oer_scaling\",\n",
    "    )"
   ]
  },
  {
   "cell_type": "code",
   "execution_count": null,
   "metadata": {},
   "outputs": [],
   "source": [
    "from methods import isnotebook    \n",
    "isnotebook_i = isnotebook()\n",
    "if isnotebook_i:\n",
    "    from tqdm.notebook import tqdm\n",
    "    verbose = True\n",
    "    show_plot = True\n",
    "else:\n",
    "    from tqdm import tqdm\n",
    "    verbose = False\n",
    "    show_plot = False"
   ]
  },
  {
   "cell_type": "markdown",
   "metadata": {},
   "source": [
    "### Read Data"
   ],
   "execution_count": null,
   "outputs": []
  },
  {
   "cell_type": "code",
   "execution_count": null,
   "metadata": {},
   "outputs": [],
   "source": [
    "df_features_targets = get_df_features_targets()"
   ]
  },
  {
   "cell_type": "raw",
   "metadata": {},
   "source": [
    "\n"
   ],
   "execution_count": null,
   "outputs": []
  },
  {
   "cell_type": "code",
   "execution_count": null,
   "metadata": {},
   "outputs": [],
   "source": [
    "df_features_targets = df_features_targets.dropna(subset=[\n",
    "    (\"targets\", \"g_o\", \"\"),\n",
    "    (\"targets\", \"g_oh\", \"\"),\n",
    "    ])\n",
    "\n",
    "if (\"data\", \"found_active_Ir__oh\", \"\", ) in df_features_targets.columns:\n",
    "    # Drop systems were the coordination analysis couldn't find the active Ir\n",
    "    df = df_features_targets\n",
    "    df = df[\n",
    "        (df[(\"data\", \"found_active_Ir__oh\", \"\", )] == True) &\n",
    "        (df[(\"data\", \"found_active_Ir__o\", \"\", )] == True) &\n",
    "        [True for i in range(len(df))]\n",
    "        ]\n",
    "    df_features_targets = df\n",
    "\n",
    "# df_targets = df_features_targets[\"targets\"].dropna()\n",
    "df_targets = df_features_targets[\"targets\"]\n",
    "\n",
    "x_array = df_targets[\"g_oh\"]\n",
    "y_array = df_targets[\"g_o\"]\n",
    "\n",
    "color_array = df_features_targets[\"format\"][\"color\"][\"stoich\"]"
   ]
  },
  {
   "cell_type": "markdown",
   "metadata": {},
   "source": [
    "### Building color scale from numeric magmom data"
   ],
   "execution_count": null,
   "outputs": []
  },
  {
   "cell_type": "code",
   "execution_count": null,
   "metadata": {},
   "outputs": [],
   "source": [
    "import matplotlib\n",
    "import matplotlib.pyplot as plt\n",
    "import matplotlib.colors as mcolors\n",
    "import matplotlib.cm as cm\n",
    "\n",
    "\n",
    "# float_color_list = df_features_targets[\"data\"][\"norm_sum_norm_abs_magmom_diff\"]\n",
    "float_color_list = df_features_targets[(\"data\", \"SE__area_J_m2\", \"\")]\n",
    "\n",
    "floats = [4.5,5.5]\n",
    "df = pd.DataFrame({\n",
    "    'arrays':[(1.2, 3.4, 5.6),(1.7, 4.4, 8.1)],\n",
    "    'floats': floats,\n",
    "    })\n",
    "\n",
    "# colormap = cm.jet\n",
    "colormap = cm.copper\n",
    "normalize = mcolors.Normalize(\n",
    "    vmin=float_color_list.min(),\n",
    "    vmax=float_color_list.max(),\n",
    "    )\n",
    "\n",
    "s_map = cm.ScalarMappable(norm=normalize, cmap=colormap)\n",
    "\n",
    "# s_map.to_rgba(0.1)\n",
    "# matplotlib.colors.to_hex([ 0.47, 0.0, 1.0, 0.5 ], keep_alpha=False)\n",
    "\n",
    "color_list = []\n",
    "for float_i in float_color_list:\n",
    "    color_rgba_i = s_map.to_rgba(float_i)\n",
    "    color_hex_i = matplotlib.colors.to_hex(\n",
    "        color_rgba_i,\n",
    "        keep_alpha=False,\n",
    "        )\n",
    "    color_list.append(color_hex_i)"
   ]
  },
  {
   "cell_type": "code",
   "execution_count": null,
   "metadata": {},
   "outputs": [],
   "source": [
    "float_color_list.min()\n",
    "float_color_list.max()"
   ]
  },
  {
   "cell_type": "markdown",
   "metadata": {},
   "source": [
    "### Fitting data"
   ],
   "execution_count": null,
   "outputs": []
  },
  {
   "cell_type": "code",
   "execution_count": null,
   "metadata": {},
   "outputs": [],
   "source": [
    "x_poly = np.linspace(x_array.min() - 0.2, x_array.max() + 0.2, num=50)"
   ]
  },
  {
   "cell_type": "code",
   "execution_count": null,
   "metadata": {},
   "outputs": [],
   "source": [
    "z_1 = np.polyfit(\n",
    "    x_array, y_array,\n",
    "    1,\n",
    "    )\n",
    "\n",
    "p_1 = np.poly1d(z_1)\n",
    "\n",
    "if verbose:\n",
    "    print(\n",
    "        \"Polynomial Fit (1st order): \",\n",
    "        \"\\n\",\n",
    "        [np.round(i, 3) for i in list(z_1)],\n",
    "        sep=\"\")\n",
    "\n",
    "rmse_i = mean_squared_error(\n",
    "    y_array,\n",
    "    [p_1(i) for i in x_array],\n",
    "    squared=False)\n",
    "\n",
    "if verbose:\n",
    "    print(\n",
    "        \"RMSE (1st order): \",\n",
    "        rmse_i,\n",
    "        sep=\"\")\n",
    "\n",
    "y_poly_1 = [p_1(i) for i in x_poly]"
   ]
  },
  {
   "cell_type": "code",
   "execution_count": null,
   "metadata": {},
   "outputs": [],
   "source": [
    "# #########################################################\n",
    "df_m = pd.DataFrame()\n",
    "# #########################################################\n",
    "df_m[\"y\"] = y_array\n",
    "df_m[\"y_pred\"] = [p_1(i) for i in x_array]\n",
    "df_m[\"diff\"] = df_m[\"y\"] - df_m[\"y_pred\"]\n",
    "df_m[\"diff_abs\"] = np.abs(df_m[\"diff\"])\n",
    "# #########################################################\n",
    "\n",
    "MAE_1 = df_m[\"diff_abs\"].sum() / df_m.shape[0]\n",
    "R2_1 = r2_score(df_m[\"y\"], df_m[\"y_pred\"])"
   ]
  },
  {
   "cell_type": "code",
   "execution_count": null,
   "metadata": {},
   "outputs": [],
   "source": [
    "z_2 = np.polyfit(\n",
    "    x_array, y_array,\n",
    "    2,\n",
    "    )\n",
    "\n",
    "p_2 = np.poly1d(z_2)\n",
    "\n",
    "if verbose:\n",
    "    print(\n",
    "        \"Polynomial Fit (2nd order): \",\n",
    "        \"\\n\",\n",
    "        [np.round(i, 3) for i in list(z_2)],\n",
    "        sep=\"\")\n",
    "\n",
    "rmse_i = mean_squared_error(\n",
    "    y_array,\n",
    "    [p_2(i) for i in x_array],\n",
    "    squared=False)\n",
    "\n",
    "if verbose:\n",
    "    print(\n",
    "        \"RMSE (2nd order): \",\n",
    "        rmse_i,\n",
    "        sep=\"\")\n",
    "\n",
    "y_poly_2 = [p_2(i) for i in x_poly]"
   ]
  },
  {
   "cell_type": "markdown",
   "metadata": {},
   "source": [
    "### Figuring out which systems deviate from scaling the most"
   ],
   "execution_count": null,
   "outputs": []
  },
  {
   "cell_type": "code",
   "execution_count": null,
   "metadata": {},
   "outputs": [],
   "source": [
    "data_dict_list = []\n",
    "for name_i, row_i in df_targets.iterrows():\n",
    "    name_dict_i = dict(zip(\n",
    "        list(df_targets.index.names),\n",
    "        name_i))\n",
    "\n",
    "\n",
    "    g_o_i = row_i[(\"g_o\", \"\", )]\n",
    "    g_oh_i = row_i[(\"g_oh\", \"\", )]\n",
    "\n",
    "    g_o_scaling_i = p_1(g_oh_i)\n",
    "\n",
    "    deviation = g_o_scaling_i - g_o_i\n",
    "\n",
    "    # #####################################################\n",
    "    data_dict_i = dict()\n",
    "    # #####################################################\n",
    "    data_dict_i.update(name_dict_i)\n",
    "    # #####################################################\n",
    "    data_dict_i[\"deviation\"] = deviation\n",
    "    data_dict_i[\"deviation_abs\"] = np.abs(deviation)\n",
    "    # #####################################################\n",
    "    data_dict_list.append(data_dict_i)\n",
    "    # #####################################################\n",
    "\n",
    "# #########################################################\n",
    "df_scal_dev = pd.DataFrame(data_dict_list)\n",
    "# #########################################################"
   ]
  },
  {
   "cell_type": "code",
   "execution_count": null,
   "metadata": {},
   "outputs": [],
   "source": [
    "df_scal_dev = df_scal_dev.set_index(\n",
    "    [\"compenv\", \"slab_id\", \"active_site\", ],\n",
    "    drop=False,\n",
    "    )\n",
    "\n",
    "df_scal_dev"
   ]
  },
  {
   "cell_type": "code",
   "execution_count": null,
   "metadata": {},
   "outputs": [],
   "source": [
    "df_scal_dev.sort_values(\"deviation_abs\", ascending=False).iloc[0:40]\n",
    "\n",
    "# df_scal_dev.sort_values(\"deviation_abs\", ascending=False).iloc[0:80].index.tolist()"
   ]
  },
  {
   "cell_type": "code",
   "execution_count": null,
   "metadata": {},
   "outputs": [],
   "source": [
    "# #########################################################\n",
    "df_m = pd.DataFrame()\n",
    "# #########################################################\n",
    "df_m[\"y\"] = y_array\n",
    "df_m[\"y_pred\"] = [p_2(i) for i in x_array]\n",
    "df_m[\"diff\"] = df_m[\"y\"] - df_m[\"y_pred\"]\n",
    "df_m[\"diff_abs\"] = np.abs(df_m[\"diff\"])\n",
    "# #########################################################\n",
    "\n",
    "MAE_2 = df_m[\"diff_abs\"].sum() / df_m.shape[0]\n",
    "R2_2 = r2_score(df_m[\"y\"], df_m[\"y_pred\"])"
   ]
  },
  {
   "cell_type": "markdown",
   "metadata": {},
   "source": [
    "### Layout"
   ],
   "execution_count": null,
   "outputs": []
  },
  {
   "cell_type": "code",
   "execution_count": null,
   "metadata": {},
   "outputs": [],
   "source": [
    "layout_shared = copy.deepcopy(layout_shared_main)\n",
    "\n",
    "layout_master = layout_shared.update(\n",
    "    layout\n",
    "    )\n",
    "\n",
    "layout_master[\"xaxis\"][\"range\"] = [x_array.min() - 0.2, x_array.max() + 0.2]\n",
    "\n",
    "layout_master[\"title\"] = \"*O vs *OH Scaling Plot (1st and 2nd order fits)\""
   ]
  },
  {
   "cell_type": "markdown",
   "metadata": {},
   "source": [
    "### Annotations"
   ],
   "execution_count": null,
   "outputs": []
  },
  {
   "cell_type": "code",
   "execution_count": null,
   "metadata": {},
   "outputs": [],
   "source": [
    "coeff = [np.round(i, 3) for i in list(z_1)]\n",
    "\n",
    "linear_fit_eqn_str = \"\u0394G<sub>O</sub> = {}\u22c5\u0394G<sub>OH</sub> + {}\".format(*coeff)\n",
    "MAE_str = \"MAE: {}\".format(np.round(MAE_1, 3))\n",
    "R2_str = \"R<sup>2</sup>: {} eV\".format(np.round(R2_1, 3))"
   ]
  },
  {
   "cell_type": "code",
   "execution_count": null,
   "metadata": {},
   "outputs": [],
   "source": [
    "annotations = [\n",
    "\n",
    "    {\n",
    "        \"font\": {\"size\": font_tick_labels_size},\n",
    "        \"showarrow\": False,\n",
    "        \"text\": linear_fit_eqn_str,\n",
    "        \"x\": 0.01,\n",
    "        \"xanchor\": \"left\",\n",
    "        \"xref\": \"paper\",\n",
    "        \"y\": 0.99,\n",
    "        \"yanchor\": \"top\",\n",
    "        \"yref\": \"paper\",\n",
    "        \"yshift\": 0.,\n",
    "        \"bgcolor\": \"white\",\n",
    "        },\n",
    "\n",
    "    {\n",
    "        \"font\": {\"size\": font_tick_labels_size},\n",
    "        \"showarrow\": False,\n",
    "        \"text\": R2_str,\n",
    "        \"x\": 0.01,\n",
    "        \"xanchor\": \"left\",\n",
    "        \"xref\": \"paper\",\n",
    "        \"y\": 0.89,\n",
    "        \"yanchor\": \"top\",\n",
    "        \"yref\": \"paper\",\n",
    "        \"yshift\": 0.,\n",
    "        \"bgcolor\": \"white\",\n",
    "        },\n",
    "\n",
    "    {\n",
    "        \"font\": {\"size\": font_tick_labels_size},\n",
    "        \"showarrow\": False,\n",
    "        \"text\": MAE_str,\n",
    "        \"x\": 0.01,\n",
    "        \"xanchor\": \"left\",\n",
    "        \"xref\": \"paper\",\n",
    "        \"y\": 0.79,\n",
    "        \"yanchor\": \"top\",\n",
    "        \"yref\": \"paper\",\n",
    "        \"yshift\": 0.,\n",
    "        \"bgcolor\": \"white\",\n",
    "        },\n",
    "\n",
    "    ]\n",
    "\n",
    "layout_master.annotations = annotations"
   ]
  },
  {
   "cell_type": "markdown",
   "metadata": {},
   "source": [
    "### Instantiate scatter plots"
   ],
   "execution_count": null,
   "outputs": []
  },
  {
   "cell_type": "code",
   "execution_count": null,
   "metadata": {},
   "outputs": [],
   "source": [
    "trace_poly_1 = go.Scatter(\n",
    "    x=x_poly, y=y_poly_1,\n",
    "    mode=\"lines\",\n",
    "    line_color=\"grey\",\n",
    "    name=\"poly_fit (1st order)\",\n",
    "    )\n",
    "\n",
    "trace_poly_2 = go.Scatter(\n",
    "    x=x_poly, y=y_poly_2,\n",
    "    mode=\"lines\",\n",
    "    line_color=\"black\",\n",
    "    name=\"poly_fit (2nd order)\",\n",
    "    )"
   ]
  },
  {
   "cell_type": "code",
   "execution_count": null,
   "metadata": {},
   "outputs": [],
   "source": [
    "trace = go.Scatter(\n",
    "    x=x_array, y=y_array,\n",
    "    mode=\"markers\",\n",
    "    # marker_color=color_array,\n",
    "    # marker_color=color_list,\n",
    "    marker=go.scatter.Marker(\n",
    "        # color=color_list,\n",
    "        # color=color_array,\n",
    "        color=float_color_list,\n",
    "        colorscale='Viridis',\n",
    "        size=14,\n",
    "        colorbar=dict(\n",
    "            thickness=20,\n",
    "            len=0.8,\n",
    "            y=0.36,\n",
    "            ),\n",
    "        ),\n",
    "\n",
    "    name=\"main\",\n",
    "    )\n",
    "\n",
    "scatter_shared_props = copy.deepcopy(scatter_shared_props_main)\n",
    "\n",
    "trace = trace.update(\n",
    "    scatter_shared_props,\n",
    "    overwrite=False,\n",
    "    )"
   ]
  },
  {
   "cell_type": "code",
   "execution_count": null,
   "metadata": {},
   "outputs": [],
   "source": [
    "# Pickling data ###########################################\n",
    "path_i = os.path.join(\n",
    "    os.environ[\"PROJ_irox_oer\"],\n",
    "    \"workflow/oer_analysis/oer_scaling\", \n",
    "    \"out_data/trace_poly_1.pickle\")\n",
    "with open(path_i, \"wb\") as fle:\n",
    "    pickle.dump(trace_poly_1, fle)\n",
    "# #########################################################"
   ]
  },
  {
   "cell_type": "markdown",
   "metadata": {},
   "source": [
    "### Instantiate figure"
   ],
   "execution_count": null,
   "outputs": []
  },
  {
   "cell_type": "code",
   "execution_count": null,
   "metadata": {},
   "outputs": [],
   "source": [
    "fig = go.Figure(\n",
    "    data=[\n",
    "        trace_poly_1,\n",
    "        trace_poly_2,\n",
    "        trace,\n",
    "        ],\n",
    "    layout=layout_master,\n",
    "    )\n",
    "\n",
    "fig.write_json(\n",
    "    os.path.join(\n",
    "        os.environ[\"PROJ_irox_oer\"],\n",
    "        \"workflow/oer_analysis/oer_scaling\", \n",
    "        \"out_plot/oer_scaling__O_vs_OH_plot.json\"))"
   ]
  },
  {
   "cell_type": "code",
   "execution_count": null,
   "metadata": {},
   "outputs": [],
   "source": [
    "if show_plot:\n",
    "    fig.show()"
   ]
  },
  {
   "cell_type": "code",
   "execution_count": null,
   "metadata": {},
   "outputs": [],
   "source": [
    "# 2.220651\t0.754728\t"
   ]
  },
  {
   "cell_type": "raw",
   "metadata": {},
   "source": [
    "There seems to be some nonlinearities at weak bonding energies"
   ],
   "execution_count": null,
   "outputs": []
  },
  {
   "cell_type": "raw",
   "metadata": {},
   "source": [
    "\n",
    "\n",
    "\n",
    "\n",
    "\n",
    "\n",
    "\n",
    "\n",
    "\n",
    "\n"
   ],
   "execution_count": null,
   "outputs": []
  },
  {
   "cell_type": "markdown",
   "metadata": {},
   "source": [
    "## Plotting Histogram"
   ],
   "execution_count": null,
   "outputs": []
  },
  {
   "cell_type": "code",
   "execution_count": null,
   "metadata": {},
   "outputs": [],
   "source": [
    "df_ab2 = df_features_targets[df_features_targets[\"data\"][\"stoich\"] == \"AB2\"]\n",
    "df_ab3 = df_features_targets[df_features_targets[\"data\"][\"stoich\"] == \"AB3\"]"
   ]
  },
  {
   "cell_type": "code",
   "execution_count": null,
   "metadata": {},
   "outputs": [],
   "source": [
    "if verbose:\n",
    "    print(\n",
    "\n",
    "        # \"\\n\",\n",
    "        \"AB2 \u0394G_O Mean: \",\n",
    "        df_ab2[\"targets\"][\"g_o\"].mean(),\n",
    "\n",
    "        \"\\n\",\n",
    "        \"AB3 \u0394G_O Mean: \",\n",
    "        df_ab3[\"targets\"][\"g_o\"].mean(),\n",
    "\n",
    "\n",
    "        \"\\n\",\n",
    "        \"diff: \",\n",
    "        df_ab3[\"targets\"][\"g_o\"].mean() - df_ab2[\"targets\"][\"g_o\"].mean(),\n",
    "\n",
    "        \"\\n\",\n",
    "        40 * \"-\",\n",
    "\n",
    "        \"\\n\",\n",
    "        \"AB2 \u0394G_OH Mean: \",\n",
    "        df_ab2[\"targets\"][\"g_oh\"].mean(),\n",
    "\n",
    "        \"\\n\",\n",
    "        \"AB3 \u0394G_OH Mean: \",\n",
    "        df_ab3[\"targets\"][\"g_oh\"].mean(),\n",
    "\n",
    "        \"\\n\",\n",
    "        \"diff: \",\n",
    "        df_ab3[\"targets\"][\"g_oh\"].mean() - df_ab2[\"targets\"][\"g_oh\"].mean(),\n",
    "\n",
    "        sep=\"\")"
   ]
  },
  {
   "cell_type": "code",
   "execution_count": null,
   "metadata": {},
   "outputs": [],
   "source": [
    "shared_layout_hist = go.Layout(\n",
    "    yaxis_title=\"N\",\n",
    "    barmode=\"overlay\",\n",
    "    )\n",
    "\n",
    "shared_trace_hist = dict(\n",
    "    opacity=0.55,\n",
    "    nbinsx=15,\n",
    "    )"
   ]
  },
  {
   "cell_type": "markdown",
   "metadata": {},
   "source": [
    "### Instantiate *OH plots"
   ],
   "execution_count": null,
   "outputs": []
  },
  {
   "cell_type": "code",
   "execution_count": null,
   "metadata": {},
   "outputs": [],
   "source": [
    "%%capture\n",
    "\n",
    "fig_oh = go.Figure()\n",
    "\n",
    "fig_oh.add_trace(\n",
    "    go.Histogram(\n",
    "        x=df_ab2.targets.g_oh,\n",
    "        marker_color=stoich_color_dict[\"AB2\"],\n",
    "        name=\"AB2\",\n",
    "        ).update(dict1=shared_trace_hist)\n",
    "    )\n",
    "\n",
    "fig_oh.add_trace(\n",
    "    go.Histogram(\n",
    "        x=df_ab3.targets.g_oh,\n",
    "        marker_color=stoich_color_dict[\"AB3\"],\n",
    "        name=\"AB3\",\n",
    "        ).update(dict1=shared_trace_hist)\n",
    "    )\n",
    "\n",
    "# #########################################################\n",
    "# Layout manipulation\n",
    "layout_shared = copy.deepcopy(layout_shared_main)\n",
    "\n",
    "layout_shared.update(\n",
    "    go.Layout(\n",
    "        # title=\"TEMP01\",\n",
    "        xaxis=go.layout.XAxis(\n",
    "            title=\"\u0394G<sub>*OH</sub>\",\n",
    "            ),\n",
    "        ),\n",
    "    overwrite=False,\n",
    "    )\n",
    "\n",
    "shared_layout_hist_cpy = copy.deepcopy(shared_layout_hist)\n",
    "shared_layout_hist_cpy.update(dict(yaxis=dict(title=dict(text=\"\"))))\n",
    "\n",
    "# layout_shared.update(shared_layout_hist)\n",
    "layout_shared.update(shared_layout_hist_cpy)\n",
    "fig_oh.update_layout(dict1=layout_shared)"
   ]
  },
  {
   "cell_type": "markdown",
   "metadata": {},
   "source": [
    "### Instantiate *O plots"
   ],
   "execution_count": null,
   "outputs": []
  },
  {
   "cell_type": "code",
   "execution_count": null,
   "metadata": {},
   "outputs": [],
   "source": [
    "%%capture\n",
    "\n",
    "fig_o = go.Figure()\n",
    "\n",
    "fig_o.add_trace(\n",
    "    go.Histogram(\n",
    "        x=df_ab2.targets.g_o,\n",
    "        marker_color=stoich_color_dict[\"AB2\"],\n",
    "        name=\"AB2\",\n",
    "        ).update(dict1=shared_trace_hist)\n",
    "    )\n",
    "\n",
    "fig_o.add_trace(\n",
    "    go.Histogram(\n",
    "        x=df_ab3.targets.g_o,\n",
    "        marker_color=stoich_color_dict[\"AB3\"],\n",
    "        name=\"AB3\",\n",
    "        ).update(dict1=shared_trace_hist)\n",
    "    )\n",
    "\n",
    "# #########################################################\n",
    "# Layout manipulation\n",
    "layout_shared = copy.deepcopy(layout_shared_main)\n",
    "\n",
    "layout_shared.update(\n",
    "    go.Layout(\n",
    "        # title=\"\",\n",
    "        xaxis=go.layout.XAxis(\n",
    "            title=\"\u0394G<sub>*O</sub>\",\n",
    "            ),\n",
    "        ),\n",
    "    overwrite=False,\n",
    "    )\n",
    "\n",
    "layout_shared.update(shared_layout_hist)\n",
    "fig_o.update_layout(dict1=layout_shared)"
   ]
  },
  {
   "cell_type": "markdown",
   "metadata": {},
   "source": [
    "### Instantiate subplot"
   ],
   "execution_count": null,
   "outputs": []
  },
  {
   "cell_type": "code",
   "execution_count": null,
   "metadata": {},
   "outputs": [],
   "source": [
    "%%capture\n",
    "\n",
    "fig = make_subplots(rows=1, cols=2)\n",
    "\n",
    "for trace_i in fig_o.data:\n",
    "    fig.add_trace(\n",
    "        trace_i,\n",
    "        row=1, col=1,\n",
    "        )\n",
    "for trace_i in fig_oh.data:\n",
    "    fig.add_trace(\n",
    "        trace_i,\n",
    "        row=1, col=2,\n",
    "        )\n",
    "\n",
    "fig.update_layout(\n",
    "    height=600,\n",
    "    width=1000,\n",
    "    title_text=\"\u0394G<sub>*O</sub> and \u0394G<sub>*OH</sub> Histograms (eV)\",\n",
    "    )\n",
    "\n",
    "fig.update_layout(layout_shared_main)\n",
    "fig.update_layout(shared_layout_hist)\n",
    "\n",
    "fig.update_xaxes(\n",
    "    fig_o.layout[\"xaxis\"],\n",
    "    row=1, col=1,\n",
    "    overwrite=False,\n",
    "    )\n",
    "fig.update_xaxes(\n",
    "    fig_oh.layout[\"xaxis\"],\n",
    "    row=1, col=2,\n",
    "    overwrite=False,\n",
    "    )\n",
    "\n",
    "\n",
    "y_range_ub = 60\n",
    "\n",
    "fig.update_yaxes(\n",
    "    fig_o.layout[\"yaxis\"].update(\n",
    "        range=[0, y_range_ub],\n",
    "        ),\n",
    "    row=1, col=1,\n",
    "    overwrite=False,\n",
    "    )\n",
    "fig.update_yaxes(\n",
    "    fig_oh.layout[\"yaxis\"].update(\n",
    "        range=[0, y_range_ub],\n",
    "        ),\n",
    "\n",
    "    row=1, col=2,\n",
    "    overwrite=False,\n",
    "    )"
   ]
  },
  {
   "cell_type": "markdown",
   "metadata": {},
   "source": [
    "### Saving plot to json"
   ],
   "execution_count": null,
   "outputs": []
  },
  {
   "cell_type": "code",
   "execution_count": null,
   "metadata": {},
   "outputs": [],
   "source": [
    "fig.write_json(\n",
    "    os.path.join(\n",
    "        os.environ[\"PROJ_irox_oer\"],\n",
    "        \"workflow/oer_analysis/oer_scaling\", \n",
    "        \"out_plot/oer_scaling__O_OH_histogram.json\"))"
   ]
  },
  {
   "cell_type": "code",
   "execution_count": null,
   "metadata": {},
   "outputs": [],
   "source": [
    "my_plotly_plot(\n",
    "    figure=fig,\n",
    "    save_dir=root_dir,\n",
    "    place_in_out_plot=True,\n",
    "    plot_name=\"oer_histogram_gO_gOH\",\n",
    "    write_html=True,\n",
    "    write_png=False,\n",
    "    png_scale=6.0,\n",
    "    write_pdf=False,\n",
    "    write_svg=False,\n",
    "    try_orca_write=False,\n",
    "    verbose=False,\n",
    "    )"
   ]
  },
  {
   "cell_type": "code",
   "execution_count": null,
   "metadata": {},
   "outputs": [],
   "source": [
    "if show_plot:\n",
    "    fig.show()"
   ]
  },
  {
   "cell_type": "markdown",
   "metadata": {},
   "source": [
    "### Creating combined scaling and histogram plot"
   ],
   "execution_count": null,
   "outputs": []
  },
  {
   "cell_type": "code",
   "execution_count": null,
   "metadata": {},
   "outputs": [],
   "source": [
    "df_concat = pd.concat([\n",
    "    df_features_targets[(\"targets\", \"g_o\", \"\")],\n",
    "    df_features_targets[(\"targets\", \"g_oh\", \"\")],\n",
    "    df_features_targets[(\"data\", \"stoich\", \"\")],\n",
    "    ], axis=1)\n",
    "\n",
    "\n",
    "col_map_dict = {\n",
    "    ('targets', 'g_oh', ''): \"g_oh\",\n",
    "    ('targets', 'g_o', ''): \"g_o\",\n",
    "    ('data', 'stoich', ''): \"stoich\",\n",
    "    }\n",
    "\n",
    "new_cols = []\n",
    "for col_i in df_concat.columns.tolist():\n",
    "    tmp = 42\n",
    "\n",
    "    print(col_i)\n",
    "\n",
    "    new_col_i = col_map_dict[col_i]\n",
    "\n",
    "    new_cols.append(new_col_i)\n",
    "\n",
    "new_cols\n",
    "\n",
    "df_concat.columns = new_cols"
   ]
  },
  {
   "cell_type": "code",
   "execution_count": null,
   "metadata": {},
   "outputs": [],
   "source": [
    "df_concat.head()"
   ]
  },
  {
   "cell_type": "code",
   "execution_count": null,
   "metadata": {},
   "outputs": [],
   "source": [
    "fig = px.scatter(df_concat,\n",
    "    x=\"g_oh\",\n",
    "    y=\"g_o\",\n",
    "    color=\"stoich\",\n",
    "    color_discrete_map=stoich_color_dict,\n",
    "    marginal_x=\"histogram\",\n",
    "    marginal_y=\"histogram\",\n",
    "    )\n",
    "\n",
    "\n",
    "# fig.show()"
   ]
  },
  {
   "cell_type": "code",
   "execution_count": null,
   "metadata": {},
   "outputs": [],
   "source": [
    "tmp = fig.layout.update(\n",
    "    layout_shared_main\n",
    "    )\n",
    "tmp = fig.layout.update(\n",
    "    layout\n",
    "    )"
   ]
  },
  {
   "cell_type": "code",
   "execution_count": null,
   "metadata": {},
   "outputs": [],
   "source": [
    "fig.layout.showlegend = False"
   ]
  },
  {
   "cell_type": "code",
   "execution_count": null,
   "metadata": {},
   "outputs": [],
   "source": [
    "layout_keys_0 = list(fig.layout.to_plotly_json().keys())\n",
    "\n",
    "xaxis_keys = [i for i in layout_keys_0 if \"xaxis\" in i]\n",
    "yaxis_keys = [i for i in layout_keys_0 if \"yaxis\" in i]\n",
    "\n",
    "for x_axis_i in xaxis_keys:\n",
    "    x_axis_num = x_axis_i[5:]\n",
    "    \n",
    "    if x_axis_num == \"\":\n",
    "        x_axis_num_int = 1\n",
    "    else:\n",
    "        x_axis_num_int = int(x_axis_num)\n",
    "\n",
    "\n",
    "\n",
    "    for y_axis_i in yaxis_keys:\n",
    "        y_axis_num = y_axis_i[5:]\n",
    "\n",
    "        if y_axis_num == \"\":\n",
    "            y_axis_num_int = 1\n",
    "        else:\n",
    "            y_axis_num_int = int(y_axis_num)\n",
    "\n",
    "        # print(x_axis_num_int, y_axis_num_int)\n",
    "        # print(y_axis_num_int)\n",
    "\n",
    "        # fig.layout.update(layout_master)\n",
    "\n",
    "        fig.update_xaxes(\n",
    "            patch=shared_axis_dict,\n",
    "            selector=None,\n",
    "            overwrite=False,\n",
    "            row=y_axis_num_int,\n",
    "            col=x_axis_num_int,\n",
    "            )\n",
    "        fig.update_yaxes(\n",
    "            patch=shared_axis_dict,\n",
    "            selector=None,\n",
    "            overwrite=False,\n",
    "            row=y_axis_num_int,\n",
    "            col=x_axis_num_int,\n",
    "            )"
   ]
  },
  {
   "cell_type": "code",
   "execution_count": null,
   "metadata": {},
   "outputs": [],
   "source": [
    "my_plotly_plot(\n",
    "    figure=fig,\n",
    "    save_dir=root_dir,\n",
    "    place_in_out_plot=True,\n",
    "    plot_name=\"oer_scaling_w_histogram\",\n",
    "    write_html=True,\n",
    "    write_png=False,\n",
    "    png_scale=6.0,\n",
    "    write_pdf=False,\n",
    "    write_svg=False,\n",
    "    try_orca_write=False,\n",
    "    verbose=False,\n",
    "    )"
   ]
  },
  {
   "cell_type": "code",
   "execution_count": null,
   "metadata": {},
   "outputs": [],
   "source": [
    "if show_plot:\n",
    "    fig.show()"
   ]
  },
  {
   "cell_type": "code",
   "execution_count": null,
   "metadata": {},
   "outputs": [],
   "source": [
    "# #########################################################\n",
    "print(20 * \"# # \")\n",
    "print(\"All done!\")\n",
    "print(\"Run time:\", np.round((time.time() - ti) / 60, 3), \"min\")\n",
    "print(\"oer_scaling.ipynb\")\n",
    "print(20 * \"# # \")\n",
    "# #########################################################"
   ]
  },
  {
   "cell_type": "raw",
   "metadata": {},
   "source": [
    "\n",
    "\n"
   ],
   "execution_count": null,
   "outputs": []
  },
  {
   "cell_type": "code",
   "execution_count": null,
   "metadata": {
    "jupyter": {}
   },
   "outputs": [],
   "source": [
    "# color_array\n",
    "\n",
    "# go.scatter.marker.ColorBar?"
   ]
  },
  {
   "cell_type": "code",
   "execution_count": null,
   "metadata": {
    "jupyter": {}
   },
   "outputs": [],
   "source": [
    "# df_features_targets[(\"data\", \"SE__area_J_m2\", \"\")]"
   ]
  },
  {
   "cell_type": "code",
   "execution_count": null,
   "metadata": {
    "jupyter": {}
   },
   "outputs": [],
   "source": [
    "# assert False"
   ]
  }
 ],
 "metadata": {
  "jupytext": {
   "encoding": "# -*- coding: utf-8 -*-",
   "formats": "ipynb,py:light"
  },
  "kernelspec": {
   "display_name": "Python [conda env:PROJ_irox_oer] *",
   "language": "python",
   "name": "conda-env-PROJ_irox_oer-py"
  },
  "language_info": {
   "codemirror_mode": {
    "name": "ipython",
    "version": 3
   },
   "file_extension": ".py",
   "mimetype": "text/x-python",
   "name": "python",
   "nbconvert_exporter": "python",
   "pygments_lexer": "ipython3",
   "version": "3.6.10"
  }
 },
 "nbformat": 4,
 "nbformat_minor": 4
}
