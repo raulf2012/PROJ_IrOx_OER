{
 "cells": [
  {
   "cell_type": "markdown",
   "metadata": {},
   "source": [
    "# Compute a trivial model of Seoin's data with effective oxidation state\n",
    "---"
   ]
  },
  {
   "cell_type": "markdown",
   "metadata": {},
   "source": [
    "### Import Modules"
   ]
  },
  {
   "cell_type": "code",
   "execution_count": null,
   "metadata": {},
   "outputs": [
    {
     "name": "stdout",
     "output_type": "stream",
     "text": [
      "/mnt/f/Dropbox/01_norskov/00_git_repos/PROJ_IrOx_OER/workflow/seoin_irox_data/analyze_dataset\n"
     ]
    }
   ],
   "source": [
    "import os\n",
    "print(os.getcwd())\n",
    "import sys\n",
    "\n",
    "import numpy as np\n",
    "\n",
    "# #########################################################\n",
    "from methods import get_df_features_targets_seoin"
   ]
  },
  {
   "cell_type": "markdown",
   "metadata": {},
   "source": [
    "### Read Data"
   ]
  },
  {
   "cell_type": "code",
   "execution_count": 2,
   "metadata": {},
   "outputs": [],
   "source": [
    "df_seoin = get_df_features_targets_seoin()"
   ]
  },
  {
   "cell_type": "markdown",
   "metadata": {},
   "source": [
    "### Script Inputs"
   ]
  },
  {
   "cell_type": "code",
   "execution_count": 3,
   "metadata": {},
   "outputs": [],
   "source": [
    "# feature_ads = \"o\""
   ]
  },
  {
   "cell_type": "raw",
   "metadata": {},
   "source": [
    "\n"
   ]
  },
  {
   "cell_type": "markdown",
   "metadata": {},
   "source": [
    "### Main loop"
   ]
  },
  {
   "cell_type": "code",
   "execution_count": 4,
   "metadata": {},
   "outputs": [],
   "source": [
    "target_ads = \"o\""
   ]
  },
  {
   "cell_type": "code",
   "execution_count": 5,
   "metadata": {},
   "outputs": [
    {
     "name": "stdout",
     "output_type": "stream",
     "text": [
      "MAE: 0.1522 eV\n"
     ]
    }
   ],
   "source": [
    "# #########################################################\n",
    "diff_list = []\n",
    "# #########################################################\n",
    "group_cols = [\n",
    "    (\"features\", \"effective_ox_state\", \"\", ), ]\n",
    "grouped = df_seoin.groupby(group_cols)\n",
    "# #########################################################\n",
    "for name, group in grouped:\n",
    "\n",
    "    target_col = group[\"targets\"][\"g_\" + target_ads]\n",
    "\n",
    "    target_mean = target_col.mean()\n",
    "\n",
    "    diff = (target_col - target_mean).tolist()\n",
    "\n",
    "    diff_list.extend(diff)\n",
    "\n",
    "print(\n",
    "    \"MAE:\",\n",
    "    np.round(\n",
    "        np.abs(diff_list).mean(),\n",
    "        4,\n",
    "        ),\n",
    "    \"eV\")"
   ]
  },
  {
   "cell_type": "code",
   "execution_count": 6,
   "metadata": {},
   "outputs": [],
   "source": [
    "target_ads = \"oh\""
   ]
  },
  {
   "cell_type": "code",
   "execution_count": 7,
   "metadata": {},
   "outputs": [
    {
     "name": "stdout",
     "output_type": "stream",
     "text": [
      "MAE: 0.1245 eV\n"
     ]
    }
   ],
   "source": [
    "# #########################################################\n",
    "diff_list = []\n",
    "# #########################################################\n",
    "group_cols = [\n",
    "    (\"features\", \"effective_ox_state\", \"\", ), ]\n",
    "grouped = df_seoin.groupby(group_cols)\n",
    "# #########################################################\n",
    "for name, group in grouped:\n",
    "\n",
    "    target_col = group[\"targets\"][\"g_\" + target_ads]\n",
    "\n",
    "    target_mean = target_col.mean()\n",
    "\n",
    "    diff = (target_col - target_mean).tolist()\n",
    "\n",
    "    diff_list.extend(diff)\n",
    "\n",
    "print(\n",
    "    \"MAE:\",\n",
    "    np.round(\n",
    "        np.abs(diff_list).mean(),\n",
    "        4,\n",
    "        ),\n",
    "    \"eV\")"
   ]
  },
  {
   "cell_type": "code",
   "execution_count": 9,
   "metadata": {},
   "outputs": [
    {
     "data": {
      "text/plain": [
       "0.13835"
      ]
     },
     "execution_count": 9,
     "metadata": {},
     "output_type": "execute_result"
    }
   ],
   "source": [
    "(0.1522 + 0.1245) / 2"
   ]
  },
  {
   "cell_type": "raw",
   "metadata": {},
   "source": [
    "\n",
    "\n"
   ]
  },
  {
   "cell_type": "code",
   "execution_count": 8,
   "metadata": {
    "jupyter": {
     "source_hidden": true
    }
   },
   "outputs": [],
   "source": [
    "# df_seoin.columns\n",
    "\n",
    "# df_seoin[\n",
    "#     (\"features\", \"effective_ox_state\", \"\", )\n",
    "#     ]\n",
    "\n",
    "# df_seoin"
   ]
  }
 ],
 "metadata": {
  "jupytext": {
   "formats": "ipynb,py"
  },
  "kernelspec": {
   "display_name": "Python [conda env:PROJ_irox_oer] *",
   "language": "python",
   "name": "conda-env-PROJ_irox_oer-py"
  },
  "language_info": {
   "codemirror_mode": {
    "name": "ipython",
    "version": 3
   },
   "file_extension": ".py",
   "mimetype": "text/x-python",
   "name": "python",
   "nbconvert_exporter": "python",
   "pygments_lexer": "ipython3",
   "version": "3.6.10"
  },
  "toc-autonumbering": false
 },
 "nbformat": 4,
 "nbformat_minor": 4
}
