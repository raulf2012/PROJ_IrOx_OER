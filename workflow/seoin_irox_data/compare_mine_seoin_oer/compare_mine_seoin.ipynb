{
 "cells": [
  {
   "cell_type": "markdown",
   "metadata": {},
   "source": [
    "### Import Modules\n",
    "---"
   ]
  },
  {
   "cell_type": "code",
   "execution_count": null,
   "metadata": {},
   "outputs": [],
   "source": [
    "# TEMP\n",
    "\n",
    "import os\n",
    "print(os.getcwd())\n",
    "import sys\n",
    "\n",
    "import pickle\n",
    "\n",
    "import numpy as np\n",
    "\n",
    "import plotly.graph_objs as go\n",
    "\n",
    "from sklearn.linear_model import LinearRegression\n",
    "\n",
    "# #########################################################\n",
    "from methods import get_df_features_targets"
   ]
  },
  {
   "cell_type": "markdown",
   "metadata": {},
   "source": [
    "### Read Data"
   ]
  },
  {
   "cell_type": "code",
   "execution_count": null,
   "metadata": {},
   "outputs": [],
   "source": [
    "df_mine = get_df_features_targets()\n",
    "\n",
    "# #########################################################\n",
    "path_i = os.path.join(\n",
    "    os.environ[\"PROJ_irox_oer\"],\n",
    "    \"workflow/seoin_irox_data/featurize_data\",\n",
    "    \"out_data/df_features_targets.pickle\")\n",
    "with open(path_i, \"rb\") as fle:\n",
    "    df_seoin = pickle.load(fle)\n",
    "# #########################################################"
   ]
  },
  {
   "cell_type": "code",
   "execution_count": null,
   "metadata": {},
   "outputs": [],
   "source": [
    "data = []\n",
    "\n",
    "elec_or_gibbs = \"g\"\n",
    "\n",
    "trace_mine = go.Scatter(\n",
    "    x=df_mine[\"targets\"][elec_or_gibbs + \"_oh\"],\n",
    "    y=df_mine[\"targets\"][elec_or_gibbs + \"_o\"],\n",
    "    mode=\"markers\",\n",
    "    )\n",
    "data.append(trace_mine)\n",
    "\n",
    "trace_seoin = go.Scatter(\n",
    "    x=df_seoin[\"targets\"][elec_or_gibbs + \"_oh\"],\n",
    "    y=df_seoin[\"targets\"][elec_or_gibbs + \"_o\"],\n",
    "    mode=\"markers\",\n",
    "    )\n",
    "data.append(trace_seoin)"
   ]
  },
  {
   "cell_type": "code",
   "execution_count": null,
   "metadata": {},
   "outputs": [],
   "source": [
    "fig = go.Figure(data=data)\n",
    "fig.show()"
   ]
  },
  {
   "cell_type": "markdown",
   "metadata": {},
   "source": [
    "## Fitting linear fits to each dataset and checking how well they match"
   ]
  },
  {
   "cell_type": "code",
   "execution_count": null,
   "metadata": {},
   "outputs": [],
   "source": [
    "X_predict = np.linspace(0, 1, num=50)"
   ]
  },
  {
   "cell_type": "code",
   "execution_count": null,
   "metadata": {},
   "outputs": [],
   "source": [
    "df_seoin_i = df_seoin[\n",
    "    (df_seoin[\"targets\"][\"g_oh\"] > -1) & \\\n",
    "    (df_seoin[\"targets\"][\"g_oh\"] < 0.8)\n",
    "    ]\n",
    "\n",
    "df_seoin_i = df_seoin_i.dropna(\n",
    "    subset=[\n",
    "        (\"targets\", \"e_o\", \"\", ),\n",
    "        (\"targets\", \"e_oh\", \"\", ),\n",
    "        ]\n",
    "    )\n",
    "\n",
    "X = df_seoin_i[\"targets\"][\"e_oh\"].to_numpy().reshape(-1, 1)\n",
    "y = df_seoin_i[\"targets\"][\"e_o\"].to_numpy()\n",
    "\n",
    "reg_seoin = LinearRegression().fit(X, y)\n",
    "\n",
    "reg_seoin.score(X, y)\n",
    "reg_seoin.coef_\n",
    "reg_seoin.intercept_\n",
    "\n",
    "out_pred_seoin = reg_seoin.predict(X_predict.reshape(-1, 1))"
   ]
  },
  {
   "cell_type": "code",
   "execution_count": null,
   "metadata": {},
   "outputs": [],
   "source": [
    "df_mine_i = df_mine[\n",
    "    (df_mine[\"targets\"][\"g_oh\"] > -1) & \\\n",
    "    (df_mine[\"targets\"][\"g_oh\"] < 0.8)\n",
    "    ]\n",
    "\n",
    "df_mine_i = df_mine_i.dropna(\n",
    "    subset=[\n",
    "        (\"targets\", \"e_o\", \"\", ),\n",
    "        (\"targets\", \"e_oh\", \"\", ),\n",
    "        ]\n",
    "    )\n",
    "\n",
    "X = df_mine_i[\"targets\"][\"e_oh\"].to_numpy().reshape(-1, 1)\n",
    "y = df_mine_i[\"targets\"][\"e_o\"].to_numpy()\n",
    "\n",
    "reg_mine = LinearRegression().fit(X, y)\n",
    "\n",
    "reg_mine.score(X, y)\n",
    "reg_mine.coef_\n",
    "reg_mine.intercept_\n",
    "\n",
    "out_pred_mine = reg_mine.predict(X_predict.reshape(-1, 1))"
   ]
  },
  {
   "cell_type": "markdown",
   "metadata": {},
   "source": [
    "### Plotting the relative fits"
   ]
  },
  {
   "cell_type": "code",
   "execution_count": null,
   "metadata": {},
   "outputs": [],
   "source": [
    "data = []\n",
    "\n",
    "trace_mine = go.Scatter(\n",
    "    x=X_predict,\n",
    "    y=out_pred_seoin,\n",
    "    mode=\"markers\",\n",
    "    )\n",
    "data.append(trace_mine)\n",
    "\n",
    "trace_seoin = go.Scatter(\n",
    "    x=X_predict,\n",
    "    y=out_pred_mine,\n",
    "    mode=\"markers\",\n",
    "    )\n",
    "data.append(trace_seoin)\n",
    "\n",
    "trace_diff = go.Scatter(\n",
    "    x=X_predict,\n",
    "    y=out_pred_seoin - out_pred_mine,\n",
    "    mode=\"markers\",\n",
    "    )\n",
    "# data.append(trace_diff)"
   ]
  },
  {
   "cell_type": "code",
   "execution_count": null,
   "metadata": {},
   "outputs": [],
   "source": [
    "np.sum(out_pred_seoin - out_pred_mine)\n",
    "\n",
    "# My Gibbs corr, my O_ref, H_ref\n",
    "# 2.7103\n",
    "\n",
    "# All Seoin numbers\n",
    "# -0.5206\n",
    "\n",
    "# My Gibbs corr, Seoin O_ref, H_ref\n",
    "# 2.8610"
   ]
  },
  {
   "cell_type": "code",
   "execution_count": null,
   "metadata": {},
   "outputs": [],
   "source": [
    "# 3.547067458398018\n",
    "# 3.340576306583925\n",
    "# 3.2307764863428408\n",
    "# 3.0381335180527884\n",
    "\n",
    "\n",
    "# 2.9043387357517836\n",
    "# 2.0950456871501713"
   ]
  },
  {
   "cell_type": "code",
   "execution_count": null,
   "metadata": {},
   "outputs": [],
   "source": [
    "fig = go.Figure(data=data)\n",
    "fig.show()"
   ]
  },
  {
   "cell_type": "raw",
   "metadata": {},
   "source": [
    "\n",
    "\n"
   ]
  },
  {
   "cell_type": "code",
   "execution_count": null,
   "metadata": {
    "jupyter": {}
   },
   "outputs": [],
   "source": [
    "# df_seoin_i.shape\n",
    "# df_seoin.shape"
   ]
  },
  {
   "cell_type": "code",
   "execution_count": null,
   "metadata": {
    "jupyter": {}
   },
   "outputs": [],
   "source": [
    "# reg.predict(np.array([[3, 5]]))"
   ]
  },
  {
   "cell_type": "code",
   "execution_count": null,
   "metadata": {
    "jupyter": {}
   },
   "outputs": [],
   "source": [
    "# # Pickling data ###########################################\n",
    "# directory = os.path.join(\n",
    "#     os.environ[\"PROJ_irox_oer\"],\n",
    "#     \"workflow/seoin_irox_data/featurize_data\",\n",
    "#     \"out_data\")\n",
    "# if not os.path.exists(directory):\n",
    "#     os.makedirs(directory)\n",
    "\n",
    "# path_i = os.path.join(directory, \"df_features_targets.pickle\")\n",
    "# with open(path_i, \"wb\") as fle:\n",
    "#     pickle.dump(df_features_targets, fle)\n",
    "# # #########################################################"
   ]
  },
  {
   "cell_type": "code",
   "execution_count": null,
   "metadata": {
    "jupyter": {}
   },
   "outputs": [],
   "source": [
    "# # df_mine_i = \n",
    "# # df_seoin[\n",
    "# #     (df_mine[\"targets\"][\"g_oh\"] > -1) & \\\n",
    "# #     (df_mine[\"targets\"][\"g_oh\"] < 0.8)\n",
    "# #     ]\n",
    "\n",
    "# (df_mine[\"targets\"][\"g_oh\"] > -1)\n",
    "# #     (df_mine[\"targets\"][\"g_oh\"] < 0.8)"
   ]
  },
  {
   "cell_type": "code",
   "execution_count": null,
   "metadata": {
    "jupyter": {}
   },
   "outputs": [],
   "source": [
    "# X\n",
    "# df_mine_i[\"targets\"]\n",
    "\n",
    "\n",
    "# df_mine_i"
   ]
  }
 ],
 "metadata": {
  "jupytext": {
   "formats": "ipynb,py"
  },
  "kernelspec": {
   "display_name": "Python [conda env:PROJ_irox_oer] *",
   "language": "python",
   "name": "conda-env-PROJ_irox_oer-py"
  },
  "language_info": {
   "codemirror_mode": {
    "name": "ipython",
    "version": 3
   },
   "file_extension": ".py",
   "mimetype": "text/x-python",
   "name": "python",
   "nbconvert_exporter": "python",
   "pygments_lexer": "ipython3",
   "version": "3.6.10"
  }
 },
 "nbformat": 4,
 "nbformat_minor": 4
}
