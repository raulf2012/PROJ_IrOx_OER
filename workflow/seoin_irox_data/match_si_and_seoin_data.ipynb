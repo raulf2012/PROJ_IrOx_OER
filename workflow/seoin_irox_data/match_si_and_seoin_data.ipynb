{
 "cells": [
  {
   "cell_type": "markdown",
   "metadata": {},
   "source": [
    "### Import Modules"
   ],
   "execution_count": null,
   "outputs": []
  },
  {
   "cell_type": "code",
   "execution_count": null,
   "metadata": {},
   "outputs": [],
   "source": [
    "import os\n",
    "\n",
    "import numpy as np\n",
    "import pandas as pd\n",
    "\n",
    "import pickle\n",
    "\n",
    "import plotly.graph_objs as go"
   ]
  },
  {
   "cell_type": "markdown",
   "metadata": {},
   "source": [
    "### Read Data"
   ],
   "execution_count": null,
   "outputs": []
  },
  {
   "cell_type": "code",
   "execution_count": null,
   "metadata": {},
   "outputs": [],
   "source": [
    "dir_i = os.path.join(\n",
    "    os.environ[\"PROJ_irox_oer\"],\n",
    "    \"workflow/seoin_irox_data\")\n",
    "\n",
    "# #########################################################\n",
    "path_i = os.path.join(\n",
    "    dir_i, \"out_data/df_oer_si.pickle\")\n",
    "with open(path_i, \"rb\") as fle:\n",
    "    df_oer_si = pickle.load(fle)\n",
    "\n",
    "# #########################################################\n",
    "path_i = os.path.join(\n",
    "    dir_i, \"out_data/df_ads_e.pickle\")\n",
    "with open(path_i, \"rb\") as fle:\n",
    "    df_ads_e = pickle.load(fle)"
   ]
  },
  {
   "cell_type": "code",
   "execution_count": null,
   "metadata": {},
   "outputs": [],
   "source": [
    "df_ads_e_index = df_ads_e.index.tolist()\n",
    "df_oer_si_index = df_oer_si.index.tolist()\n",
    "\n",
    "shared_indices = []\n",
    "idx = pd.MultiIndex.from_tuples(\n",
    "    df_ads_e_index + df_oer_si_index)\n",
    "for index_i in idx.unique():\n",
    "\n",
    "    in_df_0 = index_i in df_ads_e_index\n",
    "    in_df_1 = index_i in df_oer_si_index\n",
    "\n",
    "    if in_df_0 and in_df_1:\n",
    "        # print(index_i)\n",
    "        shared_indices.append(index_i)\n",
    "\n",
    "len(shared_indices)"
   ]
  },
  {
   "cell_type": "code",
   "execution_count": null,
   "metadata": {},
   "outputs": [],
   "source": [
    "df_ads_e_2 = df_ads_e.loc[shared_indices]\n",
    "df_oer_si_2 = df_oer_si.loc[shared_indices]"
   ]
  },
  {
   "cell_type": "code",
   "execution_count": null,
   "metadata": {},
   "outputs": [],
   "source": [
    "trace = go.Scatter(\n",
    "    y=df_ads_e_2.g_o - df_oer_si_2.g_o,\n",
    "    mode=\"markers\",\n",
    "    # name=df_ads_e_2.index.tolist(),\n",
    "    )\n",
    "data = [trace]\n",
    "\n",
    "fig = go.Figure(data=data)\n",
    "fig.show()"
   ]
  },
  {
   "cell_type": "code",
   "execution_count": null,
   "metadata": {},
   "outputs": [],
   "source": [
    "df_ads_e_2[np.abs(df_ads_e_2.g_o - df_oer_si_2.g_o) < 0.05].index.tolist()"
   ]
  },
  {
   "cell_type": "code",
   "execution_count": null,
   "metadata": {},
   "outputs": [],
   "source": [
    "# df_ads_e_2[np.abs(df_ads_e_2.g_o - df_oer_si_2.g_o) > 0.05][[\"g_o\", \"g_oh\", \"g_ooh\", ]].round(3)"
   ]
  },
  {
   "cell_type": "code",
   "execution_count": null,
   "metadata": {},
   "outputs": [],
   "source": [
    "# df_oer_si_2[np.abs(df_ads_e_2.g_o - df_oer_si_2.g_o) > 0.05][[\"g_o\", \"g_oh\", \"g_ooh\", ]]"
   ]
  },
  {
   "cell_type": "code",
   "execution_count": null,
   "metadata": {},
   "outputs": [],
   "source": [
    "# df_ads_e_2.iloc[[85]]"
   ]
  },
  {
   "cell_type": "code",
   "execution_count": null,
   "metadata": {},
   "outputs": [],
   "source": [
    "# df_oer_si_2.iloc[[85]]"
   ]
  },
  {
   "cell_type": "code",
   "execution_count": null,
   "metadata": {},
   "outputs": [],
   "source": [
    "# 2.577122\t0.632418\t3.620811\t2.587122\t0.952418\t3.930811"
   ]
  },
  {
   "cell_type": "code",
   "execution_count": null,
   "metadata": {},
   "outputs": [],
   "source": [
    "# df_oer_si_2"
   ]
  },
  {
   "cell_type": "code",
   "execution_count": null,
   "metadata": {},
   "outputs": [],
   "source": [
    "# np.isclose?"
   ]
  },
  {
   "cell_type": "code",
   "execution_count": null,
   "metadata": {},
   "outputs": [],
   "source": [
    "for name_i, row_i in df_ads_e.iterrows():\n",
    "    if np.isclose(row_i.g_o, 1.76, rtol=5e-03, atol=1e-03):\n",
    "        print(name_i, row_i.g_o)\n",
    "\n",
    "print(40 * \"-\")\n",
    "for name_i, row_i in df_ads_e.iterrows():\n",
    "    if np.isclose(row_i.g_oh, 0.33, rtol=5e-03, atol=1e-03):\n",
    "        print(name_i, row_i.g_oh)\n",
    "\n",
    "print(40 * \"-\")\n",
    "for name_i, row_i in df_ads_e.iterrows():\n",
    "    if np.isclose(row_i.g_ooh, 3.32, rtol=1je-03, atol=1e-03):\n",
    "        print(name_i, row_i.g_ooh)"
   ]
  },
  {
   "cell_type": "code",
   "execution_count": null,
   "metadata": {},
   "outputs": [],
   "source": [
    "df_ads_e.loc[[\n",
    "    ('columbite', '120', 'O_covered', 0, 1),\n",
    "    ('columbite', '120', 'O_covered', 2, 3),\n",
    "    ]]"
   ]
  },
  {
   "cell_type": "raw",
   "metadata": {},
   "source": [
    "\n",
    "\n"
   ],
   "execution_count": null,
   "outputs": []
  },
  {
   "cell_type": "code",
   "execution_count": null,
   "metadata": {
    "jupyter": {}
   },
   "outputs": [],
   "source": [
    "# # #########################################################\n",
    "# directory = os.path.join(\n",
    "#     os.environ[\"HOME\"],\n",
    "#     \"__temp__\")\n",
    "# path_i = os.path.join(directory, \"temp_data.pickle\")\n",
    "# with open(path_i, \"rb\") as fle:\n",
    "#     data = pickle.load(fle)\n",
    "# # #########################################################\n",
    "# df_ads_e = data[\"df_ads_e\"]\n",
    "# df_oer_si = data[\"df_oer_si\"]\n",
    "# # #########################################################"
   ]
  }
 ],
 "metadata": {
  "jupytext": {
   "formats": "ipynb,py"
  },
  "kernelspec": {
   "display_name": "Python [conda env:PROJ_irox_oer] *",
   "language": "python",
   "name": "conda-env-PROJ_irox_oer-py"
  },
  "language_info": {
   "codemirror_mode": {
    "name": "ipython",
    "version": 3
   },
   "file_extension": ".py",
   "mimetype": "text/x-python",
   "name": "python",
   "nbconvert_exporter": "python",
   "pygments_lexer": "ipython3",
   "version": "3.6.11"
  }
 },
 "nbformat": 4,
 "nbformat_minor": 4
}
