{
 "cells": [
  {
   "cell_type": "markdown",
   "metadata": {},
   "source": [
    "# Parse init and final slabs for magmoms\n",
    "---"
   ],
   "execution_count": null,
   "outputs": []
  },
  {
   "cell_type": "markdown",
   "metadata": {},
   "source": [
    "### Import Modules"
   ],
   "execution_count": null,
   "outputs": []
  },
  {
   "cell_type": "code",
   "execution_count": null,
   "metadata": {},
   "outputs": [],
   "source": [
    "import os\n",
    "print(os.getcwd())\n",
    "import sys\n",
    "\n",
    "import pandas as pd"
   ]
  },
  {
   "cell_type": "code",
   "execution_count": null,
   "metadata": {},
   "outputs": [],
   "source": [
    "# #########################################################\n",
    "data_dict_list = []\n",
    "# #########################################################\n",
    "root_dir = os.path.join(\n",
    "    os.environ[\"PROJ_DATA\"],\n",
    "    \"PROJ_IrOx_OER/initial_final_structures\")\n",
    "# #########################################################\n",
    "for subdir, dirs, files in os.walk(root_dir):\n",
    "    for file in files:\n",
    "        if \".traj\" in file:\n",
    "\n",
    "            last_dir = subdir.split(\"/\")[-1]\n",
    "            init_or_final = last_dir.split(\"_\")[-1]\n",
    "\n",
    "            # print(\n",
    "            #     file.split(\"_\")\n",
    "            #     )\n",
    "\n",
    "            crystal_i = file.split(\"_\")[0]\n",
    "            facet_i = file.split(\"_\")[1]\n",
    "            coverage_i = file.split(\"_\")[2]\n",
    "            # print(tmp)\n",
    "\n",
    "            frag_i = coverage_i + \"_covered\"\n",
    "\n",
    "            find_ind = file.find(frag_i)\n",
    "\n",
    "            file_2 = file[find_ind + len(frag_i):]\n",
    "\n",
    "            file_3 = file_2.split(\".\")[0]\n",
    "\n",
    "            print(file_3)\n",
    "\n",
    "            # active_site_i = file.split(\".\")[0].split(\"_\")[-1]\n",
    "            # termination_i = file.split(\".\")[0].split(\"_\")[-2]\n",
    "\n",
    "\n",
    "            # #############################################\n",
    "            data_dict_i = dict()\n",
    "            # #############################################\n",
    "            data_dict_i[\"crystal\"] = crystal_i\n",
    "            data_dict_i[\"facet\"] = facet_i\n",
    "            data_dict_i[\"coverage_i\"] = coverage_i\n",
    "\n",
    "            # data_dict_i[\"active_site\"] = active_site_i\n",
    "            # data_dict_i[\"termination\"] = termination_i\n",
    "\n",
    "            data_dict_i[\"init_final\"] = init_or_final\n",
    "            data_dict_i[\"file_name\"] = file\n",
    "            # #############################################\n",
    "            data_dict_list.append(data_dict_i)\n",
    "            # #############################################\n",
    "\n",
    "# #########################################################\n",
    "df = pd.DataFrame(\n",
    "    data_dict_list\n",
    "    )\n",
    "# #########################################################"
   ]
  },
  {
   "cell_type": "code",
   "execution_count": null,
   "metadata": {},
   "outputs": [],
   "source": []
  },
  {
   "cell_type": "code",
   "execution_count": null,
   "metadata": {},
   "outputs": [],
   "source": [
    "# termination\tactive_site\t"
   ]
  },
  {
   "cell_type": "code",
   "execution_count": null,
   "metadata": {},
   "outputs": [],
   "source": [
    "df"
   ]
  },
  {
   "cell_type": "code",
   "execution_count": null,
   "metadata": {},
   "outputs": [],
   "source": [
    "['rutile', '012', 'O', 'covered', '0', 'OER', 'OOH', '3', '0.traj']\n",
    "['columbite', '121', 'O', 'covered', '1', 'OER', 'OH', '5', '1.traj']\n",
    "['columbite', '120', 'O', 'covered', '0', 'OER', 'OOH', '0', '0.traj']\n",
    "['pyrite', '100', 'O', 'covered', '0', 'OER', 'OOH', '0', '0.traj']\n",
    "['anatase', '110', 'O', 'covered', '0', 'OER', 'OH', '3', '2.traj']\n",
    "['columbite', '121', 'O', 'covered', '3', 'OER', 'OH', '1', '1.traj']\n",
    "['pyrite', '120', 'O', 'covered', '0', 'OER', 'O', 'covered', '0.traj']\n",
    "['columbite', '121', 'O', 'covered', '1', 'OER', 'OH', '1', '0.traj']\n",
    "['brookite', '120', 'O', 'covered', '1', 'OER', 'OH', '1', '1.traj']"
   ]
  }
 ],
 "metadata": {
  "jupytext": {
   "formats": "ipynb,py"
  },
  "kernelspec": {
   "display_name": "Python [conda env:PROJ_irox_oer] *",
   "language": "python",
   "name": "conda-env-PROJ_irox_oer-py"
  },
  "language_info": {
   "codemirror_mode": {
    "name": "ipython",
    "version": 3
   },
   "file_extension": ".py",
   "mimetype": "text/x-python",
   "name": "python",
   "nbconvert_exporter": "python",
   "pygments_lexer": "ipython3",
   "version": "3.6.10"
  }
 },
 "nbformat": 4,
 "nbformat_minor": 4
}
