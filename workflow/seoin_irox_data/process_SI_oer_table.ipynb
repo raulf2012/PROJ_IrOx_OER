{
 "cells": [
  {
   "cell_type": "markdown",
   "metadata": {},
   "source": [
    "### Processing IrOx Data from Seoin\n",
    "---"
   ]
  },
  {
   "cell_type": "markdown",
   "metadata": {},
   "source": [
    "### Import Modules"
   ]
  },
  {
   "cell_type": "code",
   "execution_count": 1,
   "metadata": {},
   "outputs": [
    {
     "name": "stdout",
     "output_type": "stream",
     "text": [
      "/home/raulf2012/Dropbox/01_norskov/00_git_repos/PROJ_IrOx_OER/workflow/seoin_irox_data\n"
     ]
    }
   ],
   "source": [
    "import os\n",
    "print(os.getcwd())\n",
    "import sys\n",
    "\n",
    "import pickle\n",
    "\n",
    "import pandas as pd"
   ]
  },
  {
   "cell_type": "markdown",
   "metadata": {},
   "source": [
    "### Read Data"
   ]
  },
  {
   "cell_type": "code",
   "execution_count": 2,
   "metadata": {},
   "outputs": [],
   "source": [
    "# #########################################################\n",
    "path_i = os.path.join(\n",
    "    os.environ[\"PROJ_irox_oer\"],\n",
    "    \"workflow/seoin_irox_data\",\n",
    "    \"in_data/oer_data_seoin.csv\")\n",
    "df_oer_si = pd.read_csv(path_i, dtype={\"facet\": object})"
   ]
  },
  {
   "cell_type": "code",
   "execution_count": 3,
   "metadata": {},
   "outputs": [],
   "source": [
    "crystal_rename_dict = {\n",
    "    \"Rutile (P42/nm)\": \"rutile\",\n",
    "    \"Anatase (I41/amd)\": \"anatase\",\n",
    "    \"Pyrite (Pa3)\": \"pyrite\",\n",
    "    \"Brookite (Pbca)\": \"brookite\",\n",
    "    \"Columbite (Pbcn)\": \"columbite\",\n",
    "    \"Amm2\": \"amm2\",\n",
    "    \"Pm3m\": \"pm-3m\",\n",
    "    \"Cmcm\": \"cmcm\",\n",
    "    }\n",
    "\n",
    "coverage_rename_dict = {\n",
    "    \"*O\": \"O_covered\",\n",
    "    \"*0\": \"O_covered\",\n",
    "    \"*OH\": \"OH_covered\",\n",
    "    }\n",
    "\n",
    "def method(row_i):\n",
    "    # #####################################################\n",
    "    new_column_values_dict = {\n",
    "        \"crystal\": None,\n",
    "        \"coverage\": None,\n",
    "        }\n",
    "    # #####################################################\n",
    "    crystal_i = row_i[\"crystal\"]\n",
    "    coverage_i = row_i[\"coverage\"]\n",
    "    # #####################################################\n",
    "\n",
    "    new_crystal_i = crystal_rename_dict.get(crystal_i, crystal_i)\n",
    "    new_coverage_i = coverage_rename_dict.get(coverage_i, coverage_i)\n",
    "\n",
    "    # #####################################################\n",
    "    new_column_values_dict[\"crystal\"] = new_crystal_i\n",
    "    new_column_values_dict[\"coverage\"] = new_coverage_i\n",
    "    # #####################################################\n",
    "    for key, value in new_column_values_dict.items():\n",
    "        row_i[key] = value\n",
    "    # #####################################################\n",
    "    return(row_i)\n",
    "    # #####################################################\n",
    "\n",
    "\n",
    "\n",
    "# #########################################################\n",
    "df_i = df_oer_si\n",
    "df_oer_si = df_i.apply(\n",
    "    method,\n",
    "    axis=1)\n",
    "# #########################################################\n",
    "df_oer_si = df_oer_si.set_index(\n",
    "    [\n",
    "        \"crystal\", \"facet\", \"coverage\",\n",
    "        \"termination\", \"active_site\",\n",
    "        ]\n",
    "    )\n",
    "\n",
    "df_oer_si = df_oer_si[~df_oer_si.index.duplicated()]\n",
    "# #########################################################"
   ]
  },
  {
   "cell_type": "code",
   "execution_count": 4,
   "metadata": {},
   "outputs": [],
   "source": [
    "# Pickling data ###########################################\n",
    "directory = os.path.join(\n",
    "    os.environ[\"PROJ_irox_oer\"],\n",
    "    \"workflow/seoin_irox_data\",\n",
    "    \"out_data\")\n",
    "if not os.path.exists(directory): os.makedirs(directory)\n",
    "with open(os.path.join(directory, \"df_oer_si.pickle\"), \"wb\") as fle:\n",
    "    pickle.dump(df_oer_si, fle)\n",
    "# #########################################################"
   ]
  },
  {
   "cell_type": "code",
   "execution_count": 5,
   "metadata": {},
   "outputs": [
    {
     "data": {
      "text/html": [
       "<div>\n",
       "<style scoped>\n",
       "    .dataframe tbody tr th:only-of-type {\n",
       "        vertical-align: middle;\n",
       "    }\n",
       "\n",
       "    .dataframe tbody tr th {\n",
       "        vertical-align: top;\n",
       "    }\n",
       "\n",
       "    .dataframe thead th {\n",
       "        text-align: right;\n",
       "    }\n",
       "</style>\n",
       "<table border=\"1\" class=\"dataframe\">\n",
       "  <thead>\n",
       "    <tr style=\"text-align: right;\">\n",
       "      <th></th>\n",
       "      <th></th>\n",
       "      <th></th>\n",
       "      <th></th>\n",
       "      <th></th>\n",
       "      <th>g_o</th>\n",
       "      <th>g_oh</th>\n",
       "      <th>g_ooh</th>\n",
       "      <th>g_o_m_oh</th>\n",
       "      <th>eta</th>\n",
       "    </tr>\n",
       "    <tr>\n",
       "      <th>crystal</th>\n",
       "      <th>facet</th>\n",
       "      <th>coverage</th>\n",
       "      <th>termination</th>\n",
       "      <th>active_site</th>\n",
       "      <th></th>\n",
       "      <th></th>\n",
       "      <th></th>\n",
       "      <th></th>\n",
       "      <th></th>\n",
       "    </tr>\n",
       "  </thead>\n",
       "  <tbody>\n",
       "    <tr>\n",
       "      <th rowspan=\"5\" valign=\"top\">rutile</th>\n",
       "      <th rowspan=\"4\" valign=\"top\">012</th>\n",
       "      <th rowspan=\"4\" valign=\"top\">O_covered</th>\n",
       "      <th rowspan=\"4\" valign=\"top\">0</th>\n",
       "      <th>0</th>\n",
       "      <td>2.10</td>\n",
       "      <td>0.48</td>\n",
       "      <td>3.64</td>\n",
       "      <td>1.62</td>\n",
       "      <td>0.39</td>\n",
       "    </tr>\n",
       "    <tr>\n",
       "      <th>1</th>\n",
       "      <td>2.06</td>\n",
       "      <td>0.53</td>\n",
       "      <td>3.50</td>\n",
       "      <td>1.53</td>\n",
       "      <td>0.30</td>\n",
       "    </tr>\n",
       "    <tr>\n",
       "      <th>2</th>\n",
       "      <td>2.25</td>\n",
       "      <td>0.98</td>\n",
       "      <td>3.94</td>\n",
       "      <td>1.27</td>\n",
       "      <td>0.46</td>\n",
       "    </tr>\n",
       "    <tr>\n",
       "      <th>3</th>\n",
       "      <td>2.34</td>\n",
       "      <td>0.92</td>\n",
       "      <td>4.09</td>\n",
       "      <td>1.42</td>\n",
       "      <td>0.52</td>\n",
       "    </tr>\n",
       "    <tr>\n",
       "      <th>100</th>\n",
       "      <th>O_covered</th>\n",
       "      <th>0</th>\n",
       "      <th>0</th>\n",
       "      <td>1.56</td>\n",
       "      <td>0.08</td>\n",
       "      <td>3.27</td>\n",
       "      <td>1.48</td>\n",
       "      <td>0.48</td>\n",
       "    </tr>\n",
       "  </tbody>\n",
       "</table>\n",
       "</div>"
      ],
      "text/plain": [
       "                                                  g_o  g_oh  g_ooh  g_o_m_oh  \\\n",
       "crystal facet coverage  termination active_site                                \n",
       "rutile  012   O_covered 0           0            2.10  0.48   3.64      1.62   \n",
       "                                    1            2.06  0.53   3.50      1.53   \n",
       "                                    2            2.25  0.98   3.94      1.27   \n",
       "                                    3            2.34  0.92   4.09      1.42   \n",
       "        100   O_covered 0           0            1.56  0.08   3.27      1.48   \n",
       "\n",
       "                                                  eta  \n",
       "crystal facet coverage  termination active_site        \n",
       "rutile  012   O_covered 0           0            0.39  \n",
       "                                    1            0.30  \n",
       "                                    2            0.46  \n",
       "                                    3            0.52  \n",
       "        100   O_covered 0           0            0.48  "
      ]
     },
     "execution_count": 5,
     "metadata": {},
     "output_type": "execute_result"
    }
   ],
   "source": [
    "df_oer_si.head()"
   ]
  },
  {
   "cell_type": "raw",
   "metadata": {},
   "source": [
    "\n",
    "\n"
   ]
  }
 ],
 "metadata": {
  "jupytext": {
   "formats": "ipynb,py"
  },
  "kernelspec": {
   "display_name": "Python 3",
   "language": "python",
   "name": "python3"
  },
  "language_info": {
   "codemirror_mode": {
    "name": "ipython",
    "version": 3
   },
   "file_extension": ".py",
   "mimetype": "text/x-python",
   "name": "python",
   "nbconvert_exporter": "python",
   "pygments_lexer": "ipython3",
   "version": "3.6.11"
  }
 },
 "nbformat": 4,
 "nbformat_minor": 5
}
