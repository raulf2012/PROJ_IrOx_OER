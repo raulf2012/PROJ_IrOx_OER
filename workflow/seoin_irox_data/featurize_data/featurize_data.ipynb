{
 "cells": [
  {
   "cell_type": "markdown",
   "metadata": {},
   "source": [
    "### Featurize IrOx slabs from Seoin\n",
    "---"
   ],
   "execution_count": null,
   "outputs": []
  },
  {
   "cell_type": "code",
   "execution_count": null,
   "metadata": {},
   "outputs": [],
   "source": [
    "# #########################################################\n",
    "# This haven't been done\n",
    "# #########################################################\n",
    "# ('features', 'o', 'O_magmom'),\n",
    "# ('features', 'o', 'Ir_magmom'),\n",
    "# ('features', 'o', 'Ir*O_bader'),\n",
    "# ('features', 'o', 'Ir_bader'),\n",
    "# ('features', 'o', 'O_bader'),\n",
    "# ('features', 'o', 'p_band_center'),\n",
    "\n",
    "\n",
    "\n",
    "# #########################################################\n",
    "# These are done\n",
    "# #########################################################\n",
    "# ('features', 'o', 'bulk_oxid_state'),\n",
    "# ('features', 'o', 'angle_O_Ir_surf_norm'),\n",
    "# ('features', 'o', 'active_o_metal_dist'),\n",
    "# ('features', 'o', 'effective_ox_state'),\n",
    "# ('features', 'o', 'ir_o_mean'),\n",
    "# ('features', 'o', 'ir_o_std'),\n",
    "# ('features', 'o', 'octa_vol'),\n",
    "# ('features', 'o', 'dH_bulk'),\n",
    "# ('features', 'o', 'volume_pa'),"
   ]
  },
  {
   "cell_type": "markdown",
   "metadata": {},
   "source": [
    "### Import Modules"
   ],
   "execution_count": null,
   "outputs": []
  },
  {
   "cell_type": "code",
   "execution_count": null,
   "metadata": {},
   "outputs": [],
   "source": [
    "import os\n",
    "print(os.getcwd())\n",
    "import sys\n",
    "\n",
    "import pickle\n",
    "from pathlib import Path\n",
    "\n",
    "import pandas as pd\n",
    "import numpy as np\n",
    "\n",
    "# #########################################################\n",
    "from methods_features import get_octa_geom, get_octa_vol\n",
    "from methods_features import get_angle_between_surf_normal_and_O_Ir\n",
    "\n",
    "# #########################################################\n",
    "from local_methods import get_df_coord_local\n",
    "from local_methods import get_effective_ox_state"
   ]
  },
  {
   "cell_type": "code",
   "execution_count": null,
   "metadata": {},
   "outputs": [],
   "source": [
    "pd.set_option(\"display.max_columns\", None)\n",
    "# pd.set_option('display.max_rows', None)\n",
    "# pd.options.display.max_colwidth = 100"
   ]
  },
  {
   "cell_type": "code",
   "execution_count": null,
   "metadata": {},
   "outputs": [],
   "source": [
    "dir_i = os.path.join(\n",
    "    os.environ[\"PROJ_irox_oer\"],\n",
    "    \"workflow/seoin_irox_data\")\n",
    "\n",
    "# #########################################################\n",
    "path_i = os.path.join(\n",
    "    dir_i, \"out_data/df_ads_e.pickle\")\n",
    "with open(path_i, \"rb\") as fle:\n",
    "    df_ads_e = pickle.load(fle)\n",
    "\n",
    "# #########################################################\n",
    "path_i = os.path.join(\n",
    "    dir_i, \"out_data/df_oer.pickle\")\n",
    "with open(path_i, \"rb\") as fle:\n",
    "    df_oer = pickle.load(fle)\n",
    "\n",
    "# #########################################################\n",
    "path_i = os.path.join(\n",
    "    dir_i, \"process_bulk_data\",\n",
    "    \"out_data/df_seoin_bulk.pickle\")\n",
    "with open(path_i, \"rb\") as fle:\n",
    "    df_bulk = pickle.load(fle)\n",
    "df_bulk = df_bulk.set_index(\"crystal\")"
   ]
  },
  {
   "cell_type": "code",
   "execution_count": null,
   "metadata": {},
   "outputs": [],
   "source": [
    "# # TEMP\n",
    "# print(111 * \"TEMP | \")\n",
    "\n",
    "# df_ads_e = df_ads_e.dropna(axis=0, subset=[\"active_site__o\", \"active_site__oh\", \"active_site__ooh\"])"
   ]
  },
  {
   "cell_type": "code",
   "execution_count": null,
   "metadata": {},
   "outputs": [],
   "source": [
    "data_dict_list = []\n",
    "for name_i, row_i in df_ads_e.iterrows():\n",
    "    # #####################################################\n",
    "    name_dict_i = dict(zip(\n",
    "        df_ads_e.index.names,\n",
    "        name_i))\n",
    "    # #####################################################\n",
    "    name_str_i = row_i[\"name\"]\n",
    "    index_o_i = row_i.index_o\n",
    "    active_site_o_i = row_i.active_site__o\n",
    "    # bulk_oxid_state_i = row_i.bulk_oxid_state\n",
    "    # #####################################################\n",
    "    crystal_i = name_dict_i[\"crystal\"]\n",
    "    # #####################################################\n",
    "\n",
    "    # #####################################################\n",
    "    row_oer_o_i = df_oer.loc[index_o_i]\n",
    "    # #####################################################\n",
    "    atoms_o_i = row_oer_o_i.atoms\n",
    "    atoms_o_init_i = row_oer_o_i.atoms_init\n",
    "    # #####################################################\n",
    "\n",
    "    # #####################################################\n",
    "    row_bulk_i = df_bulk.loc[crystal_i]\n",
    "    # #####################################################\n",
    "    volume_pa_i = row_bulk_i.volume_pa\n",
    "    dH_i = row_bulk_i.dH\n",
    "    # #####################################################\n",
    "\n",
    "\n",
    "\n",
    "    df_coord_o_final_i = get_df_coord_local(\n",
    "        name=name_str_i,\n",
    "        ads=\"o\",\n",
    "        atoms=atoms_o_i,\n",
    "        append_str=\"_final\",\n",
    "        )\n",
    "    df_coord_o_init_i = get_df_coord_local(\n",
    "        name=name_str_i,\n",
    "        ads=\"o\",\n",
    "        atoms=atoms_o_init_i,\n",
    "        append_str=\"_init\",\n",
    "        )\n",
    "\n",
    "    eff_ox_out_i = get_effective_ox_state(\n",
    "        active_site=active_site_o_i,\n",
    "        df_coord_i=df_coord_o_final_i,\n",
    "        df_coord_init_i=df_coord_o_init_i,\n",
    "        metal_atom_symbol=\"Ir\",\n",
    "        )\n",
    "    eff_ox_i = eff_ox_out_i[\"effective_ox_state\"]\n",
    "\n",
    "\n",
    "    # #####################################################\n",
    "    # Octahedral geometry\n",
    "    octa_geom_out = get_octa_geom(\n",
    "        df_coord_i=df_coord_o_final_i,\n",
    "        active_site_j=active_site_o_i,\n",
    "        atoms=atoms_o_i,\n",
    "        verbose=True,\n",
    "        )\n",
    "    for key_i in octa_geom_out.keys():\n",
    "        octa_geom_out[key_i + \"__o\"] = octa_geom_out.pop(key_i)\n",
    "\n",
    "    octa_vol_i = get_octa_vol(\n",
    "        df_coord_i=df_coord_o_final_i,\n",
    "        active_site_j=active_site_o_i,\n",
    "        verbose=True,\n",
    "        )\n",
    "\n",
    "\n",
    "    # #####################################################\n",
    "    # Ir-O Angle relative to surface normal\n",
    "    angle_i = get_angle_between_surf_normal_and_O_Ir(\n",
    "        atoms_o_i,\n",
    "        df_coord=df_coord_o_final_i,\n",
    "        active_site=active_site_o_i,\n",
    "        )\n",
    "\n",
    "\n",
    "    # #####################################################\n",
    "    data_dict_i = dict()\n",
    "    # #####################################################\n",
    "    data_dict_i[\"effective_ox_state__o\"] = eff_ox_i\n",
    "    data_dict_i[\"octa_vol__o\"] = octa_vol_i\n",
    "    data_dict_i[\"angle_O_Ir_surf_norm__o\"] = angle_i\n",
    "    data_dict_i[\"dH_bulk\"] = dH_i\n",
    "    data_dict_i[\"volume_pa\"] = volume_pa_i\n",
    "    # data_dict_i[\"bulk_oxid_state\"] = bulk_oxid_state_i\n",
    "    # #####################################################\n",
    "    data_dict_i.update(octa_geom_out)\n",
    "    data_dict_i.update(name_dict_i)\n",
    "    # #####################################################\n",
    "    data_dict_list.append(data_dict_i)\n",
    "    # #####################################################\n",
    "\n",
    "# #########################################################\n",
    "df_feat = pd.DataFrame(data_dict_list)\n",
    "df_feat = df_feat.set_index(df_ads_e.index.names)\n",
    "\n",
    "df_features_targets = pd.concat([\n",
    "    df_feat,\n",
    "    df_ads_e.drop(columns=[\"O_Ir_frac_ave\", ])\n",
    "    ], axis=1)\n",
    "# #########################################################"
   ]
  },
  {
   "cell_type": "markdown",
   "metadata": {},
   "source": [
    "### Processing columns"
   ],
   "execution_count": null,
   "outputs": []
  },
  {
   "cell_type": "code",
   "execution_count": null,
   "metadata": {},
   "outputs": [],
   "source": [
    "df_features_targets.columns.tolist()\n",
    "\n",
    "\n",
    "multicolumn_assignments = {\n",
    "\n",
    "    # #######################\n",
    "    # Features ##############\n",
    "    \"effective_ox_state__o\":   (\"features\", \"effective_ox_state\", \"\", ),\n",
    "\n",
    "    # \"effective_ox_state__o\":   (\"features\", \"o\", \"effective_ox_state\", ),\n",
    "    \"octa_vol__o\":             (\"features\", \"o\", \"octa_vol\", ),\n",
    "    \"active_o_metal_dist__o\":  (\"features\", \"o\", \"active_o_metal_dist\", ),\n",
    "    \"ir_o_mean__o\":            (\"features\", \"o\", \"ir_o_mean\", ),\n",
    "    \"ir_o_std__o\":             (\"features\", \"o\", \"ir_o_std\", ),\n",
    "    \"angle_O_Ir_surf_norm__o\": (\"features\", \"o\", \"angle_O_Ir_surf_norm\", ),\n",
    "\n",
    "    \"bulk_oxid_state\":         (\"features\", \"bulk_oxid_state\", \"\", ),\n",
    "    \"dH_bulk\":                 (\"features\", \"dH_bulk\", \"\", ),\n",
    "    \"volume_pa\":               (\"features\", \"volume_pa\", \"\", ),\n",
    "\n",
    "\n",
    "    # #######################\n",
    "    # Targets ###############\n",
    "    \"e_o\":   (\"targets\", \"e_o\", \"\", ),\n",
    "    \"e_oh\":  (\"targets\", \"e_oh\", \"\", ),\n",
    "    \"e_ooh\": (\"targets\", \"e_ooh\", \"\", ),\n",
    "    \"g_o\":   (\"targets\", \"g_o\", \"\", ),\n",
    "    \"g_oh\":  (\"targets\", \"g_oh\", \"\", ),\n",
    "    \"g_ooh\": (\"targets\", \"g_ooh\", \"\", ),\n",
    "\n",
    "    # #######################\n",
    "    # Data ##################\n",
    "    \"index_bare\":          (\"data\", \"index_bare\", \"\", ),\n",
    "    \"index_o\":             (\"data\", \"index_o\", \"\", ),\n",
    "    \"index_oh\":            (\"data\", \"index_oh\", \"\", ),\n",
    "    \"index_ooh\":           (\"data\", \"index_ooh\", \"\", ),\n",
    "    \"name\":                (\"data\", \"name\", \"\", ),\n",
    "    \"active_site__o\":      (\"data\", \"active_site__o\", \"\", ),\n",
    "    \"active_site__oh\":     (\"data\", \"active_site__oh\", \"\", ),\n",
    "    \"active_site__ooh\":    (\"data\", \"active_site__ooh\", \"\", ),\n",
    "\n",
    "    \"stoich\":    (\"data\", \"stoich\", \"\", ),\n",
    "\n",
    "    }"
   ]
  },
  {
   "cell_type": "code",
   "execution_count": null,
   "metadata": {},
   "outputs": [],
   "source": [
    "new_cols = []\n",
    "for col_i in df_features_targets.columns:\n",
    "    new_col_i = multicolumn_assignments.get(col_i, col_i)\n",
    "    new_cols.append(new_col_i)\n",
    "\n",
    "idx = pd.MultiIndex.from_tuples(new_cols)\n",
    "df_features_targets.columns = idx"
   ]
  },
  {
   "cell_type": "code",
   "execution_count": null,
   "metadata": {},
   "outputs": [],
   "source": [
    "df_features_targets = df_features_targets.reindex(columns=[\n",
    "    \"targets\",\n",
    "    \"data\",\n",
    "    \"format\",\n",
    "    \"features\",\n",
    "    \"features_pre_dft\",\n",
    "    \"features_stan\",\n",
    "    ], level=0)"
   ]
  },
  {
   "cell_type": "code",
   "execution_count": null,
   "metadata": {},
   "outputs": [],
   "source": [
    "df_features_targets = df_features_targets.sort_index(axis=1)"
   ]
  },
  {
   "cell_type": "code",
   "execution_count": null,
   "metadata": {},
   "outputs": [],
   "source": [
    "# new_cols = []\n",
    "other_cols = []\n",
    "other_feature_cols = []\n",
    "ads_feature_cols = []\n",
    "for col_i in df_features_targets.columns:\n",
    "\n",
    "    if col_i[0] == \"features\":\n",
    "        if col_i[1] in [\"o\", \"oh\", \"ooh\", ]:\n",
    "            # print(col_i)\n",
    "            ads_feature_cols.append(col_i)\n",
    "        else:\n",
    "            other_feature_cols.append(col_i)\n",
    "\n",
    "    else:\n",
    "        other_cols.append(col_i)"
   ]
  },
  {
   "cell_type": "code",
   "execution_count": null,
   "metadata": {},
   "outputs": [],
   "source": [
    "df_features_targets = df_features_targets[\n",
    "    other_cols + other_feature_cols + ads_feature_cols\n",
    "    ]"
   ]
  },
  {
   "cell_type": "markdown",
   "metadata": {},
   "source": [
    "### Write data to file"
   ],
   "execution_count": null,
   "outputs": []
  },
  {
   "cell_type": "code",
   "execution_count": null,
   "metadata": {},
   "outputs": [],
   "source": [
    "# Pickling data ###########################################\n",
    "directory = os.path.join(\n",
    "    os.environ[\"PROJ_irox_oer\"],\n",
    "    \"workflow/seoin_irox_data/featurize_data\",\n",
    "    \"out_data\")\n",
    "if not os.path.exists(directory):\n",
    "    os.makedirs(directory)\n",
    "\n",
    "path_i = os.path.join(directory, \"df_features_targets.pickle\")\n",
    "with open(path_i, \"wb\") as fle:\n",
    "    pickle.dump(df_features_targets, fle)\n",
    "# #########################################################"
   ]
  },
  {
   "cell_type": "code",
   "execution_count": null,
   "metadata": {},
   "outputs": [],
   "source": [
    "df_features_targets.head()"
   ]
  },
  {
   "cell_type": "raw",
   "metadata": {},
   "source": [
    "\n",
    "\n"
   ],
   "execution_count": null,
   "outputs": []
  },
  {
   "cell_type": "code",
   "execution_count": null,
   "metadata": {
    "jupyter": {}
   },
   "outputs": [],
   "source": [
    "# df_features_targets"
   ]
  },
  {
   "cell_type": "code",
   "execution_count": null,
   "metadata": {
    "jupyter": {}
   },
   "outputs": [],
   "source": [
    "# # df_features_targets.sort_values([(\"features\", ) ])\n",
    "# df_features_targets.columns = df_features_targets.columns.sortlevel()[0]"
   ]
  },
  {
   "cell_type": "code",
   "execution_count": null,
   "metadata": {
    "jupyter": {}
   },
   "outputs": [],
   "source": [
    "# df_features_targets"
   ]
  },
  {
   "cell_type": "code",
   "execution_count": null,
   "metadata": {
    "jupyter": {}
   },
   "outputs": [],
   "source": [
    "# # df_features_targets = \n",
    "# df_features_targets.reindex(columns=[\n",
    "#     # \"targets\",\n",
    "#     # \"data\",\n",
    "#     # \"format\",\n",
    "#     \"features\",\n",
    "#     # \"features_pre_dft\",\n",
    "#     # \"features_stan\",\n",
    "#     ], level=0)"
   ]
  },
  {
   "cell_type": "code",
   "execution_count": null,
   "metadata": {
    "jupyter": {}
   },
   "outputs": [],
   "source": [
    "# df_ads_e.index.to_frame().crystal.unique().tolist()"
   ]
  },
  {
   "cell_type": "code",
   "execution_count": null,
   "metadata": {
    "jupyter": {}
   },
   "outputs": [],
   "source": [
    "# row_i"
   ]
  },
  {
   "cell_type": "code",
   "execution_count": null,
   "metadata": {},
   "outputs": [],
   "source": []
  },
  {
   "cell_type": "code",
   "execution_count": null,
   "metadata": {
    "jupyter": {}
   },
   "outputs": [],
   "source": [
    "# assert False"
   ]
  },
  {
   "cell_type": "code",
   "execution_count": null,
   "metadata": {
    "jupyter": {}
   },
   "outputs": [],
   "source": [
    "# df_features_targets.columns = df_features_targets.columns.sortlevel()[0]"
   ]
  },
  {
   "cell_type": "code",
   "execution_count": null,
   "metadata": {
    "jupyter": {}
   },
   "outputs": [],
   "source": [
    "# df_features_targets"
   ]
  },
  {
   "cell_type": "code",
   "execution_count": null,
   "metadata": {
    "jupyter": {}
   },
   "outputs": [],
   "source": [
    "# assert False"
   ]
  },
  {
   "cell_type": "code",
   "execution_count": null,
   "metadata": {
    "jupyter": {}
   },
   "outputs": [],
   "source": [
    "# df_features_targets.columns"
   ]
  },
  {
   "cell_type": "code",
   "execution_count": null,
   "metadata": {
    "jupyter": {}
   },
   "outputs": [],
   "source": [
    "# df_features_targets[\"features\"]"
   ]
  },
  {
   "cell_type": "code",
   "execution_count": null,
   "metadata": {
    "jupyter": {}
   },
   "outputs": [],
   "source": [
    "# assert False"
   ]
  },
  {
   "cell_type": "code",
   "execution_count": null,
   "metadata": {},
   "outputs": [],
   "source": [
    "# df_ads_e"
   ]
  },
  {
   "cell_type": "code",
   "execution_count": null,
   "metadata": {},
   "outputs": [],
   "source": [
    "# df_features_targets"
   ]
  },
  {
   "cell_type": "code",
   "execution_count": null,
   "metadata": {},
   "outputs": [],
   "source": [
    "# assert False"
   ]
  },
  {
   "cell_type": "code",
   "execution_count": null,
   "metadata": {},
   "outputs": [],
   "source": [
    "# df_features_targets[\"effective_ox_state__o\"].tolist()"
   ]
  },
  {
   "cell_type": "code",
   "execution_count": null,
   "metadata": {},
   "outputs": [],
   "source": [
    "# df_features_targets"
   ]
  }
 ],
 "metadata": {
  "jupytext": {
   "formats": "ipynb,py"
  },
  "kernelspec": {
   "display_name": "Python [conda env:PROJ_irox_oer] *",
   "language": "python",
   "name": "conda-env-PROJ_irox_oer-py"
  },
  "language_info": {
   "codemirror_mode": {
    "name": "ipython",
    "version": 3
   },
   "file_extension": ".py",
   "mimetype": "text/x-python",
   "name": "python",
   "nbconvert_exporter": "python",
   "pygments_lexer": "ipython3",
   "version": "3.6.10"
  }
 },
 "nbformat": 4,
 "nbformat_minor": 4
}
