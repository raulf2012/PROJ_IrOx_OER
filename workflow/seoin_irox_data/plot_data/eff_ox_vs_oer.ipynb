{
 "cells": [
  {
   "cell_type": "markdown",
   "metadata": {},
   "source": [
    "### Import Modules"
   ],
   "execution_count": null,
   "outputs": []
  },
  {
   "cell_type": "code",
   "execution_count": null,
   "metadata": {},
   "outputs": [],
   "source": [
    "import os\n",
    "import sys\n",
    "\n",
    "import pickle\n",
    "\n",
    "import numpy as np\n",
    "\n",
    "import plotly.graph_objs as go\n",
    "\n",
    "from proj_data import (\n",
    "    scatter_shared_props,\n",
    "    shared_axis_dict,\n",
    "    layout_shared,\n",
    "    )"
   ]
  },
  {
   "cell_type": "code",
   "execution_count": null,
   "metadata": {},
   "outputs": [],
   "source": [
    "# #########################################################\n",
    "directory = os.path.join(\n",
    "    os.environ[\"PROJ_irox_oer\"],\n",
    "    \"workflow/seoin_irox_data/featurize_data\",\n",
    "    \"out_data\")\n",
    "path_i = os.path.join(\n",
    "    directory,\n",
    "    \"df_features_targets.pickle\")\n",
    "with open(path_i, \"rb\") as fle:\n",
    "    df_features_targets = pickle.load(fle)\n",
    "# #########################################################"
   ]
  },
  {
   "cell_type": "code",
   "execution_count": null,
   "metadata": {},
   "outputs": [],
   "source": [
    "layout = go.Layout(\n",
    "\n",
    "    xaxis=go.layout.XAxis(\n",
    "        title=dict(\n",
    "            text=\"Ir Effective Oxidation State\",\n",
    "            ),\n",
    "        ),\n",
    "\n",
    "    yaxis=go.layout.YAxis(\n",
    "        title=dict(\n",
    "            text=\"\u0394G<sub>O</sub>\",\n",
    "            ),\n",
    "        ),\n",
    "\n",
    "    )\n",
    "\n",
    "tmp = layout.update(layout_shared)"
   ]
  },
  {
   "cell_type": "code",
   "execution_count": null,
   "metadata": {},
   "outputs": [],
   "source": [
    "data = []\n",
    "\n",
    "trace = go.Scatter(\n",
    "    x=df_features_targets.effective_ox_state,\n",
    "    y=df_features_targets.g_o,\n",
    "    mode=\"markers\",\n",
    "    )\n",
    "tmp = trace.update(\n",
    "    scatter_shared_props\n",
    "    )\n",
    "data.append(trace)\n",
    "\n",
    "fig = go.Figure(data=data, layout=layout)\n",
    "\n",
    "fig.show()"
   ]
  },
  {
   "cell_type": "markdown",
   "metadata": {},
   "source": [
    "### Violin Plot"
   ],
   "execution_count": null,
   "outputs": []
  },
  {
   "cell_type": "code",
   "execution_count": null,
   "metadata": {},
   "outputs": [],
   "source": [
    "import plotly.express as px\n",
    "\n",
    "fig = px.violin(\n",
    "    df_features_targets,\n",
    "    y=\"g_o\",\n",
    "    x=\"effective_ox_state\",\n",
    "    box=True,\n",
    "    points=\"all\",\n",
    "    )"
   ]
  },
  {
   "cell_type": "code",
   "execution_count": null,
   "metadata": {},
   "outputs": [],
   "source": [
    "layout = go.Layout(\n",
    "\n",
    "    xaxis=go.layout.XAxis(\n",
    "        title=dict(\n",
    "            text=\"Ir Effective Oxidation State\",\n",
    "            ),\n",
    "        ),\n",
    "\n",
    "    yaxis=go.layout.YAxis(\n",
    "        title=dict(\n",
    "            text=\"\u0394G<sub>O</sub>\",\n",
    "            ),\n",
    "        ),\n",
    "\n",
    "    )\n",
    "\n",
    "tmp = fig.update_layout(layout)\n",
    "\n",
    "tmp = fig.update_layout(layout_shared)"
   ]
  },
  {
   "cell_type": "code",
   "execution_count": null,
   "metadata": {},
   "outputs": [],
   "source": [
    "fig.show()"
   ]
  },
  {
   "cell_type": "markdown",
   "metadata": {},
   "source": [
    "### Computing MAE from trivial Eff. Ox. State model"
   ],
   "execution_count": null,
   "outputs": []
  },
  {
   "cell_type": "code",
   "execution_count": null,
   "metadata": {},
   "outputs": [],
   "source": [
    "group_cols = [\"effective_ox_state\", ]\n",
    "grouped = df_features_targets.groupby(group_cols)\n",
    "\n",
    "abs_errors = []\n",
    "for name, group in grouped:\n",
    "    abs_errors_i = np.abs(group.g_o - group.g_o.mean()).tolist()\n",
    "    abs_errors.extend(abs_errors_i)\n",
    "mae_o = np.mean(abs_errors)"
   ]
  },
  {
   "cell_type": "code",
   "execution_count": null,
   "metadata": {},
   "outputs": [],
   "source": [
    "group_cols = [\"effective_ox_state\", ]\n",
    "grouped = df_features_targets.groupby(group_cols)\n",
    "\n",
    "abs_errors = []\n",
    "for name, group in grouped:\n",
    "    abs_errors_i = np.abs(group.g_oh - group.g_oh.mean()).tolist()\n",
    "    abs_errors.extend(abs_errors_i)\n",
    "mae_oh = np.mean(abs_errors)"
   ]
  },
  {
   "cell_type": "code",
   "execution_count": null,
   "metadata": {},
   "outputs": [],
   "source": [
    "group_cols = [\"effective_ox_state\", ]\n",
    "grouped = df_features_targets.groupby(group_cols)\n",
    "\n",
    "abs_errors = []\n",
    "for name, group in grouped:\n",
    "    abs_errors_i = np.abs(group.g_ooh - group.g_ooh.mean()).tolist()\n",
    "    abs_errors.extend(abs_errors_i)\n",
    "mae_ooh = np.mean(abs_errors)"
   ]
  },
  {
   "cell_type": "code",
   "execution_count": null,
   "metadata": {},
   "outputs": [],
   "source": [
    "\n"
   ]
  },
  {
   "cell_type": "code",
   "execution_count": null,
   "metadata": {},
   "outputs": [],
   "source": [
    "np.round(\n",
    "    (mae_o + mae_oh + mae_ooh) / 3,\n",
    "    3\n",
    "    )"
   ]
  },
  {
   "cell_type": "code",
   "execution_count": null,
   "metadata": {},
   "outputs": [],
   "source": [
    "print(\n",
    "    \"Average MAE: \",\n",
    "    np.round(\n",
    "        (mae_o + mae_oh + mae_ooh) / 3, 4\n",
    "        ),\n",
    "    sep=\"\")"
   ]
  },
  {
   "cell_type": "markdown",
   "metadata": {},
   "source": [
    "### G_OH vs G_O-OH"
   ],
   "execution_count": null,
   "outputs": []
  },
  {
   "cell_type": "code",
   "execution_count": null,
   "metadata": {},
   "outputs": [],
   "source": [
    "layout = go.Layout(\n",
    "\n",
    "    xaxis=go.layout.XAxis(\n",
    "        title=dict(\n",
    "            text=\"\u0394G<sub>O</sub>-\u0394G<sub>OH</sub>\",\n",
    "            ),\n",
    "        ),\n",
    "\n",
    "    yaxis=go.layout.YAxis(\n",
    "        title=dict(\n",
    "            text=\"\u0394G<sub>OH</sub>\",\n",
    "            ),\n",
    "        ),\n",
    "\n",
    "    )\n",
    "\n",
    "tmp = layout.update(layout_shared)"
   ]
  },
  {
   "cell_type": "code",
   "execution_count": null,
   "metadata": {},
   "outputs": [],
   "source": [
    "data = []\n",
    "\n",
    "trace = go.Scatter(\n",
    "    x=df_features_targets[\"g_o\"] - df_features_targets[\"g_oh\"],\n",
    "    y=df_features_targets[\"g_oh\"],\n",
    "\n",
    "    mode=\"markers\",\n",
    "    )\n",
    "tmp = trace.update(\n",
    "    scatter_shared_props\n",
    "    )\n",
    "data.append(trace)\n",
    "\n",
    "fig = go.Figure(data=data, layout=layout)\n",
    "\n",
    "fig.show()"
   ]
  },
  {
   "cell_type": "raw",
   "metadata": {},
   "source": [
    "\n",
    "\n"
   ],
   "execution_count": null,
   "outputs": []
  },
  {
   "cell_type": "code",
   "execution_count": null,
   "metadata": {
    "jupyter": {}
   },
   "outputs": [],
   "source": [
    "# # Pickling data ###########################################\n",
    "# directory = os.path.join(\n",
    "#     os.environ[\"PROJ_irox_oer\"],\n",
    "#     \"workflow/seoin_irox_data/featurize_data\",\n",
    "#     \"out_data\")\n",
    "# if not os.path.exists(directory):\n",
    "#     os.makedirs(directory)\n",
    "\n",
    "# path_i = os.path.join(directory, \"df_features_targets.pickle\")\n",
    "# with open(path_i, \"wb\") as fle:\n",
    "#     pickle.dump(df_features_targets, fle)\n",
    "# # #########################################################"
   ]
  },
  {
   "cell_type": "code",
   "execution_count": null,
   "metadata": {
    "jupyter": {}
   },
   "outputs": [],
   "source": [
    "# df_features_targets"
   ]
  },
  {
   "cell_type": "code",
   "execution_count": null,
   "metadata": {
    "jupyter": {}
   },
   "outputs": [],
   "source": [
    "#     scatter_shared_props,\n",
    "#     shared_axis_dict,\n",
    "#     layout_shared,"
   ]
  }
 ],
 "metadata": {
  "jupytext": {
   "formats": "ipynb,py"
  },
  "kernelspec": {
   "display_name": "Python [conda env:PROJ_irox_oer] *",
   "language": "python",
   "name": "conda-env-PROJ_irox_oer-py"
  },
  "language_info": {
   "codemirror_mode": {
    "name": "ipython",
    "version": 3
   },
   "file_extension": ".py",
   "mimetype": "text/x-python",
   "name": "python",
   "nbconvert_exporter": "python",
   "pygments_lexer": "ipython3",
   "version": "3.6.11"
  }
 },
 "nbformat": 4,
 "nbformat_minor": 4
}
