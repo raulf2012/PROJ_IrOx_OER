{
 "cells": [
  {
   "cell_type": "markdown",
   "metadata": {},
   "source": [
    "# Computing surface energy from OER slabs and bulk formation energy"
   ],
   "execution_count": null,
   "outputs": []
  },
  {
   "cell_type": "markdown",
   "metadata": {},
   "source": [
    "### Import Modules"
   ],
   "execution_count": null,
   "outputs": []
  },
  {
   "cell_type": "code",
   "execution_count": null,
   "metadata": {},
   "outputs": [],
   "source": [
    "import os\n",
    "print(os.getcwd())\n",
    "import sys\n",
    "import time; ti = time.time()\n",
    "\n",
    "import pickle\n",
    "\n",
    "import numpy as np\n",
    "import pandas as pd\n",
    "pd.set_option(\"display.max_columns\", None)\n",
    "\n",
    "import plotly.express as px\n",
    "\n",
    "# #########################################################\n",
    "from ase_modules.ase_methods import create_species_element_dict\n",
    "\n",
    "# #########################################################\n",
    "from proj_data import metal_atom_symbol\n",
    "from proj_data import stoich_color_dict\n",
    "\n",
    "# #########################################################\n",
    "from methods import (\n",
    "    get_df_dft,\n",
    "    get_df_jobs_data,\n",
    "    get_df_jobs,\n",
    "    get_df_features_targets,\n",
    "    get_df_slab,\n",
    "    )\n",
    "\n",
    "# #########################################################\n",
    "# Data from PROJ_irox\n",
    "sys.path.insert(0, os.path.join(\n",
    "    os.environ[\"PROJ_irox\"], \"data\"))\n",
    "from proj_data_irox import h2_ref, h2o_ref"
   ]
  },
  {
   "cell_type": "code",
   "execution_count": null,
   "metadata": {},
   "outputs": [],
   "source": [
    "from methods import isnotebook    \n",
    "isnotebook_i = isnotebook()\n",
    "if isnotebook_i:\n",
    "    from tqdm.notebook import tqdm\n",
    "    verbose = True\n",
    "else:\n",
    "    from tqdm import tqdm\n",
    "    verbose = False"
   ]
  },
  {
   "cell_type": "markdown",
   "metadata": {},
   "source": [
    "### Read Data"
   ],
   "execution_count": null,
   "outputs": []
  },
  {
   "cell_type": "code",
   "execution_count": null,
   "metadata": {},
   "outputs": [],
   "source": [
    "df_features_targets = get_df_features_targets()\n",
    "\n",
    "df_jobs = get_df_jobs()\n",
    "\n",
    "df_dft = get_df_dft()\n",
    "\n",
    "df_jobs_data = get_df_jobs_data()"
   ]
  },
  {
   "cell_type": "code",
   "execution_count": null,
   "metadata": {},
   "outputs": [],
   "source": [
    "# # TEMP\n",
    "# print(222 * \"TEMP | \")\n",
    "\n",
    "# df_features_targets = df_features_targets.sample(n=30)"
   ]
  },
  {
   "cell_type": "markdown",
   "metadata": {},
   "source": [
    "### Preparing oxygen reference energy"
   ],
   "execution_count": null,
   "outputs": []
  },
  {
   "cell_type": "code",
   "execution_count": null,
   "metadata": {},
   "outputs": [],
   "source": [
    "G_O = -1 * ((-1.23 * 2) - h2o_ref + h2_ref)"
   ]
  },
  {
   "cell_type": "markdown",
   "metadata": {},
   "source": [
    "### Main loop"
   ],
   "execution_count": null,
   "outputs": []
  },
  {
   "cell_type": "code",
   "execution_count": null,
   "metadata": {},
   "outputs": [],
   "source": [
    "# #########################################################\n",
    "data_dict_list = []\n",
    "# #########################################################\n",
    "for name_i, row_i in df_features_targets.iterrows():\n",
    "    # print(name_i)\n",
    "\n",
    "    # #####################################################\n",
    "    data_dict_i = dict()\n",
    "    # #####################################################\n",
    "    name_dict_i = dict(zip(\n",
    "        df_features_targets.index.names,\n",
    "        name_i))\n",
    "    # #####################################################\n",
    "    job_id_o_i = row_i[(\"data\", \"job_id_o\", \"\")]\n",
    "    stoich_i = row_i[(\"data\", \"stoich\", \"\")]\n",
    "    # #####################################################\n",
    "\n",
    "    # #####################################################\n",
    "    row_data_i = df_jobs_data.loc[job_id_o_i]\n",
    "    # #####################################################\n",
    "    elec_energy_i = row_data_i.pot_e\n",
    "    atoms_init_i = row_data_i.init_atoms\n",
    "    # #####################################################\n",
    "\n",
    "    # #####################################################\n",
    "    row_jobs_i = df_jobs.loc[job_id_o_i]\n",
    "    # #####################################################\n",
    "    bulk_id_i = row_jobs_i.bulk_id\n",
    "    # #####################################################\n",
    "\n",
    "    # #####################################################\n",
    "    row_dft_i = df_dft.loc[bulk_id_i]\n",
    "    # #####################################################\n",
    "    bulk_energy_pa_i = row_dft_i.energy_pa\n",
    "    # #####################################################\n",
    "\n",
    "    \n",
    "    # Calculate surface area of slab\n",
    "    cell = atoms_init_i.cell\n",
    "\n",
    "    cross_prod_i = np.cross(cell[0], cell[1])\n",
    "    area_i = np.linalg.norm(cross_prod_i)\n",
    "\n",
    "    elem_dict_i = create_species_element_dict(\n",
    "        atoms_init_i,\n",
    "        include_all_elems=False,\n",
    "        elems_to_always_include=None,\n",
    "        )\n",
    "\n",
    "    stoich_B_i = int(stoich_i[2:])\n",
    "\n",
    "    num_atoms_in_form_unit = stoich_B_i + 1\n",
    "\n",
    "    num_metal_atoms = elem_dict_i[metal_atom_symbol]\n",
    "    N_stoich_units = num_metal_atoms\n",
    "\n",
    "    num_stoich_O = num_metal_atoms * stoich_B_i\n",
    "\n",
    "    num_nonstoich_O = elem_dict_i[\"O\"] - num_stoich_O\n",
    "\n",
    "    assert num_nonstoich_O >= 0, \"Must have non-negative number of non-stoich Os\"\n",
    "\n",
    "    surf_energy_i_0 = elec_energy_i - \\\n",
    "    (N_stoich_units * num_atoms_in_form_unit * bulk_energy_pa_i) - \\\n",
    "    (num_nonstoich_O * G_O)\n",
    "\n",
    "    norm_mode = \"area\"\n",
    "    units = \"J/m^2\"\n",
    "\n",
    "    if norm_mode == \"area\":\n",
    "        norm_term = 2 * area_i\n",
    "        surf_energy_i_1 = surf_energy_i_0 / norm_term\n",
    "    else:\n",
    "        print(\"NOT GOOD\")\n",
    "\n",
    "    if norm_mode == \"area\":\n",
    "        if units == \"eV/A^2\":\n",
    "            pass\n",
    "        elif units == \"J/m^2\":\n",
    "            # Convert eV/A^2 to J/m^2\n",
    "            # (1E10 A/m) ^ 2 * (1.6022E-19 J/eV) = 16.022\n",
    "            ev_A2__to__J_m2 = 16.022\n",
    "            surf_energy_i_2 = surf_energy_i_1 * ev_A2__to__J_m2\n",
    "            surf_energy__area_J_m2 = surf_energy_i_2\n",
    "\n",
    "\n",
    "    # print(\n",
    "    #     \"SE: \",\n",
    "    #     # str(np.round(surf_energy_i_2, 3)).zfill(5),\n",
    "    #     np.round(surf_energy_i_2, 3),\n",
    "    #     \" J/m2\",\n",
    "    #     sep=\"\")\n",
    "\n",
    "\n",
    "    # #####################################################\n",
    "    data_dict_i.update(name_dict_i)\n",
    "    # #####################################################\n",
    "    data_dict_i[\"SE__area_J_m2\"] = surf_energy__area_J_m2\n",
    "    data_dict_i[\"num_nonstoich_O\"] = num_nonstoich_O\n",
    "    data_dict_i[\"N_stoich_units\"] = N_stoich_units\n",
    "    data_dict_i[\"stoich\"] = stoich_i\n",
    "    # data_dict_i[\"\"] = \n",
    "    # #####################################################\n",
    "    data_dict_list.append(data_dict_i)\n",
    "    # #####################################################\n",
    "\n",
    "# #########################################################\n",
    "df_SE = pd.DataFrame(data_dict_list)\n",
    "df_SE = df_SE.set_index([\"compenv\", \"slab_id\", \"active_site\"])\n",
    "# #########################################################"
   ]
  },
  {
   "cell_type": "code",
   "execution_count": null,
   "metadata": {},
   "outputs": [],
   "source": [
    "df_SE"
   ]
  },
  {
   "cell_type": "markdown",
   "metadata": {},
   "source": [
    "### Plot surface energy data histogram"
   ],
   "execution_count": null,
   "outputs": []
  },
  {
   "cell_type": "code",
   "execution_count": null,
   "metadata": {},
   "outputs": [],
   "source": [
    "fig = px.histogram(df_SE,\n",
    "    x=\"SE__area_J_m2\",\n",
    "    color=\"stoich\",\n",
    "    barmode=\"overlay\",\n",
    "    barnorm=\"percent\",\n",
    "    color_discrete_map=stoich_color_dict,\n",
    "    # 'fraction'` or `'percent'`\n",
    "    )\n",
    "\n",
    "# 'group'\n",
    "# 'overlay'\n",
    "# 'relative'\n",
    "\n",
    "fig.show()"
   ]
  },
  {
   "cell_type": "markdown",
   "metadata": {},
   "source": [
    "### Writting data to file"
   ],
   "execution_count": null,
   "outputs": []
  },
  {
   "cell_type": "code",
   "execution_count": null,
   "metadata": {},
   "outputs": [],
   "source": [
    "# Pickling data ###########################################\n",
    "directory = os.path.join(\n",
    "    os.environ[\"PROJ_irox_oer\"],\n",
    "    \"workflow/surface_energy/out_data\")\n",
    "file_name_i = \"df_SE.pickle\"\n",
    "path_i = os.path.join(directory, file_name_i)\n",
    "if not os.path.exists(directory): os.makedirs(directory)\n",
    "with open(path_i, \"wb\") as fle:\n",
    "    pickle.dump(df_SE, fle)\n",
    "# #########################################################"
   ]
  },
  {
   "cell_type": "code",
   "execution_count": null,
   "metadata": {},
   "outputs": [],
   "source": [
    "from methods import get_df_SE\n",
    "\n",
    "df_SE_tmp = get_df_SE()\n",
    "df_SE_tmp"
   ]
  },
  {
   "cell_type": "code",
   "execution_count": null,
   "metadata": {},
   "outputs": [],
   "source": [
    "# #########################################################\n",
    "print(20 * \"# # \")\n",
    "print(\"All done!\")\n",
    "print(\"Run time:\", np.round((time.time() - ti) / 60, 3), \"min\")\n",
    "print(\"surface_energy.ipynb\")\n",
    "print(20 * \"# # \")\n",
    "# #########################################################"
   ]
  },
  {
   "cell_type": "raw",
   "metadata": {},
   "source": [
    "\n",
    "\n"
   ],
   "execution_count": null,
   "outputs": []
  },
  {
   "cell_type": "code",
   "execution_count": null,
   "metadata": {
    "jupyter": {}
   },
   "outputs": [],
   "source": [
    "# dir(atoms_init_i)"
   ]
  },
  {
   "cell_type": "code",
   "execution_count": null,
   "metadata": {
    "jupyter": {}
   },
   "outputs": [],
   "source": [
    "# row_i.data"
   ]
  },
  {
   "cell_type": "code",
   "execution_count": null,
   "metadata": {
    "jupyter": {}
   },
   "outputs": [],
   "source": [
    "# elem_dict_i"
   ]
  },
  {
   "cell_type": "code",
   "execution_count": null,
   "metadata": {
    "jupyter": {}
   },
   "outputs": [],
   "source": [
    "# data_dict_i"
   ]
  },
  {
   "cell_type": "code",
   "execution_count": null,
   "metadata": {
    "jupyter": {}
   },
   "outputs": [],
   "source": [
    "# str(np.round(surf_energy_i_2, 3)).zfill(5)"
   ]
  },
  {
   "cell_type": "code",
   "execution_count": null,
   "metadata": {
    "jupyter": {}
   },
   "outputs": [],
   "source": [
    "# norm_mode\n",
    "# units"
   ]
  },
  {
   "cell_type": "code",
   "execution_count": null,
   "metadata": {
    "jupyter": {}
   },
   "outputs": [],
   "source": [
    "# name_dict_i = dict(zip(\n",
    "#     df_features_targets.index.names,\n",
    "#     name_i))"
   ]
  },
  {
   "cell_type": "code",
   "execution_count": null,
   "metadata": {
    "jupyter": {}
   },
   "outputs": [],
   "source": [
    "# norm_mode = \"area\"\n",
    "# # units = \"eV/A^2\"  # 'eV/A^2' or 'J/m^2'\n",
    "# units = \"J/m^2\"  # 'eV/A^2' or 'J/m^2'"
   ]
  },
  {
   "cell_type": "code",
   "execution_count": null,
   "metadata": {
    "jupyter": {}
   },
   "outputs": [],
   "source": [
    "#     surf_energy_i_0 = elec_energy_i - \\\n",
    "#     (N_stoich_units * num_atoms_in_form_unit * bulk_energy_pa_i) - \\\n",
    "#     (num_nonstoich_O * G_O)\n",
    "\n",
    "# N_stoich_units\n",
    "# num_nonstoich_O"
   ]
  },
  {
   "cell_type": "code",
   "execution_count": null,
   "metadata": {
    "jupyter": {}
   },
   "outputs": [],
   "source": [
    "# df_features_targets.head()"
   ]
  },
  {
   "cell_type": "code",
   "execution_count": null,
   "metadata": {
    "jupyter": {}
   },
   "outputs": [],
   "source": [
    "# def get_df_SE():\n",
    "#     \"\"\"\n",
    "#     The data object is created by the following notebook:\n",
    "\n",
    "#     $PROJ_irox_oer/workflow/surface_energy/surface_energy.ipynb\n",
    "#     \"\"\"\n",
    "#     #| - get_df_jobs\n",
    "#     # #####################################################\n",
    "#     # Reading df_jobs dataframe from pickle\n",
    "#     import pickle; import os\n",
    "#     path_i = os.path.join(\n",
    "#         os.environ[\"PROJ_irox_oer\"],\n",
    "#         \"workflow/surface_energy\",\n",
    "#         \"out_data/df_SE.pickle\")\n",
    "#     with open(path_i, \"rb\") as fle:\n",
    "#         df_SE = pickle.load(fle)\n",
    "\n",
    "#     return(df_SE)\n",
    "#     #__|"
   ]
  },
  {
   "cell_type": "code",
   "execution_count": null,
   "metadata": {
    "jupyter": {}
   },
   "outputs": [],
   "source": [
    "# num_nonstoich_O "
   ]
  },
  {
   "cell_type": "code",
   "execution_count": null,
   "metadata": {},
   "outputs": [],
   "source": [
    "\n",
    "# px.histogram?\n",
    "\n"
   ]
  }
 ],
 "metadata": {
  "jupytext": {
   "formats": "ipynb,py"
  },
  "kernelspec": {
   "display_name": "Python [conda env:PROJ_irox_oer] *",
   "language": "python",
   "name": "conda-env-PROJ_irox_oer-py"
  },
  "language_info": {
   "codemirror_mode": {
    "name": "ipython",
    "version": 3
   },
   "file_extension": ".py",
   "mimetype": "text/x-python",
   "name": "python",
   "nbconvert_exporter": "python",
   "pygments_lexer": "ipython3",
   "version": "3.6.10"
  }
 },
 "nbformat": 4,
 "nbformat_minor": 4
}
