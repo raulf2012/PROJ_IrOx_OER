{
 "cells": [
  {
   "cell_type": "code",
   "execution_count": null,
   "metadata": {
    "jupyter": {}
   },
   "outputs": [],
   "source": [
    "import os\n",
    "print(os.getcwd())\n",
    "import sys\n",
    "\n",
    "import copy\n",
    "import shutil\n",
    "from pathlib import Path\n",
    "from contextlib import contextmanager\n",
    "\n",
    "# import pickle; import os\n",
    "\n",
    "import pickle\n",
    "import  json\n",
    "\n",
    "import pandas as pd\n",
    "import numpy as np\n",
    "\n",
    "from ase import io\n",
    "from ase.visualize import view\n",
    "\n",
    "import plotly.graph_objects as go\n",
    "\n",
    "from pymatgen.io.ase import AseAtomsAdaptor\n",
    "from pymatgen.analysis import local_env\n",
    "\n",
    "# #########################################################\n",
    "from misc_modules.pandas_methods import drop_columns\n",
    "\n",
    "from methods import read_magmom_comp_data\n",
    "\n",
    "import os\n",
    "import sys\n",
    "\n",
    "from IPython.display import display\n",
    "\n",
    "import pandas as pd\n",
    "pd.set_option(\"display.max_columns\", None)\n",
    "pd.options.display.max_colwidth = 20\n",
    "# pd.set_option('display.max_rows', None)\n",
    "\n",
    "# #########################################################\n",
    "from methods import (\n",
    "    get_df_jobs_paths,\n",
    "    get_df_dft,\n",
    "    get_df_job_ids,\n",
    "    get_df_jobs,\n",
    "    get_df_jobs_data,\n",
    "    get_df_slab,\n",
    "    get_df_slab_ids,\n",
    "    get_df_jobs_data_clusters,\n",
    "    get_df_jobs_anal,\n",
    "    get_df_slabs_oh,\n",
    "    get_df_init_slabs,\n",
    "    get_df_magmoms,\n",
    "    get_df_ads,\n",
    "    get_df_atoms_sorted_ind,\n",
    "    get_df_rerun_from_oh,\n",
    "    get_df_slab_simil,\n",
    "    get_df_active_sites,\n",
    "    get_df_features_targets,\n",
    "\n",
    "    get_other_job_ids_in_set,\n",
    "    read_magmom_comp_data,\n",
    "\n",
    "    get_df_coord,\n",
    "    get_df_slabs_to_run,\n",
    "    get_df_features,\n",
    "    )\n",
    "\n",
    "from misc_modules.pandas_methods import reorder_df_columns"
   ]
  },
  {
   "cell_type": "code",
   "execution_count": null,
   "metadata": {
    "jupyter": {}
   },
   "outputs": [],
   "source": [
    "df_dft = get_df_dft()\n",
    "df_job_ids = get_df_job_ids()\n",
    "df_jobs = get_df_jobs(exclude_wsl_paths=True)\n",
    "df_jobs_data = get_df_jobs_data(exclude_wsl_paths=True)\n",
    "df_jobs_data_clusters = get_df_jobs_data_clusters()\n",
    "df_slab = get_df_slab()\n",
    "df_slab_ids = get_df_slab_ids()\n",
    "df_jobs_anal = get_df_jobs_anal()\n",
    "df_jobs_paths = get_df_jobs_paths()\n",
    "df_slabs_oh = get_df_slabs_oh()\n",
    "df_init_slabs = get_df_init_slabs()\n",
    "df_magmoms = get_df_magmoms()\n",
    "df_ads = get_df_ads()\n",
    "df_atoms_sorted_ind = get_df_atoms_sorted_ind()\n",
    "df_rerun_from_oh = get_df_rerun_from_oh()\n",
    "magmom_data_dict = read_magmom_comp_data()\n",
    "df_slab_simil = get_df_slab_simil()\n",
    "df_active_sites = get_df_active_sites()\n",
    "df_features_targets = get_df_features_targets()\n",
    "df_slabs_to_run = get_df_slabs_to_run()\n",
    "df_features = get_df_features()"
   ]
  },
  {
   "cell_type": "code",
   "execution_count": null,
   "metadata": {
    "jupyter": {},
    "lines_to_next_cell": 0
   },
   "outputs": [],
   "source": [
    "def display_df(df, df_name, display_head=True, num_spaces=3):\n",
    "    print(40 * \"*\")\n",
    "    print(df_name)\n",
    "    print(\"df_i.shape:\", df_i.shape)\n",
    "    print(40 * \"*\")\n",
    "\n",
    "    if display_head:\n",
    "        display(df.head())\n",
    "\n",
    "    print(num_spaces * \"\\n\")\n",
    "\n",
    "df_list = [\n",
    "    (\"df_dft\", df_dft),\n",
    "    (\"df_job_ids\", df_job_ids),\n",
    "    (\"df_jobs\", df_jobs),\n",
    "    (\"df_jobs_data\", df_jobs_data),\n",
    "    (\"df_jobs_data_clusters\", df_jobs_data_clusters),\n",
    "    (\"df_slab\", df_slab),\n",
    "    (\"df_slab_ids\", df_slab_ids),\n",
    "    (\"df_jobs_anal\", df_jobs_anal),\n",
    "    (\"df_jobs_paths\", df_jobs_paths),\n",
    "    (\"df_slabs_oh\", df_slabs_oh),\n",
    "    (\"df_magmoms\", df_magmoms),\n",
    "    (\"df_ads\", df_ads),\n",
    "    (\"df_atoms_sorted_ind\", df_atoms_sorted_ind),\n",
    "    (\"df_rerun_from_oh\", df_rerun_from_oh),\n",
    "    (\"df_slab_simil\", df_slab_simil),\n",
    "    (\"df_active_sites\", df_active_sites),\n",
    "    ]\n",
    "\n",
    "# for name_i, df_i in df_list:\n",
    "#     display_df(df_i, name_i)\n",
    "\n",
    "# print(\"\")\n",
    "# print(\"\")\n",
    "\n",
    "# for name_i, df_i in df_list:\n",
    "#     display_df(\n",
    "#         df_i,\n",
    "#         name_i,\n",
    "#         display_head=False,\n",
    "#         num_spaces=0)"
   ]
  },
  {
   "cell_type": "code",
   "execution_count": null,
   "metadata": {},
   "outputs": [],
   "source": [
    "import plotly.graph_objs as go\n",
    "\n",
    "from proj_data import layout_shared\n",
    "from proj_data import stoich_color_dict, scatter_shared_props\n",
    "from proj_data import font_axis_title_size__pub, font_tick_labels_size__pub"
   ]
  },
  {
   "cell_type": "raw",
   "metadata": {},
   "source": [
    "\n"
   ],
   "execution_count": null,
   "outputs": []
  },
  {
   "cell_type": "code",
   "execution_count": null,
   "metadata": {},
   "outputs": [],
   "source": [
    "df_i = df_features_targets[[\n",
    "    (\"targets\", \"g_o\", \"\", ),\n",
    "    (\"targets\", \"g_oh\", \"\", ),\n",
    "    (\"targets\", \"g_o_m_oh\", \"\", ),\n",
    "\n",
    "    # (\"features\", \"o\", \"effective_ox_state\", ),\n",
    "    # (\"features\", \"oh\", \"effective_ox_state\", ),\n",
    "\n",
    "    (\"features\", \"effective_ox_state\", \"\", ),\n",
    "\n",
    "    ]]"
   ]
  },
  {
   "cell_type": "code",
   "execution_count": null,
   "metadata": {},
   "outputs": [],
   "source": [
    "# target = \"g_oh\"\n",
    "target = \"g_o\"\n",
    "\n",
    "feature_ads = \"oh\""
   ]
  },
  {
   "cell_type": "markdown",
   "metadata": {},
   "source": [
    "#### Figuring out the mean DG_O at every eff. ox. state"
   ],
   "execution_count": null,
   "outputs": []
  },
  {
   "cell_type": "code",
   "execution_count": null,
   "metadata": {},
   "outputs": [],
   "source": [
    "# eff_ox_vals = df_i[(\"features\", \"o\", \"effective_ox_state\")].unique()\n",
    "\n",
    "# eff_ox_vals = df_i[(\"features\", feature_ads, \"effective_ox_state\")].unique()\n",
    "eff_ox_vals = df_i[(\"features\", \"effective_ox_state\", \"\", )].unique()\n",
    "\n",
    "eff_ox_vals = eff_ox_vals.tolist()\n",
    "eff_ox_vals = list(np.sort(eff_ox_vals)[:-1])\n",
    "\n",
    "eff_ox_vals_uniq = list(np.unique(\n",
    "    [np.round(i, 10) for i in eff_ox_vals]\n",
    "    ))\n",
    "\n",
    "\n",
    "data_dict_list = []\n",
    "for eff_ox_i in eff_ox_vals_uniq:\n",
    "\n",
    "    # col_ind = (\"features\", feature_ads, \"effective_ox_state\")\n",
    "    col_ind = (\"features\", \"effective_ox_state\", \"\", )\n",
    "\n",
    "    df_tmp_0 = df_i[\n",
    "        (df_i[col_ind] < eff_ox_i + 0.001) & \\\n",
    "        (df_i[col_ind] > eff_ox_i - 0.001)\n",
    "        ]\n",
    "\n",
    "    ave_ads_e_i = df_tmp_0[(\"targets\", target, \"\")].mean()\n",
    "\n",
    "    # #####################################################\n",
    "    data_dict_i = dict()\n",
    "    # #####################################################\n",
    "    data_dict_i[\"eff_ox\"] = eff_ox_i\n",
    "    data_dict_i[\"ads_e_ave\"] = ave_ads_e_i\n",
    "    # #####################################################\n",
    "    data_dict_list.append(data_dict_i)\n",
    "    # #####################################################\n",
    "\n",
    "df_eff_ox_ave = pd.DataFrame(data_dict_list)"
   ]
  },
  {
   "cell_type": "markdown",
   "metadata": {},
   "source": [
    "### Drop some indiv. rows"
   ],
   "execution_count": null,
   "outputs": []
  },
  {
   "cell_type": "code",
   "execution_count": null,
   "metadata": {},
   "outputs": [],
   "source": [
    "rows_to_drop = [\n",
    "    # (\"sherlock\", \"vipikema_98\", 53.0, ),\n",
    "    (\"slac\", \"dabipilo_28\", 59.0, ),\n",
    "    (\"sherlock\", \"vipikema_98\", 47.0, ),\n",
    "    ]\n",
    "\n",
    "if False:\n",
    "    df_i = df_i.drop(index=rows_to_drop)"
   ]
  },
  {
   "cell_type": "code",
   "execution_count": null,
   "metadata": {},
   "outputs": [],
   "source": [
    "# df_i[df_i[(\"features\", \"oh\", \"effective_ox_state\", )] == 6.0]\n",
    "\n",
    "# df_i[df_i[(\"features\", \"oh\", \"effective_ox_state\", )] == 6.000000000000001]\n",
    "\n",
    "# df_i[(\"features\", \"oh\", \"effective_ox_state\", )].tolist()"
   ]
  },
  {
   "cell_type": "code",
   "execution_count": null,
   "metadata": {},
   "outputs": [],
   "source": [
    "df_j = df_i[[\n",
    "    (\"targets\", target, \"\"),\n",
    "    # (\"features\", feature_ads, \"effective_ox_state\"),\n",
    "    (\"features\", \"effective_ox_state\", \"\", ),\n",
    "    ]]\n",
    "\n",
    "df_j = df_j.dropna()"
   ]
  },
  {
   "cell_type": "code",
   "execution_count": null,
   "metadata": {},
   "outputs": [],
   "source": [
    "trace_mean = go.Scatter(\n",
    "    x=df_eff_ox_ave[\"eff_ox\"],\n",
    "    y=df_eff_ox_ave[\"ads_e_ave\"],\n",
    "    mode=\"markers+lines\",\n",
    "    marker=go.scatter.Marker(\n",
    "        size=8,\n",
    "        ),\n",
    "    line=go.scatter.Line(\n",
    "        color=\"black\",\n",
    "        width=2,\n",
    "        ),\n",
    "    )"
   ]
  },
  {
   "cell_type": "code",
   "execution_count": null,
   "metadata": {},
   "outputs": [],
   "source": [
    "scatter_shared_props_cpy = copy.deepcopy(scatter_shared_props)\n",
    "\n",
    "tmp = scatter_shared_props_cpy.update(dict(marker=dict(size=8, )))"
   ]
  },
  {
   "cell_type": "code",
   "execution_count": null,
   "metadata": {},
   "outputs": [],
   "source": [
    "layout_cpy = copy.deepcopy(layout_shared)\n",
    "\n",
    "if target == \"g_oh\":\n",
    "    y_axis_title = \"\u0394G<sub>OH</sub> (eV)\"\n",
    "elif target == \"g_o\":\n",
    "    y_axis_title = \"\u0394G<sub>O</sub> (eV)\"\n",
    "\n",
    "# layout_shared\n",
    "layout_mine = go.Layout(\n",
    "    # width=20 * 37.795275591,\n",
    "    # height=20 / 1.61803398875 * 37.795275591,\n",
    "\n",
    "    # width=14 * 37.795275591,\n",
    "    # height=14 / 1.61803398875 * 37.795275591,\n",
    "\n",
    "    # width=14 * 37.795275591,\n",
    "    # height=14 / 1.61803398875 * 37.795275591,\n",
    "\n",
    "    width=12 * 37.795275591,\n",
    "    height=12 / 1.61803398875 * 37.795275591,\n",
    "\n",
    "    margin=go.layout.Margin(\n",
    "        b=10, l=10,\n",
    "        r=10, t=10,\n",
    "        ),\n",
    "\n",
    "    showlegend=False,\n",
    "\n",
    "    xaxis=go.layout.XAxis(\n",
    "        tickfont=go.layout.xaxis.Tickfont(\n",
    "            size=font_tick_labels_size__pub,\n",
    "            ),\n",
    "\n",
    "        title=dict(\n",
    "            text=\"Ir Effective Oxidation State\",\n",
    "            font=dict(\n",
    "                size=font_axis_title_size__pub,\n",
    "                ),\n",
    "            )\n",
    "        ),\n",
    "    yaxis=go.layout.YAxis(\n",
    "        tickfont=go.layout.yaxis.Tickfont(\n",
    "            size=font_tick_labels_size__pub,\n",
    "            ),\n",
    "\n",
    "        title=dict(\n",
    "            # text=\"\u0394G<sub>OH</sub> (eV)\",\n",
    "            text=y_axis_title,\n",
    "            font=dict(\n",
    "                size=font_axis_title_size__pub,\n",
    "                ),\n",
    "            )\n",
    "        ),\n",
    "    )\n",
    "tmp = layout_cpy.update(layout_mine)\n",
    "\n",
    "\n",
    "\n",
    "\n",
    "\n",
    "\n",
    "\n",
    "ab2_indices = df_features_targets[\n",
    "    df_features_targets[(\"data\", \"stoich\", \"\", )] == \"AB2\"].index.tolist()\n",
    "ab3_indices = df_features_targets[\n",
    "    df_features_targets[(\"data\", \"stoich\", \"\", )] == \"AB3\"].index.tolist()\n",
    "\n",
    "df_j_ab3 = df_j.loc[\n",
    "    df_j.index.intersection(ab3_indices)\n",
    "    ]\n",
    "\n",
    "df_j_ab2 = df_j.loc[\n",
    "    df_j.index.intersection(ab2_indices)\n",
    "    ]\n",
    "\n",
    "\n",
    "\n",
    "\n",
    "\n",
    "# x_array = df_j_ab2[('features', feature_ads, 'effective_ox_state')]\n",
    "x_array = df_j_ab2[('features', 'effective_ox_state', \"\", )]\n",
    "y_array = df_j_ab2[('targets', target, '')]\n",
    "\n",
    "trace_ab2 = go.Scatter(\n",
    "    x=x_array,\n",
    "    y=y_array,\n",
    "    mode=\"markers\",\n",
    "    marker_color=stoich_color_dict[\"AB2\"],\n",
    "    )\n",
    "trace_ab2.update(\n",
    "    scatter_shared_props_cpy,\n",
    "    )\n",
    "\n",
    "# x_array = df_j_ab3[('features', feature_ads, 'effective_ox_state')]\n",
    "x_array = df_j_ab3[('features', 'effective_ox_state', \"\", )]\n",
    "y_array = df_j_ab3[('targets', target, '')]\n",
    "\n",
    "trace_ab3 = go.Scatter(\n",
    "    x=x_array,\n",
    "    y=y_array,\n",
    "    mode=\"markers\",\n",
    "    marker_color=stoich_color_dict[\"AB3\"],\n",
    "    )\n",
    "trace_ab3.update(\n",
    "    scatter_shared_props_cpy,\n",
    "    )\n",
    "\n",
    "\n",
    "\n",
    "\n",
    "data = [trace_mean, trace_ab2, trace_ab3, ]\n",
    "\n",
    "fig = go.Figure(data=data, layout=layout_cpy)\n",
    "fig.show()"
   ]
  },
  {
   "cell_type": "code",
   "execution_count": null,
   "metadata": {},
   "outputs": [],
   "source": [
    "df_j_ab3\n",
    "\n",
    "# df_j_ab2"
   ]
  },
  {
   "cell_type": "code",
   "execution_count": null,
   "metadata": {},
   "outputs": [],
   "source": [
    "# assert False"
   ]
  },
  {
   "cell_type": "code",
   "execution_count": null,
   "metadata": {},
   "outputs": [],
   "source": [
    "from plotting.my_plotly import my_plotly_plot\n",
    "\n",
    "my_plotly_plot(\n",
    "    figure=fig,\n",
    "    plot_name=\"G_O__vs__eff_ox\",\n",
    "    write_html=True,\n",
    "    write_pdf=True,\n",
    "    try_orca_write=True,\n",
    "    )"
   ]
  },
  {
   "cell_type": "markdown",
   "metadata": {},
   "source": [
    "## Creating box plots for Eff ox state"
   ],
   "execution_count": null,
   "outputs": []
  },
  {
   "cell_type": "code",
   "execution_count": null,
   "metadata": {},
   "outputs": [],
   "source": [
    "# import plotly.express as px\n",
    "# df = px.data.tips()\n",
    "# fig = px.box(df, x=\"time\", y=\"total_bill\")\n",
    "# fig.show()"
   ]
  },
  {
   "cell_type": "code",
   "execution_count": null,
   "metadata": {},
   "outputs": [],
   "source": [
    "# # df_j_ab3[(\"features\", \"oh\", \"effective_ox_state\", )] = np.round(\n",
    "# df_j_ab3[(\"features\", \"effective_ox_state\", \"\", )] = np.round(\n",
    "#     # df_j_ab3[(\"features\", \"oh\", \"effective_ox_state\", )],\n",
    "#     df_j_ab3[(\"features\", \"effective_ox_state\", \"\", )],\n",
    "#     5,\n",
    "#     )\n",
    "\n",
    "\n",
    "# # df_j_ab2[(\"features\", \"oh\", \"effective_ox_state\", )] = np.round(\n",
    "# df_j_ab2[(\"features\", \"effective_ox_state\", \"\", )] = np.round(\n",
    "#     # df_j_ab2[(\"features\", \"oh\", \"effective_ox_state\", )],\n",
    "#     df_j_ab2[(\"features\", \"effective_ox_state\", \"\", )],\n",
    "#     5,\n",
    "#     )"
   ]
  },
  {
   "cell_type": "code",
   "execution_count": null,
   "metadata": {},
   "outputs": [],
   "source": [
    "# df_j_ab3.columns.tolist()\n",
    "\n",
    "# ('targets', 'g_o', '')\n",
    "# ('features', 'oh', 'effective_ox_state')"
   ]
  },
  {
   "cell_type": "code",
   "execution_count": null,
   "metadata": {},
   "outputs": [],
   "source": [
    "new_cols = []\n",
    "for col_i in df_j_ab2.columns:\n",
    "    if col_i[0] == \"targets\":\n",
    "        new_col_i = \"target\"\n",
    "        new_cols.append(new_col_i)\n",
    "    elif col_i[0] == \"features\":\n",
    "        new_col_i = \"eff_ox\"\n",
    "        new_cols.append(new_col_i)\n",
    "    else:\n",
    "        new_cols.append(\"TEMP\")\n",
    "\n",
    "# new_cols\n",
    "\n",
    "df_j_ab2.columns = new_cols\n",
    "\n",
    "# df_j_ab3"
   ]
  },
  {
   "cell_type": "code",
   "execution_count": null,
   "metadata": {},
   "outputs": [],
   "source": [
    "df_j_ab3"
   ]
  },
  {
   "cell_type": "code",
   "execution_count": null,
   "metadata": {},
   "outputs": [],
   "source": [
    "new_cols = []\n",
    "for col_i in df_j_ab3.columns:\n",
    "    if col_i[0] == \"targets\":\n",
    "        new_col_i = \"target\"\n",
    "        new_cols.append(new_col_i)\n",
    "    elif col_i[0] == \"features\":\n",
    "        new_col_i = \"eff_ox\"\n",
    "        new_cols.append(new_col_i)\n",
    "    else:\n",
    "        new_cols.append(\"TEMP\")\n",
    "\n",
    "# new_cols\n",
    "\n",
    "df_j_ab3.columns = new_cols\n",
    "\n",
    "df_j_ab3"
   ]
  },
  {
   "cell_type": "code",
   "execution_count": null,
   "metadata": {},
   "outputs": [],
   "source": [
    "df_j_2 = pd.concat([\n",
    "    df_j_ab2,\n",
    "    df_j_ab3,\n",
    "    ],\n",
    "    axis=0)\n",
    "\n",
    "df_j_2"
   ]
  },
  {
   "cell_type": "code",
   "execution_count": null,
   "metadata": {},
   "outputs": [],
   "source": [
    "import plotly.express as px\n",
    "\n",
    "# df = px.data.tips()\n",
    "# df = df_j_ab3\n",
    "df = df_j_2\n",
    "\n",
    "fig = px.box(df, x=\"eff_ox\", y=\"target\")\n",
    "fig.show()"
   ]
  },
  {
   "cell_type": "code",
   "execution_count": null,
   "metadata": {},
   "outputs": [],
   "source": [
    "# fig.layout"
   ]
  },
  {
   "cell_type": "code",
   "execution_count": null,
   "metadata": {},
   "outputs": [],
   "source": [
    "# df"
   ]
  },
  {
   "cell_type": "code",
   "execution_count": null,
   "metadata": {},
   "outputs": [],
   "source": [
    "layout_cpy = copy.deepcopy(layout_shared)\n",
    "\n",
    "if target == \"g_oh\":\n",
    "    y_axis_title = \"\u0394G<sub>OH</sub> (eV)\"\n",
    "elif target == \"g_o\":\n",
    "    y_axis_title = \"\u0394G<sub>O</sub> (eV)\"\n",
    "\n",
    "# layout_shared\n",
    "layout_mine = go.Layout(\n",
    "    # width=20 * 37.795275591,\n",
    "    # height=20 / 1.61803398875 * 37.795275591,\n",
    "\n",
    "    # width=14 * 37.795275591,\n",
    "    # height=14 / 1.61803398875 * 37.795275591,\n",
    "\n",
    "    # width=14 * 37.795275591,\n",
    "    # height=14 / 1.61803398875 * 37.795275591,\n",
    "\n",
    "    width=12 * 37.795275591,\n",
    "    height=12 / 1.61803398875 * 37.795275591,\n",
    "\n",
    "    margin=go.layout.Margin(\n",
    "        b=10, l=10,\n",
    "        r=10, t=10,\n",
    "        ),\n",
    "\n",
    "    showlegend=False,\n",
    "\n",
    "    xaxis=go.layout.XAxis(\n",
    "        tickfont=go.layout.xaxis.Tickfont(\n",
    "            size=font_tick_labels_size__pub,\n",
    "            ),\n",
    "\n",
    "        title=dict(\n",
    "            text=\"Ir Effective Oxidation State\",\n",
    "            font=dict(\n",
    "                size=font_axis_title_size__pub,\n",
    "                ),\n",
    "            )\n",
    "        ),\n",
    "    yaxis=go.layout.YAxis(\n",
    "        tickfont=go.layout.yaxis.Tickfont(\n",
    "            size=font_tick_labels_size__pub,\n",
    "            ),\n",
    "\n",
    "        title=dict(\n",
    "            # text=\"\u0394G<sub>OH</sub> (eV)\",\n",
    "            text=y_axis_title,\n",
    "            font=dict(\n",
    "                size=font_axis_title_size__pub,\n",
    "                ),\n",
    "            )\n",
    "        ),\n",
    "    )\n",
    "tmp = layout_cpy.update(layout_mine)\n"
   ]
  },
  {
   "cell_type": "code",
   "execution_count": null,
   "metadata": {},
   "outputs": [],
   "source": [
    "fig.update_layout(dict1=layout_cpy)"
   ]
  },
  {
   "cell_type": "code",
   "execution_count": null,
   "metadata": {},
   "outputs": [],
   "source": [
    "from plotting.my_plotly import my_plotly_plot\n"
   ]
  },
  {
   "cell_type": "code",
   "execution_count": null,
   "metadata": {},
   "outputs": [],
   "source": [
    "my_plotly_plot(\n",
    "    figure=fig,\n",
    "    save_dir=None,\n",
    "    place_in_out_plot=True,\n",
    "    plot_name=\"box_plot_G_O_eff_ox\",\n",
    "    write_html=True,\n",
    "    write_png=False,\n",
    "    png_scale=6.0,\n",
    "    write_pdf=False,\n",
    "    write_svg=False,\n",
    "    try_orca_write=True,\n",
    "    verbose=False,\n",
    "    )"
   ]
  },
  {
   "cell_type": "code",
   "execution_count": null,
   "metadata": {},
   "outputs": [],
   "source": [
    "# df_eff_ox_ave"
   ]
  },
  {
   "cell_type": "raw",
   "metadata": {},
   "source": [
    "\n",
    "\n"
   ],
   "execution_count": null,
   "outputs": []
  },
  {
   "cell_type": "code",
   "execution_count": null,
   "metadata": {
    "jupyter": {}
   },
   "outputs": [],
   "source": [
    "# layout_cpy"
   ]
  },
  {
   "cell_type": "code",
   "execution_count": null,
   "metadata": {
    "jupyter": {}
   },
   "outputs": [],
   "source": [
    "# eff_ox_vals"
   ]
  },
  {
   "cell_type": "code",
   "execution_count": null,
   "metadata": {
    "jupyter": {}
   },
   "outputs": [],
   "source": [
    "# np.sort(df_j[(\"features\", \"oh\", \"effective_ox_state\", )].tolist()).tolist()"
   ]
  },
  {
   "cell_type": "code",
   "execution_count": null,
   "metadata": {
    "jupyter": {}
   },
   "outputs": [],
   "source": [
    "# import chart_studio.plotly as py\n",
    "# import plotly.graph_objs as go\n",
    "\n",
    "# import os\n",
    "\n",
    "# x_array = [0, 1, 2, 3]\n",
    "# y_array = [0, 1, 2, 3]\n",
    "\n",
    "\n",
    "# trace = go.Scatter(\n",
    "#     x=x_array,\n",
    "#     y=y_array,\n",
    "#     mode=\"markers\",\n",
    "#     opacity=0.8,\n",
    "#     marker=dict(\n",
    "\n",
    "#         symbol=\"circle\",\n",
    "#         color='LightSkyBlue',\n",
    "\n",
    "#         opacity=0.8,\n",
    "\n",
    "#         # color=z,\n",
    "#         colorscale='Viridis',\n",
    "#         colorbar=dict(thickness=20),\n",
    "\n",
    "#         size=20,\n",
    "#         line=dict(\n",
    "#             color='MediumPurple',\n",
    "#             width=2\n",
    "#             )\n",
    "#         ),\n",
    "\n",
    "#     line=dict(\n",
    "#         color=\"firebrick\",\n",
    "#         width=2,\n",
    "#         dash=\"dot\",\n",
    "#         ),\n",
    "\n",
    "#     error_y={\n",
    "#         \"type\": 'data',\n",
    "#         \"array\": [0.4, 0.9, 0.3, 1.1],\n",
    "#         \"visible\": True,\n",
    "#         },\n",
    "\n",
    "#     )\n",
    "\n",
    "# data = [trace]\n",
    "\n",
    "# fig = go.Figure(data=data)\n",
    "# fig.show()"
   ]
  },
  {
   "cell_type": "code",
   "execution_count": null,
   "metadata": {
    "jupyter": {}
   },
   "outputs": [],
   "source": [
    "\n",
    "# go.scatter.Marker?"
   ]
  },
  {
   "cell_type": "code",
   "execution_count": null,
   "metadata": {
    "jupyter": {}
   },
   "outputs": [],
   "source": [
    "# go.Scatter?\n",
    "# go.scatter.Line?"
   ]
  },
  {
   "cell_type": "code",
   "execution_count": null,
   "metadata": {
    "jupyter": {}
   },
   "outputs": [],
   "source": [
    "# tmp"
   ]
  },
  {
   "cell_type": "code",
   "execution_count": null,
   "metadata": {
    "jupyter": {}
   },
   "outputs": [],
   "source": [
    "# font_axis_title_size__pub, font_tick_labels_size__pub"
   ]
  },
  {
   "cell_type": "code",
   "execution_count": null,
   "metadata": {
    "jupyter": {}
   },
   "outputs": [],
   "source": [
    "# layout.XAxis({\n",
    "#     'linecolor': 'black',\n",
    "#     'mirror': True,\n",
    "#     'showgrid': False,\n",
    "#     'showline': True,\n",
    "#     'tickcolor': 'black',\n",
    "#     'tickfont': {'family': 'Arial', 'size': 20.0},\n",
    "#     'ticks': 'outside',\n",
    "#     'title': {'font': {'color': 'black', 'family': 'Arial', 'size': 24.0}, 'text': 'Ir Effective Oxidation State'}\n",
    "# })"
   ]
  },
  {
   "cell_type": "code",
   "execution_count": null,
   "metadata": {
    "jupyter": {}
   },
   "outputs": [],
   "source": [
    "# font_tick_labels_size__pub"
   ]
  },
  {
   "cell_type": "code",
   "execution_count": null,
   "metadata": {
    "jupyter": {}
   },
   "outputs": [],
   "source": [
    "# fig.layout.xaxis.tickfont\n",
    "\n",
    "# layout.xaxis.Tickfont({\n",
    "#     'family': 'Arial', 'size': 20.0\n",
    "# })"
   ]
  },
  {
   "cell_type": "code",
   "execution_count": null,
   "metadata": {},
   "outputs": [],
   "source": [
    "# fig.layout.xaxis.tickfont\n",
    "\n",
    "# layout.xaxis.Tickfont({\n",
    "#     'family': 'Arial', 'size': 20.0\n",
    "# })"
   ]
  }
 ],
 "metadata": {
  "jupytext": {
   "formats": "ipynb,py"
  },
  "kernelspec": {
   "display_name": "Python [conda env:PROJ_irox_oer] *",
   "language": "python",
   "name": "conda-env-PROJ_irox_oer-py"
  },
  "language_info": {
   "codemirror_mode": {
    "name": "ipython",
    "version": 3
   },
   "file_extension": ".py",
   "mimetype": "text/x-python",
   "name": "python",
   "nbconvert_exporter": "python",
   "pygments_lexer": "ipython3",
   "version": "3.6.10"
  }
 },
 "nbformat": 4,
 "nbformat_minor": 4
}
