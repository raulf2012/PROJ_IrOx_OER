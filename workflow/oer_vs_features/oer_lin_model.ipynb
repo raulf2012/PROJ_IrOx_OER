{
 "cells": [
  {
   "cell_type": "markdown",
   "metadata": {},
   "source": [
    "# Constructing linear model for OER adsorption energies\n",
    "---\n"
   ],
   "execution_count": null,
   "outputs": []
  },
  {
   "cell_type": "markdown",
   "metadata": {},
   "source": [
    "### Import Modules"
   ],
   "execution_count": null,
   "outputs": []
  },
  {
   "cell_type": "code",
   "execution_count": null,
   "metadata": {},
   "outputs": [],
   "source": [
    "import os\n",
    "print(os.getcwd())\n",
    "import sys\n",
    "import time; ti = time.time()\n",
    "\n",
    "import copy\n",
    "\n",
    "import numpy as np\n",
    "import pandas as pd\n",
    "pd.set_option(\"display.max_columns\", None)\n",
    "\n",
    "# #########################################################\n",
    "from layout import layout\n",
    "\n",
    "# #########################################################\n",
    "from local_methods import create_linear_model_plot\n",
    "from local_methods import isolate_target_col"
   ]
  },
  {
   "cell_type": "code",
   "execution_count": null,
   "metadata": {},
   "outputs": [],
   "source": [
    "from methods import isnotebook    \n",
    "isnotebook_i = isnotebook()\n",
    "if isnotebook_i:\n",
    "    from tqdm.notebook import tqdm\n",
    "    verbose = True\n",
    "    show_plot = True\n",
    "else:\n",
    "    from tqdm import tqdm\n",
    "    verbose = False\n",
    "    show_plot = False"
   ]
  },
  {
   "cell_type": "markdown",
   "metadata": {},
   "source": [
    "### Read Data"
   ],
   "execution_count": null,
   "outputs": []
  },
  {
   "cell_type": "code",
   "execution_count": null,
   "metadata": {},
   "outputs": [],
   "source": [
    "from methods import get_df_features_targets\n",
    "df_features_targets = get_df_features_targets()\n",
    "\n",
    "from methods import get_df_slab\n",
    "df_slab = get_df_slab()\n",
    "\n",
    "# #########################################################\n",
    "df_i = df_features_targets\n",
    "\n",
    "# Getting phase > 1 slab ids\n",
    "df_slab_i = df_slab[df_slab.phase > 1]\n",
    "phase_2_slab_ids = df_slab_i.slab_id.tolist()"
   ]
  },
  {
   "cell_type": "code",
   "execution_count": null,
   "metadata": {},
   "outputs": [],
   "source": [
    "print(\n",
    "    \"Number of rows in df_features_targets:\",\n",
    "    df_i.shape[0],\n",
    "    )\n",
    "\n",
    "# 150"
   ]
  },
  {
   "cell_type": "markdown",
   "metadata": {},
   "source": [
    "# Dropping phase 1 slabs"
   ],
   "execution_count": null,
   "outputs": []
  },
  {
   "cell_type": "code",
   "execution_count": null,
   "metadata": {},
   "outputs": [],
   "source": [
    "df_index = df_i.index.to_frame()\n",
    "df_index_i = df_index[\n",
    "    df_index.slab_id.isin(phase_2_slab_ids)\n",
    "    ]\n",
    "\n",
    "print(\"Dropping phase 1 slabs\")\n",
    "df_i = df_i.loc[\n",
    "    df_index_i.index\n",
    "    ]"
   ]
  },
  {
   "cell_type": "code",
   "execution_count": null,
   "metadata": {},
   "outputs": [],
   "source": [
    "# Keeping track of shape, dropping phase 1 points\n",
    "# 95\n",
    "# 118\n",
    "# 126\n",
    "# 132\n",
    "# 163\n",
    "# 176\n",
    "# 183\n",
    "# 199\n",
    "# 214\n",
    "# 233\n",
    "# 254\n",
    "# 267\n",
    "# 280\n",
    "# 300\n",
    "# 315\n",
    "# 325\n",
    "# 334\n",
    "# 352 | Sun Jan 31 22:26:52 PST 2021\n",
    "# 363 | Tue Feb  9 12:43:35 PST 2021\n",
    "# 374 | Tue Feb 16 15:26:42 PST 2021\n",
    "# 385 | Sat Feb 20 13:41:31 PST 2021\n",
    "# 393 | Sat Mar 13 12:13:26 PST 2021\n",
    "        \n",
    "df_i.shape"
   ]
  },
  {
   "cell_type": "markdown",
   "metadata": {},
   "source": [
    "### Dropping `p_band_center` for now, very few points"
   ],
   "execution_count": null,
   "outputs": []
  },
  {
   "cell_type": "code",
   "execution_count": null,
   "metadata": {},
   "outputs": [],
   "source": [
    "df_i = df_i.drop(columns=[\n",
    "    (\"features\", \"o\", \"p_band_center\", ),\n",
    "    # (\"features_stan\", \"o\", \"p_band_center\", ),\n",
    "    ])"
   ]
  },
  {
   "cell_type": "code",
   "execution_count": null,
   "metadata": {},
   "outputs": [],
   "source": [
    "from proj_data import layout_shared\n",
    "\n",
    "layout_master = layout_shared.update(layout)"
   ]
  },
  {
   "cell_type": "markdown",
   "metadata": {},
   "source": [
    "# -------------------------"
   ],
   "execution_count": null,
   "outputs": []
  },
  {
   "cell_type": "markdown",
   "metadata": {},
   "source": [
    "# All single feature models"
   ],
   "execution_count": null,
   "outputs": []
  },
  {
   "cell_type": "markdown",
   "metadata": {},
   "source": [
    "## G_O models"
   ],
   "execution_count": null,
   "outputs": []
  },
  {
   "cell_type": "code",
   "execution_count": null,
   "metadata": {},
   "outputs": [],
   "source": [
    "ads_i = \"o\"\n",
    "feature_ads_i = \"oh\"\n",
    "\n",
    "# if True:\n",
    "#     feature_col_i = \"active_o_metal_dist\"\n",
    "\n",
    "# if True:\n",
    "if False:\n",
    "    print(\n",
    "        list(df_i[\"features_stan\"][ads_i].columns)\n",
    "        )\n",
    "\n",
    "\n",
    "    for feature_col_i in df_i[\"features_stan\"][ads_i].columns:\n",
    "        print(40 * \"=\")\n",
    "        print(feature_col_i)\n",
    "        print(\"\")\n",
    "\n",
    "        df_j = isolate_target_col(\n",
    "            df_i,\n",
    "            target_col=\"g_o\",\n",
    "            )\n",
    "\n",
    "        out_dict = create_linear_model_plot(\n",
    "            df=df_j,\n",
    "            feature_columns=[feature_col_i, ],\n",
    "            ads=ads_i,\n",
    "            feature_ads=feature_ads_i,\n",
    "            layout=layout_master,\n",
    "            verbose=verbose,\n",
    "            )\n",
    "        fig = out_dict[\"fig\"]\n",
    "        fig.show()"
   ]
  },
  {
   "cell_type": "markdown",
   "metadata": {},
   "source": [
    "## G_OH models"
   ],
   "execution_count": null,
   "outputs": []
  },
  {
   "cell_type": "code",
   "execution_count": null,
   "metadata": {},
   "outputs": [],
   "source": [
    "ads_i = \"oh\"\n",
    "feature_ads_i = \"o\"\n",
    "\n",
    "# if True:\n",
    "if False:\n",
    "\n",
    "    # for feature_col_i in df_i.features_stan.columns:\n",
    "    for feature_col_i in df_i[\"features_stan\"][ads_i].columns:\n",
    "\n",
    "        print(40 * \"=\")\n",
    "        print(feature_col_i)\n",
    "        print(\"\")\n",
    "\n",
    "        df_j = isolate_target_col(\n",
    "            df_i,\n",
    "            target_col=\"g_\" + ads_i,\n",
    "            )\n",
    "\n",
    "        out_dict = create_linear_model_plot(\n",
    "            df=df_j,\n",
    "            feature_columns=[feature_col_i, ],\n",
    "            ads=ads_i,\n",
    "            feature_ads=feature_ads_i,\n",
    "            layout=layout_master,\n",
    "            verbose=verbose,\n",
    "            )\n",
    "        fig = out_dict[\"fig\"]\n",
    "        fig.show()"
   ]
  },
  {
   "cell_type": "raw",
   "metadata": {},
   "source": [
    "\n",
    "\n",
    "\n"
   ],
   "execution_count": null,
   "outputs": []
  },
  {
   "cell_type": "markdown",
   "metadata": {},
   "source": [
    "# -------------------------"
   ],
   "execution_count": null,
   "outputs": []
  },
  {
   "cell_type": "markdown",
   "metadata": {},
   "source": [
    "# G_O Model"
   ],
   "execution_count": null,
   "outputs": []
  },
  {
   "cell_type": "code",
   "execution_count": null,
   "metadata": {},
   "outputs": [],
   "source": [
    "filter_cols = [\n",
    "\n",
    "    ('targets', 'g_o', ''),\n",
    "    # ('targets', 'g_oh', ''),\n",
    "    # ('targets', 'g_o_m_oh', ''),\n",
    "\n",
    "\n",
    "    # ('features', 'oh', 'O_magmom'),\n",
    "    # ('features', 'oh', 'Ir_magmom'),\n",
    "    # ('features', 'oh', 'active_o_metal_dist'),\n",
    "    # ('features', 'oh', 'angle_O_Ir_surf_norm'),\n",
    "    # ('features', 'oh', 'ir_o_mean'),\n",
    "    # ('features', 'oh', 'ir_o_std'),\n",
    "    # ('features', 'oh', 'octa_vol'),\n",
    "\n",
    "    ('features', 'o', 'O_magmom'),\n",
    "    ('features', 'o', 'Ir_magmom'),\n",
    "    ('features', 'o', 'Ir*O_bader'),\n",
    "    ('features', 'o', 'Ir_bader'),\n",
    "    ('features', 'o', 'O_bader'),\n",
    "    ('features', 'o', 'active_o_metal_dist'),\n",
    "    ('features', 'o', 'angle_O_Ir_surf_norm'),\n",
    "    ('features', 'o', 'ir_o_mean'),\n",
    "    ('features', 'o', 'ir_o_std'),\n",
    "    ('features', 'o', 'octa_vol'),\n",
    "    ('features', 'o', 'Ir*O_bader/ir_o_mean'),\n",
    "\n",
    "    ('features', 'dH_bulk', ''),\n",
    "    ('features', 'volume_pa', ''),\n",
    "    ('features', 'bulk_oxid_state', ''),\n",
    "    ('features', 'effective_ox_state', ''),\n",
    "\n",
    "\n",
    "    # ('features_pre_dft', 'active_o_metal_dist__pre', ''),\n",
    "    # ('features_pre_dft', 'ir_o_mean__pre', ''),\n",
    "    # ('features_pre_dft', 'ir_o_std__pre', ''),\n",
    "    # ('features_pre_dft', 'octa_vol__pre', ''),\n",
    "\n",
    "    ]\n",
    "\n",
    "\n",
    "\n",
    "df_i = df_i[filter_cols]"
   ]
  },
  {
   "cell_type": "code",
   "execution_count": null,
   "metadata": {},
   "outputs": [],
   "source": [
    "new_cols = []\n",
    "for col_i in df_i.columns:\n",
    "    if col_i[0] == \"features\":\n",
    "        if col_i[1] in [\"o\", \"oh\", \"ooh\", \"bare\", ]:\n",
    "            new_col_i = (\"features\", col_i[2], )\n",
    "        elif col_i[2] == \"\":\n",
    "            # new_col_i = col_i[1]\n",
    "            new_col_i = (\"features\", col_i[1], )\n",
    "        else:\n",
    "            print(col_i)\n",
    "            # new_col_i = \"TEMP\"\n",
    "            new_col_i = (\"features\", \"TEMP\", )\n",
    "\n",
    "    elif col_i[0] == \"targets\":\n",
    "        # new_col_i = col_i[1]\n",
    "        new_col_i = (\"targets\", col_i[1], )\n",
    "\n",
    "    else:\n",
    "        print(col_i)\n",
    "        # new_col_i = \"TEMP\"\n",
    "        new_col_i = (\"TEMP\", \"TEMP\", )\n",
    "\n",
    "    new_cols.append(new_col_i)\n",
    "\n",
    "# new_cols\n",
    "\n",
    "idx = pd.MultiIndex.from_tuples(new_cols)\n",
    "df_i.columns = idx\n",
    "\n",
    "# df_i.columns = new_cols"
   ]
  },
  {
   "cell_type": "code",
   "execution_count": null,
   "metadata": {},
   "outputs": [],
   "source": [
    "df_i"
   ]
  },
  {
   "cell_type": "code",
   "execution_count": null,
   "metadata": {
    "lines_to_next_cell": 0
   },
   "outputs": [],
   "source": [
    "ads_i = \"o\"\n",
    "feature_ads_i = \"oh\"\n",
    "\n",
    "df_j = df_i\n",
    "\n",
    "# df_j = isolate_target_col(\n",
    "#     df_i,\n",
    "#     target_col=\"g_o\",\n",
    "#     # target_col=\"g_oh\",\n",
    "#     )\n",
    "\n",
    "# feature_cols_all = list(df_j[\"features_stan\"][ads_i].columns)\n",
    "# feature_cols_all = list(df_j[\"features\"][ads_i].columns)\n",
    "\n",
    "feature_cols_all = df_j[\"features\"].columns.tolist()\n",
    "\n",
    "format_dict_i = {\n",
    "    \"color\": \"stoich\",\n",
    "    }\n",
    "\n",
    "df_j = df_j.dropna()\n",
    "\n",
    "out_dict = create_linear_model_plot(\n",
    "    df=df_j,\n",
    "    layout=layout_master,\n",
    "    ads=ads_i,\n",
    "    feature_ads=feature_ads_i,\n",
    "    format_dict=format_dict_i,\n",
    "\n",
    "    # feature_columns=[\"eff_oxid_state\", \"octa_vol\", \"dH_bulk\", ],\n",
    "    # feature_columns=[\"eff_oxid_state\", \"octa_vol\", \"dH_bulk\", \"bulk_oxid_state\", ],\n",
    "    feature_columns=feature_cols_all,\n",
    "    verbose=verbose,\n",
    "    )\n",
    "\n",
    "fig = out_dict[\"fig\"]\n",
    "\n",
    "fig.write_json(\n",
    "    os.path.join(\n",
    "        os.environ[\"PROJ_irox_oer\"],\n",
    "        \"workflow/oer_vs_features\",\n",
    "        \"out_plot/oer_lin_model__G_O_plot.json\"))"
   ]
  },
  {
   "cell_type": "code",
   "execution_count": null,
   "metadata": {},
   "outputs": [],
   "source": [
    "# df_i[\"features\"][\"octa_vol\"]"
   ]
  },
  {
   "cell_type": "code",
   "execution_count": null,
   "metadata": {},
   "outputs": [],
   "source": [
    "# assert False"
   ]
  },
  {
   "cell_type": "code",
   "execution_count": null,
   "metadata": {},
   "outputs": [],
   "source": [
    "if show_plot:\n",
    "    fig.show()"
   ]
  },
  {
   "cell_type": "raw",
   "metadata": {},
   "source": [
    "\n",
    "\n",
    "\n"
   ],
   "execution_count": null,
   "outputs": []
  },
  {
   "cell_type": "markdown",
   "metadata": {},
   "source": [
    "# G_OH Model"
   ],
   "execution_count": null,
   "outputs": []
  },
  {
   "cell_type": "code",
   "execution_count": null,
   "metadata": {},
   "outputs": [],
   "source": [
    "ads_i = \"oh\"\n",
    "feature_ads_i = \"oh\"\n",
    "\n",
    "df_j = df_i\n",
    "df_j = df_j.dropna()\n",
    "\n",
    "# df_j = isolate_target_col(\n",
    "#     df_i,\n",
    "#     target_col=\"g_oh\",\n",
    "#     )\n",
    "\n",
    "\n",
    "# feature_cols_all = list(df_j[\"features_stan\"][ads_i].columns)\n",
    "feature_cols_all = df_j[\"features\"].columns.tolist()\n",
    "\n",
    "\n",
    "out_dict = create_linear_model_plot(\n",
    "    df=df_j,\n",
    "    layout=layout_master,\n",
    "    feature_ads=feature_ads_i,\n",
    "    ads=ads_i,\n",
    "    format_dict=format_dict_i,\n",
    "\n",
    "    # feature_columns=[\"eff_oxid_state\", \"octa_vol\", \"dH_bulk\", ],\n",
    "    # feature_columns=[\"eff_oxid_state\", \"octa_vol\", \"dH_bulk\", \"bulk_oxid_state\", ],\n",
    "    # feature_columns=[\"eff_oxid_state\", \"octa_vol\", \"dH_bulk\", \"bulk_oxid_state\", \"ir_o_mean\", ],\n",
    "    feature_columns=feature_cols_all,\n",
    "    verbose=verbose,\n",
    "    )\n",
    "fig = out_dict[\"fig\"]\n",
    "\n",
    "fig.write_json(\n",
    "    os.path.join(\n",
    "        os.environ[\"PROJ_irox_oer\"],\n",
    "        \"workflow/oer_vs_features\",\n",
    "        \"out_plot/oer_lin_model__G_OH_plot.json\"))"
   ]
  },
  {
   "cell_type": "code",
   "execution_count": null,
   "metadata": {},
   "outputs": [],
   "source": [
    "if show_plot:\n",
    "    fig.show()"
   ]
  },
  {
   "cell_type": "raw",
   "metadata": {},
   "source": [
    "\n",
    "\n"
   ],
   "execution_count": null,
   "outputs": []
  },
  {
   "cell_type": "markdown",
   "metadata": {},
   "source": [
    "### Get index off of graph with str frag"
   ],
   "execution_count": null,
   "outputs": []
  },
  {
   "cell_type": "code",
   "execution_count": null,
   "metadata": {},
   "outputs": [],
   "source": [
    "df_ind = df_features_targets.index.to_frame()\n",
    "\n",
    "frag_i = \"vota\"\n",
    "for index_i, row_i in df_ind.iterrows():\n",
    "    name_i = row_i.compenv + \"__\" + row_i.slab_id\n",
    "    if frag_i in name_i:\n",
    "        print(index_i)"
   ]
  },
  {
   "cell_type": "code",
   "execution_count": null,
   "metadata": {},
   "outputs": [],
   "source": [
    "# #########################################################\n",
    "print(20 * \"# # \")\n",
    "print(\"All done!\")\n",
    "print(\"Run time:\", np.round((time.time() - ti) / 60, 3), \"min\")\n",
    "print(\"oer_lin_model.ipynb\")\n",
    "print(20 * \"# # \")\n",
    "# #########################################################"
   ]
  },
  {
   "cell_type": "raw",
   "metadata": {},
   "source": [
    "\n",
    "\n"
   ],
   "execution_count": null,
   "outputs": []
  },
  {
   "cell_type": "code",
   "execution_count": null,
   "metadata": {
    "jupyter": {}
   },
   "outputs": [],
   "source": [
    "# df=df_i\n",
    "# target_col=\"g_o\""
   ]
  },
  {
   "cell_type": "code",
   "execution_count": null,
   "metadata": {
    "jupyter": {}
   },
   "outputs": [],
   "source": [
    "# # def isolate_target_col(df, target_col=None):\n",
    "# \"\"\"\n",
    "# \"\"\"\n",
    "# #| - isolate_target_col\n",
    "# df_i = df\n",
    "# target_col_to_plot = target_col\n",
    "\n",
    "# cols_tuples = []\n",
    "# for col_i in list(df_i.columns):\n",
    "#     if \"features_stan\" in col_i[0]:\n",
    "#         cols_tuples.append(col_i)\n",
    "#     # elif col_i == (\"target_cols\", target_col_to_plot):\n",
    "#     elif col_i == (\"targets\", target_col_to_plot, \"\"):\n",
    "#         cols_tuples.append(col_i)\n",
    "#     elif col_i[0] == \"data\":\n",
    "#         cols_tuples.append(col_i)\n",
    "#     elif col_i[0] == \"format\":\n",
    "#         cols_tuples.append(col_i)\n",
    "#     else:\n",
    "#         # print(\"Woops:\", col_i)\n",
    "#         tmp = 42\n",
    "\n",
    "# df_j = df_i.loc[:, cols_tuples]\n",
    "\n",
    "# cols_to_check_nan_in = []\n",
    "# for col_i in df_j.columns:\n",
    "#     if \"features\" in col_i[0]:\n",
    "#         cols_to_check_nan_in.append(col_i)\n",
    "#     elif \"targets\" in col_i[0]:\n",
    "#         cols_to_check_nan_in.append(col_i)\n",
    "\n",
    "\n",
    "# # df_j = df_j.dropna(subset=cols_to_check_nan_in)  # TEMP\n",
    "\n",
    "# # df_j = df_j.dropna()\n",
    "\n",
    "# # return(df_j)\n",
    "# #__|"
   ]
  },
  {
   "cell_type": "code",
   "execution_count": null,
   "metadata": {
    "jupyter": {}
   },
   "outputs": [],
   "source": [
    "# df_j"
   ]
  },
  {
   "cell_type": "code",
   "execution_count": null,
   "metadata": {
    "jupyter": {}
   },
   "outputs": [],
   "source": [
    "# feature_cols_all"
   ]
  },
  {
   "cell_type": "code",
   "execution_count": null,
   "metadata": {
    "jupyter": {}
   },
   "outputs": [],
   "source": [
    "# assert False"
   ]
  },
  {
   "cell_type": "code",
   "execution_count": null,
   "metadata": {
    "jupyter": {}
   },
   "outputs": [],
   "source": [
    "# df_i.columns.tolist()"
   ]
  },
  {
   "cell_type": "code",
   "execution_count": null,
   "metadata": {
    "jupyter": {}
   },
   "outputs": [],
   "source": [
    "# df_i.columns.tolist()"
   ]
  },
  {
   "cell_type": "code",
   "execution_count": null,
   "metadata": {
    "jupyter": {}
   },
   "outputs": [],
   "source": [
    "# assert False"
   ]
  },
  {
   "cell_type": "code",
   "execution_count": null,
   "metadata": {
    "jupyter": {}
   },
   "outputs": [],
   "source": [
    "# assert False"
   ]
  },
  {
   "cell_type": "code",
   "execution_count": null,
   "metadata": {
    "jupyter": {}
   },
   "outputs": [],
   "source": [
    "# from sklearn.linear_model import LinearRegression\n",
    "# import plotly.graph_objs as go\n",
    "# from proj_data import scatter_marker_size\n",
    "# from plotting.my_plotly import my_plotly_plot"
   ]
  },
  {
   "cell_type": "code",
   "execution_count": null,
   "metadata": {
    "jupyter": {}
   },
   "outputs": [],
   "source": [
    "# df = df_j\n",
    "# # feature_columns = [feature_col_i, ]\n",
    "# feature_columns = feature_cols_all\n",
    "# ads = ads_i\n",
    "# feature_ads = feature_ads_i\n",
    "# layout = layout\n",
    "# verbose = True\n",
    "# save_plot_to_file = True\n",
    "\n",
    "# # def create_linear_model_plot(\n",
    "# #     df=None,\n",
    "# #     feature_columns=None,\n",
    "# #     ads=None,\n",
    "# #     feature_ads=None,\n",
    "# #     format_dict=None,\n",
    "# #     layout=None,\n",
    "# #     verbose=True,\n",
    "# #     save_plot_to_file=False,\n",
    "# #     ):\n",
    "# \"\"\"\n",
    "# \"\"\"\n",
    "# #| - create_linear_model_plot\n",
    "# # #####################################################\n",
    "# df_i = df\n",
    "# features_cols_to_include = feature_columns\n",
    "# # #####################################################\n",
    "\n",
    "# #| - Dropping feature columns\n",
    "# if features_cols_to_include is None or features_cols_to_include == \"all\":\n",
    "#     features_cols_to_include = df_i[\"features_stan\"][feature_ads].columns\n",
    "\n",
    "# cols_to_drop = []\n",
    "# # for col_i in df_i[\"features_stan\"][feature_ads].columns:\n",
    "# # for col_i in df_i[\"features\"][feature_ads].columns:\n",
    "# for col_i in df_i[\"features\"].columns:\n",
    "#     if col_i not in features_cols_to_include:\n",
    "#         cols_to_drop.append(col_i)\n",
    "# df_tmp = copy.deepcopy(df_i)\n",
    "\n",
    "# for col_i in cols_to_drop:\n",
    "#     df_i = df_i.drop(columns=[(\"features_stan\", feature_ads, col_i)])\n",
    "\n",
    "# # feature_cols = list(df_i.features_stan.columns)\n",
    "# # feature_cols = list(df_i[\"features_stan\"][feature_ads].columns)\n",
    "# feature_cols = list(df_i[\"features\"].columns)\n",
    "\n",
    "# # print(feature_cols)\n",
    "\n",
    "\n",
    "# plot_title = \" | \".join(feature_cols)\n",
    "# plot_title = \"Features: \" + plot_title\n",
    "# #__|\n",
    "\n",
    "# #| - Creating linear model\n",
    "# # X = df_i[\"features_stan\"][feature_ads].to_numpy()\n",
    "# # X = X.reshape(-1, len(df_i[\"features_stan\"][feature_ads].columns))\n",
    "\n",
    "# X = df_i[\"features\"].to_numpy()\n",
    "# X = X.reshape(-1, len(df_i[\"features\"].columns))\n",
    "\n",
    "# y = df_i.targets[\n",
    "#     df_i.targets.columns[0]\n",
    "#     ]\n",
    "\n",
    "# model = LinearRegression()\n",
    "# model.fit(X, y)\n",
    "\n",
    "# y_predict = model.predict(X)\n",
    "\n",
    "\n",
    "# #__|\n",
    "\n",
    "\n",
    "# # | - Put together model output y_pred and y into dataframe\n",
    "# # y = out_dict[\"y\"]\n",
    "# # y_predict = out_dict[\"y_predict\"]\n",
    "\n",
    "# y.name = y.name[0]\n",
    "# df_model_i = pd.DataFrame(y)\n",
    "\n",
    "# df_model_i.columns = [\"y\", ]\n",
    "\n",
    "# df_model_i[\"y_predict\"] = y_predict\n",
    "\n",
    "\n",
    "# df_model_i[\"diff\"] = df_model_i[\"y\"] - df_model_i[\"y_predict\"]\n",
    "\n",
    "# df_model_i[\"diff_abs\"] = np.abs(df_model_i[\"diff\"])\n",
    "# # __|\n",
    "\n",
    "\n",
    "# # Calculate Mean Absolute Error (MAE)\n",
    "# mae = df_model_i[\"diff_abs\"].sum() / df_model_i[\"diff\"].shape[0]\n",
    "\n",
    "\n",
    "\n",
    "# if verbose:\n",
    "#     print(20 * \"-\")\n",
    "#     print(\"model.score(X, y):\", model.score(X, y))\n",
    "#     print(\"Model MAE:\", mae)\n",
    "#     print(\"\")\n",
    "\n",
    "#     # print(feature_cols)\n",
    "#     # print(model.coef_)\n",
    "\n",
    "#     # for i, j in zip(list(df_i[\"features_stan\"][ads].columns), model.coef_):\n",
    "#     for i, j in zip(list(df_i[\"features\"].columns), model.coef_):\n",
    "#         print(i, \": \", j, sep=\"\")\n",
    "#     print(20 * \"-\")\n",
    "\n",
    "\n",
    "\n",
    "\n",
    "# #| - Plotting\n",
    "# data = []\n",
    "\n",
    "\n",
    "# from methods import get_df_slab\n",
    "# df_slab = get_df_slab()\n",
    "\n",
    "\n",
    "# #| - DEPRECATED | Getting colors ready\n",
    "# # df_slab_tmp = df_slab[[\"slab_id\", \"bulk_id\"]]\n",
    "# #\n",
    "# # bulk_id_slab_id_lists = np.reshape(\n",
    "# #     df_slab_tmp.to_numpy(),\n",
    "# #     (\n",
    "# #         2,\n",
    "# #         df_slab_tmp.shape[0],\n",
    "# #         )\n",
    "# #     )\n",
    "# #\n",
    "# # slab_bulk_mapp_dict = dict(zip(\n",
    "# #     list(bulk_id_slab_id_lists[0]),\n",
    "# #     list(bulk_id_slab_id_lists[1]),\n",
    "# #     ))\n",
    "# #\n",
    "# #\n",
    "# # slab_bulk_id_map_dict = dict()\n",
    "# # for i in df_slab_tmp.to_numpy():\n",
    "# #     slab_bulk_id_map_dict[i[0]] = i[1]\n",
    "# #\n",
    "# # # print(\"list(bulk_id_slab_id_lists[0]):\", list(bulk_id_slab_id_lists[0]))\n",
    "# # # print(\"\")\n",
    "# # # print(\"list(bulk_id_slab_id_lists[1]):\", list(bulk_id_slab_id_lists[1]))\n",
    "# # # print(\"\")\n",
    "# # # print(\"slab_bulk_mapp_dict:\", slab_bulk_mapp_dict)\n",
    "# #\n",
    "# # import random\n",
    "# # get_colors = lambda n: list(map(lambda i: \"#\" + \"%06x\" % random.randint(0, 0xFFFFFF),range(n)))\n",
    "# #\n",
    "# # slab_id_unique_list = df_i.index.to_frame()[\"slab_id\"].unique().tolist()\n",
    "# #\n",
    "# # bulk_id_list = []\n",
    "# # for slab_id_i in slab_id_unique_list:\n",
    "# #     # bulk_id_i = slab_bulk_mapp_dict[slab_id_i]\n",
    "# #     bulk_id_i = slab_bulk_id_map_dict[slab_id_i]\n",
    "# #     bulk_id_list.append(bulk_id_i)\n",
    "# #\n",
    "# # color_map_dict = dict(zip(\n",
    "# #     bulk_id_list,\n",
    "# #     get_colors(len(slab_id_unique_list)),\n",
    "# #     ))\n",
    "# #\n",
    "# # # Formatting processing\n",
    "# # color_list = []\n",
    "# # for name_i, row_i in df_i.iterrows():\n",
    "# #     # #################################################\n",
    "# #     slab_id_i = name_i[1]\n",
    "# #     # #################################################\n",
    "# #     phase_i = row_i[\"data\"][\"phase\"][\"\"]\n",
    "# #     stoich_i = row_i[\"data\"][\"stoich\"][\"\"]\n",
    "# #     sum_norm_abs_magmom_diff_i = row_i[\"data\"][\"sum_norm_abs_magmom_diff\"][\"\"]\n",
    "# #     norm_sum_norm_abs_magmom_diff_i = row_i[\"data\"][\"norm_sum_norm_abs_magmom_diff\"][\"\"]\n",
    "# #     # #################################################\n",
    "# #\n",
    "# #     # #################################################\n",
    "# #     row_slab_i = df_slab.loc[slab_id_i]\n",
    "# #     # #################################################\n",
    "# #     bulk_id_i = row_slab_i.bulk_id\n",
    "# #     # #################################################\n",
    "# #\n",
    "# #     bulk_color_i = color_map_dict[bulk_id_i]\n",
    "# #\n",
    "# #     if stoich_i == \"AB2\":\n",
    "# #         color_list.append(\"#46cf44\")\n",
    "# #     elif stoich_i == \"AB3\":\n",
    "# #         color_list.append(\"#42e3e3\")\n",
    "# #\n",
    "# #     # color_list.append(norm_sum_norm_abs_magmom_diff_i)\n",
    "# #     # color_list.append(bulk_color_i)\n",
    "# #__|\n",
    "\n",
    "\n",
    "# #| - Creating parity line\n",
    "# # x_parity = y_parity = np.linspace(0., 8., num=100, )\n",
    "# x_parity = y_parity = np.linspace(-2., 8., num=100, )\n",
    "\n",
    "# trace_i = go.Scatter(\n",
    "#     x=x_parity,\n",
    "#     y=y_parity,\n",
    "#     line=go.scatter.Line(color=\"black\", width=2.),\n",
    "#     mode=\"lines\")\n",
    "# data.append(trace_i)\n",
    "# #__|\n",
    "\n",
    "# #| - Main Data Trace\n",
    "\n",
    "# # color_list_i = df_i[\"format\"][\"color\"][format_dict[\"color\"]]\n",
    "\n",
    "# trace_i = go.Scatter(\n",
    "#     y=y,\n",
    "#     x=y_predict,\n",
    "#     mode=\"markers\",\n",
    "#     marker=go.scatter.Marker(\n",
    "#         # size=12,\n",
    "#         size=scatter_marker_size,\n",
    "\n",
    "#         # color=color_list_i,\n",
    "\n",
    "#         colorscale='Viridis',\n",
    "#         colorbar=dict(thickness=20),\n",
    "\n",
    "#         opacity=0.8,\n",
    "\n",
    "#         ),\n",
    "#     # text=df_i.name_str,\n",
    "#     # text=df_i.data.name_str,\n",
    "#     textposition=\"bottom center\",\n",
    "#     )\n",
    "# data.append(trace_i)\n",
    "# #__|\n",
    "\n",
    "# #| - Layout\n",
    "# # y_axis_target_col = df_i.target_cols.columns[0]\n",
    "# y_axis_target_col = df_i.targets.columns[0]\n",
    "# y_axis_target_col = y_axis_target_col[0]\n",
    "\n",
    "# if y_axis_target_col == \"g_o\":\n",
    "#     layout.xaxis.title.text = \"Predicted \u0394G<sub>*O</sub>\"\n",
    "#     layout.yaxis.title.text = \"Simulated \u0394G<sub>*O</sub>\"\n",
    "# elif y_axis_target_col == \"g_oh\":\n",
    "#     layout.xaxis.title.text = \"Predicted \u0394G<sub>*OH</sub>\"\n",
    "#     layout.yaxis.title.text = \"Simulated \u0394G<sub>*OH</sub>\"\n",
    "# else:\n",
    "#     print(\"Woops isdfsdf8osdfio\")\n",
    "\n",
    "# layout.xaxis.range = [2.5, 5.5]\n",
    "\n",
    "# layout.showlegend = False\n",
    "\n",
    "# dd = 0.2\n",
    "# layout.xaxis.range = [\n",
    "#     np.min(y_predict) - dd,\n",
    "#     np.max(y_predict) + dd,\n",
    "#     ]\n",
    "\n",
    "\n",
    "# layout.yaxis.range = [\n",
    "#     np.min(y) - dd,\n",
    "#     np.max(y) + dd,\n",
    "#     ]\n",
    "\n",
    "# layout.title = plot_title\n",
    "# #__|\n",
    "\n",
    "# fig = go.Figure(data=data, layout=layout)\n",
    "\n",
    "# if save_plot_to_file:\n",
    "#     my_plotly_plot(\n",
    "#         figure=fig,\n",
    "#         save_dir=os.path.join(\n",
    "#             os.environ[\"PROJ_irox_oer\"],\n",
    "#             \"workflow/oer_vs_features\",\n",
    "#             ),\n",
    "#         plot_name=\"parity_plot\",\n",
    "#         write_html=True)\n",
    "\n",
    "# #__|\n",
    "\n",
    "\n",
    "# # #####################################################\n",
    "# out_dict = dict()\n",
    "# # #####################################################\n",
    "# out_dict[\"fig\"] = fig\n",
    "# out_dict[\"df_model_i\"] = df_model_i\n",
    "# out_dict[\"mae\"] = mae\n",
    "\n",
    "# out_dict[\"X\"] = X\n",
    "# out_dict[\"y\"] = y\n",
    "# out_dict[\"y_predict\"] = y_predict\n",
    "# # #####################################################\n",
    "# # return(out_dict)\n",
    "# #__|"
   ]
  }
 ],
 "metadata": {
  "jupytext": {
   "encoding": "# -*- coding: utf-8 -*-",
   "formats": "ipynb,py:light"
  },
  "kernelspec": {
   "display_name": "Python [conda env:PROJ_irox_oer] *",
   "language": "python",
   "name": "conda-env-PROJ_irox_oer-py"
  },
  "language_info": {
   "codemirror_mode": {
    "name": "ipython",
    "version": 3
   },
   "file_extension": ".py",
   "mimetype": "text/x-python",
   "name": "python",
   "nbconvert_exporter": "python",
   "pygments_lexer": "ipython3",
   "version": "3.6.10"
  },
  "toc-autonumbering": false,
  "toc-showcode": false
 },
 "nbformat": 4,
 "nbformat_minor": 4
}
