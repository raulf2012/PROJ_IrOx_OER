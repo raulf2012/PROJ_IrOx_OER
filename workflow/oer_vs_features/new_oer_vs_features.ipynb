{
 "cells": [
  {
   "cell_type": "markdown",
   "metadata": {},
   "source": [
    "# Plotting OER quantities vs all individual descriptors\n",
    "---\n"
   ],
   "execution_count": null,
   "outputs": []
  },
  {
   "cell_type": "markdown",
   "metadata": {},
   "source": [
    "### Import Modules"
   ],
   "execution_count": null,
   "outputs": []
  },
  {
   "cell_type": "code",
   "execution_count": null,
   "metadata": {},
   "outputs": [],
   "source": [
    "import os\n",
    "print(os.getcwd())\n",
    "import sys\n",
    "import time; ti = time.time()\n",
    "\n",
    "\n",
    "import copy\n",
    "\n",
    "import numpy as np\n",
    "import pandas as pd\n",
    "pd.set_option(\"display.max_columns\", None)\n",
    "# pd.set_option('display.max_rows', None)\n",
    "# pd.options.display.max_colwidth = 100\n",
    "\n",
    "import plotly.graph_objs as go\n",
    "import plotly.express as px\n",
    "\n",
    "from methods import get_df_features_targets\n",
    "from methods import get_df_slab\n",
    "\n",
    "# #########################################################\n",
    "from layout import layout\n",
    "\n",
    "# #########################################################\n",
    "from local_methods import create_linear_model_plot\n",
    "from local_methods import isolate_target_col"
   ]
  },
  {
   "cell_type": "code",
   "execution_count": null,
   "metadata": {},
   "outputs": [],
   "source": [
    "from methods import isnotebook    \n",
    "isnotebook_i = isnotebook()\n",
    "if isnotebook_i:\n",
    "    from tqdm.notebook import tqdm\n",
    "    verbose = True\n",
    "    show_plot = True\n",
    "else:\n",
    "    from tqdm import tqdm\n",
    "    verbose = False\n",
    "    show_plot = False"
   ]
  },
  {
   "cell_type": "markdown",
   "metadata": {},
   "source": [
    "### Read Data"
   ],
   "execution_count": null,
   "outputs": []
  },
  {
   "cell_type": "code",
   "execution_count": null,
   "metadata": {},
   "outputs": [],
   "source": [
    "df_features_targets = get_df_features_targets()\n",
    "df_m = df_features_targets\n",
    "\n",
    "df_slab = get_df_slab()"
   ]
  },
  {
   "cell_type": "code",
   "execution_count": null,
   "metadata": {},
   "outputs": [],
   "source": [
    "# 150\n",
    "# 181\n",
    "print(\n",
    "    \"Number of rows in df_features_targets:\",\n",
    "    df_m.shape[0],\n",
    "    )"
   ]
  },
  {
   "cell_type": "markdown",
   "metadata": {},
   "source": [
    "### Dropping phase 1 slabs"
   ],
   "execution_count": null,
   "outputs": []
  },
  {
   "cell_type": "code",
   "execution_count": null,
   "metadata": {},
   "outputs": [],
   "source": [
    "# Getting phase > 1 slab ids\n",
    "df_slab_i = df_slab[df_slab.phase > 1]\n",
    "phase_2_slab_ids = df_slab_i.slab_id.tolist()\n",
    "\n",
    "df_index = df_m.index.to_frame()\n",
    "df_index_i = df_index[\n",
    "    df_index.slab_id.isin(phase_2_slab_ids)\n",
    "    ]\n",
    "\n",
    "print(\"Dropping phase 1 slabs\")\n",
    "df_m = df_m.loc[\n",
    "    df_index_i.index\n",
    "    ]"
   ]
  },
  {
   "cell_type": "raw",
   "metadata": {},
   "source": [
    "\n",
    "\n"
   ],
   "execution_count": null,
   "outputs": []
  },
  {
   "cell_type": "markdown",
   "metadata": {},
   "source": [
    "### Creating separate `df_data` dataframe"
   ],
   "execution_count": null,
   "outputs": []
  },
  {
   "cell_type": "code",
   "execution_count": null,
   "metadata": {},
   "outputs": [],
   "source": [
    "df_data = df_m[\"data\"]\n",
    "df_data = df_data.droplevel(1)\n",
    "\n",
    "df_data.iloc[0:2]"
   ]
  },
  {
   "cell_type": "markdown",
   "metadata": {},
   "source": [
    "### Filter `df_m` down to features and targets columns"
   ],
   "execution_count": null,
   "outputs": []
  },
  {
   "cell_type": "code",
   "execution_count": null,
   "metadata": {},
   "outputs": [],
   "source": [
    "# #########################################################\n",
    "cols_to_keep = []\n",
    "target_cols = []\n",
    "# #########################################################\n",
    "for col_i in df_m.columns:\n",
    "    # #####################################################\n",
    "    lev_0 = col_i[0]\n",
    "    lev_1 = col_i[1]\n",
    "    lev_2 = col_i[2]\n",
    "    # #####################################################\n",
    "\n",
    "    keep_col = False\n",
    "    if lev_0 == \"features\" and lev_1 == \"o\":\n",
    "        keep_col = True\n",
    "\n",
    "    if lev_0 == \"targets\":\n",
    "        target_cols.append(col_i)\n",
    "        keep_col = True\n",
    "\n",
    "    if keep_col:\n",
    "        cols_to_keep.append(col_i)\n",
    "\n",
    "# #########################################################\n",
    "df_i = df_m[cols_to_keep]\n",
    "# #########################################################\n",
    "\n",
    "df_i.iloc[0:2]"
   ]
  },
  {
   "cell_type": "markdown",
   "metadata": {},
   "source": [
    "### Plotting everything"
   ],
   "execution_count": null,
   "outputs": []
  },
  {
   "cell_type": "code",
   "execution_count": null,
   "metadata": {},
   "outputs": [],
   "source": [
    "df_i[\"features\"][\"o\"].sort_values(\"ir_o_mean\", ascending=False)"
   ]
  },
  {
   "cell_type": "markdown",
   "metadata": {},
   "source": [
    "### Preparing format dataframe"
   ],
   "execution_count": null,
   "outputs": []
  },
  {
   "cell_type": "code",
   "execution_count": null,
   "metadata": {},
   "outputs": [],
   "source": [
    "data_dict_list = []\n",
    "# for index_i, row_i in df_i_2.iterrows():\n",
    "for index_i, row_i in df_i.iterrows():\n",
    "    # #####################################################\n",
    "    data_dict_i = dict()\n",
    "    # #####################################################\n",
    "    index_dict_i = dict(zip(df_i.index.names, index_i))\n",
    "    # #####################################################\n",
    "\n",
    "    # #####################################################\n",
    "    row_data_i = df_features_targets.data.loc[index_i]\n",
    "    # #####################################################\n",
    "    stoich_i = row_data_i[\"stoich\"][\"\"]\n",
    "    # #####################################################\n",
    "\n",
    "    if stoich_i == \"AB2\":\n",
    "        color_i = \"orange\"\n",
    "    elif stoich_i == \"AB3\":\n",
    "        color_i = \"green\"\n",
    "    # #####################################################\n",
    "    data_dict_i.update(index_dict_i)\n",
    "    # #####################################################\n",
    "    # data_dict_i[\"color\"] = color_i\n",
    "    data_dict_i[\"stoich\"] = stoich_i\n",
    "    # #####################################################\n",
    "    data_dict_list.append(data_dict_i)\n",
    "    # #####################################################\n",
    "\n",
    "# #########################################################\n",
    "df_format = pd.DataFrame(data_dict_list)\n",
    "df_format = df_format.set_index([\"compenv\", \"slab_id\", \"active_site\", ])\n",
    "# #########################################################"
   ]
  },
  {
   "cell_type": "code",
   "execution_count": null,
   "metadata": {},
   "outputs": [],
   "source": [
    "feature_ads_i = \"o\"\n",
    "\n",
    "for col_i in df_i[\"features\"][feature_ads_i].columns:\n",
    "    col_tup_i = (\"features\", feature_ads_i, col_i)\n",
    "\n",
    "    filter_cols = target_cols + [col_tup_i, ]\n",
    "    df_i_1 = df_i[filter_cols]\n",
    "\n",
    "    for target_ads_j in [\"o\", \"oh\", ]:\n",
    "        target_j = \"g_\" + target_ads_j\n",
    "\n",
    "        filter_cols = [\n",
    "            (\"targets\", target_j, \"\", ),\n",
    "            col_tup_i,\n",
    "            ]\n",
    "        df_i_2 = df_i_1[filter_cols]\n",
    "        df_i_2 = df_i_2.dropna()\n",
    "\n",
    "        \n",
    "        # #################################################\n",
    "        # Modifying the columns in preparation of flattening column levels\n",
    "        new_cols = []\n",
    "        for col_i in df_i_2.columns:\n",
    "            if target_j in list(col_i):\n",
    "                new_col_i = len(col_i) * (target_j, )\n",
    "                new_cols.append(new_col_i)\n",
    "            else:\n",
    "                new_cols.append(col_i)\n",
    "        idx = pd.MultiIndex.from_tuples(new_cols)\n",
    "        df_i_2.columns = idx\n",
    "\n",
    "        # Drop top 2 levels, leaving behind normal column index\n",
    "        df_i_2.columns = df_i_2.columns.droplevel()\n",
    "        df_i_2.columns = df_i_2.columns.droplevel()\n",
    "\n",
    "        df_i_2 = pd.concat([df_i_2, df_format], axis=1)\n",
    "\n",
    "        # #################################################\n",
    "        # Plotting\n",
    "        x_array = df_i_2[col_i[-1]]\n",
    "        y_array = df_i_2[target_j]\n",
    "\n",
    "        fig = px.scatter(df_i_2,\n",
    "            x=col_i[-1],\n",
    "            y=target_j,\n",
    "            # color=df_i_2[\"color\"],\n",
    "            color=df_i_2[\"stoich\"],\n",
    "            )\n",
    "\n",
    "        if show_plot:\n",
    "            fig.show()"
   ]
  },
  {
   "cell_type": "code",
   "execution_count": null,
   "metadata": {},
   "outputs": [],
   "source": [
    "# #########################################################\n",
    "print(20 * \"# # \")\n",
    "print(\"All done!\")\n",
    "print(\"Run time:\", np.round((time.time() - ti) / 60, 3), \"min\")\n",
    "print(\"new_oer_vs_features.ipynb\")\n",
    "print(20 * \"# # \")\n",
    "# #########################################################"
   ]
  },
  {
   "cell_type": "raw",
   "metadata": {},
   "source": [
    "\n",
    "\n"
   ],
   "execution_count": null,
   "outputs": []
  }
 ],
 "metadata": {
  "jupytext": {
   "formats": "ipynb,py:light"
  },
  "kernelspec": {
   "display_name": "Python [conda env:PROJ_irox_oer] *",
   "language": "python",
   "name": "conda-env-PROJ_irox_oer-py"
  },
  "language_info": {
   "codemirror_mode": {
    "name": "ipython",
    "version": 3
   },
   "file_extension": ".py",
   "mimetype": "text/x-python",
   "name": "python",
   "nbconvert_exporter": "python",
   "pygments_lexer": "ipython3",
   "version": "3.6.10"
  },
  "toc-autonumbering": false
 },
 "nbformat": 4,
 "nbformat_minor": 4
}
