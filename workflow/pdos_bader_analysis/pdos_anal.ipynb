{
 "cells": [
  {
   "cell_type": "markdown",
   "metadata": {},
   "source": [
    "# PDOS data analysis and plotting\n",
    "---"
   ],
   "execution_count": null,
   "outputs": []
  },
  {
   "cell_type": "markdown",
   "metadata": {},
   "source": [
    "### Import Modules"
   ],
   "execution_count": null,
   "outputs": []
  },
  {
   "cell_type": "code",
   "execution_count": null,
   "metadata": {},
   "outputs": [],
   "source": [
    "import os\n",
    "print(os.getcwd())\n",
    "import sys\n",
    "\n",
    "import plotly.graph_objs as go\n",
    "\n",
    "import matplotlib.pyplot as plt\n",
    "from scipy import stats\n",
    "\n",
    "# #########################################################\n",
    "from methods import get_df_features_targets\n",
    "\n",
    "from proj_data import scatter_marker_props, layout_shared"
   ]
  },
  {
   "cell_type": "markdown",
   "metadata": {},
   "source": [
    "### Read Data"
   ],
   "execution_count": null,
   "outputs": []
  },
  {
   "cell_type": "code",
   "execution_count": null,
   "metadata": {},
   "outputs": [],
   "source": [
    "df_features_targets = get_df_features_targets()"
   ]
  },
  {
   "cell_type": "raw",
   "metadata": {},
   "source": [
    "\n"
   ],
   "execution_count": null,
   "outputs": []
  },
  {
   "cell_type": "code",
   "execution_count": null,
   "metadata": {},
   "outputs": [],
   "source": [
    "# df_features_targets.columns.tolist()\n",
    "\n",
    "pband_indices = df_features_targets[[\n",
    "    (\n",
    "        'features',\n",
    "        # 'oh',\n",
    "        'o',\n",
    "        'p_band_center',\n",
    "        )\n",
    "    ]].dropna().index.tolist()\n",
    "\n",
    "\n",
    "df_i = df_features_targets.loc[\n",
    "    pband_indices\n",
    "    ][[\n",
    "        (\"targets\", \"g_oh\", \"\"),\n",
    "        (\"targets\", \"g_o\", \"\"),\n",
    "        (\"targets\", \"g_o_m_oh\", \"\"),\n",
    "\n",
    "        (\"targets\", \"e_oh\", \"\"),\n",
    "        (\"targets\", \"e_o\", \"\"),\n",
    "        (\"targets\", \"e_o_m_oh\", \"\"),\n",
    "\n",
    "        (\"features\", \"o\", \"p_band_center\"),\n",
    "        ]]"
   ]
  },
  {
   "cell_type": "code",
   "execution_count": null,
   "metadata": {},
   "outputs": [],
   "source": [
    "# pband_indices = \n",
    "df_features_targets[[\n",
    "    (\n",
    "        'features',\n",
    "        # 'oh',\n",
    "        'o',\n",
    "        'p_band_center',\n",
    "        )\n",
    "    ]]\n",
    "\n",
    "    # ]].dropna().index.tolist()"
   ]
  },
  {
   "cell_type": "code",
   "execution_count": null,
   "metadata": {},
   "outputs": [],
   "source": [
    "# assert False"
   ]
  },
  {
   "cell_type": "code",
   "execution_count": null,
   "metadata": {},
   "outputs": [],
   "source": [
    "# df_features_targets.shape"
   ]
  },
  {
   "cell_type": "code",
   "execution_count": null,
   "metadata": {},
   "outputs": [],
   "source": [
    "# (288, 7)\n",
    "# (311, 7)\n",
    "# (312, 7)\n",
    "# (316, 7)\n",
    "\n",
    "# df_i.shape"
   ]
  },
  {
   "cell_type": "code",
   "execution_count": null,
   "metadata": {},
   "outputs": [],
   "source": [
    "# assert False"
   ]
  },
  {
   "cell_type": "code",
   "execution_count": null,
   "metadata": {
    "lines_to_next_cell": 0
   },
   "outputs": [],
   "source": [
    "# df_i[\"\"]\n",
    "\n",
    "df = df_i\n",
    "df = df[\n",
    "    (df[\"features\", \"o\", \"p_band_center\"] > -3.5) &\n",
    "    (df[\"features\", \"o\", \"p_band_center\"] < -2.) &\n",
    "    # (df[\"\"] == \"\") &\n",
    "    # (df[\"\"] == \"\") &\n",
    "    [True for i in range(len(df))]\n",
    "    ]\n",
    "df_i = df"
   ]
  },
  {
   "cell_type": "code",
   "execution_count": null,
   "metadata": {
    "lines_to_end_of_cell_marker": 2
   },
   "outputs": [],
   "source": [
    "x = df_i[\"features\", \"o\", \"p_band_center\"]\n",
    "# y = df_i[\"targets\", \"g_oh\", \"\"]\n",
    "# y = df_i[\"targets\", \"g_o\", \"\"]\n",
    "y = df_i[\"targets\", \"g_o_m_oh\", \"\"]\n",
    "# y = df_i[\"targets\", \"e_o_m_oh\", \"\"]\n",
    "\n",
    "\n",
    "\n",
    "\n",
    "res = stats.linregress(x, y)\n",
    "y_new_fit = res.intercept + res.slope * x\n",
    "\n",
    "\n",
    "def colin_fit(p_i):\n",
    "    g_o_m_oh_i = 0.94 * p_i + 3.58\n",
    "    return(g_o_m_oh_i)\n",
    "\n",
    "trace_colin_fit = go.Scatter(\n",
    "    x=[-6, 0],\n",
    "    y=[colin_fit(-6), colin_fit(0)],\n",
    "    mode=\"lines\",\n",
    "    name=\"Colin fit (G_OmOH = 0.94 * p_i + 3.58)\",\n",
    "    )\n",
    "\n",
    "trace_my_fit = go.Scatter(\n",
    "    x=x,\n",
    "    y=y_new_fit,\n",
    "    mode=\"lines\",\n",
    "    name=\"Colin fit (G_OmOH = 0.94 * p_i + 3.58)\",\n",
    "    )\n",
    "\n",
    "y_new_fit\n",
    "\n",
    "trace = go.Scatter(\n",
    "    x=x, y=y,\n",
    "    mode=\"markers\",\n",
    "    name=\"My DFT data\",\n",
    "    )"
   ]
  },
  {
   "cell_type": "code",
   "execution_count": null,
   "metadata": {},
   "outputs": [],
   "source": [
    "x_i = x.to_numpy()\n",
    "X = x_i.reshape(-1, 1)"
   ]
  },
  {
   "cell_type": "code",
   "execution_count": null,
   "metadata": {},
   "outputs": [],
   "source": [
    "import numpy as np\n",
    "from sklearn.linear_model import LinearRegression\n",
    "# X = np.array([[1, 1], [1, 2], [2, 2], [2, 3]])\n",
    "# y = 1 * x_0 + 2 * x_1 + 3\n",
    "# y = np.dot(X, np.array([1, 2])) + 3\n",
    "reg = LinearRegression().fit(X, y)\n",
    "reg.score(X, y)\n",
    "\n",
    "print(\n",
    "reg.coef_,\n",
    "reg.intercept_,\n",
    ")\n",
    "\n",
    "# reg.predict(np.array([[3, 5]]))\n",
    "y_pred_mine = reg.predict(\n",
    "    [[-6], [2]],\n",
    "    )"
   ]
  },
  {
   "cell_type": "code",
   "execution_count": null,
   "metadata": {},
   "outputs": [],
   "source": [
    "trace_my_fit = go.Scatter(\n",
    "    x=[-6, 2],\n",
    "    y=y_pred_mine,\n",
    "    mode=\"lines\",\n",
    "    name=\"My fit (G_OmOH = 0.75 * p_i + 3.55)\",\n",
    "    )"
   ]
  },
  {
   "cell_type": "code",
   "execution_count": null,
   "metadata": {},
   "outputs": [],
   "source": [
    "data = [trace, trace_colin_fit, trace_my_fit]\n",
    "\n",
    "# data = [trace, trace_colin_fit, trace_my_fit]"
   ]
  },
  {
   "cell_type": "code",
   "execution_count": null,
   "metadata": {},
   "outputs": [],
   "source": [
    "layout_mine = go.Layout(\n",
    "\n",
    "    showlegend=False,\n",
    "\n",
    "    xaxis=go.layout.XAxis(\n",
    "        title=go.layout.xaxis.Title(\n",
    "            text=\"\u03b5<sub>2p</sub>\",\n",
    "            ),\n",
    "        range=[-6, 0, ]\n",
    "        ),\n",
    "\n",
    "    yaxis=go.layout.YAxis(\n",
    "        title=go.layout.yaxis.Title(\n",
    "            text=\"\u0394E<sub>O-OH</sub>\",\n",
    "            ),\n",
    "        range=[-3, 4, ]\n",
    "        ),\n",
    "\n",
    "    )\n",
    "\n",
    "\n",
    "# #########################################################\n",
    "layout_shared_i = layout_shared.update(layout_mine)"
   ]
  },
  {
   "cell_type": "code",
   "execution_count": null,
   "metadata": {},
   "outputs": [],
   "source": [
    "fig = go.Figure(data=data, layout=layout_shared_i)\n",
    "fig.show()"
   ]
  },
  {
   "cell_type": "raw",
   "metadata": {},
   "source": [
    "\n",
    "\n"
   ],
   "execution_count": null,
   "outputs": []
  },
  {
   "cell_type": "code",
   "execution_count": null,
   "metadata": {
    "jupyter": {}
   },
   "outputs": [],
   "source": [
    "# df_i"
   ]
  },
  {
   "cell_type": "code",
   "execution_count": null,
   "metadata": {
    "jupyter": {}
   },
   "outputs": [],
   "source": [
    "# df_features_targets"
   ]
  },
  {
   "cell_type": "code",
   "execution_count": null,
   "metadata": {
    "jupyter": {}
   },
   "outputs": [],
   "source": [
    "# (0.94 * 0 + 3.58) - (0.94 * 3 + 3.58)"
   ]
  },
  {
   "cell_type": "code",
   "execution_count": null,
   "metadata": {
    "jupyter": {}
   },
   "outputs": [],
   "source": [
    "# 0.94 * 0.3"
   ]
  },
  {
   "cell_type": "code",
   "execution_count": null,
   "metadata": {
    "jupyter": {}
   },
   "outputs": [],
   "source": [
    "# res.intercept"
   ]
  },
  {
   "cell_type": "code",
   "execution_count": null,
   "metadata": {
    "jupyter": {}
   },
   "outputs": [],
   "source": [
    "# res.slope"
   ]
  },
  {
   "cell_type": "code",
   "execution_count": null,
   "metadata": {
    "jupyter": {}
   },
   "outputs": [],
   "source": [
    "# layout = go.Layout(\n",
    "\n",
    "#     xaxis=go.layout.XAxis(\n",
    "#         title=go.layout.xaxis.Title(\n",
    "#             text=\"\u03b5<sub>2p</sub>\",\n",
    "#             ),\n",
    "#         ),\n",
    "\n",
    "#     yaxis=go.layout.YAxis(\n",
    "#         title=go.layout.yaxis.Title(\n",
    "#             text=\"\u0394E<sub>O-OH</sub>\",\n",
    "#             ),\n",
    "#         ),\n",
    "\n",
    "#     )"
   ]
  }
 ],
 "metadata": {
  "jupytext": {
   "encoding": "# -*- coding: utf-8 -*-",
   "formats": "ipynb,py:light"
  },
  "kernelspec": {
   "display_name": "Python [conda env:PROJ_irox_oer] *",
   "language": "python",
   "name": "conda-env-PROJ_irox_oer-py"
  },
  "language_info": {
   "codemirror_mode": {
    "name": "ipython",
    "version": 3
   },
   "file_extension": ".py",
   "mimetype": "text/x-python",
   "name": "python",
   "nbconvert_exporter": "python",
   "pygments_lexer": "ipython3",
   "version": "3.6.11"
  }
 },
 "nbformat": 4,
 "nbformat_minor": 4
}
