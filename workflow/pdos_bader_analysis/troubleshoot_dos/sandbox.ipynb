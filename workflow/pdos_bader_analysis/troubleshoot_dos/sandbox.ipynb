{
 "cells": [
  {
   "cell_type": "markdown",
   "metadata": {},
   "source": [
    "# Sandbox to troubleshoot DOS calcs\n",
    "---"
   ],
   "execution_count": null,
   "outputs": []
  },
  {
   "cell_type": "markdown",
   "metadata": {},
   "source": [
    "### Import Modules"
   ],
   "execution_count": null,
   "outputs": []
  },
  {
   "cell_type": "code",
   "execution_count": null,
   "metadata": {},
   "outputs": [],
   "source": [
    "import os\n",
    "print(os.getcwd())\n",
    "import sys\n",
    "\n",
    "import numpy as np\n",
    "import pandas as pd\n",
    "\n",
    "import plotly.graph_objs as go\n",
    "\n",
    "from methods import (\n",
    "    get_df_dft,\n",
    "    get_df_features_targets,\n",
    "    get_df_slab_ids,\n",
    "    read_pdos_data,\n",
    "    )"
   ]
  },
  {
   "cell_type": "markdown",
   "metadata": {},
   "source": [
    "### Read Data"
   ],
   "execution_count": null,
   "outputs": []
  },
  {
   "cell_type": "code",
   "execution_count": null,
   "metadata": {},
   "outputs": [],
   "source": [
    "df_dft = get_df_dft()\n",
    "\n",
    "df_features_targets = get_df_features_targets()\n",
    "\n",
    "df_slab_ids = get_df_slab_ids()\n",
    "df_slab_ids_i = df_slab_ids.set_index(\"slab_id\")"
   ]
  },
  {
   "cell_type": "markdown",
   "metadata": {},
   "source": [
    "### Searching for jobs that are made from R-IrO2"
   ],
   "execution_count": null,
   "outputs": []
  },
  {
   "cell_type": "code",
   "execution_count": null,
   "metadata": {},
   "outputs": [],
   "source": [
    "bulk_id_to_find = \"64cg6j9any\"\n",
    "\n",
    "df_ind = df_features_targets.index.to_frame()\n",
    "for name_i, row_i in df_ind.iterrows():\n",
    "    slab_id_i = row_i.slab_id\n",
    "\n",
    "    # #####################################################\n",
    "    row_ids = df_slab_ids_i.loc[slab_id_i]\n",
    "    # #####################################################\n",
    "    bulk_id_i = row_ids.bulk_id\n",
    "    facet_i = row_ids.facet\n",
    "    # #####################################################\n",
    "\n",
    "    if bulk_id_i == bulk_id_to_find:\n",
    "        print(slab_id_i, facet_i, name_i, sep=\" | \")"
   ]
  },
  {
   "cell_type": "code",
   "execution_count": null,
   "metadata": {},
   "outputs": [],
   "source": [
    "# This one is R-IrO2 110\n",
    "# ('sherlock', 'tetuwido_70', 25.0)\n",
    "\n",
    "\n",
    "row_feat_tar = df_features_targets.loc[\n",
    "    ('sherlock', 'tetuwido_70', 25.0)\n",
    "    ]\n",
    "\n",
    "row_feat_tar[\"features\"][\"o\"][\"p_band_center\"]"
   ]
  },
  {
   "cell_type": "code",
   "execution_count": null,
   "metadata": {},
   "outputs": [],
   "source": [
    "# Colin 2p band center -2.44 eV\n",
    "\n",
    "# My 2p band center -3.07 eV"
   ]
  },
  {
   "cell_type": "code",
   "execution_count": null,
   "metadata": {},
   "outputs": [],
   "source": [
    "row_feat_tar[\"data\"][\"job_id_o\"]"
   ]
  },
  {
   "cell_type": "code",
   "execution_count": null,
   "metadata": {},
   "outputs": [],
   "source": [
    "row_feat_tar[\"targets\"]"
   ]
  },
  {
   "cell_type": "raw",
   "metadata": {},
   "source": [
    "My high-throughput R-IrO2 (110)\n",
    "  G_O:  +1.801\n",
    "  G_OH: +0.160\n",
    "\n",
    "My R-IrO2 (110) from columbite paper\n",
    "  G_O:  +1.55\n",
    "  G_OH: +0.19\n",
    "\n",
    "Colin R-IrO2 (110)\n",
    "  G_O:  +1.561\n",
    "  G_OH: +0.151"
   ],
   "execution_count": null,
   "outputs": []
  },
  {
   "cell_type": "code",
   "execution_count": null,
   "metadata": {},
   "outputs": [],
   "source": [
    "sys.path.insert(0, os.path.join(\n",
    "    os.environ[\"PROJ_irox\"],\n",
    "    \"data\"))\n",
    "\n",
    "from proj_data_irox import (\n",
    "    h2_ref,\n",
    "    h2o_ref,\n",
    "    )"
   ]
  },
  {
   "cell_type": "code",
   "execution_count": null,
   "metadata": {},
   "outputs": [],
   "source": [
    "# from proj_data_irox import \n",
    "-9.88557216 / 2"
   ]
  },
  {
   "cell_type": "code",
   "execution_count": null,
   "metadata": {},
   "outputs": [],
   "source": [
    "h2_ref"
   ]
  },
  {
   "cell_type": "code",
   "execution_count": null,
   "metadata": {},
   "outputs": [],
   "source": [
    "h2o_ref"
   ]
  },
  {
   "cell_type": "code",
   "execution_count": null,
   "metadata": {},
   "outputs": [],
   "source": [
    "-1.00 + 0.044\n",
    "-2.66 + 0.2945"
   ]
  },
  {
   "cell_type": "raw",
   "metadata": {},
   "source": [
    "\n",
    "\n"
   ],
   "execution_count": null,
   "outputs": []
  },
  {
   "cell_type": "markdown",
   "metadata": {},
   "source": [
    "## Plotting mine and Colin DOS files for R-IrO2"
   ],
   "execution_count": null,
   "outputs": []
  },
  {
   "cell_type": "code",
   "execution_count": null,
   "metadata": {
    "jupyter": {}
   },
   "outputs": [],
   "source": [
    "df_pdos_i, df_band_centers_i = read_pdos_data(\"gasedilo_55\")\n",
    "\n",
    "# df_pdos_i.columns.tolist()\n",
    "\n",
    "x = df_pdos_i.index.tolist()\n",
    "y = df_pdos_i[\"O17\"][\"p_tot_sum\"]\n",
    "\n",
    "trace = go.Scatter(\n",
    "    x=x,\n",
    "    y=y,\n",
    "    )\n",
    "data = [trace]\n",
    "\n",
    "fig = go.Figure(data=data)\n",
    "fig.show()"
   ]
  },
  {
   "cell_type": "markdown",
   "metadata": {},
   "source": [
    "### Colin's DOS Data"
   ],
   "execution_count": null,
   "outputs": []
  },
  {
   "cell_type": "code",
   "execution_count": null,
   "metadata": {
    "jupyter": {}
   },
   "outputs": [],
   "source": [
    "colin_file_path = os.path.join(\n",
    "    os.environ[\"dropbox\"],\n",
    "    \"06_downloads/04_firefox_download/1-s2.0-S003960281830760X-mmc1/IrO2_systems\",\n",
    "    \"IrO2-1c-O.csv\",\n",
    "    )\n",
    "\n",
    "df_dos_colin = pd.read_csv(colin_file_path)"
   ]
  },
  {
   "cell_type": "code",
   "execution_count": null,
   "metadata": {
    "jupyter": {}
   },
   "outputs": [],
   "source": [
    "# Plotting\n",
    "\n",
    "x = df_dos_colin[\"Energy relative to fermi level (eV)\"]\n",
    "y = df_dos_colin[\"O 2p-PDOS\"]\n",
    "\n",
    "trace = go.Scatter(\n",
    "    x=x,\n",
    "    y=y,\n",
    "    )\n",
    "data = [trace]\n",
    "\n",
    "fig = go.Figure(data=data)\n",
    "fig.show()"
   ]
  },
  {
   "cell_type": "code",
   "execution_count": null,
   "metadata": {},
   "outputs": [],
   "source": [
    "df_dos_colin = df_dos_colin.rename(columns={\n",
    "    \"Energy relative to fermi level (eV)\": \"energy\",\n",
    "    })\n",
    "\n",
    "df_dos_colin = df_dos_colin.set_index(\"energy\")\n",
    "\n",
    "df_dos_colin = df_dos_colin.drop(columns=[\"Total DOS\", ])\n",
    "\n",
    "# df_dos_colin = df_dos_colin.dropna()"
   ]
  },
  {
   "cell_type": "code",
   "execution_count": null,
   "metadata": {},
   "outputs": [],
   "source": [
    "df = df_dos_colin\n",
    "\n",
    "df = df[\n",
    "    (df.index > -10) & \\\n",
    "    # (df.index > -5.87) & \\\n",
    "    (df.index < 2.)\n",
    "    ]\n",
    "\n",
    "pho_i = df[\"O 2p-PDOS\"]\n",
    "eps = np.array(df.index.tolist())\n",
    "\n",
    "band_center_up = np.trapz(pho_i * eps, x=eps) / np.trapz(pho_i, x=eps)\n",
    "\n",
    "print(\n",
    "    \"\u03f5_2p:\",\n",
    "    np.round(band_center_up, 4),\n",
    "    \" eV\",\n",
    "    sep=\"\")"
   ]
  },
  {
   "cell_type": "markdown",
   "metadata": {},
   "source": [
    "### Reading all files"
   ],
   "execution_count": null,
   "outputs": []
  },
  {
   "cell_type": "code",
   "execution_count": null,
   "metadata": {},
   "outputs": [],
   "source": [
    "df_colin_si = pd.read_csv(\"colin_si_data.csv\")\n",
    "df_colin_si = df_colin_si.replace(np.nan, \"NaN\", regex=True)\n",
    "\n",
    "df_colin_si"
   ]
  },
  {
   "cell_type": "code",
   "execution_count": null,
   "metadata": {},
   "outputs": [],
   "source": [
    "def process_colin_pdos(file_path):\n",
    "    \"\"\"\n",
    "    \"\"\"\n",
    "\n",
    "\n",
    "    df_dos_colin = pd.read_csv(file_path)\n",
    "\n",
    "\n",
    "    df_dos_colin = df_dos_colin.rename(columns={\n",
    "        \"Energy relative to fermi level (eV)\": \"energy\",\n",
    "        })\n",
    "\n",
    "    df_dos_colin = df_dos_colin.set_index(\"energy\")\n",
    "\n",
    "    df_dos_colin = df_dos_colin.drop(columns=[\"Total DOS\", ])\n",
    "\n",
    "    # df_dos_colin = df_dos_colin.dropna()\n",
    "\n",
    "\n",
    "\n",
    "\n",
    "\n",
    "    df = df_dos_colin\n",
    "\n",
    "    df = df[\n",
    "        # (df.index > -10) & \\\n",
    "\n",
    "        (df.index > -5.87) & \\\n",
    "\n",
    "        (df.index < 2.)\n",
    "        ]\n",
    "\n",
    "    pho_i = df[\"O 2p-PDOS\"]\n",
    "    eps = np.array(df.index.tolist())\n",
    "\n",
    "    band_center_up = np.trapz(pho_i * eps, x=eps) / np.trapz(pho_i, x=eps)\n",
    "\n",
    "    # print(\n",
    "    #     \"\u03f5_2p:\",\n",
    "    #     np.round(band_center_up, 4),\n",
    "    #     \" eV\",\n",
    "    #     sep=\"\")\n",
    "    \n",
    "    return(band_center_up)"
   ]
  },
  {
   "cell_type": "code",
   "execution_count": null,
   "metadata": {},
   "outputs": [],
   "source": [
    "# #########################################################\n",
    "data_dict_list = []\n",
    "# #########################################################\n",
    "root_dir = os.path.join(\n",
    "    os.environ[\"dropbox\"],\n",
    "    \"06_downloads/04_firefox_download/1-s2.0-S003960281830760X-mmc1/SI_Data\")\n",
    "# #########################################################\n",
    "for subdir, dirs, files in os.walk(root_dir):\n",
    "    for file in files:\n",
    "        file_path_i = os.path.join(subdir, file)\n",
    "        # print(file_path_i)\n",
    "\n",
    "        file_ext_i = file.split(\".\")[-1]\n",
    "\n",
    "\n",
    "        num_dots = 0\n",
    "        for str_i in file:\n",
    "            if str_i == \".\":\n",
    "                num_dots += 1\n",
    "\n",
    "\n",
    "        if file_ext_i == \"csv\" and num_dots == 1 and \"kink\" not in file:\n",
    "\n",
    "            file_wo_ext_i = file.split(\".\")[0]\n",
    "            elem_i = file_wo_ext_i.split(\"-\")[0]\n",
    "            coord_i = file_wo_ext_i.split(\"-\")[1]\n",
    "            coord_i_2 = coord_i[0:-1]\n",
    "\n",
    "            if coord_i_2 == \"None\":\n",
    "                # coord_i_3 = np.nan\n",
    "                coord_i_3 = \"NaN\"\n",
    "            else:\n",
    "                coord_i_3 = float(coord_i_2)\n",
    "\n",
    "            ads_i = file_wo_ext_i.split(\"-\")[2]\n",
    "\n",
    "\n",
    "            p_band_i = process_colin_pdos(file_path_i)\n",
    "            # print(p_band_i)\n",
    "            # print(\"\")\n",
    "\n",
    "\n",
    "            df = df_colin_si\n",
    "            df = df[\n",
    "                (df[\"formula\"] == elem_i) &\n",
    "                (df[\"coord\"] == coord_i_3) &\n",
    "\n",
    "                # (df[\"\"] == \"\") &\n",
    "                [True for i in range(len(df))]\n",
    "                ]\n",
    "            # print(df.shape[0])\n",
    "\n",
    "            p_band_colin_i = None\n",
    "            if df.shape[0] == 1:\n",
    "                row_si_i = df.iloc[0]\n",
    "                p_band_colin_i = row_si_i[\"eps_2p\"]\n",
    "\n",
    "\n",
    "\n",
    "\n",
    "\n",
    "\n",
    "\n",
    "\n",
    "            # #############################################\n",
    "            data_dict_i = dict()\n",
    "            # #############################################\n",
    "            data_dict_i[\"p_band\"] = p_band_i\n",
    "            data_dict_i[\"p_band_colin\"] = p_band_colin_i\n",
    "            data_dict_i[\"file_path\"] = file_path_i\n",
    "            data_dict_i[\"file_name\"] = file\n",
    "            data_dict_i[\"file_name_wo_ext\"] = file_wo_ext_i\n",
    "            data_dict_i[\"elem\"] = elem_i\n",
    "            data_dict_i[\"coord\"] = coord_i_3\n",
    "            data_dict_i[\"ads\"] = ads_i\n",
    "\n",
    "            # data_dict_i[\"\"] = \n",
    "            # #############################################\n",
    "            data_dict_list.append(data_dict_i)\n",
    "            # #############################################\n",
    "\n",
    "# #########################################################\n",
    "df_colin_pdos = pd.DataFrame(data_dict_list)\n",
    "df_colin_pdos = df_colin_pdos.replace(np.nan, \"NaN\", regex=True)\n",
    "# #########################################################"
   ]
  },
  {
   "cell_type": "code",
   "execution_count": null,
   "metadata": {},
   "outputs": [],
   "source": [
    "p_band = df_colin_pdos.p_band\n",
    "p_band_colin = df_colin_pdos.p_band_colin\n",
    "\n",
    "\n",
    "# df_pdos_i, df_band_centers_i = read_pdos_data(\"gasedilo_55\")\n",
    "# df_pdos_i.columns.tolist()\n",
    "# x = df_pdos_i.index.tolist()\n",
    "# y = df_pdos_i[\"O17\"][\"p_tot_sum\"]\n",
    "\n",
    "trace = go.Scatter(\n",
    "    x=p_band_colin,\n",
    "    y=p_band,\n",
    "    mode=\"markers\",\n",
    "    )\n",
    "data = [trace]\n",
    "\n",
    "fig = go.Figure(data=data)\n",
    "fig.show()"
   ]
  },
  {
   "cell_type": "raw",
   "metadata": {},
   "source": [
    "\n",
    "\n"
   ],
   "execution_count": null,
   "outputs": []
  },
  {
   "cell_type": "code",
   "execution_count": null,
   "metadata": {
    "jupyter": {}
   },
   "outputs": [],
   "source": [
    "# bulk_id_i\n",
    "\n",
    "# df_dft"
   ]
  },
  {
   "cell_type": "code",
   "execution_count": null,
   "metadata": {
    "jupyter": {}
   },
   "outputs": [],
   "source": [
    "# eps.shape"
   ]
  },
  {
   "cell_type": "code",
   "execution_count": null,
   "metadata": {
    "jupyter": {}
   },
   "outputs": [],
   "source": [
    "# pho_i"
   ]
  },
  {
   "cell_type": "code",
   "execution_count": null,
   "metadata": {
    "jupyter": {}
   },
   "outputs": [],
   "source": [
    "# # band_center_up = \n",
    "\n",
    "# # np.trapz(pho_i * eps, x=eps)\n",
    "# np.trapz(pho_i, x=eps)"
   ]
  },
  {
   "cell_type": "code",
   "execution_count": null,
   "metadata": {
    "jupyter": {}
   },
   "outputs": [],
   "source": [
    "# len(df_dos_colin.index.tolist())\n",
    "\n",
    "# len(df_dos_colin.index.tolist())\n",
    "\n",
    "# len(df_dos_colin[\"O 2p-PDOS\"].tolist())"
   ]
  },
  {
   "cell_type": "code",
   "execution_count": null,
   "metadata": {
    "jupyter": {}
   },
   "outputs": [],
   "source": [
    "# file_wo_ext_i"
   ]
  },
  {
   "cell_type": "code",
   "execution_count": null,
   "metadata": {
    "jupyter": {}
   },
   "outputs": [],
   "source": [
    "# df_colin_pdos"
   ]
  },
  {
   "cell_type": "code",
   "execution_count": null,
   "metadata": {
    "jupyter": {}
   },
   "outputs": [],
   "source": [
    "# p_band_i"
   ]
  },
  {
   "cell_type": "code",
   "execution_count": null,
   "metadata": {
    "jupyter": {}
   },
   "outputs": [],
   "source": [
    "# df"
   ]
  },
  {
   "cell_type": "code",
   "execution_count": null,
   "metadata": {
    "jupyter": {}
   },
   "outputs": [],
   "source": [
    "# # df_colin_pdos.coord.tolist()\n",
    "# df_colin_pdos\n",
    "\n",
    "# df = df_colin_pdos\n",
    "# df = df[\n",
    "#     (df[\"elem\"] == elem_i) &\n",
    "# #     (df[\"coord\"] == coord_i_3) &\n",
    "\n",
    "#     # (df[\"\"] == \"\") &\n",
    "#     [True for i in range(len(df))]\n",
    "#     ]\n",
    "# df"
   ]
  },
  {
   "cell_type": "code",
   "execution_count": null,
   "metadata": {
    "jupyter": {}
   },
   "outputs": [],
   "source": [
    "# elem_i"
   ]
  },
  {
   "cell_type": "code",
   "execution_count": null,
   "metadata": {
    "jupyter": {}
   },
   "outputs": [],
   "source": [
    "# df_colin_si.head()"
   ]
  },
  {
   "cell_type": "code",
   "execution_count": null,
   "metadata": {
    "jupyter": {}
   },
   "outputs": [],
   "source": [
    "# coord_i_3"
   ]
  },
  {
   "cell_type": "code",
   "execution_count": null,
   "metadata": {
    "jupyter": {}
   },
   "outputs": [],
   "source": [
    "# coord_i_3"
   ]
  },
  {
   "cell_type": "code",
   "execution_count": null,
   "metadata": {
    "jupyter": {}
   },
   "outputs": [],
   "source": [
    "# df_colin_pdos"
   ]
  }
 ],
 "metadata": {
  "kernelspec": {
   "display_name": "Python [conda env:PROJ_irox_oer] *",
   "language": "python",
   "name": "conda-env-PROJ_irox_oer-py"
  },
  "language_info": {
   "codemirror_mode": {
    "name": "ipython",
    "version": 3
   },
   "file_extension": ".py",
   "mimetype": "text/x-python",
   "name": "python",
   "nbconvert_exporter": "python",
   "pygments_lexer": "ipython3",
   "version": "3.6.11"
  }
 },
 "nbformat": 4,
 "nbformat_minor": 4
}
