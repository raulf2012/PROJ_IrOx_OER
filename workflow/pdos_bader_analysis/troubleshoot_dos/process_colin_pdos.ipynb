{
 "cells": [
  {
   "cell_type": "code",
   "execution_count": 1,
   "metadata": {},
   "outputs": [
    {
     "name": "stdout",
     "output_type": "stream",
     "text": [
      "ϵ_2p: -3.7607 eV\n"
     ]
    }
   ],
   "source": [
    "import os\n",
    "import numpy as np\n",
    "import pandas as pd\n",
    "\n",
    "# Read datafile from Colin's SI\n",
    "colin_file_path = os.path.join(\n",
    "    os.environ[\"dropbox\"],\n",
    "    \"06_downloads/04_firefox_download\",\n",
    "    \"1-s2.0-S003960281830760X-mmc1/SI_Data\",\n",
    "    \"IrO2-1c-O.csv\")\n",
    "df = pd.read_csv(colin_file_path)\n",
    "\n",
    "# Some processing\n",
    "df = df.rename(columns={\n",
    "    \"Energy relative to fermi level (eV)\": \"energy\",\n",
    "    \"O 2p-PDOS\": \"pdos_o_2p\"})\n",
    "df = df.set_index(\"energy\")\n",
    "df = df.drop(columns=[\"Total DOS\", ])\n",
    "\n",
    "# Taking only range of PDOS from -10 to 2 eV\n",
    "df = df[\n",
    "    (df.index > -10) & \\\n",
    "    (df.index < 2.)]\n",
    "\n",
    "# Performing the trapezoidal rule\n",
    "rho = df[\"pdos_o_2p\"]\n",
    "eps = np.array(df.index.tolist())\n",
    "\n",
    "band_center_i = np.trapz(rho * eps, x=eps) / np.trapz(rho, x=eps)\n",
    "\n",
    "print(\n",
    "    \"ϵ_2p: \",\n",
    "    np.round(band_center_i, 4),\n",
    "    \" eV\", sep=\"\")\n",
    "\n",
    "# OUTPUT: ϵ_2p: -3.7607 eV\n",
    "# According to table in SI, this system (IrO2 C1) is supposed to have a e_2p of -2.44"
   ]
  },
  {
   "cell_type": "raw",
   "metadata": {},
   "source": [
    "\n",
    "\n"
   ]
  },
  {
   "cell_type": "code",
   "execution_count": 5,
   "metadata": {
    "jupyter": {
     "source_hidden": true
    }
   },
   "outputs": [],
   "source": [
    "# df"
   ]
  },
  {
   "cell_type": "code",
   "execution_count": 6,
   "metadata": {
    "jupyter": {
     "source_hidden": true
    }
   },
   "outputs": [],
   "source": [
    "# rho.shape"
   ]
  },
  {
   "cell_type": "code",
   "execution_count": 7,
   "metadata": {
    "jupyter": {
     "source_hidden": true
    }
   },
   "outputs": [],
   "source": [
    "# eps.shape"
   ]
  },
  {
   "cell_type": "code",
   "execution_count": 8,
   "metadata": {
    "jupyter": {
     "source_hidden": true
    }
   },
   "outputs": [],
   "source": [
    "# np.trapz(rho * eps, x=eps)"
   ]
  },
  {
   "cell_type": "code",
   "execution_count": 9,
   "metadata": {
    "jupyter": {
     "source_hidden": true
    }
   },
   "outputs": [],
   "source": [
    "# np.trapz(rho, x=eps)"
   ]
  },
  {
   "cell_type": "code",
   "execution_count": 10,
   "metadata": {
    "jupyter": {
     "source_hidden": true
    }
   },
   "outputs": [],
   "source": [
    "# np.min(\n",
    "# df.index.tolist())\n",
    "\n",
    "# np.max(\n",
    "# df.index.tolist())"
   ]
  }
 ],
 "metadata": {
  "jupytext": {
   "formats": "ipynb,py"
  },
  "kernelspec": {
   "display_name": "Python [conda env:PROJ_irox_oer] *",
   "language": "python",
   "name": "conda-env-PROJ_irox_oer-py"
  },
  "language_info": {
   "codemirror_mode": {
    "name": "ipython",
    "version": 3
   },
   "file_extension": ".py",
   "mimetype": "text/x-python",
   "name": "python",
   "nbconvert_exporter": "python",
   "pygments_lexer": "ipython3",
   "version": "3.6.11"
  }
 },
 "nbformat": 4,
 "nbformat_minor": 4
}
