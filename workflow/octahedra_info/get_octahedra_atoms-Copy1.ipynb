{
 "cells": [
  {
   "cell_type": "markdown",
   "metadata": {},
   "source": [
    "# Obtaining the indices of the atoms that make up the active octahedra\n",
    "---"
   ]
  },
  {
   "cell_type": "markdown",
   "metadata": {},
   "source": [
    "### Import Modules"
   ]
  },
  {
   "cell_type": "code",
   "execution_count": 1,
   "metadata": {},
   "outputs": [
    {
     "name": "stdout",
     "output_type": "stream",
     "text": [
      "/mnt/f/Dropbox/01_norskov/00_git_repos/PROJ_IrOx_OER/workflow/octahedra_info\n"
     ]
    }
   ],
   "source": [
    "import os\n",
    "print(os.getcwd())\n",
    "import sys\n",
    "import time; ti = time.time()\n",
    "\n",
    "import pickle\n",
    "import random\n",
    "\n",
    "import numpy as np\n",
    "import pandas as pd\n",
    "pd.set_option(\"display.max_columns\", None)\n",
    "\n",
    "\n",
    "# # #######################################################\n",
    "from misc_modules.pandas_methods import reorder_df_columns\n",
    "\n",
    "# #########################################################\n",
    "from methods import (\n",
    "    get_df_jobs_anal,\n",
    "    get_df_atoms_sorted_ind,\n",
    "    get_df_active_sites,\n",
    "    get_df_octa_info,\n",
    "    get_df_struct_drift,\n",
    "    get_df_jobs,\n",
    "    get_df_init_slabs,\n",
    "    )\n",
    "\n",
    "# #########################################################\n",
    "from local_methods import get_octahedra_atoms"
   ]
  },
  {
   "cell_type": "code",
   "execution_count": 2,
   "metadata": {},
   "outputs": [],
   "source": [
    "from methods import isnotebook    \n",
    "isnotebook_i = isnotebook()\n",
    "if isnotebook_i:\n",
    "    from tqdm.notebook import tqdm\n",
    "    verbose = True\n",
    "else:\n",
    "    from tqdm import tqdm\n",
    "    verbose = False"
   ]
  },
  {
   "cell_type": "code",
   "execution_count": 3,
   "metadata": {},
   "outputs": [],
   "source": [
    "root_dir = os.path.join(\n",
    "    os.environ[\"PROJ_irox_oer\"],\n",
    "    \"workflow/octahedra_info\",\n",
    "    )"
   ]
  },
  {
   "cell_type": "markdown",
   "metadata": {},
   "source": [
    "### Read Data"
   ]
  },
  {
   "cell_type": "code",
   "execution_count": 4,
   "metadata": {},
   "outputs": [],
   "source": [
    "df_jobs_anal = get_df_jobs_anal()\n",
    "df_jobs_anal_i = df_jobs_anal\n",
    "\n",
    "df_atoms_sorted_ind = get_df_atoms_sorted_ind()\n",
    "\n",
    "df_active_sites = get_df_active_sites()\n",
    "\n",
    "df_octa_info_prev = get_df_octa_info()\n",
    "\n",
    "df_jobs = get_df_jobs()\n",
    "\n",
    "df_init_slabs = get_df_init_slabs()\n",
    "\n",
    "df_struct_drift = get_df_struct_drift()"
   ]
  },
  {
   "cell_type": "code",
   "execution_count": 5,
   "metadata": {},
   "outputs": [],
   "source": [
    "# df_octa_info_prev[df_octa_info_prev.index.duplicated(keep=False)]"
   ]
  },
  {
   "cell_type": "code",
   "execution_count": 6,
   "metadata": {},
   "outputs": [],
   "source": [
    "# assert df_octa_info_prev.index.is_unique, \"SIDFISDI\""
   ]
  },
  {
   "cell_type": "markdown",
   "metadata": {},
   "source": [
    "### Filtering down to `oer_adsorbate` jobs"
   ]
  },
  {
   "cell_type": "code",
   "execution_count": 7,
   "metadata": {},
   "outputs": [],
   "source": [
    "df_ind = df_jobs_anal.index.to_frame()\n",
    "df_jobs_anal = df_jobs_anal.loc[\n",
    "    df_ind[df_ind.job_type == \"oer_adsorbate\"].index\n",
    "    ]\n",
    "df_jobs_anal = df_jobs_anal.droplevel(level=0)\n",
    "\n",
    "\n",
    "df_ind = df_atoms_sorted_ind.index.to_frame()\n",
    "df_atoms_sorted_ind = df_atoms_sorted_ind.loc[\n",
    "    df_ind[df_ind.job_type == \"oer_adsorbate\"].index\n",
    "    ]\n",
    "df_atoms_sorted_ind = df_atoms_sorted_ind.droplevel(level=0)"
   ]
  },
  {
   "cell_type": "raw",
   "metadata": {},
   "source": [
    "\n",
    "\n"
   ]
  },
  {
   "cell_type": "code",
   "execution_count": 8,
   "metadata": {},
   "outputs": [],
   "source": [
    "sys.path.insert(0,\n",
    "    os.path.join(\n",
    "        os.environ[\"PROJ_irox_oer\"],\n",
    "        \"workflow/feature_engineering\"))\n",
    "\n",
    "from feature_engineering_methods import get_df_feat_rows\n",
    "df_feat_rows = get_df_feat_rows(\n",
    "    df_jobs_anal=df_jobs_anal,\n",
    "    df_atoms_sorted_ind=df_atoms_sorted_ind,\n",
    "    df_active_sites=df_active_sites,\n",
    "    ads_to_include=[\"o\", \"oh\", \"bare\", ],\n",
    "    )\n",
    "\n",
    "df_feat_rows = df_feat_rows.set_index([\n",
    "    \"compenv\", \"slab_id\", \"ads\",\n",
    "    # \"active_site_orig\", \"att_num\", \"from_oh\",\n",
    "    \"active_site\", \"att_num\", \"from_oh\",\n",
    "    ], drop=False)"
   ]
  },
  {
   "cell_type": "code",
   "execution_count": 9,
   "metadata": {},
   "outputs": [
    {
     "data": {
      "application/vnd.jupyter.widget-view+json": {
       "model_id": "93b6b5d34dba40f3b92981d350fcbb97",
       "version_major": 2,
       "version_minor": 0
      },
      "text/plain": [
       "HBox(children=(FloatProgress(value=0.0, description='1st loop', max=3662.0, style=ProgressStyle(description_wi…"
      ]
     },
     "metadata": {},
     "output_type": "display_data"
    },
    {
     "name": "stdout",
     "output_type": "stream",
     "text": [
      "\n"
     ]
    }
   ],
   "source": [
    "# #########################################################\n",
    "data_dict_list = []\n",
    "indices_to_process = []\n",
    "indices_to_not_process = []\n",
    "# #########################################################\n",
    "iterator = tqdm(df_feat_rows.index, desc=\"1st loop\")\n",
    "for i_cnt, index_i in enumerate(iterator):\n",
    "    # #####################################################\n",
    "    row_i = df_feat_rows.loc[index_i]\n",
    "    # #####################################################\n",
    "    compenv_i = row_i.compenv\n",
    "    slab_id_i = row_i.slab_id\n",
    "    ads_i = row_i.ads\n",
    "    active_site_orig_i = row_i.active_site_orig\n",
    "    att_num_i = row_i.att_num\n",
    "    job_id_max_i = row_i.job_id_max\n",
    "    active_site_i = row_i.active_site\n",
    "    from_oh_i = row_i.from_oh\n",
    "    # #####################################################\n",
    "\n",
    "    index_i = (compenv_i, slab_id_i, ads_i,\n",
    "        active_site_i, att_num_i, from_oh_i, )\n",
    "    if index_i in df_octa_info_prev.index:\n",
    "        indices_to_not_process.append(index_i)\n",
    "    else:\n",
    "        indices_to_process.append(index_i)"
   ]
  },
  {
   "cell_type": "code",
   "execution_count": 10,
   "metadata": {},
   "outputs": [],
   "source": [
    "# # TEMP\n",
    "# print(222 * \"TEMP | \")\n",
    "\n",
    "# # # DO NUMBER OF RANDOM SYSTEMS\n",
    "# # indices_to_process = random.sample(indices_to_not_process, 20)\n",
    "\n",
    "# # # DO NUMBER OF RANDOM SYSTEMS\n",
    "# # indices_to_process = random.sample(indices_to_process, 20)\n",
    "\n",
    "# # # DO EVERYTHING\n",
    "# # indices_to_process = indices_to_not_process\n",
    "\n",
    "# # # DO SPECIFIC SYSTEMS\n",
    "# # indices_to_process = [\n",
    "# #     ('sherlock', 'sifebelo_94', 'o', 63.0, 1, False),\n",
    "# #     ('sherlock', 'sifebelo_94', 'o', 63.0, 1, True),\n",
    "# #     (\"sherlock\", \"kapapohe_58\", \"oh\", 29.0, 0, True, ),\n",
    "\n",
    "# #     (\"sherlock\", \"kamevuse_75\", \"o\", 49.0, 1, False, ),\n",
    "\n",
    "# #     ]"
   ]
  },
  {
   "cell_type": "markdown",
   "metadata": {},
   "source": [
    "### Main Loop"
   ]
  },
  {
   "cell_type": "code",
   "execution_count": 11,
   "metadata": {},
   "outputs": [],
   "source": [
    "df_feat_rows_2 = df_feat_rows.loc[\n",
    "    indices_to_process\n",
    "    ]"
   ]
  },
  {
   "cell_type": "code",
   "execution_count": 12,
   "metadata": {},
   "outputs": [
    {
     "data": {
      "application/vnd.jupyter.widget-view+json": {
       "model_id": "e7e19340a7e24fa890b438159270f5f6",
       "version_major": 2,
       "version_minor": 0
      },
      "text/plain": [
       "HBox(children=(FloatProgress(value=1.0, bar_style='info', description='1st loop', max=1.0, style=ProgressStyle…"
      ]
     },
     "metadata": {},
     "output_type": "display_data"
    },
    {
     "name": "stdout",
     "output_type": "stream",
     "text": [
      "\n"
     ]
    }
   ],
   "source": [
    "# #########################################################\n",
    "data_dict_list = []\n",
    "# #########################################################\n",
    "iterator = tqdm(df_feat_rows_2.index, desc=\"1st loop\")\n",
    "for i_cnt, index_i in enumerate(iterator):\n",
    "\n",
    "    # print(20 * \"-\")\n",
    "    # print(index_i)\n",
    "\n",
    "    # #####################################################\n",
    "    row_i = df_feat_rows.loc[index_i]\n",
    "    # #####################################################\n",
    "    compenv_i = row_i.compenv\n",
    "    slab_id_i = row_i.slab_id\n",
    "    ads_i = row_i.ads\n",
    "    active_site_orig_i = row_i.active_site_orig\n",
    "    att_num_i = row_i.att_num\n",
    "    job_id_max_i = row_i.job_id_max\n",
    "    active_site_i = row_i.active_site\n",
    "    from_oh_i = row_i.from_oh\n",
    "    # #####################################################\n",
    "\n",
    "    # #################################################\n",
    "    df_struct_drift_i = df_struct_drift[df_struct_drift.job_id_0 == job_id_max_i]\n",
    "    if df_struct_drift_i.shape[0] == 0:\n",
    "        df_struct_drift_i = df_struct_drift[df_struct_drift.job_id_1 == job_id_max_i]\n",
    "    # #################################################\n",
    "    octahedra_atoms_i = None\n",
    "    if df_struct_drift_i.shape[0] > 0:\n",
    "        octahedra_atoms_i = df_struct_drift_i.iloc[0].octahedra_atoms\n",
    "    # #################################################\n",
    "\n",
    "    if active_site_orig_i == \"NaN\":\n",
    "        from_oh_i = False\n",
    "    else:\n",
    "        from_oh_i = True\n",
    "\n",
    "    # #################################################\n",
    "    name_i = (\n",
    "        row_i.compenv, row_i.slab_id, row_i.ads,\n",
    "        row_i.active_site_orig, row_i.att_num, )\n",
    "    # #################################################\n",
    "    row_atoms_i = df_atoms_sorted_ind.loc[name_i]\n",
    "    # #################################################\n",
    "    atoms_i = row_atoms_i.atoms_sorted_good\n",
    "    # #################################################\n",
    "\n",
    "\n",
    "    data_out = get_octahedra_atoms(\n",
    "        df_jobs=df_jobs,\n",
    "        df_init_slabs=df_init_slabs,\n",
    "        atoms_0=atoms_i,\n",
    "        job_id_0=job_id_max_i,\n",
    "        active_site=active_site_i,\n",
    "        compenv=compenv_i,\n",
    "        slab_id=slab_id_i,\n",
    "        ads_0=ads_i,\n",
    "        active_site_0=active_site_orig_i,\n",
    "        att_num_0=att_num_i,\n",
    "        )\n",
    "\n",
    "\n",
    "    # #################################################\n",
    "    data_dict_i = dict()\n",
    "    # #################################################\n",
    "    data_dict_i[\"job_id_max\"] = job_id_max_i\n",
    "    data_dict_i[\"from_oh\"] = from_oh_i\n",
    "    data_dict_i[\"active_site\"] = active_site_i\n",
    "    data_dict_i[\"compenv\"] = compenv_i\n",
    "    data_dict_i[\"slab_id\"] = slab_id_i\n",
    "    data_dict_i[\"ads\"] = ads_i\n",
    "    data_dict_i[\"active_site_orig\"] = active_site_orig_i\n",
    "    data_dict_i[\"att_num\"] = att_num_i\n",
    "    # #################################################\n",
    "    data_dict_i.update(data_out)\n",
    "    # #################################################\n",
    "    data_dict_list.append(data_dict_i)\n",
    "    # #################################################\n",
    "\n",
    "\n",
    "# #########################################################\n",
    "df_octa_info = pd.DataFrame(data_dict_list)\n",
    "\n",
    "col_order_list = [\"compenv\", \"slab_id\", \"ads\", \"active_site\", \"att_num\"]\n",
    "df_octa_info = reorder_df_columns(col_order_list, df_octa_info)\n",
    "\n",
    "if df_octa_info.shape[0] > 0:\n",
    "    df_octa_info = df_octa_info.set_index([\n",
    "        \"compenv\", \"slab_id\", \"ads\",\n",
    "        # \"active_site_orig\", \"att_num\", ],\n",
    "        # \"active_site_orig\", \"att_num\", \"from_oh\", ],\n",
    "        \"active_site\", \"att_num\", \"from_oh\", ],\n",
    "        drop=True)\n",
    "# #########################################################"
   ]
  },
  {
   "cell_type": "markdown",
   "metadata": {},
   "source": [
    "### Combine previous and current `df_octa_info` to create new one"
   ]
  },
  {
   "cell_type": "code",
   "execution_count": 13,
   "metadata": {},
   "outputs": [],
   "source": [
    "# # TEMP\n",
    "# print(111 * \"TEMP | \")\n",
    "\n",
    "# # Set save current version of df_octa_info\n",
    "# df_octa_info_new = df_octa_info"
   ]
  },
  {
   "cell_type": "code",
   "execution_count": 14,
   "metadata": {},
   "outputs": [],
   "source": [
    "df_octa_info_new = pd.concat([\n",
    "    df_octa_info,\n",
    "    df_octa_info_prev,\n",
    "    ], axis=0)"
   ]
  },
  {
   "cell_type": "markdown",
   "metadata": {},
   "source": [
    "### Save data to pickle"
   ]
  },
  {
   "cell_type": "code",
   "execution_count": 15,
   "metadata": {},
   "outputs": [],
   "source": [
    "# #########################################################\n",
    "# Pickling data ###########################################\n",
    "directory = os.path.join(\n",
    "    root_dir, \"out_data\")\n",
    "if not os.path.exists(directory): os.makedirs(directory)\n",
    "with open(os.path.join(directory, \"df_octa_info.pickle\"), \"wb\") as fle:\n",
    "    pickle.dump(df_octa_info_new, fle)\n",
    "# #########################################################"
   ]
  },
  {
   "cell_type": "code",
   "execution_count": 17,
   "metadata": {},
   "outputs": [
    {
     "name": "stdout",
     "output_type": "stream",
     "text": [
      "# # # # # # # # # # # # # # # # # # # # # # # # # # # # # # # # # # # # # # # # \n",
      "All done!\n",
      "Run time: 0.166 min\n",
      "get_octahedra_atoms.ipynb\n",
      "# # # # # # # # # # # # # # # # # # # # # # # # # # # # # # # # # # # # # # # # \n"
     ]
    }
   ],
   "source": [
    "# #########################################################\n",
    "print(20 * \"# # \")\n",
    "print(\"All done!\")\n",
    "print(\"Run time:\", np.round((time.time() - ti) / 60, 3), \"min\")\n",
    "print(\"get_octahedra_atoms.ipynb\")\n",
    "print(20 * \"# # \")\n",
    "# #########################################################"
   ]
  },
  {
   "cell_type": "raw",
   "metadata": {},
   "source": [
    "\n",
    "\n"
   ]
  }
 ],
 "metadata": {
  "kernelspec": {
   "display_name": "Python [conda env:PROJ_irox_oer] *",
   "language": "python",
   "name": "conda-env-PROJ_irox_oer-py"
  },
  "language_info": {
   "codemirror_mode": {
    "name": "ipython",
    "version": 3
   },
   "file_extension": ".py",
   "mimetype": "text/x-python",
   "name": "python",
   "nbconvert_exporter": "python",
   "pygments_lexer": "ipython3",
   "version": "3.6.10"
  }
 },
 "nbformat": 4,
 "nbformat_minor": 4
}
