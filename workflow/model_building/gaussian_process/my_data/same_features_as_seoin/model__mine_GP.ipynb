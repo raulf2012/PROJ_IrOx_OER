{
 "cells": [
  {
   "attachments": {},
   "cell_type": "markdown",
   "metadata": {},
   "source": [
    "# Constructing linear model for OER adsorption energies\n",
    "---\n"
   ]
  },
  {
   "attachments": {},
   "cell_type": "markdown",
   "metadata": {},
   "source": [
    "### Import Modules"
   ]
  },
  {
   "cell_type": "code",
   "execution_count": 22,
   "metadata": {},
   "outputs": [
    {
     "name": "stdout",
     "output_type": "stream",
     "text": [
      "/mnt/c/Users/RaulA/Dropbox/Computing/00_git_repos/PROJ_IrOx_OER/workflow/model_building/gaussian_process/my_data/same_features_as_seoin\n"
     ]
    }
   ],
   "source": [
    "import os\n",
    "print(os.getcwd())\n",
    "import sys\n",
    "import time; ti = time.time()\n",
    "\n",
    "import pickle\n",
    "\n",
    "import numpy as np\n",
    "import pandas as pd\n",
    "pd.set_option(\"display.max_columns\", None)\n",
    "\n",
    "import plotly.graph_objects as go\n",
    "\n",
    "# #########################################################\n",
    "from methods import (\n",
    "    get_df_features_targets,\n",
    "    get_df_features_targets_seoin,\n",
    "    )\n",
    "\n",
    "from methods_models import ModelAgent, GP_Regression\n",
    "\n",
    "from proj_data import adsorbates\n",
    "from proj_data import layout_shared\n",
    "from proj_data import scatter_marker_props"
   ]
  },
  {
   "cell_type": "code",
   "execution_count": 23,
   "metadata": {},
   "outputs": [],
   "source": [
    "from methods import isnotebook    \n",
    "isnotebook_i = isnotebook()\n",
    "if isnotebook_i:\n",
    "    from tqdm.notebook import tqdm\n",
    "    verbose = True\n",
    "    show_plot = True\n",
    "else:\n",
    "    from tqdm import tqdm\n",
    "    verbose = False\n",
    "    show_plot = False"
   ]
  },
  {
   "cell_type": "code",
   "execution_count": 24,
   "metadata": {},
   "outputs": [],
   "source": [
    "root_dir = os.path.join(\n",
    "    os.environ[\"PROJ_irox_oer\"],\n",
    "    \"workflow/model_building/gaussian_process/my_data/same_features_as_seoin\")"
   ]
  },
  {
   "attachments": {},
   "cell_type": "markdown",
   "metadata": {},
   "source": [
    "### Script Inputs"
   ]
  },
  {
   "cell_type": "code",
   "execution_count": 25,
   "metadata": {
    "lines_to_next_cell": 0
   },
   "outputs": [],
   "source": [
    "target_ads_i = \"oh\"\n",
    "\n",
    "feature_ads_i = \"o\"\n",
    "\n",
    "use_seoin_data = False\n",
    "\n",
    "if use_seoin_data:\n",
    "    feature_ads_i = \"o\""
   ]
  },
  {
   "cell_type": "code",
   "execution_count": 26,
   "metadata": {},
   "outputs": [],
   "source": [
    "quick_easy_settings = False\n",
    "if quick_easy_settings:\n",
    "    k_fold_partition_size = 170\n",
    "    do_every_nth_pca_comp = 4\n",
    "else:\n",
    "    k_fold_partition_size = 30\n",
    "    do_every_nth_pca_comp = 1"
   ]
  },
  {
   "cell_type": "code",
   "execution_count": 27,
   "metadata": {},
   "outputs": [],
   "source": [
    "# # TEMP\n",
    "# print(111 * \"TEMP | \")\n",
    "# do_every_nth_pca_comp = 9"
   ]
  },
  {
   "attachments": {},
   "cell_type": "markdown",
   "metadata": {},
   "source": [
    "### Read Data"
   ]
  },
  {
   "cell_type": "code",
   "execution_count": 28,
   "metadata": {},
   "outputs": [],
   "source": [
    "# #########################################################\n",
    "df_features_targets = get_df_features_targets()\n",
    "\n",
    "# #########################################################\n",
    "df_seoin = get_df_features_targets_seoin()"
   ]
  },
  {
   "attachments": {},
   "cell_type": "markdown",
   "metadata": {},
   "source": [
    "### Combine mine and Seoin's data"
   ]
  },
  {
   "cell_type": "code",
   "execution_count": 29,
   "metadata": {},
   "outputs": [],
   "source": [
    "if use_seoin_data:\n",
    "    # Replace multiindex with index of tuples so that my data and Seoin's data can be combined\n",
    "    indices = df_features_targets.index.tolist()\n",
    "    df_features_targets.index = indices\n",
    "\n",
    "    indices = df_seoin.index.tolist()\n",
    "    df_seoin.index = indices\n",
    "\n",
    "    # Remove columns that aren't shared by my and Seoin's data\n",
    "    cols_0 =df_features_targets.columns.tolist()\n",
    "    cols_1 = df_seoin.columns.tolist()\n",
    "\n",
    "    cols_comb = cols_0 + cols_1\n",
    "\n",
    "    cols_comb_unique = []\n",
    "    for col_i in cols_comb:\n",
    "        if col_i not in cols_comb_unique:\n",
    "            cols_comb_unique.append(col_i)\n",
    "\n",
    "    shared_cols = []\n",
    "    for col_i in cols_comb_unique:\n",
    "        if col_i in df_features_targets.columns and col_i in df_seoin.columns:\n",
    "            shared_cols.append(col_i)\n",
    "\n",
    "    # Combine data\n",
    "    df_data = pd.concat([\n",
    "        df_features_targets[shared_cols],\n",
    "        df_seoin[shared_cols],\n",
    "        ], axis=0)\n",
    "else:\n",
    "    df_data = df_features_targets"
   ]
  },
  {
   "attachments": {},
   "cell_type": "markdown",
   "metadata": {},
   "source": [
    "### Choosing feature columns"
   ]
  },
  {
   "cell_type": "code",
   "execution_count": 30,
   "metadata": {},
   "outputs": [],
   "source": [
    "df_data = df_data[[\n",
    "\n",
    "    # ('targets', 'g_o', ''),\n",
    "    ('targets', 'g_oh', ''),\n",
    "\n",
    "    ('data', 'stoich', ''),\n",
    "    ('data', 'job_id_o', ''),\n",
    "    ('data', 'job_id_oh', ''),\n",
    "    ('data', 'job_id_bare', ''),\n",
    "\n",
    "    # ('features', 'o', 'O_magmom'),\n",
    "    # ('features', 'o', 'Ir_magmom'),\n",
    "    # ('features', 'o', 'Ir*O_bader'),\n",
    "    # ('features', 'o', 'Ir_bader'),\n",
    "    # ('features', 'o', 'O_bader'),\n",
    "    # ('features', 'o', 'p_band_center'),\n",
    "    # ('features', 'o', 'Ir*O_bader/ir_o_mean'),\n",
    "\n",
    "    ('features', 'o', 'active_o_metal_dist'),\n",
    "    # ('features', 'o', 'angle_O_Ir_surf_norm'),\n",
    "    # ('features', 'o', 'ir_o_mean'),\n",
    "    ('features', 'o', 'ir_o_std'),\n",
    "    # ('features', 'o', 'octa_vol'),\n",
    "\n",
    "    ('features', 'dH_bulk', ''),\n",
    "    ('features', 'volume_pa', ''),\n",
    "    ('features', 'bulk_oxid_state', ''),\n",
    "    ('features', 'effective_ox_state', ''),\n",
    "\n",
    "    ]]"
   ]
  },
  {
   "cell_type": "code",
   "execution_count": 31,
   "metadata": {},
   "outputs": [
    {
     "data": {
      "text/html": [
       "<div>\n",
       "<style scoped>\n",
       "    .dataframe tbody tr th:only-of-type {\n",
       "        vertical-align: middle;\n",
       "    }\n",
       "\n",
       "    .dataframe tbody tr th {\n",
       "        vertical-align: top;\n",
       "    }\n",
       "\n",
       "    .dataframe thead tr th {\n",
       "        text-align: left;\n",
       "    }\n",
       "\n",
       "    .dataframe thead tr:last-of-type th {\n",
       "        text-align: right;\n",
       "    }\n",
       "</style>\n",
       "<table border=\"1\" class=\"dataframe\">\n",
       "  <thead>\n",
       "    <tr>\n",
       "      <th></th>\n",
       "      <th></th>\n",
       "      <th></th>\n",
       "      <th>targets</th>\n",
       "      <th colspan=\"4\" halign=\"left\">data</th>\n",
       "      <th colspan=\"6\" halign=\"left\">features</th>\n",
       "    </tr>\n",
       "    <tr>\n",
       "      <th></th>\n",
       "      <th></th>\n",
       "      <th></th>\n",
       "      <th>g_oh</th>\n",
       "      <th>stoich</th>\n",
       "      <th>job_id_o</th>\n",
       "      <th>job_id_oh</th>\n",
       "      <th>job_id_bare</th>\n",
       "      <th colspan=\"2\" halign=\"left\">o</th>\n",
       "      <th>dH_bulk</th>\n",
       "      <th>volume_pa</th>\n",
       "      <th>bulk_oxid_state</th>\n",
       "      <th>effective_ox_state</th>\n",
       "    </tr>\n",
       "    <tr>\n",
       "      <th></th>\n",
       "      <th></th>\n",
       "      <th></th>\n",
       "      <th></th>\n",
       "      <th></th>\n",
       "      <th></th>\n",
       "      <th></th>\n",
       "      <th></th>\n",
       "      <th>active_o_metal_dist</th>\n",
       "      <th>ir_o_std</th>\n",
       "      <th></th>\n",
       "      <th></th>\n",
       "      <th></th>\n",
       "      <th></th>\n",
       "    </tr>\n",
       "    <tr>\n",
       "      <th>compenv</th>\n",
       "      <th>slab_id</th>\n",
       "      <th>active_site</th>\n",
       "      <th></th>\n",
       "      <th></th>\n",
       "      <th></th>\n",
       "      <th></th>\n",
       "      <th></th>\n",
       "      <th></th>\n",
       "      <th></th>\n",
       "      <th></th>\n",
       "      <th></th>\n",
       "      <th></th>\n",
       "      <th></th>\n",
       "    </tr>\n",
       "  </thead>\n",
       "  <tbody>\n",
       "    <tr>\n",
       "      <th rowspan=\"5\" valign=\"top\">nersc</th>\n",
       "      <th>buvivore_13</th>\n",
       "      <th>38.0</th>\n",
       "      <td>0.145745</td>\n",
       "      <td>AB2</td>\n",
       "      <td>fidivuwi_89</td>\n",
       "      <td>nipidida_98</td>\n",
       "      <td>halavamu_98</td>\n",
       "      <td>1.782397</td>\n",
       "      <td>0.104375</td>\n",
       "      <td>-0.568450</td>\n",
       "      <td>12.531646</td>\n",
       "      <td>4</td>\n",
       "      <td>5.666667</td>\n",
       "    </tr>\n",
       "    <tr>\n",
       "      <th rowspan=\"4\" valign=\"top\">dakoputu_58</th>\n",
       "      <th>74.0</th>\n",
       "      <td>1.355680</td>\n",
       "      <td>AB2</td>\n",
       "      <td>habamehi_10</td>\n",
       "      <td>buvawasa_30</td>\n",
       "      <td>dibomehi_65</td>\n",
       "      <td>1.750519</td>\n",
       "      <td>0.219401</td>\n",
       "      <td>-0.735138</td>\n",
       "      <td>11.952412</td>\n",
       "      <td>4</td>\n",
       "      <td>8.333333</td>\n",
       "    </tr>\n",
       "    <tr>\n",
       "      <th>75.0</th>\n",
       "      <td>1.294538</td>\n",
       "      <td>AB2</td>\n",
       "      <td>hatabufi_70</td>\n",
       "      <td>kutabadu_95</td>\n",
       "      <td>sanegusa_24</td>\n",
       "      <td>1.761406</td>\n",
       "      <td>0.163273</td>\n",
       "      <td>-0.735138</td>\n",
       "      <td>11.952412</td>\n",
       "      <td>4</td>\n",
       "      <td>7.333333</td>\n",
       "    </tr>\n",
       "    <tr>\n",
       "      <th>76.0</th>\n",
       "      <td>1.452632</td>\n",
       "      <td>AB2</td>\n",
       "      <td>ditogotu_52</td>\n",
       "      <td>vokuvige_58</td>\n",
       "      <td>metuwifa_55</td>\n",
       "      <td>1.744237</td>\n",
       "      <td>0.211677</td>\n",
       "      <td>-0.735138</td>\n",
       "      <td>11.952412</td>\n",
       "      <td>4</td>\n",
       "      <td>8.333333</td>\n",
       "    </tr>\n",
       "    <tr>\n",
       "      <th>77.0</th>\n",
       "      <td>0.888724</td>\n",
       "      <td>AB2</td>\n",
       "      <td>timeviri_63</td>\n",
       "      <td>madopana_89</td>\n",
       "      <td>dunopafu_19</td>\n",
       "      <td>1.761731</td>\n",
       "      <td>0.214784</td>\n",
       "      <td>-0.735138</td>\n",
       "      <td>11.952412</td>\n",
       "      <td>4</td>\n",
       "      <td>8.333333</td>\n",
       "    </tr>\n",
       "    <tr>\n",
       "      <th>...</th>\n",
       "      <th>...</th>\n",
       "      <th>...</th>\n",
       "      <td>...</td>\n",
       "      <td>...</td>\n",
       "      <td>...</td>\n",
       "      <td>...</td>\n",
       "      <td>...</td>\n",
       "      <td>...</td>\n",
       "      <td>...</td>\n",
       "      <td>...</td>\n",
       "      <td>...</td>\n",
       "      <td>...</td>\n",
       "      <td>...</td>\n",
       "    </tr>\n",
       "    <tr>\n",
       "      <th rowspan=\"5\" valign=\"top\">slac</th>\n",
       "      <th>wonataro_02</th>\n",
       "      <th>64.0</th>\n",
       "      <td>1.316938</td>\n",
       "      <td>AB3</td>\n",
       "      <td>robivufe_82</td>\n",
       "      <td>bibupufo_15</td>\n",
       "      <td>bikoriko_02</td>\n",
       "      <td>1.764480</td>\n",
       "      <td>0.114769</td>\n",
       "      <td>-0.599425</td>\n",
       "      <td>15.036089</td>\n",
       "      <td>6</td>\n",
       "      <td>8.000000</td>\n",
       "    </tr>\n",
       "    <tr>\n",
       "      <th>wowukoli_59</th>\n",
       "      <th>27.0</th>\n",
       "      <td>0.613686</td>\n",
       "      <td>AB2</td>\n",
       "      <td>kosufovo_07</td>\n",
       "      <td>bokobitu_09</td>\n",
       "      <td>wabiwuti_62</td>\n",
       "      <td>1.753292</td>\n",
       "      <td>0.238801</td>\n",
       "      <td>-0.691297</td>\n",
       "      <td>10.810322</td>\n",
       "      <td>4</td>\n",
       "      <td>8.000000</td>\n",
       "    </tr>\n",
       "    <tr>\n",
       "      <th rowspan=\"3\" valign=\"top\">wufulafe_03</th>\n",
       "      <th>56.0</th>\n",
       "      <td>0.125160</td>\n",
       "      <td>AB2</td>\n",
       "      <td>wihatori_14</td>\n",
       "      <td>vibifulo_23</td>\n",
       "      <td>hibikofe_60</td>\n",
       "      <td>1.766557</td>\n",
       "      <td>0.102071</td>\n",
       "      <td>-0.700424</td>\n",
       "      <td>11.389867</td>\n",
       "      <td>4</td>\n",
       "      <td>5.666667</td>\n",
       "    </tr>\n",
       "    <tr>\n",
       "      <th>57.0</th>\n",
       "      <td>0.418003</td>\n",
       "      <td>AB2</td>\n",
       "      <td>linovote_47</td>\n",
       "      <td>sebibiko_55</td>\n",
       "      <td>vehehomi_38</td>\n",
       "      <td>1.780165</td>\n",
       "      <td>0.092489</td>\n",
       "      <td>-0.700424</td>\n",
       "      <td>11.389867</td>\n",
       "      <td>4</td>\n",
       "      <td>6.333333</td>\n",
       "    </tr>\n",
       "    <tr>\n",
       "      <th>58.0</th>\n",
       "      <td>0.574642</td>\n",
       "      <td>AB2</td>\n",
       "      <td>menamaka_12</td>\n",
       "      <td>sudubuwe_77</td>\n",
       "      <td>vunosepi_77</td>\n",
       "      <td>1.772837</td>\n",
       "      <td>0.100722</td>\n",
       "      <td>-0.700424</td>\n",
       "      <td>11.389867</td>\n",
       "      <td>4</td>\n",
       "      <td>6.333333</td>\n",
       "    </tr>\n",
       "  </tbody>\n",
       "</table>\n",
       "<p>366 rows × 11 columns</p>\n",
       "</div>"
      ],
      "text/plain": [
       "                                  targets   data                            \\\n",
       "                                     g_oh stoich     job_id_o    job_id_oh   \n",
       "                                                                             \n",
       "compenv slab_id     active_site                                              \n",
       "nersc   buvivore_13 38.0         0.145745    AB2  fidivuwi_89  nipidida_98   \n",
       "        dakoputu_58 74.0         1.355680    AB2  habamehi_10  buvawasa_30   \n",
       "                    75.0         1.294538    AB2  hatabufi_70  kutabadu_95   \n",
       "                    76.0         1.452632    AB2  ditogotu_52  vokuvige_58   \n",
       "                    77.0         0.888724    AB2  timeviri_63  madopana_89   \n",
       "...                                   ...    ...          ...          ...   \n",
       "slac    wonataro_02 64.0         1.316938    AB3  robivufe_82  bibupufo_15   \n",
       "        wowukoli_59 27.0         0.613686    AB2  kosufovo_07  bokobitu_09   \n",
       "        wufulafe_03 56.0         0.125160    AB2  wihatori_14  vibifulo_23   \n",
       "                    57.0         0.418003    AB2  linovote_47  sebibiko_55   \n",
       "                    58.0         0.574642    AB2  menamaka_12  sudubuwe_77   \n",
       "\n",
       "                                                        features            \\\n",
       "                                 job_id_bare                   o             \n",
       "                                             active_o_metal_dist  ir_o_std   \n",
       "compenv slab_id     active_site                                              \n",
       "nersc   buvivore_13 38.0         halavamu_98            1.782397  0.104375   \n",
       "        dakoputu_58 74.0         dibomehi_65            1.750519  0.219401   \n",
       "                    75.0         sanegusa_24            1.761406  0.163273   \n",
       "                    76.0         metuwifa_55            1.744237  0.211677   \n",
       "                    77.0         dunopafu_19            1.761731  0.214784   \n",
       "...                                      ...                 ...       ...   \n",
       "slac    wonataro_02 64.0         bikoriko_02            1.764480  0.114769   \n",
       "        wowukoli_59 27.0         wabiwuti_62            1.753292  0.238801   \n",
       "        wufulafe_03 56.0         hibikofe_60            1.766557  0.102071   \n",
       "                    57.0         vehehomi_38            1.780165  0.092489   \n",
       "                    58.0         vunosepi_77            1.772837  0.100722   \n",
       "\n",
       "                                                                      \\\n",
       "                                  dH_bulk  volume_pa bulk_oxid_state   \n",
       "                                                                       \n",
       "compenv slab_id     active_site                                        \n",
       "nersc   buvivore_13 38.0        -0.568450  12.531646               4   \n",
       "        dakoputu_58 74.0        -0.735138  11.952412               4   \n",
       "                    75.0        -0.735138  11.952412               4   \n",
       "                    76.0        -0.735138  11.952412               4   \n",
       "                    77.0        -0.735138  11.952412               4   \n",
       "...                                   ...        ...             ...   \n",
       "slac    wonataro_02 64.0        -0.599425  15.036089               6   \n",
       "        wowukoli_59 27.0        -0.691297  10.810322               4   \n",
       "        wufulafe_03 56.0        -0.700424  11.389867               4   \n",
       "                    57.0        -0.700424  11.389867               4   \n",
       "                    58.0        -0.700424  11.389867               4   \n",
       "\n",
       "                                                    \n",
       "                                effective_ox_state  \n",
       "                                                    \n",
       "compenv slab_id     active_site                     \n",
       "nersc   buvivore_13 38.0                  5.666667  \n",
       "        dakoputu_58 74.0                  8.333333  \n",
       "                    75.0                  7.333333  \n",
       "                    76.0                  8.333333  \n",
       "                    77.0                  8.333333  \n",
       "...                                            ...  \n",
       "slac    wonataro_02 64.0                  8.000000  \n",
       "        wowukoli_59 27.0                  8.000000  \n",
       "        wufulafe_03 56.0                  5.666667  \n",
       "                    57.0                  6.333333  \n",
       "                    58.0                  6.333333  \n",
       "\n",
       "[366 rows x 11 columns]"
      ]
     },
     "execution_count": 31,
     "metadata": {},
     "output_type": "execute_result"
    }
   ],
   "source": [
    "df_data"
   ]
  },
  {
   "cell_type": "code",
   "execution_count": 32,
   "metadata": {},
   "outputs": [],
   "source": [
    "kdict = [\n",
    "    {\n",
    "        \"type\": \"gaussian\",\n",
    "        \"dimension\": \"single\",\n",
    "        \"width\": 1.8,\n",
    "        \"scaling\": 0.5,\n",
    "        \"scaling_bounds\": ((0.0001, 10.),),\n",
    "        }\n",
    "    ]\n",
    "\n",
    "GP_R = GP_Regression(\n",
    "    kernel_list=kdict,\n",
    "    regularization=0.01,\n",
    "    optimize_hyperparameters=True,\n",
    "    scale_data=False,\n",
    "    )"
   ]
  },
  {
   "cell_type": "code",
   "execution_count": 33,
   "metadata": {},
   "outputs": [
    {
     "name": "stdout",
     "output_type": "stream",
     "text": [
      "\n",
      "****************************************\n",
      "1\n",
      "MAE: 0.3512\n",
      "MA.r2: 0.2501\n",
      "MAE (in_fold): 0.3972\n",
      "\n",
      "****************************************\n",
      "2\n",
      "MAE: 0.2381\n",
      "MA.r2: 0.6049\n",
      "MAE (in_fold): 0.3891\n",
      "\n",
      "****************************************\n",
      "3\n",
      "MAE: 0.193\n",
      "MA.r2: 0.738\n",
      "MAE (in_fold): 0.1961\n",
      "\n",
      "****************************************\n",
      "4\n",
      "MAE: 0.1896\n",
      "MA.r2: 0.7496\n",
      "MAE (in_fold): 0.1828\n",
      "\n",
      "****************************************\n",
      "5\n",
      "MAE: 0.1807\n",
      "MA.r2: 0.766\n",
      "MAE (in_fold): 0.1722\n",
      "\n",
      "****************************************\n",
      "6\n",
      "MAE: 0.1788\n",
      "MA.r2: 0.7669\n",
      "MAE (in_fold): 0.1637\n",
      "\n",
      "\n",
      "\n",
      "\n",
      "\n",
      "6 PCA components are ideal with an MAE of 0.1788\n"
     ]
    }
   ],
   "source": [
    "data_dict_list = []\n",
    "num_feat_cols = df_data.features.shape[1]\n",
    "for num_pca_i in range(1, num_feat_cols + 1, do_every_nth_pca_comp):\n",
    "\n",
    "    if verbose:\n",
    "        print(\"\")\n",
    "        print(40 * \"*\")\n",
    "        print(num_pca_i)\n",
    "\n",
    "    MA = ModelAgent(\n",
    "        df_features_targets=df_data,\n",
    "        Regression=GP_R,\n",
    "        Regression_class=GP_Regression,\n",
    "        use_pca=True,\n",
    "        num_pca=num_pca_i,\n",
    "        adsorbates=adsorbates,\n",
    "        stand_targets=False,  # True was giving much worse errors, keep False\n",
    "        )\n",
    "\n",
    "    MA.run_kfold_cv_workflow(\n",
    "        k_fold_partition_size=k_fold_partition_size,\n",
    "        )\n",
    "\n",
    "    if verbose:\n",
    "        print(\"MAE:\", np.round(MA.mae, 4))\n",
    "        print(\"MA.r2:\", np.round(MA.r2, 4))\n",
    "        print(\"MAE (in_fold):\", np.round(MA.mae_infold, 4))\n",
    "\n",
    "    data_dict_i = dict()\n",
    "    data_dict_i[\"num_pca\"] = num_pca_i\n",
    "    data_dict_i[\"MAE\"] = MA.mae\n",
    "    data_dict_i[\"ModelAgent\"] = MA\n",
    "    data_dict_list.append(data_dict_i)\n",
    "\n",
    "df_models = pd.DataFrame(data_dict_list)\n",
    "df_models = df_models.set_index(\"num_pca\")\n",
    "\n",
    "\n",
    "\n",
    "\n",
    "# #########################################################\n",
    "# Finding best performing model\n",
    "row_models_i = df_models.sort_values(\"MAE\").iloc[0]\n",
    "\n",
    "MA_best = row_models_i.ModelAgent\n",
    "\n",
    "print(4 * \"\\n\")\n",
    "if verbose:\n",
    "    print(\n",
    "        row_models_i.name,\n",
    "        \" PCA components are ideal with an MAE of \",\n",
    "        np.round(\n",
    "        row_models_i.MAE,\n",
    "            4),\n",
    "        sep=\"\")"
   ]
  },
  {
   "cell_type": "code",
   "execution_count": 34,
   "metadata": {},
   "outputs": [],
   "source": [
    "from methods_models import ModelAgent_Plotter\n",
    "\n",
    "MA_Plot = ModelAgent_Plotter(\n",
    "    ModelAgent=MA_best,\n",
    "    layout_shared=layout_shared,\n",
    "    )\n",
    "\n",
    "MA_Plot.plot_residuals()\n",
    "MA_Plot.plot_parity()\n",
    "MA_Plot.plot_parity_infold()\n",
    "\n",
    "# # Uncomment to run pca analysis on in-fold regression\n",
    "# MA.run_pca_analysis()"
   ]
  },
  {
   "cell_type": "code",
   "execution_count": 35,
   "metadata": {},
   "outputs": [
    {
     "data": {
      "application/vnd.plotly.v1+json": {
       "config": {
        "plotlyServerURL": "https://plot.ly"
       },
       "data": [
        {
         "type": "scatter",
         "y": [
          1.0491907180339772,
          0.8958920646763573,
          0.8347255579430071,
          0.8109950152360959,
          0.7254419983635652,
          0.6918722212629411,
          0.6748257775304729,
          0.6689012422462846,
          0.6582227337096862,
          0.6430337617650423,
          0.6112247471530481,
          0.6048749970683438,
          0.589459897541549,
          0.5893341153166312,
          0.5731694470520672,
          0.5726507821775464,
          0.5652037475020066,
          0.5637141625773829,
          0.5592738270970379,
          0.5073631743198284,
          0.49045805974941525,
          0.46148109143415117,
          0.4582263041490855,
          0.44398428685412417,
          0.421757990350202,
          0.4190055948612532,
          0.41606175584141236,
          0.4121212233364815,
          0.4004769897570022,
          0.39658866221834477,
          0.38532939444231995,
          0.3850549469584912,
          0.38318163996093024,
          0.3806401372689685,
          0.3803141726517858,
          0.3788224492898806,
          0.37103844035160516,
          0.3679867255263567,
          0.3649319399341231,
          0.36275747883245724,
          0.3610613187699727,
          0.3579053682017055,
          0.3503060263405764,
          0.33461864141542397,
          0.32882623023556046,
          0.32866274306046184,
          0.3283857411811091,
          0.3261285445641555,
          0.3259445406567145,
          0.32547044370160516,
          0.3241381877149643,
          0.3237655496868037,
          0.3196842809200391,
          0.31936891160540815,
          0.3125319632919037,
          0.31230126298192507,
          0.31027878218920013,
          0.30504896843863416,
          0.30347864661940416,
          0.2987246281408098,
          0.2900818476984235,
          0.28962787546340896,
          0.28948619343597737,
          0.28606391085385074,
          0.28587345853541213,
          0.28193300744821737,
          0.2753347328363922,
          0.27426812929061195,
          0.2741394986523453,
          0.27320383198849707,
          0.2696494660947486,
          0.26955352900853247,
          0.26865943692801797,
          0.2683108228503024,
          0.26274752094288734,
          0.26227587750507264,
          0.26195824467882356,
          0.26029229501436,
          0.2594987131720117,
          0.25729771944782054,
          0.2558287709959395,
          0.2545060656158078,
          0.2528174870452211,
          0.2500098339614596,
          0.24836562927963324,
          0.246955761388292,
          0.24679693842803307,
          0.24240711120238312,
          0.2417446298872441,
          0.2411274236160501,
          0.2409184615803419,
          0.24086326196947216,
          0.24037106893747118,
          0.23944937509826114,
          0.23891052812889702,
          0.23857278419730155,
          0.23850623448129293,
          0.23766616686696485,
          0.2359164274082175,
          0.23409546589915853,
          0.2336426807200518,
          0.23213814859619286,
          0.2319190999458549,
          0.22934070649152805,
          0.22825973085927775,
          0.22748168867744245,
          0.22693741470978845,
          0.2264421546080222,
          0.22577480121873417,
          0.22436079557583422,
          0.22232987363050039,
          0.22086619351207726,
          0.2176193577239396,
          0.21740064439138185,
          0.2164931423052685,
          0.21632469756507722,
          0.21335023135469622,
          0.21211881319192893,
          0.21176010127467104,
          0.21165377717739697,
          0.21047611148765033,
          0.20983975045257997,
          0.20959226450441482,
          0.20689538599667334,
          0.20642923885960518,
          0.20063542622138963,
          0.2000415930779973,
          0.1975570657381518,
          0.19656102713309243,
          0.196103776438725,
          0.1959984828705743,
          0.19467051782664346,
          0.19443028111849903,
          0.19193685226119972,
          0.19174248070493793,
          0.19139855865692756,
          0.19052680685340628,
          0.1864581783359831,
          0.18640324169836897,
          0.182124534767371,
          0.18132312800914785,
          0.18063863676833525,
          0.1800546547149835,
          0.17751201043007048,
          0.17746678996159138,
          0.17422974981578743,
          0.1698997251705172,
          0.16915180787124418,
          0.16868795471309928,
          0.16864677855468035,
          0.168498597734547,
          0.16767208998370653,
          0.16727253235179584,
          0.16599479446934073,
          0.16595258104866484,
          0.16487621777590467,
          0.1634765340373534,
          0.1627673534477616,
          0.16258757143272295,
          0.16081748406002627,
          0.15972367982708913,
          0.15843544546732535,
          0.1581972850804625,
          0.15714020511419524,
          0.15701308869051966,
          0.15690963404637226,
          0.15657681575684923,
          0.15617739040385392,
          0.15330524729410588,
          0.1492817144725287,
          0.14734482100421142,
          0.1433308607650552,
          0.14208115772543617,
          0.141695035600921,
          0.14163888927696955,
          0.14147281912917298,
          0.14136908012884608,
          0.14063597050715937,
          0.1394958144951779,
          0.13732049802490498,
          0.1321536630553901,
          0.13202851263449067,
          0.1312604198245857,
          0.12779863359207444,
          0.12686814793942314,
          0.1253756726421067,
          0.12521472003561906,
          0.12490042556745418,
          0.12484804662727877,
          0.12427425213572785,
          0.124260279161718,
          0.12424397589725023,
          0.12314070465072002,
          0.12305086750844585,
          0.12262760047801113,
          0.121908137411743,
          0.12186492708302343,
          0.12182147351589445,
          0.12168179713631777,
          0.12009304943242616,
          0.11930835849233579,
          0.11882733552854252,
          0.11865872421094603,
          0.11857533294916389,
          0.11841387909147083,
          0.11778084758000129,
          0.11675088904190223,
          0.11669822089034132,
          0.11639619335430207,
          0.1160894179195544,
          0.1140288918184631,
          0.11291061825275572,
          0.11103559731276325,
          0.1098877998308645,
          0.1091457604170436,
          0.10874066793706016,
          0.10460312462126287,
          0.10456758807303435,
          0.10224370905270841,
          0.10161186790681787,
          0.10125648404746168,
          0.09974740254884362,
          0.09775587933613328,
          0.09773479203472069,
          0.09715328367511167,
          0.09700047251183785,
          0.09691570607303324,
          0.09476331892290024,
          0.09422906149526677,
          0.09269387846803379,
          0.09265368200718105,
          0.09239821756057798,
          0.09218845696193445,
          0.09166590009028464,
          0.09059756355029625,
          0.09058203506680296,
          0.09027245354106195,
          0.08965008276593589,
          0.0886459580780461,
          0.08735240228022856,
          0.08679925605868344,
          0.08649319055613414,
          0.08519553309335559,
          0.08436221997269722,
          0.08338884552777093,
          0.08312645182476852,
          0.08286179245677583,
          0.0798562988800946,
          0.07962238750111861,
          0.07896652222506684,
          0.07887013600482429,
          0.07812630761586159,
          0.07775234161498967,
          0.07654552193328423,
          0.07523080907860513,
          0.07336555844416703,
          0.07136950768900907,
          0.07075138729601771,
          0.06942036261950979,
          0.06939363549801603,
          0.06815834528342246,
          0.06668128095498038,
          0.06567049759217913,
          0.06484143122840824,
          0.06212117717571819,
          0.061214374492663426,
          0.06105903089196896,
          0.05979610187613038,
          0.05911594724895575,
          0.058845400004607695,
          0.058672972280596314,
          0.058020725262103,
          0.05733453150910539,
          0.05683997192211554,
          0.05576629052472204,
          0.0555394344716269,
          0.05526825746830677,
          0.05518720177272418,
          0.05510450957114377,
          0.05386209721238733,
          0.05265870164621522,
          0.05229233918603815,
          0.052170399599872797,
          0.05108527445302191,
          0.050693838830795146,
          0.05030909282996343,
          0.0502382832577275,
          0.04859141827364444,
          0.04797637427797885,
          0.047899892076270545,
          0.04772105514369751,
          0.04734912256959167,
          0.045523170998607254,
          0.04530912233512585,
          0.044495386163625694,
          0.04411673183420173,
          0.04376792232128035,
          0.043433737568477016,
          0.0428527926093516,
          0.04248222129883383,
          0.04231562960666291,
          0.04228004199055069,
          0.04202811635310799,
          0.0405997620046612,
          0.04047139532622945,
          0.04001212794457776,
          0.03939974100504817,
          0.038879745372864205,
          0.0387736294151686,
          0.03868764833590821,
          0.037846542001253924,
          0.03776785821719453,
          0.03600445176754685,
          0.03474539152644307,
          0.03439420309703034,
          0.032168941262227024,
          0.03173796761204595,
          0.030883311467106767,
          0.030219767482097426,
          0.02962706710648111,
          0.029158061777025734,
          0.028900194932908407,
          0.02888853476329767,
          0.027401812098214906,
          0.026880320383582346,
          0.026361366800173203,
          0.02584870252229332,
          0.024522445023038797,
          0.023401583888478017,
          0.021735710642176498,
          0.021424708979949303,
          0.020011785848070174,
          0.018700015582559404,
          0.017642950387813938,
          0.01707827186753197,
          0.016746277312201796,
          0.016182947322661123,
          0.016153285681156815,
          0.0160592378182145,
          0.015990921784200696,
          0.015513225945029019,
          0.014634821909992768,
          0.013928146648830575,
          0.01369737489569478,
          0.013337926101123498,
          0.012070181813371716,
          0.010216494389936104,
          0.009927683695855949,
          0.009395275600024844,
          0.007999469614809795,
          0.007229814709222682,
          0.007226728573399344,
          0.006945443739499568,
          0.006136324238405377,
          0.005126268483883978,
          0.004047778762448884,
          0.003739200230341355,
          0.0017554237813144358,
          0.0010763937563418313,
          0.000883225687062561,
          0.000797661448589837,
          0.0007731251688405383
         ]
        }
       ],
       "layout": {
        "font": {
         "color": "black",
         "family": "Arial"
        },
        "paper_bgcolor": "white",
        "plot_bgcolor": "white",
        "showlegend": false,
        "template": {
         "data": {
          "bar": [
           {
            "error_x": {
             "color": "#2a3f5f"
            },
            "error_y": {
             "color": "#2a3f5f"
            },
            "marker": {
             "line": {
              "color": "#E5ECF6",
              "width": 0.5
             },
             "pattern": {
              "fillmode": "overlay",
              "size": 10,
              "solidity": 0.2
             }
            },
            "type": "bar"
           }
          ],
          "barpolar": [
           {
            "marker": {
             "line": {
              "color": "#E5ECF6",
              "width": 0.5
             },
             "pattern": {
              "fillmode": "overlay",
              "size": 10,
              "solidity": 0.2
             }
            },
            "type": "barpolar"
           }
          ],
          "carpet": [
           {
            "aaxis": {
             "endlinecolor": "#2a3f5f",
             "gridcolor": "white",
             "linecolor": "white",
             "minorgridcolor": "white",
             "startlinecolor": "#2a3f5f"
            },
            "baxis": {
             "endlinecolor": "#2a3f5f",
             "gridcolor": "white",
             "linecolor": "white",
             "minorgridcolor": "white",
             "startlinecolor": "#2a3f5f"
            },
            "type": "carpet"
           }
          ],
          "choropleth": [
           {
            "colorbar": {
             "outlinewidth": 0,
             "ticks": ""
            },
            "type": "choropleth"
           }
          ],
          "contour": [
           {
            "colorbar": {
             "outlinewidth": 0,
             "ticks": ""
            },
            "colorscale": [
             [
              0,
              "#0d0887"
             ],
             [
              0.1111111111111111,
              "#46039f"
             ],
             [
              0.2222222222222222,
              "#7201a8"
             ],
             [
              0.3333333333333333,
              "#9c179e"
             ],
             [
              0.4444444444444444,
              "#bd3786"
             ],
             [
              0.5555555555555556,
              "#d8576b"
             ],
             [
              0.6666666666666666,
              "#ed7953"
             ],
             [
              0.7777777777777778,
              "#fb9f3a"
             ],
             [
              0.8888888888888888,
              "#fdca26"
             ],
             [
              1,
              "#f0f921"
             ]
            ],
            "type": "contour"
           }
          ],
          "contourcarpet": [
           {
            "colorbar": {
             "outlinewidth": 0,
             "ticks": ""
            },
            "type": "contourcarpet"
           }
          ],
          "heatmap": [
           {
            "colorbar": {
             "outlinewidth": 0,
             "ticks": ""
            },
            "colorscale": [
             [
              0,
              "#0d0887"
             ],
             [
              0.1111111111111111,
              "#46039f"
             ],
             [
              0.2222222222222222,
              "#7201a8"
             ],
             [
              0.3333333333333333,
              "#9c179e"
             ],
             [
              0.4444444444444444,
              "#bd3786"
             ],
             [
              0.5555555555555556,
              "#d8576b"
             ],
             [
              0.6666666666666666,
              "#ed7953"
             ],
             [
              0.7777777777777778,
              "#fb9f3a"
             ],
             [
              0.8888888888888888,
              "#fdca26"
             ],
             [
              1,
              "#f0f921"
             ]
            ],
            "type": "heatmap"
           }
          ],
          "heatmapgl": [
           {
            "colorbar": {
             "outlinewidth": 0,
             "ticks": ""
            },
            "colorscale": [
             [
              0,
              "#0d0887"
             ],
             [
              0.1111111111111111,
              "#46039f"
             ],
             [
              0.2222222222222222,
              "#7201a8"
             ],
             [
              0.3333333333333333,
              "#9c179e"
             ],
             [
              0.4444444444444444,
              "#bd3786"
             ],
             [
              0.5555555555555556,
              "#d8576b"
             ],
             [
              0.6666666666666666,
              "#ed7953"
             ],
             [
              0.7777777777777778,
              "#fb9f3a"
             ],
             [
              0.8888888888888888,
              "#fdca26"
             ],
             [
              1,
              "#f0f921"
             ]
            ],
            "type": "heatmapgl"
           }
          ],
          "histogram": [
           {
            "marker": {
             "pattern": {
              "fillmode": "overlay",
              "size": 10,
              "solidity": 0.2
             }
            },
            "type": "histogram"
           }
          ],
          "histogram2d": [
           {
            "colorbar": {
             "outlinewidth": 0,
             "ticks": ""
            },
            "colorscale": [
             [
              0,
              "#0d0887"
             ],
             [
              0.1111111111111111,
              "#46039f"
             ],
             [
              0.2222222222222222,
              "#7201a8"
             ],
             [
              0.3333333333333333,
              "#9c179e"
             ],
             [
              0.4444444444444444,
              "#bd3786"
             ],
             [
              0.5555555555555556,
              "#d8576b"
             ],
             [
              0.6666666666666666,
              "#ed7953"
             ],
             [
              0.7777777777777778,
              "#fb9f3a"
             ],
             [
              0.8888888888888888,
              "#fdca26"
             ],
             [
              1,
              "#f0f921"
             ]
            ],
            "type": "histogram2d"
           }
          ],
          "histogram2dcontour": [
           {
            "colorbar": {
             "outlinewidth": 0,
             "ticks": ""
            },
            "colorscale": [
             [
              0,
              "#0d0887"
             ],
             [
              0.1111111111111111,
              "#46039f"
             ],
             [
              0.2222222222222222,
              "#7201a8"
             ],
             [
              0.3333333333333333,
              "#9c179e"
             ],
             [
              0.4444444444444444,
              "#bd3786"
             ],
             [
              0.5555555555555556,
              "#d8576b"
             ],
             [
              0.6666666666666666,
              "#ed7953"
             ],
             [
              0.7777777777777778,
              "#fb9f3a"
             ],
             [
              0.8888888888888888,
              "#fdca26"
             ],
             [
              1,
              "#f0f921"
             ]
            ],
            "type": "histogram2dcontour"
           }
          ],
          "mesh3d": [
           {
            "colorbar": {
             "outlinewidth": 0,
             "ticks": ""
            },
            "type": "mesh3d"
           }
          ],
          "parcoords": [
           {
            "line": {
             "colorbar": {
              "outlinewidth": 0,
              "ticks": ""
             }
            },
            "type": "parcoords"
           }
          ],
          "pie": [
           {
            "automargin": true,
            "type": "pie"
           }
          ],
          "scatter": [
           {
            "fillpattern": {
             "fillmode": "overlay",
             "size": 10,
             "solidity": 0.2
            },
            "type": "scatter"
           }
          ],
          "scatter3d": [
           {
            "line": {
             "colorbar": {
              "outlinewidth": 0,
              "ticks": ""
             }
            },
            "marker": {
             "colorbar": {
              "outlinewidth": 0,
              "ticks": ""
             }
            },
            "type": "scatter3d"
           }
          ],
          "scattercarpet": [
           {
            "marker": {
             "colorbar": {
              "outlinewidth": 0,
              "ticks": ""
             }
            },
            "type": "scattercarpet"
           }
          ],
          "scattergeo": [
           {
            "marker": {
             "colorbar": {
              "outlinewidth": 0,
              "ticks": ""
             }
            },
            "type": "scattergeo"
           }
          ],
          "scattergl": [
           {
            "marker": {
             "colorbar": {
              "outlinewidth": 0,
              "ticks": ""
             }
            },
            "type": "scattergl"
           }
          ],
          "scattermapbox": [
           {
            "marker": {
             "colorbar": {
              "outlinewidth": 0,
              "ticks": ""
             }
            },
            "type": "scattermapbox"
           }
          ],
          "scatterpolar": [
           {
            "marker": {
             "colorbar": {
              "outlinewidth": 0,
              "ticks": ""
             }
            },
            "type": "scatterpolar"
           }
          ],
          "scatterpolargl": [
           {
            "marker": {
             "colorbar": {
              "outlinewidth": 0,
              "ticks": ""
             }
            },
            "type": "scatterpolargl"
           }
          ],
          "scatterternary": [
           {
            "marker": {
             "colorbar": {
              "outlinewidth": 0,
              "ticks": ""
             }
            },
            "type": "scatterternary"
           }
          ],
          "surface": [
           {
            "colorbar": {
             "outlinewidth": 0,
             "ticks": ""
            },
            "colorscale": [
             [
              0,
              "#0d0887"
             ],
             [
              0.1111111111111111,
              "#46039f"
             ],
             [
              0.2222222222222222,
              "#7201a8"
             ],
             [
              0.3333333333333333,
              "#9c179e"
             ],
             [
              0.4444444444444444,
              "#bd3786"
             ],
             [
              0.5555555555555556,
              "#d8576b"
             ],
             [
              0.6666666666666666,
              "#ed7953"
             ],
             [
              0.7777777777777778,
              "#fb9f3a"
             ],
             [
              0.8888888888888888,
              "#fdca26"
             ],
             [
              1,
              "#f0f921"
             ]
            ],
            "type": "surface"
           }
          ],
          "table": [
           {
            "cells": {
             "fill": {
              "color": "#EBF0F8"
             },
             "line": {
              "color": "white"
             }
            },
            "header": {
             "fill": {
              "color": "#C8D4E3"
             },
             "line": {
              "color": "white"
             }
            },
            "type": "table"
           }
          ]
         },
         "layout": {
          "annotationdefaults": {
           "arrowcolor": "#2a3f5f",
           "arrowhead": 0,
           "arrowwidth": 1
          },
          "autotypenumbers": "strict",
          "coloraxis": {
           "colorbar": {
            "outlinewidth": 0,
            "ticks": ""
           }
          },
          "colorscale": {
           "diverging": [
            [
             0,
             "#8e0152"
            ],
            [
             0.1,
             "#c51b7d"
            ],
            [
             0.2,
             "#de77ae"
            ],
            [
             0.3,
             "#f1b6da"
            ],
            [
             0.4,
             "#fde0ef"
            ],
            [
             0.5,
             "#f7f7f7"
            ],
            [
             0.6,
             "#e6f5d0"
            ],
            [
             0.7,
             "#b8e186"
            ],
            [
             0.8,
             "#7fbc41"
            ],
            [
             0.9,
             "#4d9221"
            ],
            [
             1,
             "#276419"
            ]
           ],
           "sequential": [
            [
             0,
             "#0d0887"
            ],
            [
             0.1111111111111111,
             "#46039f"
            ],
            [
             0.2222222222222222,
             "#7201a8"
            ],
            [
             0.3333333333333333,
             "#9c179e"
            ],
            [
             0.4444444444444444,
             "#bd3786"
            ],
            [
             0.5555555555555556,
             "#d8576b"
            ],
            [
             0.6666666666666666,
             "#ed7953"
            ],
            [
             0.7777777777777778,
             "#fb9f3a"
            ],
            [
             0.8888888888888888,
             "#fdca26"
            ],
            [
             1,
             "#f0f921"
            ]
           ],
           "sequentialminus": [
            [
             0,
             "#0d0887"
            ],
            [
             0.1111111111111111,
             "#46039f"
            ],
            [
             0.2222222222222222,
             "#7201a8"
            ],
            [
             0.3333333333333333,
             "#9c179e"
            ],
            [
             0.4444444444444444,
             "#bd3786"
            ],
            [
             0.5555555555555556,
             "#d8576b"
            ],
            [
             0.6666666666666666,
             "#ed7953"
            ],
            [
             0.7777777777777778,
             "#fb9f3a"
            ],
            [
             0.8888888888888888,
             "#fdca26"
            ],
            [
             1,
             "#f0f921"
            ]
           ]
          },
          "colorway": [
           "#636efa",
           "#EF553B",
           "#00cc96",
           "#ab63fa",
           "#FFA15A",
           "#19d3f3",
           "#FF6692",
           "#B6E880",
           "#FF97FF",
           "#FECB52"
          ],
          "font": {
           "color": "#2a3f5f"
          },
          "geo": {
           "bgcolor": "white",
           "lakecolor": "white",
           "landcolor": "#E5ECF6",
           "showlakes": true,
           "showland": true,
           "subunitcolor": "white"
          },
          "hoverlabel": {
           "align": "left"
          },
          "hovermode": "closest",
          "mapbox": {
           "style": "light"
          },
          "paper_bgcolor": "white",
          "plot_bgcolor": "#E5ECF6",
          "polar": {
           "angularaxis": {
            "gridcolor": "white",
            "linecolor": "white",
            "ticks": ""
           },
           "bgcolor": "#E5ECF6",
           "radialaxis": {
            "gridcolor": "white",
            "linecolor": "white",
            "ticks": ""
           }
          },
          "scene": {
           "xaxis": {
            "backgroundcolor": "#E5ECF6",
            "gridcolor": "white",
            "gridwidth": 2,
            "linecolor": "white",
            "showbackground": true,
            "ticks": "",
            "zerolinecolor": "white"
           },
           "yaxis": {
            "backgroundcolor": "#E5ECF6",
            "gridcolor": "white",
            "gridwidth": 2,
            "linecolor": "white",
            "showbackground": true,
            "ticks": "",
            "zerolinecolor": "white"
           },
           "zaxis": {
            "backgroundcolor": "#E5ECF6",
            "gridcolor": "white",
            "gridwidth": 2,
            "linecolor": "white",
            "showbackground": true,
            "ticks": "",
            "zerolinecolor": "white"
           }
          },
          "shapedefaults": {
           "line": {
            "color": "#2a3f5f"
           }
          },
          "ternary": {
           "aaxis": {
            "gridcolor": "white",
            "linecolor": "white",
            "ticks": ""
           },
           "baxis": {
            "gridcolor": "white",
            "linecolor": "white",
            "ticks": ""
           },
           "bgcolor": "#E5ECF6",
           "caxis": {
            "gridcolor": "white",
            "linecolor": "white",
            "ticks": ""
           }
          },
          "title": {
           "x": 0.05
          },
          "xaxis": {
           "automargin": true,
           "gridcolor": "white",
           "linecolor": "white",
           "ticks": "",
           "title": {
            "standoff": 15
           },
           "zerolinecolor": "white",
           "zerolinewidth": 2
          },
          "yaxis": {
           "automargin": true,
           "gridcolor": "white",
           "linecolor": "white",
           "ticks": "",
           "title": {
            "standoff": 15
           },
           "zerolinecolor": "white",
           "zerolinewidth": 2
          }
         }
        },
        "xaxis": {
         "linecolor": "black",
         "mirror": true,
         "showgrid": false,
         "showline": true,
         "tickcolor": "black",
         "tickfont": {
          "family": "Arial",
          "size": 20
         },
         "ticks": "outside",
         "title": {
          "font": {
           "color": "black",
           "family": "Arial",
           "size": 24
          },
          "text": "Num PCA Components"
         }
        },
        "yaxis": {
         "linecolor": "black",
         "mirror": true,
         "showgrid": false,
         "showline": true,
         "tickcolor": "black",
         "tickfont": {
          "family": "Arial",
          "size": 20
         },
         "ticks": "outside",
         "title": {
          "font": {
           "color": "black",
           "family": "Arial",
           "size": 24
          },
          "text": "K-Fold Cross Validated MAE"
         }
        }
       }
      },
      "text/html": [
       "<div>                            <div id=\"90da5ba4-f9c7-4fdb-86f4-e3fc6bf0f269\" class=\"plotly-graph-div\" style=\"height:525px; width:100%;\"></div>            <script type=\"text/javascript\">                require([\"plotly\"], function(Plotly) {                    window.PLOTLYENV=window.PLOTLYENV || {};                                    if (document.getElementById(\"90da5ba4-f9c7-4fdb-86f4-e3fc6bf0f269\")) {                    Plotly.newPlot(                        \"90da5ba4-f9c7-4fdb-86f4-e3fc6bf0f269\",                        [{\"y\":[1.0491907180339772,0.8958920646763573,0.8347255579430071,0.8109950152360959,0.7254419983635652,0.6918722212629411,0.6748257775304729,0.6689012422462846,0.6582227337096862,0.6430337617650423,0.6112247471530481,0.6048749970683438,0.589459897541549,0.5893341153166312,0.5731694470520672,0.5726507821775464,0.5652037475020066,0.5637141625773829,0.5592738270970379,0.5073631743198284,0.49045805974941525,0.46148109143415117,0.4582263041490855,0.44398428685412417,0.421757990350202,0.4190055948612532,0.41606175584141236,0.4121212233364815,0.4004769897570022,0.39658866221834477,0.38532939444231995,0.3850549469584912,0.38318163996093024,0.3806401372689685,0.3803141726517858,0.3788224492898806,0.37103844035160516,0.3679867255263567,0.3649319399341231,0.36275747883245724,0.3610613187699727,0.3579053682017055,0.3503060263405764,0.33461864141542397,0.32882623023556046,0.32866274306046184,0.3283857411811091,0.3261285445641555,0.3259445406567145,0.32547044370160516,0.3241381877149643,0.3237655496868037,0.3196842809200391,0.31936891160540815,0.3125319632919037,0.31230126298192507,0.31027878218920013,0.30504896843863416,0.30347864661940416,0.2987246281408098,0.2900818476984235,0.28962787546340896,0.28948619343597737,0.28606391085385074,0.28587345853541213,0.28193300744821737,0.2753347328363922,0.27426812929061195,0.2741394986523453,0.27320383198849707,0.2696494660947486,0.26955352900853247,0.26865943692801797,0.2683108228503024,0.26274752094288734,0.26227587750507264,0.26195824467882356,0.26029229501436,0.2594987131720117,0.25729771944782054,0.2558287709959395,0.2545060656158078,0.2528174870452211,0.2500098339614596,0.24836562927963324,0.246955761388292,0.24679693842803307,0.24240711120238312,0.2417446298872441,0.2411274236160501,0.2409184615803419,0.24086326196947216,0.24037106893747118,0.23944937509826114,0.23891052812889702,0.23857278419730155,0.23850623448129293,0.23766616686696485,0.2359164274082175,0.23409546589915853,0.2336426807200518,0.23213814859619286,0.2319190999458549,0.22934070649152805,0.22825973085927775,0.22748168867744245,0.22693741470978845,0.2264421546080222,0.22577480121873417,0.22436079557583422,0.22232987363050039,0.22086619351207726,0.2176193577239396,0.21740064439138185,0.2164931423052685,0.21632469756507722,0.21335023135469622,0.21211881319192893,0.21176010127467104,0.21165377717739697,0.21047611148765033,0.20983975045257997,0.20959226450441482,0.20689538599667334,0.20642923885960518,0.20063542622138963,0.2000415930779973,0.1975570657381518,0.19656102713309243,0.196103776438725,0.1959984828705743,0.19467051782664346,0.19443028111849903,0.19193685226119972,0.19174248070493793,0.19139855865692756,0.19052680685340628,0.1864581783359831,0.18640324169836897,0.182124534767371,0.18132312800914785,0.18063863676833525,0.1800546547149835,0.17751201043007048,0.17746678996159138,0.17422974981578743,0.1698997251705172,0.16915180787124418,0.16868795471309928,0.16864677855468035,0.168498597734547,0.16767208998370653,0.16727253235179584,0.16599479446934073,0.16595258104866484,0.16487621777590467,0.1634765340373534,0.1627673534477616,0.16258757143272295,0.16081748406002627,0.15972367982708913,0.15843544546732535,0.1581972850804625,0.15714020511419524,0.15701308869051966,0.15690963404637226,0.15657681575684923,0.15617739040385392,0.15330524729410588,0.1492817144725287,0.14734482100421142,0.1433308607650552,0.14208115772543617,0.141695035600921,0.14163888927696955,0.14147281912917298,0.14136908012884608,0.14063597050715937,0.1394958144951779,0.13732049802490498,0.1321536630553901,0.13202851263449067,0.1312604198245857,0.12779863359207444,0.12686814793942314,0.1253756726421067,0.12521472003561906,0.12490042556745418,0.12484804662727877,0.12427425213572785,0.124260279161718,0.12424397589725023,0.12314070465072002,0.12305086750844585,0.12262760047801113,0.121908137411743,0.12186492708302343,0.12182147351589445,0.12168179713631777,0.12009304943242616,0.11930835849233579,0.11882733552854252,0.11865872421094603,0.11857533294916389,0.11841387909147083,0.11778084758000129,0.11675088904190223,0.11669822089034132,0.11639619335430207,0.1160894179195544,0.1140288918184631,0.11291061825275572,0.11103559731276325,0.1098877998308645,0.1091457604170436,0.10874066793706016,0.10460312462126287,0.10456758807303435,0.10224370905270841,0.10161186790681787,0.10125648404746168,0.09974740254884362,0.09775587933613328,0.09773479203472069,0.09715328367511167,0.09700047251183785,0.09691570607303324,0.09476331892290024,0.09422906149526677,0.09269387846803379,0.09265368200718105,0.09239821756057798,0.09218845696193445,0.09166590009028464,0.09059756355029625,0.09058203506680296,0.09027245354106195,0.08965008276593589,0.0886459580780461,0.08735240228022856,0.08679925605868344,0.08649319055613414,0.08519553309335559,0.08436221997269722,0.08338884552777093,0.08312645182476852,0.08286179245677583,0.0798562988800946,0.07962238750111861,0.07896652222506684,0.07887013600482429,0.07812630761586159,0.07775234161498967,0.07654552193328423,0.07523080907860513,0.07336555844416703,0.07136950768900907,0.07075138729601771,0.06942036261950979,0.06939363549801603,0.06815834528342246,0.06668128095498038,0.06567049759217913,0.06484143122840824,0.06212117717571819,0.061214374492663426,0.06105903089196896,0.05979610187613038,0.05911594724895575,0.058845400004607695,0.058672972280596314,0.058020725262103,0.05733453150910539,0.05683997192211554,0.05576629052472204,0.0555394344716269,0.05526825746830677,0.05518720177272418,0.05510450957114377,0.05386209721238733,0.05265870164621522,0.05229233918603815,0.052170399599872797,0.05108527445302191,0.050693838830795146,0.05030909282996343,0.0502382832577275,0.04859141827364444,0.04797637427797885,0.047899892076270545,0.04772105514369751,0.04734912256959167,0.045523170998607254,0.04530912233512585,0.044495386163625694,0.04411673183420173,0.04376792232128035,0.043433737568477016,0.0428527926093516,0.04248222129883383,0.04231562960666291,0.04228004199055069,0.04202811635310799,0.0405997620046612,0.04047139532622945,0.04001212794457776,0.03939974100504817,0.038879745372864205,0.0387736294151686,0.03868764833590821,0.037846542001253924,0.03776785821719453,0.03600445176754685,0.03474539152644307,0.03439420309703034,0.032168941262227024,0.03173796761204595,0.030883311467106767,0.030219767482097426,0.02962706710648111,0.029158061777025734,0.028900194932908407,0.02888853476329767,0.027401812098214906,0.026880320383582346,0.026361366800173203,0.02584870252229332,0.024522445023038797,0.023401583888478017,0.021735710642176498,0.021424708979949303,0.020011785848070174,0.018700015582559404,0.017642950387813938,0.01707827186753197,0.016746277312201796,0.016182947322661123,0.016153285681156815,0.0160592378182145,0.015990921784200696,0.015513225945029019,0.014634821909992768,0.013928146648830575,0.01369737489569478,0.013337926101123498,0.012070181813371716,0.010216494389936104,0.009927683695855949,0.009395275600024844,0.007999469614809795,0.007229814709222682,0.007226728573399344,0.006945443739499568,0.006136324238405377,0.005126268483883978,0.004047778762448884,0.003739200230341355,0.0017554237813144358,0.0010763937563418313,0.000883225687062561,0.000797661448589837,0.0007731251688405383],\"type\":\"scatter\"}],                        {\"font\":{\"color\":\"black\",\"family\":\"Arial\"},\"paper_bgcolor\":\"white\",\"plot_bgcolor\":\"white\",\"showlegend\":false,\"xaxis\":{\"linecolor\":\"black\",\"mirror\":true,\"showgrid\":false,\"showline\":true,\"tickcolor\":\"black\",\"tickfont\":{\"family\":\"Arial\",\"size\":20.0},\"ticks\":\"outside\",\"title\":{\"font\":{\"color\":\"black\",\"family\":\"Arial\",\"size\":24.0},\"text\":\"Num PCA Components\"}},\"yaxis\":{\"linecolor\":\"black\",\"mirror\":true,\"showgrid\":false,\"showline\":true,\"tickcolor\":\"black\",\"tickfont\":{\"family\":\"Arial\",\"size\":20.0},\"ticks\":\"outside\",\"title\":{\"font\":{\"color\":\"black\",\"family\":\"Arial\",\"size\":24.0},\"text\":\"K-Fold Cross Validated MAE\"}},\"template\":{\"data\":{\"histogram2dcontour\":[{\"type\":\"histogram2dcontour\",\"colorbar\":{\"outlinewidth\":0,\"ticks\":\"\"},\"colorscale\":[[0.0,\"#0d0887\"],[0.1111111111111111,\"#46039f\"],[0.2222222222222222,\"#7201a8\"],[0.3333333333333333,\"#9c179e\"],[0.4444444444444444,\"#bd3786\"],[0.5555555555555556,\"#d8576b\"],[0.6666666666666666,\"#ed7953\"],[0.7777777777777778,\"#fb9f3a\"],[0.8888888888888888,\"#fdca26\"],[1.0,\"#f0f921\"]]}],\"choropleth\":[{\"type\":\"choropleth\",\"colorbar\":{\"outlinewidth\":0,\"ticks\":\"\"}}],\"histogram2d\":[{\"type\":\"histogram2d\",\"colorbar\":{\"outlinewidth\":0,\"ticks\":\"\"},\"colorscale\":[[0.0,\"#0d0887\"],[0.1111111111111111,\"#46039f\"],[0.2222222222222222,\"#7201a8\"],[0.3333333333333333,\"#9c179e\"],[0.4444444444444444,\"#bd3786\"],[0.5555555555555556,\"#d8576b\"],[0.6666666666666666,\"#ed7953\"],[0.7777777777777778,\"#fb9f3a\"],[0.8888888888888888,\"#fdca26\"],[1.0,\"#f0f921\"]]}],\"heatmap\":[{\"type\":\"heatmap\",\"colorbar\":{\"outlinewidth\":0,\"ticks\":\"\"},\"colorscale\":[[0.0,\"#0d0887\"],[0.1111111111111111,\"#46039f\"],[0.2222222222222222,\"#7201a8\"],[0.3333333333333333,\"#9c179e\"],[0.4444444444444444,\"#bd3786\"],[0.5555555555555556,\"#d8576b\"],[0.6666666666666666,\"#ed7953\"],[0.7777777777777778,\"#fb9f3a\"],[0.8888888888888888,\"#fdca26\"],[1.0,\"#f0f921\"]]}],\"heatmapgl\":[{\"type\":\"heatmapgl\",\"colorbar\":{\"outlinewidth\":0,\"ticks\":\"\"},\"colorscale\":[[0.0,\"#0d0887\"],[0.1111111111111111,\"#46039f\"],[0.2222222222222222,\"#7201a8\"],[0.3333333333333333,\"#9c179e\"],[0.4444444444444444,\"#bd3786\"],[0.5555555555555556,\"#d8576b\"],[0.6666666666666666,\"#ed7953\"],[0.7777777777777778,\"#fb9f3a\"],[0.8888888888888888,\"#fdca26\"],[1.0,\"#f0f921\"]]}],\"contourcarpet\":[{\"type\":\"contourcarpet\",\"colorbar\":{\"outlinewidth\":0,\"ticks\":\"\"}}],\"contour\":[{\"type\":\"contour\",\"colorbar\":{\"outlinewidth\":0,\"ticks\":\"\"},\"colorscale\":[[0.0,\"#0d0887\"],[0.1111111111111111,\"#46039f\"],[0.2222222222222222,\"#7201a8\"],[0.3333333333333333,\"#9c179e\"],[0.4444444444444444,\"#bd3786\"],[0.5555555555555556,\"#d8576b\"],[0.6666666666666666,\"#ed7953\"],[0.7777777777777778,\"#fb9f3a\"],[0.8888888888888888,\"#fdca26\"],[1.0,\"#f0f921\"]]}],\"surface\":[{\"type\":\"surface\",\"colorbar\":{\"outlinewidth\":0,\"ticks\":\"\"},\"colorscale\":[[0.0,\"#0d0887\"],[0.1111111111111111,\"#46039f\"],[0.2222222222222222,\"#7201a8\"],[0.3333333333333333,\"#9c179e\"],[0.4444444444444444,\"#bd3786\"],[0.5555555555555556,\"#d8576b\"],[0.6666666666666666,\"#ed7953\"],[0.7777777777777778,\"#fb9f3a\"],[0.8888888888888888,\"#fdca26\"],[1.0,\"#f0f921\"]]}],\"mesh3d\":[{\"type\":\"mesh3d\",\"colorbar\":{\"outlinewidth\":0,\"ticks\":\"\"}}],\"scatter\":[{\"fillpattern\":{\"fillmode\":\"overlay\",\"size\":10,\"solidity\":0.2},\"type\":\"scatter\"}],\"parcoords\":[{\"type\":\"parcoords\",\"line\":{\"colorbar\":{\"outlinewidth\":0,\"ticks\":\"\"}}}],\"scatterpolargl\":[{\"type\":\"scatterpolargl\",\"marker\":{\"colorbar\":{\"outlinewidth\":0,\"ticks\":\"\"}}}],\"bar\":[{\"error_x\":{\"color\":\"#2a3f5f\"},\"error_y\":{\"color\":\"#2a3f5f\"},\"marker\":{\"line\":{\"color\":\"#E5ECF6\",\"width\":0.5},\"pattern\":{\"fillmode\":\"overlay\",\"size\":10,\"solidity\":0.2}},\"type\":\"bar\"}],\"scattergeo\":[{\"type\":\"scattergeo\",\"marker\":{\"colorbar\":{\"outlinewidth\":0,\"ticks\":\"\"}}}],\"scatterpolar\":[{\"type\":\"scatterpolar\",\"marker\":{\"colorbar\":{\"outlinewidth\":0,\"ticks\":\"\"}}}],\"histogram\":[{\"marker\":{\"pattern\":{\"fillmode\":\"overlay\",\"size\":10,\"solidity\":0.2}},\"type\":\"histogram\"}],\"scattergl\":[{\"type\":\"scattergl\",\"marker\":{\"colorbar\":{\"outlinewidth\":0,\"ticks\":\"\"}}}],\"scatter3d\":[{\"type\":\"scatter3d\",\"line\":{\"colorbar\":{\"outlinewidth\":0,\"ticks\":\"\"}},\"marker\":{\"colorbar\":{\"outlinewidth\":0,\"ticks\":\"\"}}}],\"scattermapbox\":[{\"type\":\"scattermapbox\",\"marker\":{\"colorbar\":{\"outlinewidth\":0,\"ticks\":\"\"}}}],\"scatterternary\":[{\"type\":\"scatterternary\",\"marker\":{\"colorbar\":{\"outlinewidth\":0,\"ticks\":\"\"}}}],\"scattercarpet\":[{\"type\":\"scattercarpet\",\"marker\":{\"colorbar\":{\"outlinewidth\":0,\"ticks\":\"\"}}}],\"carpet\":[{\"aaxis\":{\"endlinecolor\":\"#2a3f5f\",\"gridcolor\":\"white\",\"linecolor\":\"white\",\"minorgridcolor\":\"white\",\"startlinecolor\":\"#2a3f5f\"},\"baxis\":{\"endlinecolor\":\"#2a3f5f\",\"gridcolor\":\"white\",\"linecolor\":\"white\",\"minorgridcolor\":\"white\",\"startlinecolor\":\"#2a3f5f\"},\"type\":\"carpet\"}],\"table\":[{\"cells\":{\"fill\":{\"color\":\"#EBF0F8\"},\"line\":{\"color\":\"white\"}},\"header\":{\"fill\":{\"color\":\"#C8D4E3\"},\"line\":{\"color\":\"white\"}},\"type\":\"table\"}],\"barpolar\":[{\"marker\":{\"line\":{\"color\":\"#E5ECF6\",\"width\":0.5},\"pattern\":{\"fillmode\":\"overlay\",\"size\":10,\"solidity\":0.2}},\"type\":\"barpolar\"}],\"pie\":[{\"automargin\":true,\"type\":\"pie\"}]},\"layout\":{\"autotypenumbers\":\"strict\",\"colorway\":[\"#636efa\",\"#EF553B\",\"#00cc96\",\"#ab63fa\",\"#FFA15A\",\"#19d3f3\",\"#FF6692\",\"#B6E880\",\"#FF97FF\",\"#FECB52\"],\"font\":{\"color\":\"#2a3f5f\"},\"hovermode\":\"closest\",\"hoverlabel\":{\"align\":\"left\"},\"paper_bgcolor\":\"white\",\"plot_bgcolor\":\"#E5ECF6\",\"polar\":{\"bgcolor\":\"#E5ECF6\",\"angularaxis\":{\"gridcolor\":\"white\",\"linecolor\":\"white\",\"ticks\":\"\"},\"radialaxis\":{\"gridcolor\":\"white\",\"linecolor\":\"white\",\"ticks\":\"\"}},\"ternary\":{\"bgcolor\":\"#E5ECF6\",\"aaxis\":{\"gridcolor\":\"white\",\"linecolor\":\"white\",\"ticks\":\"\"},\"baxis\":{\"gridcolor\":\"white\",\"linecolor\":\"white\",\"ticks\":\"\"},\"caxis\":{\"gridcolor\":\"white\",\"linecolor\":\"white\",\"ticks\":\"\"}},\"coloraxis\":{\"colorbar\":{\"outlinewidth\":0,\"ticks\":\"\"}},\"colorscale\":{\"sequential\":[[0.0,\"#0d0887\"],[0.1111111111111111,\"#46039f\"],[0.2222222222222222,\"#7201a8\"],[0.3333333333333333,\"#9c179e\"],[0.4444444444444444,\"#bd3786\"],[0.5555555555555556,\"#d8576b\"],[0.6666666666666666,\"#ed7953\"],[0.7777777777777778,\"#fb9f3a\"],[0.8888888888888888,\"#fdca26\"],[1.0,\"#f0f921\"]],\"sequentialminus\":[[0.0,\"#0d0887\"],[0.1111111111111111,\"#46039f\"],[0.2222222222222222,\"#7201a8\"],[0.3333333333333333,\"#9c179e\"],[0.4444444444444444,\"#bd3786\"],[0.5555555555555556,\"#d8576b\"],[0.6666666666666666,\"#ed7953\"],[0.7777777777777778,\"#fb9f3a\"],[0.8888888888888888,\"#fdca26\"],[1.0,\"#f0f921\"]],\"diverging\":[[0,\"#8e0152\"],[0.1,\"#c51b7d\"],[0.2,\"#de77ae\"],[0.3,\"#f1b6da\"],[0.4,\"#fde0ef\"],[0.5,\"#f7f7f7\"],[0.6,\"#e6f5d0\"],[0.7,\"#b8e186\"],[0.8,\"#7fbc41\"],[0.9,\"#4d9221\"],[1,\"#276419\"]]},\"xaxis\":{\"gridcolor\":\"white\",\"linecolor\":\"white\",\"ticks\":\"\",\"title\":{\"standoff\":15},\"zerolinecolor\":\"white\",\"automargin\":true,\"zerolinewidth\":2},\"yaxis\":{\"gridcolor\":\"white\",\"linecolor\":\"white\",\"ticks\":\"\",\"title\":{\"standoff\":15},\"zerolinecolor\":\"white\",\"automargin\":true,\"zerolinewidth\":2},\"scene\":{\"xaxis\":{\"backgroundcolor\":\"#E5ECF6\",\"gridcolor\":\"white\",\"linecolor\":\"white\",\"showbackground\":true,\"ticks\":\"\",\"zerolinecolor\":\"white\",\"gridwidth\":2},\"yaxis\":{\"backgroundcolor\":\"#E5ECF6\",\"gridcolor\":\"white\",\"linecolor\":\"white\",\"showbackground\":true,\"ticks\":\"\",\"zerolinecolor\":\"white\",\"gridwidth\":2},\"zaxis\":{\"backgroundcolor\":\"#E5ECF6\",\"gridcolor\":\"white\",\"linecolor\":\"white\",\"showbackground\":true,\"ticks\":\"\",\"zerolinecolor\":\"white\",\"gridwidth\":2}},\"shapedefaults\":{\"line\":{\"color\":\"#2a3f5f\"}},\"annotationdefaults\":{\"arrowcolor\":\"#2a3f5f\",\"arrowhead\":0,\"arrowwidth\":1},\"geo\":{\"bgcolor\":\"white\",\"landcolor\":\"#E5ECF6\",\"subunitcolor\":\"white\",\"showland\":true,\"showlakes\":true,\"lakecolor\":\"white\"},\"title\":{\"x\":0.05},\"mapbox\":{\"style\":\"light\"}}}},                        {\"responsive\": true}                    ).then(function(){\n",
       "                            \n",
       "var gd = document.getElementById('90da5ba4-f9c7-4fdb-86f4-e3fc6bf0f269');\n",
       "var x = new MutationObserver(function (mutations, observer) {{\n",
       "        var display = window.getComputedStyle(gd).display;\n",
       "        if (!display || display === 'none') {{\n",
       "            console.log([gd, 'removed!']);\n",
       "            Plotly.purge(gd);\n",
       "            observer.disconnect();\n",
       "        }}\n",
       "}});\n",
       "\n",
       "// Listen for the removal of the full notebook cells\n",
       "var notebookContainer = gd.closest('#notebook-container');\n",
       "if (notebookContainer) {{\n",
       "    x.observe(notebookContainer, {childList: true});\n",
       "}}\n",
       "\n",
       "// Listen for the clearing of the current output cell\n",
       "var outputEl = gd.closest('.output');\n",
       "if (outputEl) {{\n",
       "    x.observe(outputEl, {childList: true});\n",
       "}}\n",
       "\n",
       "                        })                };                });            </script>        </div>"
      ]
     },
     "metadata": {},
     "output_type": "display_data"
    }
   ],
   "source": [
    "fig = MA_Plot.plot_residuals__PLT\n",
    "if show_plot:\n",
    "    fig.show()"
   ]
  },
  {
   "cell_type": "code",
   "execution_count": 36,
   "metadata": {},
   "outputs": [
    {
     "data": {
      "application/vnd.plotly.v1+json": {
       "config": {
        "plotlyServerURL": "https://plot.ly"
       },
       "data": [
        {
         "line": {
          "color": "black"
         },
         "mode": "lines",
         "name": "Parity line",
         "type": "scatter",
         "x": [
          -0.31844745000001856,
          2.286148219999985
         ],
         "y": [
          -0.31844745000001856,
          2.286148219999985
         ]
        },
        {
         "mode": "markers",
         "name": "CV Regression",
         "opacity": 1,
         "type": "scatter",
         "x": [
          0.9692132931466446,
          0.4857954155278392,
          0.3680937310050538,
          1.3409897938885038,
          1.324624935285069,
          0.9129631283016444,
          1.2150069994928323,
          0.7697997105247154,
          1.2249109771530335,
          0.7360732197569959,
          0.4995302335921359,
          1.3443668346271558,
          1.1582772990086312,
          1.0039120387700144,
          1.913597644895713,
          0.8876881357568465,
          0.9455251736750938,
          0.6508795247673511,
          0.9146278200272988,
          0.2746321676890453,
          1.3433711920606406,
          0.988603235498033,
          0.8386678597644313,
          0.7800180367421774,
          1.6557497587976258,
          0.601014702981935,
          0.7354185580730466,
          0.18925975270397188,
          0.8126656096121501,
          1.3823899715613877,
          1.8824029088595964,
          1.2046372956802216,
          0.19908519072036768,
          1.4558200725317292,
          0.30839954038527395,
          1.2734840830415237,
          1.3186681968002318,
          0.7514777307049272,
          0.19071203716362817,
          1.6407239262984064,
          0.43606264083825863,
          0.7700244811184831,
          0.7973786752367573,
          0.20163711573815135,
          0.39513059439142495,
          0.16832168018419935,
          1.856807513508457,
          0.8323668657615784,
          0.7755635507200935,
          0.42746849773458706,
          0.20340491999538557,
          1.2138523849331762,
          0.45817825140375135,
          0.5109305677759082,
          1.6040716386569471,
          1.3369172681752275,
          0.40125649268781416,
          0.20281527690298873,
          1.2949925175084829,
          0.7315799624988841,
          0.17703029264204417,
          0.6624735801288253,
          0.7492583401127675,
          0.40712626529023765,
          0.6485556015802771,
          0.5051581246079451,
          0.4698649891860782,
          1.1491336480780205,
          1.6346899429548358,
          0.7213808419905376,
          0.8868813830553677,
          0.20097427263448253,
          1.3941063411674932,
          0.20295655767870358,
          1.249873235526401,
          0.1632871577750521,
          0.895428368880097,
          0.17638359892291078,
          1.1957220099459107,
          1.060522832261178,
          1.1809968573226541,
          0.8861938464387222,
          0.6195020948563723,
          1.2698037059536489,
          1.5349110178266372,
          0.19986138990969238,
          1.3258034382736525,
          0.8818042209214099,
          0.3318099704780195,
          0.6502640637786001,
          1.2278714616462096,
          0.7062767738988711,
          0.45272545910803785,
          1.7266844322463228,
          1.0603234640373636,
          1.4605464392898533,
          0.20953724664575546,
          0.6462696620982022,
          0.18478999373950344,
          0.6051612516054377,
          0.6703975591291531,
          0.5217525377197525,
          0.8828699920012397,
          1.0003142199837463,
          0.8738058620071456,
          0.7618764180249684,
          0.43744140144858434,
          0.8054175353212258,
          2.0070235090418933,
          0.8437157659400114,
          1.2957294205849408,
          1.318862075600979,
          1.3589382008538387,
          1.5140421020804382,
          0.7654674468279801,
          1.281513744709219,
          0.8937930675650918,
          1.5137036555576664,
          0.5281671585047469,
          1.226807962057034,
          0.4164443449195403,
          0.8015044374776927,
          0.8190402074881717,
          1.270875018781311,
          0.35639204822294346,
          0.9289572978712357,
          0.38373883456419833,
          1.126415982577356,
          0.46613111138832153,
          1.2554038307093904,
          0.30194118881894383,
          0.9022836975020105,
          0.8648764638363602,
          0.9007535381408402,
          1.26236756526216,
          1.3001215441585714,
          1.4183671896497998,
          1.2717552571363342,
          0.3648499320629348,
          1.3453643043188777,
          0.3813253299643655,
          0.147228991531982,
          1.0194609244000112,
          0.8283384274511434,
          0.4439298223879433,
          0.8765809714341373,
          0.4323788824695356,
          0.8837293669066639,
          1.167270976487945,
          0.8349169480667484,
          0.9050029358992191,
          1.7669035555284154,
          1.3054693336594596,
          0.5541037904038433,
          0.184149171509155,
          1.3371213185546864,
          0.840448382931676,
          0.8895597187371038,
          1.440538125528569,
          0.7537639130779894,
          0.6235135653166708,
          0.9055933642780047,
          0.4319786257890712,
          0.8465779508592988,
          0.18989790242000737,
          1.1814453283850312,
          0.1920754319908795,
          0.8088762644693333,
          1.5944100069280154,
          0.41839696178424646,
          1.1693261549770142,
          0.8378278249328801,
          0.8229434877239541,
          0.7994182345043797,
          1.463213510172956,
          0.5262259941491365,
          0.5413332446212848,
          0.8336390367683038,
          0.8629475515558198,
          0.8165092723351819,
          0.8147087629030736,
          0.6638988787253268,
          0.3437897944725492,
          0.9636350314876552,
          1.3945062696867794,
          0.8474055347165574,
          1.3968065872340887,
          1.3600442387011853,
          1.3170272470508309,
          0.8206793675431996,
          0.6893730013095194,
          0.8773066378643151,
          1.5918631418184361,
          0.806363278645307,
          0.40156676178284556,
          1.034929138201683,
          0.819546467698423,
          0.20368662823242545,
          0.4526544227510385,
          1.2916126201753997,
          0.3183516922746108,
          0.8097273222805725,
          1.3451918898308932,
          0.24636049686696282,
          1.5783520825696442,
          1.2924819381658281,
          0.7737667419220742,
          0.4527652144530592,
          1.4193208425518122,
          1.4702430372941322,
          1.3627645179068324,
          0.7241433755187643,
          0.9529959034477855,
          1.2494347155825594,
          0.9328280512621916,
          0.37859615490178555,
          1.366351593995219,
          1.1940069965640419,
          0.2939603384735534,
          1.2877864459967014,
          0.9900936971757162,
          0.9004621747131623,
          0.5163894654634049,
          0.4840859404299991,
          0.7757776196484159,
          0.3416569939413563,
          0.7948869917472621,
          0.16961927900139528,
          0.9599048310625662,
          1.3641402599341035,
          1.1850099433727053,
          0.20964686045250147,
          1.3805240475921607,
          1.9429748603933774,
          0.9432476679445756,
          0.19245785895136436,
          0.5422699686523913,
          0.4044931689957849,
          1.2665279489799701,
          0.8504079558973032,
          1.1622944624584584,
          0.5685332528705622,
          0.3747545124949063,
          1.2654634139614451,
          1.3859439862903074,
          1.2311245222183906,
          0.28482649186754827,
          0.5732500909200375,
          0.5966936528502842,
          1.249269901765036,
          1.283296452189191,
          0.27582527534926626,
          1.643954274829504,
          0.3679732251142198,
          0.76417025476389,
          0.5358554026517979,
          1.5738446125918237,
          0.8666984274821381,
          0.36354709741176094,
          1.3620311875605822,
          1.3016375879237394,
          0.8577450826093695,
          0.5768747437813424,
          0.7009005878182428,
          0.39258481090856634,
          0.24446831849238393,
          1.2552857684839083,
          0.7532636353236661,
          1.1829755466636023,
          1.2370675868080738,
          0.8419487612375676,
          0.5016922360730547,
          0.19104429799531886,
          0.3576943443842353,
          0.28511434595254315,
          0.7837323943899435,
          1.5720423344926644,
          1.3135832216364207,
          0.45444595415189326,
          0.47769135122842243,
          0.7726321202303552,
          0.28603457731279036,
          0.45892706217752277,
          1.2817819069619247,
          0.9280218194438632,
          1.2622628309549953,
          1.7075457599609436,
          0.8210924286774457,
          1.1463112218761609,
          1.320386339357853,
          0.6950209181288898,
          0.4440972140550059,
          0.7814223763530919,
          1.573901887133097,
          0.14968737443258107,
          0.18708561203468577,
          0.15536093708301735,
          0.44994540238411673,
          0.8040795002505945,
          0.7528413729479837,
          0.23318220769471054,
          0.5089351343129351,
          1.376733531909963,
          1.5585089368541176,
          0.8237973385733852,
          0.9021654741973038,
          1.2357517095999242,
          0.8206503433512111,
          1.6977663076481875,
          0.4252622688307781,
          1.567902751969477,
          0.2002706335503106,
          1.1491529533806428,
          1.258670630723067,
          0.6792921728226347,
          0.20742621369584668,
          0.5453425517727624,
          0.3461343964589929,
          0.805098905504849,
          0.93108571141547,
          0.8988347237563588,
          0.8412906572689991,
          0.8030709384280357,
          0.2624429108903854,
          1.5859586985354284,
          0.7993522944241391,
          0.13738132099592093,
          0.6421989309472806,
          0.7344271814327357,
          0.9876353651688632,
          1.133349996369546,
          0.459002904673774,
          0.29133765833596215,
          0.6140189899615862,
          1.1899997409428735,
          0.1961477971065122,
          0.35257653546731405,
          1.0965627672124043,
          0.8632202395829509,
          0.8112044880114979,
          1.488005437568546,
          0.9509918277150291,
          1.8328451203835812,
          0.9367397181866153,
          1.275391380552179,
          0.4043469539053177,
          1.365928851467146,
          0.159907859343285,
          1.3118562194324,
          1.370117696484101,
          1.729600399234947,
          1.2864259930604618,
          0.8086447463839619,
          0.5013527471700172,
          0.7045578767081082,
          1.553938234861242,
          1.7003488016640063,
          0.7924014619660156,
          1.617107789336174,
          0.22979036261953922,
          0.7976094595711274,
          0.29392579498561844
         ],
         "y": [
          1.159740100000051,
          0.4024065700000683,
          0.32869399000000565,
          1.3175882100000258,
          1.5046795900000525,
          1.0993663700000134,
          1.3556429699999917,
          0.7140334199999934,
          0.6136862299999855,
          0.3355962299999937,
          0.37173160000006145,
          1.38324658000002,
          0.8887237700000987,
          0.6428507200000417,
          1.8999002700000183,
          0.7311113199999972,
          0.8483718899999821,
          0.4687549899999801,
          0.998990039999996,
          0.20326266000003623,
          1.4702393400000637,
          0.919209600000017,
          1.1674940899999917,
          0.8302563199999049,
          1.8981568700000089,
          0.28871344000001,
          0.6308509700000122,
          0.2600111399999896,
          0.830308559999964,
          1.6874389400000218,
          1.6759736699999912,
          1.71200047000005,
          0.4474508200000009,
          1.511088330000036,
          0.31639901000008375,
          1.658539030000015,
          1.2923068300000586,
          0.5597352499999892,
          0.46604677000002037,
          1.9661943700000115,
          0.5603229199999766,
          0.5755941999999841,
          0.826267210000055,
          0.004080049999999558,
          0.1777299500000431,
          0.3425514299999868,
          2.086148219999985,
          0.8385031899999837,
          0.5419208700000417,
          0.25896990000004005,
          0.26225031999999326,
          1.3044344199999791,
          0.6903163999999442,
          0.3460543500000035,
          1.4126730800000196,
          1.420043719999996,
          0.41800277000001596,
          0.23720948000001907,
          1.171941650000037,
          0.8112023500000027,
          0.05165461999993748,
          0.5211044999999792,
          0.9910029700000116,
          0.6340636800000261,
          0.4076371399999352,
          0.2787159699999229,
          0.41757265000004007,
          1.0604876899999744,
          1.887507430000057,
          0.679100799999987,
          0.7547277199999776,
          0.06894575999999186,
          1.7568638199999504,
          0.24672447999998393,
          0.8818865100000444,
          0.24225368000011893,
          0.8155720700000024,
          0.08162028000001054,
          0.9638029100000558,
          0.8685859799999782,
          1.164813909999993,
          0.6900900699999972,
          0.6672231500000698,
          1.4267133400000211,
          1.3402404999999937,
          0.291527289999977,
          1.277212020000008,
          0.957035030000015,
          0.2091823700000084,
          0.8508994899999898,
          1.1752127599999944,
          0.7196146999999946,
          0.5137844900000068,
          1.0577831900000383,
          0.8968469300000101,
          1.0817239899999727,
          0.32593344000005753,
          0.6188678499999873,
          0.17784455000000388,
          0.2857923400000295,
          0.5289247399999801,
          0.609104939999981,
          0.8450234499999858,
          0.8326421300000397,
          0.7811521799999646,
          0.6245559200000634,
          0.4366437399999945,
          1.0673757800000494,
          1.890272619999991,
          1.0045332500000377,
          1.3345030500001094,
          1.177167040000058,
          1.072874289999988,
          1.6301315199999926,
          1.0249661599999917,
          1.2742839299999964,
          0.6774683700000146,
          1.8990330499999863,
          0.6223962200000137,
          2.061533520000041,
          0.5746416300000028,
          0.827353139999986,
          0.9160406800000096,
          1.496649820000045,
          0.3855501099999692,
          0.7598054899999915,
          0.05761029000004281,
          0.5627018199999732,
          0.21917535000002952,
          1.5296719600000024,
          0.6303269300000529,
          0.3370799500000039,
          0.9093718499999859,
          0.6020289100000304,
          1.204346840000057,
          1.7161832999999838,
          1.8401251800000018,
          1.1500734600000164,
          0.473590599999995,
          1.3615175900000345,
          0.5065400499999846,
          0.23992287000001578,
          1.028856200000036,
          0.928085829999987,
          0.47566778999998927,
          0.4150998799999861,
          1.1072046600000085,
          0.9689249000000195,
          1.3881371700000222,
          0.9114624700000327,
          0.6709074700000606,
          1.8224429900000423,
          1.655775360000036,
          0.39792639999998936,
          0.1268146400000496,
          1.168474540000006,
          1.4453233800000198,
          1.581431940000045,
          1.3217107900000264,
          0.5537223199999921,
          0.034179450000039635,
          0.8576169900000259,
          0.5506373500000172,
          0.618318220000021,
          0.30767875000000866,
          1.259197670000021,
          0.37339856000002736,
          0.6428814699999925,
          1.3257505699999974,
          0.40240604000004576,
          1.193848600000053,
          0.8089276299999717,
          0.6053241300000145,
          0.5898259699999648,
          1.622937190000045,
          0.06799969000005102,
          0.436730120000022,
          0.6530003999999685,
          0.9363131099999868,
          0.771200150000056,
          1.3739825900001115,
          0.8756589799999979,
          0.1945080800000205,
          0.7531589200000048,
          1.0707407199999757,
          0.9155638799999799,
          1.4864566700000246,
          1.4025264600000191,
          1.4356025799999947,
          0.9035411599999754,
          0.8463860900000391,
          1.001580890000043,
          1.477834249999973,
          1.0197135100000032,
          0.4393346200000401,
          0.6770237699999775,
          0.5294646199999995,
          0.2396910799999723,
          0.5117703699999943,
          1.4228730399999854,
          0.46043285000004697,
          0.7510543499999762,
          1.2353040900000287,
          0.008694329999997974,
          1.5310029600000525,
          1.3365986700000299,
          0.7169267699999586,
          0.40167994000003726,
          1.7012538500000296,
          1.3169377900000263,
          1.2611526500000145,
          0.9626496100000572,
          0.7902285500000239,
          1.2307347,
          0.9006591099999646,
          0.6180455300000467,
          1.4452217300000434,
          1.4834931900000192,
          0.3287057299999965,
          1.080891060000028,
          0.927972519999998,
          0.731774220000063,
          0.22676158999999596,
          0.3065739299999286,
          1.146816060000021,
          0.42845625000003973,
          0.9077976100000178,
          0.21514245000000254,
          1.2002759000000374,
          0.9992083199999804,
          1.309857989999984,
          -0.00019289000007849388,
          1.3148535499999816,
          1.9852904900000403,
          0.9032355399999978,
          0.3584104400000292,
          0.268130470000046,
          0.5518379899999963,
          1.2451032400000208,
          0.726163980000053,
          1.7517543600000074,
          0.3725347699999879,
          0.637030389999979,
          1.0154535799999855,
          2.0441667199999936,
          0.8345358600000459,
          0.2677482200000163,
          0.25356580999999845,
          0.3283828299999818,
          0.6062361399999936,
          0.9730176699999908,
          0.3989659799999863,
          1.8138540000000212,
          0.21083302000002457,
          1.5751652699999859,
          0.15554123000001208,
          1.8097610400000412,
          0.8364786600000407,
          0.24163896000001794,
          1.2696329700000042,
          1.34953748000001,
          0.814892290000018,
          0.575119320000028,
          0.6848413500000283,
          0.5109986900000372,
          0.12515996000004814,
          1.2501595000000243,
          1.6491557000000234,
          1.5950967700000838,
          1.4491864000000028,
          0.8459965400000165,
          0.40477653000002145,
          0.23164405999998006,
          0.6122004100000431,
          0.38637083000000483,
          0.7735159000000074,
          1.510827960000001,
          2.039025219999986,
          0.47445773999996343,
          0.4128499200000142,
          0.7688929200000139,
          0.17499898000002712,
          -0.11372372000002362,
          1.1895934499999903,
          1.0145150099999973,
          1.1955815500000149,
          1.3243641200000134,
          0.5936107400000032,
          1.0865151200000305,
          1.3421220500000295,
          0.45611038999999276,
          0.4596104400000349,
          0.7393942599999839,
          1.3773408600000046,
          0.27458780000003524,
          0.08935081999996508,
          0.033496009999993914,
          0.5280717099999783,
          1.2945375600000097,
          1.3260108200000509,
          0.44967534999997905,
          0.5098183599999977,
          1.3620987099999702,
          1.1145246499999935,
          0.8165706099999859,
          0.6635926900000022,
          1.1835813100000514,
          0.8345784900000417,
          1.8650388399999833,
          0.37456842999998297,
          1.3270394900000049,
          0.10967307000001436,
          1.452631600000047,
          1.4003095200000366,
          0.8909459500000316,
          0.19749852999999074,
          0.4901553500000382,
          0.43640685000005486,
          0.9445947200000269,
          0.5964670700000461,
          0.8977583300000169,
          0.4606505200000306,
          0.5562740000000026,
          0.14574469000004409,
          1.3000852400000162,
          1.0237130899999733,
          -0.11844745000001855,
          0.744442639999989,
          0.5718396100000127,
          0.9868622400000227,
          1.3556798700000463,
          0.4994743000000035,
          0.25265001000005394,
          0.43655219999999484,
          0.9272522199999862,
          0.1665207300000311,
          0.1941410899999887,
          1.042700670000017,
          0.9723659999999945,
          1.084408319999995,
          1.444571700000069,
          0.6268536400000648,
          1.8059647999999988,
          0.948809899999987,
          1.5326890999999996,
          0.6739964200000663,
          1.3350455400000392,
          0.4858523999999995,
          1.1917631699999738,
          1.4919391699999955,
          1.872931260000002,
          0.95776325,
          1.049772170000012,
          0.5516618399999806,
          1.017089840000012,
          1.1349326399999888,
          1.8868069799999894,
          1.8415921799999928,
          1.5193519100000408,
          0.16037000000002943,
          0.7425049499999836,
          0.5542180899999785
         ]
        }
       ],
       "layout": {
        "font": {
         "color": "black",
         "family": "Arial"
        },
        "paper_bgcolor": "white",
        "plot_bgcolor": "white",
        "showlegend": true,
        "template": {
         "data": {
          "bar": [
           {
            "error_x": {
             "color": "#2a3f5f"
            },
            "error_y": {
             "color": "#2a3f5f"
            },
            "marker": {
             "line": {
              "color": "#E5ECF6",
              "width": 0.5
             },
             "pattern": {
              "fillmode": "overlay",
              "size": 10,
              "solidity": 0.2
             }
            },
            "type": "bar"
           }
          ],
          "barpolar": [
           {
            "marker": {
             "line": {
              "color": "#E5ECF6",
              "width": 0.5
             },
             "pattern": {
              "fillmode": "overlay",
              "size": 10,
              "solidity": 0.2
             }
            },
            "type": "barpolar"
           }
          ],
          "carpet": [
           {
            "aaxis": {
             "endlinecolor": "#2a3f5f",
             "gridcolor": "white",
             "linecolor": "white",
             "minorgridcolor": "white",
             "startlinecolor": "#2a3f5f"
            },
            "baxis": {
             "endlinecolor": "#2a3f5f",
             "gridcolor": "white",
             "linecolor": "white",
             "minorgridcolor": "white",
             "startlinecolor": "#2a3f5f"
            },
            "type": "carpet"
           }
          ],
          "choropleth": [
           {
            "colorbar": {
             "outlinewidth": 0,
             "ticks": ""
            },
            "type": "choropleth"
           }
          ],
          "contour": [
           {
            "colorbar": {
             "outlinewidth": 0,
             "ticks": ""
            },
            "colorscale": [
             [
              0,
              "#0d0887"
             ],
             [
              0.1111111111111111,
              "#46039f"
             ],
             [
              0.2222222222222222,
              "#7201a8"
             ],
             [
              0.3333333333333333,
              "#9c179e"
             ],
             [
              0.4444444444444444,
              "#bd3786"
             ],
             [
              0.5555555555555556,
              "#d8576b"
             ],
             [
              0.6666666666666666,
              "#ed7953"
             ],
             [
              0.7777777777777778,
              "#fb9f3a"
             ],
             [
              0.8888888888888888,
              "#fdca26"
             ],
             [
              1,
              "#f0f921"
             ]
            ],
            "type": "contour"
           }
          ],
          "contourcarpet": [
           {
            "colorbar": {
             "outlinewidth": 0,
             "ticks": ""
            },
            "type": "contourcarpet"
           }
          ],
          "heatmap": [
           {
            "colorbar": {
             "outlinewidth": 0,
             "ticks": ""
            },
            "colorscale": [
             [
              0,
              "#0d0887"
             ],
             [
              0.1111111111111111,
              "#46039f"
             ],
             [
              0.2222222222222222,
              "#7201a8"
             ],
             [
              0.3333333333333333,
              "#9c179e"
             ],
             [
              0.4444444444444444,
              "#bd3786"
             ],
             [
              0.5555555555555556,
              "#d8576b"
             ],
             [
              0.6666666666666666,
              "#ed7953"
             ],
             [
              0.7777777777777778,
              "#fb9f3a"
             ],
             [
              0.8888888888888888,
              "#fdca26"
             ],
             [
              1,
              "#f0f921"
             ]
            ],
            "type": "heatmap"
           }
          ],
          "heatmapgl": [
           {
            "colorbar": {
             "outlinewidth": 0,
             "ticks": ""
            },
            "colorscale": [
             [
              0,
              "#0d0887"
             ],
             [
              0.1111111111111111,
              "#46039f"
             ],
             [
              0.2222222222222222,
              "#7201a8"
             ],
             [
              0.3333333333333333,
              "#9c179e"
             ],
             [
              0.4444444444444444,
              "#bd3786"
             ],
             [
              0.5555555555555556,
              "#d8576b"
             ],
             [
              0.6666666666666666,
              "#ed7953"
             ],
             [
              0.7777777777777778,
              "#fb9f3a"
             ],
             [
              0.8888888888888888,
              "#fdca26"
             ],
             [
              1,
              "#f0f921"
             ]
            ],
            "type": "heatmapgl"
           }
          ],
          "histogram": [
           {
            "marker": {
             "pattern": {
              "fillmode": "overlay",
              "size": 10,
              "solidity": 0.2
             }
            },
            "type": "histogram"
           }
          ],
          "histogram2d": [
           {
            "colorbar": {
             "outlinewidth": 0,
             "ticks": ""
            },
            "colorscale": [
             [
              0,
              "#0d0887"
             ],
             [
              0.1111111111111111,
              "#46039f"
             ],
             [
              0.2222222222222222,
              "#7201a8"
             ],
             [
              0.3333333333333333,
              "#9c179e"
             ],
             [
              0.4444444444444444,
              "#bd3786"
             ],
             [
              0.5555555555555556,
              "#d8576b"
             ],
             [
              0.6666666666666666,
              "#ed7953"
             ],
             [
              0.7777777777777778,
              "#fb9f3a"
             ],
             [
              0.8888888888888888,
              "#fdca26"
             ],
             [
              1,
              "#f0f921"
             ]
            ],
            "type": "histogram2d"
           }
          ],
          "histogram2dcontour": [
           {
            "colorbar": {
             "outlinewidth": 0,
             "ticks": ""
            },
            "colorscale": [
             [
              0,
              "#0d0887"
             ],
             [
              0.1111111111111111,
              "#46039f"
             ],
             [
              0.2222222222222222,
              "#7201a8"
             ],
             [
              0.3333333333333333,
              "#9c179e"
             ],
             [
              0.4444444444444444,
              "#bd3786"
             ],
             [
              0.5555555555555556,
              "#d8576b"
             ],
             [
              0.6666666666666666,
              "#ed7953"
             ],
             [
              0.7777777777777778,
              "#fb9f3a"
             ],
             [
              0.8888888888888888,
              "#fdca26"
             ],
             [
              1,
              "#f0f921"
             ]
            ],
            "type": "histogram2dcontour"
           }
          ],
          "mesh3d": [
           {
            "colorbar": {
             "outlinewidth": 0,
             "ticks": ""
            },
            "type": "mesh3d"
           }
          ],
          "parcoords": [
           {
            "line": {
             "colorbar": {
              "outlinewidth": 0,
              "ticks": ""
             }
            },
            "type": "parcoords"
           }
          ],
          "pie": [
           {
            "automargin": true,
            "type": "pie"
           }
          ],
          "scatter": [
           {
            "fillpattern": {
             "fillmode": "overlay",
             "size": 10,
             "solidity": 0.2
            },
            "type": "scatter"
           }
          ],
          "scatter3d": [
           {
            "line": {
             "colorbar": {
              "outlinewidth": 0,
              "ticks": ""
             }
            },
            "marker": {
             "colorbar": {
              "outlinewidth": 0,
              "ticks": ""
             }
            },
            "type": "scatter3d"
           }
          ],
          "scattercarpet": [
           {
            "marker": {
             "colorbar": {
              "outlinewidth": 0,
              "ticks": ""
             }
            },
            "type": "scattercarpet"
           }
          ],
          "scattergeo": [
           {
            "marker": {
             "colorbar": {
              "outlinewidth": 0,
              "ticks": ""
             }
            },
            "type": "scattergeo"
           }
          ],
          "scattergl": [
           {
            "marker": {
             "colorbar": {
              "outlinewidth": 0,
              "ticks": ""
             }
            },
            "type": "scattergl"
           }
          ],
          "scattermapbox": [
           {
            "marker": {
             "colorbar": {
              "outlinewidth": 0,
              "ticks": ""
             }
            },
            "type": "scattermapbox"
           }
          ],
          "scatterpolar": [
           {
            "marker": {
             "colorbar": {
              "outlinewidth": 0,
              "ticks": ""
             }
            },
            "type": "scatterpolar"
           }
          ],
          "scatterpolargl": [
           {
            "marker": {
             "colorbar": {
              "outlinewidth": 0,
              "ticks": ""
             }
            },
            "type": "scatterpolargl"
           }
          ],
          "scatterternary": [
           {
            "marker": {
             "colorbar": {
              "outlinewidth": 0,
              "ticks": ""
             }
            },
            "type": "scatterternary"
           }
          ],
          "surface": [
           {
            "colorbar": {
             "outlinewidth": 0,
             "ticks": ""
            },
            "colorscale": [
             [
              0,
              "#0d0887"
             ],
             [
              0.1111111111111111,
              "#46039f"
             ],
             [
              0.2222222222222222,
              "#7201a8"
             ],
             [
              0.3333333333333333,
              "#9c179e"
             ],
             [
              0.4444444444444444,
              "#bd3786"
             ],
             [
              0.5555555555555556,
              "#d8576b"
             ],
             [
              0.6666666666666666,
              "#ed7953"
             ],
             [
              0.7777777777777778,
              "#fb9f3a"
             ],
             [
              0.8888888888888888,
              "#fdca26"
             ],
             [
              1,
              "#f0f921"
             ]
            ],
            "type": "surface"
           }
          ],
          "table": [
           {
            "cells": {
             "fill": {
              "color": "#EBF0F8"
             },
             "line": {
              "color": "white"
             }
            },
            "header": {
             "fill": {
              "color": "#C8D4E3"
             },
             "line": {
              "color": "white"
             }
            },
            "type": "table"
           }
          ]
         },
         "layout": {
          "annotationdefaults": {
           "arrowcolor": "#2a3f5f",
           "arrowhead": 0,
           "arrowwidth": 1
          },
          "autotypenumbers": "strict",
          "coloraxis": {
           "colorbar": {
            "outlinewidth": 0,
            "ticks": ""
           }
          },
          "colorscale": {
           "diverging": [
            [
             0,
             "#8e0152"
            ],
            [
             0.1,
             "#c51b7d"
            ],
            [
             0.2,
             "#de77ae"
            ],
            [
             0.3,
             "#f1b6da"
            ],
            [
             0.4,
             "#fde0ef"
            ],
            [
             0.5,
             "#f7f7f7"
            ],
            [
             0.6,
             "#e6f5d0"
            ],
            [
             0.7,
             "#b8e186"
            ],
            [
             0.8,
             "#7fbc41"
            ],
            [
             0.9,
             "#4d9221"
            ],
            [
             1,
             "#276419"
            ]
           ],
           "sequential": [
            [
             0,
             "#0d0887"
            ],
            [
             0.1111111111111111,
             "#46039f"
            ],
            [
             0.2222222222222222,
             "#7201a8"
            ],
            [
             0.3333333333333333,
             "#9c179e"
            ],
            [
             0.4444444444444444,
             "#bd3786"
            ],
            [
             0.5555555555555556,
             "#d8576b"
            ],
            [
             0.6666666666666666,
             "#ed7953"
            ],
            [
             0.7777777777777778,
             "#fb9f3a"
            ],
            [
             0.8888888888888888,
             "#fdca26"
            ],
            [
             1,
             "#f0f921"
            ]
           ],
           "sequentialminus": [
            [
             0,
             "#0d0887"
            ],
            [
             0.1111111111111111,
             "#46039f"
            ],
            [
             0.2222222222222222,
             "#7201a8"
            ],
            [
             0.3333333333333333,
             "#9c179e"
            ],
            [
             0.4444444444444444,
             "#bd3786"
            ],
            [
             0.5555555555555556,
             "#d8576b"
            ],
            [
             0.6666666666666666,
             "#ed7953"
            ],
            [
             0.7777777777777778,
             "#fb9f3a"
            ],
            [
             0.8888888888888888,
             "#fdca26"
            ],
            [
             1,
             "#f0f921"
            ]
           ]
          },
          "colorway": [
           "#636efa",
           "#EF553B",
           "#00cc96",
           "#ab63fa",
           "#FFA15A",
           "#19d3f3",
           "#FF6692",
           "#B6E880",
           "#FF97FF",
           "#FECB52"
          ],
          "font": {
           "color": "#2a3f5f"
          },
          "geo": {
           "bgcolor": "white",
           "lakecolor": "white",
           "landcolor": "#E5ECF6",
           "showlakes": true,
           "showland": true,
           "subunitcolor": "white"
          },
          "hoverlabel": {
           "align": "left"
          },
          "hovermode": "closest",
          "mapbox": {
           "style": "light"
          },
          "paper_bgcolor": "white",
          "plot_bgcolor": "#E5ECF6",
          "polar": {
           "angularaxis": {
            "gridcolor": "white",
            "linecolor": "white",
            "ticks": ""
           },
           "bgcolor": "#E5ECF6",
           "radialaxis": {
            "gridcolor": "white",
            "linecolor": "white",
            "ticks": ""
           }
          },
          "scene": {
           "xaxis": {
            "backgroundcolor": "#E5ECF6",
            "gridcolor": "white",
            "gridwidth": 2,
            "linecolor": "white",
            "showbackground": true,
            "ticks": "",
            "zerolinecolor": "white"
           },
           "yaxis": {
            "backgroundcolor": "#E5ECF6",
            "gridcolor": "white",
            "gridwidth": 2,
            "linecolor": "white",
            "showbackground": true,
            "ticks": "",
            "zerolinecolor": "white"
           },
           "zaxis": {
            "backgroundcolor": "#E5ECF6",
            "gridcolor": "white",
            "gridwidth": 2,
            "linecolor": "white",
            "showbackground": true,
            "ticks": "",
            "zerolinecolor": "white"
           }
          },
          "shapedefaults": {
           "line": {
            "color": "#2a3f5f"
           }
          },
          "ternary": {
           "aaxis": {
            "gridcolor": "white",
            "linecolor": "white",
            "ticks": ""
           },
           "baxis": {
            "gridcolor": "white",
            "linecolor": "white",
            "ticks": ""
           },
           "bgcolor": "#E5ECF6",
           "caxis": {
            "gridcolor": "white",
            "linecolor": "white",
            "ticks": ""
           }
          },
          "title": {
           "x": 0.05
          },
          "xaxis": {
           "automargin": true,
           "gridcolor": "white",
           "linecolor": "white",
           "ticks": "",
           "title": {
            "standoff": 15
           },
           "zerolinecolor": "white",
           "zerolinewidth": 2
          },
          "yaxis": {
           "automargin": true,
           "gridcolor": "white",
           "linecolor": "white",
           "ticks": "",
           "title": {
            "standoff": 15
           },
           "zerolinecolor": "white",
           "zerolinewidth": 2
          }
         }
        },
        "xaxis": {
         "linecolor": "black",
         "mirror": true,
         "range": [
          -0.21844745000001856,
          2.186148219999985
         ],
         "showgrid": false,
         "showline": true,
         "tickcolor": "black",
         "tickfont": {
          "family": "Arial",
          "size": 20
         },
         "ticks": "outside",
         "title": {
          "font": {
           "color": "black",
           "family": "Arial",
           "size": 24
          },
          "text": "Predicted ΔG<sub>*OH</sub>"
         }
        },
        "yaxis": {
         "linecolor": "black",
         "mirror": true,
         "range": [
          -0.21844745000001856,
          2.186148219999985
         ],
         "showgrid": false,
         "showline": true,
         "tickcolor": "black",
         "tickfont": {
          "family": "Arial",
          "size": 20
         },
         "ticks": "outside",
         "title": {
          "font": {
           "color": "black",
           "family": "Arial",
           "size": 24
          },
          "text": "Simulated ΔG<sub>*OH</sub>"
         }
        }
       }
      },
      "text/html": [
       "<div>                            <div id=\"e97e4b89-7d06-4af0-a01f-6d8f99da5f2a\" class=\"plotly-graph-div\" style=\"height:525px; width:100%;\"></div>            <script type=\"text/javascript\">                require([\"plotly\"], function(Plotly) {                    window.PLOTLYENV=window.PLOTLYENV || {};                                    if (document.getElementById(\"e97e4b89-7d06-4af0-a01f-6d8f99da5f2a\")) {                    Plotly.newPlot(                        \"e97e4b89-7d06-4af0-a01f-6d8f99da5f2a\",                        [{\"line\":{\"color\":\"black\"},\"mode\":\"lines\",\"name\":\"Parity line\",\"x\":[-0.31844745000001856,2.286148219999985],\"y\":[-0.31844745000001856,2.286148219999985],\"type\":\"scatter\"},{\"mode\":\"markers\",\"name\":\"CV Regression\",\"opacity\":1.0,\"x\":[0.9692132931466446,0.4857954155278392,0.3680937310050538,1.3409897938885038,1.324624935285069,0.9129631283016444,1.2150069994928323,0.7697997105247154,1.2249109771530335,0.7360732197569959,0.4995302335921359,1.3443668346271558,1.1582772990086312,1.0039120387700144,1.913597644895713,0.8876881357568465,0.9455251736750938,0.6508795247673511,0.9146278200272988,0.2746321676890453,1.3433711920606406,0.988603235498033,0.8386678597644313,0.7800180367421774,1.6557497587976258,0.601014702981935,0.7354185580730466,0.18925975270397188,0.8126656096121501,1.3823899715613877,1.8824029088595964,1.2046372956802216,0.19908519072036768,1.4558200725317292,0.30839954038527395,1.2734840830415237,1.3186681968002318,0.7514777307049272,0.19071203716362817,1.6407239262984064,0.43606264083825863,0.7700244811184831,0.7973786752367573,0.20163711573815135,0.39513059439142495,0.16832168018419935,1.856807513508457,0.8323668657615784,0.7755635507200935,0.42746849773458706,0.20340491999538557,1.2138523849331762,0.45817825140375135,0.5109305677759082,1.6040716386569471,1.3369172681752275,0.40125649268781416,0.20281527690298873,1.2949925175084829,0.7315799624988841,0.17703029264204417,0.6624735801288253,0.7492583401127675,0.40712626529023765,0.6485556015802771,0.5051581246079451,0.4698649891860782,1.1491336480780205,1.6346899429548358,0.7213808419905376,0.8868813830553677,0.20097427263448253,1.3941063411674932,0.20295655767870358,1.249873235526401,0.1632871577750521,0.895428368880097,0.17638359892291078,1.1957220099459107,1.060522832261178,1.1809968573226541,0.8861938464387222,0.6195020948563723,1.2698037059536489,1.5349110178266372,0.19986138990969238,1.3258034382736525,0.8818042209214099,0.3318099704780195,0.6502640637786001,1.2278714616462096,0.7062767738988711,0.45272545910803785,1.7266844322463228,1.0603234640373636,1.4605464392898533,0.20953724664575546,0.6462696620982022,0.18478999373950344,0.6051612516054377,0.6703975591291531,0.5217525377197525,0.8828699920012397,1.0003142199837463,0.8738058620071456,0.7618764180249684,0.43744140144858434,0.8054175353212258,2.0070235090418933,0.8437157659400114,1.2957294205849408,1.318862075600979,1.3589382008538387,1.5140421020804382,0.7654674468279801,1.281513744709219,0.8937930675650918,1.5137036555576664,0.5281671585047469,1.226807962057034,0.4164443449195403,0.8015044374776927,0.8190402074881717,1.270875018781311,0.35639204822294346,0.9289572978712357,0.38373883456419833,1.126415982577356,0.46613111138832153,1.2554038307093904,0.30194118881894383,0.9022836975020105,0.8648764638363602,0.9007535381408402,1.26236756526216,1.3001215441585714,1.4183671896497998,1.2717552571363342,0.3648499320629348,1.3453643043188777,0.3813253299643655,0.147228991531982,1.0194609244000112,0.8283384274511434,0.4439298223879433,0.8765809714341373,0.4323788824695356,0.8837293669066639,1.167270976487945,0.8349169480667484,0.9050029358992191,1.7669035555284154,1.3054693336594596,0.5541037904038433,0.184149171509155,1.3371213185546864,0.840448382931676,0.8895597187371038,1.440538125528569,0.7537639130779894,0.6235135653166708,0.9055933642780047,0.4319786257890712,0.8465779508592988,0.18989790242000737,1.1814453283850312,0.1920754319908795,0.8088762644693333,1.5944100069280154,0.41839696178424646,1.1693261549770142,0.8378278249328801,0.8229434877239541,0.7994182345043797,1.463213510172956,0.5262259941491365,0.5413332446212848,0.8336390367683038,0.8629475515558198,0.8165092723351819,0.8147087629030736,0.6638988787253268,0.3437897944725492,0.9636350314876552,1.3945062696867794,0.8474055347165574,1.3968065872340887,1.3600442387011853,1.3170272470508309,0.8206793675431996,0.6893730013095194,0.8773066378643151,1.5918631418184361,0.806363278645307,0.40156676178284556,1.034929138201683,0.819546467698423,0.20368662823242545,0.4526544227510385,1.2916126201753997,0.3183516922746108,0.8097273222805725,1.3451918898308932,0.24636049686696282,1.5783520825696442,1.2924819381658281,0.7737667419220742,0.4527652144530592,1.4193208425518122,1.4702430372941322,1.3627645179068324,0.7241433755187643,0.9529959034477855,1.2494347155825594,0.9328280512621916,0.37859615490178555,1.366351593995219,1.1940069965640419,0.2939603384735534,1.2877864459967014,0.9900936971757162,0.9004621747131623,0.5163894654634049,0.4840859404299991,0.7757776196484159,0.3416569939413563,0.7948869917472621,0.16961927900139528,0.9599048310625662,1.3641402599341035,1.1850099433727053,0.20964686045250147,1.3805240475921607,1.9429748603933774,0.9432476679445756,0.19245785895136436,0.5422699686523913,0.4044931689957849,1.2665279489799701,0.8504079558973032,1.1622944624584584,0.5685332528705622,0.3747545124949063,1.2654634139614451,1.3859439862903074,1.2311245222183906,0.28482649186754827,0.5732500909200375,0.5966936528502842,1.249269901765036,1.283296452189191,0.27582527534926626,1.643954274829504,0.3679732251142198,0.76417025476389,0.5358554026517979,1.5738446125918237,0.8666984274821381,0.36354709741176094,1.3620311875605822,1.3016375879237394,0.8577450826093695,0.5768747437813424,0.7009005878182428,0.39258481090856634,0.24446831849238393,1.2552857684839083,0.7532636353236661,1.1829755466636023,1.2370675868080738,0.8419487612375676,0.5016922360730547,0.19104429799531886,0.3576943443842353,0.28511434595254315,0.7837323943899435,1.5720423344926644,1.3135832216364207,0.45444595415189326,0.47769135122842243,0.7726321202303552,0.28603457731279036,0.45892706217752277,1.2817819069619247,0.9280218194438632,1.2622628309549953,1.7075457599609436,0.8210924286774457,1.1463112218761609,1.320386339357853,0.6950209181288898,0.4440972140550059,0.7814223763530919,1.573901887133097,0.14968737443258107,0.18708561203468577,0.15536093708301735,0.44994540238411673,0.8040795002505945,0.7528413729479837,0.23318220769471054,0.5089351343129351,1.376733531909963,1.5585089368541176,0.8237973385733852,0.9021654741973038,1.2357517095999242,0.8206503433512111,1.6977663076481875,0.4252622688307781,1.567902751969477,0.2002706335503106,1.1491529533806428,1.258670630723067,0.6792921728226347,0.20742621369584668,0.5453425517727624,0.3461343964589929,0.805098905504849,0.93108571141547,0.8988347237563588,0.8412906572689991,0.8030709384280357,0.2624429108903854,1.5859586985354284,0.7993522944241391,0.13738132099592093,0.6421989309472806,0.7344271814327357,0.9876353651688632,1.133349996369546,0.459002904673774,0.29133765833596215,0.6140189899615862,1.1899997409428735,0.1961477971065122,0.35257653546731405,1.0965627672124043,0.8632202395829509,0.8112044880114979,1.488005437568546,0.9509918277150291,1.8328451203835812,0.9367397181866153,1.275391380552179,0.4043469539053177,1.365928851467146,0.159907859343285,1.3118562194324,1.370117696484101,1.729600399234947,1.2864259930604618,0.8086447463839619,0.5013527471700172,0.7045578767081082,1.553938234861242,1.7003488016640063,0.7924014619660156,1.617107789336174,0.22979036261953922,0.7976094595711274,0.29392579498561844],\"y\":[1.159740100000051,0.4024065700000683,0.32869399000000565,1.3175882100000258,1.5046795900000525,1.0993663700000134,1.3556429699999917,0.7140334199999934,0.6136862299999855,0.3355962299999937,0.37173160000006145,1.38324658000002,0.8887237700000987,0.6428507200000417,1.8999002700000183,0.7311113199999972,0.8483718899999821,0.4687549899999801,0.998990039999996,0.20326266000003623,1.4702393400000637,0.919209600000017,1.1674940899999917,0.8302563199999049,1.8981568700000089,0.28871344000001,0.6308509700000122,0.2600111399999896,0.830308559999964,1.6874389400000218,1.6759736699999912,1.71200047000005,0.4474508200000009,1.511088330000036,0.31639901000008375,1.658539030000015,1.2923068300000586,0.5597352499999892,0.46604677000002037,1.9661943700000115,0.5603229199999766,0.5755941999999841,0.826267210000055,0.004080049999999558,0.1777299500000431,0.3425514299999868,2.086148219999985,0.8385031899999837,0.5419208700000417,0.25896990000004005,0.26225031999999326,1.3044344199999791,0.6903163999999442,0.3460543500000035,1.4126730800000196,1.420043719999996,0.41800277000001596,0.23720948000001907,1.171941650000037,0.8112023500000027,0.05165461999993748,0.5211044999999792,0.9910029700000116,0.6340636800000261,0.4076371399999352,0.2787159699999229,0.41757265000004007,1.0604876899999744,1.887507430000057,0.679100799999987,0.7547277199999776,0.06894575999999186,1.7568638199999504,0.24672447999998393,0.8818865100000444,0.24225368000011893,0.8155720700000024,0.08162028000001054,0.9638029100000558,0.8685859799999782,1.164813909999993,0.6900900699999972,0.6672231500000698,1.4267133400000211,1.3402404999999937,0.291527289999977,1.277212020000008,0.957035030000015,0.2091823700000084,0.8508994899999898,1.1752127599999944,0.7196146999999946,0.5137844900000068,1.0577831900000383,0.8968469300000101,1.0817239899999727,0.32593344000005753,0.6188678499999873,0.17784455000000388,0.2857923400000295,0.5289247399999801,0.609104939999981,0.8450234499999858,0.8326421300000397,0.7811521799999646,0.6245559200000634,0.4366437399999945,1.0673757800000494,1.890272619999991,1.0045332500000377,1.3345030500001094,1.177167040000058,1.072874289999988,1.6301315199999926,1.0249661599999917,1.2742839299999964,0.6774683700000146,1.8990330499999863,0.6223962200000137,2.061533520000041,0.5746416300000028,0.827353139999986,0.9160406800000096,1.496649820000045,0.3855501099999692,0.7598054899999915,0.05761029000004281,0.5627018199999732,0.21917535000002952,1.5296719600000024,0.6303269300000529,0.3370799500000039,0.9093718499999859,0.6020289100000304,1.204346840000057,1.7161832999999838,1.8401251800000018,1.1500734600000164,0.473590599999995,1.3615175900000345,0.5065400499999846,0.23992287000001578,1.028856200000036,0.928085829999987,0.47566778999998927,0.4150998799999861,1.1072046600000085,0.9689249000000195,1.3881371700000222,0.9114624700000327,0.6709074700000606,1.8224429900000423,1.655775360000036,0.39792639999998936,0.1268146400000496,1.168474540000006,1.4453233800000198,1.581431940000045,1.3217107900000264,0.5537223199999921,0.034179450000039635,0.8576169900000259,0.5506373500000172,0.618318220000021,0.30767875000000866,1.259197670000021,0.37339856000002736,0.6428814699999925,1.3257505699999974,0.40240604000004576,1.193848600000053,0.8089276299999717,0.6053241300000145,0.5898259699999648,1.622937190000045,0.06799969000005102,0.436730120000022,0.6530003999999685,0.9363131099999868,0.771200150000056,1.3739825900001115,0.8756589799999979,0.1945080800000205,0.7531589200000048,1.0707407199999757,0.9155638799999799,1.4864566700000246,1.4025264600000191,1.4356025799999947,0.9035411599999754,0.8463860900000391,1.001580890000043,1.477834249999973,1.0197135100000032,0.4393346200000401,0.6770237699999775,0.5294646199999995,0.2396910799999723,0.5117703699999943,1.4228730399999854,0.46043285000004697,0.7510543499999762,1.2353040900000287,0.008694329999997974,1.5310029600000525,1.3365986700000299,0.7169267699999586,0.40167994000003726,1.7012538500000296,1.3169377900000263,1.2611526500000145,0.9626496100000572,0.7902285500000239,1.2307347,0.9006591099999646,0.6180455300000467,1.4452217300000434,1.4834931900000192,0.3287057299999965,1.080891060000028,0.927972519999998,0.731774220000063,0.22676158999999596,0.3065739299999286,1.146816060000021,0.42845625000003973,0.9077976100000178,0.21514245000000254,1.2002759000000374,0.9992083199999804,1.309857989999984,-0.00019289000007849388,1.3148535499999816,1.9852904900000403,0.9032355399999978,0.3584104400000292,0.268130470000046,0.5518379899999963,1.2451032400000208,0.726163980000053,1.7517543600000074,0.3725347699999879,0.637030389999979,1.0154535799999855,2.0441667199999936,0.8345358600000459,0.2677482200000163,0.25356580999999845,0.3283828299999818,0.6062361399999936,0.9730176699999908,0.3989659799999863,1.8138540000000212,0.21083302000002457,1.5751652699999859,0.15554123000001208,1.8097610400000412,0.8364786600000407,0.24163896000001794,1.2696329700000042,1.34953748000001,0.814892290000018,0.575119320000028,0.6848413500000283,0.5109986900000372,0.12515996000004814,1.2501595000000243,1.6491557000000234,1.5950967700000838,1.4491864000000028,0.8459965400000165,0.40477653000002145,0.23164405999998006,0.6122004100000431,0.38637083000000483,0.7735159000000074,1.510827960000001,2.039025219999986,0.47445773999996343,0.4128499200000142,0.7688929200000139,0.17499898000002712,-0.11372372000002362,1.1895934499999903,1.0145150099999973,1.1955815500000149,1.3243641200000134,0.5936107400000032,1.0865151200000305,1.3421220500000295,0.45611038999999276,0.4596104400000349,0.7393942599999839,1.3773408600000046,0.27458780000003524,0.08935081999996508,0.033496009999993914,0.5280717099999783,1.2945375600000097,1.3260108200000509,0.44967534999997905,0.5098183599999977,1.3620987099999702,1.1145246499999935,0.8165706099999859,0.6635926900000022,1.1835813100000514,0.8345784900000417,1.8650388399999833,0.37456842999998297,1.3270394900000049,0.10967307000001436,1.452631600000047,1.4003095200000366,0.8909459500000316,0.19749852999999074,0.4901553500000382,0.43640685000005486,0.9445947200000269,0.5964670700000461,0.8977583300000169,0.4606505200000306,0.5562740000000026,0.14574469000004409,1.3000852400000162,1.0237130899999733,-0.11844745000001855,0.744442639999989,0.5718396100000127,0.9868622400000227,1.3556798700000463,0.4994743000000035,0.25265001000005394,0.43655219999999484,0.9272522199999862,0.1665207300000311,0.1941410899999887,1.042700670000017,0.9723659999999945,1.084408319999995,1.444571700000069,0.6268536400000648,1.8059647999999988,0.948809899999987,1.5326890999999996,0.6739964200000663,1.3350455400000392,0.4858523999999995,1.1917631699999738,1.4919391699999955,1.872931260000002,0.95776325,1.049772170000012,0.5516618399999806,1.017089840000012,1.1349326399999888,1.8868069799999894,1.8415921799999928,1.5193519100000408,0.16037000000002943,0.7425049499999836,0.5542180899999785],\"type\":\"scatter\"}],                        {\"font\":{\"color\":\"black\",\"family\":\"Arial\"},\"paper_bgcolor\":\"white\",\"plot_bgcolor\":\"white\",\"showlegend\":true,\"xaxis\":{\"linecolor\":\"black\",\"mirror\":true,\"range\":[-0.21844745000001856,2.186148219999985],\"showgrid\":false,\"showline\":true,\"tickcolor\":\"black\",\"tickfont\":{\"family\":\"Arial\",\"size\":20.0},\"ticks\":\"outside\",\"title\":{\"font\":{\"color\":\"black\",\"family\":\"Arial\",\"size\":24.0},\"text\":\"Predicted \\u0394G<sub>*OH</sub>\"}},\"yaxis\":{\"linecolor\":\"black\",\"mirror\":true,\"range\":[-0.21844745000001856,2.186148219999985],\"showgrid\":false,\"showline\":true,\"tickcolor\":\"black\",\"tickfont\":{\"family\":\"Arial\",\"size\":20.0},\"ticks\":\"outside\",\"title\":{\"font\":{\"color\":\"black\",\"family\":\"Arial\",\"size\":24.0},\"text\":\"Simulated \\u0394G<sub>*OH</sub>\"}},\"template\":{\"data\":{\"histogram2dcontour\":[{\"type\":\"histogram2dcontour\",\"colorbar\":{\"outlinewidth\":0,\"ticks\":\"\"},\"colorscale\":[[0.0,\"#0d0887\"],[0.1111111111111111,\"#46039f\"],[0.2222222222222222,\"#7201a8\"],[0.3333333333333333,\"#9c179e\"],[0.4444444444444444,\"#bd3786\"],[0.5555555555555556,\"#d8576b\"],[0.6666666666666666,\"#ed7953\"],[0.7777777777777778,\"#fb9f3a\"],[0.8888888888888888,\"#fdca26\"],[1.0,\"#f0f921\"]]}],\"choropleth\":[{\"type\":\"choropleth\",\"colorbar\":{\"outlinewidth\":0,\"ticks\":\"\"}}],\"histogram2d\":[{\"type\":\"histogram2d\",\"colorbar\":{\"outlinewidth\":0,\"ticks\":\"\"},\"colorscale\":[[0.0,\"#0d0887\"],[0.1111111111111111,\"#46039f\"],[0.2222222222222222,\"#7201a8\"],[0.3333333333333333,\"#9c179e\"],[0.4444444444444444,\"#bd3786\"],[0.5555555555555556,\"#d8576b\"],[0.6666666666666666,\"#ed7953\"],[0.7777777777777778,\"#fb9f3a\"],[0.8888888888888888,\"#fdca26\"],[1.0,\"#f0f921\"]]}],\"heatmap\":[{\"type\":\"heatmap\",\"colorbar\":{\"outlinewidth\":0,\"ticks\":\"\"},\"colorscale\":[[0.0,\"#0d0887\"],[0.1111111111111111,\"#46039f\"],[0.2222222222222222,\"#7201a8\"],[0.3333333333333333,\"#9c179e\"],[0.4444444444444444,\"#bd3786\"],[0.5555555555555556,\"#d8576b\"],[0.6666666666666666,\"#ed7953\"],[0.7777777777777778,\"#fb9f3a\"],[0.8888888888888888,\"#fdca26\"],[1.0,\"#f0f921\"]]}],\"heatmapgl\":[{\"type\":\"heatmapgl\",\"colorbar\":{\"outlinewidth\":0,\"ticks\":\"\"},\"colorscale\":[[0.0,\"#0d0887\"],[0.1111111111111111,\"#46039f\"],[0.2222222222222222,\"#7201a8\"],[0.3333333333333333,\"#9c179e\"],[0.4444444444444444,\"#bd3786\"],[0.5555555555555556,\"#d8576b\"],[0.6666666666666666,\"#ed7953\"],[0.7777777777777778,\"#fb9f3a\"],[0.8888888888888888,\"#fdca26\"],[1.0,\"#f0f921\"]]}],\"contourcarpet\":[{\"type\":\"contourcarpet\",\"colorbar\":{\"outlinewidth\":0,\"ticks\":\"\"}}],\"contour\":[{\"type\":\"contour\",\"colorbar\":{\"outlinewidth\":0,\"ticks\":\"\"},\"colorscale\":[[0.0,\"#0d0887\"],[0.1111111111111111,\"#46039f\"],[0.2222222222222222,\"#7201a8\"],[0.3333333333333333,\"#9c179e\"],[0.4444444444444444,\"#bd3786\"],[0.5555555555555556,\"#d8576b\"],[0.6666666666666666,\"#ed7953\"],[0.7777777777777778,\"#fb9f3a\"],[0.8888888888888888,\"#fdca26\"],[1.0,\"#f0f921\"]]}],\"surface\":[{\"type\":\"surface\",\"colorbar\":{\"outlinewidth\":0,\"ticks\":\"\"},\"colorscale\":[[0.0,\"#0d0887\"],[0.1111111111111111,\"#46039f\"],[0.2222222222222222,\"#7201a8\"],[0.3333333333333333,\"#9c179e\"],[0.4444444444444444,\"#bd3786\"],[0.5555555555555556,\"#d8576b\"],[0.6666666666666666,\"#ed7953\"],[0.7777777777777778,\"#fb9f3a\"],[0.8888888888888888,\"#fdca26\"],[1.0,\"#f0f921\"]]}],\"mesh3d\":[{\"type\":\"mesh3d\",\"colorbar\":{\"outlinewidth\":0,\"ticks\":\"\"}}],\"scatter\":[{\"fillpattern\":{\"fillmode\":\"overlay\",\"size\":10,\"solidity\":0.2},\"type\":\"scatter\"}],\"parcoords\":[{\"type\":\"parcoords\",\"line\":{\"colorbar\":{\"outlinewidth\":0,\"ticks\":\"\"}}}],\"scatterpolargl\":[{\"type\":\"scatterpolargl\",\"marker\":{\"colorbar\":{\"outlinewidth\":0,\"ticks\":\"\"}}}],\"bar\":[{\"error_x\":{\"color\":\"#2a3f5f\"},\"error_y\":{\"color\":\"#2a3f5f\"},\"marker\":{\"line\":{\"color\":\"#E5ECF6\",\"width\":0.5},\"pattern\":{\"fillmode\":\"overlay\",\"size\":10,\"solidity\":0.2}},\"type\":\"bar\"}],\"scattergeo\":[{\"type\":\"scattergeo\",\"marker\":{\"colorbar\":{\"outlinewidth\":0,\"ticks\":\"\"}}}],\"scatterpolar\":[{\"type\":\"scatterpolar\",\"marker\":{\"colorbar\":{\"outlinewidth\":0,\"ticks\":\"\"}}}],\"histogram\":[{\"marker\":{\"pattern\":{\"fillmode\":\"overlay\",\"size\":10,\"solidity\":0.2}},\"type\":\"histogram\"}],\"scattergl\":[{\"type\":\"scattergl\",\"marker\":{\"colorbar\":{\"outlinewidth\":0,\"ticks\":\"\"}}}],\"scatter3d\":[{\"type\":\"scatter3d\",\"line\":{\"colorbar\":{\"outlinewidth\":0,\"ticks\":\"\"}},\"marker\":{\"colorbar\":{\"outlinewidth\":0,\"ticks\":\"\"}}}],\"scattermapbox\":[{\"type\":\"scattermapbox\",\"marker\":{\"colorbar\":{\"outlinewidth\":0,\"ticks\":\"\"}}}],\"scatterternary\":[{\"type\":\"scatterternary\",\"marker\":{\"colorbar\":{\"outlinewidth\":0,\"ticks\":\"\"}}}],\"scattercarpet\":[{\"type\":\"scattercarpet\",\"marker\":{\"colorbar\":{\"outlinewidth\":0,\"ticks\":\"\"}}}],\"carpet\":[{\"aaxis\":{\"endlinecolor\":\"#2a3f5f\",\"gridcolor\":\"white\",\"linecolor\":\"white\",\"minorgridcolor\":\"white\",\"startlinecolor\":\"#2a3f5f\"},\"baxis\":{\"endlinecolor\":\"#2a3f5f\",\"gridcolor\":\"white\",\"linecolor\":\"white\",\"minorgridcolor\":\"white\",\"startlinecolor\":\"#2a3f5f\"},\"type\":\"carpet\"}],\"table\":[{\"cells\":{\"fill\":{\"color\":\"#EBF0F8\"},\"line\":{\"color\":\"white\"}},\"header\":{\"fill\":{\"color\":\"#C8D4E3\"},\"line\":{\"color\":\"white\"}},\"type\":\"table\"}],\"barpolar\":[{\"marker\":{\"line\":{\"color\":\"#E5ECF6\",\"width\":0.5},\"pattern\":{\"fillmode\":\"overlay\",\"size\":10,\"solidity\":0.2}},\"type\":\"barpolar\"}],\"pie\":[{\"automargin\":true,\"type\":\"pie\"}]},\"layout\":{\"autotypenumbers\":\"strict\",\"colorway\":[\"#636efa\",\"#EF553B\",\"#00cc96\",\"#ab63fa\",\"#FFA15A\",\"#19d3f3\",\"#FF6692\",\"#B6E880\",\"#FF97FF\",\"#FECB52\"],\"font\":{\"color\":\"#2a3f5f\"},\"hovermode\":\"closest\",\"hoverlabel\":{\"align\":\"left\"},\"paper_bgcolor\":\"white\",\"plot_bgcolor\":\"#E5ECF6\",\"polar\":{\"bgcolor\":\"#E5ECF6\",\"angularaxis\":{\"gridcolor\":\"white\",\"linecolor\":\"white\",\"ticks\":\"\"},\"radialaxis\":{\"gridcolor\":\"white\",\"linecolor\":\"white\",\"ticks\":\"\"}},\"ternary\":{\"bgcolor\":\"#E5ECF6\",\"aaxis\":{\"gridcolor\":\"white\",\"linecolor\":\"white\",\"ticks\":\"\"},\"baxis\":{\"gridcolor\":\"white\",\"linecolor\":\"white\",\"ticks\":\"\"},\"caxis\":{\"gridcolor\":\"white\",\"linecolor\":\"white\",\"ticks\":\"\"}},\"coloraxis\":{\"colorbar\":{\"outlinewidth\":0,\"ticks\":\"\"}},\"colorscale\":{\"sequential\":[[0.0,\"#0d0887\"],[0.1111111111111111,\"#46039f\"],[0.2222222222222222,\"#7201a8\"],[0.3333333333333333,\"#9c179e\"],[0.4444444444444444,\"#bd3786\"],[0.5555555555555556,\"#d8576b\"],[0.6666666666666666,\"#ed7953\"],[0.7777777777777778,\"#fb9f3a\"],[0.8888888888888888,\"#fdca26\"],[1.0,\"#f0f921\"]],\"sequentialminus\":[[0.0,\"#0d0887\"],[0.1111111111111111,\"#46039f\"],[0.2222222222222222,\"#7201a8\"],[0.3333333333333333,\"#9c179e\"],[0.4444444444444444,\"#bd3786\"],[0.5555555555555556,\"#d8576b\"],[0.6666666666666666,\"#ed7953\"],[0.7777777777777778,\"#fb9f3a\"],[0.8888888888888888,\"#fdca26\"],[1.0,\"#f0f921\"]],\"diverging\":[[0,\"#8e0152\"],[0.1,\"#c51b7d\"],[0.2,\"#de77ae\"],[0.3,\"#f1b6da\"],[0.4,\"#fde0ef\"],[0.5,\"#f7f7f7\"],[0.6,\"#e6f5d0\"],[0.7,\"#b8e186\"],[0.8,\"#7fbc41\"],[0.9,\"#4d9221\"],[1,\"#276419\"]]},\"xaxis\":{\"gridcolor\":\"white\",\"linecolor\":\"white\",\"ticks\":\"\",\"title\":{\"standoff\":15},\"zerolinecolor\":\"white\",\"automargin\":true,\"zerolinewidth\":2},\"yaxis\":{\"gridcolor\":\"white\",\"linecolor\":\"white\",\"ticks\":\"\",\"title\":{\"standoff\":15},\"zerolinecolor\":\"white\",\"automargin\":true,\"zerolinewidth\":2},\"scene\":{\"xaxis\":{\"backgroundcolor\":\"#E5ECF6\",\"gridcolor\":\"white\",\"linecolor\":\"white\",\"showbackground\":true,\"ticks\":\"\",\"zerolinecolor\":\"white\",\"gridwidth\":2},\"yaxis\":{\"backgroundcolor\":\"#E5ECF6\",\"gridcolor\":\"white\",\"linecolor\":\"white\",\"showbackground\":true,\"ticks\":\"\",\"zerolinecolor\":\"white\",\"gridwidth\":2},\"zaxis\":{\"backgroundcolor\":\"#E5ECF6\",\"gridcolor\":\"white\",\"linecolor\":\"white\",\"showbackground\":true,\"ticks\":\"\",\"zerolinecolor\":\"white\",\"gridwidth\":2}},\"shapedefaults\":{\"line\":{\"color\":\"#2a3f5f\"}},\"annotationdefaults\":{\"arrowcolor\":\"#2a3f5f\",\"arrowhead\":0,\"arrowwidth\":1},\"geo\":{\"bgcolor\":\"white\",\"landcolor\":\"#E5ECF6\",\"subunitcolor\":\"white\",\"showland\":true,\"showlakes\":true,\"lakecolor\":\"white\"},\"title\":{\"x\":0.05},\"mapbox\":{\"style\":\"light\"}}}},                        {\"responsive\": true}                    ).then(function(){\n",
       "                            \n",
       "var gd = document.getElementById('e97e4b89-7d06-4af0-a01f-6d8f99da5f2a');\n",
       "var x = new MutationObserver(function (mutations, observer) {{\n",
       "        var display = window.getComputedStyle(gd).display;\n",
       "        if (!display || display === 'none') {{\n",
       "            console.log([gd, 'removed!']);\n",
       "            Plotly.purge(gd);\n",
       "            observer.disconnect();\n",
       "        }}\n",
       "}});\n",
       "\n",
       "// Listen for the removal of the full notebook cells\n",
       "var notebookContainer = gd.closest('#notebook-container');\n",
       "if (notebookContainer) {{\n",
       "    x.observe(notebookContainer, {childList: true});\n",
       "}}\n",
       "\n",
       "// Listen for the clearing of the current output cell\n",
       "var outputEl = gd.closest('.output');\n",
       "if (outputEl) {{\n",
       "    x.observe(outputEl, {childList: true});\n",
       "}}\n",
       "\n",
       "                        })                };                });            </script>        </div>"
      ]
     },
     "metadata": {},
     "output_type": "display_data"
    }
   ],
   "source": [
    "fig = MA_Plot.plot_parity__PLT\n",
    "if show_plot:\n",
    "    fig.show()"
   ]
  },
  {
   "cell_type": "code",
   "execution_count": 37,
   "metadata": {},
   "outputs": [
    {
     "data": {
      "application/vnd.plotly.v1+json": {
       "config": {
        "plotlyServerURL": "https://plot.ly"
       },
       "data": [
        {
         "line": {
          "color": "black"
         },
         "mode": "lines",
         "name": "Parity line",
         "type": "scatter",
         "x": [
          -0.31844745000001856,
          2.286148219999985
         ],
         "y": [
          -0.31844745000001856,
          2.286148219999985
         ]
        },
        {
         "mode": "markers",
         "name": "CV Regression",
         "opacity": 1,
         "type": "scatter",
         "x": [
          0.2555504157685502,
          1.1694998843725295,
          0.8135935641094907,
          1.1745943946709319,
          1.121706326143923,
          0.30769633976155797,
          0.8192329597720271,
          0.16808146796779866,
          0.46699735863011993,
          0.36023137183976317,
          1.3467764201467984,
          1.3883713367285564,
          1.2830691911399912,
          1.225173814588377,
          0.8000589572403203,
          0.8313015317939141,
          0.8440598508952446,
          1.2448647204544465,
          1.202496898161574,
          0.8739372328966453,
          0.8342496444386187,
          0.1685074519864922,
          0.16864221639489196,
          0.32727126040327725,
          0.6165619150365251,
          0.49022607446310085,
          1.1912334392315396,
          1.3673438055229101,
          1.3051876619190534,
          1.3415183218059843,
          1.2661004450216855,
          1.35710417965953,
          1.2117037469895262,
          1.2020614368710443,
          0.8720639820825351,
          1.414924992273611,
          1.3939473472149038,
          0.4497470343332943,
          0.45705105346866803,
          0.3373864439650016,
          0.4607772608753522,
          0.4486873257416595,
          0.8743722610368723,
          0.46009489122220737,
          0.3718968855418132,
          0.4514206449858853,
          0.4236019016890662,
          0.8660578965870864,
          0.4864527637130984,
          0.6181005721069925,
          0.5003963401512457,
          0.8543097332331895,
          0.292228945810022,
          0.7669679314998987,
          0.7670637571885561,
          1.1463146900138874,
          1.1549859214821216,
          1.4462881061825064,
          1.7689903699623581,
          1.963688319399547,
          0.9186200434079081,
          1.1589451949155802,
          1.259472345625094,
          1.2360769372399343,
          0.8292938698221013,
          0.8454568307491672,
          0.7212146589098323,
          0.904846899383809,
          0.8509074983457419,
          0.9255756436222538,
          0.84178331649046,
          0.504102358406862,
          0.814466790154265,
          0.8116156296896233,
          0.6810763801674216,
          1.1331200967654436,
          0.19940013366159626,
          1.7028044320057174,
          1.6935456596682346,
          0.7371564579248244,
          1.6927092401126154,
          0.9703199746621198,
          0.9397763720811132,
          1.655360013467143,
          1.6665638764760344,
          0.8898443635439723,
          1.606918627041737,
          1.3189931476371384,
          1.3432534931704332,
          0.8191759351333165,
          0.7748537411651162,
          0.7792035237820936,
          0.17095605246995582,
          1.0065733162691939,
          1.3320460336163769,
          1.1890290907214527,
          0.6994285848879551,
          1.3057918973895535,
          1.2708527665290341,
          1.3016878827182987,
          1.265547994899177,
          0.26777051357334036,
          0.8374245662493973,
          0.28025543840667577,
          0.9318951793542656,
          1.2029587480374202,
          1.0194498488800492,
          0.904308233349103,
          1.0247690385311015,
          1.096068147167259,
          1.1122408180014065,
          1.2183918485440572,
          1.2606755779535352,
          1.329888290233579,
          1.3575891137627059,
          1.2511476100723997,
          1.2728528158424113,
          0.8223862055660041,
          0.8206599552054437,
          0.40277691967790474,
          0.2908544980600207,
          0.5302065055364928,
          1.8867198647237005,
          1.448730476753374,
          1.4788570192953099,
          0.1983139683129167,
          0.20106930112573407,
          0.3525976513077276,
          0.19423295268141327,
          0.5422938700394351,
          0.4871560503061736,
          0.6032289648227631,
          0.49159576744794453,
          0.89529053415104,
          0.9135199525312481,
          1.028336029751825,
          1.392241212615859,
          0.7859326417491239,
          1.0024239409577094,
          0.9306260421007289,
          0.9751579433962023,
          0.20409140031438433,
          0.39842106097662633,
          1.3318918174309724,
          1.3445303627592673,
          0.20397684765865565,
          1.2558807465269743,
          1.2583738829806763,
          0.17517891127639684,
          1.3331004464164131,
          1.3470818425250322,
          0.3574688122711107,
          0.19503447470195523,
          0.7625720316100906,
          0.415609625799489,
          0.750397591014905,
          0.4040283242441207,
          0.4094809713815599,
          0.8520812230429753,
          0.9872731378605035,
          0.4602780353873608,
          1.1490678606147262,
          0.4355366409358594,
          0.40342218758926984,
          0.3866068489783787,
          0.39363798429246,
          0.8352686165608629,
          0.4894172467218709,
          0.44414350405114655,
          0.8333712615460147,
          1.32220080357828,
          1.1502675508790543,
          0.504131711362021,
          0.8112013011335963,
          0.7881901257235899,
          0.7955132973504044,
          0.5469561392102038,
          1.040909071406125,
          0.20072038418297344,
          0.19997704470076538,
          1.5970137256847248,
          1.6087914185071752,
          1.6085571611285174,
          0.1906615061996466,
          0.4850235926935178,
          0.6444107437681654,
          0.7938998580524292,
          0.7955791052754506,
          0.4866721616829568,
          0.5085552854438444,
          1.3154375991820793,
          1.3407786009597662,
          1.4590234211886421,
          1.3795834447343645,
          0.34621220953597165,
          0.9140127653677519,
          0.9419518070284401,
          1.3550387845878809,
          1.275719342313741,
          1.268590452608336,
          1.3887933710846199,
          1.6092053672007607,
          0.18220119074564023,
          0.34638764763244634,
          0.452847947455155,
          0.4253552559218092,
          0.18655738484416728,
          0.4405807484844688,
          1.2653289712236253,
          1.240699427063563,
          1.2993595437459993,
          1.301896750841864,
          0.7279895039675319,
          0.741685343407098,
          1.4226324182841537,
          1.4213502623658272,
          0.8413441557941026,
          1.2140594037233168,
          1.4674888539200213,
          1.481264412400947,
          0.9745731570425478,
          0.4096260434830037,
          0.2892037991602803,
          0.888514908865822,
          1.1901535702148784,
          1.2626189885228283,
          1.2832634747527107,
          1.3533869590577097,
          1.3396207761752428,
          0.8944269223081456,
          0.6507858841222309,
          0.8931327716594364,
          0.25613717074683073,
          0.2358940271504415,
          0.2362252350422147,
          0.20536268172105565,
          0.11513021389532696,
          0.28708333358057336,
          0.3463078919883893,
          0.31682961389488895,
          0.7290032375854989,
          0.8144928921756183,
          0.8446675079728041,
          0.810968017363153,
          0.731470214500884,
          0.19553761413531,
          0.19489079893852912,
          0.5589505979296892,
          0.5909962312248203,
          0.9680006648585713,
          0.8451879227822481,
          0.764583099058886,
          0.7614869385807403,
          0.5066688788573082,
          0.42096593022995066,
          0.28995951783137075,
          0.17050915801084443,
          0.1681930614192293,
          0.6806409919311056,
          1.5569954448190049,
          1.5591030358508404,
          0.30803148145588954,
          0.176454498742741,
          0.2017504990999046,
          0.6442964768827353,
          0.3289583958201301,
          0.980391623645275,
          0.4583209035597049,
          0.7126185551256874,
          0.1986591270212168,
          0.867337377443985,
          0.24727207385073013,
          0.34145452355734385,
          0.665415567792226,
          0.6793209491922392,
          0.17653813445291577,
          1.3467699564456734,
          1.3117311241321032,
          0.7952058980289953,
          0.8197634116913175,
          0.8282251742418043,
          0.7725644248887882,
          0.9197550345183116,
          0.8112071450494507,
          0.5152878261531502,
          0.7971715461743232,
          0.7952823701549967,
          0.746233563830454,
          1.855224404923798,
          0.4300784103739521,
          0.8897129692839316,
          1.5314692313079599,
          1.5283920032806009,
          1.5317865617868862,
          0.7346174016757283,
          0.6999073735887893,
          0.44016588053030725,
          0.8895437285873986,
          0.8907097306798666,
          0.6064997696806063,
          0.6273893548923506,
          0.8108412667320919,
          1.3845073699945694,
          0.19140526823252513,
          0.6458622493655826,
          1.193285043148404,
          1.284300518244355,
          0.950479553462027,
          0.7878193893436127,
          0.8777229592361229,
          0.5572362671000173,
          0.8721634810731391,
          1.269282417599444,
          1.4868007361824733,
          0.44582701958884163,
          0.9474964662742287,
          0.8225549417972648,
          0.18659374739326529,
          0.9160723613476773,
          0.8216311675824941,
          1.5812624088401481,
          1.5840700858597598,
          0.20428044091943764,
          0.6358157347906435,
          1.263611349212323,
          1.5031244886087958,
          0.7957555553673852,
          0.7104230315880291,
          0.5740578037609403,
          0.6078641720395126,
          0.7771192286932362,
          1.272982493009974,
          0.8206588775676913,
          1.3114304915347232,
          1.6600068143388031,
          1.3209586235645947,
          1.6713704999029546,
          1.6596489884122159,
          1.307907999792051,
          1.3472284175325462,
          0.19311143719520496,
          0.649624227443407,
          0.9324866078176453,
          0.443903428404375,
          1.1109394613718346,
          0.8724351401270369,
          0.8629133832414393,
          0.9337104894033494,
          0.9427022239455973,
          0.9493006689575867,
          0.8360939229985189,
          0.3263116388020211,
          1.859757442047519,
          1.8753731277417014,
          0.3275082639195732,
          1.7779229554041762,
          1.9620800265691043,
          1.4498268000161576,
          1.0902480568432995,
          0.23613412096569686,
          0.42329615829914413,
          0.43443844722040703
         ],
         "y": [
          0.14574469000004409,
          1.3556798700000463,
          1.2945375600000097,
          1.452631600000047,
          0.8887237700000987,
          0.31639901000008375,
          1.0197135100000032,
          0.05165461999993748,
          0.4128499200000142,
          0.637030389999979,
          1.4702393400000637,
          1.3620987099999702,
          1.496649820000045,
          1.3556429699999917,
          1.0673757800000494,
          0.4150998799999861,
          0.726163980000053,
          1.4003095200000366,
          0.8818865100000444,
          1.001580890000043,
          1.084408319999995,
          0.24225368000011893,
          0.23992287000001578,
          0.5542180899999785,
          0.4076371399999352,
          0.3065739299999286,
          1.5950967700000838,
          1.3148535499999816,
          1.3345030500001094,
          1.2353040900000287,
          1.4267133400000211,
          1.420043719999996,
          1.1835813100000514,
          1.4834931900000192,
          0.7311113199999972,
          1.7568638199999504,
          1.8401251800000018,
          0.40167994000003726,
          0.47445773999996343,
          0.6303269300000529,
          0.5280717099999783,
          0.41757265000004007,
          0.7811521799999646,
          -0.11372372000002362,
          0.21083302000002457,
          0.4024065700000683,
          0.37456842999998297,
          1.3739825900001115,
          0.6903163999999442,
          0.6672231500000698,
          0.2787159699999229,
          1.4453233800000198,
          0.3287057299999965,
          0.5898259699999648,
          0.7169267699999586,
          0.6062361399999936,
          1.0154535799999855,
          1.3217107900000264,
          1.8224429900000423,
          1.890272619999991,
          1.581431940000045,
          1.193848600000053,
          1.080891060000028,
          1.71200047000005,
          1.8415921799999928,
          0.8089276299999717,
          0.5537223199999921,
          0.9363131099999868,
          0.7547277199999776,
          0.9689249000000195,
          0.830308559999964,
          0.5098183599999977,
          0.5936107400000032,
          0.6530003999999685,
          0.6188678499999873,
          1.0865151200000305,
          -0.00019289000007849388,
          1.8868069799999894,
          1.8650388399999833,
          1.017089840000012,
          1.3243641200000134,
          0.927972519999998,
          0.6268536400000648,
          1.887507430000057,
          1.8138540000000212,
          0.731774220000063,
          1.8097610400000412,
          1.3615175900000345,
          1.2696329700000042,
          0.8345784900000417,
          0.6245559200000634,
          0.8302563199999049,
          0.27458780000003524,
          0.6770237699999775,
          1.2923068300000586,
          1.3881371700000222,
          0.5597352499999892,
          1.177167040000058,
          1.204346840000057,
          1.3365986700000299,
          1.2742839299999964,
          0.2677482200000163,
          0.6020289100000304,
          0.46604677000002037,
          1.0145150099999973,
          0.9272522199999862,
          1.028856200000036,
          0.8977583300000169,
          0.8968469300000101,
          1.042700670000017,
          1.0604876899999744,
          1.3044344199999791,
          2.061533520000041,
          1.168474540000006,
          1.4919391699999955,
          1.2307347,
          1.5296719600000024,
          0.7510543499999762,
          0.9114624700000327,
          0.6340636800000261,
          0.25265001000005394,
          0.6223962200000137,
          1.8999002700000183,
          1.6301315199999926,
          1.622937190000045,
          0.3584104400000292,
          0.4474508200000009,
          0.6122004100000431,
          0.10967307000001436,
          0.4901553500000382,
          0.436730120000022,
          0.2857923400000295,
          0.22676158999999596,
          0.7598054899999915,
          1.0993663700000134,
          1.5751652699999859,
          1.0817239899999727,
          1.146816060000021,
          0.9868622400000227,
          0.8576169900000259,
          0.919209600000017,
          0.23720948000001907,
          0.4393346200000401,
          1.277212020000008,
          1.5046795900000525,
          0.291527289999977,
          1.2451032400000208,
          1.1955815500000149,
          0.17784455000000388,
          1.4356025799999947,
          1.4452217300000434,
          0.5109986900000372,
          0.06894575999999186,
          0.7688929200000139,
          0.25896990000004005,
          0.8463860900000391,
          0.6180455300000467,
          0.40240604000004576,
          0.8459965400000165,
          0.6428507200000417,
          0.268130470000046,
          0.9638029100000558,
          0.6739964200000663,
          0.473590599999995,
          0.1777299500000431,
          0.3855501099999692,
          0.618318220000021,
          0.37173160000006145,
          0.4596104400000349,
          0.9160406800000096,
          0.9992083199999804,
          1.164813909999993,
          0.15554123000001208,
          0.6053241300000145,
          1.0249661599999917,
          0.826267210000055,
          0.5516618399999806,
          1.6491557000000234,
          0.2396910799999723,
          0.32593344000005753,
          1.477834249999973,
          1.4126730800000196,
          1.5193519100000408,
          0.2600111399999896,
          0.40477653000002145,
          0.575119320000028,
          0.9077976100000178,
          0.9445947200000269,
          1.1072046600000085,
          0.609104939999981,
          1.4228730399999854,
          1.3421220500000295,
          1.6874389400000218,
          2.0441667199999936,
          0.32869399000000565,
          0.6774683700000146,
          0.8483718899999821,
          1.3350455400000392,
          1.1895934499999903,
          1.7517543600000074,
          2.039025219999986,
          1.8990330499999863,
          0.1268146400000496,
          0.43640685000005486,
          0.21917535000002952,
          0.5506373500000172,
          0.16037000000002943,
          0.5117703699999943,
          1.5326890999999996,
          1.4491864000000028,
          1.34953748000001,
          1.1917631699999738,
          0.7196146999999946,
          0.9626496100000572,
          1.7012538500000296,
          1.4864566700000246,
          0.3370799500000039,
          1.259197670000021,
          1.511088330000036,
          1.444571700000069,
          1.2002759000000374,
          0.5518379899999963,
          0.38637083000000483,
          0.957035030000015,
          0.8345358600000459,
          1.2501595000000243,
          1.1500734600000164,
          1.2611526500000145,
          1.3175882100000258,
          1.0045332500000377,
          0.3355962299999937,
          0.5964670700000461,
          0.26225031999999326,
          0.008694329999997974,
          0.44967534999997905,
          0.4858523999999995,
          -0.11844745000001855,
          0.17499898000002712,
          0.24163896000001794,
          0.46043285000004697,
          0.6308509700000122,
          0.827353139999986,
          0.6900900699999972,
          1.0237130899999733,
          0.679100799999987,
          0.37339856000002736,
          0.1665207300000311,
          0.3725347699999879,
          0.034179450000039635,
          0.8685859799999782,
          0.9035411599999754,
          0.5419208700000417,
          1.3260108200000509,
          0.06799969000005102,
          0.4366437399999945,
          0.3989659799999863,
          0.3425514299999868,
          0.08935081999996508,
          0.45611038999999276,
          1.510827960000001,
          1.3773408600000046,
          0.05761029000004281,
          0.033496009999993914,
          0.19749852999999074,
          0.4687549899999801,
          0.2091823700000084,
          1.159740100000051,
          0.47566778999998927,
          0.6848413500000283,
          0.30767875000000866,
          0.9093718499999859,
          0.20326266000003623,
          0.42845625000003973,
          0.8508994899999898,
          0.8756589799999979,
          0.21514245000000254,
          1.38324658000002,
          1.655775360000036,
          0.5562740000000026,
          1.049772170000012,
          0.4606505200000306,
          0.7140334199999934,
          0.9006591099999646,
          0.5294646199999995,
          0.5137844900000068,
          0.8165706099999859,
          0.7735159000000074,
          0.5755941999999841,
          1.6759736699999912,
          0.5065400499999846,
          0.998990039999996,
          1.3402404999999937,
          1.1349326399999888,
          1.3000852400000162,
          0.8112023500000027,
          0.8909459500000316,
          0.4994743000000035,
          0.6635926900000022,
          0.8155720700000024,
          0.28871344000001,
          0.3283828299999818,
          0.6428814699999925,
          1.0707407199999757,
          0.23164405999998006,
          0.5289247399999801,
          1.309857989999984,
          1.658539030000015,
          0.948809899999987,
          0.7393942599999839,
          0.9723659999999945,
          0.39792639999998936,
          0.8450234499999858,
          0.9730176699999908,
          1.1145246499999935,
          0.5603229199999766,
          0.8326421300000397,
          0.928085829999987,
          0.08162028000001054,
          0.6709074700000606,
          0.771200150000056,
          1.5310029600000525,
          1.3257505699999974,
          0.004080049999999558,
          0.744442639999989,
          1.1752127599999944,
          1.3270394900000049,
          0.7425049499999836,
          0.5718396100000127,
          0.25356580999999845,
          0.43655219999999484,
          0.9910029700000116,
          0.95776325,
          0.8385031899999837,
          1.7161832999999838,
          1.9661943700000115,
          1.171941650000037,
          1.0577831900000383,
          1.8981568700000089,
          1.072874289999988,
          1.4025264600000191,
          0.24672447999998393,
          0.5211044999999792,
          1.1674940899999917,
          0.3460543500000035,
          0.5627018199999732,
          0.8364786600000407,
          0.814892290000018,
          0.9032355399999978,
          0.7902285500000239,
          0.7531589200000048,
          0.9155638799999799,
          0.1941410899999887,
          1.8059647999999988,
          2.086148219999985,
          0.1945080800000205,
          1.872931260000002,
          1.9852904900000403,
          1.3169377900000263,
          0.6136862299999855,
          0.12515996000004814,
          0.41800277000001596,
          0.5746416300000028
         ]
        }
       ],
       "layout": {
        "font": {
         "color": "black",
         "family": "Arial"
        },
        "paper_bgcolor": "white",
        "plot_bgcolor": "white",
        "showlegend": true,
        "template": {
         "data": {
          "bar": [
           {
            "error_x": {
             "color": "#2a3f5f"
            },
            "error_y": {
             "color": "#2a3f5f"
            },
            "marker": {
             "line": {
              "color": "#E5ECF6",
              "width": 0.5
             },
             "pattern": {
              "fillmode": "overlay",
              "size": 10,
              "solidity": 0.2
             }
            },
            "type": "bar"
           }
          ],
          "barpolar": [
           {
            "marker": {
             "line": {
              "color": "#E5ECF6",
              "width": 0.5
             },
             "pattern": {
              "fillmode": "overlay",
              "size": 10,
              "solidity": 0.2
             }
            },
            "type": "barpolar"
           }
          ],
          "carpet": [
           {
            "aaxis": {
             "endlinecolor": "#2a3f5f",
             "gridcolor": "white",
             "linecolor": "white",
             "minorgridcolor": "white",
             "startlinecolor": "#2a3f5f"
            },
            "baxis": {
             "endlinecolor": "#2a3f5f",
             "gridcolor": "white",
             "linecolor": "white",
             "minorgridcolor": "white",
             "startlinecolor": "#2a3f5f"
            },
            "type": "carpet"
           }
          ],
          "choropleth": [
           {
            "colorbar": {
             "outlinewidth": 0,
             "ticks": ""
            },
            "type": "choropleth"
           }
          ],
          "contour": [
           {
            "colorbar": {
             "outlinewidth": 0,
             "ticks": ""
            },
            "colorscale": [
             [
              0,
              "#0d0887"
             ],
             [
              0.1111111111111111,
              "#46039f"
             ],
             [
              0.2222222222222222,
              "#7201a8"
             ],
             [
              0.3333333333333333,
              "#9c179e"
             ],
             [
              0.4444444444444444,
              "#bd3786"
             ],
             [
              0.5555555555555556,
              "#d8576b"
             ],
             [
              0.6666666666666666,
              "#ed7953"
             ],
             [
              0.7777777777777778,
              "#fb9f3a"
             ],
             [
              0.8888888888888888,
              "#fdca26"
             ],
             [
              1,
              "#f0f921"
             ]
            ],
            "type": "contour"
           }
          ],
          "contourcarpet": [
           {
            "colorbar": {
             "outlinewidth": 0,
             "ticks": ""
            },
            "type": "contourcarpet"
           }
          ],
          "heatmap": [
           {
            "colorbar": {
             "outlinewidth": 0,
             "ticks": ""
            },
            "colorscale": [
             [
              0,
              "#0d0887"
             ],
             [
              0.1111111111111111,
              "#46039f"
             ],
             [
              0.2222222222222222,
              "#7201a8"
             ],
             [
              0.3333333333333333,
              "#9c179e"
             ],
             [
              0.4444444444444444,
              "#bd3786"
             ],
             [
              0.5555555555555556,
              "#d8576b"
             ],
             [
              0.6666666666666666,
              "#ed7953"
             ],
             [
              0.7777777777777778,
              "#fb9f3a"
             ],
             [
              0.8888888888888888,
              "#fdca26"
             ],
             [
              1,
              "#f0f921"
             ]
            ],
            "type": "heatmap"
           }
          ],
          "heatmapgl": [
           {
            "colorbar": {
             "outlinewidth": 0,
             "ticks": ""
            },
            "colorscale": [
             [
              0,
              "#0d0887"
             ],
             [
              0.1111111111111111,
              "#46039f"
             ],
             [
              0.2222222222222222,
              "#7201a8"
             ],
             [
              0.3333333333333333,
              "#9c179e"
             ],
             [
              0.4444444444444444,
              "#bd3786"
             ],
             [
              0.5555555555555556,
              "#d8576b"
             ],
             [
              0.6666666666666666,
              "#ed7953"
             ],
             [
              0.7777777777777778,
              "#fb9f3a"
             ],
             [
              0.8888888888888888,
              "#fdca26"
             ],
             [
              1,
              "#f0f921"
             ]
            ],
            "type": "heatmapgl"
           }
          ],
          "histogram": [
           {
            "marker": {
             "pattern": {
              "fillmode": "overlay",
              "size": 10,
              "solidity": 0.2
             }
            },
            "type": "histogram"
           }
          ],
          "histogram2d": [
           {
            "colorbar": {
             "outlinewidth": 0,
             "ticks": ""
            },
            "colorscale": [
             [
              0,
              "#0d0887"
             ],
             [
              0.1111111111111111,
              "#46039f"
             ],
             [
              0.2222222222222222,
              "#7201a8"
             ],
             [
              0.3333333333333333,
              "#9c179e"
             ],
             [
              0.4444444444444444,
              "#bd3786"
             ],
             [
              0.5555555555555556,
              "#d8576b"
             ],
             [
              0.6666666666666666,
              "#ed7953"
             ],
             [
              0.7777777777777778,
              "#fb9f3a"
             ],
             [
              0.8888888888888888,
              "#fdca26"
             ],
             [
              1,
              "#f0f921"
             ]
            ],
            "type": "histogram2d"
           }
          ],
          "histogram2dcontour": [
           {
            "colorbar": {
             "outlinewidth": 0,
             "ticks": ""
            },
            "colorscale": [
             [
              0,
              "#0d0887"
             ],
             [
              0.1111111111111111,
              "#46039f"
             ],
             [
              0.2222222222222222,
              "#7201a8"
             ],
             [
              0.3333333333333333,
              "#9c179e"
             ],
             [
              0.4444444444444444,
              "#bd3786"
             ],
             [
              0.5555555555555556,
              "#d8576b"
             ],
             [
              0.6666666666666666,
              "#ed7953"
             ],
             [
              0.7777777777777778,
              "#fb9f3a"
             ],
             [
              0.8888888888888888,
              "#fdca26"
             ],
             [
              1,
              "#f0f921"
             ]
            ],
            "type": "histogram2dcontour"
           }
          ],
          "mesh3d": [
           {
            "colorbar": {
             "outlinewidth": 0,
             "ticks": ""
            },
            "type": "mesh3d"
           }
          ],
          "parcoords": [
           {
            "line": {
             "colorbar": {
              "outlinewidth": 0,
              "ticks": ""
             }
            },
            "type": "parcoords"
           }
          ],
          "pie": [
           {
            "automargin": true,
            "type": "pie"
           }
          ],
          "scatter": [
           {
            "fillpattern": {
             "fillmode": "overlay",
             "size": 10,
             "solidity": 0.2
            },
            "type": "scatter"
           }
          ],
          "scatter3d": [
           {
            "line": {
             "colorbar": {
              "outlinewidth": 0,
              "ticks": ""
             }
            },
            "marker": {
             "colorbar": {
              "outlinewidth": 0,
              "ticks": ""
             }
            },
            "type": "scatter3d"
           }
          ],
          "scattercarpet": [
           {
            "marker": {
             "colorbar": {
              "outlinewidth": 0,
              "ticks": ""
             }
            },
            "type": "scattercarpet"
           }
          ],
          "scattergeo": [
           {
            "marker": {
             "colorbar": {
              "outlinewidth": 0,
              "ticks": ""
             }
            },
            "type": "scattergeo"
           }
          ],
          "scattergl": [
           {
            "marker": {
             "colorbar": {
              "outlinewidth": 0,
              "ticks": ""
             }
            },
            "type": "scattergl"
           }
          ],
          "scattermapbox": [
           {
            "marker": {
             "colorbar": {
              "outlinewidth": 0,
              "ticks": ""
             }
            },
            "type": "scattermapbox"
           }
          ],
          "scatterpolar": [
           {
            "marker": {
             "colorbar": {
              "outlinewidth": 0,
              "ticks": ""
             }
            },
            "type": "scatterpolar"
           }
          ],
          "scatterpolargl": [
           {
            "marker": {
             "colorbar": {
              "outlinewidth": 0,
              "ticks": ""
             }
            },
            "type": "scatterpolargl"
           }
          ],
          "scatterternary": [
           {
            "marker": {
             "colorbar": {
              "outlinewidth": 0,
              "ticks": ""
             }
            },
            "type": "scatterternary"
           }
          ],
          "surface": [
           {
            "colorbar": {
             "outlinewidth": 0,
             "ticks": ""
            },
            "colorscale": [
             [
              0,
              "#0d0887"
             ],
             [
              0.1111111111111111,
              "#46039f"
             ],
             [
              0.2222222222222222,
              "#7201a8"
             ],
             [
              0.3333333333333333,
              "#9c179e"
             ],
             [
              0.4444444444444444,
              "#bd3786"
             ],
             [
              0.5555555555555556,
              "#d8576b"
             ],
             [
              0.6666666666666666,
              "#ed7953"
             ],
             [
              0.7777777777777778,
              "#fb9f3a"
             ],
             [
              0.8888888888888888,
              "#fdca26"
             ],
             [
              1,
              "#f0f921"
             ]
            ],
            "type": "surface"
           }
          ],
          "table": [
           {
            "cells": {
             "fill": {
              "color": "#EBF0F8"
             },
             "line": {
              "color": "white"
             }
            },
            "header": {
             "fill": {
              "color": "#C8D4E3"
             },
             "line": {
              "color": "white"
             }
            },
            "type": "table"
           }
          ]
         },
         "layout": {
          "annotationdefaults": {
           "arrowcolor": "#2a3f5f",
           "arrowhead": 0,
           "arrowwidth": 1
          },
          "autotypenumbers": "strict",
          "coloraxis": {
           "colorbar": {
            "outlinewidth": 0,
            "ticks": ""
           }
          },
          "colorscale": {
           "diverging": [
            [
             0,
             "#8e0152"
            ],
            [
             0.1,
             "#c51b7d"
            ],
            [
             0.2,
             "#de77ae"
            ],
            [
             0.3,
             "#f1b6da"
            ],
            [
             0.4,
             "#fde0ef"
            ],
            [
             0.5,
             "#f7f7f7"
            ],
            [
             0.6,
             "#e6f5d0"
            ],
            [
             0.7,
             "#b8e186"
            ],
            [
             0.8,
             "#7fbc41"
            ],
            [
             0.9,
             "#4d9221"
            ],
            [
             1,
             "#276419"
            ]
           ],
           "sequential": [
            [
             0,
             "#0d0887"
            ],
            [
             0.1111111111111111,
             "#46039f"
            ],
            [
             0.2222222222222222,
             "#7201a8"
            ],
            [
             0.3333333333333333,
             "#9c179e"
            ],
            [
             0.4444444444444444,
             "#bd3786"
            ],
            [
             0.5555555555555556,
             "#d8576b"
            ],
            [
             0.6666666666666666,
             "#ed7953"
            ],
            [
             0.7777777777777778,
             "#fb9f3a"
            ],
            [
             0.8888888888888888,
             "#fdca26"
            ],
            [
             1,
             "#f0f921"
            ]
           ],
           "sequentialminus": [
            [
             0,
             "#0d0887"
            ],
            [
             0.1111111111111111,
             "#46039f"
            ],
            [
             0.2222222222222222,
             "#7201a8"
            ],
            [
             0.3333333333333333,
             "#9c179e"
            ],
            [
             0.4444444444444444,
             "#bd3786"
            ],
            [
             0.5555555555555556,
             "#d8576b"
            ],
            [
             0.6666666666666666,
             "#ed7953"
            ],
            [
             0.7777777777777778,
             "#fb9f3a"
            ],
            [
             0.8888888888888888,
             "#fdca26"
            ],
            [
             1,
             "#f0f921"
            ]
           ]
          },
          "colorway": [
           "#636efa",
           "#EF553B",
           "#00cc96",
           "#ab63fa",
           "#FFA15A",
           "#19d3f3",
           "#FF6692",
           "#B6E880",
           "#FF97FF",
           "#FECB52"
          ],
          "font": {
           "color": "#2a3f5f"
          },
          "geo": {
           "bgcolor": "white",
           "lakecolor": "white",
           "landcolor": "#E5ECF6",
           "showlakes": true,
           "showland": true,
           "subunitcolor": "white"
          },
          "hoverlabel": {
           "align": "left"
          },
          "hovermode": "closest",
          "mapbox": {
           "style": "light"
          },
          "paper_bgcolor": "white",
          "plot_bgcolor": "#E5ECF6",
          "polar": {
           "angularaxis": {
            "gridcolor": "white",
            "linecolor": "white",
            "ticks": ""
           },
           "bgcolor": "#E5ECF6",
           "radialaxis": {
            "gridcolor": "white",
            "linecolor": "white",
            "ticks": ""
           }
          },
          "scene": {
           "xaxis": {
            "backgroundcolor": "#E5ECF6",
            "gridcolor": "white",
            "gridwidth": 2,
            "linecolor": "white",
            "showbackground": true,
            "ticks": "",
            "zerolinecolor": "white"
           },
           "yaxis": {
            "backgroundcolor": "#E5ECF6",
            "gridcolor": "white",
            "gridwidth": 2,
            "linecolor": "white",
            "showbackground": true,
            "ticks": "",
            "zerolinecolor": "white"
           },
           "zaxis": {
            "backgroundcolor": "#E5ECF6",
            "gridcolor": "white",
            "gridwidth": 2,
            "linecolor": "white",
            "showbackground": true,
            "ticks": "",
            "zerolinecolor": "white"
           }
          },
          "shapedefaults": {
           "line": {
            "color": "#2a3f5f"
           }
          },
          "ternary": {
           "aaxis": {
            "gridcolor": "white",
            "linecolor": "white",
            "ticks": ""
           },
           "baxis": {
            "gridcolor": "white",
            "linecolor": "white",
            "ticks": ""
           },
           "bgcolor": "#E5ECF6",
           "caxis": {
            "gridcolor": "white",
            "linecolor": "white",
            "ticks": ""
           }
          },
          "title": {
           "x": 0.05
          },
          "xaxis": {
           "automargin": true,
           "gridcolor": "white",
           "linecolor": "white",
           "ticks": "",
           "title": {
            "standoff": 15
           },
           "zerolinecolor": "white",
           "zerolinewidth": 2
          },
          "yaxis": {
           "automargin": true,
           "gridcolor": "white",
           "linecolor": "white",
           "ticks": "",
           "title": {
            "standoff": 15
           },
           "zerolinecolor": "white",
           "zerolinewidth": 2
          }
         }
        },
        "xaxis": {
         "linecolor": "black",
         "mirror": true,
         "range": [
          -0.21844745000001856,
          2.186148219999985
         ],
         "showgrid": false,
         "showline": true,
         "tickcolor": "black",
         "tickfont": {
          "family": "Arial",
          "size": 20
         },
         "ticks": "outside",
         "title": {
          "font": {
           "color": "black",
           "family": "Arial",
           "size": 24
          },
          "text": "Predicted ΔG<sub>*OH</sub>"
         }
        },
        "yaxis": {
         "linecolor": "black",
         "mirror": true,
         "range": [
          -0.21844745000001856,
          2.186148219999985
         ],
         "showgrid": false,
         "showline": true,
         "tickcolor": "black",
         "tickfont": {
          "family": "Arial",
          "size": 20
         },
         "ticks": "outside",
         "title": {
          "font": {
           "color": "black",
           "family": "Arial",
           "size": 24
          },
          "text": "Simulated ΔG<sub>*OH</sub>"
         }
        }
       }
      },
      "text/html": [
       "<div>                            <div id=\"967ca36b-86ea-4361-abac-48947e2ab2e7\" class=\"plotly-graph-div\" style=\"height:525px; width:100%;\"></div>            <script type=\"text/javascript\">                require([\"plotly\"], function(Plotly) {                    window.PLOTLYENV=window.PLOTLYENV || {};                                    if (document.getElementById(\"967ca36b-86ea-4361-abac-48947e2ab2e7\")) {                    Plotly.newPlot(                        \"967ca36b-86ea-4361-abac-48947e2ab2e7\",                        [{\"line\":{\"color\":\"black\"},\"mode\":\"lines\",\"name\":\"Parity line\",\"x\":[-0.31844745000001856,2.286148219999985],\"y\":[-0.31844745000001856,2.286148219999985],\"type\":\"scatter\"},{\"mode\":\"markers\",\"name\":\"CV Regression\",\"opacity\":1.0,\"x\":[0.2555504157685502,1.1694998843725295,0.8135935641094907,1.1745943946709319,1.121706326143923,0.30769633976155797,0.8192329597720271,0.16808146796779866,0.46699735863011993,0.36023137183976317,1.3467764201467984,1.3883713367285564,1.2830691911399912,1.225173814588377,0.8000589572403203,0.8313015317939141,0.8440598508952446,1.2448647204544465,1.202496898161574,0.8739372328966453,0.8342496444386187,0.1685074519864922,0.16864221639489196,0.32727126040327725,0.6165619150365251,0.49022607446310085,1.1912334392315396,1.3673438055229101,1.3051876619190534,1.3415183218059843,1.2661004450216855,1.35710417965953,1.2117037469895262,1.2020614368710443,0.8720639820825351,1.414924992273611,1.3939473472149038,0.4497470343332943,0.45705105346866803,0.3373864439650016,0.4607772608753522,0.4486873257416595,0.8743722610368723,0.46009489122220737,0.3718968855418132,0.4514206449858853,0.4236019016890662,0.8660578965870864,0.4864527637130984,0.6181005721069925,0.5003963401512457,0.8543097332331895,0.292228945810022,0.7669679314998987,0.7670637571885561,1.1463146900138874,1.1549859214821216,1.4462881061825064,1.7689903699623581,1.963688319399547,0.9186200434079081,1.1589451949155802,1.259472345625094,1.2360769372399343,0.8292938698221013,0.8454568307491672,0.7212146589098323,0.904846899383809,0.8509074983457419,0.9255756436222538,0.84178331649046,0.504102358406862,0.814466790154265,0.8116156296896233,0.6810763801674216,1.1331200967654436,0.19940013366159626,1.7028044320057174,1.6935456596682346,0.7371564579248244,1.6927092401126154,0.9703199746621198,0.9397763720811132,1.655360013467143,1.6665638764760344,0.8898443635439723,1.606918627041737,1.3189931476371384,1.3432534931704332,0.8191759351333165,0.7748537411651162,0.7792035237820936,0.17095605246995582,1.0065733162691939,1.3320460336163769,1.1890290907214527,0.6994285848879551,1.3057918973895535,1.2708527665290341,1.3016878827182987,1.265547994899177,0.26777051357334036,0.8374245662493973,0.28025543840667577,0.9318951793542656,1.2029587480374202,1.0194498488800492,0.904308233349103,1.0247690385311015,1.096068147167259,1.1122408180014065,1.2183918485440572,1.2606755779535352,1.329888290233579,1.3575891137627059,1.2511476100723997,1.2728528158424113,0.8223862055660041,0.8206599552054437,0.40277691967790474,0.2908544980600207,0.5302065055364928,1.8867198647237005,1.448730476753374,1.4788570192953099,0.1983139683129167,0.20106930112573407,0.3525976513077276,0.19423295268141327,0.5422938700394351,0.4871560503061736,0.6032289648227631,0.49159576744794453,0.89529053415104,0.9135199525312481,1.028336029751825,1.392241212615859,0.7859326417491239,1.0024239409577094,0.9306260421007289,0.9751579433962023,0.20409140031438433,0.39842106097662633,1.3318918174309724,1.3445303627592673,0.20397684765865565,1.2558807465269743,1.2583738829806763,0.17517891127639684,1.3331004464164131,1.3470818425250322,0.3574688122711107,0.19503447470195523,0.7625720316100906,0.415609625799489,0.750397591014905,0.4040283242441207,0.4094809713815599,0.8520812230429753,0.9872731378605035,0.4602780353873608,1.1490678606147262,0.4355366409358594,0.40342218758926984,0.3866068489783787,0.39363798429246,0.8352686165608629,0.4894172467218709,0.44414350405114655,0.8333712615460147,1.32220080357828,1.1502675508790543,0.504131711362021,0.8112013011335963,0.7881901257235899,0.7955132973504044,0.5469561392102038,1.040909071406125,0.20072038418297344,0.19997704470076538,1.5970137256847248,1.6087914185071752,1.6085571611285174,0.1906615061996466,0.4850235926935178,0.6444107437681654,0.7938998580524292,0.7955791052754506,0.4866721616829568,0.5085552854438444,1.3154375991820793,1.3407786009597662,1.4590234211886421,1.3795834447343645,0.34621220953597165,0.9140127653677519,0.9419518070284401,1.3550387845878809,1.275719342313741,1.268590452608336,1.3887933710846199,1.6092053672007607,0.18220119074564023,0.34638764763244634,0.452847947455155,0.4253552559218092,0.18655738484416728,0.4405807484844688,1.2653289712236253,1.240699427063563,1.2993595437459993,1.301896750841864,0.7279895039675319,0.741685343407098,1.4226324182841537,1.4213502623658272,0.8413441557941026,1.2140594037233168,1.4674888539200213,1.481264412400947,0.9745731570425478,0.4096260434830037,0.2892037991602803,0.888514908865822,1.1901535702148784,1.2626189885228283,1.2832634747527107,1.3533869590577097,1.3396207761752428,0.8944269223081456,0.6507858841222309,0.8931327716594364,0.25613717074683073,0.2358940271504415,0.2362252350422147,0.20536268172105565,0.11513021389532696,0.28708333358057336,0.3463078919883893,0.31682961389488895,0.7290032375854989,0.8144928921756183,0.8446675079728041,0.810968017363153,0.731470214500884,0.19553761413531,0.19489079893852912,0.5589505979296892,0.5909962312248203,0.9680006648585713,0.8451879227822481,0.764583099058886,0.7614869385807403,0.5066688788573082,0.42096593022995066,0.28995951783137075,0.17050915801084443,0.1681930614192293,0.6806409919311056,1.5569954448190049,1.5591030358508404,0.30803148145588954,0.176454498742741,0.2017504990999046,0.6442964768827353,0.3289583958201301,0.980391623645275,0.4583209035597049,0.7126185551256874,0.1986591270212168,0.867337377443985,0.24727207385073013,0.34145452355734385,0.665415567792226,0.6793209491922392,0.17653813445291577,1.3467699564456734,1.3117311241321032,0.7952058980289953,0.8197634116913175,0.8282251742418043,0.7725644248887882,0.9197550345183116,0.8112071450494507,0.5152878261531502,0.7971715461743232,0.7952823701549967,0.746233563830454,1.855224404923798,0.4300784103739521,0.8897129692839316,1.5314692313079599,1.5283920032806009,1.5317865617868862,0.7346174016757283,0.6999073735887893,0.44016588053030725,0.8895437285873986,0.8907097306798666,0.6064997696806063,0.6273893548923506,0.8108412667320919,1.3845073699945694,0.19140526823252513,0.6458622493655826,1.193285043148404,1.284300518244355,0.950479553462027,0.7878193893436127,0.8777229592361229,0.5572362671000173,0.8721634810731391,1.269282417599444,1.4868007361824733,0.44582701958884163,0.9474964662742287,0.8225549417972648,0.18659374739326529,0.9160723613476773,0.8216311675824941,1.5812624088401481,1.5840700858597598,0.20428044091943764,0.6358157347906435,1.263611349212323,1.5031244886087958,0.7957555553673852,0.7104230315880291,0.5740578037609403,0.6078641720395126,0.7771192286932362,1.272982493009974,0.8206588775676913,1.3114304915347232,1.6600068143388031,1.3209586235645947,1.6713704999029546,1.6596489884122159,1.307907999792051,1.3472284175325462,0.19311143719520496,0.649624227443407,0.9324866078176453,0.443903428404375,1.1109394613718346,0.8724351401270369,0.8629133832414393,0.9337104894033494,0.9427022239455973,0.9493006689575867,0.8360939229985189,0.3263116388020211,1.859757442047519,1.8753731277417014,0.3275082639195732,1.7779229554041762,1.9620800265691043,1.4498268000161576,1.0902480568432995,0.23613412096569686,0.42329615829914413,0.43443844722040703],\"y\":[0.14574469000004409,1.3556798700000463,1.2945375600000097,1.452631600000047,0.8887237700000987,0.31639901000008375,1.0197135100000032,0.05165461999993748,0.4128499200000142,0.637030389999979,1.4702393400000637,1.3620987099999702,1.496649820000045,1.3556429699999917,1.0673757800000494,0.4150998799999861,0.726163980000053,1.4003095200000366,0.8818865100000444,1.001580890000043,1.084408319999995,0.24225368000011893,0.23992287000001578,0.5542180899999785,0.4076371399999352,0.3065739299999286,1.5950967700000838,1.3148535499999816,1.3345030500001094,1.2353040900000287,1.4267133400000211,1.420043719999996,1.1835813100000514,1.4834931900000192,0.7311113199999972,1.7568638199999504,1.8401251800000018,0.40167994000003726,0.47445773999996343,0.6303269300000529,0.5280717099999783,0.41757265000004007,0.7811521799999646,-0.11372372000002362,0.21083302000002457,0.4024065700000683,0.37456842999998297,1.3739825900001115,0.6903163999999442,0.6672231500000698,0.2787159699999229,1.4453233800000198,0.3287057299999965,0.5898259699999648,0.7169267699999586,0.6062361399999936,1.0154535799999855,1.3217107900000264,1.8224429900000423,1.890272619999991,1.581431940000045,1.193848600000053,1.080891060000028,1.71200047000005,1.8415921799999928,0.8089276299999717,0.5537223199999921,0.9363131099999868,0.7547277199999776,0.9689249000000195,0.830308559999964,0.5098183599999977,0.5936107400000032,0.6530003999999685,0.6188678499999873,1.0865151200000305,-0.00019289000007849388,1.8868069799999894,1.8650388399999833,1.017089840000012,1.3243641200000134,0.927972519999998,0.6268536400000648,1.887507430000057,1.8138540000000212,0.731774220000063,1.8097610400000412,1.3615175900000345,1.2696329700000042,0.8345784900000417,0.6245559200000634,0.8302563199999049,0.27458780000003524,0.6770237699999775,1.2923068300000586,1.3881371700000222,0.5597352499999892,1.177167040000058,1.204346840000057,1.3365986700000299,1.2742839299999964,0.2677482200000163,0.6020289100000304,0.46604677000002037,1.0145150099999973,0.9272522199999862,1.028856200000036,0.8977583300000169,0.8968469300000101,1.042700670000017,1.0604876899999744,1.3044344199999791,2.061533520000041,1.168474540000006,1.4919391699999955,1.2307347,1.5296719600000024,0.7510543499999762,0.9114624700000327,0.6340636800000261,0.25265001000005394,0.6223962200000137,1.8999002700000183,1.6301315199999926,1.622937190000045,0.3584104400000292,0.4474508200000009,0.6122004100000431,0.10967307000001436,0.4901553500000382,0.436730120000022,0.2857923400000295,0.22676158999999596,0.7598054899999915,1.0993663700000134,1.5751652699999859,1.0817239899999727,1.146816060000021,0.9868622400000227,0.8576169900000259,0.919209600000017,0.23720948000001907,0.4393346200000401,1.277212020000008,1.5046795900000525,0.291527289999977,1.2451032400000208,1.1955815500000149,0.17784455000000388,1.4356025799999947,1.4452217300000434,0.5109986900000372,0.06894575999999186,0.7688929200000139,0.25896990000004005,0.8463860900000391,0.6180455300000467,0.40240604000004576,0.8459965400000165,0.6428507200000417,0.268130470000046,0.9638029100000558,0.6739964200000663,0.473590599999995,0.1777299500000431,0.3855501099999692,0.618318220000021,0.37173160000006145,0.4596104400000349,0.9160406800000096,0.9992083199999804,1.164813909999993,0.15554123000001208,0.6053241300000145,1.0249661599999917,0.826267210000055,0.5516618399999806,1.6491557000000234,0.2396910799999723,0.32593344000005753,1.477834249999973,1.4126730800000196,1.5193519100000408,0.2600111399999896,0.40477653000002145,0.575119320000028,0.9077976100000178,0.9445947200000269,1.1072046600000085,0.609104939999981,1.4228730399999854,1.3421220500000295,1.6874389400000218,2.0441667199999936,0.32869399000000565,0.6774683700000146,0.8483718899999821,1.3350455400000392,1.1895934499999903,1.7517543600000074,2.039025219999986,1.8990330499999863,0.1268146400000496,0.43640685000005486,0.21917535000002952,0.5506373500000172,0.16037000000002943,0.5117703699999943,1.5326890999999996,1.4491864000000028,1.34953748000001,1.1917631699999738,0.7196146999999946,0.9626496100000572,1.7012538500000296,1.4864566700000246,0.3370799500000039,1.259197670000021,1.511088330000036,1.444571700000069,1.2002759000000374,0.5518379899999963,0.38637083000000483,0.957035030000015,0.8345358600000459,1.2501595000000243,1.1500734600000164,1.2611526500000145,1.3175882100000258,1.0045332500000377,0.3355962299999937,0.5964670700000461,0.26225031999999326,0.008694329999997974,0.44967534999997905,0.4858523999999995,-0.11844745000001855,0.17499898000002712,0.24163896000001794,0.46043285000004697,0.6308509700000122,0.827353139999986,0.6900900699999972,1.0237130899999733,0.679100799999987,0.37339856000002736,0.1665207300000311,0.3725347699999879,0.034179450000039635,0.8685859799999782,0.9035411599999754,0.5419208700000417,1.3260108200000509,0.06799969000005102,0.4366437399999945,0.3989659799999863,0.3425514299999868,0.08935081999996508,0.45611038999999276,1.510827960000001,1.3773408600000046,0.05761029000004281,0.033496009999993914,0.19749852999999074,0.4687549899999801,0.2091823700000084,1.159740100000051,0.47566778999998927,0.6848413500000283,0.30767875000000866,0.9093718499999859,0.20326266000003623,0.42845625000003973,0.8508994899999898,0.8756589799999979,0.21514245000000254,1.38324658000002,1.655775360000036,0.5562740000000026,1.049772170000012,0.4606505200000306,0.7140334199999934,0.9006591099999646,0.5294646199999995,0.5137844900000068,0.8165706099999859,0.7735159000000074,0.5755941999999841,1.6759736699999912,0.5065400499999846,0.998990039999996,1.3402404999999937,1.1349326399999888,1.3000852400000162,0.8112023500000027,0.8909459500000316,0.4994743000000035,0.6635926900000022,0.8155720700000024,0.28871344000001,0.3283828299999818,0.6428814699999925,1.0707407199999757,0.23164405999998006,0.5289247399999801,1.309857989999984,1.658539030000015,0.948809899999987,0.7393942599999839,0.9723659999999945,0.39792639999998936,0.8450234499999858,0.9730176699999908,1.1145246499999935,0.5603229199999766,0.8326421300000397,0.928085829999987,0.08162028000001054,0.6709074700000606,0.771200150000056,1.5310029600000525,1.3257505699999974,0.004080049999999558,0.744442639999989,1.1752127599999944,1.3270394900000049,0.7425049499999836,0.5718396100000127,0.25356580999999845,0.43655219999999484,0.9910029700000116,0.95776325,0.8385031899999837,1.7161832999999838,1.9661943700000115,1.171941650000037,1.0577831900000383,1.8981568700000089,1.072874289999988,1.4025264600000191,0.24672447999998393,0.5211044999999792,1.1674940899999917,0.3460543500000035,0.5627018199999732,0.8364786600000407,0.814892290000018,0.9032355399999978,0.7902285500000239,0.7531589200000048,0.9155638799999799,0.1941410899999887,1.8059647999999988,2.086148219999985,0.1945080800000205,1.872931260000002,1.9852904900000403,1.3169377900000263,0.6136862299999855,0.12515996000004814,0.41800277000001596,0.5746416300000028],\"type\":\"scatter\"}],                        {\"font\":{\"color\":\"black\",\"family\":\"Arial\"},\"paper_bgcolor\":\"white\",\"plot_bgcolor\":\"white\",\"showlegend\":true,\"xaxis\":{\"linecolor\":\"black\",\"mirror\":true,\"range\":[-0.21844745000001856,2.186148219999985],\"showgrid\":false,\"showline\":true,\"tickcolor\":\"black\",\"tickfont\":{\"family\":\"Arial\",\"size\":20.0},\"ticks\":\"outside\",\"title\":{\"font\":{\"color\":\"black\",\"family\":\"Arial\",\"size\":24.0},\"text\":\"Predicted \\u0394G<sub>*OH</sub>\"}},\"yaxis\":{\"linecolor\":\"black\",\"mirror\":true,\"range\":[-0.21844745000001856,2.186148219999985],\"showgrid\":false,\"showline\":true,\"tickcolor\":\"black\",\"tickfont\":{\"family\":\"Arial\",\"size\":20.0},\"ticks\":\"outside\",\"title\":{\"font\":{\"color\":\"black\",\"family\":\"Arial\",\"size\":24.0},\"text\":\"Simulated \\u0394G<sub>*OH</sub>\"}},\"template\":{\"data\":{\"histogram2dcontour\":[{\"type\":\"histogram2dcontour\",\"colorbar\":{\"outlinewidth\":0,\"ticks\":\"\"},\"colorscale\":[[0.0,\"#0d0887\"],[0.1111111111111111,\"#46039f\"],[0.2222222222222222,\"#7201a8\"],[0.3333333333333333,\"#9c179e\"],[0.4444444444444444,\"#bd3786\"],[0.5555555555555556,\"#d8576b\"],[0.6666666666666666,\"#ed7953\"],[0.7777777777777778,\"#fb9f3a\"],[0.8888888888888888,\"#fdca26\"],[1.0,\"#f0f921\"]]}],\"choropleth\":[{\"type\":\"choropleth\",\"colorbar\":{\"outlinewidth\":0,\"ticks\":\"\"}}],\"histogram2d\":[{\"type\":\"histogram2d\",\"colorbar\":{\"outlinewidth\":0,\"ticks\":\"\"},\"colorscale\":[[0.0,\"#0d0887\"],[0.1111111111111111,\"#46039f\"],[0.2222222222222222,\"#7201a8\"],[0.3333333333333333,\"#9c179e\"],[0.4444444444444444,\"#bd3786\"],[0.5555555555555556,\"#d8576b\"],[0.6666666666666666,\"#ed7953\"],[0.7777777777777778,\"#fb9f3a\"],[0.8888888888888888,\"#fdca26\"],[1.0,\"#f0f921\"]]}],\"heatmap\":[{\"type\":\"heatmap\",\"colorbar\":{\"outlinewidth\":0,\"ticks\":\"\"},\"colorscale\":[[0.0,\"#0d0887\"],[0.1111111111111111,\"#46039f\"],[0.2222222222222222,\"#7201a8\"],[0.3333333333333333,\"#9c179e\"],[0.4444444444444444,\"#bd3786\"],[0.5555555555555556,\"#d8576b\"],[0.6666666666666666,\"#ed7953\"],[0.7777777777777778,\"#fb9f3a\"],[0.8888888888888888,\"#fdca26\"],[1.0,\"#f0f921\"]]}],\"heatmapgl\":[{\"type\":\"heatmapgl\",\"colorbar\":{\"outlinewidth\":0,\"ticks\":\"\"},\"colorscale\":[[0.0,\"#0d0887\"],[0.1111111111111111,\"#46039f\"],[0.2222222222222222,\"#7201a8\"],[0.3333333333333333,\"#9c179e\"],[0.4444444444444444,\"#bd3786\"],[0.5555555555555556,\"#d8576b\"],[0.6666666666666666,\"#ed7953\"],[0.7777777777777778,\"#fb9f3a\"],[0.8888888888888888,\"#fdca26\"],[1.0,\"#f0f921\"]]}],\"contourcarpet\":[{\"type\":\"contourcarpet\",\"colorbar\":{\"outlinewidth\":0,\"ticks\":\"\"}}],\"contour\":[{\"type\":\"contour\",\"colorbar\":{\"outlinewidth\":0,\"ticks\":\"\"},\"colorscale\":[[0.0,\"#0d0887\"],[0.1111111111111111,\"#46039f\"],[0.2222222222222222,\"#7201a8\"],[0.3333333333333333,\"#9c179e\"],[0.4444444444444444,\"#bd3786\"],[0.5555555555555556,\"#d8576b\"],[0.6666666666666666,\"#ed7953\"],[0.7777777777777778,\"#fb9f3a\"],[0.8888888888888888,\"#fdca26\"],[1.0,\"#f0f921\"]]}],\"surface\":[{\"type\":\"surface\",\"colorbar\":{\"outlinewidth\":0,\"ticks\":\"\"},\"colorscale\":[[0.0,\"#0d0887\"],[0.1111111111111111,\"#46039f\"],[0.2222222222222222,\"#7201a8\"],[0.3333333333333333,\"#9c179e\"],[0.4444444444444444,\"#bd3786\"],[0.5555555555555556,\"#d8576b\"],[0.6666666666666666,\"#ed7953\"],[0.7777777777777778,\"#fb9f3a\"],[0.8888888888888888,\"#fdca26\"],[1.0,\"#f0f921\"]]}],\"mesh3d\":[{\"type\":\"mesh3d\",\"colorbar\":{\"outlinewidth\":0,\"ticks\":\"\"}}],\"scatter\":[{\"fillpattern\":{\"fillmode\":\"overlay\",\"size\":10,\"solidity\":0.2},\"type\":\"scatter\"}],\"parcoords\":[{\"type\":\"parcoords\",\"line\":{\"colorbar\":{\"outlinewidth\":0,\"ticks\":\"\"}}}],\"scatterpolargl\":[{\"type\":\"scatterpolargl\",\"marker\":{\"colorbar\":{\"outlinewidth\":0,\"ticks\":\"\"}}}],\"bar\":[{\"error_x\":{\"color\":\"#2a3f5f\"},\"error_y\":{\"color\":\"#2a3f5f\"},\"marker\":{\"line\":{\"color\":\"#E5ECF6\",\"width\":0.5},\"pattern\":{\"fillmode\":\"overlay\",\"size\":10,\"solidity\":0.2}},\"type\":\"bar\"}],\"scattergeo\":[{\"type\":\"scattergeo\",\"marker\":{\"colorbar\":{\"outlinewidth\":0,\"ticks\":\"\"}}}],\"scatterpolar\":[{\"type\":\"scatterpolar\",\"marker\":{\"colorbar\":{\"outlinewidth\":0,\"ticks\":\"\"}}}],\"histogram\":[{\"marker\":{\"pattern\":{\"fillmode\":\"overlay\",\"size\":10,\"solidity\":0.2}},\"type\":\"histogram\"}],\"scattergl\":[{\"type\":\"scattergl\",\"marker\":{\"colorbar\":{\"outlinewidth\":0,\"ticks\":\"\"}}}],\"scatter3d\":[{\"type\":\"scatter3d\",\"line\":{\"colorbar\":{\"outlinewidth\":0,\"ticks\":\"\"}},\"marker\":{\"colorbar\":{\"outlinewidth\":0,\"ticks\":\"\"}}}],\"scattermapbox\":[{\"type\":\"scattermapbox\",\"marker\":{\"colorbar\":{\"outlinewidth\":0,\"ticks\":\"\"}}}],\"scatterternary\":[{\"type\":\"scatterternary\",\"marker\":{\"colorbar\":{\"outlinewidth\":0,\"ticks\":\"\"}}}],\"scattercarpet\":[{\"type\":\"scattercarpet\",\"marker\":{\"colorbar\":{\"outlinewidth\":0,\"ticks\":\"\"}}}],\"carpet\":[{\"aaxis\":{\"endlinecolor\":\"#2a3f5f\",\"gridcolor\":\"white\",\"linecolor\":\"white\",\"minorgridcolor\":\"white\",\"startlinecolor\":\"#2a3f5f\"},\"baxis\":{\"endlinecolor\":\"#2a3f5f\",\"gridcolor\":\"white\",\"linecolor\":\"white\",\"minorgridcolor\":\"white\",\"startlinecolor\":\"#2a3f5f\"},\"type\":\"carpet\"}],\"table\":[{\"cells\":{\"fill\":{\"color\":\"#EBF0F8\"},\"line\":{\"color\":\"white\"}},\"header\":{\"fill\":{\"color\":\"#C8D4E3\"},\"line\":{\"color\":\"white\"}},\"type\":\"table\"}],\"barpolar\":[{\"marker\":{\"line\":{\"color\":\"#E5ECF6\",\"width\":0.5},\"pattern\":{\"fillmode\":\"overlay\",\"size\":10,\"solidity\":0.2}},\"type\":\"barpolar\"}],\"pie\":[{\"automargin\":true,\"type\":\"pie\"}]},\"layout\":{\"autotypenumbers\":\"strict\",\"colorway\":[\"#636efa\",\"#EF553B\",\"#00cc96\",\"#ab63fa\",\"#FFA15A\",\"#19d3f3\",\"#FF6692\",\"#B6E880\",\"#FF97FF\",\"#FECB52\"],\"font\":{\"color\":\"#2a3f5f\"},\"hovermode\":\"closest\",\"hoverlabel\":{\"align\":\"left\"},\"paper_bgcolor\":\"white\",\"plot_bgcolor\":\"#E5ECF6\",\"polar\":{\"bgcolor\":\"#E5ECF6\",\"angularaxis\":{\"gridcolor\":\"white\",\"linecolor\":\"white\",\"ticks\":\"\"},\"radialaxis\":{\"gridcolor\":\"white\",\"linecolor\":\"white\",\"ticks\":\"\"}},\"ternary\":{\"bgcolor\":\"#E5ECF6\",\"aaxis\":{\"gridcolor\":\"white\",\"linecolor\":\"white\",\"ticks\":\"\"},\"baxis\":{\"gridcolor\":\"white\",\"linecolor\":\"white\",\"ticks\":\"\"},\"caxis\":{\"gridcolor\":\"white\",\"linecolor\":\"white\",\"ticks\":\"\"}},\"coloraxis\":{\"colorbar\":{\"outlinewidth\":0,\"ticks\":\"\"}},\"colorscale\":{\"sequential\":[[0.0,\"#0d0887\"],[0.1111111111111111,\"#46039f\"],[0.2222222222222222,\"#7201a8\"],[0.3333333333333333,\"#9c179e\"],[0.4444444444444444,\"#bd3786\"],[0.5555555555555556,\"#d8576b\"],[0.6666666666666666,\"#ed7953\"],[0.7777777777777778,\"#fb9f3a\"],[0.8888888888888888,\"#fdca26\"],[1.0,\"#f0f921\"]],\"sequentialminus\":[[0.0,\"#0d0887\"],[0.1111111111111111,\"#46039f\"],[0.2222222222222222,\"#7201a8\"],[0.3333333333333333,\"#9c179e\"],[0.4444444444444444,\"#bd3786\"],[0.5555555555555556,\"#d8576b\"],[0.6666666666666666,\"#ed7953\"],[0.7777777777777778,\"#fb9f3a\"],[0.8888888888888888,\"#fdca26\"],[1.0,\"#f0f921\"]],\"diverging\":[[0,\"#8e0152\"],[0.1,\"#c51b7d\"],[0.2,\"#de77ae\"],[0.3,\"#f1b6da\"],[0.4,\"#fde0ef\"],[0.5,\"#f7f7f7\"],[0.6,\"#e6f5d0\"],[0.7,\"#b8e186\"],[0.8,\"#7fbc41\"],[0.9,\"#4d9221\"],[1,\"#276419\"]]},\"xaxis\":{\"gridcolor\":\"white\",\"linecolor\":\"white\",\"ticks\":\"\",\"title\":{\"standoff\":15},\"zerolinecolor\":\"white\",\"automargin\":true,\"zerolinewidth\":2},\"yaxis\":{\"gridcolor\":\"white\",\"linecolor\":\"white\",\"ticks\":\"\",\"title\":{\"standoff\":15},\"zerolinecolor\":\"white\",\"automargin\":true,\"zerolinewidth\":2},\"scene\":{\"xaxis\":{\"backgroundcolor\":\"#E5ECF6\",\"gridcolor\":\"white\",\"linecolor\":\"white\",\"showbackground\":true,\"ticks\":\"\",\"zerolinecolor\":\"white\",\"gridwidth\":2},\"yaxis\":{\"backgroundcolor\":\"#E5ECF6\",\"gridcolor\":\"white\",\"linecolor\":\"white\",\"showbackground\":true,\"ticks\":\"\",\"zerolinecolor\":\"white\",\"gridwidth\":2},\"zaxis\":{\"backgroundcolor\":\"#E5ECF6\",\"gridcolor\":\"white\",\"linecolor\":\"white\",\"showbackground\":true,\"ticks\":\"\",\"zerolinecolor\":\"white\",\"gridwidth\":2}},\"shapedefaults\":{\"line\":{\"color\":\"#2a3f5f\"}},\"annotationdefaults\":{\"arrowcolor\":\"#2a3f5f\",\"arrowhead\":0,\"arrowwidth\":1},\"geo\":{\"bgcolor\":\"white\",\"landcolor\":\"#E5ECF6\",\"subunitcolor\":\"white\",\"showland\":true,\"showlakes\":true,\"lakecolor\":\"white\"},\"title\":{\"x\":0.05},\"mapbox\":{\"style\":\"light\"}}}},                        {\"responsive\": true}                    ).then(function(){\n",
       "                            \n",
       "var gd = document.getElementById('967ca36b-86ea-4361-abac-48947e2ab2e7');\n",
       "var x = new MutationObserver(function (mutations, observer) {{\n",
       "        var display = window.getComputedStyle(gd).display;\n",
       "        if (!display || display === 'none') {{\n",
       "            console.log([gd, 'removed!']);\n",
       "            Plotly.purge(gd);\n",
       "            observer.disconnect();\n",
       "        }}\n",
       "}});\n",
       "\n",
       "// Listen for the removal of the full notebook cells\n",
       "var notebookContainer = gd.closest('#notebook-container');\n",
       "if (notebookContainer) {{\n",
       "    x.observe(notebookContainer, {childList: true});\n",
       "}}\n",
       "\n",
       "// Listen for the clearing of the current output cell\n",
       "var outputEl = gd.closest('.output');\n",
       "if (outputEl) {{\n",
       "    x.observe(outputEl, {childList: true});\n",
       "}}\n",
       "\n",
       "                        })                };                });            </script>        </div>"
      ]
     },
     "metadata": {},
     "output_type": "display_data"
    }
   ],
   "source": [
    "fig = MA_Plot.plot_parity_infold__PLT\n",
    "if show_plot:\n",
    "    fig.show()"
   ]
  },
  {
   "cell_type": "code",
   "execution_count": 38,
   "metadata": {},
   "outputs": [
    {
     "data": {
      "application/vnd.plotly.v1+json": {
       "config": {
        "plotlyServerURL": "https://plot.ly"
       },
       "data": [
        {
         "marker": {
          "line": {
           "color": "black",
           "width": 1
          },
          "size": 12,
          "symbol": "circle"
         },
         "mode": "markers",
         "type": "scatter",
         "x": [
          1,
          2,
          3,
          4,
          5,
          6
         ],
         "y": [
          0.3512064009290173,
          0.23805420471035496,
          0.19298786224077358,
          0.18957312852546976,
          0.18065602077687515,
          0.17884507130007327
         ]
        }
       ],
       "layout": {
        "font": {
         "color": "black",
         "family": "Arial"
        },
        "paper_bgcolor": "white",
        "plot_bgcolor": "white",
        "showlegend": false,
        "template": {
         "data": {
          "bar": [
           {
            "error_x": {
             "color": "#2a3f5f"
            },
            "error_y": {
             "color": "#2a3f5f"
            },
            "marker": {
             "line": {
              "color": "#E5ECF6",
              "width": 0.5
             },
             "pattern": {
              "fillmode": "overlay",
              "size": 10,
              "solidity": 0.2
             }
            },
            "type": "bar"
           }
          ],
          "barpolar": [
           {
            "marker": {
             "line": {
              "color": "#E5ECF6",
              "width": 0.5
             },
             "pattern": {
              "fillmode": "overlay",
              "size": 10,
              "solidity": 0.2
             }
            },
            "type": "barpolar"
           }
          ],
          "carpet": [
           {
            "aaxis": {
             "endlinecolor": "#2a3f5f",
             "gridcolor": "white",
             "linecolor": "white",
             "minorgridcolor": "white",
             "startlinecolor": "#2a3f5f"
            },
            "baxis": {
             "endlinecolor": "#2a3f5f",
             "gridcolor": "white",
             "linecolor": "white",
             "minorgridcolor": "white",
             "startlinecolor": "#2a3f5f"
            },
            "type": "carpet"
           }
          ],
          "choropleth": [
           {
            "colorbar": {
             "outlinewidth": 0,
             "ticks": ""
            },
            "type": "choropleth"
           }
          ],
          "contour": [
           {
            "colorbar": {
             "outlinewidth": 0,
             "ticks": ""
            },
            "colorscale": [
             [
              0,
              "#0d0887"
             ],
             [
              0.1111111111111111,
              "#46039f"
             ],
             [
              0.2222222222222222,
              "#7201a8"
             ],
             [
              0.3333333333333333,
              "#9c179e"
             ],
             [
              0.4444444444444444,
              "#bd3786"
             ],
             [
              0.5555555555555556,
              "#d8576b"
             ],
             [
              0.6666666666666666,
              "#ed7953"
             ],
             [
              0.7777777777777778,
              "#fb9f3a"
             ],
             [
              0.8888888888888888,
              "#fdca26"
             ],
             [
              1,
              "#f0f921"
             ]
            ],
            "type": "contour"
           }
          ],
          "contourcarpet": [
           {
            "colorbar": {
             "outlinewidth": 0,
             "ticks": ""
            },
            "type": "contourcarpet"
           }
          ],
          "heatmap": [
           {
            "colorbar": {
             "outlinewidth": 0,
             "ticks": ""
            },
            "colorscale": [
             [
              0,
              "#0d0887"
             ],
             [
              0.1111111111111111,
              "#46039f"
             ],
             [
              0.2222222222222222,
              "#7201a8"
             ],
             [
              0.3333333333333333,
              "#9c179e"
             ],
             [
              0.4444444444444444,
              "#bd3786"
             ],
             [
              0.5555555555555556,
              "#d8576b"
             ],
             [
              0.6666666666666666,
              "#ed7953"
             ],
             [
              0.7777777777777778,
              "#fb9f3a"
             ],
             [
              0.8888888888888888,
              "#fdca26"
             ],
             [
              1,
              "#f0f921"
             ]
            ],
            "type": "heatmap"
           }
          ],
          "heatmapgl": [
           {
            "colorbar": {
             "outlinewidth": 0,
             "ticks": ""
            },
            "colorscale": [
             [
              0,
              "#0d0887"
             ],
             [
              0.1111111111111111,
              "#46039f"
             ],
             [
              0.2222222222222222,
              "#7201a8"
             ],
             [
              0.3333333333333333,
              "#9c179e"
             ],
             [
              0.4444444444444444,
              "#bd3786"
             ],
             [
              0.5555555555555556,
              "#d8576b"
             ],
             [
              0.6666666666666666,
              "#ed7953"
             ],
             [
              0.7777777777777778,
              "#fb9f3a"
             ],
             [
              0.8888888888888888,
              "#fdca26"
             ],
             [
              1,
              "#f0f921"
             ]
            ],
            "type": "heatmapgl"
           }
          ],
          "histogram": [
           {
            "marker": {
             "pattern": {
              "fillmode": "overlay",
              "size": 10,
              "solidity": 0.2
             }
            },
            "type": "histogram"
           }
          ],
          "histogram2d": [
           {
            "colorbar": {
             "outlinewidth": 0,
             "ticks": ""
            },
            "colorscale": [
             [
              0,
              "#0d0887"
             ],
             [
              0.1111111111111111,
              "#46039f"
             ],
             [
              0.2222222222222222,
              "#7201a8"
             ],
             [
              0.3333333333333333,
              "#9c179e"
             ],
             [
              0.4444444444444444,
              "#bd3786"
             ],
             [
              0.5555555555555556,
              "#d8576b"
             ],
             [
              0.6666666666666666,
              "#ed7953"
             ],
             [
              0.7777777777777778,
              "#fb9f3a"
             ],
             [
              0.8888888888888888,
              "#fdca26"
             ],
             [
              1,
              "#f0f921"
             ]
            ],
            "type": "histogram2d"
           }
          ],
          "histogram2dcontour": [
           {
            "colorbar": {
             "outlinewidth": 0,
             "ticks": ""
            },
            "colorscale": [
             [
              0,
              "#0d0887"
             ],
             [
              0.1111111111111111,
              "#46039f"
             ],
             [
              0.2222222222222222,
              "#7201a8"
             ],
             [
              0.3333333333333333,
              "#9c179e"
             ],
             [
              0.4444444444444444,
              "#bd3786"
             ],
             [
              0.5555555555555556,
              "#d8576b"
             ],
             [
              0.6666666666666666,
              "#ed7953"
             ],
             [
              0.7777777777777778,
              "#fb9f3a"
             ],
             [
              0.8888888888888888,
              "#fdca26"
             ],
             [
              1,
              "#f0f921"
             ]
            ],
            "type": "histogram2dcontour"
           }
          ],
          "mesh3d": [
           {
            "colorbar": {
             "outlinewidth": 0,
             "ticks": ""
            },
            "type": "mesh3d"
           }
          ],
          "parcoords": [
           {
            "line": {
             "colorbar": {
              "outlinewidth": 0,
              "ticks": ""
             }
            },
            "type": "parcoords"
           }
          ],
          "pie": [
           {
            "automargin": true,
            "type": "pie"
           }
          ],
          "scatter": [
           {
            "fillpattern": {
             "fillmode": "overlay",
             "size": 10,
             "solidity": 0.2
            },
            "type": "scatter"
           }
          ],
          "scatter3d": [
           {
            "line": {
             "colorbar": {
              "outlinewidth": 0,
              "ticks": ""
             }
            },
            "marker": {
             "colorbar": {
              "outlinewidth": 0,
              "ticks": ""
             }
            },
            "type": "scatter3d"
           }
          ],
          "scattercarpet": [
           {
            "marker": {
             "colorbar": {
              "outlinewidth": 0,
              "ticks": ""
             }
            },
            "type": "scattercarpet"
           }
          ],
          "scattergeo": [
           {
            "marker": {
             "colorbar": {
              "outlinewidth": 0,
              "ticks": ""
             }
            },
            "type": "scattergeo"
           }
          ],
          "scattergl": [
           {
            "marker": {
             "colorbar": {
              "outlinewidth": 0,
              "ticks": ""
             }
            },
            "type": "scattergl"
           }
          ],
          "scattermapbox": [
           {
            "marker": {
             "colorbar": {
              "outlinewidth": 0,
              "ticks": ""
             }
            },
            "type": "scattermapbox"
           }
          ],
          "scatterpolar": [
           {
            "marker": {
             "colorbar": {
              "outlinewidth": 0,
              "ticks": ""
             }
            },
            "type": "scatterpolar"
           }
          ],
          "scatterpolargl": [
           {
            "marker": {
             "colorbar": {
              "outlinewidth": 0,
              "ticks": ""
             }
            },
            "type": "scatterpolargl"
           }
          ],
          "scatterternary": [
           {
            "marker": {
             "colorbar": {
              "outlinewidth": 0,
              "ticks": ""
             }
            },
            "type": "scatterternary"
           }
          ],
          "surface": [
           {
            "colorbar": {
             "outlinewidth": 0,
             "ticks": ""
            },
            "colorscale": [
             [
              0,
              "#0d0887"
             ],
             [
              0.1111111111111111,
              "#46039f"
             ],
             [
              0.2222222222222222,
              "#7201a8"
             ],
             [
              0.3333333333333333,
              "#9c179e"
             ],
             [
              0.4444444444444444,
              "#bd3786"
             ],
             [
              0.5555555555555556,
              "#d8576b"
             ],
             [
              0.6666666666666666,
              "#ed7953"
             ],
             [
              0.7777777777777778,
              "#fb9f3a"
             ],
             [
              0.8888888888888888,
              "#fdca26"
             ],
             [
              1,
              "#f0f921"
             ]
            ],
            "type": "surface"
           }
          ],
          "table": [
           {
            "cells": {
             "fill": {
              "color": "#EBF0F8"
             },
             "line": {
              "color": "white"
             }
            },
            "header": {
             "fill": {
              "color": "#C8D4E3"
             },
             "line": {
              "color": "white"
             }
            },
            "type": "table"
           }
          ]
         },
         "layout": {
          "annotationdefaults": {
           "arrowcolor": "#2a3f5f",
           "arrowhead": 0,
           "arrowwidth": 1
          },
          "autotypenumbers": "strict",
          "coloraxis": {
           "colorbar": {
            "outlinewidth": 0,
            "ticks": ""
           }
          },
          "colorscale": {
           "diverging": [
            [
             0,
             "#8e0152"
            ],
            [
             0.1,
             "#c51b7d"
            ],
            [
             0.2,
             "#de77ae"
            ],
            [
             0.3,
             "#f1b6da"
            ],
            [
             0.4,
             "#fde0ef"
            ],
            [
             0.5,
             "#f7f7f7"
            ],
            [
             0.6,
             "#e6f5d0"
            ],
            [
             0.7,
             "#b8e186"
            ],
            [
             0.8,
             "#7fbc41"
            ],
            [
             0.9,
             "#4d9221"
            ],
            [
             1,
             "#276419"
            ]
           ],
           "sequential": [
            [
             0,
             "#0d0887"
            ],
            [
             0.1111111111111111,
             "#46039f"
            ],
            [
             0.2222222222222222,
             "#7201a8"
            ],
            [
             0.3333333333333333,
             "#9c179e"
            ],
            [
             0.4444444444444444,
             "#bd3786"
            ],
            [
             0.5555555555555556,
             "#d8576b"
            ],
            [
             0.6666666666666666,
             "#ed7953"
            ],
            [
             0.7777777777777778,
             "#fb9f3a"
            ],
            [
             0.8888888888888888,
             "#fdca26"
            ],
            [
             1,
             "#f0f921"
            ]
           ],
           "sequentialminus": [
            [
             0,
             "#0d0887"
            ],
            [
             0.1111111111111111,
             "#46039f"
            ],
            [
             0.2222222222222222,
             "#7201a8"
            ],
            [
             0.3333333333333333,
             "#9c179e"
            ],
            [
             0.4444444444444444,
             "#bd3786"
            ],
            [
             0.5555555555555556,
             "#d8576b"
            ],
            [
             0.6666666666666666,
             "#ed7953"
            ],
            [
             0.7777777777777778,
             "#fb9f3a"
            ],
            [
             0.8888888888888888,
             "#fdca26"
            ],
            [
             1,
             "#f0f921"
            ]
           ]
          },
          "colorway": [
           "#636efa",
           "#EF553B",
           "#00cc96",
           "#ab63fa",
           "#FFA15A",
           "#19d3f3",
           "#FF6692",
           "#B6E880",
           "#FF97FF",
           "#FECB52"
          ],
          "font": {
           "color": "#2a3f5f"
          },
          "geo": {
           "bgcolor": "white",
           "lakecolor": "white",
           "landcolor": "#E5ECF6",
           "showlakes": true,
           "showland": true,
           "subunitcolor": "white"
          },
          "hoverlabel": {
           "align": "left"
          },
          "hovermode": "closest",
          "mapbox": {
           "style": "light"
          },
          "paper_bgcolor": "white",
          "plot_bgcolor": "#E5ECF6",
          "polar": {
           "angularaxis": {
            "gridcolor": "white",
            "linecolor": "white",
            "ticks": ""
           },
           "bgcolor": "#E5ECF6",
           "radialaxis": {
            "gridcolor": "white",
            "linecolor": "white",
            "ticks": ""
           }
          },
          "scene": {
           "xaxis": {
            "backgroundcolor": "#E5ECF6",
            "gridcolor": "white",
            "gridwidth": 2,
            "linecolor": "white",
            "showbackground": true,
            "ticks": "",
            "zerolinecolor": "white"
           },
           "yaxis": {
            "backgroundcolor": "#E5ECF6",
            "gridcolor": "white",
            "gridwidth": 2,
            "linecolor": "white",
            "showbackground": true,
            "ticks": "",
            "zerolinecolor": "white"
           },
           "zaxis": {
            "backgroundcolor": "#E5ECF6",
            "gridcolor": "white",
            "gridwidth": 2,
            "linecolor": "white",
            "showbackground": true,
            "ticks": "",
            "zerolinecolor": "white"
           }
          },
          "shapedefaults": {
           "line": {
            "color": "#2a3f5f"
           }
          },
          "ternary": {
           "aaxis": {
            "gridcolor": "white",
            "linecolor": "white",
            "ticks": ""
           },
           "baxis": {
            "gridcolor": "white",
            "linecolor": "white",
            "ticks": ""
           },
           "bgcolor": "#E5ECF6",
           "caxis": {
            "gridcolor": "white",
            "linecolor": "white",
            "ticks": ""
           }
          },
          "title": {
           "x": 0.05
          },
          "xaxis": {
           "automargin": true,
           "gridcolor": "white",
           "linecolor": "white",
           "ticks": "",
           "title": {
            "standoff": 15
           },
           "zerolinecolor": "white",
           "zerolinewidth": 2
          },
          "yaxis": {
           "automargin": true,
           "gridcolor": "white",
           "linecolor": "white",
           "ticks": "",
           "title": {
            "standoff": 15
           },
           "zerolinecolor": "white",
           "zerolinewidth": 2
          }
         }
        },
        "xaxis": {
         "linecolor": "black",
         "mirror": true,
         "showgrid": false,
         "showline": true,
         "tickcolor": "black",
         "tickfont": {
          "family": "Arial",
          "size": 20
         },
         "ticks": "outside",
         "title": {
          "font": {
           "color": "black",
           "family": "Arial",
           "size": 24
          },
          "text": "Num PCA Components"
         }
        },
        "yaxis": {
         "linecolor": "black",
         "mirror": true,
         "showgrid": false,
         "showline": true,
         "tickcolor": "black",
         "tickfont": {
          "family": "Arial",
          "size": 20
         },
         "ticks": "outside",
         "title": {
          "font": {
           "color": "black",
           "family": "Arial",
           "size": 24
          },
          "text": "K-Fold Cross Validated MAE"
         }
        }
       }
      },
      "text/html": [
       "<div>                            <div id=\"2653f93b-1015-4cd0-95d7-aef48516b055\" class=\"plotly-graph-div\" style=\"height:525px; width:100%;\"></div>            <script type=\"text/javascript\">                require([\"plotly\"], function(Plotly) {                    window.PLOTLYENV=window.PLOTLYENV || {};                                    if (document.getElementById(\"2653f93b-1015-4cd0-95d7-aef48516b055\")) {                    Plotly.newPlot(                        \"2653f93b-1015-4cd0-95d7-aef48516b055\",                        [{\"marker\":{\"line\":{\"color\":\"black\",\"width\":1.0},\"size\":12,\"symbol\":\"circle\"},\"mode\":\"markers\",\"x\":[1,2,3,4,5,6],\"y\":[0.3512064009290173,0.23805420471035496,0.19298786224077358,0.18957312852546976,0.18065602077687515,0.17884507130007327],\"type\":\"scatter\"}],                        {\"font\":{\"color\":\"black\",\"family\":\"Arial\"},\"paper_bgcolor\":\"white\",\"plot_bgcolor\":\"white\",\"showlegend\":false,\"xaxis\":{\"linecolor\":\"black\",\"mirror\":true,\"showgrid\":false,\"showline\":true,\"tickcolor\":\"black\",\"tickfont\":{\"family\":\"Arial\",\"size\":20.0},\"ticks\":\"outside\",\"title\":{\"font\":{\"color\":\"black\",\"family\":\"Arial\",\"size\":24.0},\"text\":\"Num PCA Components\"}},\"yaxis\":{\"linecolor\":\"black\",\"mirror\":true,\"showgrid\":false,\"showline\":true,\"tickcolor\":\"black\",\"tickfont\":{\"family\":\"Arial\",\"size\":20.0},\"ticks\":\"outside\",\"title\":{\"font\":{\"color\":\"black\",\"family\":\"Arial\",\"size\":24.0},\"text\":\"K-Fold Cross Validated MAE\"}},\"template\":{\"data\":{\"histogram2dcontour\":[{\"type\":\"histogram2dcontour\",\"colorbar\":{\"outlinewidth\":0,\"ticks\":\"\"},\"colorscale\":[[0.0,\"#0d0887\"],[0.1111111111111111,\"#46039f\"],[0.2222222222222222,\"#7201a8\"],[0.3333333333333333,\"#9c179e\"],[0.4444444444444444,\"#bd3786\"],[0.5555555555555556,\"#d8576b\"],[0.6666666666666666,\"#ed7953\"],[0.7777777777777778,\"#fb9f3a\"],[0.8888888888888888,\"#fdca26\"],[1.0,\"#f0f921\"]]}],\"choropleth\":[{\"type\":\"choropleth\",\"colorbar\":{\"outlinewidth\":0,\"ticks\":\"\"}}],\"histogram2d\":[{\"type\":\"histogram2d\",\"colorbar\":{\"outlinewidth\":0,\"ticks\":\"\"},\"colorscale\":[[0.0,\"#0d0887\"],[0.1111111111111111,\"#46039f\"],[0.2222222222222222,\"#7201a8\"],[0.3333333333333333,\"#9c179e\"],[0.4444444444444444,\"#bd3786\"],[0.5555555555555556,\"#d8576b\"],[0.6666666666666666,\"#ed7953\"],[0.7777777777777778,\"#fb9f3a\"],[0.8888888888888888,\"#fdca26\"],[1.0,\"#f0f921\"]]}],\"heatmap\":[{\"type\":\"heatmap\",\"colorbar\":{\"outlinewidth\":0,\"ticks\":\"\"},\"colorscale\":[[0.0,\"#0d0887\"],[0.1111111111111111,\"#46039f\"],[0.2222222222222222,\"#7201a8\"],[0.3333333333333333,\"#9c179e\"],[0.4444444444444444,\"#bd3786\"],[0.5555555555555556,\"#d8576b\"],[0.6666666666666666,\"#ed7953\"],[0.7777777777777778,\"#fb9f3a\"],[0.8888888888888888,\"#fdca26\"],[1.0,\"#f0f921\"]]}],\"heatmapgl\":[{\"type\":\"heatmapgl\",\"colorbar\":{\"outlinewidth\":0,\"ticks\":\"\"},\"colorscale\":[[0.0,\"#0d0887\"],[0.1111111111111111,\"#46039f\"],[0.2222222222222222,\"#7201a8\"],[0.3333333333333333,\"#9c179e\"],[0.4444444444444444,\"#bd3786\"],[0.5555555555555556,\"#d8576b\"],[0.6666666666666666,\"#ed7953\"],[0.7777777777777778,\"#fb9f3a\"],[0.8888888888888888,\"#fdca26\"],[1.0,\"#f0f921\"]]}],\"contourcarpet\":[{\"type\":\"contourcarpet\",\"colorbar\":{\"outlinewidth\":0,\"ticks\":\"\"}}],\"contour\":[{\"type\":\"contour\",\"colorbar\":{\"outlinewidth\":0,\"ticks\":\"\"},\"colorscale\":[[0.0,\"#0d0887\"],[0.1111111111111111,\"#46039f\"],[0.2222222222222222,\"#7201a8\"],[0.3333333333333333,\"#9c179e\"],[0.4444444444444444,\"#bd3786\"],[0.5555555555555556,\"#d8576b\"],[0.6666666666666666,\"#ed7953\"],[0.7777777777777778,\"#fb9f3a\"],[0.8888888888888888,\"#fdca26\"],[1.0,\"#f0f921\"]]}],\"surface\":[{\"type\":\"surface\",\"colorbar\":{\"outlinewidth\":0,\"ticks\":\"\"},\"colorscale\":[[0.0,\"#0d0887\"],[0.1111111111111111,\"#46039f\"],[0.2222222222222222,\"#7201a8\"],[0.3333333333333333,\"#9c179e\"],[0.4444444444444444,\"#bd3786\"],[0.5555555555555556,\"#d8576b\"],[0.6666666666666666,\"#ed7953\"],[0.7777777777777778,\"#fb9f3a\"],[0.8888888888888888,\"#fdca26\"],[1.0,\"#f0f921\"]]}],\"mesh3d\":[{\"type\":\"mesh3d\",\"colorbar\":{\"outlinewidth\":0,\"ticks\":\"\"}}],\"scatter\":[{\"fillpattern\":{\"fillmode\":\"overlay\",\"size\":10,\"solidity\":0.2},\"type\":\"scatter\"}],\"parcoords\":[{\"type\":\"parcoords\",\"line\":{\"colorbar\":{\"outlinewidth\":0,\"ticks\":\"\"}}}],\"scatterpolargl\":[{\"type\":\"scatterpolargl\",\"marker\":{\"colorbar\":{\"outlinewidth\":0,\"ticks\":\"\"}}}],\"bar\":[{\"error_x\":{\"color\":\"#2a3f5f\"},\"error_y\":{\"color\":\"#2a3f5f\"},\"marker\":{\"line\":{\"color\":\"#E5ECF6\",\"width\":0.5},\"pattern\":{\"fillmode\":\"overlay\",\"size\":10,\"solidity\":0.2}},\"type\":\"bar\"}],\"scattergeo\":[{\"type\":\"scattergeo\",\"marker\":{\"colorbar\":{\"outlinewidth\":0,\"ticks\":\"\"}}}],\"scatterpolar\":[{\"type\":\"scatterpolar\",\"marker\":{\"colorbar\":{\"outlinewidth\":0,\"ticks\":\"\"}}}],\"histogram\":[{\"marker\":{\"pattern\":{\"fillmode\":\"overlay\",\"size\":10,\"solidity\":0.2}},\"type\":\"histogram\"}],\"scattergl\":[{\"type\":\"scattergl\",\"marker\":{\"colorbar\":{\"outlinewidth\":0,\"ticks\":\"\"}}}],\"scatter3d\":[{\"type\":\"scatter3d\",\"line\":{\"colorbar\":{\"outlinewidth\":0,\"ticks\":\"\"}},\"marker\":{\"colorbar\":{\"outlinewidth\":0,\"ticks\":\"\"}}}],\"scattermapbox\":[{\"type\":\"scattermapbox\",\"marker\":{\"colorbar\":{\"outlinewidth\":0,\"ticks\":\"\"}}}],\"scatterternary\":[{\"type\":\"scatterternary\",\"marker\":{\"colorbar\":{\"outlinewidth\":0,\"ticks\":\"\"}}}],\"scattercarpet\":[{\"type\":\"scattercarpet\",\"marker\":{\"colorbar\":{\"outlinewidth\":0,\"ticks\":\"\"}}}],\"carpet\":[{\"aaxis\":{\"endlinecolor\":\"#2a3f5f\",\"gridcolor\":\"white\",\"linecolor\":\"white\",\"minorgridcolor\":\"white\",\"startlinecolor\":\"#2a3f5f\"},\"baxis\":{\"endlinecolor\":\"#2a3f5f\",\"gridcolor\":\"white\",\"linecolor\":\"white\",\"minorgridcolor\":\"white\",\"startlinecolor\":\"#2a3f5f\"},\"type\":\"carpet\"}],\"table\":[{\"cells\":{\"fill\":{\"color\":\"#EBF0F8\"},\"line\":{\"color\":\"white\"}},\"header\":{\"fill\":{\"color\":\"#C8D4E3\"},\"line\":{\"color\":\"white\"}},\"type\":\"table\"}],\"barpolar\":[{\"marker\":{\"line\":{\"color\":\"#E5ECF6\",\"width\":0.5},\"pattern\":{\"fillmode\":\"overlay\",\"size\":10,\"solidity\":0.2}},\"type\":\"barpolar\"}],\"pie\":[{\"automargin\":true,\"type\":\"pie\"}]},\"layout\":{\"autotypenumbers\":\"strict\",\"colorway\":[\"#636efa\",\"#EF553B\",\"#00cc96\",\"#ab63fa\",\"#FFA15A\",\"#19d3f3\",\"#FF6692\",\"#B6E880\",\"#FF97FF\",\"#FECB52\"],\"font\":{\"color\":\"#2a3f5f\"},\"hovermode\":\"closest\",\"hoverlabel\":{\"align\":\"left\"},\"paper_bgcolor\":\"white\",\"plot_bgcolor\":\"#E5ECF6\",\"polar\":{\"bgcolor\":\"#E5ECF6\",\"angularaxis\":{\"gridcolor\":\"white\",\"linecolor\":\"white\",\"ticks\":\"\"},\"radialaxis\":{\"gridcolor\":\"white\",\"linecolor\":\"white\",\"ticks\":\"\"}},\"ternary\":{\"bgcolor\":\"#E5ECF6\",\"aaxis\":{\"gridcolor\":\"white\",\"linecolor\":\"white\",\"ticks\":\"\"},\"baxis\":{\"gridcolor\":\"white\",\"linecolor\":\"white\",\"ticks\":\"\"},\"caxis\":{\"gridcolor\":\"white\",\"linecolor\":\"white\",\"ticks\":\"\"}},\"coloraxis\":{\"colorbar\":{\"outlinewidth\":0,\"ticks\":\"\"}},\"colorscale\":{\"sequential\":[[0.0,\"#0d0887\"],[0.1111111111111111,\"#46039f\"],[0.2222222222222222,\"#7201a8\"],[0.3333333333333333,\"#9c179e\"],[0.4444444444444444,\"#bd3786\"],[0.5555555555555556,\"#d8576b\"],[0.6666666666666666,\"#ed7953\"],[0.7777777777777778,\"#fb9f3a\"],[0.8888888888888888,\"#fdca26\"],[1.0,\"#f0f921\"]],\"sequentialminus\":[[0.0,\"#0d0887\"],[0.1111111111111111,\"#46039f\"],[0.2222222222222222,\"#7201a8\"],[0.3333333333333333,\"#9c179e\"],[0.4444444444444444,\"#bd3786\"],[0.5555555555555556,\"#d8576b\"],[0.6666666666666666,\"#ed7953\"],[0.7777777777777778,\"#fb9f3a\"],[0.8888888888888888,\"#fdca26\"],[1.0,\"#f0f921\"]],\"diverging\":[[0,\"#8e0152\"],[0.1,\"#c51b7d\"],[0.2,\"#de77ae\"],[0.3,\"#f1b6da\"],[0.4,\"#fde0ef\"],[0.5,\"#f7f7f7\"],[0.6,\"#e6f5d0\"],[0.7,\"#b8e186\"],[0.8,\"#7fbc41\"],[0.9,\"#4d9221\"],[1,\"#276419\"]]},\"xaxis\":{\"gridcolor\":\"white\",\"linecolor\":\"white\",\"ticks\":\"\",\"title\":{\"standoff\":15},\"zerolinecolor\":\"white\",\"automargin\":true,\"zerolinewidth\":2},\"yaxis\":{\"gridcolor\":\"white\",\"linecolor\":\"white\",\"ticks\":\"\",\"title\":{\"standoff\":15},\"zerolinecolor\":\"white\",\"automargin\":true,\"zerolinewidth\":2},\"scene\":{\"xaxis\":{\"backgroundcolor\":\"#E5ECF6\",\"gridcolor\":\"white\",\"linecolor\":\"white\",\"showbackground\":true,\"ticks\":\"\",\"zerolinecolor\":\"white\",\"gridwidth\":2},\"yaxis\":{\"backgroundcolor\":\"#E5ECF6\",\"gridcolor\":\"white\",\"linecolor\":\"white\",\"showbackground\":true,\"ticks\":\"\",\"zerolinecolor\":\"white\",\"gridwidth\":2},\"zaxis\":{\"backgroundcolor\":\"#E5ECF6\",\"gridcolor\":\"white\",\"linecolor\":\"white\",\"showbackground\":true,\"ticks\":\"\",\"zerolinecolor\":\"white\",\"gridwidth\":2}},\"shapedefaults\":{\"line\":{\"color\":\"#2a3f5f\"}},\"annotationdefaults\":{\"arrowcolor\":\"#2a3f5f\",\"arrowhead\":0,\"arrowwidth\":1},\"geo\":{\"bgcolor\":\"white\",\"landcolor\":\"#E5ECF6\",\"subunitcolor\":\"white\",\"showland\":true,\"showlakes\":true,\"lakecolor\":\"white\"},\"title\":{\"x\":0.05},\"mapbox\":{\"style\":\"light\"}}}},                        {\"responsive\": true}                    ).then(function(){\n",
       "                            \n",
       "var gd = document.getElementById('2653f93b-1015-4cd0-95d7-aef48516b055');\n",
       "var x = new MutationObserver(function (mutations, observer) {{\n",
       "        var display = window.getComputedStyle(gd).display;\n",
       "        if (!display || display === 'none') {{\n",
       "            console.log([gd, 'removed!']);\n",
       "            Plotly.purge(gd);\n",
       "            observer.disconnect();\n",
       "        }}\n",
       "}});\n",
       "\n",
       "// Listen for the removal of the full notebook cells\n",
       "var notebookContainer = gd.closest('#notebook-container');\n",
       "if (notebookContainer) {{\n",
       "    x.observe(notebookContainer, {childList: true});\n",
       "}}\n",
       "\n",
       "// Listen for the clearing of the current output cell\n",
       "var outputEl = gd.closest('.output');\n",
       "if (outputEl) {{\n",
       "    x.observe(outputEl, {childList: true});\n",
       "}}\n",
       "\n",
       "                        })                };                });            </script>        </div>"
      ]
     },
     "metadata": {},
     "output_type": "display_data"
    }
   ],
   "source": [
    "from methods_models import plot_mae_vs_pca\n",
    "plot_mae_vs_pca(\n",
    "    df_models=df_models,\n",
    "    layout_shared=layout_shared,\n",
    "    scatter_marker_props=scatter_marker_props,\n",
    "    )"
   ]
  },
  {
   "attachments": {},
   "cell_type": "markdown",
   "metadata": {},
   "source": [
    "### Save Data"
   ]
  },
  {
   "cell_type": "code",
   "execution_count": 39,
   "metadata": {},
   "outputs": [],
   "source": [
    "# Deleting cinv matrix of GP model to save disk space\n",
    "\n",
    "for num_pca, row_i in df_models.iterrows():\n",
    "    MA = row_i.ModelAgent\n",
    "    MA.cleanup_for_pickle()"
   ]
  },
  {
   "cell_type": "code",
   "execution_count": 40,
   "metadata": {},
   "outputs": [],
   "source": [
    "data_dict_out = {\n",
    "    \"df_models\": df_models,\n",
    "    \"ModelAgent_Plot\": MA_Plot,\n",
    "    }"
   ]
  },
  {
   "cell_type": "code",
   "execution_count": 41,
   "metadata": {},
   "outputs": [
    {
     "ename": "AssertionError",
     "evalue": "",
     "output_type": "error",
     "traceback": [
      "\u001b[0;31m---------------------------------------------------------------------------\u001b[0m",
      "\u001b[0;31mAssertionError\u001b[0m                            Traceback (most recent call last)",
      "\u001b[0;32m<ipython-input-41-a871fdc9ebee>\u001b[0m in \u001b[0;36m<module>\u001b[0;34m\u001b[0m\n\u001b[0;32m----> 1\u001b[0;31m \u001b[0;32massert\u001b[0m \u001b[0;32mFalse\u001b[0m\u001b[0;34m\u001b[0m\u001b[0;34m\u001b[0m\u001b[0m\n\u001b[0m",
      "\u001b[0;31mAssertionError\u001b[0m: "
     ]
    }
   ],
   "source": [
    "assert False"
   ]
  },
  {
   "cell_type": "code",
   "execution_count": null,
   "metadata": {},
   "outputs": [],
   "source": [
    "# Pickling data ###########################################\n",
    "directory = os.path.join(root_dir, \"out_data\")\n",
    "if not os.path.exists(directory): os.makedirs(directory)\n",
    "with open(os.path.join(directory, \"modelling_data.pickle\"), \"wb\") as fle:\n",
    "    pickle.dump(data_dict_out, fle)\n",
    "# #########################################################"
   ]
  },
  {
   "cell_type": "code",
   "execution_count": null,
   "metadata": {},
   "outputs": [],
   "source": [
    "# #########################################################\n",
    "print(20 * \"# # \")\n",
    "print(\"All done!\")\n",
    "print(\"Run time:\", np.round((time.time() - ti) / 60, 3), \"min\")\n",
    "print(\"model__mine_GP.ipynb\")\n",
    "print(20 * \"# # \")\n",
    "# #########################################################"
   ]
  },
  {
   "cell_type": "raw",
   "metadata": {},
   "source": [
    "\n"
   ]
  }
 ],
 "metadata": {
  "kernelspec": {
   "display_name": "PROJ_irox_oer",
   "language": "python",
   "name": "python3"
  },
  "language_info": {
   "codemirror_mode": {
    "name": "ipython",
    "version": 3
   },
   "file_extension": ".py",
   "mimetype": "text/x-python",
   "name": "python",
   "nbconvert_exporter": "python",
   "pygments_lexer": "ipython3",
   "version": "3.6.10"
  },
  "toc-autonumbering": false,
  "toc-showcode": false,
  "toc-showmarkdowntxt": false,
  "toc-showtags": false
 },
 "nbformat": 4,
 "nbformat_minor": 4
}
