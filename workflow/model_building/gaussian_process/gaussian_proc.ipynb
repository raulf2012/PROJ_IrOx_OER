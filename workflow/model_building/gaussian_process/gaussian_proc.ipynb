{
 "cells": [
  {
   "cell_type": "markdown",
   "metadata": {},
   "source": [
    "# Constructing linear model for OER adsorption energies\n",
    "---\n"
   ],
   "execution_count": null,
   "outputs": []
  },
  {
   "cell_type": "markdown",
   "metadata": {},
   "source": [
    "### Import Modules"
   ],
   "execution_count": null,
   "outputs": []
  },
  {
   "cell_type": "code",
   "execution_count": null,
   "metadata": {},
   "outputs": [],
   "source": [
    "import os\n",
    "print(os.getcwd())\n",
    "import sys\n",
    "import time; ti = time.time()\n",
    "\n",
    "import copy\n",
    "\n",
    "import numpy as np\n",
    "import pandas as pd\n",
    "pd.set_option(\"display.max_columns\", None)\n",
    "# pd.set_option('display.max_rows', None)\n",
    "# pd.options.display.max_colwidth = 100\n",
    "\n",
    "import plotly.graph_objs as go\n",
    "\n",
    "from IPython.display import display\n",
    "\n",
    "# #########################################################\n",
    "from proj_data import (\n",
    "    scatter_marker_props,\n",
    "    layout_shared,\n",
    "    layout_shared,\n",
    "    stoich_color_dict,\n",
    "    font_axis_title_size__pub,\n",
    "    font_tick_labels_size__pub,\n",
    "    scatter_shared_props,\n",
    "    )\n",
    "\n",
    "# #########################################################\n",
    "from methods import (\n",
    "    get_df_features_targets,\n",
    "    get_df_slab,\n",
    "    get_df_features_targets_seoin,\n",
    "    )\n",
    "\n",
    "# #########################################################\n",
    "from methods_models import run_gp_workflow"
   ]
  },
  {
   "cell_type": "code",
   "execution_count": null,
   "metadata": {},
   "outputs": [],
   "source": [
    "sys.path.insert(0, \n",
    "    os.path.join(\n",
    "        os.environ[\"PROJ_irox_oer\"],\n",
    "        \"workflow/model_building\"))\n",
    "\n",
    "from methods_model_building import (\n",
    "    simplify_df_features_targets,\n",
    "    run_kfold_cv_wf,\n",
    "    process_feature_targets_df,\n",
    "    process_pca_analysis,\n",
    "    pca_analysis,\n",
    "    run_regression_wf,\n",
    "    )"
   ]
  },
  {
   "cell_type": "code",
   "execution_count": null,
   "metadata": {},
   "outputs": [],
   "source": [
    "from methods import isnotebook    \n",
    "isnotebook_i = isnotebook()\n",
    "if isnotebook_i:\n",
    "    from tqdm.notebook import tqdm\n",
    "    verbose = True\n",
    "    show_plot = True\n",
    "else:\n",
    "    from tqdm import tqdm\n",
    "    verbose = False\n",
    "    show_plot = False"
   ]
  },
  {
   "cell_type": "code",
   "execution_count": null,
   "metadata": {},
   "outputs": [],
   "source": [
    "root_dir = os.path.join(\n",
    "    os.environ[\"PROJ_irox_oer\"],\n",
    "    \"workflow/model_building/gaussian_process\")"
   ]
  },
  {
   "cell_type": "markdown",
   "metadata": {},
   "source": [
    "### Script Inputs"
   ],
   "execution_count": null,
   "outputs": []
  },
  {
   "cell_type": "code",
   "execution_count": null,
   "metadata": {
    "lines_to_next_cell": 0
   },
   "outputs": [],
   "source": [
    "target_ads_i = \"o\"\n",
    "# target_ads_i = \"oh\"\n",
    "\n",
    "feature_ads_i = \"o\"\n",
    "# feature_ads_i = \"oh\"\n",
    "\n",
    "use_seoin_data = False\n",
    "\n",
    "if use_seoin_data:\n",
    "    feature_ads_i = \"o\""
   ]
  },
  {
   "cell_type": "markdown",
   "metadata": {},
   "source": [
    "### Read Data"
   ],
   "execution_count": null,
   "outputs": []
  },
  {
   "cell_type": "code",
   "execution_count": null,
   "metadata": {},
   "outputs": [],
   "source": [
    "df_features_targets = get_df_features_targets()\n",
    "df_i = df_features_targets\n",
    "\n",
    "# #########################################################\n",
    "df_slab = get_df_slab()\n",
    "\n",
    "# Getting phase > 1 slab ids\n",
    "df_slab_i = df_slab[df_slab.phase > 1]\n",
    "phase_2_slab_ids = df_slab_i.slab_id.tolist()\n",
    "\n",
    "# #########################################################\n",
    "df_seoin = get_df_features_targets_seoin()"
   ]
  },
  {
   "cell_type": "markdown",
   "metadata": {},
   "source": [
    "### Dropping phase 1 slabs"
   ],
   "execution_count": null,
   "outputs": []
  },
  {
   "cell_type": "code",
   "execution_count": null,
   "metadata": {},
   "outputs": [],
   "source": [
    "df_index = df_i.index.to_frame()\n",
    "df_index_i = df_index[\n",
    "    df_index.slab_id.isin(phase_2_slab_ids)\n",
    "    ]\n",
    "\n",
    "if verbose:\n",
    "    print(\"Dropping phase 1 slabs\")\n",
    "df_i = df_i.loc[\n",
    "    df_index_i.index\n",
    "    ]"
   ]
  },
  {
   "cell_type": "raw",
   "metadata": {},
   "source": [
    "\n",
    "\n",
    "\n"
   ],
   "execution_count": null,
   "outputs": []
  },
  {
   "cell_type": "markdown",
   "metadata": {},
   "source": [
    "# -------------------------"
   ],
   "execution_count": null,
   "outputs": []
  },
  {
   "cell_type": "raw",
   "metadata": {},
   "source": [
    "\n",
    "\n",
    "\n"
   ],
   "execution_count": null,
   "outputs": []
  },
  {
   "cell_type": "markdown",
   "metadata": {},
   "source": [
    "### Combining My data with Seoin's"
   ],
   "execution_count": null,
   "outputs": []
  },
  {
   "cell_type": "code",
   "execution_count": null,
   "metadata": {},
   "outputs": [],
   "source": [
    "df_i = df_i.reset_index()\n",
    "\n",
    "df_seoin.index = pd.RangeIndex(\n",
    "    start=df_i.index.max() + 1,\n",
    "    stop=df_i.index.max() + df_seoin.shape[0] + 1,\n",
    "    )\n",
    "\n",
    "df_i[\"source\"] = \"mine\"\n",
    "df_seoin[\"source\"] = \"seoin\"\n",
    "\n",
    "if use_seoin_data:\n",
    "    df_comb = pd.concat([\n",
    "        df_i,\n",
    "        df_seoin,\n",
    "        ], axis=0)\n",
    "else:\n",
    "    df_comb = pd.concat([\n",
    "        df_i,\n",
    "        # df_seoin,\n",
    "        ], axis=0)"
   ]
  },
  {
   "cell_type": "code",
   "execution_count": null,
   "metadata": {},
   "outputs": [],
   "source": [
    "# # TEMP\n",
    "# print(222 * \"TEMP | \")\n",
    "\n",
    "# df_comb = pd.concat([\n",
    "#     # df_i,\n",
    "#     df_seoin,\n",
    "#     ], axis=0)\n",
    "\n",
    "# feature_ads_i = \"o\""
   ]
  },
  {
   "cell_type": "markdown",
   "metadata": {},
   "source": [
    "### Count number of NaN in each column"
   ],
   "execution_count": null,
   "outputs": []
  },
  {
   "cell_type": "code",
   "execution_count": null,
   "metadata": {},
   "outputs": [],
   "source": [
    "data_dict_list = []\n",
    "for col_i in df_comb.columns:\n",
    "\n",
    "    num_nan_i = sum(\n",
    "        df_comb[col_i].isna())\n",
    "\n",
    "    ads_i = None\n",
    "    if col_i[1] in [\"o\", \"oh\", \"ooh\", ]:\n",
    "        tmp = 42\n",
    "        ads_i = col_i[1]\n",
    "\n",
    "    data_dict_i = dict()\n",
    "    data_dict_i[\"col\"] = col_i\n",
    "    data_dict_i[\"num_nan\"] = num_nan_i\n",
    "    data_dict_i[\"col_type\"] = col_i[0]\n",
    "    data_dict_i[\"ads\"] = ads_i\n",
    "    data_dict_list.append(data_dict_i)\n",
    "\n",
    "df_nan = pd.DataFrame(data_dict_list)\n",
    "df_nan = df_nan[df_nan.col_type == \"features\"]\n",
    "df_nan = df_nan[df_nan.ads == \"o\"]\n",
    "\n",
    "\n",
    "df_nan.sort_values(\"num_nan\", ascending=False)"
   ]
  },
  {
   "cell_type": "code",
   "execution_count": null,
   "metadata": {},
   "outputs": [],
   "source": [
    "# df_comb = df_comb.drop(columns=[\n",
    "#     # ('features', 'o', 'Ir_bader'),\n",
    "#     # ('features', 'o', 'O_bader'),\n",
    "\n",
    "#     # ('features', 'o', 'p_band_center'),\n",
    "\n",
    "#     ('features', 'o', 'Ir*O_bader/ir_o_mean'),\n",
    "#     ('features', 'o', 'Ir*O_bader'),\n",
    "#     # ('features', 'o', 'Ir_magmom'),\n",
    "#     # ('features', 'o', 'O_magmom'),\n",
    "\n",
    "#     # ('features', 'o', 'ir_o_std'),\n",
    "#     # ('features', 'o', 'octa_vol'),\n",
    "#     # ('features', 'o', 'ir_o_mean'),\n",
    "#     # ('features', 'o', 'active_o_metal_dist'),\n",
    "#     # ('features', 'o', 'angle_O_Ir_surf_norm'),\n",
    "\n",
    "#     # ('dH_bulk', ''),\n",
    "#     # ('volume_pa', ''),\n",
    "#     # ('bulk_oxid_state', ''),\n",
    "#     # ('effective_ox_state', ''),\n",
    "\n",
    "#     ],\n",
    "\n",
    "#     errors='ignore',\n",
    "#     )"
   ]
  },
  {
   "cell_type": "code",
   "execution_count": null,
   "metadata": {},
   "outputs": [],
   "source": [
    "# df_comb[\"features\"].columns.tolist()\n",
    "\n",
    "# df_comb.columns.tolist()"
   ]
  },
  {
   "cell_type": "code",
   "execution_count": null,
   "metadata": {},
   "outputs": [],
   "source": [
    "# assert False"
   ]
  },
  {
   "cell_type": "code",
   "execution_count": null,
   "metadata": {},
   "outputs": [],
   "source": [
    "df_comb = df_comb[[\n",
    "\n",
    "    (\"data\", \"stoich\", \"\"),\n",
    "\n",
    "    # (\"compenv\", \"\", \"\"),\n",
    "    # (\"slab_id\", \"\", \"\"),\n",
    "    # (\"active_site\", \"\", \"\"),\n",
    "\n",
    "    (\"targets\", \"g_o\", \"\"),\n",
    "    (\"targets\", \"g_oh\", \"\"),\n",
    "    # (\"targets\", \"e_o\", \"\"),\n",
    "    # (\"targets\", \"e_oh\", \"\"),\n",
    "    # (\"targets\", \"g_o_m_oh\", \"\"),\n",
    "    # (\"targets\", \"e_o_m_oh\", \"\"),\n",
    "\n",
    "    # (\"features\", \"oh\", \"O_magmom\"),\n",
    "    # (\"features\", \"oh\", \"Ir_magmom\"),\n",
    "    # (\"features\", \"oh\", \"active_o_metal_dist\"),\n",
    "    # (\"features\", \"oh\", \"angle_O_Ir_surf_norm\"),\n",
    "    # (\"features\", \"oh\", \"ir_o_mean\"),\n",
    "    # (\"features\", \"oh\", \"ir_o_std\"),\n",
    "    # (\"features\", \"oh\", \"octa_vol\"),\n",
    "\n",
    "\n",
    "\n",
    "\n",
    "\n",
    "    (\"features\", \"o\", \"O_magmom\"),\n",
    "    (\"features\", \"o\", \"Ir_magmom\"),\n",
    "    (\"features\", \"o\", \"Ir_bader\"),\n",
    "    (\"features\", \"o\", \"O_bader\"),\n",
    "    (\"features\", \"o\", \"active_o_metal_dist\"),\n",
    "    (\"features\", \"o\", \"angle_O_Ir_surf_norm\"),\n",
    "    (\"features\", \"o\", \"ir_o_mean\"),\n",
    "    (\"features\", \"o\", \"ir_o_std\"),\n",
    "    (\"features\", \"o\", \"octa_vol\"),\n",
    "    (\"features\", \"o\", \"p_band_center\"),\n",
    "\n",
    "    (\"features\", \"dH_bulk\", \"\"),\n",
    "    (\"features\", \"volume_pa\", \"\"),\n",
    "    (\"features\", \"bulk_oxid_state\", \"\"),\n",
    "    (\"features\", \"effective_ox_state\", \"\"),\n",
    "\n",
    "\n",
    "\n",
    "\n",
    "\n",
    "    # (\"features_pre_dft\", \"active_o_metal_dist__pre\", \"\"),\n",
    "    # (\"features_pre_dft\", \"ir_o_mean__pre\", \"\"),\n",
    "    # (\"features_pre_dft\", \"ir_o_std__pre\", \"\"),\n",
    "    # (\"features_pre_dft\", \"octa_vol__pre\", \"\"),\n",
    "\n",
    "    # (\"source\", \"\", \"\"),\n",
    "\n",
    "    ]]"
   ]
  },
  {
   "cell_type": "code",
   "execution_count": null,
   "metadata": {},
   "outputs": [],
   "source": [
    "# # Simple Plotly Plot\n",
    "# import plotly.graph_objs as go\n",
    "\n",
    "# x_array = df_comb[\"features\"][\"effective_ox_state\"].tolist()\n",
    "# y_array = df_comb[\"targets\"][\"g_oh\"].tolist()\n",
    "\n",
    "# trace = go.Scatter(\n",
    "#     x=x_array,\n",
    "#     y=y_array,\n",
    "#     mode=\"markers\",\n",
    "#     )\n",
    "# data = [trace]\n",
    "\n",
    "# fig = go.Figure(data=data)\n",
    "# fig.show()"
   ]
  },
  {
   "cell_type": "code",
   "execution_count": null,
   "metadata": {},
   "outputs": [],
   "source": [
    "df_j = simplify_df_features_targets(\n",
    "    df_comb,\n",
    "    target_ads=target_ads_i,\n",
    "    feature_ads=feature_ads_i,\n",
    "    )\n",
    "\n",
    "df_format = df_features_targets[(\"format\", \"color\", \"stoich\", )]"
   ]
  },
  {
   "cell_type": "markdown",
   "metadata": {},
   "source": [
    "### Creating pre-DFT features"
   ],
   "execution_count": null,
   "outputs": []
  },
  {
   "cell_type": "code",
   "execution_count": null,
   "metadata": {},
   "outputs": [],
   "source": [
    "# pre_dft_features = True\n",
    "pre_dft_features = False\n",
    "\n",
    "if pre_dft_features:\n",
    "    df_j = df_j_2"
   ]
  },
  {
   "cell_type": "code",
   "execution_count": null,
   "metadata": {},
   "outputs": [],
   "source": [
    "# if False:\n",
    "if pre_dft_features:\n",
    "    if verbose:\n",
    "        print(\n",
    "            \"Feature columns available:\"\n",
    "            \"\\n\",\n",
    "            20 * \"-\",\n",
    "            sep=\"\")\n",
    "        tmp = [print(i) for i in list(df_j[\"features\"].columns)]\n",
    "\n",
    "    cols_to_use = list(df_j[\"features\"].columns)"
   ]
  },
  {
   "cell_type": "markdown",
   "metadata": {},
   "source": [
    "### Single feature models"
   ],
   "execution_count": null,
   "outputs": []
  },
  {
   "cell_type": "code",
   "execution_count": null,
   "metadata": {},
   "outputs": [],
   "source": [
    "gp_settings = {\n",
    "    \"noise\": 0.02542,\n",
    "    # \"noise\": 0.12542,\n",
    "    }\n",
    "\n",
    "# noise_default = 0.01  # Regularisation parameter.\n",
    "\n",
    "# Length scale parameter\n",
    "# sigma_l_default = 0.8  # Original\n",
    "sigma_l_default = 1.8  # Length scale parameter\n",
    "\n",
    "sigma_f_default = 0.2337970892240513  # Scaling parameter.\n",
    "\n",
    "\n",
    "\n",
    "\n",
    "# alpha_default = 2.04987167  # Alpha parameter.\n",
    "\n",
    "kdict = [\n",
    "\n",
    "    # Always works better with just one kernel\n",
    "\n",
    "    # Guassian Kernel (RBF)\n",
    "    {\n",
    "        'type': 'gaussian',\n",
    "        'dimension': 'single',\n",
    "        'width': sigma_l_default,\n",
    "        'scaling': sigma_f_default,\n",
    "        'scaling_bounds': ((0.0001, 10.),),\n",
    "        },\n",
    "\n",
    "    # {\n",
    "    #     'type': 'gaussian',\n",
    "    #     'dimension': 'single',\n",
    "    #     'width': sigma_l_default / 1.5,\n",
    "    #     'scaling': sigma_f_default / 1.5,\n",
    "    #     'bounds': ((0.0001, 10.),),\n",
    "    #     'scaling_bounds': ((0.0001, 10.),),\n",
    "    #     },\n",
    "\n",
    "    ]"
   ]
  },
  {
   "cell_type": "markdown",
   "metadata": {},
   "source": [
    "### Random Features"
   ],
   "execution_count": null,
   "outputs": []
  },
  {
   "cell_type": "code",
   "execution_count": null,
   "metadata": {},
   "outputs": [],
   "source": [
    "if False:\n",
    "    # TEMP\n",
    "    print(20 * \"RANDOM FEATURES | \")\n",
    "    print(\"\")\n",
    "    print(222 * \"TEMP | \")\n",
    "\n",
    "    num_feats = 10\n",
    "    df_feats = pd.DataFrame(\n",
    "        np.random.rand(df_j.shape[0], num_feats),\n",
    "        index=df_j.index,\n",
    "        columns=pd.MultiIndex.from_product([[\"features\", ], range(num_feats)]),\n",
    "        )\n",
    "\n",
    "    df_j = pd.concat([\n",
    "        df_feats, df_j[[\"targets\"]],\n",
    "        ], axis=1)\n",
    "\n",
    "    cols_to_use = list(range(num_feats))"
   ]
  },
  {
   "cell_type": "code",
   "execution_count": null,
   "metadata": {},
   "outputs": [],
   "source": [
    "cols_to_use = df_j[\"features\"].columns.tolist()\n",
    "\n",
    "if True:\n",
    "    data_dict = dict()\n",
    "    for num_pca_i in range(1, len(cols_to_use) + 1, 1):\n",
    "        if verbose:\n",
    "            print(\"\")\n",
    "            print(40 * \"*\")\n",
    "            print(num_pca_i)\n",
    "\n",
    "        # #####################################################\n",
    "        out_dict = run_kfold_cv_wf(\n",
    "            df_features_targets=df_j,\n",
    "            cols_to_use=cols_to_use,\n",
    "            run_pca=True,\n",
    "            num_pca_comp=num_pca_i,\n",
    "            k_fold_partition_size=30,\n",
    "            # k_fold_partition_size=5,\n",
    "            model_workflow=run_gp_workflow,\n",
    "            model_settings=dict(\n",
    "                gp_settings=gp_settings,\n",
    "                kdict=kdict,\n",
    "                ),\n",
    "            )\n",
    "        # #####################################################\n",
    "        df_target_pred = out_dict[\"df_target_pred\"]\n",
    "        MAE = out_dict[\"MAE\"]\n",
    "        R2 = out_dict[\"R2\"]\n",
    "        PCA = out_dict[\"pca\"]\n",
    "        regression_model_list = out_dict[\"regression_model_list\"]\n",
    "\n",
    "        df_target_pred_on_train = out_dict[\"df_target_pred_on_train\"]\n",
    "        MAE_pred_on_train = out_dict[\"MAE_pred_on_train\"]\n",
    "        RM_2 = out_dict[\"RM_2\"]\n",
    "        # #####################################################\n",
    "\n",
    "        if verbose:\n",
    "            print(\n",
    "                \"MAE: \",\n",
    "                np.round(MAE, 5),\n",
    "                \" eV\",\n",
    "                sep=\"\")\n",
    "\n",
    "            print(\n",
    "                \"R2: \",\n",
    "                np.round(R2, 5),\n",
    "                sep=\"\")\n",
    "\n",
    "            print(\n",
    "                \"MAE (predicting on train set): \",\n",
    "                np.round(MAE_pred_on_train, 5),\n",
    "                sep=\"\")\n",
    "\n",
    "        # #####################################################\n",
    "        data_dict_i = dict()\n",
    "        # #####################################################\n",
    "        data_dict_i[\"df_target_pred\"] = df_target_pred\n",
    "        data_dict_i[\"MAE\"] = MAE\n",
    "        data_dict_i[\"R2\"] = R2\n",
    "        data_dict_i[\"PCA\"] = PCA\n",
    "        # #####################################################\n",
    "        data_dict[num_pca_i] = data_dict_i\n",
    "        # #####################################################"
   ]
  },
  {
   "cell_type": "code",
   "execution_count": null,
   "metadata": {},
   "outputs": [],
   "source": [
    "# regression_model_list[3].gp_model"
   ]
  },
  {
   "cell_type": "markdown",
   "metadata": {},
   "source": [
    "### Plotting in-fold predictions"
   ],
   "execution_count": null,
   "outputs": []
  },
  {
   "cell_type": "code",
   "execution_count": null,
   "metadata": {},
   "outputs": [],
   "source": [
    "# data_dict_i = data_dict[\n",
    "#     num_pca_best\n",
    "#     ]\n",
    "\n",
    "# df_target_pred = data_dict_i[\"df_target_pred\"]\n",
    "df_target_pred = df_target_pred_on_train\n",
    "# data_dict_i[\"df_target_pred\"]\n",
    "\n",
    "max_val = df_target_pred[[\"y\", \"y_pred\"]].max().max()\n",
    "min_val = df_target_pred[[\"y\", \"y_pred\"]].min().min()\n",
    "\n",
    "\n",
    "# #########################################################\n",
    "color_list = []\n",
    "# #########################################################\n",
    "for ind_i, row_i in df_target_pred.iterrows():\n",
    "    # #####################################################\n",
    "    row_data_i = df_comb.loc[ind_i]\n",
    "    # #####################################################\n",
    "    stoich_i = row_data_i[(\"data\", \"stoich\", \"\", )]\n",
    "    # #####################################################\n",
    "    color_i = stoich_color_dict.get(stoich_i, \"red\")\n",
    "    color_list.append(color_i)\n",
    "# #########################################################\n",
    "df_target_pred[\"color\"] = color_list\n",
    "# #########################################################\n",
    "\n",
    "\n",
    "\n",
    "dd = 0.1\n",
    "\n",
    "trace_parity = go.Scatter(\n",
    "    y=[min_val - 2 * dd, max_val + 2 * dd],\n",
    "    x=[min_val - 2 * dd, max_val + 2 * dd],\n",
    "    mode=\"lines\",\n",
    "    name=\"Parity line\",\n",
    "    line_color=\"black\",\n",
    "    )\n",
    "\n",
    "\n",
    "\n",
    "\n",
    "\n",
    "trace_i = go.Scatter(\n",
    "    y=df_target_pred[\"y\"],\n",
    "    x=df_target_pred[\"y_pred\"],\n",
    "    mode=\"markers\",\n",
    "    name=\"CV Regression\",\n",
    "    # opacity=0.8,\n",
    "    opacity=1.,\n",
    "\n",
    "    marker=dict(\n",
    "        color=df_target_pred[\"color\"],\n",
    "        **scatter_marker_props.to_plotly_json(),\n",
    "        ),\n",
    "    )"
   ]
  },
  {
   "cell_type": "code",
   "execution_count": null,
   "metadata": {},
   "outputs": [],
   "source": [
    "max_val = df_target_pred[[\"y\", \"y_pred\"]].max().max()\n",
    "min_val = df_target_pred[[\"y\", \"y_pred\"]].min().min()\n",
    "\n",
    "dd = 0.1\n",
    "\n",
    "layout_mine = go.Layout(\n",
    "\n",
    "    showlegend=True,\n",
    "\n",
    "    yaxis=go.layout.YAxis(\n",
    "        range=[min_val - dd, max_val + dd],\n",
    "        title=dict(\n",
    "            text=\"Simulated \u0394G<sub>*{}</sub>\".format(feature_ads_i.upper()),\n",
    "            ),\n",
    "        ),\n",
    "\n",
    "    xaxis=go.layout.XAxis(\n",
    "        range=[min_val - dd, max_val + dd],\n",
    "        title=dict(\n",
    "            text=\"Predicted \u0394G<sub>*{}</sub>\".format(feature_ads_i.upper()),\n",
    "            ),\n",
    "        ),\n",
    "\n",
    "    )\n",
    "\n",
    "\n",
    "# #########################################################\n",
    "layout_shared_i = copy.deepcopy(layout_shared)\n",
    "layout_shared_i = layout_shared_i.update(layout_mine)\n",
    "\n",
    "# data = [trace_parity, trace_i, trace_j]\n",
    "data = [trace_parity, trace_i, ]\n",
    "\n",
    "fig = go.Figure(data=data, layout=layout_shared_i)\n",
    "if show_plot:\n",
    "    fig.show()"
   ]
  },
  {
   "cell_type": "markdown",
   "metadata": {},
   "source": [
    "## Breaking down PCA stats"
   ],
   "execution_count": null,
   "outputs": []
  },
  {
   "cell_type": "code",
   "execution_count": null,
   "metadata": {},
   "outputs": [],
   "source": [
    "# PCA = data_dict[len(cols_to_use)][\"PCA\"]\n",
    "PCA = data_dict[3][\"PCA\"]\n",
    "\n",
    "if verbose:\n",
    "    print(\"Explained variance percentage\")\n",
    "    print(40 * \"-\")\n",
    "    tmp = [print(100 * i) for i in PCA.explained_variance_ratio_]\n",
    "    print(\"\")\n",
    "\n",
    "df_pca_comp = pd.DataFrame(\n",
    "    abs(PCA.components_),\n",
    "    # columns=list(df_j[\"features\"].columns),\n",
    "    columns=cols_to_use,\n",
    "    )\n",
    "\n",
    "if verbose:\n",
    "    display(df_pca_comp)"
   ]
  },
  {
   "cell_type": "code",
   "execution_count": null,
   "metadata": {},
   "outputs": [],
   "source": [
    "if verbose:\n",
    "    for i in range(df_pca_comp.shape[0]):\n",
    "        print(40 * \"-\")\n",
    "        print(i)\n",
    "        print(40 * \"-\")\n",
    "\n",
    "        df_pca_comp_i = df_pca_comp.loc[i].sort_values(ascending=False)\n",
    "\n",
    "        print(df_pca_comp_i.iloc[0:4].to_string())\n",
    "        print(\"\")"
   ]
  },
  {
   "cell_type": "code",
   "execution_count": null,
   "metadata": {},
   "outputs": [],
   "source": [
    "data_dict_list = []\n",
    "for num_pca_i, dict_i in data_dict.items():\n",
    "\n",
    "    MAE_i = dict_i[\"MAE\"]\n",
    "    R2_i = dict_i[\"R2\"]\n",
    "\n",
    "    # #####################################################\n",
    "    data_dict_i = dict()\n",
    "    # #####################################################\n",
    "    data_dict_i[\"num_pca\"] = num_pca_i\n",
    "    data_dict_i[\"MAE\"] = MAE_i\n",
    "    data_dict_i[\"R2\"] = R2_i\n",
    "    # #####################################################\n",
    "    data_dict_list.append(data_dict_i)\n",
    "    # #####################################################\n",
    "\n",
    "# #########################################################\n",
    "df = pd.DataFrame(data_dict_list)\n",
    "df = df.set_index(\"num_pca\")\n",
    "# #########################################################"
   ]
  },
  {
   "cell_type": "code",
   "execution_count": null,
   "metadata": {},
   "outputs": [],
   "source": [
    "layout_mine = go.Layout(\n",
    "\n",
    "    showlegend=False,\n",
    "\n",
    "    yaxis=go.layout.YAxis(\n",
    "        title=dict(\n",
    "            text=\"K-Fold Cross Validated MAE\",\n",
    "            ),\n",
    "        ),\n",
    "\n",
    "    xaxis=go.layout.XAxis(\n",
    "        title=dict(\n",
    "            text=\"Num PCA Components\",\n",
    "            ),\n",
    "        ),\n",
    "\n",
    "    )\n",
    "\n",
    "\n",
    "# #########################################################\n",
    "layout_shared_i = layout_shared.update(layout_mine)"
   ]
  },
  {
   "cell_type": "code",
   "execution_count": null,
   "metadata": {},
   "outputs": [],
   "source": [
    "trace_i = go.Scatter(\n",
    "    x=df.index,\n",
    "    y=df.MAE,\n",
    "    mode=\"markers\",\n",
    "\n",
    "    marker=dict(\n",
    "        **scatter_marker_props.to_plotly_json(),\n",
    "        ),\n",
    "\n",
    "    )\n",
    "\n",
    "data = [trace_i, ]\n",
    "\n",
    "fig = go.Figure(\n",
    "    data=data,\n",
    "    layout=layout_shared_i,\n",
    "    )\n",
    "\n",
    "if show_plot:\n",
    "    fig.show()"
   ]
  },
  {
   "cell_type": "code",
   "execution_count": null,
   "metadata": {},
   "outputs": [],
   "source": [
    "from plotting.my_plotly import my_plotly_plot\n",
    "\n",
    "my_plotly_plot(\n",
    "    figure=fig,\n",
    "    plot_name=\"MAE_vs_PCA_comp\",\n",
    "    save_dir=root_dir,\n",
    "    write_html=True,\n",
    "    write_pdf=True,\n",
    "    try_orca_write=True,\n",
    "    )"
   ]
  },
  {
   "cell_type": "markdown",
   "metadata": {},
   "source": [
    "## Plotting the best model (optimal num PCA components)"
   ],
   "execution_count": null,
   "outputs": []
  },
  {
   "cell_type": "code",
   "execution_count": null,
   "metadata": {},
   "outputs": [],
   "source": [
    "num_pca_best = 3\n",
    "# num_pca_best = 1\n",
    "\n",
    "# num_pca_best = 11"
   ]
  },
  {
   "cell_type": "code",
   "execution_count": null,
   "metadata": {},
   "outputs": [],
   "source": [
    "data_dict_i = data_dict[\n",
    "    num_pca_best\n",
    "    ]\n",
    "\n",
    "df_target_pred = data_dict_i[\"df_target_pred\"]\n",
    "\n",
    "max_val = df_target_pred[[\"y\", \"y_pred\"]].max().max()\n",
    "min_val = df_target_pred[[\"y\", \"y_pred\"]].min().min()"
   ]
  },
  {
   "cell_type": "code",
   "execution_count": null,
   "metadata": {},
   "outputs": [],
   "source": [
    "color_list = []\n",
    "for ind_i, row_i in df_target_pred.iterrows():\n",
    "    row_data_i = df_comb.loc[ind_i]\n",
    "    stoich_i = row_data_i[(\"data\", \"stoich\", \"\", )]\n",
    "    color_i = stoich_color_dict.get(stoich_i, \"red\")\n",
    "    color_list.append(color_i)\n",
    "df_target_pred[\"color\"] = color_list"
   ]
  },
  {
   "cell_type": "code",
   "execution_count": null,
   "metadata": {},
   "outputs": [],
   "source": [
    "dd = 0.1\n",
    "\n",
    "trace_parity = go.Scatter(\n",
    "    y=[min_val - 2 * dd, max_val + 2 * dd],\n",
    "    x=[min_val - 2 * dd, max_val + 2 * dd],\n",
    "    mode=\"lines\",\n",
    "    name=\"Parity line\",\n",
    "    line_color=\"black\",\n",
    "    )"
   ]
  },
  {
   "cell_type": "code",
   "execution_count": null,
   "metadata": {},
   "outputs": [],
   "source": [
    "trace_i = go.Scatter(\n",
    "    y=df_target_pred[\"y\"],\n",
    "    x=df_target_pred[\"y_pred\"],\n",
    "    mode=\"markers\",\n",
    "    name=\"CV Regression\",\n",
    "    # opacity=0.8,\n",
    "    opacity=1.,\n",
    "\n",
    "    marker=dict(\n",
    "        color=df_target_pred[\"color\"],\n",
    "        # color=\"grey\",\n",
    "        **scatter_marker_props.to_plotly_json(),\n",
    "        ),\n",
    "    )"
   ]
  },
  {
   "cell_type": "markdown",
   "metadata": {},
   "source": [
    "# In-fold model (trained on all data, no test/train split)"
   ],
   "execution_count": null,
   "outputs": []
  },
  {
   "cell_type": "code",
   "execution_count": null,
   "metadata": {},
   "outputs": [],
   "source": [
    "# df_j = df_j.dropna()"
   ]
  },
  {
   "cell_type": "code",
   "execution_count": null,
   "metadata": {},
   "outputs": [],
   "source": [
    "out_dict = run_regression_wf(\n",
    "    df_features_targets=df_j,\n",
    "    cols_to_use=cols_to_use,\n",
    "    df_format=df_format,\n",
    "\n",
    "    run_pca=True,\n",
    "\n",
    "    num_pca_comp=num_pca_best,\n",
    "    model_workflow=run_gp_workflow,\n",
    "\n",
    "    # model_settings=None,\n",
    "    model_settings=dict(\n",
    "        gp_settings=gp_settings,\n",
    "        kdict=kdict,\n",
    "        ),\n",
    "\n",
    "    )\n",
    "\n",
    "df_target_pred = out_dict[\"df_target_pred\"]\n",
    "MAE = out_dict[\"MAE\"]\n",
    "R2 = out_dict[\"R2\"]\n",
    "\n",
    "if verbose:\n",
    "    print(\"MAE:\", MAE)\n",
    "    print(\"R2:\", R2)"
   ]
  },
  {
   "cell_type": "code",
   "execution_count": null,
   "metadata": {},
   "outputs": [],
   "source": [
    "max_val = df_target_pred[[\"y\", \"y_pred\"]].max().max()\n",
    "min_val = df_target_pred[[\"y\", \"y_pred\"]].min().min()\n",
    "\n",
    "dd = 0.1\n",
    "\n",
    "layout_mine = go.Layout(\n",
    "\n",
    "    showlegend=True,\n",
    "\n",
    "    yaxis=go.layout.YAxis(\n",
    "        range=[min_val - dd, max_val + dd],\n",
    "        title=dict(\n",
    "            text=\"Simulated \u0394G<sub>*{}</sub>\".format(target_ads_i.upper()),\n",
    "            ),\n",
    "        ),\n",
    "\n",
    "    xaxis=go.layout.XAxis(\n",
    "        range=[min_val - dd, max_val + dd],\n",
    "        title=dict(\n",
    "            text=\"Predicted \u0394G<sub>*{}</sub>\".format(target_ads_i.upper()),\n",
    "            ),\n",
    "        ),\n",
    "\n",
    "    )\n",
    "\n",
    "\n",
    "# #########################################################\n",
    "layout_shared = layout_shared.update(layout_mine)"
   ]
  },
  {
   "cell_type": "code",
   "execution_count": null,
   "metadata": {},
   "outputs": [],
   "source": [
    "color_list = []\n",
    "for ind_i, row_i in df_target_pred.iterrows():\n",
    "    row_data_i = df_comb.loc[ind_i]\n",
    "    stoich_i = row_data_i[(\"data\", \"stoich\", \"\", )]\n",
    "    color_i = stoich_color_dict.get(stoich_i, \"red\")\n",
    "    color_list.append(color_i)\n",
    "df_target_pred[\"color\"] = color_list"
   ]
  },
  {
   "cell_type": "code",
   "execution_count": null,
   "metadata": {},
   "outputs": [],
   "source": [
    "trace_j = go.Scatter(\n",
    "    y=df_target_pred[\"y\"],\n",
    "    x=df_target_pred[\"y_pred\"],\n",
    "    mode=\"markers\",\n",
    "    opacity=0.8,\n",
    "    name=\"In-fold Regression\",\n",
    "\n",
    "    marker=dict(\n",
    "        color=df_target_pred[\"color\"],\n",
    "        **scatter_marker_props.to_plotly_json(),\n",
    "        ),\n",
    "\n",
    "    )\n",
    "\n",
    "data = [trace_parity, trace_i, trace_j]\n",
    "\n",
    "fig = go.Figure(data=data, layout=layout_shared)\n",
    "if show_plot:\n",
    "    fig.show()"
   ]
  },
  {
   "cell_type": "code",
   "execution_count": null,
   "metadata": {},
   "outputs": [],
   "source": [
    "tmp = fig.layout.update(\n",
    "    go.Layout(\n",
    "\n",
    "        showlegend=False,\n",
    "\n",
    "        width=12 * 37.795275591,\n",
    "        height=12 / 1.61803398875 * 37.795275591,\n",
    "\n",
    "        margin=go.layout.Margin(\n",
    "            b=10, l=10,\n",
    "            r=10, t=10,\n",
    "            ),\n",
    "\n",
    "        xaxis=go.layout.XAxis(\n",
    "            tickfont=go.layout.xaxis.Tickfont(\n",
    "                size=font_tick_labels_size__pub,\n",
    "                ),\n",
    "\n",
    "            title=dict(\n",
    "                # text=\"Ir Effective Oxidation State\",\n",
    "                font=dict(\n",
    "                    size=font_axis_title_size__pub,\n",
    "                    ),\n",
    "                )\n",
    "            ),\n",
    "        yaxis=go.layout.YAxis(\n",
    "            tickfont=go.layout.yaxis.Tickfont(\n",
    "                size=font_tick_labels_size__pub,\n",
    "                ),\n",
    "\n",
    "            title=dict(\n",
    "                # text=\"\u0394G<sub>OH</sub> (eV)\",\n",
    "                font=dict(\n",
    "                    size=font_axis_title_size__pub,\n",
    "                    ),\n",
    "                )\n",
    "            ),\n",
    "\n",
    "        )\n",
    "    )\n",
    "\n",
    "fig_cpy = copy.deepcopy(fig)\n",
    "\n",
    "\n",
    "data = [trace_parity, trace_i, ]\n",
    "\n",
    "fig_2 = go.Figure(data=data, layout=fig.layout)\n",
    "\n",
    "\n",
    "# fig_2"
   ]
  },
  {
   "cell_type": "code",
   "execution_count": null,
   "metadata": {},
   "outputs": [],
   "source": [
    "scatter_shared_props_cpy = copy.deepcopy(scatter_shared_props)\n",
    "\n",
    "tmp = scatter_shared_props_cpy.update(\n",
    "    marker=dict(\n",
    "        size=8,\n",
    "        )\n",
    "    )\n",
    "\n",
    "tmp = fig_2.update_traces(patch=dict(\n",
    "    scatter_shared_props_cpy.to_plotly_json()\n",
    "    ))"
   ]
  },
  {
   "cell_type": "code",
   "execution_count": null,
   "metadata": {},
   "outputs": [],
   "source": [
    "fig_2"
   ]
  },
  {
   "cell_type": "code",
   "execution_count": null,
   "metadata": {},
   "outputs": [],
   "source": [
    "from plotting.my_plotly import my_plotly_plot\n",
    "\n",
    "my_plotly_plot(\n",
    "    figure=fig_2,\n",
    "    plot_name=\"GP_model\",\n",
    "    save_dir=root_dir,\n",
    "    write_html=True,\n",
    "    write_pdf=True,\n",
    "    try_orca_write=True,\n",
    "    )"
   ]
  },
  {
   "cell_type": "code",
   "execution_count": null,
   "metadata": {},
   "outputs": [],
   "source": [
    "# #########################################################\n",
    "print(20 * \"# # \")\n",
    "print(\"All done!\")\n",
    "print(\"Run time:\", np.round((time.time() - ti) / 60, 3), \"min\")\n",
    "print(\"gaussian_proc.ipynb\")\n",
    "print(20 * \"# # \")\n",
    "# #########################################################"
   ]
  },
  {
   "cell_type": "raw",
   "metadata": {},
   "source": [
    "\n",
    "\n"
   ],
   "execution_count": null,
   "outputs": []
  }
 ],
 "metadata": {
  "jupytext": {
   "encoding": "# -*- coding: utf-8 -*-",
   "formats": "ipynb,py:light"
  },
  "kernelspec": {
   "display_name": "Python [conda env:PROJ_irox_oer] *",
   "language": "python",
   "name": "conda-env-PROJ_irox_oer-py"
  },
  "language_info": {
   "codemirror_mode": {
    "name": "ipython",
    "version": 3
   },
   "file_extension": ".py",
   "mimetype": "text/x-python",
   "name": "python",
   "nbconvert_exporter": "python",
   "pygments_lexer": "ipython3",
   "version": "3.6.10"
  }
 },
 "nbformat": 4,
 "nbformat_minor": 4
}
