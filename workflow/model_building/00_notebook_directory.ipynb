{
 "cells": [
  {
   "cell_type": "markdown",
   "metadata": {},
   "source": [
    "# Analysis Notebooks:\n",
    "----"
   ]
  },
  {
   "cell_type": "markdown",
   "metadata": {},
   "source": [
    "* Gaussian Process Regression\n",
    "  * Raul's data\n",
    "    * All features\n",
    "      * [model_mine_GP.ipynb](./gaussian_process/my_data/all_features_mine/model_mine_GP.ipynb)\n",
    "    * Same features as Seoin's data's model\n",
    "      * [model_mine_GP.ipynb](./gaussian_process/my_data/all_features_mine/model_mine_GP.ipynb)\n",
    "  * Seoin's data\n",
    "    * [gaussian_proc.ipynb](./gaussian_process/seoin_data/model_seoin_GP.ipynb)\n",
    "\n",
    "* Support Vector Regression\n",
    "  * Raul's data\n",
    "    * All features\n",
    "      * [model_mine_SVR.ipynb](./SVR/my_data/all_features_mine/model_mine_SVR.ipynb)\n",
    "\n",
    "---"
   ]
  },
  {
   "cell_type": "markdown",
   "metadata": {},
   "source": [
    "* SVR model\n",
    "  - 7 PCA components are ideal with an MAE of 0.1876\n",
    " \n",
    "* GP model | Raul's data | All features\n",
    "  - 12 PCA components are ideal with an MAE of 0.1872\n",
    "\n",
    "* GP model | Raul's data | Same features as Seoin\n",
    "  - 7 PCA components are ideal with an MAE of 0.1841\n",
    "\n",
    "* GP model | Seoin's data | \n",
    "  - 9 PCA components are ideal with an MAE of 0.1236"
   ]
  }
 ],
 "metadata": {
  "kernelspec": {
   "display_name": "Python 3",
   "language": "python",
   "name": "python3"
  },
  "language_info": {
   "codemirror_mode": {
    "name": "ipython",
    "version": 3
   },
   "file_extension": ".py",
   "mimetype": "text/x-python",
   "name": "python",
   "nbconvert_exporter": "python",
   "pygments_lexer": "ipython3",
   "version": "3.6.10"
  }
 },
 "nbformat": 4,
 "nbformat_minor": 4
}
