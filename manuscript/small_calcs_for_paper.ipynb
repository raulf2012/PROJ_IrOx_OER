{
 "cells": [
  {
   "cell_type": "markdown",
   "metadata": {},
   "source": [
    "### Import Modules"
   ]
  },
  {
   "cell_type": "code",
   "execution_count": 1,
   "metadata": {
    "jupyter": {
     "source_hidden": true
    }
   },
   "outputs": [],
   "source": [
    "import os\n",
    "import sys\n",
    "\n",
    "import copy\n",
    "import shutil\n",
    "from pathlib import Path\n",
    "from contextlib import contextmanager\n",
    "\n",
    "# import pickle; import os\n",
    "\n",
    "import pickle\n",
    "import  json\n",
    "\n",
    "import pandas as pd\n",
    "import numpy as np\n",
    "\n",
    "from ase import io\n",
    "from ase.visualize import view\n",
    "\n",
    "import plotly.graph_objects as go\n",
    "\n",
    "from pymatgen.io.ase import AseAtomsAdaptor\n",
    "from pymatgen.analysis import local_env\n",
    "\n",
    "# #########################################################\n",
    "from misc_modules.pandas_methods import drop_columns\n",
    "\n",
    "from methods import read_magmom_comp_data\n",
    "\n",
    "import os\n",
    "import sys\n",
    "\n",
    "from IPython.display import display\n",
    "\n",
    "import pandas as pd\n",
    "pd.set_option(\"display.max_columns\", None)\n",
    "pd.options.display.max_colwidth = 20\n",
    "# pd.set_option('display.max_rows', None)\n",
    "\n",
    "# #########################################################\n",
    "from methods import (\n",
    "    get_df_jobs_paths,\n",
    "    get_df_dft,\n",
    "    get_df_job_ids,\n",
    "    get_df_jobs,\n",
    "    get_df_jobs_data,\n",
    "    get_df_slab,\n",
    "    get_df_slab_ids,\n",
    "    get_df_jobs_data_clusters,\n",
    "    get_df_jobs_anal,\n",
    "    get_df_slabs_oh,\n",
    "    get_df_init_slabs,\n",
    "    get_df_magmoms,\n",
    "    get_df_ads,\n",
    "    get_df_atoms_sorted_ind,\n",
    "    get_df_rerun_from_oh,\n",
    "    get_df_slab_simil,\n",
    "    get_df_active_sites,\n",
    "    get_df_features_targets,\n",
    "\n",
    "    get_other_job_ids_in_set,\n",
    "    read_magmom_comp_data,\n",
    "\n",
    "    get_df_coord,\n",
    "    get_df_slabs_to_run,\n",
    "    get_df_features,\n",
    "    )\n",
    "\n",
    "from misc_modules.pandas_methods import reorder_df_columns"
   ]
  },
  {
   "cell_type": "markdown",
   "metadata": {},
   "source": [
    "### Read Data"
   ]
  },
  {
   "cell_type": "code",
   "execution_count": 2,
   "metadata": {
    "jupyter": {
     "source_hidden": true
    }
   },
   "outputs": [],
   "source": [
    "df_dft = get_df_dft()\n",
    "df_job_ids = get_df_job_ids()\n",
    "df_jobs = get_df_jobs(exclude_wsl_paths=True)\n",
    "df_jobs_data = get_df_jobs_data(exclude_wsl_paths=True)\n",
    "df_jobs_data_clusters = get_df_jobs_data_clusters()\n",
    "df_slab = get_df_slab()\n",
    "df_slab_ids = get_df_slab_ids()\n",
    "df_jobs_anal = get_df_jobs_anal()\n",
    "df_jobs_paths = get_df_jobs_paths()\n",
    "df_slabs_oh = get_df_slabs_oh()\n",
    "df_init_slabs = get_df_init_slabs()\n",
    "df_magmoms = get_df_magmoms()\n",
    "df_ads = get_df_ads()\n",
    "df_atoms_sorted_ind = get_df_atoms_sorted_ind()\n",
    "df_rerun_from_oh = get_df_rerun_from_oh()\n",
    "magmom_data_dict = read_magmom_comp_data()\n",
    "df_slab_simil = get_df_slab_simil()\n",
    "df_active_sites = get_df_active_sites()\n",
    "df_features_targets = get_df_features_targets()\n",
    "df_slabs_to_run = get_df_slabs_to_run()\n",
    "df_features = get_df_features()"
   ]
  },
  {
   "cell_type": "raw",
   "metadata": {
    "lines_to_next_cell": 0
   },
   "source": [
    "\n",
    "\n",
    "\n",
    "\n",
    "\n",
    "\n"
   ]
  },
  {
   "cell_type": "markdown",
   "metadata": {},
   "source": [
    "# OER Energetics Quantities"
   ]
  },
  {
   "cell_type": "markdown",
   "metadata": {},
   "source": [
    "## ΔG ranges for *O and *OH"
   ]
  },
  {
   "cell_type": "code",
   "execution_count": 3,
   "metadata": {},
   "outputs": [
    {
     "name": "stdout",
     "output_type": "stream",
     "text": [
      "ΔG_O (min): 1.2617520700000173\n",
      "ΔG_O (max): 4.2574460500000155\n",
      "Range in *O: 2.995693979999998\n",
      "------------------------------\n",
      "ΔG_OH (min): -0.09817798999998151\n",
      "ΔG_OH (max): 2.187095039999975\n",
      "Range in *OH: 2.2852730299999564\n"
     ]
    }
   ],
   "source": [
    "g_o__min = df_features_targets[\"targets\"][\"g_o\"].min()\n",
    "g_o__max = df_features_targets[\"targets\"][\"g_o\"].max()\n",
    "\n",
    "print(\n",
    "    \"ΔG_O (min): \", g_o__min,\n",
    "    \"\\n\",\n",
    "\n",
    "    \"ΔG_O (max): \", g_o__max,\n",
    "    \"\\n\",\n",
    "\n",
    "    \"Range in *O: \", g_o__max - g_o__min,\n",
    "    sep=\"\")\n",
    "\n",
    "\n",
    "print(30 * \"-\")\n",
    "# #########################################################\n",
    "g_oh__min = df_features_targets[\"targets\"][\"g_oh\"].min()\n",
    "g_oh__max = df_features_targets[\"targets\"][\"g_oh\"].max()\n",
    "\n",
    "print(\n",
    "    \"ΔG_OH (min): \", g_oh__min,\n",
    "    \"\\n\",\n",
    "\n",
    "    \"ΔG_OH (max): \", g_oh__max,\n",
    "    \"\\n\",\n",
    "\n",
    "    \"Range in *OH: \", g_oh__max - g_oh__min,\n",
    "    sep=\"\")"
   ]
  },
  {
   "cell_type": "markdown",
   "metadata": {},
   "source": [
    "### Average difference between AB2/3"
   ]
  },
  {
   "cell_type": "code",
   "execution_count": 4,
   "metadata": {},
   "outputs": [],
   "source": [
    "df_AB2 = df_features_targets[df_features_targets.data.stoich == \"AB2\"]\n",
    "df_AB3 = df_features_targets[df_features_targets.data.stoich == \"AB3\"]\n",
    "\n",
    "g_o__ab2_ave = df_AB2.targets.g_o.mean()\n",
    "g_oh__ab2_ave = df_AB2.targets.g_oh.mean()\n",
    "\n",
    "g_o__ab3_ave = df_AB3.targets.g_o.mean()\n",
    "g_oh__ab3_ave = df_AB3.targets.g_oh.mean()"
   ]
  },
  {
   "cell_type": "code",
   "execution_count": 5,
   "metadata": {},
   "outputs": [
    {
     "name": "stdout",
     "output_type": "stream",
     "text": [
      "ave ΔG_O (ab2): 2.0428355398469495\n",
      "ave ΔG_O (ab3): 2.841422071522857\n",
      "ave ΔG_OH (ab2): 0.5778124479591924\n",
      "ave ΔG_OH (ab3): 1.2627504726396066\n"
     ]
    }
   ],
   "source": [
    "print(\"ave ΔG_O (ab2): \", g_o__ab2_ave, sep=\"\")\n",
    "print(\"ave ΔG_O (ab3): \", g_o__ab3_ave, sep=\"\")\n",
    "\n",
    "print(\"ave ΔG_OH (ab2): \", g_oh__ab2_ave, sep=\"\")\n",
    "print(\"ave ΔG_OH (ab3): \", g_oh__ab3_ave, sep=\"\")"
   ]
  },
  {
   "cell_type": "code",
   "execution_count": 6,
   "metadata": {},
   "outputs": [
    {
     "name": "stdout",
     "output_type": "stream",
     "text": [
      "ΔG_O-OH (IrO2): 1.4650230918877571\n",
      "ΔG_O-OH (IrO3): 1.5786715988832505\n",
      "Diff AB2/3: -0.11364850699549334\n"
     ]
    }
   ],
   "source": [
    "print(\n",
    "\n",
    "    \"ΔG_O-OH (IrO2): \",\n",
    "    g_o__ab2_ave - g_oh__ab2_ave,\n",
    "    \"\\n\",\n",
    "\n",
    "    \"ΔG_O-OH (IrO3): \",\n",
    "    g_o__ab3_ave - g_oh__ab3_ave,\n",
    "    \"\\n\",\n",
    "\n",
    "    \"Diff AB2/3: \",\n",
    "    (g_o__ab2_ave - g_oh__ab2_ave) - (g_o__ab3_ave - g_oh__ab3_ave),\n",
    "\n",
    "    sep=\"\")\n"
   ]
  },
  {
   "cell_type": "code",
   "execution_count": 7,
   "metadata": {},
   "outputs": [
    {
     "data": {
      "text/plain": [
       "1.5780000000000003"
      ]
     },
     "execution_count": 7,
     "metadata": {},
     "output_type": "execute_result"
    }
   ],
   "source": [
    "2.841 - 1.263\n",
    "\n",
    "1.5780000000000003"
   ]
  },
  {
   "cell_type": "code",
   "execution_count": 8,
   "metadata": {},
   "outputs": [
    {
     "data": {
      "text/plain": [
       "1.4650000000000003"
      ]
     },
     "execution_count": 8,
     "metadata": {},
     "output_type": "execute_result"
    }
   ],
   "source": [
    "2.043 - 0.578"
   ]
  },
  {
   "cell_type": "code",
   "execution_count": 9,
   "metadata": {},
   "outputs": [
    {
     "name": "stdout",
     "output_type": "stream",
     "text": [
      "ΔΔG_OH (AB3 - AB2): 0.6849380246804142\n",
      "ΔΔG_O (AB3 - AB2): 0.7985865316759075\n",
      "\n",
      "Average AB2/3 difference in *O and *OH: \n",
      "0.7417622781781609\n"
     ]
    }
   ],
   "source": [
    "print(\n",
    "\n",
    "    \"ΔΔG_OH (AB3 - AB2): \",\n",
    "    g_oh__ab3_ave - g_oh__ab2_ave,\n",
    "    \"\\n\",\n",
    "\n",
    "    \"ΔΔG_O (AB3 - AB2): \",\n",
    "    g_o__ab3_ave - g_o__ab2_ave,\n",
    "\n",
    "    sep=\"\")\n",
    "\n",
    "print(\"\")\n",
    "\n",
    "print(\n",
    "    \"Average AB2/3 difference in *O and *OH: \",\n",
    "    \"\\n\",\n",
    "    ((g_o__ab3_ave - g_o__ab2_ave) + (g_oh__ab3_ave - g_oh__ab2_ave)) / 2.,\n",
    "    sep=\"\")"
   ]
  },
  {
   "cell_type": "code",
   "execution_count": 10,
   "metadata": {},
   "outputs": [
    {
     "data": {
      "text/plain": [
       "0.742"
      ]
     },
     "execution_count": 10,
     "metadata": {},
     "output_type": "execute_result"
    }
   ],
   "source": [
    "(0.685 + 0.799) / 2."
   ]
  },
  {
   "cell_type": "code",
   "execution_count": 11,
   "metadata": {},
   "outputs": [
    {
     "data": {
      "text/plain": [
       "1.2617520700000173"
      ]
     },
     "execution_count": 11,
     "metadata": {},
     "output_type": "execute_result"
    }
   ],
   "source": [
    "df_features_targets[\"targets\"][\"g_o\"].min()\n",
    "# df_features_targets[\"targets\"][\"g_o\"].max()\n",
    "\n",
    "# 1.2617520700000173\n",
    "# 4.2574460500000155\n",
    "\n",
    "# -2.995693979999998"
   ]
  },
  {
   "cell_type": "code",
   "execution_count": 12,
   "metadata": {},
   "outputs": [
    {
     "data": {
      "text/plain": [
       "(178,)"
      ]
     },
     "execution_count": 12,
     "metadata": {},
     "output_type": "execute_result"
    }
   ],
   "source": [
    "df_features_targets.index.to_frame().slab_id.unique().shape"
   ]
  },
  {
   "cell_type": "code",
   "execution_count": 13,
   "metadata": {},
   "outputs": [
    {
     "data": {
      "text/plain": [
       "(297,)"
      ]
     },
     "execution_count": 13,
     "metadata": {},
     "output_type": "execute_result"
    }
   ],
   "source": [
    "df_jobs.slab_id.unique().shape"
   ]
  },
  {
   "cell_type": "code",
   "execution_count": 14,
   "metadata": {},
   "outputs": [],
   "source": [
    "row_jobs_o_i = df_jobs.loc['guhenihe_85']\n",
    "active_site_o_i = row_jobs_o_i.active_site"
   ]
  },
  {
   "cell_type": "code",
   "execution_count": 15,
   "metadata": {},
   "outputs": [
    {
     "data": {
      "text/html": [
       "<div>\n",
       "<style scoped>\n",
       "    .dataframe tbody tr th:only-of-type {\n",
       "        vertical-align: middle;\n",
       "    }\n",
       "\n",
       "    .dataframe tbody tr th {\n",
       "        vertical-align: top;\n",
       "    }\n",
       "\n",
       "    .dataframe thead th {\n",
       "        text-align: right;\n",
       "    }\n",
       "</style>\n",
       "<table border=\"1\" class=\"dataframe\">\n",
       "  <thead>\n",
       "    <tr style=\"text-align: right;\">\n",
       "      <th></th>\n",
       "      <th>bulk_id</th>\n",
       "      <th>slab_id</th>\n",
       "      <th>job_id</th>\n",
       "      <th>facet</th>\n",
       "      <th>compenv</th>\n",
       "      <th>job_type</th>\n",
       "      <th>ads</th>\n",
       "      <th>active_site</th>\n",
       "      <th>att_num</th>\n",
       "      <th>rev_num</th>\n",
       "      <th>compenv_origin</th>\n",
       "      <th>submitted</th>\n",
       "      <th>num_revs</th>\n",
       "    </tr>\n",
       "    <tr>\n",
       "      <th>job_id</th>\n",
       "      <th></th>\n",
       "      <th></th>\n",
       "      <th></th>\n",
       "      <th></th>\n",
       "      <th></th>\n",
       "      <th></th>\n",
       "      <th></th>\n",
       "      <th></th>\n",
       "      <th></th>\n",
       "      <th></th>\n",
       "      <th></th>\n",
       "      <th></th>\n",
       "      <th></th>\n",
       "    </tr>\n",
       "  </thead>\n",
       "  <tbody>\n",
       "    <tr>\n",
       "      <th>gupuwulo_72</th>\n",
       "      <td>73nhvjxyxf</td>\n",
       "      <td>momaposi_60</td>\n",
       "      <td>gupuwulo_72</td>\n",
       "      <td>111</td>\n",
       "      <td>sherlock</td>\n",
       "      <td>dos_bader</td>\n",
       "      <td>o</td>\n",
       "      <td>54</td>\n",
       "      <td>1</td>\n",
       "      <td>1</td>\n",
       "      <td>wsl</td>\n",
       "      <td>True</td>\n",
       "      <td>1</td>\n",
       "    </tr>\n",
       "    <tr>\n",
       "      <th>savoputi_64</th>\n",
       "      <td>73nhvjxyxf</td>\n",
       "      <td>momaposi_60</td>\n",
       "      <td>savoputi_64</td>\n",
       "      <td>111</td>\n",
       "      <td>sherlock</td>\n",
       "      <td>oer_adsorbate</td>\n",
       "      <td>o</td>\n",
       "      <td>54</td>\n",
       "      <td>1</td>\n",
       "      <td>1</td>\n",
       "      <td>wsl</td>\n",
       "      <td>True</td>\n",
       "      <td>1</td>\n",
       "    </tr>\n",
       "    <tr>\n",
       "      <th>putabagi_08</th>\n",
       "      <td>73nhvjxyxf</td>\n",
       "      <td>momaposi_60</td>\n",
       "      <td>putabagi_08</td>\n",
       "      <td>111</td>\n",
       "      <td>sherlock</td>\n",
       "      <td>oer_adsorbate</td>\n",
       "      <td>o</td>\n",
       "      <td>NaN</td>\n",
       "      <td>1</td>\n",
       "      <td>1</td>\n",
       "      <td>wsl</td>\n",
       "      <td>True</td>\n",
       "      <td>3</td>\n",
       "    </tr>\n",
       "    <tr>\n",
       "      <th>bipagawa_09</th>\n",
       "      <td>73nhvjxyxf</td>\n",
       "      <td>momaposi_60</td>\n",
       "      <td>bipagawa_09</td>\n",
       "      <td>111</td>\n",
       "      <td>sherlock</td>\n",
       "      <td>oer_adsorbate</td>\n",
       "      <td>o</td>\n",
       "      <td>NaN</td>\n",
       "      <td>1</td>\n",
       "      <td>2</td>\n",
       "      <td>wsl</td>\n",
       "      <td>True</td>\n",
       "      <td>3</td>\n",
       "    </tr>\n",
       "    <tr>\n",
       "      <th>guhenihe_85</th>\n",
       "      <td>73nhvjxyxf</td>\n",
       "      <td>momaposi_60</td>\n",
       "      <td>guhenihe_85</td>\n",
       "      <td>111</td>\n",
       "      <td>sherlock</td>\n",
       "      <td>oer_adsorbate</td>\n",
       "      <td>o</td>\n",
       "      <td>NaN</td>\n",
       "      <td>1</td>\n",
       "      <td>3</td>\n",
       "      <td>wsl</td>\n",
       "      <td>True</td>\n",
       "      <td>3</td>\n",
       "    </tr>\n",
       "  </tbody>\n",
       "</table>\n",
       "</div>"
      ],
      "text/plain": [
       "                bulk_id      slab_id       job_id facet   compenv  \\\n",
       "job_id                                                              \n",
       "gupuwulo_72  73nhvjxyxf  momaposi_60  gupuwulo_72   111  sherlock   \n",
       "savoputi_64  73nhvjxyxf  momaposi_60  savoputi_64   111  sherlock   \n",
       "putabagi_08  73nhvjxyxf  momaposi_60  putabagi_08   111  sherlock   \n",
       "bipagawa_09  73nhvjxyxf  momaposi_60  bipagawa_09   111  sherlock   \n",
       "guhenihe_85  73nhvjxyxf  momaposi_60  guhenihe_85   111  sherlock   \n",
       "\n",
       "                  job_type ads active_site  att_num  rev_num compenv_origin  \\\n",
       "job_id                                                                        \n",
       "gupuwulo_72      dos_bader   o          54        1        1            wsl   \n",
       "savoputi_64  oer_adsorbate   o          54        1        1            wsl   \n",
       "putabagi_08  oer_adsorbate   o         NaN        1        1            wsl   \n",
       "bipagawa_09  oer_adsorbate   o         NaN        1        2            wsl   \n",
       "guhenihe_85  oer_adsorbate   o         NaN        1        3            wsl   \n",
       "\n",
       "             submitted  num_revs  \n",
       "job_id                            \n",
       "gupuwulo_72       True         1  \n",
       "savoputi_64       True         1  \n",
       "putabagi_08       True         3  \n",
       "bipagawa_09       True         3  \n",
       "guhenihe_85       True         3  "
      ]
     },
     "execution_count": 15,
     "metadata": {},
     "output_type": "execute_result"
    }
   ],
   "source": [
    "df = df_jobs\n",
    "df = df[\n",
    "    (df[\"slab_id\"] == \"momaposi_60\") &\n",
    "    (df[\"ads\"] == \"o\") &\n",
    "    # (df[\"\"] == \"\") &\n",
    "    [True for i in range(len(df))]\n",
    "    ]\n",
    "df"
   ]
  },
  {
   "cell_type": "code",
   "execution_count": 16,
   "metadata": {},
   "outputs": [
    {
     "data": {
      "text/plain": [
       "'dft_workflow/run_slabs/run_o_covered/out_data/dft_jobs/sherlock/73nhvjxyxf/111/01_attempt/_01'"
      ]
     },
     "execution_count": 16,
     "metadata": {},
     "output_type": "execute_result"
    }
   ],
   "source": [
    "df_jobs_paths.loc[\"putabagi_08\"].gdrive_path"
   ]
  },
  {
   "cell_type": "code",
   "execution_count": 17,
   "metadata": {},
   "outputs": [],
   "source": [
    "# df_atoms_sorted_ind.loc[\n",
    "#     ('oer_adsorbate', 'sherlock', 'momaposi_60', 'o', 50.0, 1)\n",
    "#     ]"
   ]
  },
  {
   "cell_type": "code",
   "execution_count": 18,
   "metadata": {},
   "outputs": [
    {
     "ename": "AssertionError",
     "evalue": "",
     "output_type": "error",
     "traceback": [
      "\u001b[0;31m---------------------------------------------------------------------------\u001b[0m",
      "\u001b[0;31mAssertionError\u001b[0m                            Traceback (most recent call last)",
      "\u001b[0;32m<ipython-input-18-a871fdc9ebee>\u001b[0m in \u001b[0;36m<module>\u001b[0;34m\u001b[0m\n\u001b[0;32m----> 1\u001b[0;31m \u001b[0;32massert\u001b[0m \u001b[0;32mFalse\u001b[0m\u001b[0;34m\u001b[0m\u001b[0;34m\u001b[0m\u001b[0m\n\u001b[0m",
      "\u001b[0;31mAssertionError\u001b[0m: "
     ]
    }
   ],
   "source": [
    "assert False"
   ]
  },
  {
   "cell_type": "raw",
   "metadata": {},
   "source": [
    "\n",
    "\n"
   ]
  },
  {
   "cell_type": "code",
   "execution_count": null,
   "metadata": {
    "jupyter": {
     "source_hidden": true
    },
    "lines_to_next_cell": 0
   },
   "outputs": [],
   "source": [
    "# def display_df(df, df_name, display_head=True, num_spaces=3):\n",
    "#     print(40 * \"*\")\n",
    "#     print(df_name)\n",
    "#     print(\"df_i.shape:\", df_i.shape)\n",
    "#     print(40 * \"*\")\n",
    "\n",
    "#     if display_head:\n",
    "#         display(df.head())\n",
    "\n",
    "#     print(num_spaces * \"\\n\")\n",
    "\n",
    "# df_list = [\n",
    "#     (\"df_dft\", df_dft),\n",
    "#     (\"df_job_ids\", df_job_ids),\n",
    "#     (\"df_jobs\", df_jobs),\n",
    "#     (\"df_jobs_data\", df_jobs_data),\n",
    "#     (\"df_jobs_data_clusters\", df_jobs_data_clusters),\n",
    "#     (\"df_slab\", df_slab),\n",
    "#     (\"df_slab_ids\", df_slab_ids),\n",
    "#     (\"df_jobs_anal\", df_jobs_anal),\n",
    "#     (\"df_jobs_paths\", df_jobs_paths),\n",
    "#     (\"df_slabs_oh\", df_slabs_oh),\n",
    "#     (\"df_magmoms\", df_magmoms),\n",
    "#     (\"df_ads\", df_ads),\n",
    "#     (\"df_atoms_sorted_ind\", df_atoms_sorted_ind),\n",
    "#     (\"df_rerun_from_oh\", df_rerun_from_oh),\n",
    "#     (\"df_slab_simil\", df_slab_simil),\n",
    "#     (\"df_active_sites\", df_active_sites),\n",
    "#     ]\n",
    "\n",
    "# # for name_i, df_i in df_list:\n",
    "# #     display_df(df_i, name_i)\n",
    "\n",
    "# # print(\"\")\n",
    "# # print(\"\")\n",
    "\n",
    "# # for name_i, df_i in df_list:\n",
    "# #     display_df(\n",
    "# #         df_i,\n",
    "# #         name_i,\n",
    "# #         display_head=False,\n",
    "# #         num_spaces=0)"
   ]
  }
 ],
 "metadata": {
  "jupytext": {
   "formats": "ipynb,py"
  },
  "kernelspec": {
   "display_name": "Python [conda env:PROJ_irox_oer] *",
   "language": "python",
   "name": "conda-env-PROJ_irox_oer-py"
  },
  "language_info": {
   "codemirror_mode": {
    "name": "ipython",
    "version": 3
   },
   "file_extension": ".py",
   "mimetype": "text/x-python",
   "name": "python",
   "nbconvert_exporter": "python",
   "pygments_lexer": "ipython3",
   "version": "3.6.10"
  }
 },
 "nbformat": 4,
 "nbformat_minor": 4
}
